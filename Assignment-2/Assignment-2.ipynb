{
 "cells": [
  {
   "cell_type": "code",
   "execution_count": 14,
   "id": "c0df6c2e-cff2-4e04-8b27-c7cf2889ac0e",
   "metadata": {},
   "outputs": [],
   "source": [
    "import torch\n",
    "import torch.nn as nn\n",
    "import torch.optim as optim\n",
    "import torchvision.transforms as transforms\n",
    "import torchvision.datasets as datasets\n",
    "from torch.utils.data import DataLoader\n",
    "import matplotlib.pyplot as plt\n",
    "import numpy as np\n",
    "from tqdm import tqdm"
   ]
  },
  {
   "cell_type": "code",
   "execution_count": 3,
   "id": "59818963-ac76-446b-a009-e7ed56b3c3e4",
   "metadata": {},
   "outputs": [],
   "source": [
    "# Convert the data to Tensor\n",
    "transform = transforms.ToTensor()"
   ]
  },
  {
   "cell_type": "markdown",
   "id": "f1b4ac2f-9d42-4178-a6b8-cf43bd9e0e05",
   "metadata": {},
   "source": [
    "### Load the CIFAR10 dataset"
   ]
  },
  {
   "cell_type": "code",
   "execution_count": 4,
   "id": "782ebc73-6757-464f-809d-de2545fae3c5",
   "metadata": {},
   "outputs": [
    {
     "name": "stdout",
     "output_type": "stream",
     "text": [
      "Downloading https://www.cs.toronto.edu/~kriz/cifar-10-python.tar.gz to ./data/cifar-10-python.tar.gz\n"
     ]
    },
    {
     "name": "stderr",
     "output_type": "stream",
     "text": [
      "100%|█████████████████████████| 170498071/170498071 [02:58<00:00, 953126.63it/s]\n"
     ]
    },
    {
     "name": "stdout",
     "output_type": "stream",
     "text": [
      "Extracting ./data/cifar-10-python.tar.gz to ./data\n",
      "Files already downloaded and verified\n"
     ]
    }
   ],
   "source": [
    "# Load CIFAR-10 dataset\n",
    "train_data = datasets.CIFAR10(root='./data', train=True, download=True, transform=transform)\n",
    "test_data = datasets.CIFAR10(root='./data', train=False, download=True, transform=transform)\n",
    "train_loader = DataLoader(train_data, batch_size=16, shuffle=True)\n",
    "test_loader = DataLoader(test_data, batch_size=16, shuffle=False)"
   ]
  },
  {
   "cell_type": "code",
   "execution_count": 5,
   "id": "ac2acc6f-4dc1-4fab-9507-cd57da22ac88",
   "metadata": {},
   "outputs": [],
   "source": [
    "class Cifar(nn.Module):\n",
    "    \"\"\"\n",
    "    A simple neural network for classifying FashionMNIST Images. The network has 2 fully connected layers with ReLU activation and\n",
    "    a final layer with 10 output categories.\n",
    "    \"\"\"\n",
    "    def __init__(self, hidden_dim):\n",
    "        super(CifarNN, self).__init__()\n",
    "        self.flatten = nn.Flatten()\n",
    "        self.fc1 = nn.Linear(32 * 32 *3, hidden_dim)\n",
    "        self.relu = nn.ReLU()\n",
    "        self.fc2 = nn.Linear(hidden_dim, hidden_dim)\n",
    "        self.final_layer = nn.Linear(hidden_dim, 10)\n",
    "\n",
    "    def forward(self, x):\n",
    "        x = self.flatten(x)\n",
    "        x = self.fc1(x)\n",
    "        x = self.relu(x)\n",
    "        x = self.fc2(x)\n",
    "        x = self.relu(x)\n",
    "        x = self.final_layer(x)\n",
    "        \n",
    "        return x"
   ]
  },
  {
   "cell_type": "code",
   "execution_count": 6,
   "id": "a817fe0c-2b69-4bae-814f-80bbb731f351",
   "metadata": {},
   "outputs": [],
   "source": [
    "def train_nn(model, train_loader, criterion, optimizer, device):\n",
    "    \"\"\"Function to train the neural network for one epoch\"\"\"\n",
    "    model.train()\n",
    "    running_loss = 0.0\n",
    "    correct_labels = 0\n",
    "    total_labels = 0\n",
    "\n",
    "    for inputs, labels in train_loader:\n",
    "        inputs, labels = inputs.to(device), labels.to(device)\n",
    "        optimizer.zero_grad()\n",
    "        outputs = model(inputs)\n",
    "        loss = criterion(outputs, labels)\n",
    "        loss.backward()\n",
    "        optimizer.step()\n",
    "\n",
    "        running_loss += loss.item()\n",
    "        predicted_labels = torch.argmax(outputs, dim=1)\n",
    "        total_labels += labels.size(0)\n",
    "        correct_labels += torch.sum(predicted_labels == labels).item()\n",
    "\n",
    "    train_loss = running_loss / len(train_loader)\n",
    "    train_accuracy = correct_labels / total_labels\n",
    "    \n",
    "    return train_loss, train_accuracy"
   ]
  },
  {
   "cell_type": "code",
   "execution_count": 7,
   "id": "f25448d3-d84c-4af7-a9a7-c0514381bd28",
   "metadata": {},
   "outputs": [],
   "source": [
    "def evaluate_nn(model, test_loader, criterion, device):\n",
    "    \"\"\"\n",
    "    Function to evaluate the neural network on the test data.\n",
    "    \"\"\"\n",
    "    model.eval()\n",
    "    running_loss = 0.0\n",
    "    correct_labels = 0\n",
    "    total_labels = 0\n",
    "\n",
    "    with torch.no_grad():\n",
    "        for inputs, labels in test_loader:\n",
    "            inputs, labels = inputs.to(device), labels.to(device)\n",
    "            outputs = model(inputs)\n",
    "            loss = criterion(outputs, labels)\n",
    "\n",
    "            running_loss += loss.item()\n",
    "            predicted_labels = torch.argmax(outputs, dim=1)\n",
    "            total_labels += labels.size(0)\n",
    "            correct_labels += torch.sum(predicted_labels == labels).item()\n",
    "\n",
    "    test_loss = running_loss / len(test_loader)\n",
    "    test_accuracy = correct_labels / total_labels\n",
    "    return test_loss, test_accuracy"
   ]
  },
  {
   "cell_type": "code",
   "execution_count": 15,
   "id": "7b688064-1e28-4788-acda-be96c82c9c28",
   "metadata": {},
   "outputs": [],
   "source": [
    "def run_training(hidden_dim, lr, num_epochs, model_type='cnn'):\n",
    "    \"\"\"\n",
    "    Function to train and evaluate the model for a given number of epochs.\n",
    "    \"\"\"\n",
    "\n",
    "    device = torch.device(\"cuda\" if torch.cuda.is_available() else \"cpu\")\n",
    "    if model_type == 'mlp':\n",
    "        model = CifarNN(hidden_dim).to(device)                    # Initialize model\n",
    "    elif model_type == 'cnn':\n",
    "        raise NotImplementedError\n",
    "        \n",
    "    criterion = nn.CrossEntropyLoss()                           # Loss function\n",
    "    optimizer = optim.Adam(model.parameters(), lr=lr)            # Optimizer\n",
    "\n",
    "    train_losses = []\n",
    "    test_losses = []\n",
    "    \n",
    "    train_accuracies = []\n",
    "    test_accuracies = []\n",
    "\n",
    "    # Training loop\n",
    "    for epoch in tqdm(range(num_epochs)):\n",
    "        train_loss, train_accuracy = train_nn(model, train_loader, criterion, optimizer, device)\n",
    "        test_loss, test_accuracy = evaluate_nn(model, test_loader, criterion, device)\n",
    "\n",
    "        train_losses.append(train_loss)\n",
    "        test_losses.append(test_loss)\n",
    "        \n",
    "        train_accuracies.append(train_accuracy)\n",
    "        test_accuracies.append(test_accuracy)\n",
    "\n",
    "        print(f\"Epoch {epoch+1}/{num_epochs}\")\n",
    "        print(f\"Train Loss: {train_loss:.4f}, Train Acc: {train_accuracy:.4f}\")\n",
    "        print(f\"Test Loss: {test_loss:.4f}, Test Acc: {test_accuracy:.4f}\")\n",
    "\n",
    "    # Returns the model metrics.\n",
    "    return model, train_losses, train_accuracies, test_losses, test_accuracies"
   ]
  },
  {
   "cell_type": "code",
   "execution_count": 17,
   "id": "90246485-8554-421c-951f-79936c0611d0",
   "metadata": {},
   "outputs": [
    {
     "name": "stderr",
     "output_type": "stream",
     "text": [
      "  8%|███▋                                        | 1/12 [00:18<03:24, 18.57s/it]"
     ]
    },
    {
     "name": "stdout",
     "output_type": "stream",
     "text": [
      "Epoch 1/12\n",
      "Train Loss: 1.8581, Train Acc: 0.3226\n",
      "Test Loss: 1.7481, Test Acc: 0.3584\n"
     ]
    },
    {
     "name": "stderr",
     "output_type": "stream",
     "text": [
      " 17%|███████▎                                    | 2/12 [00:39<03:18, 19.82s/it]"
     ]
    },
    {
     "name": "stdout",
     "output_type": "stream",
     "text": [
      "Epoch 2/12\n",
      "Train Loss: 1.7108, Train Acc: 0.3838\n",
      "Test Loss: 1.6482, Test Acc: 0.4038\n"
     ]
    },
    {
     "name": "stderr",
     "output_type": "stream",
     "text": [
      " 25%|███████████                                 | 3/12 [00:59<03:01, 20.17s/it]"
     ]
    },
    {
     "name": "stdout",
     "output_type": "stream",
     "text": [
      "Epoch 3/12\n",
      "Train Loss: 1.6495, Train Acc: 0.4057\n",
      "Test Loss: 1.6168, Test Acc: 0.4189\n"
     ]
    },
    {
     "name": "stderr",
     "output_type": "stream",
     "text": [
      " 33%|██████████████▋                             | 4/12 [01:20<02:42, 20.32s/it]"
     ]
    },
    {
     "name": "stdout",
     "output_type": "stream",
     "text": [
      "Epoch 4/12\n",
      "Train Loss: 1.6017, Train Acc: 0.4245\n",
      "Test Loss: 1.6025, Test Acc: 0.4332\n"
     ]
    },
    {
     "name": "stderr",
     "output_type": "stream",
     "text": [
      " 42%|██████████████████▎                         | 5/12 [01:40<02:22, 20.40s/it]"
     ]
    },
    {
     "name": "stdout",
     "output_type": "stream",
     "text": [
      "Epoch 5/12\n",
      "Train Loss: 1.5760, Train Acc: 0.4320\n",
      "Test Loss: 1.5563, Test Acc: 0.4461\n"
     ]
    },
    {
     "name": "stderr",
     "output_type": "stream",
     "text": [
      " 50%|██████████████████████                      | 6/12 [02:01<02:02, 20.45s/it]"
     ]
    },
    {
     "name": "stdout",
     "output_type": "stream",
     "text": [
      "Epoch 6/12\n",
      "Train Loss: 1.5553, Train Acc: 0.4416\n",
      "Test Loss: 1.5333, Test Acc: 0.4563\n"
     ]
    },
    {
     "name": "stderr",
     "output_type": "stream",
     "text": [
      " 58%|█████████████████████████▋                  | 7/12 [02:22<01:42, 20.49s/it]"
     ]
    },
    {
     "name": "stdout",
     "output_type": "stream",
     "text": [
      "Epoch 7/12\n",
      "Train Loss: 1.5413, Train Acc: 0.4438\n",
      "Test Loss: 1.5783, Test Acc: 0.4316\n"
     ]
    },
    {
     "name": "stderr",
     "output_type": "stream",
     "text": [
      " 67%|█████████████████████████████▎              | 8/12 [02:42<01:22, 20.52s/it]"
     ]
    },
    {
     "name": "stdout",
     "output_type": "stream",
     "text": [
      "Epoch 8/12\n",
      "Train Loss: 1.5300, Train Acc: 0.4523\n",
      "Test Loss: 1.5470, Test Acc: 0.4427\n"
     ]
    },
    {
     "name": "stderr",
     "output_type": "stream",
     "text": [
      " 75%|█████████████████████████████████           | 9/12 [03:03<01:01, 20.52s/it]"
     ]
    },
    {
     "name": "stdout",
     "output_type": "stream",
     "text": [
      "Epoch 9/12\n",
      "Train Loss: 1.5186, Train Acc: 0.4562\n",
      "Test Loss: 1.5575, Test Acc: 0.4403\n"
     ]
    },
    {
     "name": "stderr",
     "output_type": "stream",
     "text": [
      " 83%|███████████████████████████████████▊       | 10/12 [03:23<00:41, 20.53s/it]"
     ]
    },
    {
     "name": "stdout",
     "output_type": "stream",
     "text": [
      "Epoch 10/12\n",
      "Train Loss: 1.5105, Train Acc: 0.4583\n",
      "Test Loss: 1.5500, Test Acc: 0.4449\n"
     ]
    },
    {
     "name": "stderr",
     "output_type": "stream",
     "text": [
      " 92%|███████████████████████████████████████▍   | 11/12 [03:44<00:20, 20.53s/it]"
     ]
    },
    {
     "name": "stdout",
     "output_type": "stream",
     "text": [
      "Epoch 11/12\n",
      "Train Loss: 1.4981, Train Acc: 0.4630\n",
      "Test Loss: 1.5434, Test Acc: 0.4462\n"
     ]
    },
    {
     "name": "stderr",
     "output_type": "stream",
     "text": [
      "100%|███████████████████████████████████████████| 12/12 [04:04<00:00, 20.40s/it]"
     ]
    },
    {
     "name": "stdout",
     "output_type": "stream",
     "text": [
      "Epoch 12/12\n",
      "Train Loss: 1.4943, Train Acc: 0.4642\n",
      "Test Loss: 1.5339, Test Acc: 0.4510\n"
     ]
    },
    {
     "name": "stderr",
     "output_type": "stream",
     "text": [
      "\n"
     ]
    }
   ],
   "source": [
    "hidden_dim = 128\n",
    "lr = 0.001\n",
    "num_epochs = 12\n",
    "\n",
    "# Call the model training function\n",
    "model, train_losses, train_accuracies, test_losses, test_accuracies = run_training(hidden_dim, lr, num_epochs, model_type='mlp')\n"
   ]
  },
  {
   "cell_type": "code",
   "execution_count": null,
   "id": "a6a18939-1e27-443f-94fb-e86206e0dacd",
   "metadata": {},
   "outputs": [],
   "source": []
  }
 ],
 "metadata": {
  "kernelspec": {
   "display_name": "Python 3 (ipykernel)",
   "language": "python",
   "name": "python3"
  },
  "language_info": {
   "codemirror_mode": {
    "name": "ipython",
    "version": 3
   },
   "file_extension": ".py",
   "mimetype": "text/x-python",
   "name": "python",
   "nbconvert_exporter": "python",
   "pygments_lexer": "ipython3",
   "version": "3.11.4"
  }
 },
 "nbformat": 4,
 "nbformat_minor": 5
}
