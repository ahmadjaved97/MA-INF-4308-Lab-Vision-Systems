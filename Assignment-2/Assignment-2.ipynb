{
 "cells": [
  {
   "cell_type": "code",
   "execution_count": 3,
   "id": "c0df6c2e-cff2-4e04-8b27-c7cf2889ac0e",
   "metadata": {},
   "outputs": [],
   "source": [
    "import torch\n",
    "import torch.nn as nn\n",
    "import torch.optim as optim\n",
    "import torchvision.transforms as transforms\n",
    "import torchvision.datasets as datasets\n",
    "from torch.utils.data import DataLoader\n",
    "import matplotlib.pyplot as plt\n",
    "import numpy as np\n",
    "from tqdm import tqdm"
   ]
  },
  {
   "cell_type": "code",
   "execution_count": 4,
   "id": "59818963-ac76-446b-a009-e7ed56b3c3e4",
   "metadata": {},
   "outputs": [],
   "source": [
    "# Convert the data to Tensor\n",
    "transform = transforms.ToTensor()"
   ]
  },
  {
   "cell_type": "markdown",
   "id": "f1b4ac2f-9d42-4178-a6b8-cf43bd9e0e05",
   "metadata": {},
   "source": [
    "### Load the CIFAR10 dataset"
   ]
  },
  {
   "cell_type": "code",
   "execution_count": 5,
   "id": "782ebc73-6757-464f-809d-de2545fae3c5",
   "metadata": {},
   "outputs": [
    {
     "name": "stdout",
     "output_type": "stream",
     "text": [
      "Files already downloaded and verified\n",
      "Files already downloaded and verified\n"
     ]
    }
   ],
   "source": [
    "# Load CIFAR-10 dataset\n",
    "train_data = datasets.CIFAR10(root='./data', train=True, download=True, transform=transform)\n",
    "test_data = datasets.CIFAR10(root='./data', train=False, download=True, transform=transform)\n",
    "train_loader = DataLoader(train_data, batch_size=16, shuffle=True)\n",
    "test_loader = DataLoader(test_data, batch_size=16, shuffle=False)"
   ]
  },
  {
   "cell_type": "markdown",
   "id": "e229bad0-2dcc-498c-b851-d47346ceeb7c",
   "metadata": {},
   "source": [
    "### MLP Model\n",
    "\n",
    "The MLP model class is identical to the Fashion-MNIST model class but has been adjusted according to the image dimensions in CIFAR-10."
   ]
  },
  {
   "cell_type": "code",
   "execution_count": 81,
   "id": "ac2acc6f-4dc1-4fab-9507-cd57da22ac88",
   "metadata": {},
   "outputs": [],
   "source": [
    "class Cifar(nn.Module):\n",
    "    \"\"\"\n",
    "    A simple neural network for classifying CIFAR-10 Images. The network has 2 fully connected layers with ReLU activation and\n",
    "    a final layer with 10 output categories.\n",
    "    \"\"\"\n",
    "    def __init__(self, hidden_dim):\n",
    "        super(CifarNN, self).__init__()\n",
    "        self.flatten = nn.Flatten()\n",
    "        self.fc1 = nn.Linear(32 * 32 *3, hidden_dim)\n",
    "        self.relu = nn.ReLU()\n",
    "        self.fc2 = nn.Linear(hidden_dim, hidden_dim)\n",
    "        self.final_layer = nn.Linear(hidden_dim, 10)\n",
    "\n",
    "    def forward(self, x):\n",
    "        x = self.flatten(x)\n",
    "        x = self.fc1(x)\n",
    "        x = self.relu(x)\n",
    "        x = self.fc2(x)\n",
    "        x = self.relu(x)\n",
    "        x = self.final_layer(x)\n",
    "        \n",
    "        return x"
   ]
  },
  {
   "cell_type": "markdown",
   "id": "bafd88e7-9c80-4b1e-9dec-680dfd3af00f",
   "metadata": {},
   "source": [
    "The training (train_nn) and evaluation (evaluate_nn) functions used below are taken from the previous assignment since they are used to perform the same operations."
   ]
  },
  {
   "cell_type": "markdown",
   "id": "20c35a26-83e0-4948-9111-a04451407fe6",
   "metadata": {},
   "source": [
    "### Training function"
   ]
  },
  {
   "cell_type": "code",
   "execution_count": 82,
   "id": "a817fe0c-2b69-4bae-814f-80bbb731f351",
   "metadata": {},
   "outputs": [],
   "source": [
    "def train_nn(model, train_loader, criterion, optimizer, device):\n",
    "    \"\"\"Function to train the neural network for one epoch\"\"\"\n",
    "    model.train()\n",
    "    running_loss = 0.0\n",
    "    correct_labels = 0\n",
    "    total_labels = 0\n",
    "\n",
    "    for inputs, labels in train_loader:\n",
    "        inputs, labels = inputs.to(device), labels.to(device)\n",
    "        optimizer.zero_grad()\n",
    "        outputs = model(inputs)\n",
    "        loss = criterion(outputs, labels)\n",
    "        loss.backward()\n",
    "        optimizer.step()\n",
    "\n",
    "        running_loss += loss.item()\n",
    "        predicted_labels = torch.argmax(outputs, dim=1)\n",
    "        total_labels += labels.size(0)\n",
    "        correct_labels += torch.sum(predicted_labels == labels).item()\n",
    "\n",
    "    train_loss = running_loss / len(train_loader)\n",
    "    train_accuracy = correct_labels / total_labels\n",
    "    \n",
    "    return train_loss, train_accuracy"
   ]
  },
  {
   "cell_type": "markdown",
   "id": "3f814abb-bb00-4aec-8c7d-8bf31215f45f",
   "metadata": {},
   "source": [
    "### Evaluation Function"
   ]
  },
  {
   "cell_type": "code",
   "execution_count": 83,
   "id": "f25448d3-d84c-4af7-a9a7-c0514381bd28",
   "metadata": {},
   "outputs": [],
   "source": [
    "def evaluate_nn(model, test_loader, criterion, device):\n",
    "    \"\"\"\n",
    "    Function to evaluate the neural network on the test data.\n",
    "    \"\"\"\n",
    "    model.eval()\n",
    "    running_loss = 0.0\n",
    "    correct_labels = 0\n",
    "    total_labels = 0\n",
    "\n",
    "    with torch.no_grad():\n",
    "        for inputs, labels in test_loader:\n",
    "            inputs, labels = inputs.to(device), labels.to(device)\n",
    "            outputs = model(inputs)\n",
    "            loss = criterion(outputs, labels)\n",
    "\n",
    "            running_loss += loss.item()\n",
    "            predicted_labels = torch.argmax(outputs, dim=1)\n",
    "            total_labels += labels.size(0)\n",
    "            correct_labels += torch.sum(predicted_labels == labels).item()\n",
    "\n",
    "    test_loss = running_loss / len(test_loader)\n",
    "    test_accuracy = correct_labels / total_labels\n",
    "    return test_loss, test_accuracy"
   ]
  },
  {
   "cell_type": "markdown",
   "id": "aee2b89f-ce4c-44ad-a33d-55551097d8f1",
   "metadata": {},
   "source": [
    "### Training MLP"
   ]
  },
  {
   "cell_type": "code",
   "execution_count": 84,
   "id": "7b688064-1e28-4788-acda-be96c82c9c28",
   "metadata": {},
   "outputs": [],
   "source": [
    "def run_training(hidden_dim, lr, num_epochs):\n",
    "    \"\"\"\n",
    "    Function to train and evaluate the model for a given number of epochs.\n",
    "    \"\"\"\n",
    "\n",
    "    device = torch.device(\"cuda\" if torch.cuda.is_available() else \"cpu\")\n",
    "    model = CifarNN(hidden_dim).to(device)                    # Initialize model\n",
    "        \n",
    "    criterion = nn.CrossEntropyLoss()                           # Loss function\n",
    "    optimizer = optim.Adam(model.parameters(), lr=lr)            # Optimizer\n",
    "\n",
    "    train_losses = []\n",
    "    test_losses = []\n",
    "    \n",
    "    train_accuracies = []\n",
    "    test_accuracies = []\n",
    "\n",
    "    # Training loop\n",
    "    for epoch in tqdm(range(num_epochs)):\n",
    "        train_loss, train_accuracy = train_nn(model, train_loader, criterion, optimizer, device)\n",
    "        test_loss, test_accuracy = evaluate_nn(model, test_loader, criterion, device)\n",
    "\n",
    "        train_losses.append(train_loss)\n",
    "        test_losses.append(test_loss)\n",
    "        \n",
    "        train_accuracies.append(train_accuracy)\n",
    "        test_accuracies.append(test_accuracy)\n",
    "\n",
    "        print(f\"Epoch {epoch+1}/{num_epochs}\")\n",
    "        print(f\"Train Loss: {train_loss:.4f}, Train Acc: {train_accuracy:.4f}\")\n",
    "        print(f\"Test Loss: {test_loss:.4f}, Test Acc: {test_accuracy:.4f}\")\n",
    "\n",
    "    # Returns the model metrics.\n",
    "    return model, train_losses, train_accuracies, test_losses, test_accuracies"
   ]
  },
  {
   "cell_type": "code",
   "execution_count": 17,
   "id": "90246485-8554-421c-951f-79936c0611d0",
   "metadata": {},
   "outputs": [
    {
     "name": "stderr",
     "output_type": "stream",
     "text": [
      "  8%|███▋                                        | 1/12 [00:18<03:24, 18.57s/it]"
     ]
    },
    {
     "name": "stdout",
     "output_type": "stream",
     "text": [
      "Epoch 1/12\n",
      "Train Loss: 1.8581, Train Acc: 0.3226\n",
      "Test Loss: 1.7481, Test Acc: 0.3584\n"
     ]
    },
    {
     "name": "stderr",
     "output_type": "stream",
     "text": [
      " 17%|███████▎                                    | 2/12 [00:39<03:18, 19.82s/it]"
     ]
    },
    {
     "name": "stdout",
     "output_type": "stream",
     "text": [
      "Epoch 2/12\n",
      "Train Loss: 1.7108, Train Acc: 0.3838\n",
      "Test Loss: 1.6482, Test Acc: 0.4038\n"
     ]
    },
    {
     "name": "stderr",
     "output_type": "stream",
     "text": [
      " 25%|███████████                                 | 3/12 [00:59<03:01, 20.17s/it]"
     ]
    },
    {
     "name": "stdout",
     "output_type": "stream",
     "text": [
      "Epoch 3/12\n",
      "Train Loss: 1.6495, Train Acc: 0.4057\n",
      "Test Loss: 1.6168, Test Acc: 0.4189\n"
     ]
    },
    {
     "name": "stderr",
     "output_type": "stream",
     "text": [
      " 33%|██████████████▋                             | 4/12 [01:20<02:42, 20.32s/it]"
     ]
    },
    {
     "name": "stdout",
     "output_type": "stream",
     "text": [
      "Epoch 4/12\n",
      "Train Loss: 1.6017, Train Acc: 0.4245\n",
      "Test Loss: 1.6025, Test Acc: 0.4332\n"
     ]
    },
    {
     "name": "stderr",
     "output_type": "stream",
     "text": [
      " 42%|██████████████████▎                         | 5/12 [01:40<02:22, 20.40s/it]"
     ]
    },
    {
     "name": "stdout",
     "output_type": "stream",
     "text": [
      "Epoch 5/12\n",
      "Train Loss: 1.5760, Train Acc: 0.4320\n",
      "Test Loss: 1.5563, Test Acc: 0.4461\n"
     ]
    },
    {
     "name": "stderr",
     "output_type": "stream",
     "text": [
      " 50%|██████████████████████                      | 6/12 [02:01<02:02, 20.45s/it]"
     ]
    },
    {
     "name": "stdout",
     "output_type": "stream",
     "text": [
      "Epoch 6/12\n",
      "Train Loss: 1.5553, Train Acc: 0.4416\n",
      "Test Loss: 1.5333, Test Acc: 0.4563\n"
     ]
    },
    {
     "name": "stderr",
     "output_type": "stream",
     "text": [
      " 58%|█████████████████████████▋                  | 7/12 [02:22<01:42, 20.49s/it]"
     ]
    },
    {
     "name": "stdout",
     "output_type": "stream",
     "text": [
      "Epoch 7/12\n",
      "Train Loss: 1.5413, Train Acc: 0.4438\n",
      "Test Loss: 1.5783, Test Acc: 0.4316\n"
     ]
    },
    {
     "name": "stderr",
     "output_type": "stream",
     "text": [
      " 67%|█████████████████████████████▎              | 8/12 [02:42<01:22, 20.52s/it]"
     ]
    },
    {
     "name": "stdout",
     "output_type": "stream",
     "text": [
      "Epoch 8/12\n",
      "Train Loss: 1.5300, Train Acc: 0.4523\n",
      "Test Loss: 1.5470, Test Acc: 0.4427\n"
     ]
    },
    {
     "name": "stderr",
     "output_type": "stream",
     "text": [
      " 75%|█████████████████████████████████           | 9/12 [03:03<01:01, 20.52s/it]"
     ]
    },
    {
     "name": "stdout",
     "output_type": "stream",
     "text": [
      "Epoch 9/12\n",
      "Train Loss: 1.5186, Train Acc: 0.4562\n",
      "Test Loss: 1.5575, Test Acc: 0.4403\n"
     ]
    },
    {
     "name": "stderr",
     "output_type": "stream",
     "text": [
      " 83%|███████████████████████████████████▊       | 10/12 [03:23<00:41, 20.53s/it]"
     ]
    },
    {
     "name": "stdout",
     "output_type": "stream",
     "text": [
      "Epoch 10/12\n",
      "Train Loss: 1.5105, Train Acc: 0.4583\n",
      "Test Loss: 1.5500, Test Acc: 0.4449\n"
     ]
    },
    {
     "name": "stderr",
     "output_type": "stream",
     "text": [
      " 92%|███████████████████████████████████████▍   | 11/12 [03:44<00:20, 20.53s/it]"
     ]
    },
    {
     "name": "stdout",
     "output_type": "stream",
     "text": [
      "Epoch 11/12\n",
      "Train Loss: 1.4981, Train Acc: 0.4630\n",
      "Test Loss: 1.5434, Test Acc: 0.4462\n"
     ]
    },
    {
     "name": "stderr",
     "output_type": "stream",
     "text": [
      "100%|███████████████████████████████████████████| 12/12 [04:04<00:00, 20.40s/it]"
     ]
    },
    {
     "name": "stdout",
     "output_type": "stream",
     "text": [
      "Epoch 12/12\n",
      "Train Loss: 1.4943, Train Acc: 0.4642\n",
      "Test Loss: 1.5339, Test Acc: 0.4510\n"
     ]
    },
    {
     "name": "stderr",
     "output_type": "stream",
     "text": [
      "\n"
     ]
    }
   ],
   "source": [
    "hidden_dim = 128\n",
    "lr = 0.001\n",
    "num_epochs = 20\n",
    "\n",
    "# Call the model training function\n",
    "model, train_losses, train_accuracies, test_losses, test_accuracies = run_training(hidden_dim, lr, num_epochs)\n"
   ]
  },
  {
   "cell_type": "markdown",
   "id": "fec52640-3cc8-4837-8479-89d40fd87e67",
   "metadata": {},
   "source": [
    "### CNN Model"
   ]
  },
  {
   "cell_type": "code",
   "execution_count": 85,
   "id": "a6a18939-1e27-443f-94fb-e86206e0dacd",
   "metadata": {},
   "outputs": [],
   "source": [
    "# Simple CNN Model\n",
    "class CNN(nn.Module):\n",
    "    def __init__(self, dropout_rate=0.3):\n",
    "        super(CNN, self).__init__()\n",
    "        self.conv1 = nn.Conv2d(3, 32, kernel_size=3, padding=1)\n",
    "        self.conv2 = nn.Conv2d(32, 64, kernel_size=3, padding=1)\n",
    "        self.pool = nn.MaxPool2d(2, 2)\n",
    "        self.fc1 = nn.Linear(64 * 8 * 8, 128)\n",
    "        self.fc2 = nn.Linear(128, 10)\n",
    "        self.dropout = nn.Dropout(dropout_rate)\n",
    "\n",
    "    def forward(self, x):\n",
    "        x = self.pool(torch.relu(self.conv1(x)))\n",
    "        x = self.dropout(x)\n",
    "        x = self.pool(torch.relu(self.conv2(x)))\n",
    "        x = self.dropout(x)\n",
    "        x = x.view(-1, 64 * 8 * 8)\n",
    "        x = torch.relu(self.fc1(x))\n",
    "        x = self.dropout(x)\n",
    "        x = self.fc2(x)\n",
    "        return x"
   ]
  },
  {
   "cell_type": "markdown",
   "id": "77cc713a-464a-4773-8bfd-11a893ba1e7f",
   "metadata": {},
   "source": [
    "### Custom Learning Rate Scheduler"
   ]
  },
  {
   "cell_type": "code",
   "execution_count": 86,
   "id": "ee10ae1f-4351-4c2a-8f9e-7cec4e371eef",
   "metadata": {},
   "outputs": [],
   "source": [
    "def custom_lr_scheduler(optimizer, epoch, init_lr=0.1, warmup_epochs=5, decay_rate=0.5, decay_epochs=10):\n",
    "    \"\"\"Custom LR scheduler with warmup and decay\"\"\"\n",
    "    if epoch < warmup_epochs:\n",
    "        lr = init_lr * (epoch + 1) / warmup_epochs\n",
    "    else:\n",
    "        lr = init_lr * (decay_rate ** ((epoch - warmup_epochs) // decay_epochs))\n",
    "    \n",
    "    for param_group in optimizer.param_groups:\n",
    "        param_group['lr'] = lr\n",
    "    return lr"
   ]
  },
  {
   "cell_type": "markdown",
   "id": "1278b3b7-db3d-4df0-842c-99707e27c0f2",
   "metadata": {},
   "source": [
    "### Training for CNN\n",
    "Includes arguments for dropout and weight decay(L2 Regularization). The function is modified from the previous run_training function used in MLP"
   ]
  },
  {
   "cell_type": "code",
   "execution_count": 87,
   "id": "321547f3-0c2c-4618-b45c-d8c35737014c",
   "metadata": {},
   "outputs": [],
   "source": [
    "# Training and Evaluation Function\n",
    "def run_training(hidden_dim, lr, num_epochs, dropout_rate=0.3, weight_decay=1e-4):\n",
    "    \"\"\"\n",
    "    Function to train and evaluate the CNN model for a given number of epochs with custom LR scheduling, dropout, and weight decay.\n",
    "    \"\"\"\n",
    "\n",
    "    # Initialize device and model\n",
    "    device = torch.device(\"cuda\" if torch.cuda.is_available() else \"cpu\")\n",
    "    model = CNN(dropout_rate=dropout_rate).to(device)\n",
    "\n",
    "    # Loss function and optimizer with weight decay for L2 regularization\n",
    "    criterion = nn.CrossEntropyLoss()\n",
    "    optimizer = optim.Adam(model.parameters(), lr=lr, weight_decay=weight_decay)\n",
    "\n",
    "    # Lists to store training metrics\n",
    "    train_losses, test_losses = [], []\n",
    "    train_accuracies, test_accuracies = [], []\n",
    "    learning_rates = []  # List to store learning rates for each epoch\n",
    "\n",
    "    # Training loop with custom LR scheduling\n",
    "    for epoch in tqdm(range(num_epochs)):\n",
    "        # Update learning rate using the custom scheduler and store it\n",
    "        current_lr = custom_lr_scheduler(optimizer, epoch, init_lr=lr)\n",
    "        learning_rates.append(current_lr)\n",
    "\n",
    "        # Training step\n",
    "        train_loss, train_accuracy = train_nn(model, train_loader, criterion, optimizer, device)\n",
    "        \n",
    "        # Evaluation step\n",
    "        test_loss, test_accuracy = evaluate_nn(model, test_loader, criterion, device)\n",
    "\n",
    "        # Save metrics for analysis\n",
    "        train_losses.append(train_loss)\n",
    "        test_losses.append(test_loss)\n",
    "        train_accuracies.append(train_accuracy)\n",
    "        test_accuracies.append(test_accuracy)\n",
    "\n",
    "        # Print epoch summary\n",
    "        print(f\"Epoch {epoch+1}/{num_epochs}\")\n",
    "        print(f\"LR: {current_lr:.6f}, Train Loss: {train_loss:.4f}, Train Acc: {train_accuracy:.4f}\")\n",
    "        print(f\"Test Loss: {test_loss:.4f}, Test Acc: {test_accuracy:.4f}\")\n",
    "\n",
    "    # Return model and training metrics\n",
    "    return model, train_losses, train_accuracies, test_losses, test_accuracies, learning_rates"
   ]
  },
  {
   "cell_type": "markdown",
   "id": "9332f013-9e5e-4afd-ba71-e0720bc0a230",
   "metadata": {},
   "source": [
    "### Training with dropout and weight decay (L2 Regularization)"
   ]
  },
  {
   "cell_type": "code",
   "execution_count": 88,
   "id": "d0606252-f751-4571-813a-40f42205b570",
   "metadata": {},
   "outputs": [
    {
     "name": "stderr",
     "output_type": "stream",
     "text": [
      "  5%|███████▍                                                                                                                                            | 1/20 [00:46<14:50, 46.89s/it]"
     ]
    },
    {
     "name": "stdout",
     "output_type": "stream",
     "text": [
      "Epoch 1/20\n",
      "LR: 0.000200, Train Loss: 1.7293, Train Acc: 0.3718\n",
      "Test Loss: 1.4523, Test Acc: 0.4819\n"
     ]
    },
    {
     "name": "stderr",
     "output_type": "stream",
     "text": [
      " 10%|██████████████▊                                                                                                                                     | 2/20 [01:38<14:53, 49.65s/it]"
     ]
    },
    {
     "name": "stdout",
     "output_type": "stream",
     "text": [
      "Epoch 2/20\n",
      "LR: 0.000400, Train Loss: 1.4257, Train Acc: 0.4856\n",
      "Test Loss: 1.2382, Test Acc: 0.5605\n"
     ]
    },
    {
     "name": "stderr",
     "output_type": "stream",
     "text": [
      " 15%|██████████████████████▏                                                                                                                             | 3/20 [02:35<14:58, 52.85s/it]"
     ]
    },
    {
     "name": "stdout",
     "output_type": "stream",
     "text": [
      "Epoch 3/20\n",
      "LR: 0.000600, Train Loss: 1.2738, Train Acc: 0.5443\n",
      "Test Loss: 1.0931, Test Acc: 0.6231\n"
     ]
    },
    {
     "name": "stderr",
     "output_type": "stream",
     "text": [
      " 20%|█████████████████████████████▌                                                                                                                      | 4/20 [03:36<14:58, 56.18s/it]"
     ]
    },
    {
     "name": "stdout",
     "output_type": "stream",
     "text": [
      "Epoch 4/20\n",
      "LR: 0.000800, Train Loss: 1.1720, Train Acc: 0.5817\n",
      "Test Loss: 1.0343, Test Acc: 0.6367\n"
     ]
    },
    {
     "name": "stderr",
     "output_type": "stream",
     "text": [
      " 25%|█████████████████████████████████████                                                                                                               | 5/20 [04:34<14:13, 56.93s/it]"
     ]
    },
    {
     "name": "stdout",
     "output_type": "stream",
     "text": [
      "Epoch 5/20\n",
      "LR: 0.001000, Train Loss: 1.1124, Train Acc: 0.6065\n",
      "Test Loss: 0.9779, Test Acc: 0.6549\n"
     ]
    },
    {
     "name": "stderr",
     "output_type": "stream",
     "text": [
      " 30%|████████████████████████████████████████████▍                                                                                                       | 6/20 [05:29<13:05, 56.11s/it]"
     ]
    },
    {
     "name": "stdout",
     "output_type": "stream",
     "text": [
      "Epoch 6/20\n",
      "LR: 0.001000, Train Loss: 1.0438, Train Acc: 0.6328\n",
      "Test Loss: 0.9229, Test Acc: 0.6833\n"
     ]
    },
    {
     "name": "stderr",
     "output_type": "stream",
     "text": [
      " 35%|███████████████████████████████████████████████████▊                                                                                                | 7/20 [06:28<12:23, 57.17s/it]"
     ]
    },
    {
     "name": "stdout",
     "output_type": "stream",
     "text": [
      "Epoch 7/20\n",
      "LR: 0.001000, Train Loss: 0.9982, Train Acc: 0.6472\n",
      "Test Loss: 0.8953, Test Acc: 0.6949\n"
     ]
    },
    {
     "name": "stderr",
     "output_type": "stream",
     "text": [
      " 40%|███████████████████████████████████████████████████████████▏                                                                                        | 8/20 [07:30<11:45, 58.79s/it]"
     ]
    },
    {
     "name": "stdout",
     "output_type": "stream",
     "text": [
      "Epoch 8/20\n",
      "LR: 0.001000, Train Loss: 0.9517, Train Acc: 0.6637\n",
      "Test Loss: 0.8838, Test Acc: 0.6921\n"
     ]
    },
    {
     "name": "stderr",
     "output_type": "stream",
     "text": [
      " 45%|██████████████████████████████████████████████████████████████████▌                                                                                 | 9/20 [08:25<10:32, 57.51s/it]"
     ]
    },
    {
     "name": "stdout",
     "output_type": "stream",
     "text": [
      "Epoch 9/20\n",
      "LR: 0.001000, Train Loss: 0.9213, Train Acc: 0.6724\n",
      "Test Loss: 0.8785, Test Acc: 0.6948\n"
     ]
    },
    {
     "name": "stderr",
     "output_type": "stream",
     "text": [
      " 50%|█████████████████████████████████████████████████████████████████████████▌                                                                         | 10/20 [09:25<09:41, 58.14s/it]"
     ]
    },
    {
     "name": "stdout",
     "output_type": "stream",
     "text": [
      "Epoch 10/20\n",
      "LR: 0.001000, Train Loss: 0.8947, Train Acc: 0.6830\n",
      "Test Loss: 0.8244, Test Acc: 0.7172\n"
     ]
    },
    {
     "name": "stderr",
     "output_type": "stream",
     "text": [
      " 55%|████████████████████████████████████████████████████████████████████████████████▊                                                                  | 11/20 [10:27<08:54, 59.37s/it]"
     ]
    },
    {
     "name": "stdout",
     "output_type": "stream",
     "text": [
      "Epoch 11/20\n",
      "LR: 0.001000, Train Loss: 0.8747, Train Acc: 0.6914\n",
      "Test Loss: 0.8118, Test Acc: 0.7243\n"
     ]
    },
    {
     "name": "stderr",
     "output_type": "stream",
     "text": [
      " 60%|████████████████████████████████████████████████████████████████████████████████████████▏                                                          | 12/20 [11:29<08:02, 60.29s/it]"
     ]
    },
    {
     "name": "stdout",
     "output_type": "stream",
     "text": [
      "Epoch 12/20\n",
      "LR: 0.001000, Train Loss: 0.8492, Train Acc: 0.7009\n",
      "Test Loss: 0.8335, Test Acc: 0.7122\n"
     ]
    },
    {
     "name": "stderr",
     "output_type": "stream",
     "text": [
      " 65%|███████████████████████████████████████████████████████████████████████████████████████████████▌                                                   | 13/20 [12:37<07:18, 62.71s/it]"
     ]
    },
    {
     "name": "stdout",
     "output_type": "stream",
     "text": [
      "Epoch 13/20\n",
      "LR: 0.001000, Train Loss: 0.8315, Train Acc: 0.7069\n",
      "Test Loss: 0.8251, Test Acc: 0.7209\n"
     ]
    },
    {
     "name": "stderr",
     "output_type": "stream",
     "text": [
      " 70%|██████████████████████████████████████████████████████████████████████████████████████████████████████▉                                            | 14/20 [13:48<06:30, 65.00s/it]"
     ]
    },
    {
     "name": "stdout",
     "output_type": "stream",
     "text": [
      "Epoch 14/20\n",
      "LR: 0.001000, Train Loss: 0.8160, Train Acc: 0.7125\n",
      "Test Loss: 0.8271, Test Acc: 0.7143\n"
     ]
    },
    {
     "name": "stderr",
     "output_type": "stream",
     "text": [
      " 75%|██████████████████████████████████████████████████████████████████████████████████████████████████████████████▎                                    | 15/20 [14:51<05:22, 64.59s/it]"
     ]
    },
    {
     "name": "stdout",
     "output_type": "stream",
     "text": [
      "Epoch 15/20\n",
      "LR: 0.001000, Train Loss: 0.8009, Train Acc: 0.7160\n",
      "Test Loss: 0.7929, Test Acc: 0.7281\n"
     ]
    },
    {
     "name": "stderr",
     "output_type": "stream",
     "text": [
      " 80%|█████████████████████████████████████████████████████████████████████████████████████████████████████████████████████▌                             | 16/20 [15:53<04:15, 63.82s/it]"
     ]
    },
    {
     "name": "stdout",
     "output_type": "stream",
     "text": [
      "Epoch 16/20\n",
      "LR: 0.000500, Train Loss: 0.7065, Train Acc: 0.7496\n",
      "Test Loss: 0.7230, Test Acc: 0.7538\n"
     ]
    },
    {
     "name": "stderr",
     "output_type": "stream",
     "text": [
      " 85%|████████████████████████████████████████████████████████████████████████████████████████████████████████████████████████████▉                      | 17/20 [17:02<03:15, 65.26s/it]"
     ]
    },
    {
     "name": "stdout",
     "output_type": "stream",
     "text": [
      "Epoch 17/20\n",
      "LR: 0.000500, Train Loss: 0.6782, Train Acc: 0.7596\n",
      "Test Loss: 0.7209, Test Acc: 0.7571\n"
     ]
    },
    {
     "name": "stderr",
     "output_type": "stream",
     "text": [
      " 90%|████████████████████████████████████████████████████████████████████████████████████████████████████████████████████████████████████▎              | 18/20 [18:05<02:08, 64.50s/it]"
     ]
    },
    {
     "name": "stdout",
     "output_type": "stream",
     "text": [
      "Epoch 18/20\n",
      "LR: 0.000500, Train Loss: 0.6584, Train Acc: 0.7645\n",
      "Test Loss: 0.7143, Test Acc: 0.7539\n"
     ]
    },
    {
     "name": "stderr",
     "output_type": "stream",
     "text": [
      " 95%|███████████████████████████████████████████████████████████████████████████████████████████████████████████████████████████████████████████▋       | 19/20 [19:03<01:02, 62.77s/it]"
     ]
    },
    {
     "name": "stdout",
     "output_type": "stream",
     "text": [
      "Epoch 19/20\n",
      "LR: 0.000500, Train Loss: 0.6429, Train Acc: 0.7725\n",
      "Test Loss: 0.7049, Test Acc: 0.7577\n"
     ]
    },
    {
     "name": "stderr",
     "output_type": "stream",
     "text": [
      "100%|███████████████████████████████████████████████████████████████████████████████████████████████████████████████████████████████████████████████████| 20/20 [19:58<00:00, 59.94s/it]"
     ]
    },
    {
     "name": "stdout",
     "output_type": "stream",
     "text": [
      "Epoch 20/20\n",
      "LR: 0.000500, Train Loss: 0.6284, Train Acc: 0.7769\n",
      "Test Loss: 0.6985, Test Acc: 0.7599\n"
     ]
    },
    {
     "name": "stderr",
     "output_type": "stream",
     "text": [
      "\n"
     ]
    }
   ],
   "source": [
    "# Example of calling the function with parameters\n",
    "hidden_dim = 128\n",
    "lr = 0.001\n",
    "num_epochs = 20\n",
    "dropout_rate = 0.3\n",
    "weight_decay = 1e-4\n",
    "\n",
    "# Call the model training function\n",
    "model, train_losses, train_accuracies, test_losses, test_accuracies, learning_rates = run_training(\n",
    "    hidden_dim, lr, num_epochs, dropout_rate=dropout_rate, weight_decay=weight_decay\n",
    ")"
   ]
  },
  {
   "cell_type": "markdown",
   "id": "67d5c167-02e4-4d68-b2a4-45db33248f8c",
   "metadata": {},
   "source": [
    "### Plot metric curves"
   ]
  },
  {
   "cell_type": "code",
   "execution_count": 89,
   "id": "72fbeb4f-7f66-416d-86dd-95e302490382",
   "metadata": {},
   "outputs": [
    {
     "data": {
      "image/png": "[encoded data removed]",
      "text/plain": [
       "<Figure size 1200x500 with 3 Axes>"
      ]
     },
     "metadata": {},
     "output_type": "display_data"
    }
   ],
   "source": [
    "# plt.style.use('seaborn-v0_8-whitegrid')\n",
    "\n",
    "plt.figure(figsize=(12, 5))\n",
    "plt.subplot(1, 3, 1)\n",
    "plt.plot(train_losses, label='Train Loss', marker='o', markeredgecolor='black')\n",
    "plt.plot(test_losses, label='Test Loss', marker='o', markeredgecolor='black')\n",
    "plt.xlabel('Epoch')\n",
    "plt.ylabel('Loss')\n",
    "plt.legend()\n",
    "plt.title('Model metrics - Loss')\n",
    "\n",
    "plt.subplot(1, 3, 2)\n",
    "plt.plot(train_accuracies, label='Train Accuracy', marker='o', markeredgecolor='black')\n",
    "plt.plot(test_accuracies, label='Test Accuracy', marker='o', markeredgecolor='black')\n",
    "plt.xlabel('Epoch')\n",
    "plt.ylabel('Accuracy')\n",
    "plt.legend()\n",
    "plt.title('Model metrics - Accuracy')\n",
    "plt.tight_layout()\n",
    "\n",
    "plt.subplot(1, 3, 3)\n",
    "plt.plot(learning_rates, label='Learning Rate', marker='o', markeredgecolor='black', color='blue')\n",
    "# plt.plot(test_accuracies, label='Test Accuracy')\n",
    "plt.xlabel('Epoch')\n",
    "plt.ylabel('Learning Rate')\n",
    "plt.legend()\n",
    "plt.title('Model metrics - LR')\n",
    "plt.tight_layout()\n",
    "\n",
    "plt.show()"
   ]
  },
  {
   "cell_type": "markdown",
   "id": "93d2cdff-85ce-447a-8e56-655273a947ee",
   "metadata": {},
   "source": [
    "### Without dropuout and weight decay"
   ]
  },
  {
   "cell_type": "code",
   "execution_count": 90,
   "id": "f9f97767-05b9-48d6-8202-64c790395200",
   "metadata": {},
   "outputs": [
    {
     "name": "stderr",
     "output_type": "stream",
     "text": [
      "  5%|███████▍                                                                                                                                            | 1/20 [00:53<17:03, 53.89s/it]"
     ]
    },
    {
     "name": "stdout",
     "output_type": "stream",
     "text": [
      "Epoch 1/20\n",
      "LR: 0.000200, Train Loss: 1.5988, Train Acc: 0.4195\n",
      "Test Loss: 1.3368, Test Acc: 0.5257\n"
     ]
    },
    {
     "name": "stderr",
     "output_type": "stream",
     "text": [
      " 10%|██████████████▊                                                                                                                                     | 2/20 [01:54<17:22, 57.94s/it]"
     ]
    },
    {
     "name": "stdout",
     "output_type": "stream",
     "text": [
      "Epoch 2/20\n",
      "LR: 0.000400, Train Loss: 1.2587, Train Acc: 0.5484\n",
      "Test Loss: 1.1484, Test Acc: 0.5795\n"
     ]
    },
    {
     "name": "stderr",
     "output_type": "stream",
     "text": [
      " 15%|██████████████████████▏                                                                                                                             | 3/20 [02:45<15:33, 54.90s/it]"
     ]
    },
    {
     "name": "stdout",
     "output_type": "stream",
     "text": [
      "Epoch 3/20\n",
      "LR: 0.000600, Train Loss: 1.0785, Train Acc: 0.6183\n",
      "Test Loss: 1.0084, Test Acc: 0.6485\n"
     ]
    },
    {
     "name": "stderr",
     "output_type": "stream",
     "text": [
      " 20%|█████████████████████████████▌                                                                                                                      | 4/20 [03:44<15:03, 56.46s/it]"
     ]
    },
    {
     "name": "stdout",
     "output_type": "stream",
     "text": [
      "Epoch 4/20\n",
      "LR: 0.000800, Train Loss: 0.9557, Train Acc: 0.6652\n",
      "Test Loss: 0.9655, Test Acc: 0.6596\n"
     ]
    },
    {
     "name": "stderr",
     "output_type": "stream",
     "text": [
      " 25%|█████████████████████████████████████                                                                                                               | 5/20 [04:43<14:16, 57.12s/it]"
     ]
    },
    {
     "name": "stdout",
     "output_type": "stream",
     "text": [
      "Epoch 5/20\n",
      "LR: 0.001000, Train Loss: 0.8611, Train Acc: 0.6986\n",
      "Test Loss: 0.9432, Test Acc: 0.6726\n"
     ]
    },
    {
     "name": "stderr",
     "output_type": "stream",
     "text": [
      " 30%|████████████████████████████████████████████▍                                                                                                       | 6/20 [05:43<13:33, 58.10s/it]"
     ]
    },
    {
     "name": "stdout",
     "output_type": "stream",
     "text": [
      "Epoch 6/20\n",
      "LR: 0.001000, Train Loss: 0.7489, Train Acc: 0.7380\n",
      "Test Loss: 0.9447, Test Acc: 0.6745\n"
     ]
    },
    {
     "name": "stderr",
     "output_type": "stream",
     "text": [
      " 35%|███████████████████████████████████████████████████▊                                                                                                | 7/20 [06:42<12:39, 58.39s/it]"
     ]
    },
    {
     "name": "stdout",
     "output_type": "stream",
     "text": [
      "Epoch 7/20\n",
      "LR: 0.001000, Train Loss: 0.6482, Train Acc: 0.7720\n",
      "Test Loss: 0.9051, Test Acc: 0.6960\n"
     ]
    },
    {
     "name": "stderr",
     "output_type": "stream",
     "text": [
      " 40%|███████████████████████████████████████████████████████████▏                                                                                        | 8/20 [07:46<12:03, 60.32s/it]"
     ]
    },
    {
     "name": "stdout",
     "output_type": "stream",
     "text": [
      "Epoch 8/20\n",
      "LR: 0.001000, Train Loss: 0.5605, Train Acc: 0.8025\n",
      "Test Loss: 0.9603, Test Acc: 0.7044\n"
     ]
    },
    {
     "name": "stderr",
     "output_type": "stream",
     "text": [
      " 45%|██████████████████████████████████████████████████████████████████▌                                                                                 | 9/20 [08:44<10:55, 59.61s/it]"
     ]
    },
    {
     "name": "stdout",
     "output_type": "stream",
     "text": [
      "Epoch 9/20\n",
      "LR: 0.001000, Train Loss: 0.4804, Train Acc: 0.8296\n",
      "Test Loss: 0.9947, Test Acc: 0.6947\n"
     ]
    },
    {
     "name": "stderr",
     "output_type": "stream",
     "text": [
      " 50%|█████████████████████████████████████████████████████████████████████████▌                                                                         | 10/20 [09:43<09:54, 59.44s/it]"
     ]
    },
    {
     "name": "stdout",
     "output_type": "stream",
     "text": [
      "Epoch 10/20\n",
      "LR: 0.001000, Train Loss: 0.4062, Train Acc: 0.8545\n",
      "Test Loss: 1.0498, Test Acc: 0.7031\n"
     ]
    },
    {
     "name": "stderr",
     "output_type": "stream",
     "text": [
      " 55%|████████████████████████████████████████████████████████████████████████████████▊                                                                  | 11/20 [10:43<08:55, 59.47s/it]"
     ]
    },
    {
     "name": "stdout",
     "output_type": "stream",
     "text": [
      "Epoch 11/20\n",
      "LR: 0.001000, Train Loss: 0.3427, Train Acc: 0.8783\n",
      "Test Loss: 1.1744, Test Acc: 0.6905\n"
     ]
    },
    {
     "name": "stderr",
     "output_type": "stream",
     "text": [
      " 60%|████████████████████████████████████████████████████████████████████████████████████████▏                                                          | 12/20 [11:47<08:07, 60.95s/it]"
     ]
    },
    {
     "name": "stdout",
     "output_type": "stream",
     "text": [
      "Epoch 12/20\n",
      "LR: 0.001000, Train Loss: 0.2862, Train Acc: 0.8976\n",
      "Test Loss: 1.2178, Test Acc: 0.7012\n"
     ]
    },
    {
     "name": "stderr",
     "output_type": "stream",
     "text": [
      " 65%|███████████████████████████████████████████████████████████████████████████████████████████████▌                                                   | 13/20 [12:44<06:58, 59.72s/it]"
     ]
    },
    {
     "name": "stdout",
     "output_type": "stream",
     "text": [
      "Epoch 13/20\n",
      "LR: 0.001000, Train Loss: 0.2442, Train Acc: 0.9134\n",
      "Test Loss: 1.4048, Test Acc: 0.6824\n"
     ]
    },
    {
     "name": "stderr",
     "output_type": "stream",
     "text": [
      " 70%|██████████████████████████████████████████████████████████████████████████████████████████████████████▉                                            | 14/20 [13:49<06:08, 61.34s/it]"
     ]
    },
    {
     "name": "stdout",
     "output_type": "stream",
     "text": [
      "Epoch 14/20\n",
      "LR: 0.001000, Train Loss: 0.2050, Train Acc: 0.9279\n",
      "Test Loss: 1.4812, Test Acc: 0.6950\n"
     ]
    },
    {
     "name": "stderr",
     "output_type": "stream",
     "text": [
      " 75%|██████████████████████████████████████████████████████████████████████████████████████████████████████████████▎                                    | 15/20 [14:53<05:10, 62.13s/it]"
     ]
    },
    {
     "name": "stdout",
     "output_type": "stream",
     "text": [
      "Epoch 15/20\n",
      "LR: 0.001000, Train Loss: 0.1789, Train Acc: 0.9380\n",
      "Test Loss: 1.7147, Test Acc: 0.6845\n"
     ]
    },
    {
     "name": "stderr",
     "output_type": "stream",
     "text": [
      " 80%|█████████████████████████████████████████████████████████████████████████████████████████████████████████████████████▌                             | 16/20 [16:01<04:15, 64.00s/it]"
     ]
    },
    {
     "name": "stdout",
     "output_type": "stream",
     "text": [
      "Epoch 16/20\n",
      "LR: 0.000500, Train Loss: 0.0728, Train Acc: 0.9771\n",
      "Test Loss: 1.8046, Test Acc: 0.6990\n"
     ]
    },
    {
     "name": "stderr",
     "output_type": "stream",
     "text": [
      " 85%|████████████████████████████████████████████████████████████████████████████████████████████████████████████████████████████▉                      | 17/20 [17:10<03:16, 65.39s/it]"
     ]
    },
    {
     "name": "stdout",
     "output_type": "stream",
     "text": [
      "Epoch 17/20\n",
      "LR: 0.000500, Train Loss: 0.0509, Train Acc: 0.9842\n",
      "Test Loss: 1.9580, Test Acc: 0.6987\n"
     ]
    },
    {
     "name": "stderr",
     "output_type": "stream",
     "text": [
      " 90%|████████████████████████████████████████████████████████████████████████████████████████████████████████████████████████████████████▎              | 18/20 [18:14<02:09, 64.92s/it]"
     ]
    },
    {
     "name": "stdout",
     "output_type": "stream",
     "text": [
      "Epoch 18/20\n",
      "LR: 0.000500, Train Loss: 0.0411, Train Acc: 0.9870\n",
      "Test Loss: 2.1141, Test Acc: 0.7000\n"
     ]
    },
    {
     "name": "stderr",
     "output_type": "stream",
     "text": [
      " 95%|███████████████████████████████████████████████████████████████████████████████████████████████████████████████████████████████████████████▋       | 19/20 [19:23<01:06, 66.13s/it]"
     ]
    },
    {
     "name": "stdout",
     "output_type": "stream",
     "text": [
      "Epoch 19/20\n",
      "LR: 0.000500, Train Loss: 0.0352, Train Acc: 0.9888\n",
      "Test Loss: 2.2238, Test Acc: 0.6947\n"
     ]
    },
    {
     "name": "stderr",
     "output_type": "stream",
     "text": [
      "100%|███████████████████████████████████████████████████████████████████████████████████████████████████████████████████████████████████████████████████| 20/20 [20:32<00:00, 61.61s/it]"
     ]
    },
    {
     "name": "stdout",
     "output_type": "stream",
     "text": [
      "Epoch 20/20\n",
      "LR: 0.000500, Train Loss: 0.0316, Train Acc: 0.9904\n",
      "Test Loss: 2.4242, Test Acc: 0.6952\n"
     ]
    },
    {
     "name": "stderr",
     "output_type": "stream",
     "text": [
      "\n"
     ]
    }
   ],
   "source": [
    "dropout_rate = 0.0\n",
    "weight_decay = 0\n",
    "model, train_losses, train_accuracies, test_losses, test_accuracies, learning_rates = run_training(\n",
    "    hidden_dim, lr, num_epochs, dropout_rate=dropout_rate, weight_decay=weight_decay\n",
    ")"
   ]
  },
  {
   "cell_type": "code",
   "execution_count": 91,
   "id": "00ffb3ef-e763-43dc-818d-26b941b19b29",
   "metadata": {},
   "outputs": [
    {
     "data": {
      "image/png": "[encoded data removed]",
      "text/plain": [
       "<Figure size 1200x500 with 3 Axes>"
      ]
     },
     "metadata": {},
     "output_type": "display_data"
    }
   ],
   "source": [
    "# plt.style.use('seaborn-v0_8-whitegrid')\n",
    "\n",
    "plt.figure(figsize=(12, 5))\n",
    "plt.subplot(1, 3, 1)\n",
    "plt.plot(train_losses, label='Train Loss', marker='o', markeredgecolor='black')\n",
    "plt.plot(test_losses, label='Test Loss', marker='o', markeredgecolor='black')\n",
    "plt.xlabel('Epoch')\n",
    "plt.ylabel('Loss')\n",
    "plt.legend()\n",
    "plt.title('Model metrics - Loss')\n",
    "\n",
    "plt.subplot(1, 3, 2)\n",
    "plt.plot(train_accuracies, label='Train Accuracy', marker='o', markeredgecolor='black')\n",
    "plt.plot(test_accuracies, label='Test Accuracy', marker='o', markeredgecolor='black')\n",
    "plt.xlabel('Epoch')\n",
    "plt.ylabel('Accuracy')\n",
    "plt.legend()\n",
    "plt.title('Model metrics - Accuracy')\n",
    "plt.tight_layout()\n",
    "\n",
    "plt.subplot(1, 3, 3)\n",
    "plt.plot(learning_rates, label='Learning Rate', marker='o', markeredgecolor='black', color='blue')\n",
    "# plt.plot(test_accuracies, label='Test Accuracy')\n",
    "plt.xlabel('Epoch')\n",
    "plt.ylabel('Learning Rate')\n",
    "plt.legend()\n",
    "plt.title('Model metrics - LR')\n",
    "plt.tight_layout()\n",
    "\n",
    "plt.show()"
   ]
  },
  {
   "cell_type": "code",
   "execution_count": 92,
   "id": "eed80991-f763-4abd-8d1d-846e3832a55b",
   "metadata": {},
   "outputs": [
    {
     "data": {
      "image/png": "[encoded data removed]",
      "text/plain": [
       "<Figure size 800x400 with 32 Axes>"
      ]
     },
     "metadata": {},
     "output_type": "display_data"
    },
    {
     "data": {
      "image/png": "[encoded data removed]",
      "text/plain": [
       "<Figure size 800x400 with 32 Axes>"
      ]
     },
     "metadata": {},
     "output_type": "display_data"
    },
    {
     "name": "stdout",
     "output_type": "stream",
     "text": [
      "Conv2d(3, 32, kernel_size=(3, 3), stride=(1, 1), padding=(1, 1))\n"
     ]
    },
    {
     "data": {
      "image/png": "[encoded data removed]",
      "text/plain": [
       "<Figure size 1500x1500 with 8 Axes>"
      ]
     },
     "metadata": {},
     "output_type": "display_data"
    }
   ],
   "source": [
    "# Function to visualize convolutional kernels (weights)\n",
    "def visualize_kernels(layer):\n",
    "    kernels = layer.weight.data.cpu().numpy()\n",
    "    fig, axs = plt.subplots(4, 8, figsize=(8, 4))\n",
    "    for i, ax in enumerate(axs.flat):\n",
    "        if i < kernels.shape[0]:\n",
    "            ax.imshow(kernels[i, 0, :, :])\n",
    "            ax.axis('off')\n",
    "    plt.show()\n",
    "\n",
    "# Function to visualize feature maps\n",
    "def visualize_feature_maps(model, images):\n",
    "    x = images.to('cpu')\n",
    "    for name, layer in model.named_children():\n",
    "        x = layer(x)\n",
    "        if isinstance(layer, nn.Conv2d):\n",
    "            print(layer)\n",
    "            plt.figure(figsize=(15, 15))\n",
    "            feature_maps = x[0].detach().cpu().numpy()\n",
    "            for i in range(8):  # Display first 8 feature maps\n",
    "                plt.subplot(1, 8, i + 1)\n",
    "                plt.imshow(feature_maps[i])\n",
    "                plt.axis('off')\n",
    "            plt.show()\n",
    "            break  # Visualize first conv layer only\n",
    "\n",
    "# Visualize CNN convolutional kernels and feature maps\n",
    "visualize_kernels(model.conv1)\n",
    "visualize_kernels(model.conv2)\n",
    "data_iter = iter(test_loader)\n",
    "images, _ = next(data_iter)\n",
    "visualize_feature_maps(model, images)"
   ]
  },
  {
   "cell_type": "code",
   "execution_count": 93,
   "id": "4af3e028-09fd-41b2-9856-154b0bfbf45e",
   "metadata": {},
   "outputs": [],
   "source": [
    "from torchvision import utils"
   ]
  },
  {
   "cell_type": "code",
   "execution_count": 94,
   "id": "fd2184a4-b24a-4f41-9226-32b271f9129a",
   "metadata": {},
   "outputs": [],
   "source": [
    "# https://stackoverflow.com/questions/55594969/how-to-visualise-filters-in-a-cnn-with-pytorch\n",
    "\n",
    "def visTensor(tensor, ch=0, allkernels=False, nrow=8, padding=1):\n",
    "    \"\"\"\n",
    "    Visualizes tensor as an image grid. Can display all kernels or a specific channel.\n",
    "    \n",
    "    Args:\n",
    "        tensor (torch.Tensor): The input tensor to visualize, assumed to be of shape (n, c, w, h).\n",
    "        ch (int): Specific channel to display if `allkernels` is False.\n",
    "        allkernels (bool): If True, visualizes all channels. If False, visualizes the specified channel.\n",
    "        nrow (int): Number of images in each row of the grid.\n",
    "        padding (int): Padding between images in the grid.\n",
    "    \"\"\"\n",
    "    n, c, w, h = tensor.shape\n",
    "\n",
    "    # If allkernels is True, flatten all channels except RGB (c == 3)\n",
    "    if allkernels and c != 3:\n",
    "        tensor = tensor.view(n * c, -1, w, h)\n",
    "    elif c != 3:\n",
    "        tensor = tensor[:, ch, :, :].unsqueeze(dim=1)  # Select only one channel if not RGB\n",
    "\n",
    "    # Determine the number of rows for the plot\n",
    "    rows = np.min((tensor.shape[0] // nrow + 1, 64))\n",
    "\n",
    "    # Create grid\n",
    "    grid = utils.make_grid(tensor, nrow=nrow, normalize=True, padding=padding)\n",
    "    \n",
    "    # Plot grid (for RGB, we keep it as is; for grayscale, plt handles single-channel display)\n",
    "    plt.figure(figsize=(nrow, rows))\n",
    "    if c == 3:\n",
    "        plt.imshow(grid.permute(1, 2, 0).cpu().numpy())  # RGB\n",
    "    else:\n",
    "        plt.imshow(grid.cpu().numpy().transpose((1, 2, 0)), cmap=\"gray\")  # Grayscale for single channel\n",
    "    plt.axis(\"off\")\n",
    "    plt.show()"
   ]
  },
  {
   "cell_type": "code",
   "execution_count": 95,
   "id": "382fcb96-7ece-49fd-9a78-c0625a851997",
   "metadata": {},
   "outputs": [
    {
     "data": {
      "image/png": "[encoded data removed]",
      "text/plain": [
       "<Figure size 800x500 with 1 Axes>"
      ]
     },
     "metadata": {},
     "output_type": "display_data"
    }
   ],
   "source": [
    "visTensor(model.conv1.weight.data, allkernels=True, nrow=8)"
   ]
  },
  {
   "cell_type": "code",
   "execution_count": 96,
   "id": "854eee58-7d24-4b6a-9583-fbcf417466fc",
   "metadata": {},
   "outputs": [
    {
     "data": {
      "image/png": "[encoded data removed]",
      "text/plain": [
       "<Figure size 2000x400 with 1 Axes>"
      ]
     },
     "metadata": {},
     "output_type": "display_data"
    }
   ],
   "source": [
    "visTensor(model.conv2.weight.data, allkernels=False, nrow=20)"
   ]
  },
  {
   "cell_type": "code",
   "execution_count": null,
   "id": "031ef314-2484-468d-9d03-91d33a9bd501",
   "metadata": {},
   "outputs": [],
   "source": []
  }
 ],
 "metadata": {
  "kernelspec": {
   "display_name": "Python 3 (ipykernel)",
   "language": "python",
   "name": "python3"
  },
  "language_info": {
   "codemirror_mode": {
    "name": "ipython",
    "version": 3
   },
   "file_extension": ".py",
   "mimetype": "text/x-python",
   "name": "python",
   "nbconvert_exporter": "python",
   "pygments_lexer": "ipython3",
   "version": "3.11.4"
  }
 },
 "nbformat": 4,
 "nbformat_minor": 5
}
