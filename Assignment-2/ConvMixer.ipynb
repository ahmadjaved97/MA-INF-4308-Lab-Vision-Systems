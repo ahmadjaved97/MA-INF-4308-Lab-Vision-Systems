{
 "cells": [
  {
   "cell_type": "code",
   "execution_count": 49,
   "id": "6647be46-459b-4354-b6bf-8d9b0e3a4eef",
   "metadata": {},
   "outputs": [],
   "source": [
    "import torch\n",
    "import torchvision\n",
    "import torch.nn.functional as F\n",
    "import torchvision.datasets as datasets\n",
    "import torchvision.transforms as transforms\n",
    "from torch import optim\n",
    "from torch import nn\n",
    "from torch.utils.data import DataLoader\n",
    "from tqdm import tqdm\n",
    "import matplotlib.pyplot as plt\n",
    "from sklearn.manifold import TSNE\n",
    "import numpy as np"
   ]
  },
  {
   "cell_type": "code",
   "execution_count": 60,
   "id": "a5ff0e3a-db7c-415e-a8b8-24fb3bf13381",
   "metadata": {},
   "outputs": [],
   "source": [
    "class ConvMixerLayer(nn.Module):\n",
    "    \"\"\" The ConvMixer block with:\n",
    "    - Depth-Wise Convolution (\"depth\" here means the patch embedding size/channels (\"embedding_dim\" in the model code),\n",
    "        not the mixer block depth)\n",
    "    - skip connection\n",
    "    - Point-Wise Convolution.\n",
    "    \"\"\"\n",
    "    def __init__(self, dim, kernel_size, dropout_rate):\n",
    "        super().__init__()\n",
    "\n",
    "        # depth wise Convolution layer (convolution across embeddings for each channel)\n",
    "        self.depth_wise_conv = nn.Sequential(\n",
    "                    nn.Conv2d(dim, dim, kernel_size, groups=dim, padding=\"same\"),\n",
    "                    nn.GELU(),\n",
    "                    nn.BatchNorm2d(dim)\n",
    "                )\n",
    "\n",
    "        # point wise Convolution layer (convolution across channels for each embedding)\n",
    "        self.point_wise_conv = nn.Sequential(\n",
    "                nn.Conv2d(dim, dim, kernel_size=1),\n",
    "                nn.GELU(),\n",
    "                nn.BatchNorm2d(dim)\n",
    "                )\n",
    "        \n",
    "        self.dropout = nn.Dropout(dropout_rate)\n",
    "\n",
    "    def forward(self, x):\n",
    "        # residual connection after depth wise convolution\n",
    "        residual = self.depth_wise_conv(x)\n",
    "        residual = residual + x\n",
    "        residual = self.dropout(residual)\n",
    "        x = self.point_wise_conv(residual)\n",
    "        return self.dropout(x)\n",
    "\n",
    "class ConvMixer(nn.Module):\n",
    "    \"\"\" The ConvMixer architecture with:\n",
    "       1) Patch Embedding with size embedding_dim\n",
    "       2) ConvMixerLayer block with specified block_depth\n",
    "       3) Global Average Pooling and flattening\n",
    "       4) Classifier\n",
    "    \"\"\"\n",
    "    def __init__(self, channels=3, embedding_dim=128, block_depth=5, kernel_size=10,\n",
    "                 patch_size=8, dropout_rate=0.3, num_classes=10):\n",
    "        super().__init__()\n",
    "\n",
    "        # convert image to \n",
    "        self.patch_embedding = nn.Sequential(nn.Conv2d(channels, embedding_dim, kernel_size=patch_size, stride=patch_size),\n",
    "                                             nn.GELU(),\n",
    "                                             nn.BatchNorm2d(embedding_dim)\n",
    "                                            )\n",
    "\n",
    "        self.conv_mixer_layers = nn.ModuleList([ConvMixerLayer(embedding_dim, kernel_size, dropout_rate) for _ in range(block_depth)])\n",
    "\n",
    "        self.avgpool = nn.AdaptiveAvgPool2d((1,1))\n",
    "        self.flatten = nn.Flatten()\n",
    "        self.classifier = nn.Linear(embedding_dim, num_classes)\n",
    "\n",
    "    def forward(self, x):\n",
    "        x = self.patch_embedding(x)              # Patch Embedding layer\n",
    "        for mixerBlock in self.conv_mixer_layers:     # Applying Mixer Layer \"depth\" times\n",
    "            x = mixerBlock(x)\n",
    "        x = self.avgpool(x)\n",
    "        x = self.flatten(x)                      # Global Average Pooling\n",
    "\n",
    "        return self.classifier(x)"
   ]
  },
  {
   "cell_type": "code",
   "execution_count": 61,
   "id": "44ff2ce8-b46c-455f-a6de-a87c02b1db41",
   "metadata": {},
   "outputs": [
    {
     "name": "stdout",
     "output_type": "stream",
     "text": [
      "Files already downloaded and verified\n",
      "Files already downloaded and verified\n"
     ]
    }
   ],
   "source": [
    "# Convert the data to Tensor\n",
    "transform = transforms.ToTensor()\n",
    "\n",
    "# Load CIFAR-10 dataset\n",
    "train_data = datasets.CIFAR10(root='./data', train=True, download=True, transform=transform)\n",
    "test_data = datasets.CIFAR10(root='./data', train=False, download=True, transform=transform)"
   ]
  },
  {
   "cell_type": "code",
   "execution_count": 62,
   "id": "1b4f032b-8fc0-40dd-ae1d-7bd8e9be3c54",
   "metadata": {},
   "outputs": [
    {
     "name": "stdout",
     "output_type": "stream",
     "text": [
      "Image shape: torch.Size([3, 32, 32])\n",
      "Label: 6\n"
     ]
    },
    {
     "data": {
      "text/plain": [
       "Dataset CIFAR10\n",
       "    Number of datapoints: 50000\n",
       "    Root location: ./data\n",
       "    Split: Train\n",
       "    StandardTransform\n",
       "Transform: ToTensor()"
      ]
     },
     "execution_count": 62,
     "metadata": {},
     "output_type": "execute_result"
    }
   ],
   "source": [
    "img_shape = train_data[0][0].shape\n",
    "label = train_data[0][1]\n",
    "\n",
    "print(f\"Image shape: {img_shape}\")\n",
    "print(f\"Label: {label}\")\n",
    "train_data"
   ]
  },
  {
   "cell_type": "code",
   "execution_count": 70,
   "id": "04f0f732-875e-48ed-8a21-b4733dbf34db",
   "metadata": {},
   "outputs": [],
   "source": [
    "def train_nn(model, train_loader, criterion, optimizer, device):\n",
    "    \"\"\"Function to train the neural network for one epoch\"\"\"\n",
    "    model.train()\n",
    "    running_loss = 0.0\n",
    "    correct_labels = 0\n",
    "    total_labels = 0\n",
    "\n",
    "    # using gradient scaler\n",
    "    scaler = torch.cuda.amp.GradScaler()\n",
    "\n",
    "    for inputs, labels in train_loader:\n",
    "        inputs, labels = inputs.to(device), labels.to(device)\n",
    "        optimizer.zero_grad()\n",
    "        outputs = model(inputs)\n",
    "        loss = criterion(outputs, labels)\n",
    "\n",
    "        # scaler.scale(loss).backward()\n",
    "        # scaler.step(optimizer)\n",
    "        # scaler.update()\n",
    "        \n",
    "        loss.backward()\n",
    "        optimizer.step()\n",
    "\n",
    "        running_loss += loss.item()\n",
    "        predicted_labels = torch.argmax(outputs, dim=1)\n",
    "        total_labels += labels.size(0)\n",
    "        correct_labels += torch.sum(predicted_labels == labels).item()\n",
    "\n",
    "    train_loss = running_loss / len(train_loader)\n",
    "    train_accuracy = correct_labels / total_labels\n",
    "    \n",
    "    return train_loss, train_accuracy"
   ]
  },
  {
   "cell_type": "code",
   "execution_count": 71,
   "id": "645a9ea9-aa47-4a28-b9fc-7c4393e748a2",
   "metadata": {},
   "outputs": [],
   "source": [
    "def evaluate_nn(model, test_loader, criterion, device):\n",
    "    \"\"\"\n",
    "    Function to evaluate the neural network on the test data.\n",
    "    \"\"\"\n",
    "    model.eval()\n",
    "    running_loss = 0.0\n",
    "    correct_labels = 0\n",
    "    total_labels = 0\n",
    "\n",
    "    with torch.no_grad():\n",
    "        for inputs, labels in test_loader:\n",
    "            inputs, labels = inputs.to(device), labels.to(device)\n",
    "            outputs = model(inputs)\n",
    "            loss = criterion(outputs, labels)\n",
    "\n",
    "            running_loss += loss.item()\n",
    "            predicted_labels = torch.argmax(outputs, dim=1)\n",
    "            total_labels += labels.size(0)\n",
    "            correct_labels += torch.sum(predicted_labels == labels).item()\n",
    "\n",
    "    test_loss = running_loss / len(test_loader)\n",
    "    test_accuracy = correct_labels / total_labels\n",
    "    return test_loss, test_accuracy"
   ]
  },
  {
   "cell_type": "code",
   "execution_count": null,
   "id": "f343e913-3dfb-41d3-9a0b-24f869fcab95",
   "metadata": {},
   "outputs": [],
   "source": []
  },
  {
   "cell_type": "code",
   "execution_count": 72,
   "id": "aefb323b-fa61-49f5-b652-5fa9c16cc01b",
   "metadata": {},
   "outputs": [],
   "source": [
    "def custom_lr_scheduler(optimizer, epoch, init_lr=0.1, warmup_epochs=4, decay_rate=0.5, decay_epochs=2):\n",
    "    \"\"\"Custom LR scheduler with warmup and decay\"\"\"\n",
    "    if epoch < warmup_epochs:\n",
    "        lr = init_lr * (epoch + 1) / warmup_epochs\n",
    "    else:\n",
    "        lr = init_lr * (decay_rate ** ((epoch - warmup_epochs) // decay_epochs))\n",
    "    \n",
    "    for param_group in optimizer.param_groups:\n",
    "        param_group['lr'] = lr\n",
    "    return lr"
   ]
  },
  {
   "cell_type": "code",
   "execution_count": 73,
   "id": "6db41ded-cd24-471d-be34-51b31e4e69c7",
   "metadata": {},
   "outputs": [],
   "source": [
    "# Training and Evaluation Function\n",
    "def run_training(lr, num_epochs, model, batch_size, weight_decay=1e-4):\n",
    "    \"\"\"\n",
    "    Function to train and evaluate the model for a given number of epochs with custom LR scheduling, dropout, and weight decay.\n",
    "    \"\"\"\n",
    "\n",
    "    train_loader = DataLoader(train_data, batch_size=batch_size, shuffle=True)\n",
    "    test_loader = DataLoader(test_data, batch_size=batch_size, shuffle=False)\n",
    "    \n",
    "    # Loss function and optimizer with weight decay for L2 regularization\n",
    "    criterion = nn.CrossEntropyLoss()\n",
    "    optimizer = optim.Adam(model.parameters(), lr=lr, weight_decay=weight_decay)\n",
    "\n",
    "    # Lists to store training metrics\n",
    "    train_losses, test_losses = [], []\n",
    "    train_accuracies, test_accuracies = [], []\n",
    "    learning_rates = []  # List to store learning rates for each epoch\n",
    "\n",
    "    # Training loop with custom LR scheduling\n",
    "    for epoch in tqdm(range(num_epochs)):\n",
    "        # Update learning rate using the custom scheduler and store it\n",
    "        current_lr = custom_lr_scheduler(optimizer, epoch, init_lr=lr)\n",
    "        learning_rates.append(current_lr)\n",
    "\n",
    "        # Training step\n",
    "        train_loss, train_accuracy = train_nn(model, train_loader, criterion, optimizer, device)\n",
    "        \n",
    "        # Evaluation step\n",
    "        test_loss, test_accuracy = evaluate_nn(model, test_loader, criterion, device)\n",
    "\n",
    "        # Save metrics for analysis\n",
    "        train_losses.append(train_loss)\n",
    "        test_losses.append(test_loss)\n",
    "        train_accuracies.append(train_accuracy)\n",
    "        test_accuracies.append(test_accuracy)\n",
    "\n",
    "        # Print epoch summary\n",
    "        print(f\"Epoch {epoch+1}/{num_epochs}\")\n",
    "        print(f\"LR: {current_lr:.6f}, Train Loss: {train_loss:.4f}, Train Acc: {train_accuracy:.4f}\")\n",
    "        print(f\"Test Loss: {test_loss:.4f}, Test Acc: {test_accuracy:.4f}\")\n",
    "\n",
    "    # Return model and training metrics\n",
    "    return model, train_losses, train_accuracies, test_losses, test_accuracies, learning_rates"
   ]
  },
  {
   "cell_type": "code",
   "execution_count": 76,
   "id": "a41ef0f3-b71d-4c88-818f-c3a0be2dd300",
   "metadata": {},
   "outputs": [
    {
     "name": "stderr",
     "output_type": "stream",
     "text": [
      "  7%|█████▌                                                                             | 1/15 [00:29<06:53, 29.53s/it]"
     ]
    },
    {
     "name": "stdout",
     "output_type": "stream",
     "text": [
      "Epoch 1/15\n",
      "LR: 0.000250, Train Loss: 1.6351, Train Acc: 0.4064\n",
      "Test Loss: 1.5312, Test Acc: 0.4465\n"
     ]
    },
    {
     "name": "stderr",
     "output_type": "stream",
     "text": [
      " 13%|███████████                                                                        | 2/15 [00:59<06:26, 29.72s/it]"
     ]
    },
    {
     "name": "stdout",
     "output_type": "stream",
     "text": [
      "Epoch 2/15\n",
      "LR: 0.000500, Train Loss: 1.2765, Train Acc: 0.5440\n",
      "Test Loss: 1.3217, Test Acc: 0.5361\n"
     ]
    },
    {
     "name": "stderr",
     "output_type": "stream",
     "text": [
      " 20%|████████████████▌                                                                  | 3/15 [01:29<05:57, 29.80s/it]"
     ]
    },
    {
     "name": "stdout",
     "output_type": "stream",
     "text": [
      "Epoch 3/15\n",
      "LR: 0.000750, Train Loss: 1.1020, Train Acc: 0.6079\n",
      "Test Loss: 1.1174, Test Acc: 0.6156\n"
     ]
    },
    {
     "name": "stderr",
     "output_type": "stream",
     "text": [
      " 27%|██████████████████████▏                                                            | 4/15 [01:59<05:28, 29.87s/it]"
     ]
    },
    {
     "name": "stdout",
     "output_type": "stream",
     "text": [
      "Epoch 4/15\n",
      "LR: 0.001000, Train Loss: 0.9757, Train Acc: 0.6551\n",
      "Test Loss: 1.0108, Test Acc: 0.6549\n"
     ]
    },
    {
     "name": "stderr",
     "output_type": "stream",
     "text": [
      " 33%|███████████████████████████▋                                                       | 5/15 [02:29<05:00, 30.07s/it]"
     ]
    },
    {
     "name": "stdout",
     "output_type": "stream",
     "text": [
      "Epoch 5/15\n",
      "LR: 0.001000, Train Loss: 0.8641, Train Acc: 0.6931\n",
      "Test Loss: 0.8920, Test Acc: 0.6916\n"
     ]
    },
    {
     "name": "stderr",
     "output_type": "stream",
     "text": [
      " 40%|█████████████████████████████████▏                                                 | 6/15 [03:00<04:31, 30.20s/it]"
     ]
    },
    {
     "name": "stdout",
     "output_type": "stream",
     "text": [
      "Epoch 6/15\n",
      "LR: 0.001000, Train Loss: 0.7808, Train Acc: 0.7230\n",
      "Test Loss: 0.8075, Test Acc: 0.7224\n"
     ]
    },
    {
     "name": "stderr",
     "output_type": "stream",
     "text": [
      " 47%|██████████████████████████████████████▋                                            | 7/15 [03:30<04:02, 30.29s/it]"
     ]
    },
    {
     "name": "stdout",
     "output_type": "stream",
     "text": [
      "Epoch 7/15\n",
      "LR: 0.000500, Train Loss: 0.6850, Train Acc: 0.7605\n",
      "Test Loss: 0.7505, Test Acc: 0.7444\n"
     ]
    },
    {
     "name": "stderr",
     "output_type": "stream",
     "text": [
      " 53%|████████████████████████████████████████████▎                                      | 8/15 [04:01<03:34, 30.59s/it]"
     ]
    },
    {
     "name": "stdout",
     "output_type": "stream",
     "text": [
      "Epoch 8/15\n",
      "LR: 0.000500, Train Loss: 0.6489, Train Acc: 0.7726\n",
      "Test Loss: 0.7540, Test Acc: 0.7452\n"
     ]
    },
    {
     "name": "stderr",
     "output_type": "stream",
     "text": [
      " 60%|█████████████████████████████████████████████████▊                                 | 9/15 [04:33<03:05, 30.96s/it]"
     ]
    },
    {
     "name": "stdout",
     "output_type": "stream",
     "text": [
      "Epoch 9/15\n",
      "LR: 0.000250, Train Loss: 0.6002, Train Acc: 0.7881\n",
      "Test Loss: 0.7064, Test Acc: 0.7598\n"
     ]
    },
    {
     "name": "stderr",
     "output_type": "stream",
     "text": [
      " 67%|██████████████████████████████████████████████████████▋                           | 10/15 [05:20<02:58, 35.75s/it]"
     ]
    },
    {
     "name": "stdout",
     "output_type": "stream",
     "text": [
      "Epoch 10/15\n",
      "LR: 0.000250, Train Loss: 0.5771, Train Acc: 0.7993\n",
      "Test Loss: 0.7026, Test Acc: 0.7662\n"
     ]
    },
    {
     "name": "stderr",
     "output_type": "stream",
     "text": [
      " 73%|████████████████████████████████████████████████████████████▏                     | 11/15 [06:23<02:56, 44.09s/it]"
     ]
    },
    {
     "name": "stdout",
     "output_type": "stream",
     "text": [
      "Epoch 11/15\n",
      "LR: 0.000125, Train Loss: 0.5548, Train Acc: 0.8070\n",
      "Test Loss: 0.6805, Test Acc: 0.7724\n"
     ]
    },
    {
     "name": "stderr",
     "output_type": "stream",
     "text": [
      " 80%|█████████████████████████████████████████████████████████████████▌                | 12/15 [07:26<02:29, 49.86s/it]"
     ]
    },
    {
     "name": "stdout",
     "output_type": "stream",
     "text": [
      "Epoch 12/15\n",
      "LR: 0.000125, Train Loss: 0.5394, Train Acc: 0.8111\n",
      "Test Loss: 0.6606, Test Acc: 0.7811\n"
     ]
    },
    {
     "name": "stderr",
     "output_type": "stream",
     "text": [
      " 87%|███████████████████████████████████████████████████████████████████████           | 13/15 [08:29<01:47, 53.87s/it]"
     ]
    },
    {
     "name": "stdout",
     "output_type": "stream",
     "text": [
      "Epoch 13/15\n",
      "LR: 0.000063, Train Loss: 0.5269, Train Acc: 0.8169\n",
      "Test Loss: 0.6609, Test Acc: 0.7810\n"
     ]
    },
    {
     "name": "stderr",
     "output_type": "stream",
     "text": [
      " 93%|████████████████████████████████████████████████████████████████████████████▌     | 14/15 [09:27<00:55, 55.14s/it]"
     ]
    },
    {
     "name": "stdout",
     "output_type": "stream",
     "text": [
      "Epoch 14/15\n",
      "LR: 0.000063, Train Loss: 0.5229, Train Acc: 0.8162\n",
      "Test Loss: 0.6654, Test Acc: 0.7811\n"
     ]
    },
    {
     "name": "stderr",
     "output_type": "stream",
     "text": [
      "100%|██████████████████████████████████████████████████████████████████████████████████| 15/15 [10:22<00:00, 41.53s/it]"
     ]
    },
    {
     "name": "stdout",
     "output_type": "stream",
     "text": [
      "Epoch 15/15\n",
      "LR: 0.000031, Train Loss: 0.5149, Train Acc: 0.8203\n",
      "Test Loss: 0.6673, Test Acc: 0.7801\n"
     ]
    },
    {
     "name": "stderr",
     "output_type": "stream",
     "text": [
      "\n"
     ]
    }
   ],
   "source": [
    "hidden_dim = 256\n",
    "lr = 0.001\n",
    "num_epochs = 15\n",
    "weight_decay = 1e-4\n",
    "block_depth= 3\n",
    "kernel_size=5\n",
    "patch_size=2\n",
    "batch_size=128\n",
    "dropout_rate = 0.3\n",
    "\n",
    "# Initialize device and model\n",
    "device = torch.device(\"cuda\" if torch.cuda.is_available() else \"cpu\")\n",
    "model = ConvMixer(embedding_dim=hidden_dim, block_depth=block_depth,\n",
    "                  kernel_size=kernel_size, patch_size=patch_size, dropout_rate=dropout_rate).to(device)\n",
    "\n",
    "# Call the model training function\n",
    "model, train_losses, train_accuracies, test_losses, test_accuracies, learning_rates = run_training(\n",
    "    num_epochs=num_epochs, weight_decay=weight_decay, model=model, batch_size=batch_size, lr=lr\n",
    ")"
   ]
  },
  {
   "cell_type": "code",
   "execution_count": 77,
   "id": "133d7bba-d801-4c32-8025-6500d7ecee72",
   "metadata": {},
   "outputs": [
    {
     "data": {
      "image/png": "[encoded data removed]",
      "text/plain": [
       "<Figure size 1200x500 with 3 Axes>"
      ]
     },
     "metadata": {},
     "output_type": "display_data"
    }
   ],
   "source": [
    "# plt.style.use('seaborn-v0_8-whitegrid')\n",
    "\n",
    "plt.figure(figsize=(12, 5))\n",
    "plt.subplot(1, 3, 1)\n",
    "plt.plot(train_losses, label='Train Loss', marker='o', markeredgecolor='black')\n",
    "plt.plot(test_losses, label='Test Loss', marker='o', markeredgecolor='black')\n",
    "plt.xlabel('Epoch')\n",
    "plt.ylabel('Loss')\n",
    "plt.legend()\n",
    "plt.title('Model metrics - Loss')\n",
    "\n",
    "plt.subplot(1, 3, 2)\n",
    "plt.plot(train_accuracies, label='Train Accuracy', marker='o', markeredgecolor='black')\n",
    "plt.plot(test_accuracies, label='Test Accuracy', marker='o', markeredgecolor='black')\n",
    "plt.xlabel('Epoch')\n",
    "plt.ylabel('Accuracy')\n",
    "plt.legend()\n",
    "plt.title('Model metrics - Accuracy')\n",
    "plt.tight_layout()\n",
    "\n",
    "plt.subplot(1, 3, 3)\n",
    "plt.plot(learning_rates, label='Learning Rate', marker='o', markeredgecolor='black', color='blue')\n",
    "# plt.plot(test_accuracies, label='Test Accuracy')\n",
    "plt.xlabel('Epoch')\n",
    "plt.ylabel('Learning Rate')\n",
    "plt.legend()\n",
    "plt.title('Model metrics - LR')\n",
    "plt.tight_layout()\n",
    "\n",
    "plt.show()"
   ]
  },
  {
   "cell_type": "markdown",
   "id": "77db2fbb-245a-4cfa-8f38-040811b7f719",
   "metadata": {},
   "source": [
    "## Observations\n",
    "\n",
    "## Best performing hyperparameters + config\n",
    "hidden_dim = 256 \\\n",
    "lr = 0.001 \\\n",
    "num_epochs = 15 \\\n",
    "weight_decay = 1e-4 \\\n",
    "block_depth= 3 \\\n",
    "kernel_size=5 \\\n",
    "patch_size=2 \\\n",
    "batch_size=128 \\\n",
    "dropout_rate = 0.3 \\\n",
    "\n",
    "Model starts to overfit in th\n",
    "\n",
    "\n",
    "Larger patch and kernel sizes were the determining factors in overfitting. \\\n",
    "with larger Patch and Kernel sizes model was overfitting within 3 epochs. \\\n",
    "Reducing them (see below from #6) lead to a more balanced learning.\n",
    "\n",
    "### Overfitting hyperparameters:\n",
    "#### 1)\n",
    "hidden_dim = 256 \\\n",
    "lr = 0.001 \\\n",
    "num_epochs = 10 \\\n",
    "depth = 10 \\\n",
    "weight_decay = 1e-4 \\\n",
    "kernel_size=10 \\\n",
    "patch_size=8 \\\n",
    "batch_size=128\n",
    "\n",
    "#### 2)\n",
    "hidden_dim = 256 \\\n",
    "lr = 0.001 \\\n",
    "num_epochs = 10 \\\n",
    "weight_decay = 1e-4 \\\n",
    "block_depth=5 <======\\\n",
    "kernel_size=10 \\\n",
    "patch_size=8 \\\n",
    "batch_size=128\n",
    "\n",
    "#### 3)\n",
    "hidden_dim = 256 \\\n",
    "lr = 0.001 \\\n",
    "num_epochs = 10 \\\n",
    "weight_decay = 1e-4 \\\n",
    "block_depth=5 \\\n",
    "kernel_size=10 \\\n",
    "patch_size=8 \\\n",
    "batch_size=64 <=====\n",
    "\n",
    "#### 4)\n",
    "hidden_dim = 256 \\\n",
    "lr = 0.0001 <======\\\n",
    "num_epochs = 1 <======\\\n",
    "weight_decay = 1e-4 \\\n",
    "block_depth=20 <======\\\n",
    "kernel_size=10 \\\n",
    "patch_size=8 \\\n",
    "batch_size=64\n",
    "\n",
    "#### 5)\n",
    "hidden_dim = 256 \\\n",
    "lr = 0.001 <======\\\n",
    "num_epochs = 6 <=====\\\n",
    "weight_decay = 1e-4 \\\n",
    "block_depth=3 <=====\\\n",
    "kernel_size=10 \\\n",
    "patch_size=8 \\\n",
    "batch_size=64\n",
    "\n",
    "#### 6)\n",
    "hidden_dim = 256 \\\n",
    "lr = 0.001 \\\n",
    "num_epochs = 10 <=======\\\n",
    "weight_decay = 1e-4 \\\n",
    "block_depth=3 <========\\\n",
    "kernel_size=7 <======\\\n",
    "patch_size=4 <======\\\n",
    "batch_size=64\n",
    "\n",
    "#### 7)\n",
    "hidden_dim = 256 \\\n",
    "lr = 0.001 \\\n",
    "num_epochs = 10 \\\n",
    "weight_decay = 1e-4 \\\n",
    "block_depth=3 \\\n",
    "kernel_size=5 <========\\\n",
    "patch_size=2 <========\\\n",
    "batch_size=64\n",
    "\n",
    "#### 8)\n",
    "++ gradient_scaler <========\n",
    "hidden_dim = 256 \\\n",
    "lr = 0.001 \\\n",
    "num_epochs = 10 \\\n",
    "weight_decay = 1e-4 \\\n",
    "block_depth=3 \\\n",
    "kernel_size=5 <========\\\n",
    "patch_size=2 <========\\\n",
    "batch_size=64"
   ]
  },
  {
   "cell_type": "code",
   "execution_count": null,
   "id": "f855f974-a385-4e6e-a846-d96f247b185e",
   "metadata": {},
   "outputs": [],
   "source": []
  },
  {
   "cell_type": "code",
   "execution_count": null,
   "id": "a77203a9-7a52-4660-8df0-6cfd7faf20d2",
   "metadata": {},
   "outputs": [],
   "source": []
  }
 ],
 "metadata": {
  "kernelspec": {
   "display_name": "Python 3 (ipykernel)",
   "language": "python",
   "name": "python3"
  },
  "language_info": {
   "codemirror_mode": {
    "name": "ipython",
    "version": 3
   },
   "file_extension": ".py",
   "mimetype": "text/x-python",
   "name": "python",
   "nbconvert_exporter": "python",
   "pygments_lexer": "ipython3",
   "version": "3.12.3"
  }
 },
 "nbformat": 4,
 "nbformat_minor": 5
}
