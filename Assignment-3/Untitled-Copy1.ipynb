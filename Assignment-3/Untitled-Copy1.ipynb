{
 "cells": [
  {
   "cell_type": "code",
   "execution_count": 1,
   "id": "dc431750-51c9-4788-8bc5-cb7349f81892",
   "metadata": {},
   "outputs": [
    {
     "name": "stderr",
     "output_type": "stream",
     "text": [
      "2024-11-18 18:21:17.788976: I tensorflow/core/platform/cpu_feature_guard.cc:210] This TensorFlow binary is optimized to use available CPU instructions in performance-critical operations.\n",
      "To enable the following instructions: AVX2 FMA, in other operations, rebuild TensorFlow with the appropriate compiler flags.\n",
      "2024-11-18 18:21:18.761102: W tensorflow/compiler/tf2tensorrt/utils/py_utils.cc:38] TF-TRT Warning: Could not find TensorRT\n"
     ]
    }
   ],
   "source": [
    "import torch\n",
    "import torch.nn as nn\n",
    "import torch.optim as optim\n",
    "from torch.utils.data import DataLoader\n",
    "import torchvision.models as models\n",
    "import torchvision.transforms as transforms\n",
    "import torchvision.datasets as datasets\n",
    "from torch.utils.tensorboard import SummaryWriter\n",
    "import numpy as np\n",
    "import matplotlib.pyplot as plt\n",
    "import seaborn as sns\n",
    "from sklearn.metrics import confusion_matrix\n",
    "from tqdm import tqdm\n",
    "from datetime import datetime\n",
    "import random\n",
    "import os\n",
    "import time"
   ]
  },
  {
   "cell_type": "code",
   "execution_count": 2,
   "id": "33563e7e-30f5-4910-a8fc-7be18597bbb3",
   "metadata": {},
   "outputs": [],
   "source": [
    "# Set random seed for reproducibility\n",
    "def set_seed(seed=42):\n",
    "    random.seed(seed)\n",
    "    np.random.seed(seed)\n",
    "    torch.manual_seed(seed)\n",
    "    torch.cuda.manual_seed_all(seed)"
   ]
  },
  {
   "cell_type": "code",
   "execution_count": 3,
   "id": "a590f238-2c23-43cb-a57a-c1820a8290fd",
   "metadata": {},
   "outputs": [],
   "source": [
    "# CutMix function\n",
    "# Used from the link given in the paper: https://github.com/clovaai/CutMix-PyTorch/blob/master/train.py\n",
    "def cutmix(inputs, labels, alpha=1.0):\n",
    "    \"\"\"Applies CutMix augmentation.\"\"\"\n",
    "    lam = np.random.beta(alpha, alpha)\n",
    "    batch_size = inputs.size(0)\n",
    "    rand_index = torch.randperm(batch_size).to(inputs.device)\n",
    "    shuffled_labels = labels[rand_index]\n",
    "    \n",
    "    bbx1, bby1, bbx2, bby2 = rand_bbox(inputs.size(), lam)\n",
    "    inputs[:, :, bbx1:bbx2, bby1:bby2] = inputs[rand_index, :, bbx1:bbx2, bby1:bby2]\n",
    "    lam = 1 - ((bbx2 - bbx1) * (bby2 - bby1) / (inputs.size()[-1] * inputs.size()[-2]))\n",
    "    \n",
    "    return inputs, labels, shuffled_labels, lam"
   ]
  },
  {
   "cell_type": "code",
   "execution_count": 4,
   "id": "5079baf9-725b-439d-8940-60a25cfa55b0",
   "metadata": {},
   "outputs": [],
   "source": [
    "def rand_bbox(size, lam):\n",
    "    \"\"\"Generate a random bounding box for CutMix.\"\"\"\n",
    "    W = size[2]\n",
    "    H = size[3]\n",
    "    cut_rat = np.sqrt(1.0 - lam)\n",
    "    cut_w = int(W * cut_rat)\n",
    "    cut_h = int(H * cut_rat)\n",
    "\n",
    "    cx = np.random.randint(W)\n",
    "    cy = np.random.randint(H)\n",
    "\n",
    "    bbx1 = np.clip(cx - cut_w // 2, 0, W)\n",
    "    bby1 = np.clip(cy - cut_h // 2, 0, H)\n",
    "    bbx2 = np.clip(cx + cut_w // 2, 0, W)\n",
    "    bby2 = np.clip(cy + cut_h // 2, 0, H)\n",
    "\n",
    "    return bbx1, bby1, bbx2, bby2"
   ]
  },
  {
   "cell_type": "code",
   "execution_count": 5,
   "id": "68c355af-eec1-4644-97c9-998f76396310",
   "metadata": {},
   "outputs": [],
   "source": [
    "# Train function\n",
    "def train_nn(model, train_loader, criterion, optimizer, device, cutmix_prob=0.5, cutmix_alpha=1.0):\n",
    "    \"\"\"Function to train the neural network for one epoch with optional CutMix.\"\"\"\n",
    "    model.train()\n",
    "    running_loss = 0.0\n",
    "    correct_labels = 0\n",
    "    total_labels = 0\n",
    "\n",
    "    for inputs, labels in train_loader:\n",
    "        inputs, labels = inputs.to(device), labels.to(device)\n",
    "        optimizer.zero_grad()\n",
    "        \n",
    "        if np.random.rand() < cutmix_prob:\n",
    "            inputs, labels_a, labels_b, lam = cutmix(inputs, labels, alpha=cutmix_alpha)\n",
    "            outputs = model(inputs)\n",
    "            loss = lam * criterion(outputs, labels_a) + (1 - lam) * criterion(outputs, labels_b)\n",
    "        else:\n",
    "            outputs = model(inputs)\n",
    "            loss = criterion(outputs, labels)\n",
    "        \n",
    "        loss.backward()\n",
    "        optimizer.step()\n",
    "\n",
    "        running_loss += loss.item()\n",
    "        predicted_labels = torch.argmax(outputs, dim=1)\n",
    "        total_labels += labels.size(0)\n",
    "        correct_labels += torch.sum(predicted_labels == labels).item()\n",
    "\n",
    "    train_loss = running_loss / len(train_loader)\n",
    "    train_accuracy = correct_labels / total_labels\n",
    "    \n",
    "    return train_loss, train_accuracy"
   ]
  },
  {
   "cell_type": "code",
   "execution_count": 6,
   "id": "a8fec0c9-e9e2-43db-8900-2806ffe825cf",
   "metadata": {},
   "outputs": [],
   "source": [
    "# Evaluation function\n",
    "def evaluate_nn(model, test_loader, criterion, device):\n",
    "    \"\"\"Function to evaluate the neural network on the test data.\"\"\"\n",
    "    model.eval()\n",
    "    running_loss = 0.0\n",
    "    correct_labels = 0\n",
    "    total_labels = 0\n",
    "\n",
    "    with torch.no_grad():\n",
    "        for inputs, labels in test_loader:\n",
    "            inputs, labels = inputs.to(device), labels.to(device)\n",
    "            outputs = model(inputs)\n",
    "            loss = criterion(outputs, labels)\n",
    "\n",
    "            running_loss += loss.item()\n",
    "            predicted_labels = torch.argmax(outputs, dim=1)\n",
    "            total_labels += labels.size(0)\n",
    "            correct_labels += torch.sum(predicted_labels == labels).item()\n",
    "\n",
    "    test_loss = running_loss / len(test_loader)\n",
    "    test_accuracy = correct_labels / total_labels\n",
    "    return test_loss, test_accuracy"
   ]
  },
  {
   "cell_type": "code",
   "execution_count": 7,
   "id": "c9cd4beb-0350-45b5-97d1-0daad9615b9f",
   "metadata": {},
   "outputs": [],
   "source": [
    "def prepare_model(model_name, num_classes):\n",
    "    \"\"\"\n",
    "    Prepare a model for training, either as a feature extractor or for fine-tuning.\n",
    "    \"\"\"\n",
    "    # Load the pre-trained model\n",
    "    if model_name == \"resnet\":\n",
    "        model = models.resnet50(weights=models.ResNet50_Weights.IMAGENET1K_V2)\n",
    "    elif model_name == \"squeezenet\":\n",
    "        model = models.squeezenet1_1(weights=models.SqueezeNet1_1_Weights.DEFAULT)\n",
    "    elif model_name == \"convnext\":\n",
    "        model = models.convnext_base(weights=models.ConvNeXt_Base_Weights.IMAGENET1K_V1)\n",
    "    elif model_name == \"vit\":\n",
    "        model = models.vit_b_16(weights=models.ViT_B_16_Weights.DEFAULT)\n",
    "    elif model_name == \"mobilenet\":\n",
    "        model = models.mobilenet_v2(weights=models.MobileNet_V2_Weights.IMAGENET1K_V1)\n",
    "    else:\n",
    "        raise ValueError(f\"Unsupported model name: {model_name}\")\n",
    "    \n",
    "    # Modify the last layer for the dataset\n",
    "    if model_name == \"squeezenet\":\n",
    "        model.classifier[1] = nn.Conv2d(512, num_classes, kernel_size=1)\n",
    "    elif model_name == \"convnext\":\n",
    "        model.classifier[2] = nn.Linear(model.classifier[2].in_features, num_classes)\n",
    "    elif model_name == \"vit\":\n",
    "        model.heads.head = nn.Linear(model.heads.head.in_features, num_classes)\n",
    "    elif model_name == \"mobilenet\":\n",
    "        model.classifier[1] = nn.Linear(model.classifier[1].in_features, num_classes)\n",
    "    else:  # ResNet\n",
    "        model.fc = nn.Linear(model.fc.in_features, num_classes)\n",
    "\n",
    "    # # If using as a fixed feature extractor, freeze all layers except the final layer\n",
    "    # if feature_extractor:\n",
    "    #     for param in model.parameters():\n",
    "    #         param.requires_grad = False\n",
    "        \n",
    "    #     # Enable gradients only for the last layer\n",
    "    #     if model_name == \"squeezenet\":\n",
    "    #         for param in model.classifier[1].parameters():\n",
    "    #             param.requires_grad = True\n",
    "    #     elif model_name == \"convnext\":\n",
    "    #         for param in model.classifier[2].parameters():\n",
    "    #             param.requires_grad = True\n",
    "    #     elif model_name == \"vit\":\n",
    "    #         for param in model.heads.head.parameters():\n",
    "    #             param.requires_grad = True\n",
    "    #     else:  # ResNet\n",
    "    #         for param in model.fc.parameters():\n",
    "    #             param.requires_grad = True\n",
    "\n",
    "    return model"
   ]
  },
  {
   "cell_type": "code",
   "execution_count": 8,
   "id": "d891c78f-5f2a-4e13-840d-8ee7021a346b",
   "metadata": {},
   "outputs": [],
   "source": [
    "def run_training(\n",
    "    model_name,\n",
    "    model,\n",
    "    train_loader,\n",
    "    test_loader,\n",
    "    lr,\n",
    "    num_epochs,\n",
    "    num_classes,\n",
    "    cutmix_alpha=1.0,\n",
    "    cutmix_prob=0.5,\n",
    "    weight_decay=1e-4,\n",
    "    log_dir=\"runs\",\n",
    "    save_path=\"saved_models\"\n",
    "):\n",
    "    \"\"\"\n",
    "    Run training for a model.\n",
    "\n",
    "    Args:\n",
    "        model_name (str): Name of the model.\n",
    "        model: An instance of the model.\n",
    "        train_loader: DataLoader for training data.\n",
    "        test_loader: DataLoader for testing data.\n",
    "        lr (float): Learning rate.\n",
    "        num_epochs (int): Number of epochs.\n",
    "        num_classes (int): Number of classes in the dataset.\n",
    "        alpha (float): Mixup parameter.\n",
    "        cutmix_prob (float): Probability of applying CutMix.\n",
    "        weight_decay (float): Weight decay for optimizer.\n",
    "        log_dir (str): Directory for TensorBoard logs.\n",
    "        save_path (str): Directory to save the trained model.\n",
    "    \"\"\"\n",
    "    device = torch.device(\"cuda\" if torch.cuda.is_available() else \"cpu\")\n",
    "\n",
    "    model = model.to(device)\n",
    "\n",
    "    # Define optimizer and learning rate scheduler\n",
    "    optimizer = optim.AdamW(model.parameters(), lr=lr, weight_decay=weight_decay)\n",
    "    scheduler = optim.lr_scheduler.CosineAnnealingLR(optimizer, T_max=num_epochs)\n",
    "\n",
    "    # Loss function\n",
    "    criterion = nn.CrossEntropyLoss()\n",
    "\n",
    "\n",
    "    # Training loop\n",
    "    train_losses, train_accuracies = [], []\n",
    "    test_losses, test_accuracies = [], []\n",
    "    learning_rates = []\n",
    "\n",
    "    # TensorBoard setup\n",
    "    writer = SummaryWriter(log_dir=log_dir)\n",
    "\n",
    "    for epoch in tqdm(range(num_epochs)):\n",
    "        # Training\n",
    "        train_loss, train_accuracy = train_nn(model, train_loader, criterion, optimizer, device, cutmix_alpha, cutmix_prob)\n",
    "        # Evaluation\n",
    "        test_loss, test_accuracy = evaluate_nn(model, test_loader, criterion, device)\n",
    "        \n",
    "        # Get current learning rate\n",
    "        current_lr = optimizer.param_groups[0]['lr']\n",
    "        learning_rates.append(current_lr)\n",
    "        \n",
    "        # Update scheduler\n",
    "        scheduler.step()\n",
    "        \n",
    "        # Store metrics\n",
    "        train_losses.append(train_loss)\n",
    "        train_accuracies.append(train_accuracy)\n",
    "        test_losses.append(test_loss)\n",
    "        test_accuracies.append(test_accuracy)\n",
    "\n",
    "        # Logging to TensorBoard\n",
    "        writer.add_scalar(\"Loss/Train\", train_loss, epoch)\n",
    "        writer.add_scalar(\"Loss/Test\", test_loss, epoch)\n",
    "        writer.add_scalar(\"Accuracy/Train\", train_accuracy, epoch)\n",
    "        writer.add_scalar(\"Accuracy/Test\", test_accuracy, epoch)\n",
    "        writer.add_scalar(\"Learning_Rate\", current_lr, epoch)\n",
    "\n",
    "        # Logging to console\n",
    "        print(f\"Epoch {epoch + 1}/{num_epochs}\")\n",
    "        print(f\"Train Loss: {train_loss:.4f}, Train Accuracy: {train_accuracy:.4f}\")\n",
    "        print(f\"Test Loss: {test_loss:.4f}, Test Accuracy: {test_accuracy:.4f}\")\n",
    "        print(f\"Learning Rate: {current_lr:.6f}\")\n",
    "\n",
    "\n",
    "\n",
    "    # Save the model\n",
    "    os.makedirs(save_path, exist_ok=True)\n",
    "    model_save_path = os.path.join(save_path, f\"{model_name}_final.pth\")\n",
    "    torch.save(model.state_dict(), model_save_path)\n",
    "    print(f\"Model saved to {model_save_path}\")\n",
    "\n",
    "    # Close TensorBoard writer\n",
    "    writer.close()\n",
    "\n",
    "    return model, train_losses, train_accuracies, test_losses, test_accuracies, learning_rates"
   ]
  },
  {
   "cell_type": "code",
   "execution_count": 18,
   "id": "3729044b-0c3b-40bb-8662-fb39a00f38e9",
   "metadata": {},
   "outputs": [],
   "source": [
    "def combine_training(\n",
    "    model_name,\n",
    "    train_loader,\n",
    "    test_loader,\n",
    "    lr,\n",
    "    fixed_num_epochs,\n",
    "    full_num_epochs,\n",
    "    num_classes,\n",
    "    freeze_feature_extractor=False,\n",
    "    full_finetune=False,\n",
    "    weight_decay=1e-4,\n",
    "    cutmix_alpha=1.0,\n",
    "    cutmix_prob=0.5,\n",
    "    log_dir=\"runs\",\n",
    "    save_path=\"saved_models\"\n",
    "):\n",
    "    \"\"\"\n",
    "    Combined training function for using the model as a fixed feature extractor\n",
    "    and/or fully fine-tuning the model.\n",
    "\n",
    "    Args:\n",
    "        model_name (str): Name of the model.\n",
    "        train_loader: DataLoader for training data.\n",
    "        test_loader: DataLoader for testing data.\n",
    "        lr (float): Learning rate.\n",
    "        num_epochs (int): Number of epochs.\n",
    "        num_classes (int): Number of classes in the dataset.(now redundant)\n",
    "        freeze_feature_extractor (bool): Whether to freeze feature extractor layers.\n",
    "        full_finetune (bool): Whether to fine-tune the entire model.\n",
    "        weight_decay (float): Weight decay for optimizer.\n",
    "        cutmix_alpha (float): Mixup parameter.\n",
    "        cutmix_prob (float): Probability of applying CutMix.\n",
    "        log_dir (str): Directory for TensorBoard logs.\n",
    "        save_path (str): Directory to save the trained model.\n",
    "    \"\"\"\n",
    "    device = torch.device(\"cuda\" if torch.cuda.is_available() else \"cpu\")\n",
    "\n",
    "    # Number of classes\n",
    "    num_classes = len(train_loader.dataset.classes)\n",
    "\n",
    "    # Prepare the model\n",
    "    model = prepare_model(model_name, num_classes)\n",
    "\n",
    "    combined_train_losses = []\n",
    "    combined_train_accuracies = []\n",
    "    combined_test_losses = []\n",
    "    combined_test_accuracies = []\n",
    "\n",
    "    # If freeze_feature_extractor is enabled\n",
    "    if freeze_feature_extractor:\n",
    "        print(f\"Using {model_name} as a fixed feature extractor.\")\n",
    "        for param in model.parameters():\n",
    "            param.requires_grad = False\n",
    "    \n",
    "        # Check if all parameters are frozen\n",
    "        all_frozen = all(not param.requires_grad for param in model.parameters())\n",
    "        print(f\"Are all weights frozen? {all_frozen}\")\n",
    "\n",
    "        # # Unfreeze the classifier layer\n",
    "        # for param in model.fc.parameters():\n",
    "        #     param.requires_grad = True\n",
    "\n",
    "        # num_logits = model.fc.in_features\n",
    "        # model.fc = nn.Linear(num_logits, num_classes)\n",
    "\n",
    "        # Update the classification head based on model architecture\n",
    "        if hasattr(model, \"fc\"):  # Models with fully connected layers (e.g., ResNet)\n",
    "            model.fc = nn.Linear(model.fc.in_features, num_classes)\n",
    "        elif hasattr(model, \"classifier\"):  # Models like AlexNet, ConvNeXt, MobileNet, SqueezeNet\n",
    "            if model_name == \"mobilenet\":  # MobileNet specific adjustment\n",
    "                model.classifier[1] = nn.Linear(model.classifier[1].in_features, num_classes)\n",
    "            elif model_name == \"squeezenet\":  # SqueezeNet specific adjustment\n",
    "                model.classifier[1] = nn.Conv2d(512, num_classes, kernel_size=1)\n",
    "            else:  # Generic case for other classifier-based models\n",
    "                model.classifier[-1] = nn.Linear(model.classifier[-1].in_features, num_classes)\n",
    "        elif hasattr(model, \"heads\"):  # Vision Transformer (ViT)\n",
    "            model.heads.head = nn.Linear(model.heads.head.in_features, num_classes)\n",
    "        else:\n",
    "            raise ValueError(f\"Unsupported model architecture for {model_name}\")\n",
    "\n",
    "\n",
    "        print(\"Training with fixed feature extractor...\")\n",
    "        start_time = time.time()\n",
    "        model, train_losses, train_accuracies, test_losses, test_accuracies, learning_rates = run_training(\n",
    "            model_name=model_name,\n",
    "            model=model,\n",
    "            train_loader=train_loader,\n",
    "            test_loader=test_loader,\n",
    "            lr=lr,\n",
    "            num_epochs=fixed_num_epochs,\n",
    "            num_classes=num_classes,\n",
    "            cutmix_alpha=cutmix_alpha,\n",
    "            cutmix_prob=cutmix_prob,\n",
    "            weight_decay=weight_decay,\n",
    "            log_dir=f\"{log_dir}/fixed_feature_extractor\",\n",
    "            save_path=f\"{save_path}/fixed_feature_extractor\",\n",
    "        )\n",
    "        elapsed_time = time.time() - start_time\n",
    "        # writer.add_scalar(\"Training Time/Fixed Feature Extractor\", elapsed_time)\n",
    "        print(f\"Fixed feature extractor training completed in {elapsed_time:.2f} seconds.\")\n",
    "        \n",
    "        combined_train_losses.extend(train_losses)\n",
    "        combined_test_losses.extend(test_losses)\n",
    "        combined_train_accuracies.extend(train_accuracies)\n",
    "        combined_test_accuracies.extend(test_accuracies)\n",
    "\n",
    "    # If full_finetune is enabled\n",
    "    if full_finetune:\n",
    "        print(f\"Fine-tuning the entire {model_name} model.\")\n",
    "        for param in model.parameters():\n",
    "            param.requires_grad = True\n",
    "\n",
    "        # Verify if all parameters are set to requires_grad = True\n",
    "        all_trainable = all(param.requires_grad for param in model.parameters())\n",
    "        print(f\"All parameters set to requires_grad=True: {all_trainable}\")\n",
    "\n",
    "        print(\"Training with full fine-tuning...\")\n",
    "        start_time = time.time()\n",
    "        model, train_losses, train_accuracies, test_losses, test_accuracies, learning_rates = run_training(\n",
    "            model_name=model_name,\n",
    "            model=model,\n",
    "            train_loader=train_loader,\n",
    "            test_loader=test_loader,\n",
    "            lr=lr * 0.5,                            # Lowering the learning rate\n",
    "            num_epochs=full_num_epochs,\n",
    "            num_classes=num_classes,\n",
    "            cutmix_alpha=cutmix_alpha,\n",
    "            cutmix_prob=cutmix_prob,\n",
    "            weight_decay=weight_decay,\n",
    "            log_dir=f\"{log_dir}/full_finetune\",\n",
    "            save_path=f\"{save_path}/full_finetune\",\n",
    "        )\n",
    "        elapsed_time = time.time() - start_time\n",
    "        # writer.add_scalar(\"Training Time/Full Fine-Tuning\", elapsed_time)\n",
    "        print(f\"Full fine-tuning completed in {elapsed_time:.2f} seconds.\")\n",
    "\n",
    "        combined_train_losses.extend(train_losses)\n",
    "        combined_test_losses.extend(test_losses)\n",
    "        combined_train_accuracies.extend(train_accuracies)\n",
    "        combined_test_accuracies.extend(test_accuracies)\n",
    "    \n",
    "    return model, combined_train_losses, combined_test_losses, combined_train_accuracies, combined_test_accuracies\n",
    "\n",
    "    # Close TensorBoard writer\n",
    "    # writer.close()"
   ]
  },
  {
   "cell_type": "code",
   "execution_count": 19,
   "id": "d3c956ee-5cfc-4a08-bf6c-8f1a20221125",
   "metadata": {},
   "outputs": [],
   "source": [
    "data_dir = '/home/ahmad/courses/cuda_lab/MA-INF-4308-Lab-Vision-Systems/Assignment-3/dataset'"
   ]
  },
  {
   "cell_type": "code",
   "execution_count": 20,
   "id": "0f3df682-99a1-498d-bf88-bee004df9d9a",
   "metadata": {},
   "outputs": [],
   "source": [
    "# Set device\n",
    "device = torch.device(\"cuda\" if torch.cuda.is_available() else \"cpu\")\n",
    "    \n",
    "# Set random seed\n",
    "set_seed()"
   ]
  },
  {
   "cell_type": "code",
   "execution_count": 21,
   "id": "85b179b1-cb2b-4752-9253-e8a32d593625",
   "metadata": {},
   "outputs": [],
   "source": [
    "# Define transformations\n",
    "train_transforms = transforms.Compose([\n",
    "    transforms.RandomResizedCrop(224),\n",
    "    transforms.RandomHorizontalFlip(),\n",
    "    transforms.RandomRotation(15),\n",
    "    transforms.RandomApply([\n",
    "        transforms.ColorJitter(brightness=0.4, contrast=0.4, saturation=0.4, hue=0.1)\n",
    "    ], p=0.8),\n",
    "    # AutoAugment(AutoAugmentPolicy.IMAGENET),\n",
    "    transforms.ToTensor(),\n",
    "    transforms.Normalize([0.485, 0.456, 0.406], [0.229, 0.224, 0.225])\n",
    "])\n",
    "\n",
    "val_transforms = transforms.Compose([\n",
    "    transforms.Resize(256),\n",
    "    transforms.CenterCrop(224),\n",
    "    transforms.ToTensor(),\n",
    "    transforms.Normalize([0.485, 0.456, 0.406], [0.229, 0.224, 0.225])\n",
    "])"
   ]
  },
  {
   "cell_type": "code",
   "execution_count": 22,
   "id": "3c6bcf47-e3bd-4ef8-addd-973d5a6e5a07",
   "metadata": {},
   "outputs": [],
   "source": [
    "# Load datasets\n",
    "train_dataset = datasets.ImageFolder(os.path.join(data_dir, 'train'), train_transforms)\n",
    "val_dataset = datasets.ImageFolder(os.path.join(data_dir, 'val'), val_transforms)"
   ]
  },
  {
   "cell_type": "code",
   "execution_count": 23,
   "id": "f30e05d4-f037-4f14-9057-b76bffbf3d70",
   "metadata": {},
   "outputs": [
    {
     "data": {
      "text/plain": [
       "(['person', 'robot'], ['person', 'robot'])"
      ]
     },
     "execution_count": 23,
     "metadata": {},
     "output_type": "execute_result"
    }
   ],
   "source": [
    "train_dataset.classes, val_dataset.classes"
   ]
  },
  {
   "cell_type": "code",
   "execution_count": 24,
   "id": "3eda0564-a32b-4178-a0cc-77205b162751",
   "metadata": {},
   "outputs": [],
   "source": [
    "# Create data loaders\n",
    "train_loader = DataLoader(train_dataset, batch_size=32, shuffle=True, num_workers=4)\n",
    "val_loader = DataLoader(val_dataset, batch_size=32, shuffle=False, num_workers=4)"
   ]
  },
  {
   "cell_type": "code",
   "execution_count": 25,
   "id": "85e967ed-ecb5-47b3-b85f-cfb8750d7fd9",
   "metadata": {},
   "outputs": [
    {
     "name": "stdout",
     "output_type": "stream",
     "text": [
      "Using convnext as a fixed feature extractor.\n",
      "Are all weights frozen? True\n",
      "Training with fixed feature extractor...\n"
     ]
    },
    {
     "name": "stderr",
     "output_type": "stream",
     "text": [
      " 20%|█████████████████████████████▊                                                                                                                       | 1/5 [01:19<05:17, 79.43s/it]"
     ]
    },
    {
     "name": "stdout",
     "output_type": "stream",
     "text": [
      "Epoch 1/5\n",
      "Train Loss: 0.5121, Train Accuracy: 0.8294\n",
      "Test Loss: 0.2149, Test Accuracy: 0.9833\n",
      "Learning Rate: 0.001000\n"
     ]
    },
    {
     "name": "stderr",
     "output_type": "stream",
     "text": [
      " 40%|███████████████████████████████████████████████████████████▌                                                                                         | 2/5 [02:53<04:24, 88.21s/it]"
     ]
    },
    {
     "name": "stdout",
     "output_type": "stream",
     "text": [
      "Epoch 2/5\n",
      "Train Loss: 0.4086, Train Accuracy: 0.8118\n",
      "Test Loss: 0.1105, Test Accuracy: 1.0000\n",
      "Learning Rate: 0.000905\n"
     ]
    },
    {
     "name": "stderr",
     "output_type": "stream",
     "text": [
      " 60%|█████████████████████████████████████████████████████████████████████████████████████████▍                                                           | 3/5 [04:39<03:12, 96.29s/it]"
     ]
    },
    {
     "name": "stdout",
     "output_type": "stream",
     "text": [
      "Epoch 3/5\n",
      "Train Loss: 0.3641, Train Accuracy: 0.8794\n",
      "Test Loss: 0.0834, Test Accuracy: 1.0000\n",
      "Learning Rate: 0.000655\n"
     ]
    },
    {
     "name": "stderr",
     "output_type": "stream",
     "text": [
      " 80%|███████████████████████████████████████████████████████████████████████████████████████████████████████████████████████▏                             | 4/5 [06:24<01:39, 99.60s/it]"
     ]
    },
    {
     "name": "stdout",
     "output_type": "stream",
     "text": [
      "Epoch 4/5\n",
      "Train Loss: 0.3997, Train Accuracy: 0.8441\n",
      "Test Loss: 0.0782, Test Accuracy: 1.0000\n",
      "Learning Rate: 0.000345\n"
     ]
    },
    {
     "name": "stderr",
     "output_type": "stream",
     "text": [
      "100%|█████████████████████████████████████████████████████████████████████████████████████████████████████████████████████████████████████████████████████| 5/5 [08:19<00:00, 99.98s/it]"
     ]
    },
    {
     "name": "stdout",
     "output_type": "stream",
     "text": [
      "Epoch 5/5\n",
      "Train Loss: 0.4169, Train Accuracy: 0.7529\n",
      "Test Loss: 0.0775, Test Accuracy: 1.0000\n",
      "Learning Rate: 0.000095\n"
     ]
    },
    {
     "name": "stderr",
     "output_type": "stream",
     "text": [
      "\n"
     ]
    },
    {
     "name": "stdout",
     "output_type": "stream",
     "text": [
      "Model saved to models/fixed_feature_extractor/convnext_final.pth\n",
      "Fixed feature extractor training completed in 500.27 seconds.\n",
      "Fine-tuning the entire convnext model.\n",
      "All parameters set to requires_grad=True: True\n",
      "Training with full fine-tuning...\n"
     ]
    },
    {
     "name": "stderr",
     "output_type": "stream",
     "text": [
      "  5%|███████▎                                                                                                                                         | 1/20 [04:10<1:19:14, 250.22s/it]"
     ]
    },
    {
     "name": "stdout",
     "output_type": "stream",
     "text": [
      "Epoch 1/20\n",
      "Train Loss: 0.5215, Train Accuracy: 0.7529\n",
      "Test Loss: 0.0780, Test Accuracy: 1.0000\n",
      "Learning Rate: 0.000500\n"
     ]
    },
    {
     "name": "stderr",
     "output_type": "stream",
     "text": [
      " 10%|██████████████▌                                                                                                                                  | 2/20 [08:16<1:14:22, 247.89s/it]"
     ]
    },
    {
     "name": "stdout",
     "output_type": "stream",
     "text": [
      "Epoch 2/20\n",
      "Train Loss: 0.3710, Train Accuracy: 0.8912\n",
      "Test Loss: 0.0640, Test Accuracy: 1.0000\n",
      "Learning Rate: 0.000497\n"
     ]
    },
    {
     "name": "stderr",
     "output_type": "stream",
     "text": [
      " 15%|█████████████████████▊                                                                                                                           | 3/20 [12:16<1:09:13, 244.35s/it]"
     ]
    },
    {
     "name": "stdout",
     "output_type": "stream",
     "text": [
      "Epoch 3/20\n",
      "Train Loss: 0.3512, Train Accuracy: 0.8588\n",
      "Test Loss: 0.0377, Test Accuracy: 1.0000\n",
      "Learning Rate: 0.000488\n"
     ]
    },
    {
     "name": "stderr",
     "output_type": "stream",
     "text": [
      " 20%|█████████████████████████████                                                                                                                    | 4/20 [16:16<1:04:44, 242.77s/it]"
     ]
    },
    {
     "name": "stdout",
     "output_type": "stream",
     "text": [
      "Epoch 4/20\n",
      "Train Loss: 0.3858, Train Accuracy: 0.8235\n",
      "Test Loss: 0.0392, Test Accuracy: 1.0000\n",
      "Learning Rate: 0.000473\n"
     ]
    },
    {
     "name": "stderr",
     "output_type": "stream",
     "text": [
      " 25%|████████████████████████████████████▎                                                                                                            | 5/20 [20:19<1:00:40, 242.69s/it]"
     ]
    },
    {
     "name": "stdout",
     "output_type": "stream",
     "text": [
      "Epoch 5/20\n",
      "Train Loss: 0.2955, Train Accuracy: 0.9147\n",
      "Test Loss: 0.0273, Test Accuracy: 1.0000\n",
      "Learning Rate: 0.000452\n"
     ]
    },
    {
     "name": "stderr",
     "output_type": "stream",
     "text": [
      " 30%|████████████████████████████████████████████                                                                                                       | 6/20 [24:04<55:11, 236.53s/it]"
     ]
    },
    {
     "name": "stdout",
     "output_type": "stream",
     "text": [
      "Epoch 6/20\n",
      "Train Loss: 0.2969, Train Accuracy: 0.8647\n",
      "Test Loss: 0.0195, Test Accuracy: 1.0000\n",
      "Learning Rate: 0.000427\n"
     ]
    },
    {
     "name": "stderr",
     "output_type": "stream",
     "text": [
      " 35%|███████████████████████████████████████████████████▍                                                                                               | 7/20 [27:50<50:32, 233.24s/it]"
     ]
    },
    {
     "name": "stdout",
     "output_type": "stream",
     "text": [
      "Epoch 7/20\n",
      "Train Loss: 0.2699, Train Accuracy: 0.9235\n",
      "Test Loss: 0.0298, Test Accuracy: 1.0000\n",
      "Learning Rate: 0.000397\n"
     ]
    },
    {
     "name": "stderr",
     "output_type": "stream",
     "text": [
      " 40%|██████████████████████████████████████████████████████████▊                                                                                        | 8/20 [31:30<45:47, 228.97s/it]"
     ]
    },
    {
     "name": "stdout",
     "output_type": "stream",
     "text": [
      "Epoch 8/20\n",
      "Train Loss: 0.3390, Train Accuracy: 0.8559\n",
      "Test Loss: 0.0340, Test Accuracy: 1.0000\n",
      "Learning Rate: 0.000363\n"
     ]
    },
    {
     "name": "stderr",
     "output_type": "stream",
     "text": [
      " 45%|██████████████████████████████████████████████████████████████████▏                                                                                | 9/20 [35:20<42:02, 229.32s/it]"
     ]
    },
    {
     "name": "stdout",
     "output_type": "stream",
     "text": [
      "Epoch 9/20\n",
      "Train Loss: 0.2611, Train Accuracy: 0.9559\n",
      "Test Loss: 0.0149, Test Accuracy: 1.0000\n",
      "Learning Rate: 0.000327\n"
     ]
    },
    {
     "name": "stderr",
     "output_type": "stream",
     "text": [
      " 50%|█████████████████████████████████████████████████████████████████████████                                                                         | 10/20 [39:15<38:29, 231.00s/it]"
     ]
    },
    {
     "name": "stdout",
     "output_type": "stream",
     "text": [
      "Epoch 10/20\n",
      "Train Loss: 0.3930, Train Accuracy: 0.7971\n",
      "Test Loss: 0.0263, Test Accuracy: 1.0000\n",
      "Learning Rate: 0.000289\n"
     ]
    },
    {
     "name": "stderr",
     "output_type": "stream",
     "text": [
      " 55%|████████████████████████████████████████████████████████████████████████████████▎                                                                 | 11/20 [43:04<34:35, 230.62s/it]"
     ]
    },
    {
     "name": "stdout",
     "output_type": "stream",
     "text": [
      "Epoch 11/20\n",
      "Train Loss: 0.2564, Train Accuracy: 0.9206\n",
      "Test Loss: 0.0169, Test Accuracy: 1.0000\n",
      "Learning Rate: 0.000250\n"
     ]
    },
    {
     "name": "stderr",
     "output_type": "stream",
     "text": [
      " 55%|████████████████████████████████████████████████████████████████████████████████▎                                                                 | 11/20 [46:40<38:11, 254.63s/it]\n"
     ]
    },
    {
     "ename": "KeyboardInterrupt",
     "evalue": "",
     "output_type": "error",
     "traceback": [
      "\u001b[0;31m---------------------------------------------------------------------------\u001b[0m",
      "\u001b[0;31mKeyboardInterrupt\u001b[0m                         Traceback (most recent call last)",
      "Cell \u001b[0;32mIn[25], line 1\u001b[0m\n\u001b[0;32m----> 1\u001b[0m model, combined_train_losses, combined_test_losses, combined_train_accuracies, combined_test_accuracies \u001b[38;5;241m=\u001b[39m \u001b[43mcombine_training\u001b[49m\u001b[43m(\u001b[49m\n\u001b[1;32m      2\u001b[0m \u001b[43m    \u001b[49m\u001b[43mmodel_name\u001b[49m\u001b[38;5;241;43m=\u001b[39;49m\u001b[38;5;124;43m\"\u001b[39;49m\u001b[38;5;124;43mconvnext\u001b[39;49m\u001b[38;5;124;43m\"\u001b[39;49m\u001b[43m,\u001b[49m\n\u001b[1;32m      3\u001b[0m \u001b[43m    \u001b[49m\u001b[43mtrain_loader\u001b[49m\u001b[38;5;241;43m=\u001b[39;49m\u001b[43mtrain_loader\u001b[49m\u001b[43m,\u001b[49m\n\u001b[1;32m      4\u001b[0m \u001b[43m    \u001b[49m\u001b[43mtest_loader\u001b[49m\u001b[38;5;241;43m=\u001b[39;49m\u001b[43mval_loader\u001b[49m\u001b[43m,\u001b[49m\n\u001b[1;32m      5\u001b[0m \u001b[43m    \u001b[49m\u001b[43mlr\u001b[49m\u001b[38;5;241;43m=\u001b[39;49m\u001b[38;5;241;43m0.001\u001b[39;49m\u001b[43m,\u001b[49m\n\u001b[1;32m      6\u001b[0m \u001b[43m    \u001b[49m\u001b[43mfixed_num_epochs\u001b[49m\u001b[38;5;241;43m=\u001b[39;49m\u001b[38;5;241;43m5\u001b[39;49m\u001b[43m,\u001b[49m\n\u001b[1;32m      7\u001b[0m \u001b[43m    \u001b[49m\u001b[43mfull_num_epochs\u001b[49m\u001b[38;5;241;43m=\u001b[39;49m\u001b[38;5;241;43m20\u001b[39;49m\u001b[43m,\u001b[49m\n\u001b[1;32m      8\u001b[0m \u001b[43m    \u001b[49m\u001b[43mnum_classes\u001b[49m\u001b[38;5;241;43m=\u001b[39;49m\u001b[38;5;241;43m2\u001b[39;49m\u001b[43m,\u001b[49m\n\u001b[1;32m      9\u001b[0m \u001b[43m    \u001b[49m\u001b[43mfreeze_feature_extractor\u001b[49m\u001b[38;5;241;43m=\u001b[39;49m\u001b[38;5;28;43;01mTrue\u001b[39;49;00m\u001b[43m,\u001b[49m\n\u001b[1;32m     10\u001b[0m \u001b[43m    \u001b[49m\u001b[43mfull_finetune\u001b[49m\u001b[38;5;241;43m=\u001b[39;49m\u001b[38;5;28;43;01mTrue\u001b[39;49;00m\u001b[43m,\u001b[49m\n\u001b[1;32m     11\u001b[0m \u001b[43m    \u001b[49m\u001b[43mlog_dir\u001b[49m\u001b[38;5;241;43m=\u001b[39;49m\u001b[38;5;124;43m\"\u001b[39;49m\u001b[38;5;124;43mlogs\u001b[39;49m\u001b[38;5;124;43m\"\u001b[39;49m\u001b[43m,\u001b[49m\n\u001b[1;32m     12\u001b[0m \u001b[43m    \u001b[49m\u001b[43msave_path\u001b[49m\u001b[38;5;241;43m=\u001b[39;49m\u001b[38;5;124;43m\"\u001b[39;49m\u001b[38;5;124;43mmodels\u001b[39;49m\u001b[38;5;124;43m\"\u001b[39;49m\n\u001b[1;32m     13\u001b[0m \u001b[43m)\u001b[49m\n",
      "Cell \u001b[0;32mIn[18], line 119\u001b[0m, in \u001b[0;36mcombine_training\u001b[0;34m(model_name, train_loader, test_loader, lr, fixed_num_epochs, full_num_epochs, num_classes, freeze_feature_extractor, full_finetune, weight_decay, cutmix_alpha, cutmix_prob, log_dir, save_path)\u001b[0m\n\u001b[1;32m    117\u001b[0m \u001b[38;5;28mprint\u001b[39m(\u001b[38;5;124m\"\u001b[39m\u001b[38;5;124mTraining with full fine-tuning...\u001b[39m\u001b[38;5;124m\"\u001b[39m)\n\u001b[1;32m    118\u001b[0m start_time \u001b[38;5;241m=\u001b[39m time\u001b[38;5;241m.\u001b[39mtime()\n\u001b[0;32m--> 119\u001b[0m model, train_losses, train_accuracies, test_losses, test_accuracies, learning_rates \u001b[38;5;241m=\u001b[39m \u001b[43mrun_training\u001b[49m\u001b[43m(\u001b[49m\n\u001b[1;32m    120\u001b[0m \u001b[43m    \u001b[49m\u001b[43mmodel_name\u001b[49m\u001b[38;5;241;43m=\u001b[39;49m\u001b[43mmodel_name\u001b[49m\u001b[43m,\u001b[49m\n\u001b[1;32m    121\u001b[0m \u001b[43m    \u001b[49m\u001b[43mmodel\u001b[49m\u001b[38;5;241;43m=\u001b[39;49m\u001b[43mmodel\u001b[49m\u001b[43m,\u001b[49m\n\u001b[1;32m    122\u001b[0m \u001b[43m    \u001b[49m\u001b[43mtrain_loader\u001b[49m\u001b[38;5;241;43m=\u001b[39;49m\u001b[43mtrain_loader\u001b[49m\u001b[43m,\u001b[49m\n\u001b[1;32m    123\u001b[0m \u001b[43m    \u001b[49m\u001b[43mtest_loader\u001b[49m\u001b[38;5;241;43m=\u001b[39;49m\u001b[43mtest_loader\u001b[49m\u001b[43m,\u001b[49m\n\u001b[1;32m    124\u001b[0m \u001b[43m    \u001b[49m\u001b[43mlr\u001b[49m\u001b[38;5;241;43m=\u001b[39;49m\u001b[43mlr\u001b[49m\u001b[43m \u001b[49m\u001b[38;5;241;43m*\u001b[39;49m\u001b[43m \u001b[49m\u001b[38;5;241;43m0.5\u001b[39;49m\u001b[43m,\u001b[49m\u001b[43m                            \u001b[49m\u001b[38;5;66;43;03m# Lowering the learning rate\u001b[39;49;00m\n\u001b[1;32m    125\u001b[0m \u001b[43m    \u001b[49m\u001b[43mnum_epochs\u001b[49m\u001b[38;5;241;43m=\u001b[39;49m\u001b[43mfull_num_epochs\u001b[49m\u001b[43m,\u001b[49m\n\u001b[1;32m    126\u001b[0m \u001b[43m    \u001b[49m\u001b[43mnum_classes\u001b[49m\u001b[38;5;241;43m=\u001b[39;49m\u001b[43mnum_classes\u001b[49m\u001b[43m,\u001b[49m\n\u001b[1;32m    127\u001b[0m \u001b[43m    \u001b[49m\u001b[43mcutmix_alpha\u001b[49m\u001b[38;5;241;43m=\u001b[39;49m\u001b[43mcutmix_alpha\u001b[49m\u001b[43m,\u001b[49m\n\u001b[1;32m    128\u001b[0m \u001b[43m    \u001b[49m\u001b[43mcutmix_prob\u001b[49m\u001b[38;5;241;43m=\u001b[39;49m\u001b[43mcutmix_prob\u001b[49m\u001b[43m,\u001b[49m\n\u001b[1;32m    129\u001b[0m \u001b[43m    \u001b[49m\u001b[43mweight_decay\u001b[49m\u001b[38;5;241;43m=\u001b[39;49m\u001b[43mweight_decay\u001b[49m\u001b[43m,\u001b[49m\n\u001b[1;32m    130\u001b[0m \u001b[43m    \u001b[49m\u001b[43mlog_dir\u001b[49m\u001b[38;5;241;43m=\u001b[39;49m\u001b[38;5;124;43mf\u001b[39;49m\u001b[38;5;124;43m\"\u001b[39;49m\u001b[38;5;132;43;01m{\u001b[39;49;00m\u001b[43mlog_dir\u001b[49m\u001b[38;5;132;43;01m}\u001b[39;49;00m\u001b[38;5;124;43m/full_finetune\u001b[39;49m\u001b[38;5;124;43m\"\u001b[39;49m\u001b[43m,\u001b[49m\n\u001b[1;32m    131\u001b[0m \u001b[43m    \u001b[49m\u001b[43msave_path\u001b[49m\u001b[38;5;241;43m=\u001b[39;49m\u001b[38;5;124;43mf\u001b[39;49m\u001b[38;5;124;43m\"\u001b[39;49m\u001b[38;5;132;43;01m{\u001b[39;49;00m\u001b[43msave_path\u001b[49m\u001b[38;5;132;43;01m}\u001b[39;49;00m\u001b[38;5;124;43m/full_finetune\u001b[39;49m\u001b[38;5;124;43m\"\u001b[39;49m\u001b[43m,\u001b[49m\n\u001b[1;32m    132\u001b[0m \u001b[43m\u001b[49m\u001b[43m)\u001b[49m\n\u001b[1;32m    133\u001b[0m elapsed_time \u001b[38;5;241m=\u001b[39m time\u001b[38;5;241m.\u001b[39mtime() \u001b[38;5;241m-\u001b[39m start_time\n\u001b[1;32m    134\u001b[0m \u001b[38;5;66;03m# writer.add_scalar(\"Training Time/Full Fine-Tuning\", elapsed_time)\u001b[39;00m\n",
      "Cell \u001b[0;32mIn[8], line 54\u001b[0m, in \u001b[0;36mrun_training\u001b[0;34m(model_name, model, train_loader, test_loader, lr, num_epochs, num_classes, cutmix_alpha, cutmix_prob, weight_decay, log_dir, save_path)\u001b[0m\n\u001b[1;32m     50\u001b[0m writer \u001b[38;5;241m=\u001b[39m SummaryWriter(log_dir\u001b[38;5;241m=\u001b[39mlog_dir)\n\u001b[1;32m     52\u001b[0m \u001b[38;5;28;01mfor\u001b[39;00m epoch \u001b[38;5;129;01min\u001b[39;00m tqdm(\u001b[38;5;28mrange\u001b[39m(num_epochs)):\n\u001b[1;32m     53\u001b[0m     \u001b[38;5;66;03m# Training\u001b[39;00m\n\u001b[0;32m---> 54\u001b[0m     train_loss, train_accuracy \u001b[38;5;241m=\u001b[39m \u001b[43mtrain_nn\u001b[49m\u001b[43m(\u001b[49m\u001b[43mmodel\u001b[49m\u001b[43m,\u001b[49m\u001b[43m \u001b[49m\u001b[43mtrain_loader\u001b[49m\u001b[43m,\u001b[49m\u001b[43m \u001b[49m\u001b[43mcriterion\u001b[49m\u001b[43m,\u001b[49m\u001b[43m \u001b[49m\u001b[43moptimizer\u001b[49m\u001b[43m,\u001b[49m\u001b[43m \u001b[49m\u001b[43mdevice\u001b[49m\u001b[43m,\u001b[49m\u001b[43m \u001b[49m\u001b[43mcutmix_alpha\u001b[49m\u001b[43m,\u001b[49m\u001b[43m \u001b[49m\u001b[43mcutmix_prob\u001b[49m\u001b[43m)\u001b[49m\n\u001b[1;32m     55\u001b[0m     \u001b[38;5;66;03m# Evaluation\u001b[39;00m\n\u001b[1;32m     56\u001b[0m     test_loss, test_accuracy \u001b[38;5;241m=\u001b[39m evaluate_nn(model, test_loader, criterion, device)\n",
      "Cell \u001b[0;32mIn[5], line 21\u001b[0m, in \u001b[0;36mtrain_nn\u001b[0;34m(model, train_loader, criterion, optimizer, device, cutmix_prob, cutmix_alpha)\u001b[0m\n\u001b[1;32m     18\u001b[0m     outputs \u001b[38;5;241m=\u001b[39m model(inputs)\n\u001b[1;32m     19\u001b[0m     loss \u001b[38;5;241m=\u001b[39m criterion(outputs, labels)\n\u001b[0;32m---> 21\u001b[0m \u001b[43mloss\u001b[49m\u001b[38;5;241;43m.\u001b[39;49m\u001b[43mbackward\u001b[49m\u001b[43m(\u001b[49m\u001b[43m)\u001b[49m\n\u001b[1;32m     22\u001b[0m optimizer\u001b[38;5;241m.\u001b[39mstep()\n\u001b[1;32m     24\u001b[0m running_loss \u001b[38;5;241m+\u001b[39m\u001b[38;5;241m=\u001b[39m loss\u001b[38;5;241m.\u001b[39mitem()\n",
      "File \u001b[0;32m~/miniconda3/lib/python3.11/site-packages/torch/_tensor.py:521\u001b[0m, in \u001b[0;36mTensor.backward\u001b[0;34m(self, gradient, retain_graph, create_graph, inputs)\u001b[0m\n\u001b[1;32m    511\u001b[0m \u001b[38;5;28;01mif\u001b[39;00m has_torch_function_unary(\u001b[38;5;28mself\u001b[39m):\n\u001b[1;32m    512\u001b[0m     \u001b[38;5;28;01mreturn\u001b[39;00m handle_torch_function(\n\u001b[1;32m    513\u001b[0m         Tensor\u001b[38;5;241m.\u001b[39mbackward,\n\u001b[1;32m    514\u001b[0m         (\u001b[38;5;28mself\u001b[39m,),\n\u001b[0;32m   (...)\u001b[0m\n\u001b[1;32m    519\u001b[0m         inputs\u001b[38;5;241m=\u001b[39minputs,\n\u001b[1;32m    520\u001b[0m     )\n\u001b[0;32m--> 521\u001b[0m \u001b[43mtorch\u001b[49m\u001b[38;5;241;43m.\u001b[39;49m\u001b[43mautograd\u001b[49m\u001b[38;5;241;43m.\u001b[39;49m\u001b[43mbackward\u001b[49m\u001b[43m(\u001b[49m\n\u001b[1;32m    522\u001b[0m \u001b[43m    \u001b[49m\u001b[38;5;28;43mself\u001b[39;49m\u001b[43m,\u001b[49m\u001b[43m \u001b[49m\u001b[43mgradient\u001b[49m\u001b[43m,\u001b[49m\u001b[43m \u001b[49m\u001b[43mretain_graph\u001b[49m\u001b[43m,\u001b[49m\u001b[43m \u001b[49m\u001b[43mcreate_graph\u001b[49m\u001b[43m,\u001b[49m\u001b[43m \u001b[49m\u001b[43minputs\u001b[49m\u001b[38;5;241;43m=\u001b[39;49m\u001b[43minputs\u001b[49m\n\u001b[1;32m    523\u001b[0m \u001b[43m\u001b[49m\u001b[43m)\u001b[49m\n",
      "File \u001b[0;32m~/miniconda3/lib/python3.11/site-packages/torch/autograd/__init__.py:289\u001b[0m, in \u001b[0;36mbackward\u001b[0;34m(tensors, grad_tensors, retain_graph, create_graph, grad_variables, inputs)\u001b[0m\n\u001b[1;32m    284\u001b[0m     retain_graph \u001b[38;5;241m=\u001b[39m create_graph\n\u001b[1;32m    286\u001b[0m \u001b[38;5;66;03m# The reason we repeat the same comment below is that\u001b[39;00m\n\u001b[1;32m    287\u001b[0m \u001b[38;5;66;03m# some Python versions print out the first line of a multi-line function\u001b[39;00m\n\u001b[1;32m    288\u001b[0m \u001b[38;5;66;03m# calls in the traceback and some print out the last line\u001b[39;00m\n\u001b[0;32m--> 289\u001b[0m \u001b[43m_engine_run_backward\u001b[49m\u001b[43m(\u001b[49m\n\u001b[1;32m    290\u001b[0m \u001b[43m    \u001b[49m\u001b[43mtensors\u001b[49m\u001b[43m,\u001b[49m\n\u001b[1;32m    291\u001b[0m \u001b[43m    \u001b[49m\u001b[43mgrad_tensors_\u001b[49m\u001b[43m,\u001b[49m\n\u001b[1;32m    292\u001b[0m \u001b[43m    \u001b[49m\u001b[43mretain_graph\u001b[49m\u001b[43m,\u001b[49m\n\u001b[1;32m    293\u001b[0m \u001b[43m    \u001b[49m\u001b[43mcreate_graph\u001b[49m\u001b[43m,\u001b[49m\n\u001b[1;32m    294\u001b[0m \u001b[43m    \u001b[49m\u001b[43minputs\u001b[49m\u001b[43m,\u001b[49m\n\u001b[1;32m    295\u001b[0m \u001b[43m    \u001b[49m\u001b[43mallow_unreachable\u001b[49m\u001b[38;5;241;43m=\u001b[39;49m\u001b[38;5;28;43;01mTrue\u001b[39;49;00m\u001b[43m,\u001b[49m\n\u001b[1;32m    296\u001b[0m \u001b[43m    \u001b[49m\u001b[43maccumulate_grad\u001b[49m\u001b[38;5;241;43m=\u001b[39;49m\u001b[38;5;28;43;01mTrue\u001b[39;49;00m\u001b[43m,\u001b[49m\n\u001b[1;32m    297\u001b[0m \u001b[43m\u001b[49m\u001b[43m)\u001b[49m\n",
      "File \u001b[0;32m~/miniconda3/lib/python3.11/site-packages/torch/autograd/graph.py:768\u001b[0m, in \u001b[0;36m_engine_run_backward\u001b[0;34m(t_outputs, *args, **kwargs)\u001b[0m\n\u001b[1;32m    766\u001b[0m     unregister_hooks \u001b[38;5;241m=\u001b[39m _register_logging_hooks_on_whole_graph(t_outputs)\n\u001b[1;32m    767\u001b[0m \u001b[38;5;28;01mtry\u001b[39;00m:\n\u001b[0;32m--> 768\u001b[0m     \u001b[38;5;28;01mreturn\u001b[39;00m \u001b[43mVariable\u001b[49m\u001b[38;5;241;43m.\u001b[39;49m\u001b[43m_execution_engine\u001b[49m\u001b[38;5;241;43m.\u001b[39;49m\u001b[43mrun_backward\u001b[49m\u001b[43m(\u001b[49m\u001b[43m  \u001b[49m\u001b[38;5;66;43;03m# Calls into the C++ engine to run the backward pass\u001b[39;49;00m\n\u001b[1;32m    769\u001b[0m \u001b[43m        \u001b[49m\u001b[43mt_outputs\u001b[49m\u001b[43m,\u001b[49m\u001b[43m \u001b[49m\u001b[38;5;241;43m*\u001b[39;49m\u001b[43margs\u001b[49m\u001b[43m,\u001b[49m\u001b[43m \u001b[49m\u001b[38;5;241;43m*\u001b[39;49m\u001b[38;5;241;43m*\u001b[39;49m\u001b[43mkwargs\u001b[49m\n\u001b[1;32m    770\u001b[0m \u001b[43m    \u001b[49m\u001b[43m)\u001b[49m  \u001b[38;5;66;03m# Calls into the C++ engine to run the backward pass\u001b[39;00m\n\u001b[1;32m    771\u001b[0m \u001b[38;5;28;01mfinally\u001b[39;00m:\n\u001b[1;32m    772\u001b[0m     \u001b[38;5;28;01mif\u001b[39;00m attach_logging_hooks:\n",
      "\u001b[0;31mKeyboardInterrupt\u001b[0m: "
     ]
    }
   ],
   "source": [
    "model, combined_train_losses, combined_test_losses, combined_train_accuracies, combined_test_accuracies = combine_training(\n",
    "    model_name=\"convnext\",\n",
    "    train_loader=train_loader,\n",
    "    test_loader=val_loader,\n",
    "    lr=0.001,\n",
    "    fixed_num_epochs=5,\n",
    "    full_num_epochs=20,\n",
    "    num_classes=2,\n",
    "    freeze_feature_extractor=True,\n",
    "    full_finetune=True,\n",
    "    log_dir=\"logs\",\n",
    "    save_path=\"models\"\n",
    ")"
   ]
  },
  {
   "cell_type": "code",
   "execution_count": null,
   "id": "d64c3da1-eca8-4332-93a8-fb80c376a65b",
   "metadata": {},
   "outputs": [],
   "source": [
    "plt.figure(figsize=(12, 5))\n",
    "plt.subplot(1, 2, 1)\n",
    "plt.plot(combined_train_losses, label='Train Loss', marker='o', markeredgecolor='black')\n",
    "plt.plot(combined_test_losses, label='Test Loss', marker='o', markeredgecolor='black')\n",
    "plt.xlabel('Epoch')\n",
    "plt.ylabel('Loss')\n",
    "plt.legend()\n",
    "plt.title('Model metrics - Loss')\n",
    "\n",
    "plt.subplot(1, 2, 2)\n",
    "plt.plot(combined_train_accuracies, label='Train Accuracy', marker='o', markeredgecolor='black')\n",
    "plt.plot(combined_test_accuracies, label='Test Accuracy', marker='o', markeredgecolor='black')\n",
    "plt.xlabel('Epoch')\n",
    "plt.ylabel('Accuracy')\n",
    "plt.legend()\n",
    "plt.title('Model metrics - Accuracy')\n",
    "plt.tight_layout()\n",
    "\n",
    "# plt.subplot(1, 3, 3)\n",
    "# plt.plot(learning_rates, label='Learning Rate', marker='o', markeredgecolor='black', color='blue')\n",
    "# # plt.plot(test_accuracies, label='Test Accuracy')\n",
    "# plt.xlabel('Epoch')\n",
    "# plt.ylabel('Learning Rate')\n",
    "# plt.legend()\n",
    "# plt.title('Model metrics - LR')\n",
    "# plt.tight_layout()\n",
    "\n",
    "plt.show()"
   ]
  },
  {
   "cell_type": "code",
   "execution_count": 34,
   "id": "d5191307-93bd-4f79-9577-a9eeb553aad4",
   "metadata": {},
   "outputs": [],
   "source": [
    "# Get predictions\n",
    "device = torch.device(\"cuda\" if torch.cuda.is_available() else \"cpu\")\n",
    "y_pred, y_true = get_predictions(model, val_loader, device)"
   ]
  },
  {
   "cell_type": "code",
   "execution_count": 44,
   "id": "b6229982-5891-4da4-8e9f-5d6e1f32cd3d",
   "metadata": {},
   "outputs": [],
   "source": [
    "def load_model(model_name, weights_path, num_classes=2, device=None):\n",
    "    \"\"\"\n",
    "    Load a pre-trained model with modified classification layers and custom weights.\n",
    "    \n",
    "    Args:\n",
    "        model_name (str): The name of the model ('resnet', 'squeezenet', 'convnext', 'vit', 'mobilenetv2').\n",
    "        weights_path (str): Path to the trained weights file.\n",
    "        num_classes (int): Number of output classes (default is 2).\n",
    "        device (torch.device, optional): Device to load the model onto. Defaults to auto-detect.\n",
    "\n",
    "    Returns:\n",
    "        model: The loaded and modified model.\n",
    "    \"\"\"\n",
    "    # Default to auto-detecting the device\n",
    "    if device is None:\n",
    "        device = torch.device(\"cuda\" if torch.cuda.is_available() else \"cpu\")\n",
    "    \n",
    "    # Initialize the model\n",
    "    if model_name == \"resnet\":\n",
    "        model = models.resnet50(pretrained=False)\n",
    "        model.fc = nn.Linear(model.fc.in_features, num_classes)\n",
    "    elif model_name == \"squeezenet\":\n",
    "        model = models.squeezenet1_1(pretrained=False)\n",
    "        model.classifier[1] = nn.Conv2d(512, num_classes, kernel_size=1)\n",
    "    elif model_name == \"convnext\":\n",
    "        model = models.convnext_base(pretrained=False)\n",
    "        model.classifier[2] = nn.Linear(model.classifier[2].in_features, num_classes)\n",
    "    elif model_name == \"vit\":\n",
    "        model = models.vit_b_16(pretrained=False)\n",
    "        model.heads.head = nn.Linear(model.heads.head.in_features, num_classes)\n",
    "    elif model_name == \"mobilenetv2\":\n",
    "        model = models.mobilenet_v2(pretrained=False)\n",
    "        model.classifier[1] = nn.Linear(model.classifier[1].in_features, num_classes)\n",
    "    else:\n",
    "        raise ValueError(f\"Unsupported model name: {model_name}\")\n",
    "\n",
    "    # Load the state dictionary\n",
    "    state_dict = torch.load(weights_path, map_location=device)\n",
    "    model.load_state_dict(state_dict)\n",
    "\n",
    "    # Move the model to the device\n",
    "    model.to(device)\n",
    "\n",
    "    # Set the model to evaluation mode for inference\n",
    "    model.eval()\n",
    "\n",
    "    print(f\"{model_name.capitalize()} model loaded successfully.\")\n",
    "    return model"
   ]
  },
  {
   "cell_type": "code",
   "execution_count": 46,
   "id": "710cd879-2883-4d3e-b2d6-440b5801221a",
   "metadata": {},
   "outputs": [
    {
     "name": "stderr",
     "output_type": "stream",
     "text": [
      "/tmp/ipykernel_25927/1402916675.py:38: FutureWarning: You are using `torch.load` with `weights_only=False` (the current default value), which uses the default pickle module implicitly. It is possible to construct malicious pickle data which will execute arbitrary code during unpickling (See https://github.com/pytorch/pytorch/blob/main/SECURITY.md#untrusted-models for more details). In a future release, the default value for `weights_only` will be flipped to `True`. This limits the functions that could be executed during unpickling. Arbitrary objects will no longer be allowed to be loaded via this mode unless they are explicitly allowlisted by the user via `torch.serialization.add_safe_globals`. We recommend you start setting `weights_only=True` for any use case where you don't have full control of the loaded file. Please open an issue on GitHub for any issues related to this experimental feature.\n",
      "  state_dict = torch.load(weights_path, map_location=device)\n"
     ]
    },
    {
     "name": "stdout",
     "output_type": "stream",
     "text": [
      "Resnet model loaded successfully.\n",
      "Squeezenet model loaded successfully.\n",
      "Mobilenetv2 model loaded successfully.\n",
      "Convnext model loaded successfully.\n",
      "Vit model loaded successfully.\n"
     ]
    }
   ],
   "source": [
    "resnet_weights_path = \"/home/ahmad/courses/cuda_lab/MA-INF-4308-Lab-Vision-Systems/Assignment-3/models/full_finetune/resnet_final.pth\"\n",
    "squeezenet_weights_path = \"/home/ahmad/courses/cuda_lab/MA-INF-4308-Lab-Vision-Systems/Assignment-3/models/full_finetune/squeezenet_final.pth\"\n",
    "mobilenet_weights_path = \"/home/ahmad/courses/cuda_lab/MA-INF-4308-Lab-Vision-Systems/Assignment-3/models/full_finetune/mobilenet_final.pth\"\n",
    "convnext_weights_path = \"/home/ahmad/courses/cuda_lab/MA-INF-4308-Lab-Vision-Systems/Assignment-3/models/full_finetune/convnext_final.pth\"\n",
    "vit_weights_path = \"/home/ahmad/courses/cuda_lab/MA-INF-4308-Lab-Vision-Systems/Assignment-3/models/full_finetune/vit_final.pth\"\n",
    "\n",
    "\n",
    "\n",
    "\n",
    "resnet_model = load_model(\"resnet\", resnet_weights_path, num_classes=2, device=None)\n",
    "squeezenet_model = load_model(\"squeezenet\", squeezenet_weights_path, num_classes=2, device=None)\n",
    "mobilenet_model = load_model(\"mobilenetv2\", mobilenet_weights_path, num_classes=2, device=None)\n",
    "convnext_model = load_model(\"convnext\", convnext_weights_path, num_classes=2, device=None)\n",
    "vit_model = load_model(\"vit\", vit_weights_path, num_classes=2, device=None)"
   ]
  },
  {
   "cell_type": "code",
   "execution_count": 33,
   "id": "061a5f4e-1da3-42d5-8da0-fe26a369bcd5",
   "metadata": {},
   "outputs": [],
   "source": [
    "# Function to get predictions and true labels\n",
    "def get_predictions(model, loader, device):\n",
    "    model.eval()\n",
    "    all_predictions = []\n",
    "    all_labels = []\n",
    "    with torch.no_grad():\n",
    "        for inputs, labels in loader:\n",
    "            inputs, labels = inputs.to(device), labels.to(device)\n",
    "            outputs = model(inputs)\n",
    "            predictions = torch.argmax(outputs, dim=1)\n",
    "            all_predictions.extend(predictions.cpu().numpy())\n",
    "            all_labels.extend(labels.cpu().numpy())\n",
    "    return np.array(all_predictions), np.array(all_labels)"
   ]
  },
  {
   "cell_type": "code",
   "execution_count": 53,
   "id": "f25707cb-6c61-4cc7-bb8a-699bf0ef62d4",
   "metadata": {},
   "outputs": [],
   "source": [
    "def plot_confusion_matrix(y_true, y_pred, label_names, model_name):\n",
    "    \"\"\"\n",
    "    Plots confusion matrix for a given model.\n",
    "\n",
    "    Args:\n",
    "        y_true (numpy.ndarray): True labels.\n",
    "        y_pred (numpy.ndarray): Predicted labels.\n",
    "        label_names (list): List of class names.\n",
    "        model_name (str): The name of the model to display in the plot title.\n",
    "    \"\"\"\n",
    "    cm = confusion_matrix(y_true, y_pred)\n",
    "    plt.figure(figsize=(6, 4))\n",
    "    sns.heatmap(cm, annot=True, fmt='d', cmap='Blues', \n",
    "                xticklabels=label_names, yticklabels=label_names, linewidths=1)\n",
    "    plt.xlabel('Predicted Label')\n",
    "    plt.ylabel('True Label')\n",
    "    plt.title(f'Confusion Matrix for {model_name}')\n",
    "    plt.xticks(rotation=45)\n",
    "    plt.yticks(rotation=0)\n",
    "    plt.tight_layout()\n",
    "    plt.show()"
   ]
  },
  {
   "cell_type": "code",
   "execution_count": 48,
   "id": "1659fa00-557d-4549-b236-799341ab5118",
   "metadata": {},
   "outputs": [],
   "source": [
    "# Get predictions for each model\n",
    "resnet_predictions, resnet_labels = get_predictions(resnet_model, val_loader, device)\n",
    "squeezenet_predictions, squeezenet_labels = get_predictions(squeezenet_model, val_loader, device)\n",
    "convnext_predictions, convnext_labels = get_predictions(convnext_model, val_loader, device)\n",
    "vit_predictions, vit_labels = get_predictions(vit_model, val_loader, device)\n",
    "mobilenet_predictions, mobilenet_labels = get_predictions(mobilenet_model, val_loader, device)"
   ]
  },
  {
   "cell_type": "code",
   "execution_count": 56,
   "id": "a02e98f4-637a-4f42-9377-1e13ef9b0e9e",
   "metadata": {},
   "outputs": [
    {
     "data": {
      "image/png": "[encoded data removed]",
      "text/plain": [
       "<Figure size 600x400 with 2 Axes>"
      ]
     },
     "metadata": {},
     "output_type": "display_data"
    },
    {
     "data": {
      "image/png": "[encoded data removed]",
      "text/plain": [
       "<Figure size 600x400 with 2 Axes>"
      ]
     },
     "metadata": {},
     "output_type": "display_data"
    },
    {
     "data": {
      "image/png": "[encoded data removed]",
      "text/plain": [
       "<Figure size 600x400 with 2 Axes>"
      ]
     },
     "metadata": {},
     "output_type": "display_data"
    },
    {
     "data": {
      "image/png": "[encoded data removed]",
      "text/plain": [
       "<Figure size 600x400 with 2 Axes>"
      ]
     },
     "metadata": {},
     "output_type": "display_data"
    },
    {
     "data": {
      "image/png": "[encoded data removed]",
      "text/plain": [
       "<Figure size 600x400 with 2 Axes>"
      ]
     },
     "metadata": {},
     "output_type": "display_data"
    }
   ],
   "source": [
    "plot_confusion_matrix(y_true, resnet_predictions, label_names, 'Resnet 50')\n",
    "plot_confusion_matrix(y_true, squeezenet_predictions, label_names, 'SqueezeNet')\n",
    "plot_confusion_matrix(y_true, convnext_predictions, label_names, 'ConvNext')\n",
    "plot_confusion_matrix(y_true, vit_predictions, label_names, 'Vision Transformer')\n",
    "plot_confusion_matrix(y_true, mobilenet_predictions, label_names, 'Mobilenet V2')"
   ]
  },
  {
   "cell_type": "code",
   "execution_count": null,
   "id": "815b1fd2-c918-423b-8d8c-2f43020fef33",
   "metadata": {},
   "outputs": [],
   "source": []
  }
 ],
 "metadata": {
  "kernelspec": {
   "display_name": "Python 3 (ipykernel)",
   "language": "python",
   "name": "python3"
  },
  "language_info": {
   "codemirror_mode": {
    "name": "ipython",
    "version": 3
   },
   "file_extension": ".py",
   "mimetype": "text/x-python",
   "name": "python",
   "nbconvert_exporter": "python",
   "pygments_lexer": "ipython3",
   "version": "3.11.4"
  }
 },
 "nbformat": 4,
 "nbformat_minor": 5
}
