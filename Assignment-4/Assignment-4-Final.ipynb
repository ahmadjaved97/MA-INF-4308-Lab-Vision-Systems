{
 "cells": [
  {
   "cell_type": "markdown",
   "id": "ee0f49c8-d8ee-4d88-978d-5529ab45f0b0",
   "metadata": {},
   "source": [
    "#### Note\n",
    "\n",
    "- In the notebook, pytorch LSTM, pytorch GRU, LSTM from scratch and ConvLSTM refer to the recurrent module used in the model architecture. \n",
    "- In case of slighlty different values in LSTM from scratch's confusion matrix, it was found that the code for creating the dataset split is random (without a seed) and hence not reproduceable. It was found at last minute and the code for all models except LSTM from scratch was run in one go (hence there results are same)."
   ]
  },
  {
   "cell_type": "markdown",
   "id": "d05c31ae-53b0-4a47-9f8e-87cbf0f5c5fe",
   "metadata": {},
   "source": [
    "#### Training Logs \n",
    "\n",
    "Training logs for the model can be found here: https://wandb.ai/ahmadjaved97/assignment-4?nw=nwuserahmadjaved97"
   ]
  },
  {
   "cell_type": "markdown",
   "id": "84768a63-5922-4c8c-8ebd-36098d7c76b3",
   "metadata": {},
   "source": [
    "### 1. Import the Required Libraries"
   ]
  },
  {
   "cell_type": "code",
   "execution_count": 1,
   "id": "ab6c550b-f85b-46f6-9811-0da914824b29",
   "metadata": {},
   "outputs": [],
   "source": [
    "import torch\n",
    "import torch.nn as nn\n",
    "import torch.nn.functional as F\n",
    "from torchvision import transforms\n",
    "import torch.optim as optim\n",
    "from torch.utils.data import Dataset, DataLoader, random_split\n",
    "from torch.optim.lr_scheduler import StepLR\n",
    "import numpy as np\n",
    "import matplotlib.pyplot as plt\n",
    "import os\n",
    "from PIL import Image\n",
    "import random\n",
    "from tqdm import tqdm\n",
    "from sklearn.metrics import confusion_matrix\n",
    "import seaborn as sns\n",
    "import wandb"
   ]
  },
  {
   "cell_type": "markdown",
   "id": "269a3086-92bb-4ca8-99ce-b72203577636",
   "metadata": {},
   "source": [
    "### 2. Set Device"
   ]
  },
  {
   "cell_type": "code",
   "execution_count": 2,
   "id": "8c7367ee-93e4-456c-b388-35a71ced9a20",
   "metadata": {},
   "outputs": [
    {
     "name": "stdout",
     "output_type": "stream",
     "text": [
      "Device Used: cuda\n"
     ]
    }
   ],
   "source": [
    "device = torch.device(\"cuda\" if torch.cuda.is_available() else \"cpu\")\n",
    "print(f\"Device Used: {device}\")"
   ]
  },
  {
   "cell_type": "markdown",
   "id": "40a0456b-4f06-4600-b86f-cacd93517be6",
   "metadata": {},
   "source": [
    "### 3. Data Loading and Processing"
   ]
  },
  {
   "cell_type": "code",
   "execution_count": 3,
   "id": "97509466-74a9-4607-9935-ab02947df801",
   "metadata": {},
   "outputs": [],
   "source": [
    "class KTHProcessedDataset(Dataset):\n",
    "    def __init__(self, root_dir, sequence_length=15, transform=None):\n",
    "        \"\"\"\n",
    "        root_dir: path of the parent directory that contains processed frames/images.\n",
    "        sequence_length: the number of frames in each subsequence.\n",
    "        transforms: augmentations applied to the frames (can be none or more).\n",
    "        \"\"\"\n",
    "        self.root_dir = root_dir\n",
    "        self.sequence_length = sequence_length\n",
    "        self.transform = transform\n",
    "        self.data = []\n",
    "        self.class_mapping = {}\n",
    "\n",
    "        # Parse through categories\n",
    "        for label, category in enumerate(sorted(os.listdir(root_dir))):\n",
    "            category_path = os.path.join(root_dir, category)\n",
    "            # if not os.path.isdir(category_path):\n",
    "            #     continue\n",
    "            self.class_mapping[label] = category\n",
    "            for subfolder in os.listdir(category_path):\n",
    "                subfolder_path = os.path.join(category_path, subfolder)\n",
    "                if os.path.isdir(subfolder_path): # check (folder also contain some json)\n",
    "                    frames = sorted(os.listdir(subfolder_path))\n",
    "\n",
    "                    # Create subsequences from frames\n",
    "                    for start_idx in range(0, len(frames) - sequence_length + 1, sequence_length):  # (0, 450-15+1, 15)\n",
    "                        subsequence_frames = frames[start_idx:start_idx + sequence_length]          # (0, 0+15), then (15, 30) and so on.\n",
    "                        if len(subsequence_frames) == sequence_length:\n",
    "                            self.data.append((subfolder_path, subsequence_frames, label))\n",
    "\n",
    "    def __len__(self):\n",
    "        return len(self.data)\n",
    "\n",
    "    def __getitem__(self, idx):\n",
    "        subfolder_path, frames, label = self.data[idx]\n",
    "\n",
    "        sequence = []\n",
    "        for frame_file in frames:\n",
    "            frame_path = os.path.join(subfolder_path, frame_file)\n",
    "            try:\n",
    "                img = Image.open(frame_path).convert(\"L\")\n",
    "                if self.transform:\n",
    "                    img = self.transform(img)\n",
    "\n",
    "                img = img.view(-1)\n",
    "                sequence.append(img)\n",
    "\n",
    "            except Exception as e:\n",
    "                # Found some corrupted image in the folders\n",
    "                print(f\"Skipping image {frame_path} due to error: {e}\")\n",
    "                return self.__getitem__((idx + 1) % len(self))\n",
    "\n",
    "        # Stack frames into tensor\n",
    "        sequence = torch.stack(sequence, dim=0)\n",
    "        return sequence, label\n"
   ]
  },
  {
   "cell_type": "markdown",
   "id": "dccb351f-6218-4176-b208-2b2d3804bf76",
   "metadata": {},
   "source": [
    "- No image resizing is done because the processed frames are of size 64x64.\n",
    "- Images are converted to Grayscale (64x64=4096 pixels) since it will save some computation time (and the images are also grayscale so we don't lose any information). For RGB the number of pixels will be 3 x 4096."
   ]
  },
  {
   "cell_type": "markdown",
   "id": "112acb76-03eb-4036-abef-b28c34635746",
   "metadata": {},
   "source": [
    "#### Define augmentations"
   ]
  },
  {
   "cell_type": "code",
   "execution_count": 4,
   "id": "a7907a89-a285-45c3-8c39-79a2f195f9e2",
   "metadata": {},
   "outputs": [],
   "source": [
    "# Define augmentations\n",
    "transform = transforms.Compose([\n",
    "    \n",
    "    # RandomHorizontalFlip(p=0.5),\n",
    "    # RandomRotation(degrees=15),\n",
    "    transforms.RandomCrop(size=(64, 64), pad_if_needed=True),\n",
    "\n",
    "    transforms.RandomApply([transforms.ColorJitter(brightness=0.2, contrast=0.2)], p=0.3),\n",
    "    transforms.GaussianBlur(3, sigma=(0.1, 2.0)),\n",
    "    \n",
    "    transforms.ToTensor(),                             \n",
    "    transforms.Normalize(mean=[0.5], std=[0.5])\n",
    "])"
   ]
  },
  {
   "cell_type": "markdown",
   "id": "e082df04-48f1-4c9c-a050-b1c6ae1ed13e",
   "metadata": {},
   "source": [
    "Taking the sequence length because I observed that in some of the categories like jogging, the first 7-8 frames are empty and till the 40-45th frames we get a complete motion i.e. person comes in running in the frame and then goes out after that the frames are again empty till the person again comes from the opposite direction."
   ]
  },
  {
   "cell_type": "code",
   "execution_count": 5,
   "id": "a06956cc-a033-41d5-a60c-e8ef9a7d8503",
   "metadata": {},
   "outputs": [],
   "source": [
    "# Paths and hyperparameters\n",
    "root_dir = '/home/nfs/inf6/data/datasets/kth_actions/processed'\n",
    "sequence_length = 45\n",
    "batch_size = 16\n",
    "train_ratio = 0.8  # 80% for train 20% for val"
   ]
  },
  {
   "cell_type": "code",
   "execution_count": 6,
   "id": "f403502c-da2b-4d77-8aa2-8448fb18d04b",
   "metadata": {},
   "outputs": [
    {
     "name": "stdout",
     "output_type": "stream",
     "text": [
      "Dataset size: 6150\n",
      "Train set size: 4920\n",
      "Validation set size: 1230\n"
     ]
    }
   ],
   "source": [
    "# Load the whole dataset\n",
    "dataset = KTHProcessedDataset(root_dir=root_dir, sequence_length=sequence_length, transform=transform)\n",
    "\n",
    "# Calculate train and validation sizes\n",
    "dataset_size = len(dataset)\n",
    "train_size = int(train_ratio * dataset_size)\n",
    "val_size = dataset_size - train_size\n",
    "\n",
    "# Split dataset into train and val\n",
    "train_dataset, val_dataset = random_split(dataset, [train_size, val_size])\n",
    "\n",
    "# DataLoaders for train and val sets\n",
    "train_loader = DataLoader(train_dataset, batch_size=batch_size, shuffle=True, num_workers=4)\n",
    "val_loader = DataLoader(val_dataset, batch_size=batch_size, shuffle=False, num_workers=4)\n",
    "\n",
    "print(f\"Dataset size: {dataset_size}\")\n",
    "print(f\"Train set size: {train_size}\")\n",
    "print(f\"Validation set size: {val_size}\")"
   ]
  },
  {
   "cell_type": "code",
   "execution_count": 7,
   "id": "20475d61-56e4-4085-bffc-30115e923c3e",
   "metadata": {},
   "outputs": [
    {
     "name": "stdout",
     "output_type": "stream",
     "text": [
      "Dataset Classes:\n",
      "Class ID: 0, Class Name: boxing\n",
      "Class ID: 1, Class Name: handclapping\n",
      "Class ID: 2, Class Name: handwaving\n",
      "Class ID: 3, Class Name: jogging\n",
      "Class ID: 4, Class Name: running\n",
      "Class ID: 5, Class Name: walking\n"
     ]
    }
   ],
   "source": [
    "print(\"Dataset Classes:\")\n",
    "for class_id, class_name in dataset.class_mapping.items():\n",
    "    print(f\"Class ID: {class_id}, Class Name: {class_name}\")"
   ]
  },
  {
   "cell_type": "code",
   "execution_count": 8,
   "id": "922dbb65-fc42-457b-a1f3-69aa21a57fe2",
   "metadata": {},
   "outputs": [
    {
     "data": {
      "text/plain": [
       "{'boxing': 0,\n",
       " 'handclapping': 1,\n",
       " 'handwaving': 2,\n",
       " 'jogging': 3,\n",
       " 'running': 4,\n",
       " 'walking': 5}"
      ]
     },
     "execution_count": 8,
     "metadata": {},
     "output_type": "execute_result"
    }
   ],
   "source": [
    "# reverse mapping of the dataclasses\n",
    "reverse_mapping = {val:key for key,val in dataset.class_mapping.items()}\n",
    "reverse_mapping"
   ]
  },
  {
   "cell_type": "markdown",
   "id": "2ceb91eb-300d-46a3-b2c9-f3c241844998",
   "metadata": {},
   "source": [
    "#### Visualize dataset"
   ]
  },
  {
   "cell_type": "code",
   "execution_count": 9,
   "id": "54bab9fe-725e-4308-92f9-7f8ef7d1319e",
   "metadata": {},
   "outputs": [],
   "source": [
    "def visualize_sequences(dataset, category_label, num_sequences=3, sequence_length=15):\n",
    "    \"\"\"\n",
    "    Visualizes the first num_sequences sequences for a given category label.\n",
    "    \"\"\"\n",
    "    sequences_shown = 0\n",
    "    \n",
    "    plt.figure(figsize=(15, num_sequences * 3))\n",
    "    for i in range(len(dataset)):\n",
    "        sequence, label = dataset[i]\n",
    "        if label == category_label:\n",
    "            for frame_idx in range(sequence_length):\n",
    "                plt.subplot(num_sequences, sequence_length, sequences_shown * sequence_length + frame_idx + 1)\n",
    "                frame = sequence[frame_idx].view(64, 64).cpu().numpy()\n",
    "                plt.imshow(frame, cmap=\"gray\")\n",
    "                plt.axis(\"off\")\n",
    "            \n",
    "            sequences_shown += 1\n",
    "            if sequences_shown >= num_sequences:\n",
    "                break\n",
    "\n",
    "    plt.suptitle(f\"Sequences for category label: {category_label}\", fontsize=16)\n",
    "    plt.show()"
   ]
  },
  {
   "cell_type": "code",
   "execution_count": 10,
   "id": "ecd88238-39a0-4dea-9251-8c5943c8b3e0",
   "metadata": {},
   "outputs": [
    {
     "data": {
      "image/png": "[encoded data removed]",
      "text/plain": [
       "<Figure size 1500x600 with 30 Axes>"
      ]
     },
     "metadata": {},
     "output_type": "display_data"
    }
   ],
   "source": [
    "# Visualize sequences for given category label\n",
    "category_name = 'boxing'\n",
    "visualize_sequences(val_dataset, category_label=reverse_mapping[category_name], num_sequences=2, sequence_length=15)"
   ]
  },
  {
   "cell_type": "markdown",
   "id": "6061fd62-5584-4b64-9d15-2196fd8bd1d4",
   "metadata": {},
   "source": [
    "### Training and Validation Code\n",
    "\n",
    "This is the same code as used in the previous assignments with minor changes and integration of 'Weigths and Biases' for logging of metrics."
   ]
  },
  {
   "cell_type": "code",
   "execution_count": 11,
   "id": "3446e230-6fd4-460a-b113-8c200acb6c30",
   "metadata": {},
   "outputs": [],
   "source": [
    "def train_nn(model, train_loader, criterion, optimizer, device, model_type=None):\n",
    "    \"\"\"Train  model for one epoch\"\"\"\n",
    "    model.train()\n",
    "    running_loss = 0.0\n",
    "    correct_labels = 0\n",
    "    total_labels = 0\n",
    "\n",
    "    for inputs, labels in train_loader:\n",
    "        if model_type == 'convlstm':\n",
    "            inputs = inputs.view(-1, 45, 1, 64, 64) #height, width\n",
    "        inputs, labels = inputs.to(device), labels.to(device)\n",
    "        \n",
    "        optimizer.zero_grad()\n",
    "        outputs = model(inputs)\n",
    "        \n",
    "        loss = criterion(outputs, labels)\n",
    "        loss.backward()\n",
    "        optimizer.step()\n",
    "\n",
    "        running_loss += loss.item()\n",
    "\n",
    "        # Compute accuracy\n",
    "        _, predicted_labels = torch.max(outputs, dim=1)\n",
    "        correct_labels += (predicted_labels == labels).sum().item()\n",
    "        total_labels += labels.size(0)\n",
    "\n",
    "    avg_loss = running_loss / len(train_loader)\n",
    "    accuracy = correct_labels / total_labels\n",
    "    return avg_loss, accuracy\n",
    "\n",
    "def evaluate_nn(model, eval_loader, criterion, device, model_type=None):\n",
    "    \"\"\"Evaluate the model after each epoch.\"\"\"\n",
    "    model.eval()\n",
    "    running_loss = 0.0\n",
    "    correct_labels = 0\n",
    "    total_labels = 0\n",
    "\n",
    "    with torch.no_grad():\n",
    "        for inputs, labels in eval_loader:\n",
    "            if model_type == 'convlstm':\n",
    "                inputs = inputs.view(-1, 45, 1, 64, 64) # height, width\n",
    "            inputs, labels = inputs.to(device), labels.to(device)\n",
    "            outputs = model(inputs)\n",
    "            \n",
    "            loss = criterion(outputs, labels)\n",
    "            running_loss += loss.item()\n",
    "\n",
    "            # Compute accuracy\n",
    "            _, predicted_labels = torch.max(outputs, dim=1)\n",
    "            correct_labels += (predicted_labels == labels).sum().item()\n",
    "            total_labels += labels.size(0)\n",
    "\n",
    "    avg_loss = running_loss / len(eval_loader)\n",
    "    accuracy = correct_labels / total_labels\n",
    "    return avg_loss, accuracy\n",
    "\n",
    "def run_training(model, train_loader, eval_loader, criterion, device, num_epochs, learning_rate=0.001, step_size=5, gamma=0.5,\n",
    "                 project='lstm_training', name='test_run', model_type=None):\n",
    "    \"\"\"Train and evaluate the model for a given number of epochs with W&B logging\"\"\"\n",
    "\n",
    "    # Initialize W&B logging\n",
    "    wandb.init(project=project, name=name, config={\n",
    "        \"learning_rate\": learning_rate,\n",
    "        \"num_epochs\": num_epochs,\n",
    "        \"step_size\": step_size,\n",
    "        \"gamma\": gamma,\n",
    "        \"optimizer\": \"Adam\",\n",
    "    },\n",
    "    )\n",
    "    config = wandb.config\n",
    "\n",
    "    optimizer = optim.Adam(model.parameters(), lr=learning_rate)  # Optimizer\n",
    "    scheduler = StepLR(optimizer, step_size=step_size, gamma=gamma)  # Learning rate scheduler\n",
    "    \n",
    "    train_losses = []\n",
    "    eval_losses = []\n",
    "    train_accuracies = []\n",
    "    eval_accuracies = []\n",
    "    learning_rates = []\n",
    "\n",
    "    for epoch in tqdm(range(num_epochs)):\n",
    "        # Train for one epoch\n",
    "        train_loss, train_accuracy = train_nn(model, train_loader, criterion, optimizer, device, model_type=model_type)\n",
    "        # Evaluate after each epoch\n",
    "        eval_loss, eval_accuracy = evaluate_nn(model, eval_loader, criterion, device, model_type=model_type)\n",
    "\n",
    "        current_lr = scheduler.get_last_lr()[0]\n",
    "\n",
    "\n",
    "        train_losses.append(train_loss)\n",
    "        eval_losses.append(eval_loss)\n",
    "        train_accuracies.append(train_accuracy)\n",
    "        eval_accuracies.append(eval_accuracy)\n",
    "        learning_rates.append(current_lr)\n",
    "\n",
    "        # Log metrics to W&B\n",
    "        wandb.log({\n",
    "            \"epoch\": epoch + 1,\n",
    "            \"train_loss\": train_loss,\n",
    "            \"train_accuracy\": train_accuracy,\n",
    "            \"eval_loss\": eval_loss,\n",
    "            \"eval_accuracy\": eval_accuracy,\n",
    "            \"learning_rate\": current_lr\n",
    "        })\n",
    "\n",
    "        # Print stats after each epoch\n",
    "        print(f\"Epoch {epoch+1}/{num_epochs}\")\n",
    "        print(f\"Train Loss: {train_loss:.4f}, Train Accuracy: {train_accuracy:.4f}\")\n",
    "        print(f\"Eval Loss: {eval_loss:.4f}, Eval Accuracy: {eval_accuracy:.4f}\")\n",
    "        print(f\"Learning Rate: {current_lr:.6f}\")\n",
    "        \n",
    "        # Step the LR scheduler\n",
    "        scheduler.step()\n",
    "\n",
    "    # End W&B run\n",
    "    wandb.finish()\n",
    "\n",
    "    return model, train_losses, train_accuracies, eval_losses, eval_accuracies, learning_rates"
   ]
  },
  {
   "cell_type": "markdown",
   "id": "a2223b29-b7ca-4d76-90fe-0b663a29d69e",
   "metadata": {},
   "source": [
    "### Result Visualization"
   ]
  },
  {
   "cell_type": "code",
   "execution_count": 12,
   "id": "9857624d-1055-4e70-8551-ba5e1882572d",
   "metadata": {},
   "outputs": [],
   "source": [
    "def plot_confusion_matrix(y_true, y_pred, label_names, model_name):\n",
    "    \"\"\"\n",
    "    Plots confusion matrix for a given model.\n",
    "\n",
    "    Args:\n",
    "        y_true (numpy.ndarray): True labels.\n",
    "        y_pred (numpy.ndarray): Predicted labels.\n",
    "        label_names (list): List of class names.\n",
    "        model_name (str): The name of the model to display in the plot title.\n",
    "    \"\"\"\n",
    "    cm = confusion_matrix(y_true, y_pred)\n",
    "    plt.figure(figsize=(6, 4))\n",
    "    sns.heatmap(cm, annot=True, fmt='d', cmap='Blues', \n",
    "                xticklabels=label_names, yticklabels=label_names, linewidths=1)\n",
    "    plt.xlabel('Predicted Label')\n",
    "    plt.ylabel('True Label')\n",
    "    plt.title(f'Confusion Matrix for {model_name}')\n",
    "    plt.xticks(rotation=45)\n",
    "    plt.yticks(rotation=0)\n",
    "    plt.tight_layout()\n",
    "    plt.show()"
   ]
  },
  {
   "cell_type": "code",
   "execution_count": 13,
   "id": "87015214-88f4-4f6c-a0d1-c1dde3740aae",
   "metadata": {},
   "outputs": [],
   "source": [
    "# Function to evaluate model and compute predictions\n",
    "def evaluate_model(model, dataloader, device=\"cuda\"):\n",
    "    model.eval()\n",
    "    all_preds = []\n",
    "    all_labels = []\n",
    "\n",
    "    with torch.no_grad():\n",
    "        for sequences, labels in dataloader:\n",
    "            sequences = sequences.to(device)\n",
    "            labels = labels.to(device)\n",
    "\n",
    "            outputs = model(sequences)\n",
    "            preds = torch.argmax(outputs, dim=1)\n",
    "\n",
    "            all_preds.extend(preds.cpu().numpy())\n",
    "            all_labels.extend(labels.cpu().numpy())\n",
    "\n",
    "    return np.array(all_labels), np.array(all_preds)"
   ]
  },
  {
   "cell_type": "markdown",
   "id": "2eba1132-1589-4a0c-832a-5599482b5644",
   "metadata": {},
   "source": [
    "### Load saved model"
   ]
  },
  {
   "cell_type": "code",
   "execution_count": 14,
   "id": "62f98d89-5503-451f-8e89-0f45c1190abf",
   "metadata": {},
   "outputs": [],
   "source": [
    "def load_model(model_path):\n",
    "    model = torch.load(model_path)\n",
    "    return model"
   ]
  },
  {
   "cell_type": "markdown",
   "id": "4ed48dc4-d9a7-4868-988e-c45bf15b2f34",
   "metadata": {},
   "source": [
    "#### LSTM  and LSTM Cell from Scratch\n",
    "\n",
    "Inspired from \n",
    "1. https://github.com/hadi-gharibi/pytorch-lstm/blob/master/lstm.ipynb\n",
    "2. https://github.com/georgeyiasemis/Recurrent-Neural-Networks-from-scratch-using-PyTorch\n",
    "\n",
    "both sources have highly similar code"
   ]
  },
  {
   "cell_type": "code",
   "execution_count": 15,
   "id": "1ade1789-e080-463b-9d27-bf53f831bb6e",
   "metadata": {},
   "outputs": [],
   "source": [
    "### This works\n",
    "\n",
    "class LSTMCell(nn.Module):\n",
    "    \"\"\"\n",
    "    Custom LSTM Cell implementation from scratch\n",
    "    \n",
    "    Args:\n",
    "    - input_size: Number of input features\n",
    "    - hidden_size: Number of hidden units\n",
    "    \"\"\"\n",
    "    def __init__(self, input_size, hidden_size):\n",
    "        super(LSTMCell, self).__init__()\n",
    "        self.input_size = input_size\n",
    "        self.hidden_size = hidden_size\n",
    "        \n",
    "        # all gates weight combined into signle matrix\n",
    "        # ih -> input_hidden\n",
    "        # hh -> hidden_hidden\n",
    "        self.weight_ih = nn.Parameter(torch.empty(4 * hidden_size, input_size))  \n",
    "        self.weight_hh = nn.Parameter(torch.empty(4 * hidden_size, hidden_size))\n",
    "        \n",
    "        # Bias term\n",
    "        self.bias_ih = nn.Parameter(torch.empty(4 * hidden_size))\n",
    "        self.bias_hh = nn.Parameter(torch.empty(4 * hidden_size))\n",
    "        \n",
    "        # Initialize weights\n",
    "        std = 1.0 / np.sqrt(self.hidden_size)\n",
    "        nn.init.uniform_(self.weight_ih, -std, std)\n",
    "        nn.init.uniform_(self.weight_hh, -std, std)\n",
    "        nn.init.uniform_(self.bias_ih, -std, std)\n",
    "        nn.init.uniform_(self.bias_hh, -std, std)\n",
    "    \n",
    "    def forward(self, x, hidden_state=None):\n",
    "        \"\"\"\n",
    "        Forward pass for LSTM Cell\n",
    "        \"\"\"\n",
    "        # Initialize hidden state if not provided\n",
    "        if hidden_state is None:\n",
    "            batch_size = x.size(0)\n",
    "            h = x.new_zeros(batch_size, self.hidden_size)\n",
    "            c = x.new_zeros(batch_size, self.hidden_size)\n",
    "        else:\n",
    "            h, c = hidden_state\n",
    "        \n",
    "        # Compute gate inputs\n",
    "        gates = F.linear(x, self.weight_ih, self.bias_ih) + F.linear(h, self.weight_hh, self.bias_hh)\n",
    "        \n",
    "        # Split gates into 4 equal parts\n",
    "        ingate, forgetgate, cellgate, outgate = gates.chunk(4, 1)\n",
    "        \n",
    "        # Apply activation\n",
    "        ingate = torch.sigmoid(ingate)\n",
    "        forgetgate = torch.sigmoid(forgetgate)\n",
    "        cellgate = torch.tanh(cellgate)\n",
    "        outgate = torch.sigmoid(outgate)\n",
    "        \n",
    "        # new cell state\n",
    "        new_c = (forgetgate * c) + (ingate * cellgate)\n",
    "        \n",
    "        # new hidden state\n",
    "        new_h = outgate * torch.tanh(new_c)\n",
    "        \n",
    "        return new_h, new_c\n",
    "\n",
    "class LSTM(nn.Module):\n",
    "    def __init__(self, input_size, hidden_size, num_layers, num_classes, batch_first=True):\n",
    "        super(LSTM, self).__init__()\n",
    "        \n",
    "        self.hidden_size = hidden_size\n",
    "        self.num_layers = num_layers\n",
    "        self.batch_first = batch_first\n",
    "        \n",
    "        # Create LSTM cells for each layer\n",
    "        self.lstm_cells = nn.ModuleList()\n",
    "        for i in range(num_layers):\n",
    "            layer_input_size = input_size if i == 0 else hidden_size\n",
    "            self.lstm_cells.append(LSTMCell(layer_input_size, hidden_size))\n",
    "        \n",
    "        # Classification layer\n",
    "        self.classifier = nn.Linear(hidden_size, num_classes)\n",
    "    \n",
    "    def forward(self, x):\n",
    "        if not self.batch_first:\n",
    "            x = x.transpose(0, 1)\n",
    "        \n",
    "        batch_size, seq_len, _ = x.size()\n",
    "        \n",
    "        # Initialize hidden states\n",
    "        h_list = []\n",
    "        c_list = []\n",
    "        for _ in range(self.num_layers):\n",
    "            h_list.append(torch.zeros(batch_size, self.hidden_size, device=x.device))\n",
    "            c_list.append(torch.zeros(batch_size, self.hidden_size, device=x.device))\n",
    "\n",
    "\n",
    "        all_h_states = []\n",
    "\n",
    "        for t in range(seq_len):\n",
    "            # Current input at time  t\n",
    "            input_t = x[:, t, :]\n",
    "            \n",
    "            for layer in range(self.num_layers):\n",
    "                cell = self.lstm_cells[layer]\n",
    "                \n",
    "                # Use previous layer hidden state as input\n",
    "                h_prev = input_t if layer == 0 else h_list[layer-1]\n",
    "                \n",
    "                # Update hidden and cell states\n",
    "                h_list[layer], c_list[layer] = cell(h_prev, (h_list[layer], c_list[layer]))\n",
    "            \n",
    "            \n",
    "            all_h_states.append(h_list[-1])\n",
    "\n",
    "        # Stack the hidden states for all time steps\n",
    "        all_h_states = torch.stack(all_h_states, dim=1)  # Shape: [batch_size, seq_len, hidden_size]\n",
    "\n",
    "        \n",
    "        output = self.classifier(all_h_states)\n",
    "\n",
    "        return output\n"
   ]
  },
  {
   "cell_type": "markdown",
   "id": "aef652bb-58f8-4fd7-8f71-2f4def03e3a0",
   "metadata": {},
   "source": [
    "Some help from\n",
    "- https://discuss.pytorch.org/t/nn-lstm-using-custom-lstmcells/118645/2"
   ]
  },
  {
   "cell_type": "markdown",
   "id": "f8f50854-1687-4bab-9183-7907c7f34810",
   "metadata": {},
   "source": [
    "### Pytorch LSTM Model"
   ]
  },
  {
   "cell_type": "code",
   "execution_count": 16,
   "id": "3fa1f76d-9438-4600-add3-505005507996",
   "metadata": {},
   "outputs": [],
   "source": [
    "class CustomPLSTM(nn.Module):\n",
    "    def __init__(self, input_size, hidden_size, output_size, num_layers):\n",
    "        super(CustomPLSTM, self).__init__()\n",
    "        self.hidden_size = hidden_size\n",
    "        self.num_layers = num_layers\n",
    "        \n",
    "        # Create LSTM cells for each layer\n",
    "        self.lstm_cells = nn.ModuleList([\n",
    "            nn.LSTMCell(input_size if i == 0 else hidden_size, hidden_size) \n",
    "            for i in range(num_layers)\n",
    "        ])\n",
    "        \n",
    "        # Output layer\n",
    "        self.fc = nn.Linear(hidden_size, output_size)\n",
    "    \n",
    "    def forward(self, x):\n",
    "        \"\"\"\n",
    "        Args:\n",
    "            x: Input tensor of shape (batch_size, seq_len, input_size)\n",
    "        Returns:\n",
    "            output: Output tensor of shape (batch_size, seq_len, output_size)\n",
    "        \"\"\"\n",
    "        batch_size, seq_len, _ = x.size()\n",
    "        \n",
    "        # Initialize hidden and cell states for each layer\n",
    "        h_t = [torch.zeros(batch_size, self.hidden_size).to(x.device) for _ in range(self.num_layers)]\n",
    "        c_t = [torch.zeros(batch_size, self.hidden_size).to(x.device) for _ in range(self.num_layers)]\n",
    "        \n",
    "        # To store the output at each time step\n",
    "        outputs = []\n",
    "        \n",
    "        for t in range(seq_len):\n",
    "            # Extract the time step t input\n",
    "            x_t = x[:, t, :]\n",
    "            \n",
    "            # Pass through each layer\n",
    "            for layer in range(self.num_layers):\n",
    "                h_t[layer], c_t[layer] = self.lstm_cells[layer](\n",
    "                    x_t, (h_t[layer], c_t[layer])\n",
    "                )\n",
    "                # The input to the next layer is the output of the current layer\n",
    "                x_t = h_t[layer]\n",
    "            \n",
    "            # Pass the final layer's output through the fully connected layer\n",
    "            output_t = self.fc(h_t[-1])\n",
    "            outputs.append(output_t)\n",
    "        \n",
    "        # Stack the outputs to form the final output tensor\n",
    "        outputs = torch.stack(outputs, dim=1)\n",
    "        return outputs"
   ]
  },
  {
   "cell_type": "markdown",
   "id": "e5cfc1eb-f4ff-4f85-9237-3d4b2c35ca0e",
   "metadata": {},
   "source": [
    "### Pytorch GRU Model"
   ]
  },
  {
   "cell_type": "code",
   "execution_count": 17,
   "id": "7a9dcbaf-07fc-4cbe-83b2-a52d28b06e35",
   "metadata": {},
   "outputs": [],
   "source": [
    "class CustomGRU(nn.Module):\n",
    "    def __init__(self, input_size, hidden_size, output_size, num_layers):\n",
    "        super(CustomGRU, self).__init__()\n",
    "        self.hidden_size = hidden_size\n",
    "        self.num_layers = num_layers\n",
    "        \n",
    "        self.gru_cells = nn.ModuleList([\n",
    "            nn.GRUCell(input_size if i == 0 else hidden_size, hidden_size)\n",
    "            for i in range(num_layers)\n",
    "        ])\n",
    "        \n",
    "        self.fc = nn.Linear(hidden_size, output_size)\n",
    "    \n",
    "    def forward(self, x):\n",
    "        batch_size, seq_len, _ = x.size()\n",
    "        \n",
    "        # Initialize hidden states for each layer\n",
    "        h_t = [torch.zeros(batch_size, self.hidden_size).to(x.device) for _ in range(self.num_layers)]\n",
    "        \n",
    "        outputs = []\n",
    "        \n",
    "        for t in range(seq_len):\n",
    "            x_t = x[:, t, :]\n",
    "            \n",
    "            # Pass through each layer\n",
    "            for layer in range(self.num_layers):\n",
    "                h_t[layer] = self.gru_cells[layer](x_t, h_t[layer])\n",
    "                x_t = h_t[layer]\n",
    "            \n",
    "            output_t = self.fc(h_t[-1])\n",
    "            outputs.append(output_t)\n",
    "        \n",
    "        # Stack the outputs to form the final output tensor\n",
    "        outputs = torch.stack(outputs, dim=1)\n",
    "        return outputs"
   ]
  },
  {
   "cell_type": "markdown",
   "id": "26161e60-46fa-4c1f-93ad-beb545b92eed",
   "metadata": {},
   "source": [
    "### ConvLSTM from scratch"
   ]
  },
  {
   "cell_type": "markdown",
   "id": "43439930-f030-4474-9ee4-3c094dc9d21c",
   "metadata": {},
   "source": [
    "Inspired from\n",
    "\n",
    "- https://github.com/rogertrullo/pytorch_convlstm/blob/master/conv_lstm.py\n",
    "\n",
    "- https://github.com/Atcold/pytorch-CortexNet/blob/master/model/ConvLSTMCell.py\n",
    "\n",
    "- https://sladewinter.medium.com/video-frame-prediction-using-convlstm-network-in-pytorch-b5210a6ce582"
   ]
  },
  {
   "cell_type": "code",
   "execution_count": 18,
   "id": "4fca5c2e-2450-4b18-a7b6-0317f7dd71fd",
   "metadata": {},
   "outputs": [],
   "source": [
    "class ConvLSTMCell(nn.Module):\n",
    "    def __init__(self, input_channels, hidden_channels, kernel_size, bias=True):\n",
    "        super(ConvLSTMCell, self).__init__()\n",
    "        self.input_channels = input_channels\n",
    "        self.hidden_channels = hidden_channels\n",
    "        self.kernel_size = kernel_size\n",
    "        self.padding = kernel_size // 2\n",
    "        self.bias = bias\n",
    "\n",
    "        # Gates: i, f, o, g\n",
    "        self.conv = nn.Conv2d(\n",
    "            input_channels + hidden_channels, \n",
    "            4 * hidden_channels, \n",
    "            kernel_size, \n",
    "            padding=self.padding, \n",
    "            bias=self.bias\n",
    "        )\n",
    "\n",
    "    def forward(self, x, hidden):\n",
    "        h_prev, c_prev = hidden\n",
    "\n",
    "        # Concatenate along channel dimension\n",
    "        combined = torch.cat([x, h_prev], dim=1)\n",
    "        conv_output = self.conv(combined)\n",
    "\n",
    "        # Split into gates\n",
    "        i, f, o, g = torch.split(conv_output, self.hidden_channels, dim=1)\n",
    "        i = torch.sigmoid(i)\n",
    "        f = torch.sigmoid(f)\n",
    "        o = torch.sigmoid(o)\n",
    "        g = torch.tanh(g)\n",
    "\n",
    "        # Update cell state and hidden state\n",
    "        c_next = f * c_prev + i * g\n",
    "        h_next = o * torch.tanh(c_next)\n",
    "\n",
    "        return h_next, c_next\n",
    "\n",
    "    def init_hidden(self, batch_size, height, width):\n",
    "        h = torch.zeros(batch_size, self.hidden_channels, height, width, device=self.conv.weight.device)\n",
    "        c = torch.zeros(batch_size, self.hidden_channels, height, width, device=self.conv.weight.device)\n",
    "        return h, c\n",
    "\n",
    "\n",
    "class ConvLSTM(nn.Module):\n",
    "    def __init__(self, input_channels, hidden_channels, kernel_size, num_layers, num_classes, height, width, bias=True):\n",
    "        super(ConvLSTM, self).__init__()\n",
    "        self.num_layers = num_layers\n",
    "        self.hidden_channels = hidden_channels\n",
    "        self.height = height\n",
    "        self.width = width\n",
    "\n",
    "        # ConvLSTM layers\n",
    "        self.layers = nn.ModuleList([\n",
    "            ConvLSTMCell(\n",
    "                input_channels=input_channels if i == 0 else hidden_channels[i - 1],\n",
    "                hidden_channels=hidden_channels[i],\n",
    "                kernel_size=kernel_size,\n",
    "                bias=bias\n",
    "            ) for i in range(num_layers)\n",
    "        ])\n",
    "\n",
    "        self.fc = nn.Linear(hidden_channels[-1] * height * width, num_classes)\n",
    "\n",
    "    def forward(self, x):\n",
    "        batch_size, seq_len, _, height, width = x.size()\n",
    "        assert height == self.height and width == self.width, \"Input size mismatch with initialized height and width.\"\n",
    "\n",
    "        # Initialize hidden states for all layers\n",
    "        hidden_states = [layer.init_hidden(batch_size, height, width) for layer in self.layers]\n",
    "\n",
    "        # Process sequence through ConvLSTM layers\n",
    "        for t in range(seq_len):\n",
    "            current_input = x[:, t]\n",
    "            for l, layer in enumerate(self.layers):\n",
    "                hidden_states[l] = layer(current_input, hidden_states[l])\n",
    "                current_input = hidden_states[l][0]  # Use the hidden state (h_t)\n",
    "\n",
    "        # Last layer's hidden state at the last time step\n",
    "        last_hidden_state = hidden_states[-1][0]\n",
    "        return last_hidden_state"
   ]
  },
  {
   "cell_type": "markdown",
   "id": "43c2522f-5d86-436c-8308-3cb6c4ee9ae9",
   "metadata": {},
   "source": [
    "### Model ( Encoder + RNN + Classifier)"
   ]
  },
  {
   "cell_type": "code",
   "execution_count": 19,
   "id": "4d0e8c24-b323-4c61-8203-f364181c1e25",
   "metadata": {},
   "outputs": [],
   "source": [
    "class ActionClassificationModel(nn.Module):\n",
    "    def __init__(self, sequence_length, input_dim=64*64, num_layers=2, num_classes=6, rnn_module='scratch_lstm'):\n",
    "        super(ActionClassificationModel, self).__init__()\n",
    "        self.sequence_length = sequence_length\n",
    "        self.rnn_module = rnn_module\n",
    "        self.num_layers = num_layers\n",
    "\n",
    "        # Encoder Block\n",
    "        self.encoder = nn.Sequential(\n",
    "            # Block 1\n",
    "            nn.Conv2d(1, 64, kernel_size=3, stride=1, padding=1),\n",
    "            nn.BatchNorm2d(64),\n",
    "            nn.ReLU(),\n",
    "            nn.Conv2d(64, 64, kernel_size=3, stride=1, padding=1),\n",
    "            nn.BatchNorm2d(64),\n",
    "            nn.ReLU(),\n",
    "            nn.MaxPool2d(kernel_size=2, stride=2),\n",
    "            nn.Dropout(0.3),\n",
    "\n",
    "            # Block 2\n",
    "            nn.Conv2d(64, 128, kernel_size=3, stride=1, padding=1),\n",
    "            nn.BatchNorm2d(128),\n",
    "            nn.ReLU(),\n",
    "            nn.Conv2d(128, 128, kernel_size=3, stride=1, padding=1),\n",
    "            nn.BatchNorm2d(128),\n",
    "            nn.ReLU(),\n",
    "            nn.MaxPool2d(kernel_size=2, stride=2),\n",
    "            nn.Dropout(0.3),\n",
    "\n",
    "            # Block 3\n",
    "            nn.Conv2d(128, 256, kernel_size=3, stride=1, padding=1),\n",
    "            nn.BatchNorm2d(256),\n",
    "            nn.ReLU(),\n",
    "            nn.Conv2d(256, 256, kernel_size=3, stride=1, padding=1),\n",
    "            nn.BatchNorm2d(256),\n",
    "            nn.ReLU(),\n",
    "            nn.MaxPool2d(kernel_size=2, stride=2),\n",
    "            nn.Dropout(0.4),\n",
    "        )\n",
    "\n",
    "        # RNN modules to be put here\n",
    "        if self.rnn_module == 'scratch_lstm':\n",
    "            # Custom LSTM Module\n",
    "            self.rnn = LSTM(\n",
    "                input_size=256 * 8 * 8,\n",
    "                hidden_size=256,         \n",
    "                num_layers=self.num_layers,           \n",
    "                num_classes=256,    \n",
    "                batch_first=True\n",
    "            )\n",
    "        elif self.rnn_module == 'custom_lstm':\n",
    "            self.rnn = CustomPLSTM(\n",
    "            input_size=256 * 8 * 8,  \n",
    "            hidden_size=256,         \n",
    "            output_size=256,         \n",
    "            num_layers=self.num_layers             # Number of LSTM layers\n",
    "            )\n",
    "\n",
    "        elif self.rnn_module == 'gru':\n",
    "            self.rnn = CustomGRU(\n",
    "            input_size=256 * 8 * 8,  \n",
    "            hidden_size=256,\n",
    "            output_size=256,\n",
    "            num_layers=self.num_layers\n",
    "            )\n",
    "\n",
    "        elif self.rnn_module == 'convlstm':\n",
    "            self.rnn = ConvLSTM(\n",
    "            input_channels=256,\n",
    "            hidden_channels=[64, 64],  # Two layers with 64 channels each\n",
    "            kernel_size=3,\n",
    "            num_layers=self.num_layers,\n",
    "            num_classes=num_classes,\n",
    "            height=8,  # Adjusted based on encoder output size\n",
    "            width=8\n",
    "            )\n",
    "        else:\n",
    "            print(\"Error\")\n",
    "\n",
    "        # print(\"Conv lstm shape: \", self.rnn.shape)\n",
    "\n",
    "\n",
    "        if self.rnn_module != 'convlstm':\n",
    "            # Classifier\n",
    "            self.classifier = nn.Sequential(\n",
    "                nn.Conv1d(256, 128, kernel_size=1),\n",
    "                nn.ReLU(),\n",
    "                nn.AdaptiveAvgPool1d(1),\n",
    "                nn.Flatten(),\n",
    "                nn.Linear(128, num_classes)\n",
    "            )\n",
    "        else:\n",
    "\n",
    "            # Custom classifier for ConvLSTM\n",
    "            self.classifier = nn.Sequential(\n",
    "                nn.Flatten(),\n",
    "                nn.Linear(64 * 8 * 8, num_classes)\n",
    "            )\n",
    "\n",
    "    # def forward(self, x):\n",
    "    #     batch_size, seq_len, _ = x.size()\n",
    "        \n",
    "    #     # Reshape each frame\n",
    "    #     x = x.view(batch_size * seq_len, 1, 64, 64)\n",
    "    #     x = self.encoder(x)\n",
    "    #     x = x.view(batch_size, seq_len, -1)\n",
    "        \n",
    "    #     # Recurrent Module\n",
    "    #     x = self.rnn(x)  \n",
    "        \n",
    "    #     # print(\"Debug:\", x.shape)\n",
    "        \n",
    "    #     # Classifier\n",
    "    #     x = x.transpose(1, 2)\n",
    "    #     x = self.classifier(x)\n",
    "        \n",
    "    #     return x\n",
    "    def forward(self, x):\n",
    "        batch_size, seq_len, *rest = x.size()\n",
    "\n",
    "        # Handle reshaping based on input dimensions\n",
    "        if len(rest) == 1:  # General RNN\n",
    "            input_height, input_width = 64, 64\n",
    "            x = x.view(batch_size * seq_len, 1, input_height, input_width)\n",
    "        elif len(rest) == 3:  # ConvLSTM\n",
    "            height, width = rest[1], rest[2]\n",
    "            x = x.view(batch_size * seq_len, 1, height, width)\n",
    "\n",
    "        x = self.encoder(x)\n",
    "        # print(\"Encoder output shape:\", x.shape)\n",
    "\n",
    "        # print(\"Convlstm shape: \", x.shape)\n",
    "\n",
    "        if self.rnn_module == 'convlstm':\n",
    "            # For reshape and pass through ConvLSTM module\n",
    "            _, channels, height, width = x.size()\n",
    "            # seq_len = x.size(0) // batch_size\n",
    "            x = x.view(batch_size, seq_len, channels, height, width)\n",
    "            x = self.rnn(x)  \n",
    "            # print(\"ConvLSTM/RNN output shape: \", x.shape)\n",
    "            _, channels, height, width = x.size()\n",
    "            sequence_length = height * width\n",
    "            x = x.view(batch_size, channels, sequence_length)\n",
    "            # print(\"Reshaped for Conv1d: \", x.shape)\n",
    "        elif self.rnn_module in ['scratch_lstm', 'custom_lstm', 'gru']:\n",
    "            # For other RNNs\n",
    "            x = x.view(batch_size, seq_len, -1)\n",
    "            x = self.rnn(x)\n",
    "            x = x.transpose(1, 2)\n",
    "            \n",
    "        \n",
    "        # if len(x.size()) > 2:\n",
    "        #     x = x.view(batch_size, -1)\n",
    "        # Classifier\n",
    "        x = self.classifier(x)\n",
    "        # print(\"Final classifier input shape:\", x.shape)\n",
    "\n",
    "    \n",
    "        return x"
   ]
  },
  {
   "cell_type": "markdown",
   "id": "c9741186-cde6-44e9-8ec1-c27f73e79fad",
   "metadata": {},
   "source": [
    "### LSTM from Scratch training"
   ]
  },
  {
   "cell_type": "code",
   "execution_count": 20,
   "id": "2207e0bf-33e8-4f4f-a9a7-9726ab5c22a2",
   "metadata": {},
   "outputs": [],
   "source": [
    "# Hyper parameters for LSTM\n",
    "input_size = 64*64  # flattened size of frame\n",
    "# hidden_size = 256  # Hidden size of the LSTM\n",
    "num_classes = len(os.listdir(\"/home/nfs/inf6/data/datasets/kth_actions/processed\"))  # Number of output classes\n",
    "num_layers = 2\n",
    "\n",
    "# Hyperparameters for training\n",
    "num_epochs = 30\n",
    "learning_rate = 0.001  # Initial learning rate\n",
    "step_size = 5          # To be used in LR Scheduler\n",
    "gamma = 0.5            # To be used in LR Schedussler\n",
    "name = f\"lstm_scratch_ep_{num_epochs}_lr_{learning_rate}\"\n",
    "project = 'assignment-4'\n",
    "\n",
    "#criterion\n",
    "criterion = nn.CrossEntropyLoss()"
   ]
  },
  {
   "cell_type": "code",
   "execution_count": 21,
   "id": "d0e30a0f-3e49-4835-84ab-a6f9b7d96d12",
   "metadata": {},
   "outputs": [
    {
     "data": {
      "text/plain": [
       "ActionClassificationModel(\n",
       "  (encoder): Sequential(\n",
       "    (0): Conv2d(1, 64, kernel_size=(3, 3), stride=(1, 1), padding=(1, 1))\n",
       "    (1): BatchNorm2d(64, eps=1e-05, momentum=0.1, affine=True, track_running_stats=True)\n",
       "    (2): ReLU()\n",
       "    (3): Conv2d(64, 64, kernel_size=(3, 3), stride=(1, 1), padding=(1, 1))\n",
       "    (4): BatchNorm2d(64, eps=1e-05, momentum=0.1, affine=True, track_running_stats=True)\n",
       "    (5): ReLU()\n",
       "    (6): MaxPool2d(kernel_size=2, stride=2, padding=0, dilation=1, ceil_mode=False)\n",
       "    (7): Dropout(p=0.3, inplace=False)\n",
       "    (8): Conv2d(64, 128, kernel_size=(3, 3), stride=(1, 1), padding=(1, 1))\n",
       "    (9): BatchNorm2d(128, eps=1e-05, momentum=0.1, affine=True, track_running_stats=True)\n",
       "    (10): ReLU()\n",
       "    (11): Conv2d(128, 128, kernel_size=(3, 3), stride=(1, 1), padding=(1, 1))\n",
       "    (12): BatchNorm2d(128, eps=1e-05, momentum=0.1, affine=True, track_running_stats=True)\n",
       "    (13): ReLU()\n",
       "    (14): MaxPool2d(kernel_size=2, stride=2, padding=0, dilation=1, ceil_mode=False)\n",
       "    (15): Dropout(p=0.3, inplace=False)\n",
       "    (16): Conv2d(128, 256, kernel_size=(3, 3), stride=(1, 1), padding=(1, 1))\n",
       "    (17): BatchNorm2d(256, eps=1e-05, momentum=0.1, affine=True, track_running_stats=True)\n",
       "    (18): ReLU()\n",
       "    (19): Conv2d(256, 256, kernel_size=(3, 3), stride=(1, 1), padding=(1, 1))\n",
       "    (20): BatchNorm2d(256, eps=1e-05, momentum=0.1, affine=True, track_running_stats=True)\n",
       "    (21): ReLU()\n",
       "    (22): MaxPool2d(kernel_size=2, stride=2, padding=0, dilation=1, ceil_mode=False)\n",
       "    (23): Dropout(p=0.4, inplace=False)\n",
       "  )\n",
       "  (rnn): LSTM(\n",
       "    (lstm_cells): ModuleList(\n",
       "      (0-1): 2 x LSTMCell()\n",
       "    )\n",
       "    (classifier): Linear(in_features=256, out_features=256, bias=True)\n",
       "  )\n",
       "  (classifier): Sequential(\n",
       "    (0): Conv1d(256, 128, kernel_size=(1,), stride=(1,))\n",
       "    (1): ReLU()\n",
       "    (2): AdaptiveAvgPool1d(output_size=1)\n",
       "    (3): Flatten(start_dim=1, end_dim=-1)\n",
       "    (4): Linear(in_features=128, out_features=6, bias=True)\n",
       "  )\n",
       ")"
      ]
     },
     "execution_count": 21,
     "metadata": {},
     "output_type": "execute_result"
    }
   ],
   "source": [
    "model = ActionClassificationModel(input_dim=input_size, \n",
    "                                           sequence_length=sequence_length, \n",
    "                                           num_classes=num_classes, \n",
    "                                           num_layers=num_layers).to(device)\n",
    "model"
   ]
  },
  {
   "cell_type": "code",
   "execution_count": 22,
   "id": "9b0f81aa-f9bd-4cd0-92e2-f12d6256c25b",
   "metadata": {},
   "outputs": [
    {
     "name": "stderr",
     "output_type": "stream",
     "text": [
      "\u001b[34m\u001b[1mwandb\u001b[0m: Using wandb-core as the SDK backend.  Please refer to https://wandb.me/wandb-core for more information.\n",
      "\u001b[34m\u001b[1mwandb\u001b[0m: Currently logged in as: \u001b[33mahmadjaved97\u001b[0m. Use \u001b[1m`wandb login --relogin`\u001b[0m to force relogin\n"
     ]
    },
    {
     "data": {
      "text/html": [
       "Tracking run with wandb version 0.18.7"
      ],
      "text/plain": [
       "<IPython.core.display.HTML object>"
      ]
     },
     "metadata": {},
     "output_type": "display_data"
    },
    {
     "data": {
      "text/html": [
       "Run data is saved locally in <code>/home/user/javeda1/MA-INF-4308-Lab-Vision-Systems/Assignment-4/wandb/run-20241209_010721-n5d22wmj</code>"
      ],
      "text/plain": [
       "<IPython.core.display.HTML object>"
      ]
     },
     "metadata": {},
     "output_type": "display_data"
    },
    {
     "data": {
      "text/html": [
       "Syncing run <strong><a href='https://wandb.ai/ahmadjaved97/assignment-4/runs/n5d22wmj' target=\"_blank\">lstm_scratch_ep_30_lr_0.001</a></strong> to <a href='https://wandb.ai/ahmadjaved97/assignment-4' target=\"_blank\">Weights & Biases</a> (<a href='https://wandb.me/developer-guide' target=\"_blank\">docs</a>)<br/>"
      ],
      "text/plain": [
       "<IPython.core.display.HTML object>"
      ]
     },
     "metadata": {},
     "output_type": "display_data"
    },
    {
     "data": {
      "text/html": [
       " View project at <a href='https://wandb.ai/ahmadjaved97/assignment-4' target=\"_blank\">https://wandb.ai/ahmadjaved97/assignment-4</a>"
      ],
      "text/plain": [
       "<IPython.core.display.HTML object>"
      ]
     },
     "metadata": {},
     "output_type": "display_data"
    },
    {
     "data": {
      "text/html": [
       " View run at <a href='https://wandb.ai/ahmadjaved97/assignment-4/runs/n5d22wmj' target=\"_blank\">https://wandb.ai/ahmadjaved97/assignment-4/runs/n5d22wmj</a>"
      ],
      "text/plain": [
       "<IPython.core.display.HTML object>"
      ]
     },
     "metadata": {},
     "output_type": "display_data"
    },
    {
     "name": "stderr",
     "output_type": "stream",
     "text": [
      "  3%|█▊                                                   | 1/30 [02:29<1:12:15, 149.51s/it]"
     ]
    },
    {
     "name": "stdout",
     "output_type": "stream",
     "text": [
      "Epoch 1/30\n",
      "Train Loss: 1.1546, Train Accuracy: 0.4039\n",
      "Eval Loss: 1.0372, Eval Accuracy: 0.4618\n",
      "Learning Rate: 0.001000\n"
     ]
    },
    {
     "name": "stderr",
     "output_type": "stream",
     "text": [
      "  7%|███▌                                                 | 2/30 [04:54<1:08:23, 146.56s/it]"
     ]
    },
    {
     "name": "stdout",
     "output_type": "stream",
     "text": [
      "Epoch 2/30\n",
      "Train Loss: 0.9961, Train Accuracy: 0.5022\n",
      "Eval Loss: 0.8852, Eval Accuracy: 0.5553\n",
      "Learning Rate: 0.001000\n"
     ]
    },
    {
     "name": "stderr",
     "output_type": "stream",
     "text": [
      " 10%|█████▎                                               | 3/30 [07:18<1:05:30, 145.57s/it]"
     ]
    },
    {
     "name": "stdout",
     "output_type": "stream",
     "text": [
      "Epoch 3/30\n",
      "Train Loss: 0.8410, Train Accuracy: 0.5776\n",
      "Eval Loss: 0.7296, Eval Accuracy: 0.6520\n",
      "Learning Rate: 0.001000\n"
     ]
    },
    {
     "name": "stderr",
     "output_type": "stream",
     "text": [
      " 13%|███████                                              | 4/30 [09:44<1:03:06, 145.64s/it]"
     ]
    },
    {
     "name": "stdout",
     "output_type": "stream",
     "text": [
      "Epoch 4/30\n",
      "Train Loss: 0.7402, Train Accuracy: 0.6624\n",
      "Eval Loss: 0.7683, Eval Accuracy: 0.6577\n",
      "Learning Rate: 0.001000\n"
     ]
    },
    {
     "name": "stderr",
     "output_type": "stream",
     "text": [
      " 17%|████████▊                                            | 5/30 [12:08<1:00:28, 145.16s/it]"
     ]
    },
    {
     "name": "stdout",
     "output_type": "stream",
     "text": [
      "Epoch 5/30\n",
      "Train Loss: 0.6691, Train Accuracy: 0.7120\n",
      "Eval Loss: 0.6011, Eval Accuracy: 0.7268\n",
      "Learning Rate: 0.001000\n"
     ]
    },
    {
     "name": "stderr",
     "output_type": "stream",
     "text": [
      " 20%|███████████                                            | 6/30 [14:32<57:58, 144.95s/it]"
     ]
    },
    {
     "name": "stdout",
     "output_type": "stream",
     "text": [
      "Epoch 6/30\n",
      "Train Loss: 0.5348, Train Accuracy: 0.7661\n",
      "Eval Loss: 0.4952, Eval Accuracy: 0.7707\n",
      "Learning Rate: 0.000500\n"
     ]
    },
    {
     "name": "stderr",
     "output_type": "stream",
     "text": [
      " 23%|████████████▊                                          | 7/30 [16:57<55:28, 144.74s/it]"
     ]
    },
    {
     "name": "stdout",
     "output_type": "stream",
     "text": [
      "Epoch 7/30\n",
      "Train Loss: 0.4916, Train Accuracy: 0.7874\n",
      "Eval Loss: 0.4547, Eval Accuracy: 0.7894\n",
      "Learning Rate: 0.000500\n"
     ]
    },
    {
     "name": "stderr",
     "output_type": "stream",
     "text": [
      " 27%|██████████████▋                                        | 8/30 [19:21<53:01, 144.62s/it]"
     ]
    },
    {
     "name": "stdout",
     "output_type": "stream",
     "text": [
      "Epoch 8/30\n",
      "Train Loss: 0.4426, Train Accuracy: 0.8000\n",
      "Eval Loss: 0.4358, Eval Accuracy: 0.7829\n",
      "Learning Rate: 0.000500\n"
     ]
    },
    {
     "name": "stderr",
     "output_type": "stream",
     "text": [
      " 30%|████████████████▌                                      | 9/30 [21:46<50:36, 144.60s/it]"
     ]
    },
    {
     "name": "stdout",
     "output_type": "stream",
     "text": [
      "Epoch 9/30\n",
      "Train Loss: 0.4361, Train Accuracy: 0.8065\n",
      "Eval Loss: 0.5329, Eval Accuracy: 0.7585\n",
      "Learning Rate: 0.000500\n"
     ]
    },
    {
     "name": "stderr",
     "output_type": "stream",
     "text": [
      " 33%|██████████████████                                    | 10/30 [24:10<48:12, 144.61s/it]"
     ]
    },
    {
     "name": "stdout",
     "output_type": "stream",
     "text": [
      "Epoch 10/30\n",
      "Train Loss: 0.4171, Train Accuracy: 0.8091\n",
      "Eval Loss: 0.4013, Eval Accuracy: 0.8041\n",
      "Learning Rate: 0.000500\n"
     ]
    },
    {
     "name": "stderr",
     "output_type": "stream",
     "text": [
      " 37%|███████████████████▊                                  | 11/30 [26:36<45:53, 144.90s/it]"
     ]
    },
    {
     "name": "stdout",
     "output_type": "stream",
     "text": [
      "Epoch 11/30\n",
      "Train Loss: 0.3600, Train Accuracy: 0.8354\n",
      "Eval Loss: 0.3727, Eval Accuracy: 0.8146\n",
      "Learning Rate: 0.000250\n"
     ]
    },
    {
     "name": "stderr",
     "output_type": "stream",
     "text": [
      " 40%|█████████████████████▌                                | 12/30 [29:01<43:29, 144.95s/it]"
     ]
    },
    {
     "name": "stdout",
     "output_type": "stream",
     "text": [
      "Epoch 12/30\n",
      "Train Loss: 0.3313, Train Accuracy: 0.8447\n",
      "Eval Loss: 0.3667, Eval Accuracy: 0.8122\n",
      "Learning Rate: 0.000250\n"
     ]
    },
    {
     "name": "stderr",
     "output_type": "stream",
     "text": [
      " 43%|███████████████████████▍                              | 13/30 [31:26<41:04, 144.96s/it]"
     ]
    },
    {
     "name": "stdout",
     "output_type": "stream",
     "text": [
      "Epoch 13/30\n",
      "Train Loss: 0.3193, Train Accuracy: 0.8528\n",
      "Eval Loss: 0.3424, Eval Accuracy: 0.8268\n",
      "Learning Rate: 0.000250\n"
     ]
    },
    {
     "name": "stderr",
     "output_type": "stream",
     "text": [
      " 47%|█████████████████████████▏                            | 14/30 [33:51<38:37, 144.85s/it]"
     ]
    },
    {
     "name": "stdout",
     "output_type": "stream",
     "text": [
      "Epoch 14/30\n",
      "Train Loss: 0.3139, Train Accuracy: 0.8539\n",
      "Eval Loss: 0.3509, Eval Accuracy: 0.8260\n",
      "Learning Rate: 0.000250\n"
     ]
    },
    {
     "name": "stderr",
     "output_type": "stream",
     "text": [
      " 50%|███████████████████████████                           | 15/30 [36:15<36:11, 144.76s/it]"
     ]
    },
    {
     "name": "stdout",
     "output_type": "stream",
     "text": [
      "Epoch 15/30\n",
      "Train Loss: 0.3062, Train Accuracy: 0.8581\n",
      "Eval Loss: 0.3517, Eval Accuracy: 0.8236\n",
      "Learning Rate: 0.000250\n"
     ]
    },
    {
     "name": "stderr",
     "output_type": "stream",
     "text": [
      " 53%|████████████████████████████▊                         | 16/30 [38:40<33:46, 144.72s/it]"
     ]
    },
    {
     "name": "stdout",
     "output_type": "stream",
     "text": [
      "Epoch 16/30\n",
      "Train Loss: 0.2837, Train Accuracy: 0.8697\n",
      "Eval Loss: 0.3285, Eval Accuracy: 0.8309\n",
      "Learning Rate: 0.000125\n"
     ]
    },
    {
     "name": "stderr",
     "output_type": "stream",
     "text": [
      " 57%|██████████████████████████████▌                       | 17/30 [41:04<31:20, 144.63s/it]"
     ]
    },
    {
     "name": "stdout",
     "output_type": "stream",
     "text": [
      "Epoch 17/30\n",
      "Train Loss: 0.2731, Train Accuracy: 0.8722\n",
      "Eval Loss: 0.3287, Eval Accuracy: 0.8358\n",
      "Learning Rate: 0.000125\n"
     ]
    },
    {
     "name": "stderr",
     "output_type": "stream",
     "text": [
      " 60%|████████████████████████████████▍                     | 18/30 [43:29<28:55, 144.63s/it]"
     ]
    },
    {
     "name": "stdout",
     "output_type": "stream",
     "text": [
      "Epoch 18/30\n",
      "Train Loss: 0.2623, Train Accuracy: 0.8738\n",
      "Eval Loss: 0.3362, Eval Accuracy: 0.8301\n",
      "Learning Rate: 0.000125\n"
     ]
    },
    {
     "name": "stderr",
     "output_type": "stream",
     "text": [
      " 63%|██████████████████████████████████▏                   | 19/30 [45:54<26:31, 144.73s/it]"
     ]
    },
    {
     "name": "stdout",
     "output_type": "stream",
     "text": [
      "Epoch 19/30\n",
      "Train Loss: 0.2563, Train Accuracy: 0.8766\n",
      "Eval Loss: 0.3298, Eval Accuracy: 0.8374\n",
      "Learning Rate: 0.000125\n"
     ]
    },
    {
     "name": "stderr",
     "output_type": "stream",
     "text": [
      " 67%|████████████████████████████████████                  | 20/30 [48:18<24:06, 144.64s/it]"
     ]
    },
    {
     "name": "stdout",
     "output_type": "stream",
     "text": [
      "Epoch 20/30\n",
      "Train Loss: 0.2487, Train Accuracy: 0.8795\n",
      "Eval Loss: 0.3290, Eval Accuracy: 0.8398\n",
      "Learning Rate: 0.000125\n"
     ]
    },
    {
     "name": "stderr",
     "output_type": "stream",
     "text": [
      " 70%|█████████████████████████████████████▊                | 21/30 [50:44<21:44, 144.92s/it]"
     ]
    },
    {
     "name": "stdout",
     "output_type": "stream",
     "text": [
      "Epoch 21/30\n",
      "Train Loss: 0.2321, Train Accuracy: 0.8886\n",
      "Eval Loss: 0.3279, Eval Accuracy: 0.8366\n",
      "Learning Rate: 0.000063\n"
     ]
    },
    {
     "name": "stderr",
     "output_type": "stream",
     "text": [
      " 73%|███████████████████████████████████████▌              | 22/30 [53:10<19:21, 145.18s/it]"
     ]
    },
    {
     "name": "stdout",
     "output_type": "stream",
     "text": [
      "Epoch 22/30\n",
      "Train Loss: 0.2302, Train Accuracy: 0.8896\n",
      "Eval Loss: 0.3346, Eval Accuracy: 0.8382\n",
      "Learning Rate: 0.000063\n"
     ]
    },
    {
     "name": "stderr",
     "output_type": "stream",
     "text": [
      " 77%|█████████████████████████████████████████▍            | 23/30 [55:35<16:55, 145.13s/it]"
     ]
    },
    {
     "name": "stdout",
     "output_type": "stream",
     "text": [
      "Epoch 23/30\n",
      "Train Loss: 0.2294, Train Accuracy: 0.8915\n",
      "Eval Loss: 0.3414, Eval Accuracy: 0.8341\n",
      "Learning Rate: 0.000063\n"
     ]
    },
    {
     "name": "stderr",
     "output_type": "stream",
     "text": [
      " 80%|███████████████████████████████████████████▏          | 24/30 [57:59<14:29, 144.96s/it]"
     ]
    },
    {
     "name": "stdout",
     "output_type": "stream",
     "text": [
      "Epoch 24/30\n",
      "Train Loss: 0.2212, Train Accuracy: 0.8951\n",
      "Eval Loss: 0.3402, Eval Accuracy: 0.8415\n",
      "Learning Rate: 0.000063\n"
     ]
    },
    {
     "name": "stderr",
     "output_type": "stream",
     "text": [
      " 83%|███████████████████████████████████████████▎        | 25/30 [1:00:26<12:08, 145.65s/it]"
     ]
    },
    {
     "name": "stdout",
     "output_type": "stream",
     "text": [
      "Epoch 25/30\n",
      "Train Loss: 0.2189, Train Accuracy: 0.8951\n",
      "Eval Loss: 0.3396, Eval Accuracy: 0.8480\n",
      "Learning Rate: 0.000063\n"
     ]
    },
    {
     "name": "stderr",
     "output_type": "stream",
     "text": [
      " 87%|█████████████████████████████████████████████       | 26/30 [1:02:51<09:41, 145.38s/it]"
     ]
    },
    {
     "name": "stdout",
     "output_type": "stream",
     "text": [
      "Epoch 26/30\n",
      "Train Loss: 0.2071, Train Accuracy: 0.9022\n",
      "Eval Loss: 0.3461, Eval Accuracy: 0.8366\n",
      "Learning Rate: 0.000031\n"
     ]
    },
    {
     "name": "stderr",
     "output_type": "stream",
     "text": [
      " 90%|██████████████████████████████████████████████▊     | 27/30 [1:05:16<07:15, 145.18s/it]"
     ]
    },
    {
     "name": "stdout",
     "output_type": "stream",
     "text": [
      "Epoch 27/30\n",
      "Train Loss: 0.2067, Train Accuracy: 0.9022\n",
      "Eval Loss: 0.3402, Eval Accuracy: 0.8472\n",
      "Learning Rate: 0.000031\n"
     ]
    },
    {
     "name": "stderr",
     "output_type": "stream",
     "text": [
      " 93%|████████████████████████████████████████████████▌   | 28/30 [1:07:40<04:49, 144.95s/it]"
     ]
    },
    {
     "name": "stdout",
     "output_type": "stream",
     "text": [
      "Epoch 28/30\n",
      "Train Loss: 0.2068, Train Accuracy: 0.9047\n",
      "Eval Loss: 0.3466, Eval Accuracy: 0.8496\n",
      "Learning Rate: 0.000031\n"
     ]
    },
    {
     "name": "stderr",
     "output_type": "stream",
     "text": [
      " 97%|██████████████████████████████████████████████████▎ | 29/30 [1:10:06<02:25, 145.31s/it]"
     ]
    },
    {
     "name": "stdout",
     "output_type": "stream",
     "text": [
      "Epoch 29/30\n",
      "Train Loss: 0.2019, Train Accuracy: 0.9063\n",
      "Eval Loss: 0.3534, Eval Accuracy: 0.8463\n",
      "Learning Rate: 0.000031\n"
     ]
    },
    {
     "name": "stderr",
     "output_type": "stream",
     "text": [
      "100%|████████████████████████████████████████████████████| 30/30 [1:12:33<00:00, 145.11s/it]"
     ]
    },
    {
     "name": "stdout",
     "output_type": "stream",
     "text": [
      "Epoch 30/30\n",
      "Train Loss: 0.1965, Train Accuracy: 0.9063\n",
      "Eval Loss: 0.3522, Eval Accuracy: 0.8504\n",
      "Learning Rate: 0.000031\n"
     ]
    },
    {
     "name": "stderr",
     "output_type": "stream",
     "text": [
      "\n"
     ]
    },
    {
     "data": {
      "text/html": [
       "\n",
       "    <style>\n",
       "        .wandb-row {\n",
       "            display: flex;\n",
       "            flex-direction: row;\n",
       "            flex-wrap: wrap;\n",
       "            justify-content: flex-start;\n",
       "            width: 100%;\n",
       "        }\n",
       "        .wandb-col {\n",
       "            display: flex;\n",
       "            flex-direction: column;\n",
       "            flex-basis: 100%;\n",
       "            flex: 1;\n",
       "            padding: 10px;\n",
       "        }\n",
       "    </style>\n",
       "<div class=\"wandb-row\"><div class=\"wandb-col\"><h3>Run history:</h3><br/><table class=\"wandb\"><tr><td>epoch</td><td>▁▁▁▂▂▂▂▃▃▃▃▄▄▄▄▅▅▅▅▆▆▆▆▇▇▇▇███</td></tr><tr><td>eval_accuracy</td><td>▁▃▄▅▆▇▇▇▆▇▇▇██████████████████</td></tr><tr><td>eval_loss</td><td>█▆▅▅▄▃▂▂▃▂▁▁▁▁▁▁▁▁▁▁▁▁▁▁▁▁▁▁▁▁</td></tr><tr><td>learning_rate</td><td>█████▄▄▄▄▄▃▃▃▃▃▂▂▂▂▂▁▁▁▁▁▁▁▁▁▁</td></tr><tr><td>train_accuracy</td><td>▁▂▃▅▅▆▆▇▇▇▇▇▇▇▇▇██████████████</td></tr><tr><td>train_loss</td><td>█▇▆▅▄▃▃▃▃▃▂▂▂▂▂▂▂▁▁▁▁▁▁▁▁▁▁▁▁▁</td></tr></table><br/></div><div class=\"wandb-col\"><h3>Run summary:</h3><br/><table class=\"wandb\"><tr><td>epoch</td><td>30</td></tr><tr><td>eval_accuracy</td><td>0.85041</td></tr><tr><td>eval_loss</td><td>0.35222</td></tr><tr><td>learning_rate</td><td>3e-05</td></tr><tr><td>train_accuracy</td><td>0.9063</td></tr><tr><td>train_loss</td><td>0.19648</td></tr></table><br/></div></div>"
      ],
      "text/plain": [
       "<IPython.core.display.HTML object>"
      ]
     },
     "metadata": {},
     "output_type": "display_data"
    },
    {
     "data": {
      "text/html": [
       " View run <strong style=\"color:#cdcd00\">lstm_scratch_ep_30_lr_0.001</strong> at: <a href='https://wandb.ai/ahmadjaved97/assignment-4/runs/n5d22wmj' target=\"_blank\">https://wandb.ai/ahmadjaved97/assignment-4/runs/n5d22wmj</a><br/> View project at: <a href='https://wandb.ai/ahmadjaved97/assignment-4' target=\"_blank\">https://wandb.ai/ahmadjaved97/assignment-4</a><br/>Synced 4 W&B file(s), 0 media file(s), 3 artifact file(s) and 0 other file(s)"
      ],
      "text/plain": [
       "<IPython.core.display.HTML object>"
      ]
     },
     "metadata": {},
     "output_type": "display_data"
    },
    {
     "data": {
      "text/html": [
       "Find logs at: <code>./wandb/run-20241209_010721-n5d22wmj/logs</code>"
      ],
      "text/plain": [
       "<IPython.core.display.HTML object>"
      ]
     },
     "metadata": {},
     "output_type": "display_data"
    }
   ],
   "source": [
    "# Run training\n",
    "model, train_losses, train_accuracies, eval_losses, eval_accuracies, learning_rates = run_training(\n",
    "    model, \n",
    "    train_loader, val_loader, \n",
    "    criterion,\n",
    "    device,\n",
    "    num_epochs=num_epochs, \n",
    "    learning_rate=learning_rate, \n",
    "    step_size=step_size, \n",
    "    gamma=gamma,\n",
    "    name=name, project=project\n",
    ")"
   ]
  },
  {
   "cell_type": "code",
   "execution_count": 23,
   "id": "623916e2-ad57-47ac-88a2-bed8af27ce9c",
   "metadata": {},
   "outputs": [],
   "source": [
    "save_path = \"./saved_models/lstm_scratch.pth\"\n",
    "torch.save(model, save_path)"
   ]
  },
  {
   "cell_type": "code",
   "execution_count": 24,
   "id": "cabc89b1-16e4-4df2-bf82-f96003876f15",
   "metadata": {},
   "outputs": [
    {
     "name": "stderr",
     "output_type": "stream",
     "text": [
      "/tmp/ipykernel_2697254/2120265427.py:2: FutureWarning: You are using `torch.load` with `weights_only=False` (the current default value), which uses the default pickle module implicitly. It is possible to construct malicious pickle data which will execute arbitrary code during unpickling (See https://github.com/pytorch/pytorch/blob/main/SECURITY.md#untrusted-models for more details). In a future release, the default value for `weights_only` will be flipped to `True`. This limits the functions that could be executed during unpickling. Arbitrary objects will no longer be allowed to be loaded via this mode unless they are explicitly allowlisted by the user via `torch.serialization.add_safe_globals`. We recommend you start setting `weights_only=True` for any use case where you don't have full control of the loaded file. Please open an issue on GitHub for any issues related to this experimental feature.\n",
      "  model = torch.load(model_path)\n"
     ]
    },
    {
     "data": {
      "image/png": "[encoded data removed]",
      "text/plain": [
       "<Figure size 600x400 with 2 Axes>"
      ]
     },
     "metadata": {},
     "output_type": "display_data"
    }
   ],
   "source": [
    "model = load_model(\"./saved_models/lstm_scratch.pth\")\n",
    "# Use the function to get results\n",
    "y_true, y_pred = evaluate_model(model, val_loader)\n",
    "\n",
    "# Class label names\n",
    "label_names = ['boxing','handclapping', 'handwaving', 'jogging', 'running', 'walking']\n",
    "\n",
    "# Plot confusion matrix\n",
    "plot_confusion_matrix(y_true, y_pred, label_names, model_name=\"LSTM from scratch\")"
   ]
  },
  {
   "cell_type": "markdown",
   "id": "cb95b02c-a0a7-4270-85d3-00eb601fafbc",
   "metadata": {},
   "source": [
    "#### Pytorch LSTM Training"
   ]
  },
  {
   "cell_type": "code",
   "execution_count": 20,
   "id": "c369a34a-584e-43cd-9d6a-740b546dd4a0",
   "metadata": {},
   "outputs": [],
   "source": [
    "# Hyper parameters for LSTM\n",
    "input_size = 64*64  # flattened size of frame\n",
    "# hidden_size = 256  # Hidden size of the LSTM\n",
    "num_classes = len(os.listdir(\"/home/nfs/inf6/data/datasets/kth_actions/processed\"))  # Number of output classes\n",
    "num_layers = 2\n",
    "\n",
    "# Hyperparameters for training\n",
    "num_epochs = 30\n",
    "learning_rate = 0.001  # Initial learning rate\n",
    "step_size = 5          # To be used in LR Scheduler\n",
    "gamma = 0.5            # To be used in LR Scheduler\n",
    "name = f\"lstm_pytorch_ep_{num_epochs}_lr_{learning_rate}\"\n",
    "project = 'assignment-4'\n",
    "\n",
    "#criterion\n",
    "criterion = nn.CrossEntropyLoss()"
   ]
  },
  {
   "cell_type": "code",
   "execution_count": 21,
   "id": "4ac93ad0-2fdf-4aae-8728-9be9f2bfda69",
   "metadata": {},
   "outputs": [
    {
     "data": {
      "text/plain": [
       "ActionClassificationModel(\n",
       "  (encoder): Sequential(\n",
       "    (0): Conv2d(1, 64, kernel_size=(3, 3), stride=(1, 1), padding=(1, 1))\n",
       "    (1): BatchNorm2d(64, eps=1e-05, momentum=0.1, affine=True, track_running_stats=True)\n",
       "    (2): ReLU()\n",
       "    (3): Conv2d(64, 64, kernel_size=(3, 3), stride=(1, 1), padding=(1, 1))\n",
       "    (4): BatchNorm2d(64, eps=1e-05, momentum=0.1, affine=True, track_running_stats=True)\n",
       "    (5): ReLU()\n",
       "    (6): MaxPool2d(kernel_size=2, stride=2, padding=0, dilation=1, ceil_mode=False)\n",
       "    (7): Dropout(p=0.3, inplace=False)\n",
       "    (8): Conv2d(64, 128, kernel_size=(3, 3), stride=(1, 1), padding=(1, 1))\n",
       "    (9): BatchNorm2d(128, eps=1e-05, momentum=0.1, affine=True, track_running_stats=True)\n",
       "    (10): ReLU()\n",
       "    (11): Conv2d(128, 128, kernel_size=(3, 3), stride=(1, 1), padding=(1, 1))\n",
       "    (12): BatchNorm2d(128, eps=1e-05, momentum=0.1, affine=True, track_running_stats=True)\n",
       "    (13): ReLU()\n",
       "    (14): MaxPool2d(kernel_size=2, stride=2, padding=0, dilation=1, ceil_mode=False)\n",
       "    (15): Dropout(p=0.3, inplace=False)\n",
       "    (16): Conv2d(128, 256, kernel_size=(3, 3), stride=(1, 1), padding=(1, 1))\n",
       "    (17): BatchNorm2d(256, eps=1e-05, momentum=0.1, affine=True, track_running_stats=True)\n",
       "    (18): ReLU()\n",
       "    (19): Conv2d(256, 256, kernel_size=(3, 3), stride=(1, 1), padding=(1, 1))\n",
       "    (20): BatchNorm2d(256, eps=1e-05, momentum=0.1, affine=True, track_running_stats=True)\n",
       "    (21): ReLU()\n",
       "    (22): MaxPool2d(kernel_size=2, stride=2, padding=0, dilation=1, ceil_mode=False)\n",
       "    (23): Dropout(p=0.4, inplace=False)\n",
       "  )\n",
       "  (rnn): CustomPLSTM(\n",
       "    (lstm_cells): ModuleList(\n",
       "      (0): LSTMCell(16384, 256)\n",
       "      (1): LSTMCell(256, 256)\n",
       "    )\n",
       "    (fc): Linear(in_features=256, out_features=256, bias=True)\n",
       "  )\n",
       "  (classifier): Sequential(\n",
       "    (0): Conv1d(256, 128, kernel_size=(1,), stride=(1,))\n",
       "    (1): ReLU()\n",
       "    (2): AdaptiveAvgPool1d(output_size=1)\n",
       "    (3): Flatten(start_dim=1, end_dim=-1)\n",
       "    (4): Linear(in_features=128, out_features=6, bias=True)\n",
       "  )\n",
       ")"
      ]
     },
     "execution_count": 21,
     "metadata": {},
     "output_type": "execute_result"
    }
   ],
   "source": [
    "model = ActionClassificationModel(input_dim=input_size, \n",
    "                                           sequence_length=sequence_length, \n",
    "                                           num_classes=num_classes,num_layers=num_layers, rnn_module='custom_lstm').to(device)\n",
    "model"
   ]
  },
  {
   "cell_type": "code",
   "execution_count": 22,
   "id": "5daf6556-6bbb-457e-b116-a0aa4f277472",
   "metadata": {},
   "outputs": [
    {
     "name": "stderr",
     "output_type": "stream",
     "text": [
      "\u001b[34m\u001b[1mwandb\u001b[0m: Using wandb-core as the SDK backend.  Please refer to https://wandb.me/wandb-core for more information.\n",
      "\u001b[34m\u001b[1mwandb\u001b[0m: Currently logged in as: \u001b[33mahmadjaved97\u001b[0m. Use \u001b[1m`wandb login --relogin`\u001b[0m to force relogin\n"
     ]
    },
    {
     "data": {
      "text/html": [
       "Tracking run with wandb version 0.18.7"
      ],
      "text/plain": [
       "<IPython.core.display.HTML object>"
      ]
     },
     "metadata": {},
     "output_type": "display_data"
    },
    {
     "data": {
      "text/html": [
       "Run data is saved locally in <code>/home/user/javeda1/MA-INF-4308-Lab-Vision-Systems/Assignment-4/wandb/run-20241209_025240-mahagvif</code>"
      ],
      "text/plain": [
       "<IPython.core.display.HTML object>"
      ]
     },
     "metadata": {},
     "output_type": "display_data"
    },
    {
     "data": {
      "text/html": [
       "Syncing run <strong><a href='https://wandb.ai/ahmadjaved97/assignment-4/runs/mahagvif' target=\"_blank\">lstm_pytorch_ep_30_lr_0.001</a></strong> to <a href='https://wandb.ai/ahmadjaved97/assignment-4' target=\"_blank\">Weights & Biases</a> (<a href='https://wandb.me/developer-guide' target=\"_blank\">docs</a>)<br/>"
      ],
      "text/plain": [
       "<IPython.core.display.HTML object>"
      ]
     },
     "metadata": {},
     "output_type": "display_data"
    },
    {
     "data": {
      "text/html": [
       " View project at <a href='https://wandb.ai/ahmadjaved97/assignment-4' target=\"_blank\">https://wandb.ai/ahmadjaved97/assignment-4</a>"
      ],
      "text/plain": [
       "<IPython.core.display.HTML object>"
      ]
     },
     "metadata": {},
     "output_type": "display_data"
    },
    {
     "data": {
      "text/html": [
       " View run at <a href='https://wandb.ai/ahmadjaved97/assignment-4/runs/mahagvif' target=\"_blank\">https://wandb.ai/ahmadjaved97/assignment-4/runs/mahagvif</a>"
      ],
      "text/plain": [
       "<IPython.core.display.HTML object>"
      ]
     },
     "metadata": {},
     "output_type": "display_data"
    },
    {
     "name": "stderr",
     "output_type": "stream",
     "text": [
      "  3%|█▊                                                   | 1/30 [02:25<1:10:29, 145.84s/it]"
     ]
    },
    {
     "name": "stdout",
     "output_type": "stream",
     "text": [
      "Epoch 1/30\n",
      "Train Loss: 1.1564, Train Accuracy: 0.4063\n",
      "Eval Loss: 1.0210, Eval Accuracy: 0.4602\n",
      "Learning Rate: 0.001000\n"
     ]
    },
    {
     "name": "stderr",
     "output_type": "stream",
     "text": [
      "  7%|███▌                                                 | 2/30 [04:49<1:07:24, 144.44s/it]"
     ]
    },
    {
     "name": "stdout",
     "output_type": "stream",
     "text": [
      "Epoch 2/30\n",
      "Train Loss: 0.9533, Train Accuracy: 0.4937\n",
      "Eval Loss: 0.8886, Eval Accuracy: 0.5276\n",
      "Learning Rate: 0.001000\n"
     ]
    },
    {
     "name": "stderr",
     "output_type": "stream",
     "text": [
      " 10%|█████▎                                               | 3/30 [07:13<1:04:58, 144.38s/it]"
     ]
    },
    {
     "name": "stdout",
     "output_type": "stream",
     "text": [
      "Epoch 3/30\n",
      "Train Loss: 0.8484, Train Accuracy: 0.5669\n",
      "Eval Loss: 0.7951, Eval Accuracy: 0.6423\n",
      "Learning Rate: 0.001000\n"
     ]
    },
    {
     "name": "stderr",
     "output_type": "stream",
     "text": [
      " 13%|███████                                              | 4/30 [09:37<1:02:24, 144.01s/it]"
     ]
    },
    {
     "name": "stdout",
     "output_type": "stream",
     "text": [
      "Epoch 4/30\n",
      "Train Loss: 0.7176, Train Accuracy: 0.6801\n",
      "Eval Loss: 0.7912, Eval Accuracy: 0.6293\n",
      "Learning Rate: 0.001000\n"
     ]
    },
    {
     "name": "stderr",
     "output_type": "stream",
     "text": [
      " 17%|█████████▏                                             | 5/30 [12:00<59:56, 143.84s/it]"
     ]
    },
    {
     "name": "stdout",
     "output_type": "stream",
     "text": [
      "Epoch 5/30\n",
      "Train Loss: 0.6041, Train Accuracy: 0.7305\n",
      "Eval Loss: 0.5784, Eval Accuracy: 0.7260\n",
      "Learning Rate: 0.001000\n"
     ]
    },
    {
     "name": "stderr",
     "output_type": "stream",
     "text": [
      " 20%|███████████                                            | 6/30 [14:24<57:29, 143.74s/it]"
     ]
    },
    {
     "name": "stdout",
     "output_type": "stream",
     "text": [
      "Epoch 6/30\n",
      "Train Loss: 0.4909, Train Accuracy: 0.7780\n",
      "Eval Loss: 0.4926, Eval Accuracy: 0.7854\n",
      "Learning Rate: 0.000500\n"
     ]
    },
    {
     "name": "stderr",
     "output_type": "stream",
     "text": [
      " 23%|████████████▊                                          | 7/30 [16:48<55:09, 143.89s/it]"
     ]
    },
    {
     "name": "stdout",
     "output_type": "stream",
     "text": [
      "Epoch 7/30\n",
      "Train Loss: 0.4225, Train Accuracy: 0.8069\n",
      "Eval Loss: 0.4356, Eval Accuracy: 0.8106\n",
      "Learning Rate: 0.000500\n"
     ]
    },
    {
     "name": "stderr",
     "output_type": "stream",
     "text": [
      " 27%|██████████████▋                                        | 8/30 [19:13<52:53, 144.23s/it]"
     ]
    },
    {
     "name": "stdout",
     "output_type": "stream",
     "text": [
      "Epoch 8/30\n",
      "Train Loss: 0.4024, Train Accuracy: 0.8096\n",
      "Eval Loss: 0.4351, Eval Accuracy: 0.7967\n",
      "Learning Rate: 0.000500\n"
     ]
    },
    {
     "name": "stderr",
     "output_type": "stream",
     "text": [
      " 30%|████████████████▌                                      | 9/30 [21:37<50:28, 144.23s/it]"
     ]
    },
    {
     "name": "stdout",
     "output_type": "stream",
     "text": [
      "Epoch 9/30\n",
      "Train Loss: 0.3777, Train Accuracy: 0.8205\n",
      "Eval Loss: 0.4191, Eval Accuracy: 0.8041\n",
      "Learning Rate: 0.000500\n"
     ]
    },
    {
     "name": "stderr",
     "output_type": "stream",
     "text": [
      " 33%|██████████████████                                    | 10/30 [24:01<48:01, 144.09s/it]"
     ]
    },
    {
     "name": "stdout",
     "output_type": "stream",
     "text": [
      "Epoch 10/30\n",
      "Train Loss: 0.3650, Train Accuracy: 0.8283\n",
      "Eval Loss: 0.4431, Eval Accuracy: 0.8065\n",
      "Learning Rate: 0.000500\n"
     ]
    },
    {
     "name": "stderr",
     "output_type": "stream",
     "text": [
      " 37%|███████████████████▊                                  | 11/30 [26:28<45:55, 145.04s/it]"
     ]
    },
    {
     "name": "stdout",
     "output_type": "stream",
     "text": [
      "Epoch 11/30\n",
      "Train Loss: 0.3280, Train Accuracy: 0.8447\n",
      "Eval Loss: 0.3919, Eval Accuracy: 0.8301\n",
      "Learning Rate: 0.000250\n"
     ]
    },
    {
     "name": "stderr",
     "output_type": "stream",
     "text": [
      " 40%|█████████████████████▌                                | 12/30 [28:53<43:28, 144.93s/it]"
     ]
    },
    {
     "name": "stdout",
     "output_type": "stream",
     "text": [
      "Epoch 12/30\n",
      "Train Loss: 0.3136, Train Accuracy: 0.8537\n",
      "Eval Loss: 0.3819, Eval Accuracy: 0.8447\n",
      "Learning Rate: 0.000250\n"
     ]
    },
    {
     "name": "stderr",
     "output_type": "stream",
     "text": [
      " 43%|███████████████████████▍                              | 13/30 [31:16<40:56, 144.49s/it]"
     ]
    },
    {
     "name": "stdout",
     "output_type": "stream",
     "text": [
      "Epoch 13/30\n",
      "Train Loss: 0.3093, Train Accuracy: 0.8553\n",
      "Eval Loss: 0.3880, Eval Accuracy: 0.8317\n",
      "Learning Rate: 0.000250\n"
     ]
    },
    {
     "name": "stderr",
     "output_type": "stream",
     "text": [
      " 47%|█████████████████████████▏                            | 14/30 [33:40<38:28, 144.27s/it]"
     ]
    },
    {
     "name": "stdout",
     "output_type": "stream",
     "text": [
      "Epoch 14/30\n",
      "Train Loss: 0.2925, Train Accuracy: 0.8610\n",
      "Eval Loss: 0.3744, Eval Accuracy: 0.8431\n",
      "Learning Rate: 0.000250\n"
     ]
    },
    {
     "name": "stderr",
     "output_type": "stream",
     "text": [
      " 50%|███████████████████████████                           | 15/30 [36:03<35:59, 143.97s/it]"
     ]
    },
    {
     "name": "stdout",
     "output_type": "stream",
     "text": [
      "Epoch 15/30\n",
      "Train Loss: 0.2863, Train Accuracy: 0.8669\n",
      "Eval Loss: 0.3918, Eval Accuracy: 0.8366\n",
      "Learning Rate: 0.000250\n"
     ]
    },
    {
     "name": "stderr",
     "output_type": "stream",
     "text": [
      " 53%|████████████████████████████▊                         | 16/30 [38:27<33:33, 143.83s/it]"
     ]
    },
    {
     "name": "stdout",
     "output_type": "stream",
     "text": [
      "Epoch 16/30\n",
      "Train Loss: 0.2657, Train Accuracy: 0.8760\n",
      "Eval Loss: 0.3347, Eval Accuracy: 0.8569\n",
      "Learning Rate: 0.000125\n"
     ]
    },
    {
     "name": "stderr",
     "output_type": "stream",
     "text": [
      " 57%|██████████████████████████████▌                       | 17/30 [40:51<31:11, 143.94s/it]"
     ]
    },
    {
     "name": "stdout",
     "output_type": "stream",
     "text": [
      "Epoch 17/30\n",
      "Train Loss: 0.2516, Train Accuracy: 0.8809\n",
      "Eval Loss: 0.3505, Eval Accuracy: 0.8561\n",
      "Learning Rate: 0.000125\n"
     ]
    },
    {
     "name": "stderr",
     "output_type": "stream",
     "text": [
      " 60%|████████████████████████████████▍                     | 18/30 [43:14<28:45, 143.81s/it]"
     ]
    },
    {
     "name": "stdout",
     "output_type": "stream",
     "text": [
      "Epoch 18/30\n",
      "Train Loss: 0.2456, Train Accuracy: 0.8864\n",
      "Eval Loss: 0.3586, Eval Accuracy: 0.8504\n",
      "Learning Rate: 0.000125\n"
     ]
    },
    {
     "name": "stderr",
     "output_type": "stream",
     "text": [
      " 63%|██████████████████████████████████▏                   | 19/30 [45:38<26:21, 143.76s/it]"
     ]
    },
    {
     "name": "stdout",
     "output_type": "stream",
     "text": [
      "Epoch 19/30\n",
      "Train Loss: 0.2417, Train Accuracy: 0.8831\n",
      "Eval Loss: 0.3605, Eval Accuracy: 0.8488\n",
      "Learning Rate: 0.000125\n"
     ]
    },
    {
     "name": "stderr",
     "output_type": "stream",
     "text": [
      " 67%|████████████████████████████████████                  | 20/30 [48:02<23:57, 143.71s/it]"
     ]
    },
    {
     "name": "stdout",
     "output_type": "stream",
     "text": [
      "Epoch 20/30\n",
      "Train Loss: 0.2384, Train Accuracy: 0.8886\n",
      "Eval Loss: 0.3702, Eval Accuracy: 0.8504\n",
      "Learning Rate: 0.000125\n"
     ]
    },
    {
     "name": "stderr",
     "output_type": "stream",
     "text": [
      " 70%|█████████████████████████████████████▊                | 21/30 [50:25<21:33, 143.70s/it]"
     ]
    },
    {
     "name": "stdout",
     "output_type": "stream",
     "text": [
      "Epoch 21/30\n",
      "Train Loss: 0.2221, Train Accuracy: 0.8943\n",
      "Eval Loss: 0.3474, Eval Accuracy: 0.8593\n",
      "Learning Rate: 0.000063\n"
     ]
    },
    {
     "name": "stderr",
     "output_type": "stream",
     "text": [
      " 73%|███████████████████████████████████████▌              | 22/30 [52:50<19:11, 143.91s/it]"
     ]
    },
    {
     "name": "stdout",
     "output_type": "stream",
     "text": [
      "Epoch 22/30\n",
      "Train Loss: 0.2163, Train Accuracy: 0.8943\n",
      "Eval Loss: 0.3340, Eval Accuracy: 0.8593\n",
      "Learning Rate: 0.000063\n"
     ]
    },
    {
     "name": "stderr",
     "output_type": "stream",
     "text": [
      " 77%|█████████████████████████████████████████▍            | 23/30 [55:14<16:47, 143.88s/it]"
     ]
    },
    {
     "name": "stdout",
     "output_type": "stream",
     "text": [
      "Epoch 23/30\n",
      "Train Loss: 0.2105, Train Accuracy: 0.8986\n",
      "Eval Loss: 0.3728, Eval Accuracy: 0.8577\n",
      "Learning Rate: 0.000063\n"
     ]
    },
    {
     "name": "stderr",
     "output_type": "stream",
     "text": [
      " 80%|███████████████████████████████████████████▏          | 24/30 [57:37<14:22, 143.75s/it]"
     ]
    },
    {
     "name": "stdout",
     "output_type": "stream",
     "text": [
      "Epoch 24/30\n",
      "Train Loss: 0.2063, Train Accuracy: 0.9016\n",
      "Eval Loss: 0.3549, Eval Accuracy: 0.8537\n",
      "Learning Rate: 0.000063\n"
     ]
    },
    {
     "name": "stderr",
     "output_type": "stream",
     "text": [
      " 83%|███████████████████████████████████████████▎        | 25/30 [1:00:01<11:58, 143.72s/it]"
     ]
    },
    {
     "name": "stdout",
     "output_type": "stream",
     "text": [
      "Epoch 25/30\n",
      "Train Loss: 0.2030, Train Accuracy: 0.9010\n",
      "Eval Loss: 0.3553, Eval Accuracy: 0.8610\n",
      "Learning Rate: 0.000063\n"
     ]
    },
    {
     "name": "stderr",
     "output_type": "stream",
     "text": [
      " 87%|█████████████████████████████████████████████       | 26/30 [1:02:25<09:35, 143.92s/it]"
     ]
    },
    {
     "name": "stdout",
     "output_type": "stream",
     "text": [
      "Epoch 26/30\n",
      "Train Loss: 0.1996, Train Accuracy: 0.9047\n",
      "Eval Loss: 0.3522, Eval Accuracy: 0.8593\n",
      "Learning Rate: 0.000031\n"
     ]
    },
    {
     "name": "stderr",
     "output_type": "stream",
     "text": [
      " 90%|██████████████████████████████████████████████▊     | 27/30 [1:04:49<07:11, 143.97s/it]"
     ]
    },
    {
     "name": "stdout",
     "output_type": "stream",
     "text": [
      "Epoch 27/30\n",
      "Train Loss: 0.1898, Train Accuracy: 0.9093\n",
      "Eval Loss: 0.3521, Eval Accuracy: 0.8634\n",
      "Learning Rate: 0.000031\n"
     ]
    },
    {
     "name": "stderr",
     "output_type": "stream",
     "text": [
      " 93%|████████████████████████████████████████████████▌   | 28/30 [1:07:13<04:48, 144.06s/it]"
     ]
    },
    {
     "name": "stdout",
     "output_type": "stream",
     "text": [
      "Epoch 28/30\n",
      "Train Loss: 0.1899, Train Accuracy: 0.9073\n",
      "Eval Loss: 0.3644, Eval Accuracy: 0.8626\n",
      "Learning Rate: 0.000031\n"
     ]
    },
    {
     "name": "stderr",
     "output_type": "stream",
     "text": [
      " 97%|██████████████████████████████████████████████████▎ | 29/30 [1:09:37<02:23, 143.95s/it]"
     ]
    },
    {
     "name": "stdout",
     "output_type": "stream",
     "text": [
      "Epoch 29/30\n",
      "Train Loss: 0.1884, Train Accuracy: 0.9055\n",
      "Eval Loss: 0.3712, Eval Accuracy: 0.8634\n",
      "Learning Rate: 0.000031\n"
     ]
    },
    {
     "name": "stderr",
     "output_type": "stream",
     "text": [
      "100%|████████████████████████████████████████████████████| 30/30 [1:12:01<00:00, 144.04s/it]"
     ]
    },
    {
     "name": "stdout",
     "output_type": "stream",
     "text": [
      "Epoch 30/30\n",
      "Train Loss: 0.1872, Train Accuracy: 0.9075\n",
      "Eval Loss: 0.3873, Eval Accuracy: 0.8610\n",
      "Learning Rate: 0.000031\n"
     ]
    },
    {
     "name": "stderr",
     "output_type": "stream",
     "text": [
      "\n"
     ]
    },
    {
     "data": {
      "text/html": [
       "\n",
       "    <style>\n",
       "        .wandb-row {\n",
       "            display: flex;\n",
       "            flex-direction: row;\n",
       "            flex-wrap: wrap;\n",
       "            justify-content: flex-start;\n",
       "            width: 100%;\n",
       "        }\n",
       "        .wandb-col {\n",
       "            display: flex;\n",
       "            flex-direction: column;\n",
       "            flex-basis: 100%;\n",
       "            flex: 1;\n",
       "            padding: 10px;\n",
       "        }\n",
       "    </style>\n",
       "<div class=\"wandb-row\"><div class=\"wandb-col\"><h3>Run history:</h3><br/><table class=\"wandb\"><tr><td>epoch</td><td>▁▁▁▂▂▂▂▃▃▃▃▄▄▄▄▅▅▅▅▆▆▆▆▇▇▇▇███</td></tr><tr><td>eval_accuracy</td><td>▁▂▄▄▆▇▇▇▇▇▇█▇█████████████████</td></tr><tr><td>eval_loss</td><td>█▇▆▆▃▃▂▂▂▂▂▁▂▁▂▁▁▁▁▁▁▁▁▁▁▁▁▁▁▂</td></tr><tr><td>learning_rate</td><td>█████▄▄▄▄▄▃▃▃▃▃▂▂▂▂▂▁▁▁▁▁▁▁▁▁▁</td></tr><tr><td>train_accuracy</td><td>▁▂▃▅▆▆▇▇▇▇▇▇▇▇▇███████████████</td></tr><tr><td>train_loss</td><td>█▇▆▅▄▃▃▃▂▂▂▂▂▂▂▂▁▁▁▁▁▁▁▁▁▁▁▁▁▁</td></tr></table><br/></div><div class=\"wandb-col\"><h3>Run summary:</h3><br/><table class=\"wandb\"><tr><td>epoch</td><td>30</td></tr><tr><td>eval_accuracy</td><td>0.86098</td></tr><tr><td>eval_loss</td><td>0.3873</td></tr><tr><td>learning_rate</td><td>3e-05</td></tr><tr><td>train_accuracy</td><td>0.90752</td></tr><tr><td>train_loss</td><td>0.18718</td></tr></table><br/></div></div>"
      ],
      "text/plain": [
       "<IPython.core.display.HTML object>"
      ]
     },
     "metadata": {},
     "output_type": "display_data"
    },
    {
     "data": {
      "text/html": [
       " View run <strong style=\"color:#cdcd00\">lstm_pytorch_ep_30_lr_0.001</strong> at: <a href='https://wandb.ai/ahmadjaved97/assignment-4/runs/mahagvif' target=\"_blank\">https://wandb.ai/ahmadjaved97/assignment-4/runs/mahagvif</a><br/> View project at: <a href='https://wandb.ai/ahmadjaved97/assignment-4' target=\"_blank\">https://wandb.ai/ahmadjaved97/assignment-4</a><br/>Synced 4 W&B file(s), 0 media file(s), 3 artifact file(s) and 0 other file(s)"
      ],
      "text/plain": [
       "<IPython.core.display.HTML object>"
      ]
     },
     "metadata": {},
     "output_type": "display_data"
    },
    {
     "data": {
      "text/html": [
       "Find logs at: <code>./wandb/run-20241209_025240-mahagvif/logs</code>"
      ],
      "text/plain": [
       "<IPython.core.display.HTML object>"
      ]
     },
     "metadata": {},
     "output_type": "display_data"
    }
   ],
   "source": [
    "# Run training\n",
    "model, train_losses, train_accuracies, eval_losses, eval_accuracies, learning_rates = run_training(\n",
    "    model, \n",
    "    train_loader, val_loader, \n",
    "    criterion,\n",
    "    device,\n",
    "    num_epochs=num_epochs, \n",
    "    learning_rate=learning_rate, \n",
    "    step_size=step_size, \n",
    "    gamma=gamma,\n",
    "    name=name, project=project\n",
    ")"
   ]
  },
  {
   "cell_type": "code",
   "execution_count": 23,
   "id": "4b36b2c3-5aa6-4c90-bb8f-9fe23d9fcda1",
   "metadata": {},
   "outputs": [],
   "source": [
    "save_path = \"./saved_models/pytorch_lstm.pth\"\n",
    "torch.save(model, save_path)"
   ]
  },
  {
   "cell_type": "code",
   "execution_count": 24,
   "id": "467a046e-857e-4fd0-892c-280398ed6258",
   "metadata": {},
   "outputs": [
    {
     "name": "stderr",
     "output_type": "stream",
     "text": [
      "/tmp/ipykernel_2731082/2120265427.py:2: FutureWarning: You are using `torch.load` with `weights_only=False` (the current default value), which uses the default pickle module implicitly. It is possible to construct malicious pickle data which will execute arbitrary code during unpickling (See https://github.com/pytorch/pytorch/blob/main/SECURITY.md#untrusted-models for more details). In a future release, the default value for `weights_only` will be flipped to `True`. This limits the functions that could be executed during unpickling. Arbitrary objects will no longer be allowed to be loaded via this mode unless they are explicitly allowlisted by the user via `torch.serialization.add_safe_globals`. We recommend you start setting `weights_only=True` for any use case where you don't have full control of the loaded file. Please open an issue on GitHub for any issues related to this experimental feature.\n",
      "  model = torch.load(model_path)\n"
     ]
    },
    {
     "data": {
      "image/png": "[encoded data removed]",
      "text/plain": [
       "<Figure size 600x400 with 2 Axes>"
      ]
     },
     "metadata": {},
     "output_type": "display_data"
    }
   ],
   "source": [
    "model = load_model(\"./saved_models/pytorch_lstm.pth\")\n",
    "# Use the function to get results\n",
    "y_true, y_pred = evaluate_model(model, val_loader)\n",
    "\n",
    "# Class label names\n",
    "label_names = ['boxing','handclapping', 'handwaving', 'jogging', 'running', 'walking']\n",
    "\n",
    "# Plot confusion matrix\n",
    "plot_confusion_matrix(y_true, y_pred, label_names, model_name=\"Pytorch LSTM\")"
   ]
  },
  {
   "cell_type": "markdown",
   "id": "fa294a9d-4e29-4fed-ae08-e679aeed2a6f",
   "metadata": {},
   "source": [
    "### Pytorch GRU"
   ]
  },
  {
   "cell_type": "code",
   "execution_count": 25,
   "id": "2def6d3e-b6f3-4b39-b82c-863103c7648b",
   "metadata": {},
   "outputs": [],
   "source": [
    "# Hyper parameters for LSTM\n",
    "input_size = 64*64  # flattened size of frame\n",
    "hidden_size = 256  # Hidden size of the LSTM\n",
    "num_classes = len(os.listdir(\"/home/nfs/inf6/data/datasets/kth_actions/processed\"))  # Number of output classes\n",
    "num_layers = 2\n",
    "\n",
    "# Hyperparameters for training\n",
    "num_epochs = 30\n",
    "learning_rate = 0.001  # Initial learning rate\n",
    "step_size = 5          # To be used in LR Scheduler\n",
    "gamma = 0.5            # To be used in LR Scheduler\n",
    "name = f\"gru_pytorch_ep_{num_epochs}_lr_{learning_rate}\"\n",
    "project = 'assignment-4'\n",
    "\n",
    "#criterion\n",
    "criterion = nn.CrossEntropyLoss()"
   ]
  },
  {
   "cell_type": "code",
   "execution_count": 26,
   "id": "788ceb14-7740-4935-9e84-598cc8e19c79",
   "metadata": {},
   "outputs": [
    {
     "data": {
      "text/plain": [
       "ActionClassificationModel(\n",
       "  (encoder): Sequential(\n",
       "    (0): Conv2d(1, 64, kernel_size=(3, 3), stride=(1, 1), padding=(1, 1))\n",
       "    (1): BatchNorm2d(64, eps=1e-05, momentum=0.1, affine=True, track_running_stats=True)\n",
       "    (2): ReLU()\n",
       "    (3): Conv2d(64, 64, kernel_size=(3, 3), stride=(1, 1), padding=(1, 1))\n",
       "    (4): BatchNorm2d(64, eps=1e-05, momentum=0.1, affine=True, track_running_stats=True)\n",
       "    (5): ReLU()\n",
       "    (6): MaxPool2d(kernel_size=2, stride=2, padding=0, dilation=1, ceil_mode=False)\n",
       "    (7): Dropout(p=0.3, inplace=False)\n",
       "    (8): Conv2d(64, 128, kernel_size=(3, 3), stride=(1, 1), padding=(1, 1))\n",
       "    (9): BatchNorm2d(128, eps=1e-05, momentum=0.1, affine=True, track_running_stats=True)\n",
       "    (10): ReLU()\n",
       "    (11): Conv2d(128, 128, kernel_size=(3, 3), stride=(1, 1), padding=(1, 1))\n",
       "    (12): BatchNorm2d(128, eps=1e-05, momentum=0.1, affine=True, track_running_stats=True)\n",
       "    (13): ReLU()\n",
       "    (14): MaxPool2d(kernel_size=2, stride=2, padding=0, dilation=1, ceil_mode=False)\n",
       "    (15): Dropout(p=0.3, inplace=False)\n",
       "    (16): Conv2d(128, 256, kernel_size=(3, 3), stride=(1, 1), padding=(1, 1))\n",
       "    (17): BatchNorm2d(256, eps=1e-05, momentum=0.1, affine=True, track_running_stats=True)\n",
       "    (18): ReLU()\n",
       "    (19): Conv2d(256, 256, kernel_size=(3, 3), stride=(1, 1), padding=(1, 1))\n",
       "    (20): BatchNorm2d(256, eps=1e-05, momentum=0.1, affine=True, track_running_stats=True)\n",
       "    (21): ReLU()\n",
       "    (22): MaxPool2d(kernel_size=2, stride=2, padding=0, dilation=1, ceil_mode=False)\n",
       "    (23): Dropout(p=0.4, inplace=False)\n",
       "  )\n",
       "  (rnn): CustomGRU(\n",
       "    (gru_cells): ModuleList(\n",
       "      (0): GRUCell(16384, 256)\n",
       "      (1): GRUCell(256, 256)\n",
       "    )\n",
       "    (fc): Linear(in_features=256, out_features=256, bias=True)\n",
       "  )\n",
       "  (classifier): Sequential(\n",
       "    (0): Conv1d(256, 128, kernel_size=(1,), stride=(1,))\n",
       "    (1): ReLU()\n",
       "    (2): AdaptiveAvgPool1d(output_size=1)\n",
       "    (3): Flatten(start_dim=1, end_dim=-1)\n",
       "    (4): Linear(in_features=128, out_features=6, bias=True)\n",
       "  )\n",
       ")"
      ]
     },
     "execution_count": 26,
     "metadata": {},
     "output_type": "execute_result"
    }
   ],
   "source": [
    "model = ActionClassificationModel(input_dim=input_size, \n",
    "                                           sequence_length=sequence_length, \n",
    "                                           num_classes=num_classes, num_layers=num_layers, rnn_module='gru').to(device)\n",
    "model"
   ]
  },
  {
   "cell_type": "code",
   "execution_count": 27,
   "id": "e02f9129-4288-4884-9118-55e5e7c7a2fa",
   "metadata": {},
   "outputs": [
    {
     "data": {
      "text/html": [
       "Tracking run with wandb version 0.18.7"
      ],
      "text/plain": [
       "<IPython.core.display.HTML object>"
      ]
     },
     "metadata": {},
     "output_type": "display_data"
    },
    {
     "data": {
      "text/html": [
       "Run data is saved locally in <code>/home/user/javeda1/MA-INF-4308-Lab-Vision-Systems/Assignment-4/wandb/run-20241209_040508-51wgol9j</code>"
      ],
      "text/plain": [
       "<IPython.core.display.HTML object>"
      ]
     },
     "metadata": {},
     "output_type": "display_data"
    },
    {
     "data": {
      "text/html": [
       "Syncing run <strong><a href='https://wandb.ai/ahmadjaved97/assignment-4/runs/51wgol9j' target=\"_blank\">gru_pytorch_ep_30_lr_0.001</a></strong> to <a href='https://wandb.ai/ahmadjaved97/assignment-4' target=\"_blank\">Weights & Biases</a> (<a href='https://wandb.me/developer-guide' target=\"_blank\">docs</a>)<br/>"
      ],
      "text/plain": [
       "<IPython.core.display.HTML object>"
      ]
     },
     "metadata": {},
     "output_type": "display_data"
    },
    {
     "data": {
      "text/html": [
       " View project at <a href='https://wandb.ai/ahmadjaved97/assignment-4' target=\"_blank\">https://wandb.ai/ahmadjaved97/assignment-4</a>"
      ],
      "text/plain": [
       "<IPython.core.display.HTML object>"
      ]
     },
     "metadata": {},
     "output_type": "display_data"
    },
    {
     "data": {
      "text/html": [
       " View run at <a href='https://wandb.ai/ahmadjaved97/assignment-4/runs/51wgol9j' target=\"_blank\">https://wandb.ai/ahmadjaved97/assignment-4/runs/51wgol9j</a>"
      ],
      "text/plain": [
       "<IPython.core.display.HTML object>"
      ]
     },
     "metadata": {},
     "output_type": "display_data"
    },
    {
     "name": "stderr",
     "output_type": "stream",
     "text": [
      "  3%|█▊                                                   | 1/30 [02:20<1:08:01, 140.75s/it]"
     ]
    },
    {
     "name": "stdout",
     "output_type": "stream",
     "text": [
      "Epoch 1/30\n",
      "Train Loss: 1.1011, Train Accuracy: 0.4386\n",
      "Eval Loss: 0.9839, Eval Accuracy: 0.4992\n",
      "Learning Rate: 0.001000\n"
     ]
    },
    {
     "name": "stderr",
     "output_type": "stream",
     "text": [
      "  7%|███▌                                                 | 2/30 [04:42<1:06:00, 141.44s/it]"
     ]
    },
    {
     "name": "stdout",
     "output_type": "stream",
     "text": [
      "Epoch 2/30\n",
      "Train Loss: 0.9067, Train Accuracy: 0.5402\n",
      "Eval Loss: 0.8752, Eval Accuracy: 0.5732\n",
      "Learning Rate: 0.001000\n"
     ]
    },
    {
     "name": "stderr",
     "output_type": "stream",
     "text": [
      " 10%|█████▎                                               | 3/30 [07:03<1:03:30, 141.13s/it]"
     ]
    },
    {
     "name": "stdout",
     "output_type": "stream",
     "text": [
      "Epoch 3/30\n",
      "Train Loss: 0.7679, Train Accuracy: 0.6449\n",
      "Eval Loss: 0.7114, Eval Accuracy: 0.6724\n",
      "Learning Rate: 0.001000\n"
     ]
    },
    {
     "name": "stderr",
     "output_type": "stream",
     "text": [
      " 13%|███████                                              | 4/30 [09:25<1:01:15, 141.36s/it]"
     ]
    },
    {
     "name": "stdout",
     "output_type": "stream",
     "text": [
      "Epoch 4/30\n",
      "Train Loss: 0.6236, Train Accuracy: 0.7217\n",
      "Eval Loss: 0.5790, Eval Accuracy: 0.7593\n",
      "Learning Rate: 0.001000\n"
     ]
    },
    {
     "name": "stderr",
     "output_type": "stream",
     "text": [
      " 17%|█████████▏                                             | 5/30 [11:46<58:52, 141.29s/it]"
     ]
    },
    {
     "name": "stdout",
     "output_type": "stream",
     "text": [
      "Epoch 5/30\n",
      "Train Loss: 0.5424, Train Accuracy: 0.7530\n",
      "Eval Loss: 0.5164, Eval Accuracy: 0.7618\n",
      "Learning Rate: 0.001000\n"
     ]
    },
    {
     "name": "stderr",
     "output_type": "stream",
     "text": [
      " 20%|███████████                                            | 6/30 [14:07<56:29, 141.23s/it]"
     ]
    },
    {
     "name": "stdout",
     "output_type": "stream",
     "text": [
      "Epoch 6/30\n",
      "Train Loss: 0.4334, Train Accuracy: 0.8055\n",
      "Eval Loss: 0.4394, Eval Accuracy: 0.8073\n",
      "Learning Rate: 0.000500\n"
     ]
    },
    {
     "name": "stderr",
     "output_type": "stream",
     "text": [
      " 23%|████████████▊                                          | 7/30 [16:28<54:06, 141.16s/it]"
     ]
    },
    {
     "name": "stdout",
     "output_type": "stream",
     "text": [
      "Epoch 7/30\n",
      "Train Loss: 0.4236, Train Accuracy: 0.8081\n",
      "Eval Loss: 0.4046, Eval Accuracy: 0.8146\n",
      "Learning Rate: 0.000500\n"
     ]
    },
    {
     "name": "stderr",
     "output_type": "stream",
     "text": [
      " 27%|██████████████▋                                        | 8/30 [18:49<51:44, 141.12s/it]"
     ]
    },
    {
     "name": "stdout",
     "output_type": "stream",
     "text": [
      "Epoch 8/30\n",
      "Train Loss: 0.3859, Train Accuracy: 0.8250\n",
      "Eval Loss: 0.4192, Eval Accuracy: 0.8138\n",
      "Learning Rate: 0.000500\n"
     ]
    },
    {
     "name": "stderr",
     "output_type": "stream",
     "text": [
      " 30%|████████████████▌                                      | 9/30 [21:10<49:23, 141.13s/it]"
     ]
    },
    {
     "name": "stdout",
     "output_type": "stream",
     "text": [
      "Epoch 9/30\n",
      "Train Loss: 0.3666, Train Accuracy: 0.8341\n",
      "Eval Loss: 0.3839, Eval Accuracy: 0.8309\n",
      "Learning Rate: 0.000500\n"
     ]
    },
    {
     "name": "stderr",
     "output_type": "stream",
     "text": [
      " 33%|██████████████████                                    | 10/30 [23:31<47:01, 141.08s/it]"
     ]
    },
    {
     "name": "stdout",
     "output_type": "stream",
     "text": [
      "Epoch 10/30\n",
      "Train Loss: 0.3457, Train Accuracy: 0.8407\n",
      "Eval Loss: 0.3947, Eval Accuracy: 0.8415\n",
      "Learning Rate: 0.000500\n"
     ]
    },
    {
     "name": "stderr",
     "output_type": "stream",
     "text": [
      " 37%|███████████████████▊                                  | 11/30 [25:54<44:52, 141.72s/it]"
     ]
    },
    {
     "name": "stdout",
     "output_type": "stream",
     "text": [
      "Epoch 11/30\n",
      "Train Loss: 0.3005, Train Accuracy: 0.8618\n",
      "Eval Loss: 0.3676, Eval Accuracy: 0.8520\n",
      "Learning Rate: 0.000250\n"
     ]
    },
    {
     "name": "stderr",
     "output_type": "stream",
     "text": [
      " 40%|█████████████████████▌                                | 12/30 [28:16<42:30, 141.71s/it]"
     ]
    },
    {
     "name": "stdout",
     "output_type": "stream",
     "text": [
      "Epoch 12/30\n",
      "Train Loss: 0.2936, Train Accuracy: 0.8640\n",
      "Eval Loss: 0.3641, Eval Accuracy: 0.8382\n",
      "Learning Rate: 0.000250\n"
     ]
    },
    {
     "name": "stderr",
     "output_type": "stream",
     "text": [
      " 43%|███████████████████████▍                              | 13/30 [30:37<40:06, 141.53s/it]"
     ]
    },
    {
     "name": "stdout",
     "output_type": "stream",
     "text": [
      "Epoch 13/30\n",
      "Train Loss: 0.2790, Train Accuracy: 0.8683\n",
      "Eval Loss: 0.3375, Eval Accuracy: 0.8626\n",
      "Learning Rate: 0.000250\n"
     ]
    },
    {
     "name": "stderr",
     "output_type": "stream",
     "text": [
      " 47%|█████████████████████████▏                            | 14/30 [32:58<37:42, 141.38s/it]"
     ]
    },
    {
     "name": "stdout",
     "output_type": "stream",
     "text": [
      "Epoch 14/30\n",
      "Train Loss: 0.2792, Train Accuracy: 0.8665\n",
      "Eval Loss: 0.3393, Eval Accuracy: 0.8553\n",
      "Learning Rate: 0.000250\n"
     ]
    },
    {
     "name": "stderr",
     "output_type": "stream",
     "text": [
      " 50%|███████████████████████████                           | 15/30 [35:19<35:20, 141.33s/it]"
     ]
    },
    {
     "name": "stdout",
     "output_type": "stream",
     "text": [
      "Epoch 15/30\n",
      "Train Loss: 0.2649, Train Accuracy: 0.8787\n",
      "Eval Loss: 0.3553, Eval Accuracy: 0.8488\n",
      "Learning Rate: 0.000250\n"
     ]
    },
    {
     "name": "stderr",
     "output_type": "stream",
     "text": [
      " 53%|████████████████████████████▊                         | 16/30 [37:40<32:57, 141.25s/it]"
     ]
    },
    {
     "name": "stdout",
     "output_type": "stream",
     "text": [
      "Epoch 16/30\n",
      "Train Loss: 0.2512, Train Accuracy: 0.8815\n",
      "Eval Loss: 0.3454, Eval Accuracy: 0.8593\n",
      "Learning Rate: 0.000125\n"
     ]
    },
    {
     "name": "stderr",
     "output_type": "stream",
     "text": [
      " 57%|██████████████████████████████▌                       | 17/30 [40:04<30:44, 141.91s/it]"
     ]
    },
    {
     "name": "stdout",
     "output_type": "stream",
     "text": [
      "Epoch 17/30\n",
      "Train Loss: 0.2374, Train Accuracy: 0.8888\n",
      "Eval Loss: 0.3663, Eval Accuracy: 0.8528\n",
      "Learning Rate: 0.000125\n"
     ]
    },
    {
     "name": "stderr",
     "output_type": "stream",
     "text": [
      " 60%|████████████████████████████████▍                     | 18/30 [42:25<28:19, 141.62s/it]"
     ]
    },
    {
     "name": "stdout",
     "output_type": "stream",
     "text": [
      "Epoch 18/30\n",
      "Train Loss: 0.2352, Train Accuracy: 0.8904\n",
      "Eval Loss: 0.3478, Eval Accuracy: 0.8537\n",
      "Learning Rate: 0.000125\n"
     ]
    },
    {
     "name": "stderr",
     "output_type": "stream",
     "text": [
      " 63%|██████████████████████████████████▏                   | 19/30 [44:47<25:58, 141.71s/it]"
     ]
    },
    {
     "name": "stdout",
     "output_type": "stream",
     "text": [
      "Epoch 19/30\n",
      "Train Loss: 0.2325, Train Accuracy: 0.8878\n",
      "Eval Loss: 0.3585, Eval Accuracy: 0.8528\n",
      "Learning Rate: 0.000125\n"
     ]
    },
    {
     "name": "stderr",
     "output_type": "stream",
     "text": [
      " 67%|████████████████████████████████████                  | 20/30 [47:08<23:36, 141.60s/it]"
     ]
    },
    {
     "name": "stdout",
     "output_type": "stream",
     "text": [
      "Epoch 20/30\n",
      "Train Loss: 0.2191, Train Accuracy: 0.8974\n",
      "Eval Loss: 0.3574, Eval Accuracy: 0.8528\n",
      "Learning Rate: 0.000125\n"
     ]
    },
    {
     "name": "stderr",
     "output_type": "stream",
     "text": [
      " 70%|█████████████████████████████████████▊                | 21/30 [49:30<21:14, 141.56s/it]"
     ]
    },
    {
     "name": "stdout",
     "output_type": "stream",
     "text": [
      "Epoch 21/30\n",
      "Train Loss: 0.2120, Train Accuracy: 0.8994\n",
      "Eval Loss: 0.3605, Eval Accuracy: 0.8602\n",
      "Learning Rate: 0.000063\n"
     ]
    },
    {
     "name": "stderr",
     "output_type": "stream",
     "text": [
      " 73%|███████████████████████████████████████▌              | 22/30 [51:51<18:51, 141.46s/it]"
     ]
    },
    {
     "name": "stdout",
     "output_type": "stream",
     "text": [
      "Epoch 22/30\n",
      "Train Loss: 0.2110, Train Accuracy: 0.9016\n",
      "Eval Loss: 0.3676, Eval Accuracy: 0.8585\n",
      "Learning Rate: 0.000063\n"
     ]
    },
    {
     "name": "stderr",
     "output_type": "stream",
     "text": [
      " 77%|█████████████████████████████████████████▍            | 23/30 [54:12<16:29, 141.42s/it]"
     ]
    },
    {
     "name": "stdout",
     "output_type": "stream",
     "text": [
      "Epoch 23/30\n",
      "Train Loss: 0.2026, Train Accuracy: 0.9045\n",
      "Eval Loss: 0.3632, Eval Accuracy: 0.8593\n",
      "Learning Rate: 0.000063\n"
     ]
    },
    {
     "name": "stderr",
     "output_type": "stream",
     "text": [
      " 80%|███████████████████████████████████████████▏          | 24/30 [56:33<14:08, 141.37s/it]"
     ]
    },
    {
     "name": "stdout",
     "output_type": "stream",
     "text": [
      "Epoch 24/30\n",
      "Train Loss: 0.2040, Train Accuracy: 0.9045\n",
      "Eval Loss: 0.3624, Eval Accuracy: 0.8593\n",
      "Learning Rate: 0.000063\n"
     ]
    },
    {
     "name": "stderr",
     "output_type": "stream",
     "text": [
      " 83%|█████████████████████████████████████████████         | 25/30 [58:55<11:47, 141.54s/it]"
     ]
    },
    {
     "name": "stdout",
     "output_type": "stream",
     "text": [
      "Epoch 25/30\n",
      "Train Loss: 0.1976, Train Accuracy: 0.9065\n",
      "Eval Loss: 0.3633, Eval Accuracy: 0.8593\n",
      "Learning Rate: 0.000063\n"
     ]
    },
    {
     "name": "stderr",
     "output_type": "stream",
     "text": [
      " 87%|█████████████████████████████████████████████       | 26/30 [1:01:16<09:25, 141.43s/it]"
     ]
    },
    {
     "name": "stdout",
     "output_type": "stream",
     "text": [
      "Epoch 26/30\n",
      "Train Loss: 0.1913, Train Accuracy: 0.9071\n",
      "Eval Loss: 0.3749, Eval Accuracy: 0.8561\n",
      "Learning Rate: 0.000031\n"
     ]
    },
    {
     "name": "stderr",
     "output_type": "stream",
     "text": [
      " 90%|██████████████████████████████████████████████▊     | 27/30 [1:03:39<07:05, 141.89s/it]"
     ]
    },
    {
     "name": "stdout",
     "output_type": "stream",
     "text": [
      "Epoch 27/30\n",
      "Train Loss: 0.1881, Train Accuracy: 0.9110\n",
      "Eval Loss: 0.3739, Eval Accuracy: 0.8610\n",
      "Learning Rate: 0.000031\n"
     ]
    },
    {
     "name": "stderr",
     "output_type": "stream",
     "text": [
      " 93%|████████████████████████████████████████████████▌   | 28/30 [1:06:01<04:43, 141.91s/it]"
     ]
    },
    {
     "name": "stdout",
     "output_type": "stream",
     "text": [
      "Epoch 28/30\n",
      "Train Loss: 0.1892, Train Accuracy: 0.9104\n",
      "Eval Loss: 0.3722, Eval Accuracy: 0.8553\n",
      "Learning Rate: 0.000031\n"
     ]
    },
    {
     "name": "stderr",
     "output_type": "stream",
     "text": [
      " 97%|██████████████████████████████████████████████████▎ | 29/30 [1:08:22<02:21, 141.63s/it]"
     ]
    },
    {
     "name": "stdout",
     "output_type": "stream",
     "text": [
      "Epoch 29/30\n",
      "Train Loss: 0.1828, Train Accuracy: 0.9134\n",
      "Eval Loss: 0.3723, Eval Accuracy: 0.8618\n",
      "Learning Rate: 0.000031\n"
     ]
    },
    {
     "name": "stderr",
     "output_type": "stream",
     "text": [
      "100%|████████████████████████████████████████████████████| 30/30 [1:10:44<00:00, 141.48s/it]"
     ]
    },
    {
     "name": "stdout",
     "output_type": "stream",
     "text": [
      "Epoch 30/30\n",
      "Train Loss: 0.1816, Train Accuracy: 0.9132\n",
      "Eval Loss: 0.3849, Eval Accuracy: 0.8585\n",
      "Learning Rate: 0.000031\n"
     ]
    },
    {
     "name": "stderr",
     "output_type": "stream",
     "text": [
      "\n"
     ]
    },
    {
     "data": {
      "text/html": [
       "\n",
       "    <style>\n",
       "        .wandb-row {\n",
       "            display: flex;\n",
       "            flex-direction: row;\n",
       "            flex-wrap: wrap;\n",
       "            justify-content: flex-start;\n",
       "            width: 100%;\n",
       "        }\n",
       "        .wandb-col {\n",
       "            display: flex;\n",
       "            flex-direction: column;\n",
       "            flex-basis: 100%;\n",
       "            flex: 1;\n",
       "            padding: 10px;\n",
       "        }\n",
       "    </style>\n",
       "<div class=\"wandb-row\"><div class=\"wandb-col\"><h3>Run history:</h3><br/><table class=\"wandb\"><tr><td>epoch</td><td>▁▁▁▂▂▂▂▃▃▃▃▄▄▄▄▅▅▅▅▆▆▆▆▇▇▇▇███</td></tr><tr><td>eval_accuracy</td><td>▁▂▄▆▆▇▇▇▇█████████████████████</td></tr><tr><td>eval_loss</td><td>█▇▅▄▃▂▂▂▂▂▁▁▁▁▁▁▁▁▁▁▁▁▁▁▁▁▁▁▁▂</td></tr><tr><td>learning_rate</td><td>█████▄▄▄▄▄▃▃▃▃▃▂▂▂▂▂▁▁▁▁▁▁▁▁▁▁</td></tr><tr><td>train_accuracy</td><td>▁▂▄▅▆▆▆▇▇▇▇▇▇▇▇███████████████</td></tr><tr><td>train_loss</td><td>█▇▅▄▄▃▃▃▂▂▂▂▂▂▂▂▁▁▁▁▁▁▁▁▁▁▁▁▁▁</td></tr></table><br/></div><div class=\"wandb-col\"><h3>Run summary:</h3><br/><table class=\"wandb\"><tr><td>epoch</td><td>30</td></tr><tr><td>eval_accuracy</td><td>0.85854</td></tr><tr><td>eval_loss</td><td>0.38488</td></tr><tr><td>learning_rate</td><td>3e-05</td></tr><tr><td>train_accuracy</td><td>0.91321</td></tr><tr><td>train_loss</td><td>0.18158</td></tr></table><br/></div></div>"
      ],
      "text/plain": [
       "<IPython.core.display.HTML object>"
      ]
     },
     "metadata": {},
     "output_type": "display_data"
    },
    {
     "data": {
      "text/html": [
       " View run <strong style=\"color:#cdcd00\">gru_pytorch_ep_30_lr_0.001</strong> at: <a href='https://wandb.ai/ahmadjaved97/assignment-4/runs/51wgol9j' target=\"_blank\">https://wandb.ai/ahmadjaved97/assignment-4/runs/51wgol9j</a><br/> View project at: <a href='https://wandb.ai/ahmadjaved97/assignment-4' target=\"_blank\">https://wandb.ai/ahmadjaved97/assignment-4</a><br/>Synced 5 W&B file(s), 0 media file(s), 0 artifact file(s) and 0 other file(s)"
      ],
      "text/plain": [
       "<IPython.core.display.HTML object>"
      ]
     },
     "metadata": {},
     "output_type": "display_data"
    },
    {
     "data": {
      "text/html": [
       "Find logs at: <code>./wandb/run-20241209_040508-51wgol9j/logs</code>"
      ],
      "text/plain": [
       "<IPython.core.display.HTML object>"
      ]
     },
     "metadata": {},
     "output_type": "display_data"
    }
   ],
   "source": [
    "# Run training\n",
    "model, train_losses, train_accuracies, eval_losses, eval_accuracies, learning_rates = run_training(\n",
    "    model, \n",
    "    train_loader, val_loader, \n",
    "    criterion,\n",
    "    device,\n",
    "    num_epochs=num_epochs, \n",
    "    learning_rate=learning_rate, \n",
    "    step_size=step_size, \n",
    "    gamma=gamma,\n",
    "    name=name, project=project\n",
    ")"
   ]
  },
  {
   "cell_type": "code",
   "execution_count": 28,
   "id": "c960e124-4a59-4611-9930-2b29c4818f17",
   "metadata": {},
   "outputs": [],
   "source": [
    "save_path = \"./saved_models/pytorch_gru.pth\"\n",
    "torch.save(model, save_path)"
   ]
  },
  {
   "cell_type": "code",
   "execution_count": 29,
   "id": "42dcec3f-41d4-4dd4-8cdd-2fd85d92e858",
   "metadata": {},
   "outputs": [
    {
     "name": "stderr",
     "output_type": "stream",
     "text": [
      "/tmp/ipykernel_2731082/2120265427.py:2: FutureWarning: You are using `torch.load` with `weights_only=False` (the current default value), which uses the default pickle module implicitly. It is possible to construct malicious pickle data which will execute arbitrary code during unpickling (See https://github.com/pytorch/pytorch/blob/main/SECURITY.md#untrusted-models for more details). In a future release, the default value for `weights_only` will be flipped to `True`. This limits the functions that could be executed during unpickling. Arbitrary objects will no longer be allowed to be loaded via this mode unless they are explicitly allowlisted by the user via `torch.serialization.add_safe_globals`. We recommend you start setting `weights_only=True` for any use case where you don't have full control of the loaded file. Please open an issue on GitHub for any issues related to this experimental feature.\n",
      "  model = torch.load(model_path)\n"
     ]
    },
    {
     "data": {
      "image/png": "[encoded data removed]",
      "text/plain": [
       "<Figure size 600x400 with 2 Axes>"
      ]
     },
     "metadata": {},
     "output_type": "display_data"
    }
   ],
   "source": [
    "model = load_model(\"./saved_models/pytorch_gru.pth\")\n",
    "# Use the function to get results\n",
    "y_true, y_pred = evaluate_model(model, val_loader)\n",
    "\n",
    "# Class label names\n",
    "label_names = ['boxing','handclapping', 'handwaving', 'jogging', 'running', 'walking']\n",
    "\n",
    "# Plot confusion matrix\n",
    "plot_confusion_matrix(y_true, y_pred, label_names, model_name=\"Pytorch GRU\")"
   ]
  },
  {
   "cell_type": "markdown",
   "id": "755b49c8-b276-4515-b388-ce9dc5c5c209",
   "metadata": {},
   "source": [
    "### ConvLSTM from Scratch"
   ]
  },
  {
   "cell_type": "code",
   "execution_count": 30,
   "id": "5a44fbcc-062a-4c2b-b7f5-479a3b484ea7",
   "metadata": {},
   "outputs": [],
   "source": [
    "# Hyper parameters for LSTM\n",
    "input_size = 64*64  # flattened size of frame\n",
    "# hidden_size = 256  # Hidden size of the LSTM\n",
    "num_classes = len(os.listdir(\"/home/nfs/inf6/data/datasets/kth_actions/processed\"))  # Number of output classes\n",
    "num_layers = 2\n",
    "\n",
    "# Hyperparameters for training\n",
    "num_epochs = 30\n",
    "learning_rate = 0.001  # Initial learning rate\n",
    "step_size = 5          # To be used in LR Scheduler\n",
    "gamma = 0.5            # To be used in LR Scheduler\n",
    "name = f\"convlstm_scratch_ep_{num_epochs}_lr_{learning_rate}\"\n",
    "project = 'assignment-4'\n",
    "\n",
    "#criterion\n",
    "criterion = nn.CrossEntropyLoss()"
   ]
  },
  {
   "cell_type": "code",
   "execution_count": 31,
   "id": "93405650-b756-4c5d-8ed2-760930679b23",
   "metadata": {
    "scrolled": true
   },
   "outputs": [
    {
     "data": {
      "text/plain": [
       "ActionClassificationModel(\n",
       "  (encoder): Sequential(\n",
       "    (0): Conv2d(1, 64, kernel_size=(3, 3), stride=(1, 1), padding=(1, 1))\n",
       "    (1): BatchNorm2d(64, eps=1e-05, momentum=0.1, affine=True, track_running_stats=True)\n",
       "    (2): ReLU()\n",
       "    (3): Conv2d(64, 64, kernel_size=(3, 3), stride=(1, 1), padding=(1, 1))\n",
       "    (4): BatchNorm2d(64, eps=1e-05, momentum=0.1, affine=True, track_running_stats=True)\n",
       "    (5): ReLU()\n",
       "    (6): MaxPool2d(kernel_size=2, stride=2, padding=0, dilation=1, ceil_mode=False)\n",
       "    (7): Dropout(p=0.3, inplace=False)\n",
       "    (8): Conv2d(64, 128, kernel_size=(3, 3), stride=(1, 1), padding=(1, 1))\n",
       "    (9): BatchNorm2d(128, eps=1e-05, momentum=0.1, affine=True, track_running_stats=True)\n",
       "    (10): ReLU()\n",
       "    (11): Conv2d(128, 128, kernel_size=(3, 3), stride=(1, 1), padding=(1, 1))\n",
       "    (12): BatchNorm2d(128, eps=1e-05, momentum=0.1, affine=True, track_running_stats=True)\n",
       "    (13): ReLU()\n",
       "    (14): MaxPool2d(kernel_size=2, stride=2, padding=0, dilation=1, ceil_mode=False)\n",
       "    (15): Dropout(p=0.3, inplace=False)\n",
       "    (16): Conv2d(128, 256, kernel_size=(3, 3), stride=(1, 1), padding=(1, 1))\n",
       "    (17): BatchNorm2d(256, eps=1e-05, momentum=0.1, affine=True, track_running_stats=True)\n",
       "    (18): ReLU()\n",
       "    (19): Conv2d(256, 256, kernel_size=(3, 3), stride=(1, 1), padding=(1, 1))\n",
       "    (20): BatchNorm2d(256, eps=1e-05, momentum=0.1, affine=True, track_running_stats=True)\n",
       "    (21): ReLU()\n",
       "    (22): MaxPool2d(kernel_size=2, stride=2, padding=0, dilation=1, ceil_mode=False)\n",
       "    (23): Dropout(p=0.4, inplace=False)\n",
       "  )\n",
       "  (rnn): ConvLSTM(\n",
       "    (layers): ModuleList(\n",
       "      (0): ConvLSTMCell(\n",
       "        (conv): Conv2d(320, 256, kernel_size=(3, 3), stride=(1, 1), padding=(1, 1))\n",
       "      )\n",
       "      (1): ConvLSTMCell(\n",
       "        (conv): Conv2d(128, 256, kernel_size=(3, 3), stride=(1, 1), padding=(1, 1))\n",
       "      )\n",
       "    )\n",
       "    (fc): Linear(in_features=4096, out_features=6, bias=True)\n",
       "  )\n",
       "  (classifier): Sequential(\n",
       "    (0): Flatten(start_dim=1, end_dim=-1)\n",
       "    (1): Linear(in_features=4096, out_features=6, bias=True)\n",
       "  )\n",
       ")"
      ]
     },
     "execution_count": 31,
     "metadata": {},
     "output_type": "execute_result"
    }
   ],
   "source": [
    "model = ActionClassificationModel(input_dim=input_size, \n",
    "                                           sequence_length=sequence_length, \n",
    "                                           num_classes=num_classes, num_layers=num_layers,rnn_module='convlstm').to(device)\n",
    "model"
   ]
  },
  {
   "cell_type": "code",
   "execution_count": 32,
   "id": "0e664a24-2abd-4ec9-bbf2-92a3381c774d",
   "metadata": {},
   "outputs": [
    {
     "data": {
      "text/html": [
       "Tracking run with wandb version 0.18.7"
      ],
      "text/plain": [
       "<IPython.core.display.HTML object>"
      ]
     },
     "metadata": {},
     "output_type": "display_data"
    },
    {
     "data": {
      "text/html": [
       "Run data is saved locally in <code>/home/user/javeda1/MA-INF-4308-Lab-Vision-Systems/Assignment-4/wandb/run-20241209_051618-p3bnym70</code>"
      ],
      "text/plain": [
       "<IPython.core.display.HTML object>"
      ]
     },
     "metadata": {},
     "output_type": "display_data"
    },
    {
     "data": {
      "text/html": [
       "Syncing run <strong><a href='https://wandb.ai/ahmadjaved97/assignment-4/runs/p3bnym70' target=\"_blank\">convlstm_scratch_ep_30_lr_0.001</a></strong> to <a href='https://wandb.ai/ahmadjaved97/assignment-4' target=\"_blank\">Weights & Biases</a> (<a href='https://wandb.me/developer-guide' target=\"_blank\">docs</a>)<br/>"
      ],
      "text/plain": [
       "<IPython.core.display.HTML object>"
      ]
     },
     "metadata": {},
     "output_type": "display_data"
    },
    {
     "data": {
      "text/html": [
       " View project at <a href='https://wandb.ai/ahmadjaved97/assignment-4' target=\"_blank\">https://wandb.ai/ahmadjaved97/assignment-4</a>"
      ],
      "text/plain": [
       "<IPython.core.display.HTML object>"
      ]
     },
     "metadata": {},
     "output_type": "display_data"
    },
    {
     "data": {
      "text/html": [
       " View run at <a href='https://wandb.ai/ahmadjaved97/assignment-4/runs/p3bnym70' target=\"_blank\">https://wandb.ai/ahmadjaved97/assignment-4/runs/p3bnym70</a>"
      ],
      "text/plain": [
       "<IPython.core.display.HTML object>"
      ]
     },
     "metadata": {},
     "output_type": "display_data"
    },
    {
     "name": "stderr",
     "output_type": "stream",
     "text": [
      "  3%|█▊                                                   | 1/30 [02:09<1:02:49, 129.97s/it]"
     ]
    },
    {
     "name": "stdout",
     "output_type": "stream",
     "text": [
      "Epoch 1/30\n",
      "Train Loss: 0.9457, Train Accuracy: 0.5411\n",
      "Eval Loss: 0.6948, Eval Accuracy: 0.6602\n",
      "Learning Rate: 0.001000\n"
     ]
    },
    {
     "name": "stderr",
     "output_type": "stream",
     "text": [
      "  7%|███▌                                                 | 2/30 [04:20<1:00:41, 130.07s/it]"
     ]
    },
    {
     "name": "stdout",
     "output_type": "stream",
     "text": [
      "Epoch 2/30\n",
      "Train Loss: 0.5538, Train Accuracy: 0.7506\n",
      "Eval Loss: 0.5212, Eval Accuracy: 0.7593\n",
      "Learning Rate: 0.001000\n"
     ]
    },
    {
     "name": "stderr",
     "output_type": "stream",
     "text": [
      " 10%|█████▌                                                 | 3/30 [06:29<58:23, 129.77s/it]"
     ]
    },
    {
     "name": "stdout",
     "output_type": "stream",
     "text": [
      "Epoch 3/30\n",
      "Train Loss: 0.4619, Train Accuracy: 0.7937\n",
      "Eval Loss: 0.4704, Eval Accuracy: 0.7967\n",
      "Learning Rate: 0.001000\n"
     ]
    },
    {
     "name": "stderr",
     "output_type": "stream",
     "text": [
      " 13%|███████▎                                               | 4/30 [08:39<56:18, 129.96s/it]"
     ]
    },
    {
     "name": "stdout",
     "output_type": "stream",
     "text": [
      "Epoch 4/30\n",
      "Train Loss: 0.4177, Train Accuracy: 0.8177\n",
      "Eval Loss: 0.4830, Eval Accuracy: 0.7976\n",
      "Learning Rate: 0.001000\n"
     ]
    },
    {
     "name": "stderr",
     "output_type": "stream",
     "text": [
      " 17%|█████████▏                                             | 5/30 [11:00<55:44, 133.79s/it]"
     ]
    },
    {
     "name": "stdout",
     "output_type": "stream",
     "text": [
      "Epoch 5/30\n",
      "Train Loss: 0.3958, Train Accuracy: 0.8211\n",
      "Eval Loss: 0.3932, Eval Accuracy: 0.8366\n",
      "Learning Rate: 0.001000\n"
     ]
    },
    {
     "name": "stderr",
     "output_type": "stream",
     "text": [
      " 20%|███████████                                            | 6/30 [13:09<52:55, 132.32s/it]"
     ]
    },
    {
     "name": "stdout",
     "output_type": "stream",
     "text": [
      "Epoch 6/30\n",
      "Train Loss: 0.3337, Train Accuracy: 0.8516\n",
      "Eval Loss: 0.3735, Eval Accuracy: 0.8293\n",
      "Learning Rate: 0.000500\n"
     ]
    },
    {
     "name": "stderr",
     "output_type": "stream",
     "text": [
      " 23%|████████████▊                                          | 7/30 [15:19<50:21, 131.37s/it]"
     ]
    },
    {
     "name": "stdout",
     "output_type": "stream",
     "text": [
      "Epoch 7/30\n",
      "Train Loss: 0.2935, Train Accuracy: 0.8634\n",
      "Eval Loss: 0.3268, Eval Accuracy: 0.8569\n",
      "Learning Rate: 0.000500\n"
     ]
    },
    {
     "name": "stderr",
     "output_type": "stream",
     "text": [
      " 27%|██████████████▋                                        | 8/30 [17:28<47:57, 130.81s/it]"
     ]
    },
    {
     "name": "stdout",
     "output_type": "stream",
     "text": [
      "Epoch 8/30\n",
      "Train Loss: 0.2787, Train Accuracy: 0.8709\n",
      "Eval Loss: 0.3422, Eval Accuracy: 0.8545\n",
      "Learning Rate: 0.000500\n"
     ]
    },
    {
     "name": "stderr",
     "output_type": "stream",
     "text": [
      " 30%|████████████████▌                                      | 9/30 [19:39<45:44, 130.71s/it]"
     ]
    },
    {
     "name": "stdout",
     "output_type": "stream",
     "text": [
      "Epoch 9/30\n",
      "Train Loss: 0.2657, Train Accuracy: 0.8797\n",
      "Eval Loss: 0.3399, Eval Accuracy: 0.8480\n",
      "Learning Rate: 0.000500\n"
     ]
    },
    {
     "name": "stderr",
     "output_type": "stream",
     "text": [
      " 33%|██████████████████                                    | 10/30 [21:49<43:30, 130.51s/it]"
     ]
    },
    {
     "name": "stdout",
     "output_type": "stream",
     "text": [
      "Epoch 10/30\n",
      "Train Loss: 0.2634, Train Accuracy: 0.8776\n",
      "Eval Loss: 0.3497, Eval Accuracy: 0.8407\n",
      "Learning Rate: 0.000500\n"
     ]
    },
    {
     "name": "stderr",
     "output_type": "stream",
     "text": [
      " 37%|███████████████████▊                                  | 11/30 [23:59<41:20, 130.53s/it]"
     ]
    },
    {
     "name": "stdout",
     "output_type": "stream",
     "text": [
      "Epoch 11/30\n",
      "Train Loss: 0.2176, Train Accuracy: 0.9000\n",
      "Eval Loss: 0.3335, Eval Accuracy: 0.8545\n",
      "Learning Rate: 0.000250\n"
     ]
    },
    {
     "name": "stderr",
     "output_type": "stream",
     "text": [
      " 40%|█████████████████████▌                                | 12/30 [26:15<39:37, 132.06s/it]"
     ]
    },
    {
     "name": "stdout",
     "output_type": "stream",
     "text": [
      "Epoch 12/30\n",
      "Train Loss: 0.1981, Train Accuracy: 0.9112\n",
      "Eval Loss: 0.3079, Eval Accuracy: 0.8642\n",
      "Learning Rate: 0.000250\n"
     ]
    },
    {
     "name": "stderr",
     "output_type": "stream",
     "text": [
      " 43%|███████████████████████▍                              | 13/30 [28:25<37:13, 131.38s/it]"
     ]
    },
    {
     "name": "stdout",
     "output_type": "stream",
     "text": [
      "Epoch 13/30\n",
      "Train Loss: 0.1891, Train Accuracy: 0.9140\n",
      "Eval Loss: 0.3255, Eval Accuracy: 0.8569\n",
      "Learning Rate: 0.000250\n"
     ]
    },
    {
     "name": "stderr",
     "output_type": "stream",
     "text": [
      " 47%|█████████████████████████▏                            | 14/30 [30:34<34:52, 130.78s/it]"
     ]
    },
    {
     "name": "stdout",
     "output_type": "stream",
     "text": [
      "Epoch 14/30\n",
      "Train Loss: 0.1705, Train Accuracy: 0.9278\n",
      "Eval Loss: 0.3332, Eval Accuracy: 0.8618\n",
      "Learning Rate: 0.000250\n"
     ]
    },
    {
     "name": "stderr",
     "output_type": "stream",
     "text": [
      " 50%|███████████████████████████                           | 15/30 [32:44<32:36, 130.44s/it]"
     ]
    },
    {
     "name": "stdout",
     "output_type": "stream",
     "text": [
      "Epoch 15/30\n",
      "Train Loss: 0.1664, Train Accuracy: 0.9270\n",
      "Eval Loss: 0.3531, Eval Accuracy: 0.8618\n",
      "Learning Rate: 0.000250\n"
     ]
    },
    {
     "name": "stderr",
     "output_type": "stream",
     "text": [
      " 53%|████████████████████████████▊                         | 16/30 [34:54<30:22, 130.19s/it]"
     ]
    },
    {
     "name": "stdout",
     "output_type": "stream",
     "text": [
      "Epoch 16/30\n",
      "Train Loss: 0.1477, Train Accuracy: 0.9388\n",
      "Eval Loss: 0.3461, Eval Accuracy: 0.8650\n",
      "Learning Rate: 0.000125\n"
     ]
    },
    {
     "name": "stderr",
     "output_type": "stream",
     "text": [
      " 57%|██████████████████████████████▌                       | 17/30 [37:03<28:10, 130.05s/it]"
     ]
    },
    {
     "name": "stdout",
     "output_type": "stream",
     "text": [
      "Epoch 17/30\n",
      "Train Loss: 0.1372, Train Accuracy: 0.9447\n",
      "Eval Loss: 0.3479, Eval Accuracy: 0.8634\n",
      "Learning Rate: 0.000125\n"
     ]
    },
    {
     "name": "stderr",
     "output_type": "stream",
     "text": [
      " 60%|████████████████████████████████▍                     | 18/30 [39:23<26:35, 132.93s/it]"
     ]
    },
    {
     "name": "stdout",
     "output_type": "stream",
     "text": [
      "Epoch 18/30\n",
      "Train Loss: 0.1275, Train Accuracy: 0.9472\n",
      "Eval Loss: 0.3522, Eval Accuracy: 0.8715\n",
      "Learning Rate: 0.000125\n"
     ]
    },
    {
     "name": "stderr",
     "output_type": "stream",
     "text": [
      " 63%|██████████████████████████████████▏                   | 19/30 [41:34<24:15, 132.28s/it]"
     ]
    },
    {
     "name": "stdout",
     "output_type": "stream",
     "text": [
      "Epoch 19/30\n",
      "Train Loss: 0.1241, Train Accuracy: 0.9484\n",
      "Eval Loss: 0.3571, Eval Accuracy: 0.8659\n",
      "Learning Rate: 0.000125\n"
     ]
    },
    {
     "name": "stderr",
     "output_type": "stream",
     "text": [
      " 67%|████████████████████████████████████                  | 20/30 [43:43<21:54, 131.48s/it]"
     ]
    },
    {
     "name": "stdout",
     "output_type": "stream",
     "text": [
      "Epoch 20/30\n",
      "Train Loss: 0.1198, Train Accuracy: 0.9522\n",
      "Eval Loss: 0.3920, Eval Accuracy: 0.8512\n",
      "Learning Rate: 0.000125\n"
     ]
    },
    {
     "name": "stderr",
     "output_type": "stream",
     "text": [
      " 70%|█████████████████████████████████████▊                | 21/30 [45:54<19:41, 131.23s/it]"
     ]
    },
    {
     "name": "stdout",
     "output_type": "stream",
     "text": [
      "Epoch 21/30\n",
      "Train Loss: 0.1066, Train Accuracy: 0.9583\n",
      "Eval Loss: 0.3628, Eval Accuracy: 0.8659\n",
      "Learning Rate: 0.000063\n"
     ]
    },
    {
     "name": "stderr",
     "output_type": "stream",
     "text": [
      " 73%|███████████████████████████████████████▌              | 22/30 [48:04<17:27, 130.89s/it]"
     ]
    },
    {
     "name": "stdout",
     "output_type": "stream",
     "text": [
      "Epoch 22/30\n",
      "Train Loss: 0.0998, Train Accuracy: 0.9616\n",
      "Eval Loss: 0.3636, Eval Accuracy: 0.8659\n",
      "Learning Rate: 0.000063\n"
     ]
    },
    {
     "name": "stderr",
     "output_type": "stream",
     "text": [
      " 77%|█████████████████████████████████████████▍            | 23/30 [50:14<15:14, 130.57s/it]"
     ]
    },
    {
     "name": "stdout",
     "output_type": "stream",
     "text": [
      "Epoch 23/30\n",
      "Train Loss: 0.0944, Train Accuracy: 0.9654\n",
      "Eval Loss: 0.3698, Eval Accuracy: 0.8683\n",
      "Learning Rate: 0.000063\n"
     ]
    },
    {
     "name": "stderr",
     "output_type": "stream",
     "text": [
      " 80%|███████████████████████████████████████████▏          | 24/30 [52:25<13:04, 130.69s/it]"
     ]
    },
    {
     "name": "stdout",
     "output_type": "stream",
     "text": [
      "Epoch 24/30\n",
      "Train Loss: 0.0925, Train Accuracy: 0.9636\n",
      "Eval Loss: 0.3669, Eval Accuracy: 0.8707\n",
      "Learning Rate: 0.000063\n"
     ]
    },
    {
     "name": "stderr",
     "output_type": "stream",
     "text": [
      " 83%|█████████████████████████████████████████████         | 25/30 [54:37<10:55, 131.11s/it]"
     ]
    },
    {
     "name": "stdout",
     "output_type": "stream",
     "text": [
      "Epoch 25/30\n",
      "Train Loss: 0.0897, Train Accuracy: 0.9659\n",
      "Eval Loss: 0.3702, Eval Accuracy: 0.8715\n",
      "Learning Rate: 0.000063\n"
     ]
    },
    {
     "name": "stderr",
     "output_type": "stream",
     "text": [
      " 87%|██████████████████████████████████████████████▊       | 26/30 [56:47<08:42, 130.74s/it]"
     ]
    },
    {
     "name": "stdout",
     "output_type": "stream",
     "text": [
      "Epoch 26/30\n",
      "Train Loss: 0.0818, Train Accuracy: 0.9687\n",
      "Eval Loss: 0.3764, Eval Accuracy: 0.8740\n",
      "Learning Rate: 0.000031\n"
     ]
    },
    {
     "name": "stderr",
     "output_type": "stream",
     "text": [
      " 90%|████████████████████████████████████████████████▌     | 27/30 [58:56<06:31, 130.39s/it]"
     ]
    },
    {
     "name": "stdout",
     "output_type": "stream",
     "text": [
      "Epoch 27/30\n",
      "Train Loss: 0.0785, Train Accuracy: 0.9709\n",
      "Eval Loss: 0.3713, Eval Accuracy: 0.8764\n",
      "Learning Rate: 0.000031\n"
     ]
    },
    {
     "name": "stderr",
     "output_type": "stream",
     "text": [
      " 93%|████████████████████████████████████████████████▌   | 28/30 [1:01:06<04:20, 130.15s/it]"
     ]
    },
    {
     "name": "stdout",
     "output_type": "stream",
     "text": [
      "Epoch 28/30\n",
      "Train Loss: 0.0767, Train Accuracy: 0.9697\n",
      "Eval Loss: 0.3836, Eval Accuracy: 0.8707\n",
      "Learning Rate: 0.000031\n"
     ]
    },
    {
     "name": "stderr",
     "output_type": "stream",
     "text": [
      " 97%|██████████████████████████████████████████████████▎ | 29/30 [1:03:16<02:10, 130.13s/it]"
     ]
    },
    {
     "name": "stdout",
     "output_type": "stream",
     "text": [
      "Epoch 29/30\n",
      "Train Loss: 0.0788, Train Accuracy: 0.9699\n",
      "Eval Loss: 0.3822, Eval Accuracy: 0.8683\n",
      "Learning Rate: 0.000031\n"
     ]
    },
    {
     "name": "stderr",
     "output_type": "stream",
     "text": [
      "100%|████████████████████████████████████████████████████| 30/30 [1:05:26<00:00, 130.87s/it]"
     ]
    },
    {
     "name": "stdout",
     "output_type": "stream",
     "text": [
      "Epoch 30/30\n",
      "Train Loss: 0.0710, Train Accuracy: 0.9760\n",
      "Eval Loss: 0.3889, Eval Accuracy: 0.8715\n",
      "Learning Rate: 0.000031\n"
     ]
    },
    {
     "name": "stderr",
     "output_type": "stream",
     "text": [
      "\n"
     ]
    },
    {
     "data": {
      "text/html": [
       "\n",
       "    <style>\n",
       "        .wandb-row {\n",
       "            display: flex;\n",
       "            flex-direction: row;\n",
       "            flex-wrap: wrap;\n",
       "            justify-content: flex-start;\n",
       "            width: 100%;\n",
       "        }\n",
       "        .wandb-col {\n",
       "            display: flex;\n",
       "            flex-direction: column;\n",
       "            flex-basis: 100%;\n",
       "            flex: 1;\n",
       "            padding: 10px;\n",
       "        }\n",
       "    </style>\n",
       "<div class=\"wandb-row\"><div class=\"wandb-col\"><h3>Run history:</h3><br/><table class=\"wandb\"><tr><td>epoch</td><td>▁▁▁▂▂▂▂▃▃▃▃▄▄▄▄▅▅▅▅▆▆▆▆▇▇▇▇███</td></tr><tr><td>eval_accuracy</td><td>▁▄▅▅▇▆▇▇▇▇▇█▇██████▇██████████</td></tr><tr><td>eval_loss</td><td>█▅▄▄▃▂▁▂▂▂▁▁▁▁▂▂▂▂▂▃▂▂▂▂▂▂▂▂▂▂</td></tr><tr><td>learning_rate</td><td>█████▄▄▄▄▄▃▃▃▃▃▂▂▂▂▂▁▁▁▁▁▁▁▁▁▁</td></tr><tr><td>train_accuracy</td><td>▁▄▅▅▆▆▆▆▆▆▇▇▇▇▇▇▇█████████████</td></tr><tr><td>train_loss</td><td>█▅▄▄▄▃▃▃▃▃▂▂▂▂▂▂▂▁▁▁▁▁▁▁▁▁▁▁▁▁</td></tr></table><br/></div><div class=\"wandb-col\"><h3>Run summary:</h3><br/><table class=\"wandb\"><tr><td>epoch</td><td>30</td></tr><tr><td>eval_accuracy</td><td>0.87154</td></tr><tr><td>eval_loss</td><td>0.38894</td></tr><tr><td>learning_rate</td><td>3e-05</td></tr><tr><td>train_accuracy</td><td>0.97602</td></tr><tr><td>train_loss</td><td>0.07096</td></tr></table><br/></div></div>"
      ],
      "text/plain": [
       "<IPython.core.display.HTML object>"
      ]
     },
     "metadata": {},
     "output_type": "display_data"
    },
    {
     "data": {
      "text/html": [
       " View run <strong style=\"color:#cdcd00\">convlstm_scratch_ep_30_lr_0.001</strong> at: <a href='https://wandb.ai/ahmadjaved97/assignment-4/runs/p3bnym70' target=\"_blank\">https://wandb.ai/ahmadjaved97/assignment-4/runs/p3bnym70</a><br/> View project at: <a href='https://wandb.ai/ahmadjaved97/assignment-4' target=\"_blank\">https://wandb.ai/ahmadjaved97/assignment-4</a><br/>Synced 5 W&B file(s), 0 media file(s), 0 artifact file(s) and 0 other file(s)"
      ],
      "text/plain": [
       "<IPython.core.display.HTML object>"
      ]
     },
     "metadata": {},
     "output_type": "display_data"
    },
    {
     "data": {
      "text/html": [
       "Find logs at: <code>./wandb/run-20241209_051618-p3bnym70/logs</code>"
      ],
      "text/plain": [
       "<IPython.core.display.HTML object>"
      ]
     },
     "metadata": {},
     "output_type": "display_data"
    }
   ],
   "source": [
    "# Run training\n",
    "model, train_losses, train_accuracies, eval_losses, eval_accuracies, learning_rates = run_training(\n",
    "    model, \n",
    "    train_loader, val_loader, \n",
    "    criterion,\n",
    "    device,\n",
    "    num_epochs=num_epochs, \n",
    "    learning_rate=learning_rate, \n",
    "    step_size=step_size, \n",
    "    gamma=gamma,\n",
    "    name=name, project=project,\n",
    "    model_type='convlstm'\n",
    ")"
   ]
  },
  {
   "cell_type": "code",
   "execution_count": 33,
   "id": "1672e918-2443-4250-87bf-6aa3daf24d2e",
   "metadata": {},
   "outputs": [],
   "source": [
    "save_path = \"./saved_models/convlstm_scratch.pth\"\n",
    "torch.save(model, save_path)"
   ]
  },
  {
   "cell_type": "code",
   "execution_count": 34,
   "id": "8ba91bd9-85e9-47f4-bb4c-f492e0826a05",
   "metadata": {},
   "outputs": [
    {
     "name": "stderr",
     "output_type": "stream",
     "text": [
      "/tmp/ipykernel_2731082/2120265427.py:2: FutureWarning: You are using `torch.load` with `weights_only=False` (the current default value), which uses the default pickle module implicitly. It is possible to construct malicious pickle data which will execute arbitrary code during unpickling (See https://github.com/pytorch/pytorch/blob/main/SECURITY.md#untrusted-models for more details). In a future release, the default value for `weights_only` will be flipped to `True`. This limits the functions that could be executed during unpickling. Arbitrary objects will no longer be allowed to be loaded via this mode unless they are explicitly allowlisted by the user via `torch.serialization.add_safe_globals`. We recommend you start setting `weights_only=True` for any use case where you don't have full control of the loaded file. Please open an issue on GitHub for any issues related to this experimental feature.\n",
      "  model = torch.load(model_path)\n"
     ]
    },
    {
     "data": {
      "image/png": "[encoded data removed]",
      "text/plain": [
       "<Figure size 600x400 with 2 Axes>"
      ]
     },
     "metadata": {},
     "output_type": "display_data"
    }
   ],
   "source": [
    "model = load_model(\"./saved_models/convlstm_scratch.pth\")\n",
    "# Use the function to get results\n",
    "y_true, y_pred = evaluate_model(model, val_loader)\n",
    "\n",
    "# Class label names\n",
    "label_names = ['boxing','handclapping', 'handwaving', 'jogging', 'running', 'walking']\n",
    "\n",
    "# Plot confusion matrix\n",
    "plot_confusion_matrix(y_true, y_pred, label_names, model_name=\"ConvLSTM from scratch\")"
   ]
  },
  {
   "cell_type": "markdown",
   "id": "57362083-e3cd-46c3-8685-a137ff864e30",
   "metadata": {},
   "source": [
    "### Learnable Parameters"
   ]
  },
  {
   "cell_type": "code",
   "execution_count": 20,
   "id": "3b6ba445-0884-4ab1-85c9-e9be111f8e62",
   "metadata": {},
   "outputs": [
    {
     "name": "stderr",
     "output_type": "stream",
     "text": [
      "/tmp/ipykernel_2975872/2120265427.py:2: FutureWarning: You are using `torch.load` with `weights_only=False` (the current default value), which uses the default pickle module implicitly. It is possible to construct malicious pickle data which will execute arbitrary code during unpickling (See https://github.com/pytorch/pytorch/blob/main/SECURITY.md#untrusted-models for more details). In a future release, the default value for `weights_only` will be flipped to `True`. This limits the functions that could be executed during unpickling. Arbitrary objects will no longer be allowed to be loaded via this mode unless they are explicitly allowlisted by the user via `torch.serialization.add_safe_globals`. We recommend you start setting `weights_only=True` for any use case where you don't have full control of the loaded file. Please open an issue on GitHub for any issues related to this experimental feature.\n",
      "  model = torch.load(model_path)\n"
     ]
    }
   ],
   "source": [
    "lstm_scratch_model = load_model(\"./saved_models/lstm_scratch.pth\")\n",
    "pytorch_lstm_model = load_model(\"./saved_models/pytorch_lstm.pth\")\n",
    "pytorch_gru_model = load_model(\"./saved_models/pytorch_gru.pth\")\n",
    "convlstm_model = load_model(\"./saved_models/convlstm_scratch.pth\")"
   ]
  },
  {
   "cell_type": "code",
   "execution_count": 21,
   "id": "abd21a82-7c06-4fe3-a243-947869a2467c",
   "metadata": {},
   "outputs": [],
   "source": [
    "# Taken from : https://stackoverflow.com/questions/49201236/check-the-total-number-of-parameters-in-a-pytorch-model\n",
    "def count_parameters(model, name):\n",
    "    learnable_params = sum(p.numel() for p in model.parameters() if p.requires_grad)\n",
    "    print(f\"{name} {'Learnable Parameters':<20} {learnable_params:>15}\")\n",
    "    return learnable_params"
   ]
  },
  {
   "cell_type": "code",
   "execution_count": 22,
   "id": "bf5504de-3007-4bb4-ae5a-9d21bc8c865d",
   "metadata": {},
   "outputs": [
    {
     "name": "stdout",
     "output_type": "stream",
     "text": [
      "LSTM from Scratch Learnable Parameters        18813254\n",
      "Pytorch LSTM Learnable Parameters        18813254\n",
      "Pytorch GRU Learnable Parameters        14421318\n",
      "ConvLSTM Learnable Parameters         2227916\n"
     ]
    }
   ],
   "source": [
    "# Calculate and print the number of learnable parameters\n",
    "lstm_scratch_parameters = count_parameters(lstm_scratch_model, 'LSTM from Scratch')\n",
    "pytorch_lstm_parameters = count_parameters(pytorch_lstm_model, 'Pytorch LSTM')\n",
    "pytorch_gru_parameters = count_parameters(pytorch_gru_model, 'Pytorch GRU')\n",
    "convlstm_parameters = count_parameters(convlstm_model, 'ConvLSTM')\n"
   ]
  },
  {
   "cell_type": "markdown",
   "id": "857df053-0b71-4a79-a5d3-d7d08f3741f2",
   "metadata": {},
   "source": [
    "### Observations"
   ]
  },
  {
   "cell_type": "markdown",
   "id": "b8e4a165-1dfc-40bf-9aed-a52a231a95d2",
   "metadata": {},
   "source": [
    "1. LSTM from Scratch\n",
    "   - Accuracy: 85.04%\n",
    "   - Training time: 1 hour 12 minutes\n",
    "   - Total Learnable Parameters: 18813254\n",
    "   - Confusion Matrix Insights: reasonable accuracy for classes like boxing(183/183), handclapping (189/191) and hand waving(224/228). Has noticeable confusion among categories like running,walking and jogging.\n",
    "2. Pytorch LSTM\n",
    "   - Accuracy: 86.09%\n",
    "   - Training time: 1 hour 10 minutes\n",
    "   - Total Learnable Parameters: 18813254\n",
    "   - Confusion Matrix Insights:\n",
    "     -  Good classification for boxing (184/185), clapping (169/172) and hand waving (237/244). Misclassification in jogging (123 correct) and running (100 correct) are lower than those of GRU (jogging has 113 and running has 99 correct).\n",
    "3. Pytorch GRU\n",
    "   - Accuracy: 85.85%\n",
    "   - Training time: 1 hour 08 minutes\n",
    "   - Total Learnable Parameters: 14421318\n",
    "   - Confusion Matrix Insights:\n",
    "     - Perfect classificaiton for hand clapping (172/172) and good for hand waving (237/244). High confusion in activities like running, walking and jogging. Jogging is mostly misclassified as running (25 instances) and walking (58 instances).\n",
    "4. Conv LSTM\n",
    "   - Accuracy: 87.15%\n",
    "   - Training time: 1 hour 02 minutes\n",
    "   - Total Learnable Parameters: 2227916\n",
    "   - Confusion Matrix Insights:\n",
    "      - Perfect classification for boxing (185/185), clapping (171/172) and hand waving (243/244)\n",
    "      - Struggles with diffrentiating between similar activities like jogging, running and walking.\n",
    "\n",
    "\n",
    "- A clear pattern is present in all the 4 models that the predictions are more robust for stationary actions (boxing, waving and clapping) when compared to dynamic actions (jogging, running and walking).\n",
    "\n",
    "- ConvLSTM is the best model overall, due to it's highest accuracy and less  misclassification of action categories compared to other models. Also the model has almost 10x lower number of parameters than other models\n",
    "\n",
    "- Pytorch LSTM implementation and LSTM from scratch implementation have identical number of parameters and . The pytorch LSTM model has a slightly higher accuracy which can be due to the optimized and improved implementation of architecture/functions in Pytorch library.\n",
    "\n",
    "- Pytorch GRU has a slightly lower accuracy than Pytorch LSTM which can be due to it's relatively simpler architecture compared to LSTM."
   ]
  },
  {
   "cell_type": "code",
   "execution_count": null,
   "id": "78f27ee7-84a2-43e5-95f8-f14d542cb334",
   "metadata": {},
   "outputs": [],
   "source": []
  }
 ],
 "metadata": {
  "kernelspec": {
   "display_name": "Python 3 (ipykernel)",
   "language": "python",
   "name": "python3"
  },
  "language_info": {
   "codemirror_mode": {
    "name": "ipython",
    "version": 3
   },
   "file_extension": ".py",
   "mimetype": "text/x-python",
   "name": "python",
   "nbconvert_exporter": "python",
   "pygments_lexer": "ipython3",
   "version": "3.8.10"
  }
 },
 "nbformat": 4,
 "nbformat_minor": 5
}
