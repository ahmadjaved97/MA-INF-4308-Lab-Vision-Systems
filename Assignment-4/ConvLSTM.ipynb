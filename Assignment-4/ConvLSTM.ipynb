{
 "cells": [
  {
   "cell_type": "code",
   "execution_count": 1,
   "id": "d8b89f35-cbd7-472e-a833-8077a9d59733",
   "metadata": {},
   "outputs": [],
   "source": [
    "import torch\n",
    "import torch.nn as nn\n",
    "import torch.nn.functional as F\n",
    "from torchvision import transforms\n",
    "import torch.optim as optim\n",
    "from torch.utils.data import Dataset, DataLoader, random_split\n",
    "from torch.optim.lr_scheduler import StepLR\n",
    "import numpy as np\n",
    "import matplotlib.pyplot as plt\n",
    "import os\n",
    "from PIL import Image\n",
    "import random\n",
    "from tqdm import tqdm"
   ]
  },
  {
   "cell_type": "code",
   "execution_count": 2,
   "id": "73002f52-ab93-48ce-ad36-2874fb78aa3d",
   "metadata": {},
   "outputs": [],
   "source": [
    "class KTHProcessedDataset(Dataset):\n",
    "    def __init__(self, root_dir, sequence_length, transform=None):\n",
    "        self.root_dir = root_dir\n",
    "        self.sequence_length = sequence_length\n",
    "        self.transform = transform\n",
    "        self.data = []\n",
    "        self.class_mapping = {}  # To store class ID to name mapping\n",
    "\n",
    "        # Traverse through action categories and their subfolders\n",
    "        for label, category in enumerate(sorted(os.listdir(root_dir))):\n",
    "            category_path = os.path.join(root_dir, category)\n",
    "            if not os.path.isdir(category_path):\n",
    "                continue\n",
    "            self.class_mapping[label] = category  # Map class ID to category name\n",
    "            for subfolder in os.listdir(category_path):\n",
    "                subfolder_path = os.path.join(category_path, subfolder)\n",
    "                if os.path.isdir(subfolder_path):\n",
    "                    frames = sorted(os.listdir(subfolder_path))  # Ensure frames are ordered\n",
    "\n",
    "                    # Check if there are enough frames\n",
    "                    if len(frames) >= sequence_length:\n",
    "                        self.data.append((subfolder_path, frames, label))\n",
    "\n",
    "    def __len__(self):\n",
    "        return len(self.data)\n",
    "\n",
    "    def __getitem__(self, idx):\n",
    "        subfolder_path, frames, label = self.data[idx]\n",
    "\n",
    "        # Select frames sequentially from the start, up to sequence_length\n",
    "        selected_frames = frames[:self.sequence_length]\n",
    "\n",
    "        sequence = []\n",
    "        for frame_file in selected_frames:\n",
    "            frame_path = os.path.join(subfolder_path, frame_file)\n",
    "            try:\n",
    "                # Try to open the image\n",
    "                img = Image.open(frame_path).convert(\"L\")  # Convert to grayscale\n",
    "                if self.transform:\n",
    "                    img = self.transform(img)\n",
    "\n",
    "                # Flatten the image to a 1D tensor\n",
    "                img = img.view(-1)  # Flattening the image to size 4096 (64x64)\n",
    "                sequence.append(img)\n",
    "\n",
    "            except (IOError, OSError) as e:\n",
    "                # Log the error and skip the corrupted frame\n",
    "                print(f\"Warning: Skipping corrupted image {frame_path} due to error: {e}\")\n",
    "                return self.__getitem__((idx + 1) % len(self))  # Skip to the next sample\n",
    "\n",
    "        # Stack frames into a tensor of shape [sequence_length, 4096]\n",
    "        sequence = torch.stack(sequence, dim=0)\n",
    "        return sequence, label\n"
   ]
  },
  {
   "cell_type": "code",
   "execution_count": 3,
   "id": "c83b48e2-f8eb-4e39-bbb9-adef35e45868",
   "metadata": {},
   "outputs": [],
   "source": [
    "# Define augmentations and transformations\n",
    "transform = transforms.Compose([\n",
    "    # Spatial augmentations\n",
    "    # RandomHorizontalFlip(p=0.5),                # Flip frames horizontally with 50% probability\n",
    "    # RandomRotation(degrees=15),                # Random rotation within ±15 degrees\n",
    "    transforms.RandomCrop(size=(64, 64), pad_if_needed=True),  # Random crop to 64x64, pad if needed\n",
    "\n",
    "    transforms.RandomApply([transforms.ColorJitter(brightness=0.2, contrast=0.2)], p=0.3),  # Adjust brightness/contrast\n",
    "    transforms.GaussianBlur(3, sigma=(0.1, 2.0)),  # Random blur\n",
    "    \n",
    "    # Conversion and normalization\n",
    "    transforms.ToTensor(),                                # Convert PIL image to tensor\n",
    "    transforms.Normalize(mean=[0.5], std=[0.5])           # Normalize to [-1, 1]\n",
    "])"
   ]
  },
  {
   "cell_type": "code",
   "execution_count": 4,
   "id": "0e642ab3-d261-4da0-87a0-c4d92c209099",
   "metadata": {},
   "outputs": [],
   "source": [
    "# Paths and hyperparameters\n",
    "root_dir = '/home/nfs/inf6/data/datasets/kth_actions/processed'\n",
    "sequence_length = 45\n",
    "batch_size = 8\n",
    "train_ratio = 0.8  # 80% for training, 20% for validation"
   ]
  },
  {
   "cell_type": "code",
   "execution_count": 5,
   "id": "6457eb55-19b4-4bef-80f7-1a921ce68a75",
   "metadata": {},
   "outputs": [
    {
     "name": "stdout",
     "output_type": "stream",
     "text": [
      "Dataset size: 599\n",
      "Train set size: 479\n",
      "Validation set size: 120\n"
     ]
    }
   ],
   "source": [
    "# Load the full dataset\n",
    "dataset = KTHProcessedDataset(root_dir=root_dir, sequence_length=sequence_length, transform=transform)\n",
    "\n",
    "# Calculate train and validation sizes\n",
    "dataset_size = len(dataset)\n",
    "train_size = int(train_ratio * dataset_size)\n",
    "val_size = dataset_size - train_size\n",
    "\n",
    "# Split the dataset\n",
    "train_dataset, val_dataset = random_split(dataset, [train_size, val_size])\n",
    "\n",
    "# Create DataLoaders for train and validation sets\n",
    "train_loader = DataLoader(train_dataset, batch_size=batch_size, shuffle=True, num_workers=4)\n",
    "val_loader = DataLoader(val_dataset, batch_size=batch_size, shuffle=False, num_workers=4)\n",
    "\n",
    "print(f\"Dataset size: {dataset_size}\")\n",
    "print(f\"Train set size: {train_size}\")\n",
    "print(f\"Validation set size: {val_size}\")"
   ]
  },
  {
   "cell_type": "code",
   "execution_count": 6,
   "id": "b6573956-ccc4-460a-8910-aa36006a5f84",
   "metadata": {},
   "outputs": [
    {
     "name": "stdout",
     "output_type": "stream",
     "text": [
      "Dataset Classes:\n",
      "Class ID: 0, Class Name: boxing\n",
      "Class ID: 1, Class Name: handclapping\n",
      "Class ID: 2, Class Name: handwaving\n",
      "Class ID: 3, Class Name: jogging\n",
      "Class ID: 4, Class Name: running\n",
      "Class ID: 5, Class Name: walking\n"
     ]
    }
   ],
   "source": [
    "print(\"Dataset Classes:\")\n",
    "for class_id, class_name in dataset.class_mapping.items():\n",
    "    print(f\"Class ID: {class_id}, Class Name: {class_name}\")"
   ]
  },
  {
   "cell_type": "code",
   "execution_count": 7,
   "id": "9e48a17f-deaa-47ea-a4c3-0d05223e35aa",
   "metadata": {},
   "outputs": [],
   "source": [
    "import wandb"
   ]
  },
  {
   "cell_type": "code",
   "execution_count": 8,
   "id": "a91db4e1-7265-4a4d-b112-d43c7533fca2",
   "metadata": {},
   "outputs": [],
   "source": [
    "def train_nn(model, train_loader, criterion, optimizer, device):\n",
    "    \"\"\"Train the LSTM model for one epoch\"\"\"\n",
    "    model.train()\n",
    "    running_loss = 0.0\n",
    "    correct_labels = 0\n",
    "    total_labels = 0\n",
    "\n",
    "    for inputs, labels in train_loader:\n",
    "        inputs = inputs.view(-1, 45, 1, height, width).to(\"cuda\")\n",
    "        inputs, labels = inputs.to(device), labels.to(device)\n",
    "        \n",
    "        optimizer.zero_grad()\n",
    "        outputs = model(inputs)  # Get outputs for the full sequence\n",
    "        \n",
    "        # Only use the last time step's output for classification\n",
    "        loss = criterion(outputs, labels)  # Use the last timestep output\n",
    "        loss.backward()\n",
    "        optimizer.step()\n",
    "\n",
    "        running_loss += loss.item()\n",
    "\n",
    "        # Compute accuracy for the last time step\n",
    "        _, predicted_labels = torch.max(outputs, dim=1)\n",
    "        correct_labels += (predicted_labels == labels).sum().item()\n",
    "        total_labels += labels.size(0)\n",
    "\n",
    "    avg_loss = running_loss / len(train_loader)\n",
    "    accuracy = correct_labels / total_labels\n",
    "    return avg_loss, accuracy\n",
    "\n",
    "def evaluate_nn(model, eval_loader, criterion, device):\n",
    "    \"\"\"Evaluate the LSTM model\"\"\"\n",
    "    model.eval()\n",
    "    running_loss = 0.0\n",
    "    correct_labels = 0\n",
    "    total_labels = 0\n",
    "\n",
    "    with torch.no_grad():\n",
    "        for inputs, labels in eval_loader:\n",
    "            inputs = inputs.view(-1, 45, 1, height, width).to(\"cuda\")\n",
    "            inputs, labels = inputs.to(device), labels.to(device)\n",
    "            outputs = model(inputs)  # Get outputs for the full sequence\n",
    "            \n",
    "            loss = criterion(outputs, labels)  # Use the last timestep output\n",
    "            running_loss += loss.item()\n",
    "\n",
    "            # Compute accuracy for the last time step\n",
    "            _, predicted_labels = torch.max(outputs, dim=1)\n",
    "            correct_labels += (predicted_labels == labels).sum().item()\n",
    "            total_labels += labels.size(0)\n",
    "\n",
    "    avg_loss = running_loss / len(eval_loader)\n",
    "    accuracy = correct_labels / total_labels\n",
    "    return avg_loss, accuracy\n",
    "\n",
    "def run_training(model, train_loader, eval_loader, criterion, device, num_epochs, learning_rate=0.001, step_size=5, gamma=0.5, project_name='lstm_training'):\n",
    "    \"\"\"Train and evaluate the LSTM model for a given number of epochs with W&B logging\"\"\"\n",
    "    # Initialize W&B logging\n",
    "    wandb.init(project=project_name, config={\n",
    "        \"learning_rate\": learning_rate,\n",
    "        \"num_epochs\": num_epochs,\n",
    "        \"step_size\": step_size,\n",
    "        \"gamma\": gamma,\n",
    "        \"optimizer\": \"Adam\",\n",
    "    },\n",
    "    )\n",
    "    config = wandb.config\n",
    "\n",
    "    optimizer = optim.Adam(model.parameters(), lr=learning_rate)  # Adam optimizer\n",
    "    scheduler = StepLR(optimizer, step_size=step_size, gamma=gamma)  # Learning rate scheduler\n",
    "    \n",
    "    train_losses = []\n",
    "    eval_losses = []\n",
    "    train_accuracies = []\n",
    "    eval_accuracies = []\n",
    "    learning_rates = []\n",
    "\n",
    "    for epoch in tqdm(range(num_epochs)):\n",
    "        # Train for one epoch\n",
    "        train_loss, train_accuracy = train_nn(model, train_loader, criterion, optimizer, device)\n",
    "        # Evaluate after each epoch\n",
    "        eval_loss, eval_accuracy = evaluate_nn(model, eval_loader, criterion, device)\n",
    "\n",
    "        # Get current learning rate\n",
    "        current_lr = scheduler.get_last_lr()[0]\n",
    "\n",
    "        # Record the metrics\n",
    "        train_losses.append(train_loss)\n",
    "        eval_losses.append(eval_loss)\n",
    "        train_accuracies.append(train_accuracy)\n",
    "        eval_accuracies.append(eval_accuracy)\n",
    "        learning_rates.append(current_lr)\n",
    "\n",
    "        # Log metrics to W&B\n",
    "        wandb.log({\n",
    "            \"epoch\": epoch + 1,\n",
    "            \"train_loss\": train_loss,\n",
    "            \"train_accuracy\": train_accuracy,\n",
    "            \"eval_loss\": eval_loss,\n",
    "            \"eval_accuracy\": eval_accuracy,\n",
    "            \"learning_rate\": current_lr\n",
    "        })\n",
    "\n",
    "        # Print epoch statistics\n",
    "        print(f\"Epoch {epoch+1}/{num_epochs}\")\n",
    "        print(f\"Train Loss: {train_loss:.4f}, Train Accuracy: {train_accuracy:.4f}\")\n",
    "        print(f\"Eval Loss: {eval_loss:.4f}, Eval Accuracy: {eval_accuracy:.4f}\")\n",
    "        print(f\"Learning Rate: {current_lr:.6f}\")\n",
    "        \n",
    "        # Step the learning rate scheduler\n",
    "        scheduler.step()\n",
    "\n",
    "    # Finish W&B run\n",
    "    wandb.finish()\n",
    "\n",
    "    return model, train_losses, train_accuracies, eval_losses, eval_accuracies, learning_rates"
   ]
  },
  {
   "cell_type": "markdown",
   "id": "7a028d23-bdf0-4a74-a051-c35c3e688bca",
   "metadata": {},
   "source": [
    "### ConvLSTM"
   ]
  },
  {
   "cell_type": "code",
   "execution_count": 9,
   "id": "00e9a97b-da4d-4811-b01a-bda18666ab01",
   "metadata": {},
   "outputs": [],
   "source": [
    "class ConvLSTMCell(nn.Module):\n",
    "    def __init__(self, input_channels, hidden_channels, kernel_size, bias=True):\n",
    "        super(ConvLSTMCell, self).__init__()\n",
    "        self.input_channels = input_channels\n",
    "        self.hidden_channels = hidden_channels\n",
    "        self.kernel_size = kernel_size\n",
    "        self.padding = kernel_size // 2\n",
    "        self.bias = bias\n",
    "\n",
    "        # Gates: i, f, o, g\n",
    "        self.conv = nn.Conv2d(\n",
    "            input_channels + hidden_channels, \n",
    "            4 * hidden_channels, \n",
    "            kernel_size, \n",
    "            padding=self.padding, \n",
    "            bias=self.bias\n",
    "        )\n",
    "\n",
    "    def forward(self, x, hidden):\n",
    "        h_prev, c_prev = hidden\n",
    "\n",
    "        # Concatenate along channel dimension\n",
    "        combined = torch.cat([x, h_prev], dim=1)\n",
    "        conv_output = self.conv(combined)\n",
    "\n",
    "        # Split into gates\n",
    "        i, f, o, g = torch.split(conv_output, self.hidden_channels, dim=1)\n",
    "        i = torch.sigmoid(i)\n",
    "        f = torch.sigmoid(f)\n",
    "        o = torch.sigmoid(o)\n",
    "        g = torch.tanh(g)\n",
    "\n",
    "        # Update cell state and hidden state\n",
    "        c_next = f * c_prev + i * g\n",
    "        h_next = o * torch.tanh(c_next)\n",
    "\n",
    "        return h_next, c_next\n",
    "\n",
    "    def init_hidden(self, batch_size, height, width):\n",
    "        h = torch.zeros(batch_size, self.hidden_channels, height, width, device=self.conv.weight.device)\n",
    "        c = torch.zeros(batch_size, self.hidden_channels, height, width, device=self.conv.weight.device)\n",
    "        return h, c"
   ]
  },
  {
   "cell_type": "code",
   "execution_count": 10,
   "id": "56be0abf-98ea-43e1-9b56-0c164fcbabf2",
   "metadata": {},
   "outputs": [],
   "source": [
    "class ConvLSTM(nn.Module):\n",
    "    def __init__(self, input_channels, hidden_channels, kernel_size, num_layers, num_classes, height, width, bias=True):\n",
    "        super(ConvLSTM, self).__init__()\n",
    "        self.num_layers = num_layers\n",
    "        self.hidden_channels = hidden_channels\n",
    "        self.height = height\n",
    "        self.width = width\n",
    "\n",
    "        # ConvLSTM layers\n",
    "        self.layers = nn.ModuleList([\n",
    "            ConvLSTMCell(\n",
    "                input_channels=input_channels if i == 0 else hidden_channels[i - 1],\n",
    "                hidden_channels=hidden_channels[i],\n",
    "                kernel_size=kernel_size,\n",
    "                bias=bias\n",
    "            ) for i in range(num_layers)\n",
    "        ])\n",
    "\n",
    "        # Fully connected layer for classification\n",
    "        self.fc = nn.Linear(hidden_channels[-1] * height * width, num_classes)\n",
    "\n",
    "    def forward(self, x):\n",
    "        \"\"\"\n",
    "        x: [batch_size, sequence_length, channels, height, width]\n",
    "        Returns logits for classification.\n",
    "        \"\"\"\n",
    "        # print(x.shape)\n",
    "        batch_size, seq_len, _, height, width = x.size()\n",
    "        assert height == self.height and width == self.width, \"Input size mismatch with initialized height and width.\"\n",
    "\n",
    "        # Initialize hidden states for all layers\n",
    "        hidden_states = [layer.init_hidden(batch_size, height, width) for layer in self.layers]\n",
    "\n",
    "        # Process sequence through ConvLSTM layers\n",
    "        for t in range(seq_len):\n",
    "            current_input = x[:, t]\n",
    "            for l, layer in enumerate(self.layers):\n",
    "                hidden_states[l] = layer(current_input, hidden_states[l])\n",
    "                current_input = hidden_states[l][0]  # Use the hidden state (h_t)\n",
    "\n",
    "        # Last layer's hidden state at the last time step\n",
    "        last_hidden_state = hidden_states[-1][0]  # Shape: [batch_size, hidden_channels[-1], height, width]\n",
    "\n",
    "        # Flatten and classify\n",
    "        last_hidden_state_flat = last_hidden_state.view(batch_size, -1)  # Flatten: [batch_size, hidden_channels[-1] * height * width]\n",
    "        logits = self.fc(last_hidden_state_flat)  # [batch_size, num_classes]\n",
    "        return logits"
   ]
  },
  {
   "cell_type": "code",
   "execution_count": 11,
   "id": "3df4aff1-b9f2-42a9-adb8-910c2bdac0a7",
   "metadata": {},
   "outputs": [],
   "source": [
    "# Initialize ConvLSTM\n",
    "input_channels = 1  # Grayscale images\n",
    "hidden_channels = [64, 128]  # Two layers with 64 and 128 hidden channels\n",
    "kernel_size = 3\n",
    "num_layers = len(hidden_channels)\n",
    "num_classes=6\n",
    "height=64\n",
    "width=64\n",
    "\n",
    "model = ConvLSTM(\n",
    "    input_channels=input_channels,\n",
    "    hidden_channels=hidden_channels,\n",
    "    kernel_size=kernel_size,\n",
    "    num_layers=num_layers,\n",
    "    num_classes=num_classes,\n",
    "    height=height,\n",
    "    width=width\n",
    ").to(\"cuda\")"
   ]
  },
  {
   "cell_type": "code",
   "execution_count": 12,
   "id": "3ac156e7-c2ed-4af5-9b62-87729e7adc81",
   "metadata": {},
   "outputs": [
    {
     "data": {
      "text/plain": [
       "ConvLSTM(\n",
       "  (layers): ModuleList(\n",
       "    (0): ConvLSTMCell(\n",
       "      (conv): Conv2d(65, 256, kernel_size=(3, 3), stride=(1, 1), padding=(1, 1))\n",
       "    )\n",
       "    (1): ConvLSTMCell(\n",
       "      (conv): Conv2d(192, 512, kernel_size=(3, 3), stride=(1, 1), padding=(1, 1))\n",
       "    )\n",
       "  )\n",
       "  (fc): Linear(in_features=524288, out_features=6, bias=True)\n",
       ")"
      ]
     },
     "execution_count": 12,
     "metadata": {},
     "output_type": "execute_result"
    }
   ],
   "source": [
    "model"
   ]
  },
  {
   "cell_type": "code",
   "execution_count": 13,
   "id": "f6d695b1-d066-4a76-9e5e-69d721121fd1",
   "metadata": {},
   "outputs": [],
   "source": [
    "criterion = nn.CrossEntropyLoss()\n",
    "optimizer = optim.Adam(model.parameters(), lr=1e-3)"
   ]
  },
  {
   "cell_type": "code",
   "execution_count": 14,
   "id": "fe64d2fc-3ce8-4668-acb3-e130df7a6fdf",
   "metadata": {},
   "outputs": [],
   "source": [
    "device = torch.device(\"cuda\" if torch.cuda.is_available() else \"cpu\")"
   ]
  },
  {
   "cell_type": "code",
   "execution_count": 15,
   "id": "7df0d7fc-9dde-445c-a6d5-f40373677176",
   "metadata": {},
   "outputs": [
    {
     "name": "stderr",
     "output_type": "stream",
     "text": [
      "\u001b[34m\u001b[1mwandb\u001b[0m: Using wandb-core as the SDK backend.  Please refer to https://wandb.me/wandb-core for more information.\n",
      "\u001b[34m\u001b[1mwandb\u001b[0m: Currently logged in as: \u001b[33mahmadjaved97\u001b[0m. Use \u001b[1m`wandb login --relogin`\u001b[0m to force relogin\n"
     ]
    },
    {
     "data": {
      "text/html": [
       "Tracking run with wandb version 0.18.7"
      ],
      "text/plain": [
       "<IPython.core.display.HTML object>"
      ]
     },
     "metadata": {},
     "output_type": "display_data"
    },
    {
     "data": {
      "text/html": [
       "Run data is saved locally in <code>/home/user/javeda1/MA-INF-4308-Lab-Vision-Systems/Assignment-4/wandb/run-20241129_020119-03puf4lb</code>"
      ],
      "text/plain": [
       "<IPython.core.display.HTML object>"
      ]
     },
     "metadata": {},
     "output_type": "display_data"
    },
    {
     "data": {
      "text/html": [
       "Syncing run <strong><a href='https://wandb.ai/ahmadjaved97/convlstm_training/runs/03puf4lb' target=\"_blank\">devout-wind-6</a></strong> to <a href='https://wandb.ai/ahmadjaved97/convlstm_training' target=\"_blank\">Weights & Biases</a> (<a href='https://wandb.me/developer-guide' target=\"_blank\">docs</a>)<br/>"
      ],
      "text/plain": [
       "<IPython.core.display.HTML object>"
      ]
     },
     "metadata": {},
     "output_type": "display_data"
    },
    {
     "data": {
      "text/html": [
       " View project at <a href='https://wandb.ai/ahmadjaved97/convlstm_training' target=\"_blank\">https://wandb.ai/ahmadjaved97/convlstm_training</a>"
      ],
      "text/plain": [
       "<IPython.core.display.HTML object>"
      ]
     },
     "metadata": {},
     "output_type": "display_data"
    },
    {
     "data": {
      "text/html": [
       " View run at <a href='https://wandb.ai/ahmadjaved97/convlstm_training/runs/03puf4lb' target=\"_blank\">https://wandb.ai/ahmadjaved97/convlstm_training/runs/03puf4lb</a>"
      ],
      "text/plain": [
       "<IPython.core.display.HTML object>"
      ]
     },
     "metadata": {},
     "output_type": "display_data"
    },
    {
     "name": "stderr",
     "output_type": "stream",
     "text": [
      "  2%|█▍                                                      | 1/40 [00:43<28:29, 43.83s/it]"
     ]
    },
    {
     "name": "stdout",
     "output_type": "stream",
     "text": [
      "Epoch 1/40\n",
      "Train Loss: 1.9241, Train Accuracy: 0.2109\n",
      "Eval Loss: 1.5918, Eval Accuracy: 0.2917\n",
      "Learning Rate: 0.001000\n"
     ]
    },
    {
     "name": "stderr",
     "output_type": "stream",
     "text": [
      "  5%|██▊                                                     | 2/40 [01:27<27:46, 43.86s/it]"
     ]
    },
    {
     "name": "stdout",
     "output_type": "stream",
     "text": [
      "Epoch 2/40\n",
      "Train Loss: 1.6205, Train Accuracy: 0.3361\n",
      "Eval Loss: 1.5339, Eval Accuracy: 0.3500\n",
      "Learning Rate: 0.001000\n"
     ]
    },
    {
     "name": "stderr",
     "output_type": "stream",
     "text": [
      "  8%|████▏                                                   | 3/40 [02:11<27:06, 43.96s/it]"
     ]
    },
    {
     "name": "stdout",
     "output_type": "stream",
     "text": [
      "Epoch 3/40\n",
      "Train Loss: 1.4784, Train Accuracy: 0.4029\n",
      "Eval Loss: 1.4861, Eval Accuracy: 0.4083\n",
      "Learning Rate: 0.001000\n"
     ]
    },
    {
     "name": "stderr",
     "output_type": "stream",
     "text": [
      " 10%|█████▌                                                  | 4/40 [02:55<26:25, 44.04s/it]"
     ]
    },
    {
     "name": "stdout",
     "output_type": "stream",
     "text": [
      "Epoch 4/40\n",
      "Train Loss: 1.2831, Train Accuracy: 0.4802\n",
      "Eval Loss: 1.8770, Eval Accuracy: 0.4083\n",
      "Learning Rate: 0.001000\n"
     ]
    },
    {
     "name": "stderr",
     "output_type": "stream",
     "text": [
      " 12%|███████                                                 | 5/40 [03:40<25:43, 44.10s/it]"
     ]
    },
    {
     "name": "stdout",
     "output_type": "stream",
     "text": [
      "Epoch 5/40\n",
      "Train Loss: 0.9751, Train Accuracy: 0.6096\n",
      "Eval Loss: 1.2064, Eval Accuracy: 0.5167\n",
      "Learning Rate: 0.001000\n"
     ]
    },
    {
     "name": "stderr",
     "output_type": "stream",
     "text": [
      " 15%|████████▍                                               | 6/40 [04:24<25:01, 44.15s/it]"
     ]
    },
    {
     "name": "stdout",
     "output_type": "stream",
     "text": [
      "Epoch 6/40\n",
      "Train Loss: 0.5523, Train Accuracy: 0.7912\n",
      "Eval Loss: 1.2938, Eval Accuracy: 0.5250\n",
      "Learning Rate: 0.000500\n"
     ]
    },
    {
     "name": "stderr",
     "output_type": "stream",
     "text": [
      " 18%|█████████▊                                              | 7/40 [05:08<24:17, 44.17s/it]"
     ]
    },
    {
     "name": "stdout",
     "output_type": "stream",
     "text": [
      "Epoch 7/40\n",
      "Train Loss: 0.3584, Train Accuracy: 0.8789\n",
      "Eval Loss: 1.4441, Eval Accuracy: 0.5167\n",
      "Learning Rate: 0.000500\n"
     ]
    },
    {
     "name": "stderr",
     "output_type": "stream",
     "text": [
      " 20%|███████████▏                                            | 8/40 [05:52<23:34, 44.19s/it]"
     ]
    },
    {
     "name": "stdout",
     "output_type": "stream",
     "text": [
      "Epoch 8/40\n",
      "Train Loss: 0.1671, Train Accuracy: 0.9541\n",
      "Eval Loss: 1.8865, Eval Accuracy: 0.5333\n",
      "Learning Rate: 0.000500\n"
     ]
    },
    {
     "name": "stderr",
     "output_type": "stream",
     "text": [
      " 22%|████████████▌                                           | 9/40 [06:37<22:50, 44.20s/it]"
     ]
    },
    {
     "name": "stdout",
     "output_type": "stream",
     "text": [
      "Epoch 9/40\n",
      "Train Loss: 0.1154, Train Accuracy: 0.9624\n",
      "Eval Loss: 1.7071, Eval Accuracy: 0.5000\n",
      "Learning Rate: 0.000500\n"
     ]
    },
    {
     "name": "stderr",
     "output_type": "stream",
     "text": [
      " 25%|█████████████▊                                         | 10/40 [07:21<22:06, 44.21s/it]"
     ]
    },
    {
     "name": "stdout",
     "output_type": "stream",
     "text": [
      "Epoch 10/40\n",
      "Train Loss: 0.0572, Train Accuracy: 0.9833\n",
      "Eval Loss: 2.0636, Eval Accuracy: 0.5333\n",
      "Learning Rate: 0.000500\n"
     ]
    },
    {
     "name": "stderr",
     "output_type": "stream",
     "text": [
      " 28%|███████████████▏                                       | 11/40 [08:05<21:22, 44.24s/it]"
     ]
    },
    {
     "name": "stdout",
     "output_type": "stream",
     "text": [
      "Epoch 11/40\n",
      "Train Loss: 0.0216, Train Accuracy: 0.9958\n",
      "Eval Loss: 2.2162, Eval Accuracy: 0.5167\n",
      "Learning Rate: 0.000250\n"
     ]
    },
    {
     "name": "stderr",
     "output_type": "stream",
     "text": [
      " 30%|████████████████▌                                      | 12/40 [08:49<20:38, 44.23s/it]"
     ]
    },
    {
     "name": "stdout",
     "output_type": "stream",
     "text": [
      "Epoch 12/40\n",
      "Train Loss: 0.0159, Train Accuracy: 0.9979\n",
      "Eval Loss: 2.3125, Eval Accuracy: 0.5667\n",
      "Learning Rate: 0.000250\n"
     ]
    },
    {
     "name": "stderr",
     "output_type": "stream",
     "text": [
      " 32%|█████████████████▉                                     | 13/40 [09:34<19:54, 44.25s/it]"
     ]
    },
    {
     "name": "stdout",
     "output_type": "stream",
     "text": [
      "Epoch 13/40\n",
      "Train Loss: 0.0197, Train Accuracy: 0.9979\n",
      "Eval Loss: 2.4941, Eval Accuracy: 0.5083\n",
      "Learning Rate: 0.000250\n"
     ]
    },
    {
     "name": "stderr",
     "output_type": "stream",
     "text": [
      " 35%|███████████████████▎                                   | 14/40 [10:18<19:10, 44.26s/it]"
     ]
    },
    {
     "name": "stdout",
     "output_type": "stream",
     "text": [
      "Epoch 14/40\n",
      "Train Loss: 0.0040, Train Accuracy: 1.0000\n",
      "Eval Loss: 2.5099, Eval Accuracy: 0.5083\n",
      "Learning Rate: 0.000250\n"
     ]
    },
    {
     "name": "stderr",
     "output_type": "stream",
     "text": [
      " 38%|████████████████████▋                                  | 15/40 [11:02<18:26, 44.27s/it]"
     ]
    },
    {
     "name": "stdout",
     "output_type": "stream",
     "text": [
      "Epoch 15/40\n",
      "Train Loss: 0.0022, Train Accuracy: 1.0000\n",
      "Eval Loss: 2.7113, Eval Accuracy: 0.5083\n",
      "Learning Rate: 0.000250\n"
     ]
    },
    {
     "name": "stderr",
     "output_type": "stream",
     "text": [
      " 40%|██████████████████████                                 | 16/40 [11:46<17:42, 44.26s/it]"
     ]
    },
    {
     "name": "stdout",
     "output_type": "stream",
     "text": [
      "Epoch 16/40\n",
      "Train Loss: 0.0018, Train Accuracy: 1.0000\n",
      "Eval Loss: 2.7297, Eval Accuracy: 0.5083\n",
      "Learning Rate: 0.000125\n"
     ]
    },
    {
     "name": "stderr",
     "output_type": "stream",
     "text": [
      " 42%|███████████████████████▍                               | 17/40 [12:31<16:58, 44.26s/it]"
     ]
    },
    {
     "name": "stdout",
     "output_type": "stream",
     "text": [
      "Epoch 17/40\n",
      "Train Loss: 0.0017, Train Accuracy: 1.0000\n",
      "Eval Loss: 2.9159, Eval Accuracy: 0.5250\n",
      "Learning Rate: 0.000125\n"
     ]
    },
    {
     "name": "stderr",
     "output_type": "stream",
     "text": [
      " 45%|████████████████████████▊                              | 18/40 [13:15<16:13, 44.26s/it]"
     ]
    },
    {
     "name": "stdout",
     "output_type": "stream",
     "text": [
      "Epoch 18/40\n",
      "Train Loss: 0.0013, Train Accuracy: 1.0000\n",
      "Eval Loss: 2.9464, Eval Accuracy: 0.4917\n",
      "Learning Rate: 0.000125\n"
     ]
    },
    {
     "name": "stderr",
     "output_type": "stream",
     "text": [
      " 48%|██████████████████████████▏                            | 19/40 [13:59<15:29, 44.25s/it]"
     ]
    },
    {
     "name": "stdout",
     "output_type": "stream",
     "text": [
      "Epoch 19/40\n",
      "Train Loss: 0.0011, Train Accuracy: 1.0000\n",
      "Eval Loss: 2.9424, Eval Accuracy: 0.5167\n",
      "Learning Rate: 0.000125\n"
     ]
    },
    {
     "name": "stderr",
     "output_type": "stream",
     "text": [
      " 50%|███████████████████████████▌                           | 20/40 [14:43<14:45, 44.25s/it]"
     ]
    },
    {
     "name": "stdout",
     "output_type": "stream",
     "text": [
      "Epoch 20/40\n",
      "Train Loss: 0.0011, Train Accuracy: 1.0000\n",
      "Eval Loss: 3.0729, Eval Accuracy: 0.5167\n",
      "Learning Rate: 0.000125\n"
     ]
    },
    {
     "name": "stderr",
     "output_type": "stream",
     "text": [
      " 52%|████████████████████████████▉                          | 21/40 [15:28<14:00, 44.26s/it]"
     ]
    },
    {
     "name": "stdout",
     "output_type": "stream",
     "text": [
      "Epoch 21/40\n",
      "Train Loss: 0.0009, Train Accuracy: 1.0000\n",
      "Eval Loss: 3.0518, Eval Accuracy: 0.5083\n",
      "Learning Rate: 0.000063\n"
     ]
    },
    {
     "name": "stderr",
     "output_type": "stream",
     "text": [
      " 55%|██████████████████████████████▎                        | 22/40 [16:12<13:16, 44.26s/it]"
     ]
    },
    {
     "name": "stdout",
     "output_type": "stream",
     "text": [
      "Epoch 22/40\n",
      "Train Loss: 0.0010, Train Accuracy: 1.0000\n",
      "Eval Loss: 3.0578, Eval Accuracy: 0.5000\n",
      "Learning Rate: 0.000063\n"
     ]
    },
    {
     "name": "stderr",
     "output_type": "stream",
     "text": [
      " 57%|███████████████████████████████▌                       | 23/40 [16:56<12:32, 44.26s/it]"
     ]
    },
    {
     "name": "stdout",
     "output_type": "stream",
     "text": [
      "Epoch 23/40\n",
      "Train Loss: 0.0009, Train Accuracy: 1.0000\n",
      "Eval Loss: 2.9121, Eval Accuracy: 0.5083\n",
      "Learning Rate: 0.000063\n"
     ]
    },
    {
     "name": "stderr",
     "output_type": "stream",
     "text": [
      " 60%|█████████████████████████████████                      | 24/40 [17:40<11:48, 44.26s/it]"
     ]
    },
    {
     "name": "stdout",
     "output_type": "stream",
     "text": [
      "Epoch 24/40\n",
      "Train Loss: 0.0008, Train Accuracy: 1.0000\n",
      "Eval Loss: 3.0837, Eval Accuracy: 0.5000\n",
      "Learning Rate: 0.000063\n"
     ]
    },
    {
     "name": "stderr",
     "output_type": "stream",
     "text": [
      " 62%|██████████████████████████████████▍                    | 25/40 [18:25<11:03, 44.25s/it]"
     ]
    },
    {
     "name": "stdout",
     "output_type": "stream",
     "text": [
      "Epoch 25/40\n",
      "Train Loss: 0.0008, Train Accuracy: 1.0000\n",
      "Eval Loss: 3.0778, Eval Accuracy: 0.5167\n",
      "Learning Rate: 0.000063\n"
     ]
    },
    {
     "name": "stderr",
     "output_type": "stream",
     "text": [
      " 65%|███████████████████████████████████▊                   | 26/40 [19:09<10:19, 44.23s/it]"
     ]
    },
    {
     "name": "stdout",
     "output_type": "stream",
     "text": [
      "Epoch 26/40\n",
      "Train Loss: 0.0008, Train Accuracy: 1.0000\n",
      "Eval Loss: 3.1352, Eval Accuracy: 0.5167\n",
      "Learning Rate: 0.000031\n"
     ]
    },
    {
     "name": "stderr",
     "output_type": "stream",
     "text": [
      " 68%|█████████████████████████████████████▏                 | 27/40 [19:53<09:35, 44.25s/it]"
     ]
    },
    {
     "name": "stdout",
     "output_type": "stream",
     "text": [
      "Epoch 27/40\n",
      "Train Loss: 0.0007, Train Accuracy: 1.0000\n",
      "Eval Loss: 3.1834, Eval Accuracy: 0.5083\n",
      "Learning Rate: 0.000031\n"
     ]
    },
    {
     "name": "stderr",
     "output_type": "stream",
     "text": [
      " 70%|██████████████████████████████████████▌                | 28/40 [20:37<08:50, 44.24s/it]"
     ]
    },
    {
     "name": "stdout",
     "output_type": "stream",
     "text": [
      "Epoch 28/40\n",
      "Train Loss: 0.0007, Train Accuracy: 1.0000\n",
      "Eval Loss: 3.1539, Eval Accuracy: 0.5083\n",
      "Learning Rate: 0.000031\n"
     ]
    },
    {
     "name": "stderr",
     "output_type": "stream",
     "text": [
      " 72%|███████████████████████████████████████▉               | 29/40 [21:22<08:06, 44.26s/it]"
     ]
    },
    {
     "name": "stdout",
     "output_type": "stream",
     "text": [
      "Epoch 29/40\n",
      "Train Loss: 0.0007, Train Accuracy: 1.0000\n",
      "Eval Loss: 3.1439, Eval Accuracy: 0.5083\n",
      "Learning Rate: 0.000031\n"
     ]
    },
    {
     "name": "stderr",
     "output_type": "stream",
     "text": [
      " 75%|█████████████████████████████████████████▎             | 30/40 [22:06<07:22, 44.26s/it]"
     ]
    },
    {
     "name": "stdout",
     "output_type": "stream",
     "text": [
      "Epoch 30/40\n",
      "Train Loss: 0.0007, Train Accuracy: 1.0000\n",
      "Eval Loss: 3.1934, Eval Accuracy: 0.5000\n",
      "Learning Rate: 0.000031\n"
     ]
    },
    {
     "name": "stderr",
     "output_type": "stream",
     "text": [
      " 78%|██████████████████████████████████████████▋            | 31/40 [22:50<06:38, 44.24s/it]"
     ]
    },
    {
     "name": "stdout",
     "output_type": "stream",
     "text": [
      "Epoch 31/40\n",
      "Train Loss: 0.0006, Train Accuracy: 1.0000\n",
      "Eval Loss: 3.2377, Eval Accuracy: 0.5083\n",
      "Learning Rate: 0.000016\n"
     ]
    },
    {
     "name": "stderr",
     "output_type": "stream",
     "text": [
      " 80%|████████████████████████████████████████████           | 32/40 [23:34<05:53, 44.23s/it]"
     ]
    },
    {
     "name": "stdout",
     "output_type": "stream",
     "text": [
      "Epoch 32/40\n",
      "Train Loss: 0.0006, Train Accuracy: 1.0000\n",
      "Eval Loss: 3.1393, Eval Accuracy: 0.5333\n",
      "Learning Rate: 0.000016\n"
     ]
    },
    {
     "name": "stderr",
     "output_type": "stream",
     "text": [
      " 82%|█████████████████████████████████████████████▍         | 33/40 [24:19<05:09, 44.25s/it]"
     ]
    },
    {
     "name": "stdout",
     "output_type": "stream",
     "text": [
      "Epoch 33/40\n",
      "Train Loss: 0.0006, Train Accuracy: 1.0000\n",
      "Eval Loss: 3.0903, Eval Accuracy: 0.5167\n",
      "Learning Rate: 0.000016\n"
     ]
    },
    {
     "name": "stderr",
     "output_type": "stream",
     "text": [
      " 85%|██████████████████████████████████████████████▊        | 34/40 [25:03<04:25, 44.26s/it]"
     ]
    },
    {
     "name": "stdout",
     "output_type": "stream",
     "text": [
      "Epoch 34/40\n",
      "Train Loss: 0.0006, Train Accuracy: 1.0000\n",
      "Eval Loss: 3.1103, Eval Accuracy: 0.5250\n",
      "Learning Rate: 0.000016\n"
     ]
    },
    {
     "name": "stderr",
     "output_type": "stream",
     "text": [
      " 88%|████████████████████████████████████████████████▏      | 35/40 [25:47<03:41, 44.25s/it]"
     ]
    },
    {
     "name": "stdout",
     "output_type": "stream",
     "text": [
      "Epoch 35/40\n",
      "Train Loss: 0.0005, Train Accuracy: 1.0000\n",
      "Eval Loss: 3.1236, Eval Accuracy: 0.5167\n",
      "Learning Rate: 0.000016\n"
     ]
    },
    {
     "name": "stderr",
     "output_type": "stream",
     "text": [
      " 90%|█████████████████████████████████████████████████▌     | 36/40 [26:31<02:56, 44.25s/it]"
     ]
    },
    {
     "name": "stdout",
     "output_type": "stream",
     "text": [
      "Epoch 36/40\n",
      "Train Loss: 0.0006, Train Accuracy: 1.0000\n",
      "Eval Loss: 3.2621, Eval Accuracy: 0.5167\n",
      "Learning Rate: 0.000008\n"
     ]
    },
    {
     "name": "stderr",
     "output_type": "stream",
     "text": [
      " 92%|██████████████████████████████████████████████████▉    | 37/40 [27:16<02:12, 44.27s/it]"
     ]
    },
    {
     "name": "stdout",
     "output_type": "stream",
     "text": [
      "Epoch 37/40\n",
      "Train Loss: 0.0006, Train Accuracy: 1.0000\n",
      "Eval Loss: 3.1321, Eval Accuracy: 0.5167\n",
      "Learning Rate: 0.000008\n"
     ]
    },
    {
     "name": "stderr",
     "output_type": "stream",
     "text": [
      " 95%|████████████████████████████████████████████████████▎  | 38/40 [28:00<01:28, 44.27s/it]"
     ]
    },
    {
     "name": "stdout",
     "output_type": "stream",
     "text": [
      "Epoch 38/40\n",
      "Train Loss: 0.0006, Train Accuracy: 1.0000\n",
      "Eval Loss: 3.2780, Eval Accuracy: 0.5083\n",
      "Learning Rate: 0.000008\n"
     ]
    },
    {
     "name": "stderr",
     "output_type": "stream",
     "text": [
      " 98%|█████████████████████████████████████████████████████▋ | 39/40 [28:44<00:44, 44.26s/it]"
     ]
    },
    {
     "name": "stdout",
     "output_type": "stream",
     "text": [
      "Epoch 39/40\n",
      "Train Loss: 0.0006, Train Accuracy: 1.0000\n",
      "Eval Loss: 3.1349, Eval Accuracy: 0.5167\n",
      "Learning Rate: 0.000008\n"
     ]
    },
    {
     "name": "stderr",
     "output_type": "stream",
     "text": [
      "100%|███████████████████████████████████████████████████████| 40/40 [29:28<00:00, 44.22s/it]"
     ]
    },
    {
     "name": "stdout",
     "output_type": "stream",
     "text": [
      "Epoch 40/40\n",
      "Train Loss: 0.0006, Train Accuracy: 1.0000\n",
      "Eval Loss: 3.2023, Eval Accuracy: 0.5167\n",
      "Learning Rate: 0.000008\n"
     ]
    },
    {
     "name": "stderr",
     "output_type": "stream",
     "text": [
      "\n"
     ]
    },
    {
     "data": {
      "text/html": [
       "\n",
       "    <style>\n",
       "        .wandb-row {\n",
       "            display: flex;\n",
       "            flex-direction: row;\n",
       "            flex-wrap: wrap;\n",
       "            justify-content: flex-start;\n",
       "            width: 100%;\n",
       "        }\n",
       "        .wandb-col {\n",
       "            display: flex;\n",
       "            flex-direction: column;\n",
       "            flex-basis: 100%;\n",
       "            flex: 1;\n",
       "            padding: 10px;\n",
       "        }\n",
       "    </style>\n",
       "<div class=\"wandb-row\"><div class=\"wandb-col\"><h3>Run history:</h3><br/><table class=\"wandb\"><tr><td>epoch</td><td>▁▁▁▂▂▂▂▂▂▃▃▃▃▃▄▄▄▄▄▄▅▅▅▅▅▅▆▆▆▆▆▇▇▇▇▇▇███</td></tr><tr><td>eval_accuracy</td><td>▁▂▄▄▇▇▇▇▆▇▇█▇▇▇▇▇▆▇▇▇▆▇▆▇▇▇▇▇▆▇▇▇▇▇▇▇▇▇▇</td></tr><tr><td>eval_loss</td><td>▂▂▂▃▁▁▂▃▃▄▄▅▅▅▆▆▇▇▇▇▇▇▇▇▇███████▇▇▇█████</td></tr><tr><td>learning_rate</td><td>█████▄▄▄▄▄▃▃▃▃▃▂▂▂▂▂▁▁▁▁▁▁▁▁▁▁▁▁▁▁▁▁▁▁▁▁</td></tr><tr><td>train_accuracy</td><td>▁▂▃▃▅▆▇█████████████████████████████████</td></tr><tr><td>train_loss</td><td>█▇▆▆▅▃▂▂▁▁▁▁▁▁▁▁▁▁▁▁▁▁▁▁▁▁▁▁▁▁▁▁▁▁▁▁▁▁▁▁</td></tr></table><br/></div><div class=\"wandb-col\"><h3>Run summary:</h3><br/><table class=\"wandb\"><tr><td>epoch</td><td>40</td></tr><tr><td>eval_accuracy</td><td>0.51667</td></tr><tr><td>eval_loss</td><td>3.20229</td></tr><tr><td>learning_rate</td><td>1e-05</td></tr><tr><td>train_accuracy</td><td>1</td></tr><tr><td>train_loss</td><td>0.0006</td></tr></table><br/></div></div>"
      ],
      "text/plain": [
       "<IPython.core.display.HTML object>"
      ]
     },
     "metadata": {},
     "output_type": "display_data"
    },
    {
     "data": {
      "text/html": [
       " View run <strong style=\"color:#cdcd00\">devout-wind-6</strong> at: <a href='https://wandb.ai/ahmadjaved97/convlstm_training/runs/03puf4lb' target=\"_blank\">https://wandb.ai/ahmadjaved97/convlstm_training/runs/03puf4lb</a><br/> View project at: <a href='https://wandb.ai/ahmadjaved97/convlstm_training' target=\"_blank\">https://wandb.ai/ahmadjaved97/convlstm_training</a><br/>Synced 5 W&B file(s), 0 media file(s), 2 artifact file(s) and 0 other file(s)"
      ],
      "text/plain": [
       "<IPython.core.display.HTML object>"
      ]
     },
     "metadata": {},
     "output_type": "display_data"
    },
    {
     "data": {
      "text/html": [
       "Find logs at: <code>./wandb/run-20241129_020119-03puf4lb/logs</code>"
      ],
      "text/plain": [
       "<IPython.core.display.HTML object>"
      ]
     },
     "metadata": {},
     "output_type": "display_data"
    }
   ],
   "source": [
    "# Hyperparameters\n",
    "num_epochs = 40\n",
    "learning_rate = 0.001\n",
    "step_size = 5\n",
    "gamma = 0.5\n",
    "\n",
    "# Run training\n",
    "model, train_losses, train_accuracies, eval_losses, eval_accuracies, learning_rates = run_training(\n",
    "    model, train_loader, val_loader, criterion, device,\n",
    "    num_epochs, learning_rate, step_size, gamma, 'convlstm_training'\n",
    ")"
   ]
  },
  {
   "cell_type": "code",
   "execution_count": 25,
   "id": "3c63846b-9b40-41ca-a8cf-c176f5521c5d",
   "metadata": {},
   "outputs": [
    {
     "name": "stdout",
     "output_type": "stream",
     "text": [
      "Collecting scikit-learn\n",
      "  Downloading scikit_learn-1.3.2-cp38-cp38-manylinux_2_17_x86_64.manylinux2014_x86_64.whl (11.1 MB)\n",
      "\u001b[K     |████████████████████████████████| 11.1 MB 9.4 MB/s eta 0:00:01\n",
      "\u001b[?25hCollecting threadpoolctl>=2.0.0\n",
      "  Downloading threadpoolctl-3.5.0-py3-none-any.whl (18 kB)\n",
      "Requirement already satisfied: numpy<2.0,>=1.17.3 in /home/user/javeda1/venv/lib/python3.8/site-packages (from scikit-learn) (1.24.1)\n",
      "Collecting scipy>=1.5.0\n",
      "  Downloading scipy-1.10.1-cp38-cp38-manylinux_2_17_x86_64.manylinux2014_x86_64.whl (34.5 MB)\n",
      "\u001b[K     |████████████████████████████████| 34.5 MB 11 kB/s /s eta 0:00:01     |███████████████▋                | 16.9 MB 102.0 MB/s eta 0:00:01\n",
      "\u001b[?25hCollecting joblib>=1.1.1\n",
      "  Downloading joblib-1.4.2-py3-none-any.whl (301 kB)\n",
      "\u001b[K     |████████████████████████████████| 301 kB 131.2 MB/s eta 0:00:01\n",
      "\u001b[?25hInstalling collected packages: threadpoolctl, scipy, joblib, scikit-learn\n",
      "Successfully installed joblib-1.4.2 scikit-learn-1.3.2 scipy-1.10.1 threadpoolctl-3.5.0\n"
     ]
    }
   ],
   "source": [
    "!pip install scikit-learn"
   ]
  },
  {
   "cell_type": "code",
   "execution_count": 29,
   "id": "fa89f846-25cd-4278-8cec-66c7334e815c",
   "metadata": {},
   "outputs": [
    {
     "name": "stdout",
     "output_type": "stream",
     "text": [
      "Requirement already satisfied: seaborn in /home/user/javeda1/venv/lib/python3.8/site-packages (0.13.2)\n",
      "Requirement already satisfied: numpy!=1.24.0,>=1.20 in /home/user/javeda1/venv/lib/python3.8/site-packages (from seaborn) (1.24.1)\n",
      "Requirement already satisfied: matplotlib!=3.6.1,>=3.4 in /home/user/javeda1/venv/lib/python3.8/site-packages (from seaborn) (3.7.5)\n",
      "Requirement already satisfied: pandas>=1.2 in /home/user/javeda1/venv/lib/python3.8/site-packages (from seaborn) (2.0.3)\n",
      "Requirement already satisfied: kiwisolver>=1.0.1 in /home/user/javeda1/venv/lib/python3.8/site-packages (from matplotlib!=3.6.1,>=3.4->seaborn) (1.4.7)\n",
      "Requirement already satisfied: pillow>=6.2.0 in /home/user/javeda1/venv/lib/python3.8/site-packages (from matplotlib!=3.6.1,>=3.4->seaborn) (10.2.0)\n",
      "Requirement already satisfied: pyparsing>=2.3.1 in /home/user/javeda1/venv/lib/python3.8/site-packages (from matplotlib!=3.6.1,>=3.4->seaborn) (3.1.4)\n",
      "Requirement already satisfied: python-dateutil>=2.7 in /home/user/javeda1/venv/lib/python3.8/site-packages (from matplotlib!=3.6.1,>=3.4->seaborn) (2.9.0.post0)\n",
      "Requirement already satisfied: contourpy>=1.0.1 in /home/user/javeda1/venv/lib/python3.8/site-packages (from matplotlib!=3.6.1,>=3.4->seaborn) (1.1.1)\n",
      "Requirement already satisfied: cycler>=0.10 in /home/user/javeda1/venv/lib/python3.8/site-packages (from matplotlib!=3.6.1,>=3.4->seaborn) (0.12.1)\n",
      "Requirement already satisfied: packaging>=20.0 in /home/user/javeda1/venv/lib/python3.8/site-packages (from matplotlib!=3.6.1,>=3.4->seaborn) (24.2)\n",
      "Requirement already satisfied: importlib-resources>=3.2.0; python_version < \"3.10\" in /home/user/javeda1/venv/lib/python3.8/site-packages (from matplotlib!=3.6.1,>=3.4->seaborn) (6.4.5)\n",
      "Requirement already satisfied: fonttools>=4.22.0 in /home/user/javeda1/venv/lib/python3.8/site-packages (from matplotlib!=3.6.1,>=3.4->seaborn) (4.55.0)\n",
      "Requirement already satisfied: tzdata>=2022.1 in /home/user/javeda1/venv/lib/python3.8/site-packages (from pandas>=1.2->seaborn) (2024.2)\n",
      "Requirement already satisfied: pytz>=2020.1 in /home/user/javeda1/venv/lib/python3.8/site-packages (from pandas>=1.2->seaborn) (2024.2)\n",
      "Requirement already satisfied: six>=1.5 in /home/user/javeda1/venv/lib/python3.8/site-packages (from python-dateutil>=2.7->matplotlib!=3.6.1,>=3.4->seaborn) (1.16.0)\n",
      "Requirement already satisfied: zipp>=3.1.0; python_version < \"3.10\" in /home/user/javeda1/venv/lib/python3.8/site-packages (from importlib-resources>=3.2.0; python_version < \"3.10\"->matplotlib!=3.6.1,>=3.4->seaborn) (3.20.2)\n"
     ]
    }
   ],
   "source": [
    "!pip install seaborn"
   ]
  },
  {
   "cell_type": "code",
   "execution_count": 30,
   "id": "fd11c302-8010-4a2b-8d18-31dbcdb32c64",
   "metadata": {},
   "outputs": [],
   "source": [
    "from sklearn.metrics import confusion_matrix\n",
    "import seaborn as sns"
   ]
  },
  {
   "cell_type": "code",
   "execution_count": 31,
   "id": "7e5d0c59-13e9-4215-bded-b6023976c09f",
   "metadata": {},
   "outputs": [],
   "source": [
    "def plot_confusion_matrix(y_true, y_pred, label_names, model_name):\n",
    "    \"\"\"\n",
    "    Plots confusion matrix for a given model.\n",
    "\n",
    "    Args:\n",
    "        y_true (numpy.ndarray): True labels.\n",
    "        y_pred (numpy.ndarray): Predicted labels.\n",
    "        label_names (list): List of class names.\n",
    "        model_name (str): The name of the model to display in the plot title.\n",
    "    \"\"\"\n",
    "    cm = confusion_matrix(y_true, y_pred)\n",
    "    plt.figure(figsize=(6, 4))\n",
    "    sns.heatmap(cm, annot=True, fmt='d', cmap='Blues', \n",
    "                xticklabels=label_names, yticklabels=label_names, linewidths=1)\n",
    "    plt.xlabel('Predicted Label')\n",
    "    plt.ylabel('True Label')\n",
    "    plt.title(f'Confusion Matrix for {model_name}')\n",
    "    plt.xticks(rotation=45)\n",
    "    plt.yticks(rotation=0)\n",
    "    plt.tight_layout()\n",
    "    plt.show()\n"
   ]
  },
  {
   "cell_type": "code",
   "execution_count": 32,
   "id": "e674b458-9626-45dd-95d2-aa3eb6e4bbad",
   "metadata": {},
   "outputs": [
    {
     "data": {
      "image/png": "[encoded data removed]",
      "text/plain": [
       "<Figure size 600x400 with 2 Axes>"
      ]
     },
     "metadata": {},
     "output_type": "display_data"
    }
   ],
   "source": [
    "# Function to evaluate model and compute predictions\n",
    "def evaluate_model(model, dataloader, device=\"cuda\"):\n",
    "    model.eval()\n",
    "    all_preds = []\n",
    "    all_labels = []\n",
    "\n",
    "    with torch.no_grad():\n",
    "        for sequences, labels in dataloader:\n",
    "            # Reshape and move to device\n",
    "            sequences = sequences.view(-1, 45, 1, 64, 64).to(device)\n",
    "            labels = labels.to(device)\n",
    "\n",
    "            # Get predictions\n",
    "            outputs = model(sequences)\n",
    "            preds = torch.argmax(outputs, dim=1)\n",
    "\n",
    "            # Store predictions and labels\n",
    "            all_preds.extend(preds.cpu().numpy())\n",
    "            all_labels.extend(labels.cpu().numpy())\n",
    "\n",
    "    return np.array(all_labels), np.array(all_preds)\n",
    "\n",
    "# Use the function to get results\n",
    "y_true, y_pred = evaluate_model(model, val_loader)\n",
    "\n",
    "# Class label names\n",
    "# label_names = [name for _, name in sorted(KTHProcessedDataset.class_mapping.items())]\n",
    "label_names = ['boxing','handclapping', 'handwaving', 'jogging', 'running', 'walking']\n",
    "\n",
    "# Plot confusion matrix\n",
    "plot_confusion_matrix(y_true, y_pred,label_names, model_name=\"ConvLSTM\")"
   ]
  },
  {
   "cell_type": "code",
   "execution_count": null,
   "id": "362a6f34-e47d-456e-bbb0-c1c8bc63e49a",
   "metadata": {},
   "outputs": [],
   "source": []
  }
 ],
 "metadata": {
  "kernelspec": {
   "display_name": "Python 3 (ipykernel)",
   "language": "python",
   "name": "python3"
  },
  "language_info": {
   "codemirror_mode": {
    "name": "ipython",
    "version": 3
   },
   "file_extension": ".py",
   "mimetype": "text/x-python",
   "name": "python",
   "nbconvert_exporter": "python",
   "pygments_lexer": "ipython3",
   "version": "3.8.10"
  }
 },
 "nbformat": 4,
 "nbformat_minor": 5
}
