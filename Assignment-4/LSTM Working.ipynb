{
 "cells": [
  {
   "cell_type": "code",
   "execution_count": 1,
   "id": "df897602-2652-4466-92fb-7ad7b16e4fac",
   "metadata": {},
   "outputs": [],
   "source": [
    "import torch\n",
    "import torch.nn as nn\n",
    "import torch.nn.functional as F\n",
    "from torchvision import transforms\n",
    "import torch.optim as optim\n",
    "from torch.utils.data import Dataset, DataLoader, random_split\n",
    "from torch.optim.lr_scheduler import StepLR\n",
    "import numpy as np\n",
    "import matplotlib.pyplot as plt\n",
    "import os\n",
    "from PIL import Image\n",
    "import random\n",
    "from tqdm import tqdm"
   ]
  },
  {
   "cell_type": "markdown",
   "id": "7eae7960-bfb7-4a9b-9bf4-bddd236ce781",
   "metadata": {},
   "source": [
    "### Data Loader Class\n",
    "\n",
    "Load's the data from the processed frames upto a defined sequence length"
   ]
  },
  {
   "cell_type": "code",
   "execution_count": 2,
   "id": "22e43b88-66ef-4c9d-8354-71a1710a31fa",
   "metadata": {},
   "outputs": [],
   "source": [
    "class KTHProcessedDataset(Dataset):\n",
    "    def __init__(self, root_dir, sequence_length, transform=None):\n",
    "        self.root_dir = root_dir\n",
    "        self.sequence_length = sequence_length\n",
    "        self.transform = transform\n",
    "        self.data = []\n",
    "        self.class_mapping = {}  # To store class ID to name mapping\n",
    "\n",
    "        # Traverse through action categories and their subfolders\n",
    "        for label, category in enumerate(sorted(os.listdir(root_dir))):\n",
    "            category_path = os.path.join(root_dir, category)\n",
    "            if not os.path.isdir(category_path):\n",
    "                continue\n",
    "            self.class_mapping[label] = category  # Map class ID to category name\n",
    "            for subfolder in os.listdir(category_path):\n",
    "                subfolder_path = os.path.join(category_path, subfolder)\n",
    "                if os.path.isdir(subfolder_path):\n",
    "                    frames = sorted(os.listdir(subfolder_path))  # Ensure frames are ordered\n",
    "\n",
    "                    # Check if there are enough frames\n",
    "                    if len(frames) >= sequence_length:\n",
    "                        self.data.append((subfolder_path, frames, label))\n",
    "\n",
    "    def __len__(self):\n",
    "        return len(self.data)\n",
    "\n",
    "    def __getitem__(self, idx):\n",
    "        subfolder_path, frames, label = self.data[idx]\n",
    "\n",
    "        # Select frames sequentially from the start, up to sequence_length\n",
    "        selected_frames = frames[:self.sequence_length]\n",
    "\n",
    "        sequence = []\n",
    "        for frame_file in selected_frames:\n",
    "            frame_path = os.path.join(subfolder_path, frame_file)\n",
    "            try:\n",
    "                # Try to open the image\n",
    "                img = Image.open(frame_path).convert(\"L\")  # Convert to grayscale\n",
    "                if self.transform:\n",
    "                    img = self.transform(img)\n",
    "\n",
    "                # Flatten the image to a 1D tensor\n",
    "                img = img.view(-1)  # Flattening the image to size 4096 (64x64)\n",
    "                sequence.append(img)\n",
    "\n",
    "            except (IOError, OSError) as e:\n",
    "                # Log the error and skip the corrupted frame\n",
    "                print(f\"Warning: Skipping corrupted image {frame_path} due to error: {e}\")\n",
    "                return self.__getitem__((idx + 1) % len(self))  # Skip to the next sample\n",
    "\n",
    "        # Stack frames into a tensor of shape [sequence_length, 4096]\n",
    "        sequence = torch.stack(sequence, dim=0)\n",
    "        return sequence, label\n"
   ]
  },
  {
   "cell_type": "markdown",
   "id": "6496eae6-494a-4cbd-8912-0d10c86bd095",
   "metadata": {},
   "source": [
    "### Augmentations"
   ]
  },
  {
   "cell_type": "code",
   "execution_count": 3,
   "id": "619169d6-4870-424d-861f-2f42e9ae4c99",
   "metadata": {},
   "outputs": [],
   "source": [
    "# Define augmentations and transformations\n",
    "transform = transforms.Compose([\n",
    "    # Spatial augmentations\n",
    "    # RandomHorizontalFlip(p=0.5),                # Flip frames horizontally with 50% probability\n",
    "    # RandomRotation(degrees=15),                # Random rotation within ±15 degrees\n",
    "    transforms.RandomCrop(size=(64, 64), pad_if_needed=True),  # Random crop to 64x64, pad if needed\n",
    "\n",
    "    transforms.RandomApply([transforms.ColorJitter(brightness=0.2, contrast=0.2)], p=0.3),  # Adjust brightness/contrast\n",
    "    transforms.GaussianBlur(3, sigma=(0.1, 2.0)),  # Random blur\n",
    "    \n",
    "    # Conversion and normalization\n",
    "    transforms.ToTensor(),                                # Convert PIL image to tensor\n",
    "    transforms.Normalize(mean=[0.5], std=[0.5])           # Normalize to [-1, 1]\n",
    "])"
   ]
  },
  {
   "cell_type": "markdown",
   "id": "8188c2e1-ca57-477f-89e2-74f7eb1778a4",
   "metadata": {},
   "source": [
    "### Paths and Hyperparameters for dataset"
   ]
  },
  {
   "cell_type": "code",
   "execution_count": 4,
   "id": "fffc29ba-043a-463e-9557-29c0bd5458a7",
   "metadata": {},
   "outputs": [],
   "source": [
    "# Paths and hyperparameters\n",
    "root_dir = '/home/nfs/inf6/data/datasets/kth_actions/processed'\n",
    "sequence_length = 45\n",
    "batch_size = 32\n",
    "train_ratio = 0.8  # 80% for training, 20% for validation\n"
   ]
  },
  {
   "cell_type": "markdown",
   "id": "9394495b-e68c-4cad-8f0f-43443ecc37dd",
   "metadata": {},
   "source": [
    "### Loading and splitting the dataset"
   ]
  },
  {
   "cell_type": "code",
   "execution_count": 5,
   "id": "dbf1bbee-a98b-45e5-8c14-d4a2f02bf5ba",
   "metadata": {},
   "outputs": [
    {
     "name": "stdout",
     "output_type": "stream",
     "text": [
      "Dataset size: 599\n",
      "Train set size: 479\n",
      "Validation set size: 120\n"
     ]
    }
   ],
   "source": [
    "# Load the full dataset\n",
    "dataset = KTHProcessedDataset(root_dir=root_dir, sequence_length=sequence_length, transform=transform)\n",
    "\n",
    "# Calculate train and validation sizes\n",
    "dataset_size = len(dataset)\n",
    "train_size = int(train_ratio * dataset_size)\n",
    "val_size = dataset_size - train_size\n",
    "\n",
    "# Split the dataset\n",
    "train_dataset, val_dataset = random_split(dataset, [train_size, val_size])\n",
    "\n",
    "# Create DataLoaders for train and validation sets\n",
    "train_loader = DataLoader(train_dataset, batch_size=batch_size, shuffle=True, num_workers=4)\n",
    "val_loader = DataLoader(val_dataset, batch_size=batch_size, shuffle=False, num_workers=4)\n",
    "\n",
    "print(f\"Dataset size: {dataset_size}\")\n",
    "print(f\"Train set size: {train_size}\")\n",
    "print(f\"Validation set size: {val_size}\")"
   ]
  },
  {
   "cell_type": "markdown",
   "id": "9a9173cf-29ae-4d64-b739-89453d910040",
   "metadata": {},
   "source": [
    "### Visualizing dataset"
   ]
  },
  {
   "cell_type": "code",
   "execution_count": 6,
   "id": "04b7d1a1-1b4b-4d9a-aa06-964163a53982",
   "metadata": {},
   "outputs": [],
   "source": [
    "def visualize_sequences(dataset, category_label, num_sequences=3, sequence_length=15):\n",
    "    \"\"\"\n",
    "    Visualizes the first `num_sequences` sequences for a specific category label.\n",
    "    \n",
    "    Args:\n",
    "        dataset: Instance of KTHProcessedDataset.\n",
    "        category_label: Label of the category to visualize.\n",
    "        num_sequences: Number of sequences to visualize.\n",
    "        sequence_length: Length of each sequence.\n",
    "    \"\"\"\n",
    "    sequences_shown = 0\n",
    "    \n",
    "    plt.figure(figsize=(15, num_sequences * 3))\n",
    "    for i in range(len(dataset)):\n",
    "        sequence, label = dataset[i]\n",
    "        if label == category_label:\n",
    "            for frame_idx in range(sequence_length):\n",
    "                plt.subplot(num_sequences, sequence_length, sequences_shown * sequence_length + frame_idx + 1)\n",
    "                frame = sequence[frame_idx].view(64, 64).cpu().numpy()  # Reshape to image dimensions\n",
    "                plt.imshow(frame, cmap=\"gray\")\n",
    "                plt.axis(\"off\")\n",
    "            \n",
    "            sequences_shown += 1\n",
    "            if sequences_shown >= num_sequences:\n",
    "                break\n",
    "\n",
    "    plt.suptitle(f\"Sequences for category label: {category_label}\", fontsize=16)\n",
    "    plt.show()"
   ]
  },
  {
   "cell_type": "code",
   "execution_count": 7,
   "id": "f91a3ea1-6e1c-4286-bc4a-38d5b7556649",
   "metadata": {},
   "outputs": [
    {
     "data": {
      "image/png": "[encoded data removed]",
      "text/plain": [
       "<Figure size 1500x900 with 45 Axes>"
      ]
     },
     "metadata": {},
     "output_type": "display_data"
    }
   ],
   "source": [
    "# Visualize sequences for category label 0 (e.g., walking)\n",
    "visualize_sequences(dataset, category_label=2, num_sequences=3, sequence_length=15)"
   ]
  },
  {
   "cell_type": "code",
   "execution_count": 8,
   "id": "3a7cbc50-4cd0-4cdf-9fdd-328d3a6877c8",
   "metadata": {},
   "outputs": [
    {
     "name": "stdout",
     "output_type": "stream",
     "text": [
      "Dataset Classes:\n",
      "Class ID: 0, Class Name: boxing\n",
      "Class ID: 1, Class Name: handclapping\n",
      "Class ID: 2, Class Name: handwaving\n",
      "Class ID: 3, Class Name: jogging\n",
      "Class ID: 4, Class Name: running\n",
      "Class ID: 5, Class Name: walking\n"
     ]
    }
   ],
   "source": [
    "print(\"Dataset Classes:\")\n",
    "for class_id, class_name in dataset.class_mapping.items():\n",
    "    print(f\"Class ID: {class_id}, Class Name: {class_name}\")"
   ]
  },
  {
   "cell_type": "code",
   "execution_count": 9,
   "id": "6b102c24-c697-4be0-b27b-c45e262853d8",
   "metadata": {},
   "outputs": [],
   "source": [
    "### This works\n",
    "class LSTMCell(nn.Module):\n",
    "    \"\"\"\n",
    "    Custom LSTM Cell implementation from scratch\n",
    "    \n",
    "    Args:\n",
    "    - input_size: Number of input features\n",
    "    - hidden_size: Number of hidden units\n",
    "    - bias: Whether to use bias terms (default: True)\n",
    "    \"\"\"\n",
    "    def __init__(self, input_size, hidden_size, bias=True):\n",
    "        super(LSTMCell, self).__init__()\n",
    "        self.input_size = input_size\n",
    "        self.hidden_size = hidden_size\n",
    "        \n",
    "        # Combine all gates' weights into a single matrix for efficiency\n",
    "        self.weight_ih = nn.Parameter(torch.randn(4 * hidden_size, input_size))\n",
    "        self.weight_hh = nn.Parameter(torch.randn(4 * hidden_size, hidden_size))\n",
    "        \n",
    "        # Bias terms\n",
    "        if bias:\n",
    "            self.bias_ih = nn.Parameter(torch.randn(4 * hidden_size))\n",
    "            self.bias_hh = nn.Parameter(torch.randn(4 * hidden_size))\n",
    "        else:\n",
    "            self.register_parameter('bias_ih', None)\n",
    "            self.register_parameter('bias_hh', None)\n",
    "        \n",
    "        # Initialize weights\n",
    "        self.reset_parameters()\n",
    "    \n",
    "    def reset_parameters(self):\n",
    "        \"\"\"\n",
    "        Xavier uniform initialization for weights\n",
    "        \"\"\"\n",
    "        std = 1.0 / np.sqrt(self.hidden_size)\n",
    "        for weight in self.parameters():\n",
    "            nn.init.uniform_(weight, -std, std)\n",
    "    \n",
    "    def forward(self, x, hidden_state=None):\n",
    "        \"\"\"\n",
    "        Forward pass for LSTM Cell\n",
    "        \n",
    "        Args:\n",
    "        - x: input tensor of shape (batch_size, input_size)\n",
    "        - hidden_state: tuple of (h, c) - previous hidden and cell states\n",
    "        \n",
    "        Returns:\n",
    "        - new_h: new hidden state\n",
    "        - new_c: new cell state\n",
    "        \"\"\"\n",
    "        # Initialize hidden state if not provided\n",
    "        if hidden_state is None:\n",
    "            batch_size = x.size(0)\n",
    "            h = x.new_zeros(batch_size, self.hidden_size)\n",
    "            c = x.new_zeros(batch_size, self.hidden_size)\n",
    "        else:\n",
    "            h, c = hidden_state\n",
    "        \n",
    "        # Compute gate inputs\n",
    "        gates = F.linear(x, self.weight_ih, self.bias_ih) + \\\n",
    "                F.linear(h, self.weight_hh, self.bias_hh)\n",
    "        \n",
    "        # Split gates\n",
    "        ingate, forgetgate, cellgate, outgate = gates.chunk(4, 1)\n",
    "        \n",
    "        # Apply activation functions\n",
    "        ingate = torch.sigmoid(ingate)\n",
    "        forgetgate = torch.sigmoid(forgetgate)\n",
    "        cellgate = torch.tanh(cellgate)\n",
    "        outgate = torch.sigmoid(outgate)\n",
    "        \n",
    "        # Update cell state\n",
    "        new_c = (forgetgate * c) + (ingate * cellgate)\n",
    "        \n",
    "        # Compute new hidden state\n",
    "        new_h = outgate * torch.tanh(new_c)\n",
    "        \n",
    "        return new_h, new_c\n",
    "\n",
    "class LSTM(nn.Module):\n",
    "    \"\"\"\n",
    "    Full LSTM implementation using LSTMCell\n",
    "    \n",
    "    Args:\n",
    "    - input_size: Number of input features\n",
    "    - hidden_size: Number of hidden units\n",
    "    - num_layers: Number of LSTM layers\n",
    "    - num_classes: Number of output classes\n",
    "    - batch_first: Whether input is batch first (default: True)\n",
    "    \"\"\"\n",
    "    def __init__(self, input_size, hidden_size, num_layers, num_classes, batch_first=True):\n",
    "        print(\"here it is\")\n",
    "        super(LSTM, self).__init__()\n",
    "        \n",
    "        self.hidden_size = hidden_size\n",
    "        self.num_layers = num_layers\n",
    "        self.batch_first = batch_first\n",
    "        \n",
    "        # Create LSTM cells for each layer\n",
    "        self.lstm_cells = nn.ModuleList([\n",
    "            LSTMCell(input_size if i == 0 else hidden_size, hidden_size)\n",
    "            for i in range(num_layers)\n",
    "        ])\n",
    "        \n",
    "        # Classification layer\n",
    "        self.classifier = nn.Linear(hidden_size, num_classes)\n",
    "    \n",
    "    def forward(self, x):\n",
    "        \"\"\"\n",
    "        Forward pass for multi-layer LSTM\n",
    "        \n",
    "        Args:\n",
    "        - x: input tensor of shape (batch_size, sequence_length, input_size)\n",
    "        \n",
    "        Returns:\n",
    "        - output: classification logits\n",
    "        \"\"\"\n",
    "        # Ensure input is batch first\n",
    "        if not self.batch_first:\n",
    "            x = x.transpose(0, 1)\n",
    "        \n",
    "        batch_size, seq_len, _ = x.size()\n",
    "        \n",
    "        # Initialize hidden states for all layers\n",
    "        h_list = [torch.zeros(batch_size, self.hidden_size, device=x.device) \n",
    "                  for _ in range(self.num_layers)]\n",
    "        c_list = [torch.zeros(batch_size, self.hidden_size, device=x.device) \n",
    "                  for _ in range(self.num_layers)]\n",
    "        \n",
    "        # Process each time step\n",
    "        for t in range(seq_len):\n",
    "            # Current input at time step t\n",
    "            input_t = x[:, t, :]\n",
    "            \n",
    "            # Process through each layer\n",
    "            for layer in range(self.num_layers):\n",
    "                # Get LSTM cell for this layer\n",
    "                cell = self.lstm_cells[layer]\n",
    "                \n",
    "                # Use previous layer's hidden state as input (or input_t for first layer)\n",
    "                h_prev = input_t if layer == 0 else h_list[layer-1]\n",
    "                \n",
    "                # Update hidden and cell states\n",
    "                h_list[layer], c_list[layer] = cell(h_prev, (h_list[layer], c_list[layer]))\n",
    "        \n",
    "        # Use the last hidden state for classification\n",
    "        output = self.classifier(h_list[-1])\n",
    "        \n",
    "        return output\n"
   ]
  },
  {
   "cell_type": "code",
   "execution_count": 10,
   "id": "debe9e49-c0d1-4c3d-a808-9694902ce1ac",
   "metadata": {},
   "outputs": [],
   "source": [
    "# # Training and Evaluation Utilities\n",
    "# def train_video_classification_model(model, train_loader, criterion, optimizer, device):\n",
    "#     \"\"\"\n",
    "#     Training function for video classification\n",
    "    \n",
    "#     Args:\n",
    "#     - model: Video classification model\n",
    "#     - train_loader: DataLoader for training data\n",
    "#     - criterion: Loss function\n",
    "#     - optimizer: Optimization algorithm\n",
    "#     - device: Computing device (CPU/GPU)\n",
    "    \n",
    "#     Returns:\n",
    "#     - Average training loss\n",
    "#     \"\"\"\n",
    "#     model.train()\n",
    "#     total_loss = 0\n",
    "    \n",
    "#     for sequences, labels in train_loader:\n",
    "#         # Move data to device\n",
    "#         sequences = sequences.to(device)\n",
    "#         labels = labels.to(device)\n",
    "        \n",
    "#         # Zero gradients\n",
    "#         optimizer.zero_grad()\n",
    "        \n",
    "#         # Forward pass\n",
    "#         outputs = model(sequences)\n",
    "        \n",
    "#         # Compute loss\n",
    "#         loss = criterion(outputs, labels)\n",
    "        \n",
    "#         # Backward pass\n",
    "#         loss.backward()\n",
    "        \n",
    "#         # Update weights\n",
    "#         optimizer.step()\n",
    "        \n",
    "#         # Track loss\n",
    "#         total_loss += loss.item()\n",
    "    \n",
    "#     return total_loss / len(train_loader)\n",
    "\n",
    "# def evaluate_video_classification_model(model, test_loader, criterion, device):\n",
    "#     \"\"\"\n",
    "#     Evaluation function for video classification\n",
    "    \n",
    "#     Args:\n",
    "#     - model: Video classification model\n",
    "#     - test_loader: DataLoader for test data\n",
    "#     - criterion: Loss function\n",
    "#     - device: Computing device (CPU/GPU)\n",
    "    \n",
    "#     Returns:\n",
    "#     - Average test loss\n",
    "#     - Accuracy\n",
    "#     \"\"\"\n",
    "#     model.eval()\n",
    "#     total_loss = 0\n",
    "#     correct_predictions = 0\n",
    "#     total_predictions = 0\n",
    "    \n",
    "#     with torch.no_grad():\n",
    "#         for sequences, labels in test_loader:\n",
    "#             # Move data to device\n",
    "#             sequences = sequences.to(device)\n",
    "#             labels = labels.to(device)\n",
    "            \n",
    "#             # Forward pass\n",
    "#             outputs = model(sequences)\n",
    "            \n",
    "#             # Compute loss\n",
    "#             loss = criterion(outputs, labels)\n",
    "#             total_loss += loss.item()\n",
    "            \n",
    "#             # Compute accuracy\n",
    "#             _, predicted = torch.max(outputs.data, 1)\n",
    "#             total_predictions += labels.size(0)\n",
    "#             correct_predictions += (predicted == labels).sum().item()\n",
    "    \n",
    "#     return (total_loss / len(test_loader), \n",
    "#             correct_predictions / total_predictions * 100)\n"
   ]
  },
  {
   "cell_type": "code",
   "execution_count": 11,
   "id": "d3ec32b2-35bd-47b5-be16-dc1dbc25f4aa",
   "metadata": {},
   "outputs": [],
   "source": [
    "# input_size = 4096  # Flattened image size from dataset\n",
    "# hidden_size = 256\n",
    "# num_layers = 2\n",
    "# num_classes = 6  # Typical number of action classes in KTH dataset\n",
    "# batch_size = 32\n",
    "# learning_rate = 0.001\n",
    "# num_epochs = 50\n",
    "\n",
    "# # Device configuration\n",
    "# device = torch.device('cuda' if torch.cuda.is_available() else 'cpu')"
   ]
  },
  {
   "cell_type": "code",
   "execution_count": 12,
   "id": "3e8fe117-6405-4876-ba55-af9a345c0f08",
   "metadata": {},
   "outputs": [],
   "source": [
    "# # Initialize model\n",
    "# model = LSTM(\n",
    "#     input_size=input_size, \n",
    "#     hidden_size=hidden_size, \n",
    "#     num_layers=num_layers, \n",
    "#     num_classes=num_classes\n",
    "# ).to(device)"
   ]
  },
  {
   "cell_type": "code",
   "execution_count": 13,
   "id": "7dfcd82c-0b86-41f1-adb0-aa11da815baf",
   "metadata": {},
   "outputs": [],
   "source": [
    "# model"
   ]
  },
  {
   "cell_type": "code",
   "execution_count": 14,
   "id": "4c423a4b-bd94-4ddd-a1c6-cbb795029c96",
   "metadata": {},
   "outputs": [],
   "source": [
    "# # Loss and optimizer\n",
    "# criterion = nn.CrossEntropyLoss()\n",
    "# optimizer = torch.optim.Adam(model.parameters(), lr=learning_rate)\n",
    "# scheduler = StepLR(optimizer, step_size=5, gamma=0.5)"
   ]
  },
  {
   "cell_type": "code",
   "execution_count": 15,
   "id": "1d29f02f-65aa-4202-acd9-6c98ab83b370",
   "metadata": {},
   "outputs": [],
   "source": [
    "# # Training loop\n",
    "# for epoch in range(num_epochs):\n",
    "#     train_loss = train_video_classification_model(\n",
    "#         model, train_loader, criterion, optimizer, device\n",
    "#     )\n",
    "    \n",
    "#     test_loss, accuracy = evaluate_video_classification_model(\n",
    "#         model, val_loader, criterion, device\n",
    "#     )\n",
    "#     # Step the learning rate scheduler\n",
    "#     scheduler.step()\n",
    "    \n",
    "#     print(f'Epoch [{epoch+1}/{num_epochs}], '\n",
    "#           f'Train Loss: {train_loss:.4f}, '\n",
    "#           f'Test Loss: {test_loss:.4f}, '\n",
    "#           f'Accuracy: {accuracy:.2f}%')"
   ]
  },
  {
   "cell_type": "code",
   "execution_count": null,
   "id": "ba94d2e1-8081-44aa-90de-a35cf4406210",
   "metadata": {},
   "outputs": [],
   "source": []
  },
  {
   "cell_type": "markdown",
   "id": "d0474d57-f416-4f0a-b796-cf0e27393902",
   "metadata": {},
   "source": [
    "### LSTM Implementation"
   ]
  },
  {
   "cell_type": "code",
   "execution_count": 16,
   "id": "3cd7a401-8d4a-4cb3-9f25-374be724a790",
   "metadata": {},
   "outputs": [],
   "source": [
    "# class LSTMCell(nn.Module):\n",
    "#     def __init__(self, input_size, hidden_size, bias=True):\n",
    "#         super(LSTMCell, self).__init__()\n",
    "#         self.input_size = input_size\n",
    "#         self.hidden_size = hidden_size\n",
    "        \n",
    "#         # Weights for input gate\n",
    "#         self.Wi = nn.Parameter(torch.Tensor(hidden_size, input_size + hidden_size))\n",
    "#         # Weights for forget gate\n",
    "#         self.Wf = nn.Parameter(torch.Tensor(hidden_size, input_size + hidden_size))\n",
    "#         # Weights for cell state\n",
    "#         self.Wc = nn.Parameter(torch.Tensor(hidden_size, input_size + hidden_size))\n",
    "#         # Weights for output gate\n",
    "#         self.Wo = nn.Parameter(torch.Tensor(hidden_size, input_size + hidden_size))\n",
    "        \n",
    "#         # Biases\n",
    "#         if bias:\n",
    "#             self.bi = nn.Parameter(torch.Tensor(hidden_size))\n",
    "#             self.bf = nn.Parameter(torch.Tensor(hidden_size))\n",
    "#             self.bc = nn.Parameter(torch.Tensor(hidden_size))\n",
    "#             self.bo = nn.Parameter(torch.Tensor(hidden_size))\n",
    "#         else:\n",
    "#             self.register_parameter('bi', None)\n",
    "#             self.register_parameter('bf', None)\n",
    "#             self.register_parameter('bc', None)\n",
    "#             self.register_parameter('bo', None)\n",
    "        \n",
    "#         self.reset_parameters()\n",
    "    \n",
    "#     def reset_parameters(self):\n",
    "#         # Xavier/Glorot initialization\n",
    "#         std = 1.0 / np.sqrt(self.hidden_size)\n",
    "#         for p in self.parameters():\n",
    "#             p.data.uniform_(-std, std)\n",
    "    \n",
    "#     def forward(self, x, state):\n",
    "#         # Unpack previous hidden and cell states\n",
    "#         h_prev, c_prev = state\n",
    "        \n",
    "#         # Concatenate input and previous hidden state\n",
    "#         combined = torch.cat((x, h_prev), dim=1)\n",
    "        \n",
    "#         # Input gate\n",
    "#         i = torch.sigmoid(F.linear(combined, self.Wi, self.bi))\n",
    "        \n",
    "#         # Forget gate\n",
    "#         f = torch.sigmoid(F.linear(combined, self.Wf, self.bf))\n",
    "        \n",
    "#         # Cell state candidate\n",
    "#         c_candidate = torch.tanh(F.linear(combined, self.Wc, self.bc))\n",
    "        \n",
    "#         # Output gate\n",
    "#         o = torch.sigmoid(F.linear(combined, self.Wo, self.bo))\n",
    "        \n",
    "#         # Update cell state\n",
    "#         c_next = f * c_prev + i * c_candidate\n",
    "        \n",
    "#         # Update hidden state\n",
    "#         h_next = o * torch.tanh(c_next)\n",
    "        \n",
    "#         return h_next, c_next\n",
    "\n",
    "# class LSTM(nn.Module):\n",
    "#     def __init__(self, input_size, hidden_size, num_layers=1, output_size=6, bias=True):\n",
    "#         super(LSTM, self).__init__()\n",
    "#         self.input_size = input_size\n",
    "#         self.hidden_size = hidden_size\n",
    "#         self.num_layers = num_layers\n",
    "#         self.output_size = output_size\n",
    "        \n",
    "#         # Create LSTM cells for each layer\n",
    "#         self.lstm_cells = nn.ModuleList([\n",
    "#             LSTMCell(input_size if layer == 0 else hidden_size, \n",
    "#                      hidden_size, bias) \n",
    "#             for layer in range(num_layers)\n",
    "#         ])\n",
    "        \n",
    "#         # Final fully connected layer for classification\n",
    "#         self.fc = nn.Linear(hidden_size, output_size)\n",
    "    \n",
    "#     def forward(self, x, states=None):\n",
    "#         # x shape: (batch_size, seq_len, input_size)\n",
    "#         batch_size, seq_len, _ = x.size()\n",
    "        \n",
    "#         # Initialize hidden states if not provided\n",
    "#         if states is None:\n",
    "#             h0 = torch.zeros(self.num_layers, batch_size, self.hidden_size, device=x.device)\n",
    "#             c0 = torch.zeros(self.num_layers, batch_size, self.hidden_size, device=x.device)\n",
    "#             states = (h0, c0)\n",
    "        \n",
    "#         # Unpack initial states\n",
    "#         h_prev, c_prev = states\n",
    "        \n",
    "#         # Output tensor to store hidden states for each timestep\n",
    "#         outputs = []\n",
    "        \n",
    "#         # Process each timestep\n",
    "#         for t in range(seq_len):\n",
    "#             layer_input = x[:, t, :]\n",
    "            \n",
    "#             # Process through each LSTM layer\n",
    "#             layer_h_states = []\n",
    "#             for layer in range(self.num_layers):\n",
    "#                 # Get cell state for this layer\n",
    "#                 h_prev_layer = h_prev[layer]\n",
    "#                 c_prev_layer = c_prev[layer]\n",
    "                \n",
    "#                 # Update hidden and cell states\n",
    "#                 h_next, c_next = self.lstm_cells[layer](layer_input, (h_prev_layer, c_prev_layer))\n",
    "                \n",
    "#                 # Update layer input for next layer\n",
    "#                 layer_input = h_next\n",
    "                \n",
    "#                 # Store updated states\n",
    "#                 layer_h_states.append(h_next)\n",
    "#                 h_prev[layer] = h_next\n",
    "#                 c_prev[layer] = c_next\n",
    "            \n",
    "#             # Store final layer's hidden state\n",
    "#             outputs.append(layer_h_states[-1])\n",
    "        \n",
    "#         # Stack outputs and pass through the final fully connected layer for classification\n",
    "#         outputs = torch.stack(outputs, dim=1)\n",
    "#         final_output = self.fc(outputs[:, -1, :])  # Use last hidden state for classification\n",
    "        \n",
    "#         return final_output"
   ]
  },
  {
   "cell_type": "code",
   "execution_count": 17,
   "id": "ad10ffc1-42bd-403f-a44c-d1e169157566",
   "metadata": {},
   "outputs": [],
   "source": [
    "# input_size = 64*64  # For example, a flattened 8x8 frame\n",
    "# hidden_size = 128\n",
    "# num_layers = 2\n",
    "# output_size = 6\n",
    "\n",
    "# model = LSTM(input_size=input_size, hidden_size=hidden_size, num_layers=num_layers, output_size=output_size)\n",
    "\n",
    "# # Print the model structure\n",
    "# print(model)"
   ]
  },
  {
   "cell_type": "code",
   "execution_count": 18,
   "id": "3f72a320-e122-4559-abb3-f2129da2386a",
   "metadata": {},
   "outputs": [],
   "source": [
    "device = \"cuda\" if torch.cuda.is_available() else \"cpu\""
   ]
  },
  {
   "cell_type": "code",
   "execution_count": 19,
   "id": "abd2c083-5259-41e2-86e2-7037de709ddb",
   "metadata": {},
   "outputs": [],
   "source": [
    "def train_nn(model, train_loader, criterion, optimizer, device):\n",
    "    \"\"\"Train the LSTM model for one epoch\"\"\"\n",
    "    model.train()\n",
    "    running_loss = 0.0\n",
    "    correct_labels = 0\n",
    "    total_labels = 0\n",
    "\n",
    "    for inputs, labels in train_loader:\n",
    "        inputs, labels = inputs.to(device), labels.to(device)\n",
    "        \n",
    "        optimizer.zero_grad()\n",
    "        outputs = model(inputs)  # Get outputs for the full sequence\n",
    "        \n",
    "        # Only use the last time step's output for classification\n",
    "        loss = criterion(outputs, labels)  # Use the last timestep output\n",
    "        loss.backward()\n",
    "        optimizer.step()\n",
    "\n",
    "        running_loss += loss.item()\n",
    "\n",
    "        # Compute accuracy for the last time step\n",
    "        _, predicted_labels = torch.max(outputs, dim=1)\n",
    "        correct_labels += (predicted_labels == labels).sum().item()\n",
    "        total_labels += labels.size(0)\n",
    "\n",
    "    avg_loss = running_loss / len(train_loader)\n",
    "    accuracy = correct_labels / total_labels\n",
    "    return avg_loss, accuracy\n",
    "\n",
    "def evaluate_nn(model, eval_loader, criterion, device):\n",
    "    \"\"\"Evaluate the LSTM model\"\"\"\n",
    "    model.eval()\n",
    "    running_loss = 0.0\n",
    "    correct_labels = 0\n",
    "    total_labels = 0\n",
    "\n",
    "    with torch.no_grad():\n",
    "        for inputs, labels in eval_loader:\n",
    "            inputs, labels = inputs.to(device), labels.to(device)\n",
    "            outputs = model(inputs)  # Get outputs for the full sequence\n",
    "            \n",
    "            loss = criterion(outputs, labels)  # Use the last timestep output\n",
    "            running_loss += loss.item()\n",
    "\n",
    "            # Compute accuracy for the last time step\n",
    "            _, predicted_labels = torch.max(outputs, dim=1)\n",
    "            correct_labels += (predicted_labels == labels).sum().item()\n",
    "            total_labels += labels.size(0)\n",
    "\n",
    "    avg_loss = running_loss / len(eval_loader)\n",
    "    accuracy = correct_labels / total_labels\n",
    "    return avg_loss, accuracy\n",
    "\n",
    "def run_training(model, train_loader, eval_loader, criterion, device, num_epochs, learning_rate=0.001, step_size=5, gamma=0.5):\n",
    "    \"\"\"Train and evaluate the LSTM model for a given number of epochs\"\"\"\n",
    "    optimizer = optim.Adam(model.parameters(), lr=learning_rate)  # Adam optimizer\n",
    "    scheduler = StepLR(optimizer, step_size=step_size, gamma=gamma)  # Learning rate scheduler\n",
    "    \n",
    "    train_losses = []\n",
    "    eval_losses = []\n",
    "    train_accuracies = []\n",
    "    eval_accuracies = []\n",
    "\n",
    "    for epoch in tqdm(range(num_epochs)):\n",
    "        # Train for one epoch\n",
    "        train_loss, train_accuracy = train_nn(model, train_loader, criterion, optimizer, device)\n",
    "        # Evaluate after each epoch\n",
    "        eval_loss, eval_accuracy = evaluate_nn(model, eval_loader, criterion, device)\n",
    "\n",
    "        # Record the metrics\n",
    "        train_losses.append(train_loss)\n",
    "        eval_losses.append(eval_loss)\n",
    "        train_accuracies.append(train_accuracy)\n",
    "        eval_accuracies.append(eval_accuracy)\n",
    "\n",
    "        # Print epoch statistics\n",
    "        print(f\"Epoch {epoch+1}/{num_epochs}\")\n",
    "        print(f\"Train Loss: {train_loss:.4f}, Train Accuracy: {train_accuracy:.4f}\")\n",
    "        print(f\"Eval Loss: {eval_loss:.4f}, Eval Accuracy: {eval_accuracy:.4f}\")\n",
    "        \n",
    "        # Step the learning rate scheduler\n",
    "        scheduler.step()\n",
    "\n",
    "    return model, train_losses, train_accuracies, eval_losses, eval_accuracies"
   ]
  },
  {
   "cell_type": "code",
   "execution_count": 20,
   "id": "8004b3b8-8cd0-40f6-8620-9a12781bc70a",
   "metadata": {},
   "outputs": [],
   "source": [
    "# import torch\n",
    "# import torch.nn as nn\n",
    "# import torch.nn.functional as F\n",
    "\n",
    "# class CustomLSTMCell(nn.Module):\n",
    "#     def __init__(self, input_size, hidden_size):\n",
    "#         super(CustomLSTMCell, self).__init__()\n",
    "        \n",
    "#         # Input weights and biases for each gate (input, forget, cell, output)\n",
    "#         self.W_i = nn.Linear(input_size, hidden_size)\n",
    "#         self.W_f = nn.Linear(input_size, hidden_size)\n",
    "#         self.W_g = nn.Linear(input_size, hidden_size)\n",
    "#         self.W_o = nn.Linear(input_size, hidden_size)\n",
    "\n",
    "#         self.U_i = nn.Linear(hidden_size, hidden_size)\n",
    "#         self.U_f = nn.Linear(hidden_size, hidden_size)\n",
    "#         self.U_g = nn.Linear(hidden_size, hidden_size)\n",
    "#         self.U_o = nn.Linear(hidden_size, hidden_size)\n",
    "\n",
    "#         self.b_i = nn.Parameter(torch.zeros(hidden_size))\n",
    "#         self.b_f = nn.Parameter(torch.zeros(hidden_size))\n",
    "#         self.b_g = nn.Parameter(torch.zeros(hidden_size))\n",
    "#         self.b_o = nn.Parameter(torch.zeros(hidden_size))\n",
    "        \n",
    "#     def forward(self, x_t, state_t):\n",
    "#         h_prev, c_prev = state_t\n",
    "        \n",
    "#         # Calculate the gates\n",
    "#         i_t = torch.sigmoid(self.W_i(x_t) + self.U_i(h_prev) + self.b_i)\n",
    "#         f_t = torch.sigmoid(self.W_f(x_t) + self.U_f(h_prev) + self.b_f)\n",
    "#         g_t = torch.tanh(self.W_g(x_t) + self.U_g(h_prev) + self.b_g)\n",
    "#         o_t = torch.sigmoid(self.W_o(x_t) + self.U_o(h_prev) + self.b_o)\n",
    "        \n",
    "#         # Update cell state and hidden state\n",
    "#         c_t = f_t * c_prev + i_t * g_t\n",
    "#         h_t = o_t * torch.tanh(c_t)\n",
    "        \n",
    "#         return h_t, c_t\n",
    "\n",
    "# class CustomLSTM(nn.Module):\n",
    "#     def __init__(self, input_size, hidden_size, output_size, num_layers):\n",
    "#         super(CustomLSTM, self).__init__()\n",
    "#         self.hidden_size = hidden_size\n",
    "#         self.num_layers = num_layers\n",
    "        \n",
    "#         # Create custom LSTM cells for each layer\n",
    "#         self.lstm_cells = nn.ModuleList([\n",
    "#             CustomLSTMCell(input_size if i == 0 else hidden_size, hidden_size) \n",
    "#             for i in range(num_layers)\n",
    "#         ])\n",
    "        \n",
    "#         # Output layer\n",
    "#         self.fc = nn.Linear(hidden_size, output_size)\n",
    "    \n",
    "#     def forward(self, x):\n",
    "#         batch_size, seq_len, _ = x.size()\n",
    "        \n",
    "#         # Initialize hidden and cell states for each layer\n",
    "#         h_t = [torch.zeros(batch_size, self.hidden_size).to(x.device) for _ in range(self.num_layers)]\n",
    "#         c_t = [torch.zeros(batch_size, self.hidden_size).to(x.device) for _ in range(self.num_layers)]\n",
    "        \n",
    "#         # To store the output at each time step\n",
    "#         outputs = []\n",
    "        \n",
    "#         for t in range(seq_len):\n",
    "#             # Extract the time step t input\n",
    "#             x_t = x[:, t, :]\n",
    "            \n",
    "#             # Pass through each layer\n",
    "#             for layer in range(self.num_layers):\n",
    "#                 h_t[layer], c_t[layer] = self.lstm_cells[layer](\n",
    "#                     x_t, (h_t[layer], c_t[layer])\n",
    "#                 )\n",
    "#                 # The input to the next layer is the output of the current layer\n",
    "#                 x_t = h_t[layer]\n",
    "            \n",
    "#             # Pass the final layer's output through the fully connected layer\n",
    "#             output_t = self.fc(h_t[-1])\n",
    "#             outputs.append(output_t)\n",
    "        \n",
    "#         # Stack the outputs to form the final output tensor\n",
    "#         outputs = torch.stack(outputs, dim=1)\n",
    "#         return outputs\n",
    "\n",
    "# # Example usage\n",
    "# input_size = 64*64  # Dimensionality of input features\n",
    "# hidden_size = 20  # Number of hidden units\n",
    "# output_size = 6  # Dimensionality of output features\n",
    "# seq_len = 7  # Length of the input sequence\n",
    "# batch_size = 3  # Batch size\n",
    "# num_layers = 4  # Number of LSTM layers\n",
    "\n",
    "# model = CustomLSTM(input_size, hidden_size, output_size, num_layers)\n",
    "\n",
    "# # Random input tensor\n",
    "# x = torch.randn(batch_size, seq_len, input_size)\n",
    "\n",
    "# # Forward pass\n",
    "# output = model(x)\n",
    "# print(\"Output shape:\", output.shape) "
   ]
  },
  {
   "cell_type": "code",
   "execution_count": 21,
   "id": "ec06eaa9-c218-4792-9136-5ed1287c33f8",
   "metadata": {},
   "outputs": [],
   "source": [
    "# model = LSTM(\n",
    "#     input_size=input_size, \n",
    "#     hidden_size=hidden_size, \n",
    "#     num_layers=num_layers, \n",
    "#     num_classes=num_classes\n",
    "# ).to(device)\n",
    "\n",
    "# # Define loss function and optimizer\n",
    "# # criterion = nn.CrossEntropyLoss()\n",
    "# # optimizer = optim.Adam(model.parameters(), lr=0.001)\n",
    "\n",
    "# # Learning rate scheduler\n",
    "# # scheduler = optim.lr_scheduler.StepLR(optimizer, step_size=5, gamma=0.5)\n",
    "# print(model)"
   ]
  },
  {
   "cell_type": "markdown",
   "id": "4bed436f-691d-4a7f-9f73-ba93a4fb3f65",
   "metadata": {},
   "source": [
    "#### without wandb"
   ]
  },
  {
   "cell_type": "code",
   "execution_count": 14,
   "id": "3c77622d-d695-415a-b477-e8e9aa5fb49a",
   "metadata": {},
   "outputs": [
    {
     "name": "stdout",
     "output_type": "stream",
     "text": [
      "here it is\n"
     ]
    },
    {
     "name": "stderr",
     "output_type": "stream",
     "text": [
      "  4%|██▏                                                     | 1/25 [00:10<04:14, 10.60s/it]"
     ]
    },
    {
     "name": "stdout",
     "output_type": "stream",
     "text": [
      "Epoch 1/25\n",
      "Train Loss: 1.7058, Train Accuracy: 0.2589\n",
      "Eval Loss: 1.5792, Eval Accuracy: 0.2750\n"
     ]
    },
    {
     "name": "stderr",
     "output_type": "stream",
     "text": [
      "  8%|████▍                                                   | 2/25 [00:21<04:06, 10.72s/it]"
     ]
    },
    {
     "name": "stdout",
     "output_type": "stream",
     "text": [
      "Epoch 2/25\n",
      "Train Loss: 1.4393, Train Accuracy: 0.3424\n",
      "Eval Loss: 1.5285, Eval Accuracy: 0.3000\n"
     ]
    },
    {
     "name": "stderr",
     "output_type": "stream",
     "text": [
      " 12%|██████▋                                                 | 3/25 [00:32<03:55, 10.70s/it]"
     ]
    },
    {
     "name": "stdout",
     "output_type": "stream",
     "text": [
      "Epoch 3/25\n",
      "Train Loss: 1.3681, Train Accuracy: 0.4092\n",
      "Eval Loss: 1.3574, Eval Accuracy: 0.3333\n"
     ]
    },
    {
     "name": "stderr",
     "output_type": "stream",
     "text": [
      " 16%|████████▉                                               | 4/25 [00:42<03:44, 10.71s/it]"
     ]
    },
    {
     "name": "stdout",
     "output_type": "stream",
     "text": [
      "Epoch 4/25\n",
      "Train Loss: 1.1659, Train Accuracy: 0.4885\n",
      "Eval Loss: 1.2946, Eval Accuracy: 0.3917\n"
     ]
    },
    {
     "name": "stderr",
     "output_type": "stream",
     "text": [
      " 20%|███████████▏                                            | 5/25 [00:54<03:40, 11.04s/it]"
     ]
    },
    {
     "name": "stdout",
     "output_type": "stream",
     "text": [
      "Epoch 5/25\n",
      "Train Loss: 1.1173, Train Accuracy: 0.5031\n",
      "Eval Loss: 1.3303, Eval Accuracy: 0.3333\n"
     ]
    },
    {
     "name": "stderr",
     "output_type": "stream",
     "text": [
      " 24%|█████████████▍                                          | 6/25 [01:05<03:27, 10.92s/it]"
     ]
    },
    {
     "name": "stdout",
     "output_type": "stream",
     "text": [
      "Epoch 6/25\n",
      "Train Loss: 1.0146, Train Accuracy: 0.5449\n",
      "Eval Loss: 1.3576, Eval Accuracy: 0.3917\n"
     ]
    },
    {
     "name": "stderr",
     "output_type": "stream",
     "text": [
      " 28%|███████████████▋                                        | 7/25 [01:15<03:15, 10.84s/it]"
     ]
    },
    {
     "name": "stdout",
     "output_type": "stream",
     "text": [
      "Epoch 7/25\n",
      "Train Loss: 0.9763, Train Accuracy: 0.5908\n",
      "Eval Loss: 1.2399, Eval Accuracy: 0.4250\n"
     ]
    },
    {
     "name": "stderr",
     "output_type": "stream",
     "text": [
      " 32%|█████████████████▉                                      | 8/25 [01:26<03:03, 10.81s/it]"
     ]
    },
    {
     "name": "stdout",
     "output_type": "stream",
     "text": [
      "Epoch 8/25\n",
      "Train Loss: 0.8975, Train Accuracy: 0.6284\n",
      "Eval Loss: 1.2722, Eval Accuracy: 0.3833\n"
     ]
    },
    {
     "name": "stderr",
     "output_type": "stream",
     "text": [
      " 36%|████████████████████▏                                   | 9/25 [01:37<02:52, 10.75s/it]"
     ]
    },
    {
     "name": "stdout",
     "output_type": "stream",
     "text": [
      "Epoch 9/25\n",
      "Train Loss: 0.8291, Train Accuracy: 0.6388\n",
      "Eval Loss: 1.2789, Eval Accuracy: 0.4750\n"
     ]
    },
    {
     "name": "stderr",
     "output_type": "stream",
     "text": [
      " 40%|██████████████████████                                 | 10/25 [01:47<02:40, 10.70s/it]"
     ]
    },
    {
     "name": "stdout",
     "output_type": "stream",
     "text": [
      "Epoch 10/25\n",
      "Train Loss: 0.7817, Train Accuracy: 0.6493\n",
      "Eval Loss: 1.2302, Eval Accuracy: 0.3917\n"
     ]
    },
    {
     "name": "stderr",
     "output_type": "stream",
     "text": [
      " 44%|████████████████████████▏                              | 11/25 [01:58<02:29, 10.69s/it]"
     ]
    },
    {
     "name": "stdout",
     "output_type": "stream",
     "text": [
      "Epoch 11/25\n",
      "Train Loss: 0.7076, Train Accuracy: 0.6910\n",
      "Eval Loss: 1.2166, Eval Accuracy: 0.4917\n"
     ]
    },
    {
     "name": "stderr",
     "output_type": "stream",
     "text": [
      " 48%|██████████████████████████▍                            | 12/25 [02:09<02:19, 10.72s/it]"
     ]
    },
    {
     "name": "stdout",
     "output_type": "stream",
     "text": [
      "Epoch 12/25\n",
      "Train Loss: 0.6746, Train Accuracy: 0.6994\n",
      "Eval Loss: 1.2514, Eval Accuracy: 0.4083\n"
     ]
    },
    {
     "name": "stderr",
     "output_type": "stream",
     "text": [
      " 52%|████████████████████████████▌                          | 13/25 [02:19<02:08, 10.67s/it]"
     ]
    },
    {
     "name": "stdout",
     "output_type": "stream",
     "text": [
      "Epoch 13/25\n",
      "Train Loss: 0.7113, Train Accuracy: 0.7182\n",
      "Eval Loss: 1.3661, Eval Accuracy: 0.4000\n"
     ]
    },
    {
     "name": "stderr",
     "output_type": "stream",
     "text": [
      " 56%|██████████████████████████████▊                        | 14/25 [02:30<01:57, 10.73s/it]"
     ]
    },
    {
     "name": "stdout",
     "output_type": "stream",
     "text": [
      "Epoch 14/25\n",
      "Train Loss: 0.7374, Train Accuracy: 0.7349\n",
      "Eval Loss: 1.1732, Eval Accuracy: 0.4750\n"
     ]
    },
    {
     "name": "stderr",
     "output_type": "stream",
     "text": [
      " 60%|█████████████████████████████████                      | 15/25 [02:46<02:04, 12.41s/it]"
     ]
    },
    {
     "name": "stdout",
     "output_type": "stream",
     "text": [
      "Epoch 15/25\n",
      "Train Loss: 0.6099, Train Accuracy: 0.7495\n",
      "Eval Loss: 1.2098, Eval Accuracy: 0.4917\n"
     ]
    },
    {
     "name": "stderr",
     "output_type": "stream",
     "text": [
      " 64%|███████████████████████████████████▏                   | 16/25 [02:57<01:47, 11.95s/it]"
     ]
    },
    {
     "name": "stdout",
     "output_type": "stream",
     "text": [
      "Epoch 16/25\n",
      "Train Loss: 0.5534, Train Accuracy: 0.7683\n",
      "Eval Loss: 1.1869, Eval Accuracy: 0.5083\n"
     ]
    },
    {
     "name": "stderr",
     "output_type": "stream",
     "text": [
      " 68%|█████████████████████████████████████▍                 | 17/25 [03:09<01:34, 11.78s/it]"
     ]
    },
    {
     "name": "stdout",
     "output_type": "stream",
     "text": [
      "Epoch 17/25\n",
      "Train Loss: 0.5343, Train Accuracy: 0.7829\n",
      "Eval Loss: 1.1799, Eval Accuracy: 0.5167\n"
     ]
    },
    {
     "name": "stderr",
     "output_type": "stream",
     "text": [
      " 72%|███████████████████████████████████████▌               | 18/25 [03:19<01:19, 11.42s/it]"
     ]
    },
    {
     "name": "stdout",
     "output_type": "stream",
     "text": [
      "Epoch 18/25\n",
      "Train Loss: 0.5185, Train Accuracy: 0.7871\n",
      "Eval Loss: 1.2089, Eval Accuracy: 0.5000\n"
     ]
    },
    {
     "name": "stderr",
     "output_type": "stream",
     "text": [
      " 76%|█████████████████████████████████████████▊             | 19/25 [03:30<01:07, 11.21s/it]"
     ]
    },
    {
     "name": "stdout",
     "output_type": "stream",
     "text": [
      "Epoch 19/25\n",
      "Train Loss: 0.4912, Train Accuracy: 0.7912\n",
      "Eval Loss: 1.2549, Eval Accuracy: 0.5000\n"
     ]
    },
    {
     "name": "stderr",
     "output_type": "stream",
     "text": [
      " 80%|████████████████████████████████████████████           | 20/25 [03:41<00:55, 11.07s/it]"
     ]
    },
    {
     "name": "stdout",
     "output_type": "stream",
     "text": [
      "Epoch 20/25\n",
      "Train Loss: 0.4922, Train Accuracy: 0.7871\n",
      "Eval Loss: 1.2432, Eval Accuracy: 0.4583\n"
     ]
    },
    {
     "name": "stderr",
     "output_type": "stream",
     "text": [
      " 84%|██████████████████████████████████████████████▏        | 21/25 [03:51<00:43, 10.94s/it]"
     ]
    },
    {
     "name": "stdout",
     "output_type": "stream",
     "text": [
      "Epoch 21/25\n",
      "Train Loss: 0.4784, Train Accuracy: 0.8038\n",
      "Eval Loss: 1.2327, Eval Accuracy: 0.4583\n"
     ]
    },
    {
     "name": "stderr",
     "output_type": "stream",
     "text": [
      " 88%|████████████████████████████████████████████████▍      | 22/25 [04:02<00:32, 10.88s/it]"
     ]
    },
    {
     "name": "stdout",
     "output_type": "stream",
     "text": [
      "Epoch 22/25\n",
      "Train Loss: 0.4610, Train Accuracy: 0.8205\n",
      "Eval Loss: 1.2124, Eval Accuracy: 0.4750\n"
     ]
    },
    {
     "name": "stderr",
     "output_type": "stream",
     "text": [
      " 92%|██████████████████████████████████████████████████▌    | 23/25 [04:13<00:21, 10.83s/it]"
     ]
    },
    {
     "name": "stdout",
     "output_type": "stream",
     "text": [
      "Epoch 23/25\n",
      "Train Loss: 0.4531, Train Accuracy: 0.8351\n",
      "Eval Loss: 1.2511, Eval Accuracy: 0.5083\n"
     ]
    },
    {
     "name": "stderr",
     "output_type": "stream",
     "text": [
      " 96%|████████████████████████████████████████████████████▊  | 24/25 [04:24<00:10, 10.85s/it]"
     ]
    },
    {
     "name": "stdout",
     "output_type": "stream",
     "text": [
      "Epoch 24/25\n",
      "Train Loss: 0.4414, Train Accuracy: 0.8351\n",
      "Eval Loss: 1.2472, Eval Accuracy: 0.4500\n"
     ]
    },
    {
     "name": "stderr",
     "output_type": "stream",
     "text": [
      "100%|███████████████████████████████████████████████████████| 25/25 [04:34<00:00, 11.00s/it]"
     ]
    },
    {
     "name": "stdout",
     "output_type": "stream",
     "text": [
      "Epoch 25/25\n",
      "Train Loss: 0.4281, Train Accuracy: 0.8413\n",
      "Eval Loss: 1.2381, Eval Accuracy: 0.4917\n"
     ]
    },
    {
     "name": "stderr",
     "output_type": "stream",
     "text": [
      "\n"
     ]
    }
   ],
   "source": [
    "device = torch.device(\"cuda\" if torch.cuda.is_available() else \"cpu\")\n",
    "\n",
    "# Define the LSTM model\n",
    "input_size = 64*64  # Vocabulary size or number of features (e.g., number of unique frames or actions)\n",
    "hidden_size = 128  # Hidden size of the LSTM\n",
    "num_classes = 6  # Number of output classes (for classification)\n",
    "num_layers = 2\n",
    "model = LSTM(\n",
    "    input_size=input_size, \n",
    "    hidden_size=hidden_size, \n",
    "    num_layers=num_layers, \n",
    "    num_classes=num_classes\n",
    ").to(device)\n",
    "# Loss function\n",
    "criterion = nn.CrossEntropyLoss()\n",
    "\n",
    "# Hyperparameters\n",
    "num_epochs = 25\n",
    "learning_rate = 0.001\n",
    "step_size = 5\n",
    "gamma = 0.5\n",
    "\n",
    "# Run training\n",
    "model, train_losses, train_accuracies, eval_losses, eval_accuracies = run_training(\n",
    "    model, train_loader, val_loader, criterion, device,\n",
    "    num_epochs, learning_rate, step_size, gamma\n",
    ")"
   ]
  },
  {
   "cell_type": "code",
   "execution_count": 22,
   "id": "97bcb253-3189-4fe4-aca8-618ba9e1d1ba",
   "metadata": {},
   "outputs": [],
   "source": [
    "import wandb"
   ]
  },
  {
   "cell_type": "code",
   "execution_count": 24,
   "id": "ce612e68-e51c-4f48-b35e-3ec2703616ec",
   "metadata": {},
   "outputs": [],
   "source": [
    "def train_nn(model, train_loader, criterion, optimizer, device):\n",
    "    \"\"\"Train the LSTM model for one epoch\"\"\"\n",
    "    model.train()\n",
    "    running_loss = 0.0\n",
    "    correct_labels = 0\n",
    "    total_labels = 0\n",
    "\n",
    "    for inputs, labels in train_loader:\n",
    "        inputs, labels = inputs.to(device), labels.to(device)\n",
    "        \n",
    "        optimizer.zero_grad()\n",
    "        outputs = model(inputs)  # Get outputs for the full sequence\n",
    "        \n",
    "        # Only use the last time step's output for classification\n",
    "        loss = criterion(outputs, labels)  # Use the last timestep output\n",
    "        loss.backward()\n",
    "        optimizer.step()\n",
    "\n",
    "        running_loss += loss.item()\n",
    "\n",
    "        # Compute accuracy for the last time step\n",
    "        _, predicted_labels = torch.max(outputs, dim=1)\n",
    "        correct_labels += (predicted_labels == labels).sum().item()\n",
    "        total_labels += labels.size(0)\n",
    "\n",
    "    avg_loss = running_loss / len(train_loader)\n",
    "    accuracy = correct_labels / total_labels\n",
    "    return avg_loss, accuracy\n",
    "\n",
    "def evaluate_nn(model, eval_loader, criterion, device):\n",
    "    \"\"\"Evaluate the LSTM model\"\"\"\n",
    "    model.eval()\n",
    "    running_loss = 0.0\n",
    "    correct_labels = 0\n",
    "    total_labels = 0\n",
    "\n",
    "    with torch.no_grad():\n",
    "        for inputs, labels in eval_loader:\n",
    "            inputs, labels = inputs.to(device), labels.to(device)\n",
    "            outputs = model(inputs)  # Get outputs for the full sequence\n",
    "            \n",
    "            loss = criterion(outputs, labels)  # Use the last timestep output\n",
    "            running_loss += loss.item()\n",
    "\n",
    "            # Compute accuracy for the last time step\n",
    "            _, predicted_labels = torch.max(outputs, dim=1)\n",
    "            correct_labels += (predicted_labels == labels).sum().item()\n",
    "            total_labels += labels.size(0)\n",
    "\n",
    "    avg_loss = running_loss / len(eval_loader)\n",
    "    accuracy = correct_labels / total_labels\n",
    "    return avg_loss, accuracy\n",
    "\n",
    "def run_training(model, train_loader, eval_loader, criterion, device, num_epochs, learning_rate=0.001, step_size=5, gamma=0.5, project_name='lstm_training'):\n",
    "    \"\"\"Train and evaluate the LSTM model for a given number of epochs with W&B logging\"\"\"\n",
    "    # Initialize W&B logging\n",
    "    wandb.init(project=project_name, config={\n",
    "        \"learning_rate\": learning_rate,\n",
    "        \"num_epochs\": num_epochs,\n",
    "        \"step_size\": step_size,\n",
    "        \"gamma\": gamma,\n",
    "        \"optimizer\": \"Adam\",\n",
    "    },\n",
    "    )\n",
    "    config = wandb.config\n",
    "\n",
    "    optimizer = optim.Adam(model.parameters(), lr=learning_rate)  # Adam optimizer\n",
    "    scheduler = StepLR(optimizer, step_size=step_size, gamma=gamma)  # Learning rate scheduler\n",
    "    \n",
    "    train_losses = []\n",
    "    eval_losses = []\n",
    "    train_accuracies = []\n",
    "    eval_accuracies = []\n",
    "    learning_rates = []\n",
    "\n",
    "    for epoch in tqdm(range(num_epochs)):\n",
    "        # Train for one epoch\n",
    "        train_loss, train_accuracy = train_nn(model, train_loader, criterion, optimizer, device)\n",
    "        # Evaluate after each epoch\n",
    "        eval_loss, eval_accuracy = evaluate_nn(model, eval_loader, criterion, device)\n",
    "\n",
    "        # Get current learning rate\n",
    "        current_lr = scheduler.get_last_lr()[0]\n",
    "\n",
    "        # Record the metrics\n",
    "        train_losses.append(train_loss)\n",
    "        eval_losses.append(eval_loss)\n",
    "        train_accuracies.append(train_accuracy)\n",
    "        eval_accuracies.append(eval_accuracy)\n",
    "        learning_rates.append(current_lr)\n",
    "\n",
    "        # Log metrics to W&B\n",
    "        wandb.log({\n",
    "            \"epoch\": epoch + 1,\n",
    "            \"train_loss\": train_loss,\n",
    "            \"train_accuracy\": train_accuracy,\n",
    "            \"eval_loss\": eval_loss,\n",
    "            \"eval_accuracy\": eval_accuracy,\n",
    "            \"learning_rate\": current_lr\n",
    "        })\n",
    "\n",
    "        # Print epoch statistics\n",
    "        print(f\"Epoch {epoch+1}/{num_epochs}\")\n",
    "        print(f\"Train Loss: {train_loss:.4f}, Train Accuracy: {train_accuracy:.4f}\")\n",
    "        print(f\"Eval Loss: {eval_loss:.4f}, Eval Accuracy: {eval_accuracy:.4f}\")\n",
    "        print(f\"Learning Rate: {current_lr:.6f}\")\n",
    "        \n",
    "        # Step the learning rate scheduler\n",
    "        scheduler.step()\n",
    "\n",
    "    # Finish W&B run\n",
    "    wandb.finish()\n",
    "\n",
    "    return model, train_losses, train_accuracies, eval_losses, eval_accuracies, learning_rates"
   ]
  },
  {
   "cell_type": "code",
   "execution_count": 26,
   "id": "5cda7091-f8b4-4275-8015-c6e3cf2c56a9",
   "metadata": {},
   "outputs": [
    {
     "name": "stdout",
     "output_type": "stream",
     "text": [
      "here it is\n"
     ]
    },
    {
     "data": {
      "text/html": [
       "Tracking run with wandb version 0.18.7"
      ],
      "text/plain": [
       "<IPython.core.display.HTML object>"
      ]
     },
     "metadata": {},
     "output_type": "display_data"
    },
    {
     "data": {
      "text/html": [
       "Run data is saved locally in <code>/home/user/javeda1/MA-INF-4308-Lab-Vision-Systems/Assignment-4/wandb/run-20241129_013349-kdjyumr0</code>"
      ],
      "text/plain": [
       "<IPython.core.display.HTML object>"
      ]
     },
     "metadata": {},
     "output_type": "display_data"
    },
    {
     "data": {
      "text/html": [
       "Syncing run <strong><a href='https://wandb.ai/ahmadjaved97/lstm_training/runs/kdjyumr0' target=\"_blank\">light-resonance-8</a></strong> to <a href='https://wandb.ai/ahmadjaved97/lstm_training' target=\"_blank\">Weights & Biases</a> (<a href='https://wandb.me/developer-guide' target=\"_blank\">docs</a>)<br/>"
      ],
      "text/plain": [
       "<IPython.core.display.HTML object>"
      ]
     },
     "metadata": {},
     "output_type": "display_data"
    },
    {
     "data": {
      "text/html": [
       " View project at <a href='https://wandb.ai/ahmadjaved97/lstm_training' target=\"_blank\">https://wandb.ai/ahmadjaved97/lstm_training</a>"
      ],
      "text/plain": [
       "<IPython.core.display.HTML object>"
      ]
     },
     "metadata": {},
     "output_type": "display_data"
    },
    {
     "data": {
      "text/html": [
       " View run at <a href='https://wandb.ai/ahmadjaved97/lstm_training/runs/kdjyumr0' target=\"_blank\">https://wandb.ai/ahmadjaved97/lstm_training/runs/kdjyumr0</a>"
      ],
      "text/plain": [
       "<IPython.core.display.HTML object>"
      ]
     },
     "metadata": {},
     "output_type": "display_data"
    },
    {
     "name": "stderr",
     "output_type": "stream",
     "text": [
      "  2%|█▍                                                      | 1/40 [00:10<07:01, 10.82s/it]"
     ]
    },
    {
     "name": "stdout",
     "output_type": "stream",
     "text": [
      "Epoch 1/40\n",
      "Train Loss: 1.6836, Train Accuracy: 0.2610\n",
      "Eval Loss: 1.5190, Eval Accuracy: 0.3417\n",
      "Learning Rate: 0.001000\n"
     ]
    },
    {
     "name": "stderr",
     "output_type": "stream",
     "text": [
      "  5%|██▊                                                     | 2/40 [00:21<06:49, 10.78s/it]"
     ]
    },
    {
     "name": "stdout",
     "output_type": "stream",
     "text": [
      "Epoch 2/40\n",
      "Train Loss: 1.4136, Train Accuracy: 0.3507\n",
      "Eval Loss: 1.3973, Eval Accuracy: 0.4000\n",
      "Learning Rate: 0.001000\n"
     ]
    },
    {
     "name": "stderr",
     "output_type": "stream",
     "text": [
      "  8%|████▏                                                   | 3/40 [00:32<06:39, 10.81s/it]"
     ]
    },
    {
     "name": "stdout",
     "output_type": "stream",
     "text": [
      "Epoch 3/40\n",
      "Train Loss: 1.2554, Train Accuracy: 0.4718\n",
      "Eval Loss: 1.4503, Eval Accuracy: 0.4000\n",
      "Learning Rate: 0.001000\n"
     ]
    },
    {
     "name": "stderr",
     "output_type": "stream",
     "text": [
      " 10%|█████▌                                                  | 4/40 [00:43<06:28, 10.78s/it]"
     ]
    },
    {
     "name": "stdout",
     "output_type": "stream",
     "text": [
      "Epoch 4/40\n",
      "Train Loss: 1.2180, Train Accuracy: 0.4885\n",
      "Eval Loss: 1.3353, Eval Accuracy: 0.3667\n",
      "Learning Rate: 0.001000\n"
     ]
    },
    {
     "name": "stderr",
     "output_type": "stream",
     "text": [
      " 12%|███████                                                 | 5/40 [00:54<06:18, 10.82s/it]"
     ]
    },
    {
     "name": "stdout",
     "output_type": "stream",
     "text": [
      "Epoch 5/40\n",
      "Train Loss: 1.1441, Train Accuracy: 0.5115\n",
      "Eval Loss: 1.2721, Eval Accuracy: 0.4000\n",
      "Learning Rate: 0.001000\n"
     ]
    },
    {
     "name": "stderr",
     "output_type": "stream",
     "text": [
      " 15%|████████▍                                               | 6/40 [01:04<06:08, 10.84s/it]"
     ]
    },
    {
     "name": "stdout",
     "output_type": "stream",
     "text": [
      "Epoch 6/40\n",
      "Train Loss: 1.0298, Train Accuracy: 0.5511\n",
      "Eval Loss: 1.1892, Eval Accuracy: 0.4250\n",
      "Learning Rate: 0.000500\n"
     ]
    },
    {
     "name": "stderr",
     "output_type": "stream",
     "text": [
      " 18%|█████████▊                                              | 7/40 [01:15<05:56, 10.81s/it]"
     ]
    },
    {
     "name": "stdout",
     "output_type": "stream",
     "text": [
      "Epoch 7/40\n",
      "Train Loss: 0.9694, Train Accuracy: 0.5804\n",
      "Eval Loss: 1.2182, Eval Accuracy: 0.4250\n",
      "Learning Rate: 0.000500\n"
     ]
    },
    {
     "name": "stderr",
     "output_type": "stream",
     "text": [
      " 20%|███████████▏                                            | 8/40 [01:26<05:46, 10.82s/it]"
     ]
    },
    {
     "name": "stdout",
     "output_type": "stream",
     "text": [
      "Epoch 8/40\n",
      "Train Loss: 0.8728, Train Accuracy: 0.6451\n",
      "Eval Loss: 1.1265, Eval Accuracy: 0.4417\n",
      "Learning Rate: 0.000500\n"
     ]
    },
    {
     "name": "stderr",
     "output_type": "stream",
     "text": [
      " 22%|████████████▌                                           | 9/40 [01:37<05:33, 10.77s/it]"
     ]
    },
    {
     "name": "stdout",
     "output_type": "stream",
     "text": [
      "Epoch 9/40\n",
      "Train Loss: 0.9358, Train Accuracy: 0.6534\n",
      "Eval Loss: 1.1654, Eval Accuracy: 0.4333\n",
      "Learning Rate: 0.000500\n"
     ]
    },
    {
     "name": "stderr",
     "output_type": "stream",
     "text": [
      " 25%|█████████████▊                                         | 10/40 [01:47<05:22, 10.73s/it]"
     ]
    },
    {
     "name": "stdout",
     "output_type": "stream",
     "text": [
      "Epoch 10/40\n",
      "Train Loss: 0.9030, Train Accuracy: 0.6388\n",
      "Eval Loss: 1.2987, Eval Accuracy: 0.4083\n",
      "Learning Rate: 0.000500\n"
     ]
    },
    {
     "name": "stderr",
     "output_type": "stream",
     "text": [
      " 28%|███████████████▏                                       | 11/40 [01:58<05:11, 10.74s/it]"
     ]
    },
    {
     "name": "stdout",
     "output_type": "stream",
     "text": [
      "Epoch 11/40\n",
      "Train Loss: 0.7698, Train Accuracy: 0.7015\n",
      "Eval Loss: 1.1366, Eval Accuracy: 0.4250\n",
      "Learning Rate: 0.000250\n"
     ]
    },
    {
     "name": "stderr",
     "output_type": "stream",
     "text": [
      " 30%|████████████████▌                                      | 12/40 [02:09<05:00, 10.73s/it]"
     ]
    },
    {
     "name": "stdout",
     "output_type": "stream",
     "text": [
      "Epoch 12/40\n",
      "Train Loss: 0.7143, Train Accuracy: 0.7119\n",
      "Eval Loss: 1.1971, Eval Accuracy: 0.4333\n",
      "Learning Rate: 0.000250\n"
     ]
    },
    {
     "name": "stderr",
     "output_type": "stream",
     "text": [
      " 32%|█████████████████▉                                     | 13/40 [02:20<04:50, 10.74s/it]"
     ]
    },
    {
     "name": "stdout",
     "output_type": "stream",
     "text": [
      "Epoch 13/40\n",
      "Train Loss: 0.6449, Train Accuracy: 0.7516\n",
      "Eval Loss: 1.1380, Eval Accuracy: 0.4083\n",
      "Learning Rate: 0.000250\n"
     ]
    },
    {
     "name": "stderr",
     "output_type": "stream",
     "text": [
      " 35%|███████████████████▎                                   | 14/40 [02:30<04:38, 10.71s/it]"
     ]
    },
    {
     "name": "stdout",
     "output_type": "stream",
     "text": [
      "Epoch 14/40\n",
      "Train Loss: 0.6066, Train Accuracy: 0.7620\n",
      "Eval Loss: 1.1726, Eval Accuracy: 0.4667\n",
      "Learning Rate: 0.000250\n"
     ]
    },
    {
     "name": "stderr",
     "output_type": "stream",
     "text": [
      " 38%|████████████████████▋                                  | 15/40 [02:41<04:27, 10.68s/it]"
     ]
    },
    {
     "name": "stdout",
     "output_type": "stream",
     "text": [
      "Epoch 15/40\n",
      "Train Loss: 0.6954, Train Accuracy: 0.7077\n",
      "Eval Loss: 1.1765, Eval Accuracy: 0.4083\n",
      "Learning Rate: 0.000250\n"
     ]
    },
    {
     "name": "stderr",
     "output_type": "stream",
     "text": [
      " 40%|██████████████████████                                 | 16/40 [02:52<04:16, 10.69s/it]"
     ]
    },
    {
     "name": "stdout",
     "output_type": "stream",
     "text": [
      "Epoch 16/40\n",
      "Train Loss: 0.6315, Train Accuracy: 0.7432\n",
      "Eval Loss: 1.1082, Eval Accuracy: 0.4667\n",
      "Learning Rate: 0.000125\n"
     ]
    },
    {
     "name": "stderr",
     "output_type": "stream",
     "text": [
      " 42%|███████████████████████▍                               | 17/40 [03:02<04:05, 10.67s/it]"
     ]
    },
    {
     "name": "stdout",
     "output_type": "stream",
     "text": [
      "Epoch 17/40\n",
      "Train Loss: 0.5708, Train Accuracy: 0.7808\n",
      "Eval Loss: 1.1490, Eval Accuracy: 0.4583\n",
      "Learning Rate: 0.000125\n"
     ]
    },
    {
     "name": "stderr",
     "output_type": "stream",
     "text": [
      " 45%|████████████████████████▊                              | 18/40 [03:13<03:55, 10.72s/it]"
     ]
    },
    {
     "name": "stdout",
     "output_type": "stream",
     "text": [
      "Epoch 18/40\n",
      "Train Loss: 0.5453, Train Accuracy: 0.7891\n",
      "Eval Loss: 1.0953, Eval Accuracy: 0.4583\n",
      "Learning Rate: 0.000125\n"
     ]
    },
    {
     "name": "stderr",
     "output_type": "stream",
     "text": [
      " 48%|██████████████████████████▏                            | 19/40 [03:24<03:45, 10.72s/it]"
     ]
    },
    {
     "name": "stdout",
     "output_type": "stream",
     "text": [
      "Epoch 19/40\n",
      "Train Loss: 0.5121, Train Accuracy: 0.8079\n",
      "Eval Loss: 1.0906, Eval Accuracy: 0.4750\n",
      "Learning Rate: 0.000125\n"
     ]
    },
    {
     "name": "stderr",
     "output_type": "stream",
     "text": [
      " 50%|███████████████████████████▌                           | 20/40 [03:34<03:34, 10.74s/it]"
     ]
    },
    {
     "name": "stdout",
     "output_type": "stream",
     "text": [
      "Epoch 20/40\n",
      "Train Loss: 0.5370, Train Accuracy: 0.7912\n",
      "Eval Loss: 1.0886, Eval Accuracy: 0.4917\n",
      "Learning Rate: 0.000125\n"
     ]
    },
    {
     "name": "stderr",
     "output_type": "stream",
     "text": [
      " 52%|████████████████████████████▉                          | 21/40 [03:45<03:24, 10.76s/it]"
     ]
    },
    {
     "name": "stdout",
     "output_type": "stream",
     "text": [
      "Epoch 21/40\n",
      "Train Loss: 0.4787, Train Accuracy: 0.8184\n",
      "Eval Loss: 1.1010, Eval Accuracy: 0.4667\n",
      "Learning Rate: 0.000063\n"
     ]
    },
    {
     "name": "stderr",
     "output_type": "stream",
     "text": [
      " 55%|██████████████████████████████▎                        | 22/40 [03:56<03:14, 10.79s/it]"
     ]
    },
    {
     "name": "stdout",
     "output_type": "stream",
     "text": [
      "Epoch 22/40\n",
      "Train Loss: 0.4740, Train Accuracy: 0.8142\n",
      "Eval Loss: 1.0639, Eval Accuracy: 0.5167\n",
      "Learning Rate: 0.000063\n"
     ]
    },
    {
     "name": "stderr",
     "output_type": "stream",
     "text": [
      " 57%|███████████████████████████████▌                       | 23/40 [04:07<03:03, 10.81s/it]"
     ]
    },
    {
     "name": "stdout",
     "output_type": "stream",
     "text": [
      "Epoch 23/40\n",
      "Train Loss: 0.4577, Train Accuracy: 0.8267\n",
      "Eval Loss: 1.0853, Eval Accuracy: 0.4750\n",
      "Learning Rate: 0.000063\n"
     ]
    },
    {
     "name": "stderr",
     "output_type": "stream",
     "text": [
      " 60%|█████████████████████████████████                      | 24/40 [04:18<02:51, 10.74s/it]"
     ]
    },
    {
     "name": "stdout",
     "output_type": "stream",
     "text": [
      "Epoch 24/40\n",
      "Train Loss: 0.4498, Train Accuracy: 0.8455\n",
      "Eval Loss: 1.0907, Eval Accuracy: 0.4833\n",
      "Learning Rate: 0.000063\n"
     ]
    },
    {
     "name": "stderr",
     "output_type": "stream",
     "text": [
      " 62%|██████████████████████████████████▍                    | 25/40 [04:28<02:40, 10.72s/it]"
     ]
    },
    {
     "name": "stdout",
     "output_type": "stream",
     "text": [
      "Epoch 25/40\n",
      "Train Loss: 0.4406, Train Accuracy: 0.8476\n",
      "Eval Loss: 1.0274, Eval Accuracy: 0.4750\n",
      "Learning Rate: 0.000063\n"
     ]
    },
    {
     "name": "stderr",
     "output_type": "stream",
     "text": [
      " 65%|███████████████████████████████████▊                   | 26/40 [04:39<02:29, 10.71s/it]"
     ]
    },
    {
     "name": "stdout",
     "output_type": "stream",
     "text": [
      "Epoch 26/40\n",
      "Train Loss: 0.4409, Train Accuracy: 0.8518\n",
      "Eval Loss: 1.0498, Eval Accuracy: 0.4833\n",
      "Learning Rate: 0.000031\n"
     ]
    },
    {
     "name": "stderr",
     "output_type": "stream",
     "text": [
      " 68%|█████████████████████████████████████▏                 | 27/40 [04:50<02:19, 10.70s/it]"
     ]
    },
    {
     "name": "stdout",
     "output_type": "stream",
     "text": [
      "Epoch 27/40\n",
      "Train Loss: 0.4287, Train Accuracy: 0.8413\n",
      "Eval Loss: 1.0868, Eval Accuracy: 0.4500\n",
      "Learning Rate: 0.000031\n"
     ]
    },
    {
     "name": "stderr",
     "output_type": "stream",
     "text": [
      " 70%|██████████████████████████████████████▌                | 28/40 [05:00<02:08, 10.71s/it]"
     ]
    },
    {
     "name": "stdout",
     "output_type": "stream",
     "text": [
      "Epoch 28/40\n",
      "Train Loss: 0.4205, Train Accuracy: 0.8580\n",
      "Eval Loss: 1.1231, Eval Accuracy: 0.4667\n",
      "Learning Rate: 0.000031\n"
     ]
    },
    {
     "name": "stderr",
     "output_type": "stream",
     "text": [
      " 72%|███████████████████████████████████████▉               | 29/40 [05:11<01:57, 10.72s/it]"
     ]
    },
    {
     "name": "stdout",
     "output_type": "stream",
     "text": [
      "Epoch 29/40\n",
      "Train Loss: 0.4192, Train Accuracy: 0.8601\n",
      "Eval Loss: 1.1048, Eval Accuracy: 0.4833\n",
      "Learning Rate: 0.000031\n"
     ]
    },
    {
     "name": "stderr",
     "output_type": "stream",
     "text": [
      " 75%|█████████████████████████████████████████▎             | 30/40 [05:22<01:46, 10.69s/it]"
     ]
    },
    {
     "name": "stdout",
     "output_type": "stream",
     "text": [
      "Epoch 30/40\n",
      "Train Loss: 0.4081, Train Accuracy: 0.8768\n",
      "Eval Loss: 1.1137, Eval Accuracy: 0.4667\n",
      "Learning Rate: 0.000031\n"
     ]
    },
    {
     "name": "stderr",
     "output_type": "stream",
     "text": [
      " 78%|██████████████████████████████████████████▋            | 31/40 [05:33<01:36, 10.74s/it]"
     ]
    },
    {
     "name": "stdout",
     "output_type": "stream",
     "text": [
      "Epoch 31/40\n",
      "Train Loss: 0.4066, Train Accuracy: 0.8706\n",
      "Eval Loss: 1.1004, Eval Accuracy: 0.4500\n",
      "Learning Rate: 0.000016\n"
     ]
    },
    {
     "name": "stderr",
     "output_type": "stream",
     "text": [
      " 80%|████████████████████████████████████████████           | 32/40 [05:43<01:25, 10.73s/it]"
     ]
    },
    {
     "name": "stdout",
     "output_type": "stream",
     "text": [
      "Epoch 32/40\n",
      "Train Loss: 0.4039, Train Accuracy: 0.8810\n",
      "Eval Loss: 1.1016, Eval Accuracy: 0.4500\n",
      "Learning Rate: 0.000016\n"
     ]
    },
    {
     "name": "stderr",
     "output_type": "stream",
     "text": [
      " 82%|█████████████████████████████████████████████▍         | 33/40 [05:54<01:15, 10.75s/it]"
     ]
    },
    {
     "name": "stdout",
     "output_type": "stream",
     "text": [
      "Epoch 33/40\n",
      "Train Loss: 0.4013, Train Accuracy: 0.8789\n",
      "Eval Loss: 1.1066, Eval Accuracy: 0.4750\n",
      "Learning Rate: 0.000016\n"
     ]
    },
    {
     "name": "stderr",
     "output_type": "stream",
     "text": [
      " 85%|██████████████████████████████████████████████▊        | 34/40 [06:05<01:04, 10.69s/it]"
     ]
    },
    {
     "name": "stdout",
     "output_type": "stream",
     "text": [
      "Epoch 34/40\n",
      "Train Loss: 0.3933, Train Accuracy: 0.8831\n",
      "Eval Loss: 1.1320, Eval Accuracy: 0.4500\n",
      "Learning Rate: 0.000016\n"
     ]
    },
    {
     "name": "stderr",
     "output_type": "stream",
     "text": [
      " 88%|████████████████████████████████████████████████▏      | 35/40 [06:15<00:53, 10.70s/it]"
     ]
    },
    {
     "name": "stdout",
     "output_type": "stream",
     "text": [
      "Epoch 35/40\n",
      "Train Loss: 0.3934, Train Accuracy: 0.8810\n",
      "Eval Loss: 1.0942, Eval Accuracy: 0.4917\n",
      "Learning Rate: 0.000016\n"
     ]
    },
    {
     "name": "stderr",
     "output_type": "stream",
     "text": [
      " 90%|█████████████████████████████████████████████████▌     | 36/40 [06:26<00:42, 10.73s/it]"
     ]
    },
    {
     "name": "stdout",
     "output_type": "stream",
     "text": [
      "Epoch 36/40\n",
      "Train Loss: 0.3896, Train Accuracy: 0.8873\n",
      "Eval Loss: 1.1368, Eval Accuracy: 0.4333\n",
      "Learning Rate: 0.000008\n"
     ]
    },
    {
     "name": "stderr",
     "output_type": "stream",
     "text": [
      " 92%|██████████████████████████████████████████████████▉    | 37/40 [06:37<00:32, 10.74s/it]"
     ]
    },
    {
     "name": "stdout",
     "output_type": "stream",
     "text": [
      "Epoch 37/40\n",
      "Train Loss: 0.3867, Train Accuracy: 0.8810\n",
      "Eval Loss: 1.1241, Eval Accuracy: 0.4750\n",
      "Learning Rate: 0.000008\n"
     ]
    },
    {
     "name": "stderr",
     "output_type": "stream",
     "text": [
      " 95%|████████████████████████████████████████████████████▎  | 38/40 [06:48<00:21, 10.78s/it]"
     ]
    },
    {
     "name": "stdout",
     "output_type": "stream",
     "text": [
      "Epoch 38/40\n",
      "Train Loss: 0.3805, Train Accuracy: 0.8894\n",
      "Eval Loss: 1.1183, Eval Accuracy: 0.4250\n",
      "Learning Rate: 0.000008\n"
     ]
    },
    {
     "name": "stderr",
     "output_type": "stream",
     "text": [
      " 98%|█████████████████████████████████████████████████████▋ | 39/40 [06:58<00:10, 10.74s/it]"
     ]
    },
    {
     "name": "stdout",
     "output_type": "stream",
     "text": [
      "Epoch 39/40\n",
      "Train Loss: 0.3786, Train Accuracy: 0.8935\n",
      "Eval Loss: 1.1358, Eval Accuracy: 0.4333\n",
      "Learning Rate: 0.000008\n"
     ]
    },
    {
     "name": "stderr",
     "output_type": "stream",
     "text": [
      "100%|███████████████████████████████████████████████████████| 40/40 [07:09<00:00, 10.74s/it]"
     ]
    },
    {
     "name": "stdout",
     "output_type": "stream",
     "text": [
      "Epoch 40/40\n",
      "Train Loss: 0.3865, Train Accuracy: 0.8789\n",
      "Eval Loss: 1.1144, Eval Accuracy: 0.4583\n",
      "Learning Rate: 0.000008\n"
     ]
    },
    {
     "name": "stderr",
     "output_type": "stream",
     "text": [
      "\n"
     ]
    },
    {
     "data": {
      "text/html": [
       "\n",
       "    <style>\n",
       "        .wandb-row {\n",
       "            display: flex;\n",
       "            flex-direction: row;\n",
       "            flex-wrap: wrap;\n",
       "            justify-content: flex-start;\n",
       "            width: 100%;\n",
       "        }\n",
       "        .wandb-col {\n",
       "            display: flex;\n",
       "            flex-direction: column;\n",
       "            flex-basis: 100%;\n",
       "            flex: 1;\n",
       "            padding: 10px;\n",
       "        }\n",
       "    </style>\n",
       "<div class=\"wandb-row\"><div class=\"wandb-col\"><h3>Run history:</h3><br/><table class=\"wandb\"><tr><td>epoch</td><td>▁▁▁▂▂▂▂▂▂▃▃▃▃▃▄▄▄▄▄▄▅▅▅▅▅▅▆▆▆▆▆▇▇▇▇▇▇███</td></tr><tr><td>eval_accuracy</td><td>▁▃▃▂▃▄▄▅▅▄▄▅▄▆▄▆▆▆▆▇▆█▆▇▆▇▅▆▇▆▅▅▆▅▇▅▆▄▅▆</td></tr><tr><td>eval_loss</td><td>█▆▇▅▄▃▄▂▃▅▃▃▃▃▃▂▃▂▂▂▂▂▂▂▁▁▂▂▂▂▂▂▂▂▂▃▂▂▃▂</td></tr><tr><td>learning_rate</td><td>█████▄▄▄▄▄▃▃▃▃▃▂▂▂▂▂▁▁▁▁▁▁▁▁▁▁▁▁▁▁▁▁▁▁▁▁</td></tr><tr><td>train_accuracy</td><td>▁▂▃▄▄▄▅▅▅▅▆▆▆▇▆▆▇▇▇▇▇▇▇▇▇█▇█████████████</td></tr><tr><td>train_loss</td><td>█▇▆▆▅▄▄▄▄▄▃▃▂▂▃▂▂▂▂▂▂▂▁▁▁▁▁▁▁▁▁▁▁▁▁▁▁▁▁▁</td></tr></table><br/></div><div class=\"wandb-col\"><h3>Run summary:</h3><br/><table class=\"wandb\"><tr><td>epoch</td><td>40</td></tr><tr><td>eval_accuracy</td><td>0.45833</td></tr><tr><td>eval_loss</td><td>1.11443</td></tr><tr><td>learning_rate</td><td>1e-05</td></tr><tr><td>train_accuracy</td><td>0.87891</td></tr><tr><td>train_loss</td><td>0.38655</td></tr></table><br/></div></div>"
      ],
      "text/plain": [
       "<IPython.core.display.HTML object>"
      ]
     },
     "metadata": {},
     "output_type": "display_data"
    },
    {
     "data": {
      "text/html": [
       " View run <strong style=\"color:#cdcd00\">light-resonance-8</strong> at: <a href='https://wandb.ai/ahmadjaved97/lstm_training/runs/kdjyumr0' target=\"_blank\">https://wandb.ai/ahmadjaved97/lstm_training/runs/kdjyumr0</a><br/> View project at: <a href='https://wandb.ai/ahmadjaved97/lstm_training' target=\"_blank\">https://wandb.ai/ahmadjaved97/lstm_training</a><br/>Synced 5 W&B file(s), 0 media file(s), 0 artifact file(s) and 0 other file(s)"
      ],
      "text/plain": [
       "<IPython.core.display.HTML object>"
      ]
     },
     "metadata": {},
     "output_type": "display_data"
    },
    {
     "data": {
      "text/html": [
       "Find logs at: <code>./wandb/run-20241129_013349-kdjyumr0/logs</code>"
      ],
      "text/plain": [
       "<IPython.core.display.HTML object>"
      ]
     },
     "metadata": {},
     "output_type": "display_data"
    }
   ],
   "source": [
    "device = torch.device(\"cuda\" if torch.cuda.is_available() else \"cpu\")\n",
    "\n",
    "# Define the LSTM model\n",
    "input_size = 64*64  # Vocabulary size or number of features (e.g., number of unique frames or actions)\n",
    "hidden_size = 128  # Hidden size of the LSTM\n",
    "num_classes = 6  # Number of output classes (for classification)\n",
    "num_layers = 2\n",
    "model = LSTM(\n",
    "    input_size=input_size, \n",
    "    hidden_size=hidden_size, \n",
    "    num_layers=num_layers, \n",
    "    num_classes=num_classes\n",
    ").to(device)\n",
    "# Loss function\n",
    "criterion = nn.CrossEntropyLoss()\n",
    "\n",
    "# Hyperparameters\n",
    "num_epochs = 20\n",
    "learning_rate = 0.001\n",
    "step_size = 5\n",
    "gamma = 0.5\n",
    "\n",
    "# Run training\n",
    "model, train_losses, train_accuracies, eval_losses, eval_accuracies, learning_rates = run_training(\n",
    "    model, train_loader, val_loader, criterion, device,\n",
    "    num_epochs, learning_rate, step_size, gamma\n",
    ")"
   ]
  },
  {
   "cell_type": "code",
   "execution_count": null,
   "id": "273e5dd8-82e0-48a0-a64b-a31a34ef8dc1",
   "metadata": {},
   "outputs": [],
   "source": [
    "# Function to evaluate model and compute predictions\n",
    "def evaluate_model(model, dataloader, device=\"cuda\"):\n",
    "    model.eval()\n",
    "    all_preds = []\n",
    "    all_labels = []\n",
    "\n",
    "    with torch.no_grad():\n",
    "        for sequences, labels in dataloader:\n",
    "            # Reshape and move to device\n",
    "            sequences = sequences.to(device)\n",
    "            labels = labels.to(device)\n",
    "\n",
    "            # Get predictions\n",
    "            outputs = model(sequences)\n",
    "            preds = torch.argmax(outputs, dim=1)\n",
    "\n",
    "            # Store predictions and labels\n",
    "            all_preds.extend(preds.cpu().numpy())\n",
    "            all_labels.extend(labels.cpu().numpy())\n",
    "\n",
    "    return np.array(all_labels), np.array(all_preds)\n",
    "\n",
    "# Use the function to get results\n",
    "y_true, y_pred = evaluate_model(model, test_loader)\n",
    "\n",
    "# Class label names\n",
    "label_names = [name for _, name in sorted(KTHProcessedDataset.class_mapping.items())]\n",
    "\n",
    "# Plot confusion matrix\n",
    "plot_confusion_matrix(y_true, y_pred, label_names, model_name=\"LSTM\")"
   ]
  },
  {
   "cell_type": "code",
   "execution_count": null,
   "id": "cae088ea-0292-46fc-91e6-1f28e222ac46",
   "metadata": {},
   "outputs": [],
   "source": []
  },
  {
   "cell_type": "code",
   "execution_count": null,
   "id": "8e7c6bf6-d895-43df-970a-c46f51aff7e0",
   "metadata": {},
   "outputs": [],
   "source": []
  },
  {
   "cell_type": "code",
   "execution_count": null,
   "id": "415553ca-d0a2-4fc6-a701-38a974f7460f",
   "metadata": {},
   "outputs": [],
   "source": []
  },
  {
   "cell_type": "markdown",
   "id": "8cf96260-7128-4d5b-ab95-1ac7d1907141",
   "metadata": {},
   "source": [
    "### ConvLSTM"
   ]
  },
  {
   "cell_type": "code",
   "execution_count": 30,
   "id": "6119dec3-605c-4bc2-8a4a-3e7f4f98b148",
   "metadata": {},
   "outputs": [],
   "source": [
    "class ConvLSTMCell(nn.Module):\n",
    "    def __init__(self, input_channels, hidden_channels, \n",
    "                 kernel_size=3, bias=True):\n",
    "        \"\"\"\n",
    "        ConvLSTM Cell Implementation\n",
    "        \n",
    "        Args:\n",
    "            input_channels (int): Number of input channels\n",
    "            hidden_channels (int): Number of hidden channels\n",
    "            kernel_size (int, optional): Convolution kernel size. Defaults to 3.\n",
    "            bias (bool, optional): Whether to use bias in convolutions. Defaults to True.\n",
    "        \"\"\"\n",
    "        super(ConvLSTMCell, self).__init__()\n",
    "        \n",
    "        # Padding to maintain spatial dimensions\n",
    "        padding = kernel_size // 2\n",
    "        \n",
    "        # Combine input, hidden state, and cell state convolutions\n",
    "        self.input_conv = nn.Conv2d(input_channels + hidden_channels, \n",
    "                                    4 * hidden_channels, \n",
    "                                    kernel_size, \n",
    "                                    padding=padding, \n",
    "                                    bias=bias)\n",
    "        \n",
    "        self.hidden_channels = hidden_channels\n",
    "        \n",
    "    def forward(self, input_tensor, cur_state):\n",
    "        \"\"\"\n",
    "        Forward pass for ConvLSTM Cell\n",
    "        \n",
    "        Args:\n",
    "            input_tensor (torch.Tensor): Input tensor \n",
    "                Shape: [batch_size, input_channels, height, width]\n",
    "            cur_state (tuple): Current state \n",
    "                Contains hidden state and cell state\n",
    "                Each: [batch_size, hidden_channels, height, width]\n",
    "        \n",
    "        Returns:\n",
    "            tuple: Next hidden state and cell state\n",
    "        \"\"\"\n",
    "        h_cur, c_cur = cur_state\n",
    "        \n",
    "        # Concatenate input and current hidden state\n",
    "        combined = torch.cat([input_tensor, h_cur], dim=1)\n",
    "        \n",
    "        # Perform convolution\n",
    "        combined_conv = self.input_conv(combined)\n",
    "        \n",
    "        # Split the convolved tensor into gates\n",
    "        cc_i, cc_f, cc_o, cc_g = torch.split(combined_conv, \n",
    "                                             self.hidden_channels, \n",
    "                                             dim=1)\n",
    "        \n",
    "        # Apply activation functions to gates\n",
    "        i = torch.sigmoid(cc_i)  # Input gate\n",
    "        f = torch.sigmoid(cc_f)  # Forget gate\n",
    "        o = torch.sigmoid(cc_o)  # Output gate\n",
    "        g = torch.tanh(cc_g)     # Cell gate\n",
    "        \n",
    "        # Update cell state\n",
    "        c_next = f * c_cur + i * g\n",
    "        \n",
    "        # Update hidden state\n",
    "        h_next = o * torch.tanh(c_next)\n",
    "        \n",
    "        return h_next, c_next\n",
    "    \n",
    "    def init_hidden(self, batch_size, image_size):\n",
    "        \"\"\"\n",
    "        Initialize hidden and cell states\n",
    "        \n",
    "        Args:\n",
    "            batch_size (int): Batch size\n",
    "            image_size (tuple): (height, width) of the input image\n",
    "        \n",
    "        Returns:\n",
    "            tuple: Initialized hidden and cell states\n",
    "        \"\"\"\n",
    "        height, width = image_size\n",
    "        device = next(self.parameters()).device\n",
    "        return (torch.zeros(batch_size, self.hidden_channels, height, width, device=device),\n",
    "                torch.zeros(batch_size, self.hidden_channels, height, width, device=device))\n",
    "\n",
    "class ConvLSTM(nn.Module):\n",
    "    def __init__(self, input_channels, hidden_channels, \n",
    "                 kernel_size=3, num_layers=1, num_classes=6, \n",
    "                 bias=True):\n",
    "        \"\"\"\n",
    "        ConvLSTM for Video Classification\n",
    "        \n",
    "        Args:\n",
    "            input_channels (int): Number of input channels\n",
    "            hidden_channels (int or list): Number of hidden channels per layer\n",
    "            kernel_size (int, optional): Convolution kernel size. Defaults to 3.\n",
    "            num_layers (int, optional): Number of ConvLSTM layers. Defaults to 1.\n",
    "            num_classes (int, optional): Number of action classes. Defaults to 6.\n",
    "            bias (bool, optional): Whether to use bias in convolutions. Defaults to True.\n",
    "        \"\"\"\n",
    "        super(ConvLSTM, self).__init__()\n",
    "        \n",
    "        # Ensure hidden_channels is a list\n",
    "        if not isinstance(hidden_channels, list):\n",
    "            hidden_channels = [hidden_channels] * num_layers\n",
    "        \n",
    "        # Create ConvLSTM layers\n",
    "        self.convlstm_layers = nn.ModuleList([\n",
    "            ConvLSTMCell(\n",
    "                input_channels if i == 0 else hidden_channels[i-1], \n",
    "                hidden_channels[i], \n",
    "                kernel_size, \n",
    "                bias\n",
    "            ) for i in range(num_layers)\n",
    "        ])\n",
    "        \n",
    "        # Classification head\n",
    "        self.classifier = nn.Sequential(\n",
    "            nn.AdaptiveAvgPool2d((1, 1)),  # Global average pooling\n",
    "            nn.Flatten(),\n",
    "            nn.Linear(hidden_channels[-1], num_classes)\n",
    "        )\n",
    "        \n",
    "        self.num_layers = num_layers\n",
    "    \n",
    "    def forward(self, x):\n",
    "        \"\"\"\n",
    "        Forward pass for ConvLSTM\n",
    "        \n",
    "        Args:\n",
    "            x (torch.Tensor): Input video sequence \n",
    "               Shape: [batch_size, sequence_length, channels, height, width]\n",
    "        \n",
    "        Returns:\n",
    "            torch.Tensor: Class predictions\n",
    "        \"\"\"\n",
    "        # Normalize input tensor to [batch_size, sequence_length, channels, height, width]\n",
    "        if len(x.size()) == 4:\n",
    "            # [batch_size, sequence_length, height, width] - assume single channel\n",
    "            x = x.unsqueeze(2)\n",
    "        elif len(x.size()) == 5:\n",
    "            # Handle [batch_size, sequence_length, height, width, channels]\n",
    "            x = x.permute(0, 1, 4, 2, 3)\n",
    "            \n",
    "        # Ensure input is in the right shape\n",
    "        batch_size, seq_len, channels, height, width = x.size()\n",
    "        \n",
    "        # Initialize hidden states for each layer\n",
    "        hidden_states = [\n",
    "            layer.init_hidden(batch_size, (height, width)) \n",
    "            for layer in self.convlstm_layers\n",
    "        ]\n",
    "        \n",
    "        # Iterate through sequence\n",
    "        for t in range(seq_len):\n",
    "            # Input for current timestep\n",
    "            x_t = x[:, t, :, :, :]\n",
    "            \n",
    "            # Propagate through ConvLSTM layers\n",
    "            for layer_idx in range(self.num_layers):\n",
    "                # Get current layer and its hidden state\n",
    "                layer = self.convlstm_layers[layer_idx]\n",
    "                h, c = hidden_states[layer_idx]\n",
    "                \n",
    "                # Update hidden state\n",
    "                h_next, c_next = layer(x_t, (h, c))\n",
    "                \n",
    "                # Update for next iteration\n",
    "                hidden_states[layer_idx] = (h_next, c_next)\n",
    "                \n",
    "                # For intermediate layers, use output as input\n",
    "                x_t = h_next\n",
    "        \n",
    "        # Use final hidden state of last layer for classification\n",
    "        output = self.classifier(h_next)\n",
    "        \n",
    "        return output"
   ]
  },
  {
   "cell_type": "code",
   "execution_count": 1,
   "id": "270bf52a-fb96-42d9-b979-df9d5a7c6cff",
   "metadata": {},
   "outputs": [],
   "source": [
    "# device = torch.device(\"cuda\" if torch.cuda.is_available() else \"cpu\")\n",
    "\n",
    "# # Define the LSTM model\n",
    "# input_size = 64*64  # Vocabulary size or number of features (e.g., number of unique frames or actions)\n",
    "# hidden_size = 128  # Hidden size of the LSTM\n",
    "# num_classes = 6  # Number of output classes (for classification)\n",
    "# num_layers = 2\n",
    "# model = ConvLSTM(\n",
    "#     input_channels=1, \n",
    "#     hidden_channels=[64, 128], \n",
    "#     num_layers=num_layers, \n",
    "#     num_classes=num_classes\n",
    "# ).to(device)\n",
    "# # Loss function\n",
    "# criterion = nn.CrossEntropyLoss()\n",
    "\n",
    "# # Hyperparameters\n",
    "# num_epochs = 40\n",
    "# learning_rate = 0.001\n",
    "# step_size = 5\n",
    "# gamma = 0.5\n",
    "\n",
    "# # Run training\n",
    "# model, train_losses, train_accuracies, eval_losses, eval_accuracies, learning_rates = run_training(\n",
    "#     model, train_loader, val_loader, criterion, device,\n",
    "#     num_epochs, learning_rate, step_size, gamma, 'convlstm_training'\n",
    "# )"
   ]
  },
  {
   "cell_type": "code",
   "execution_count": null,
   "id": "182a02c7-4789-4398-a2ff-568a3337a182",
   "metadata": {},
   "outputs": [],
   "source": []
  }
 ],
 "metadata": {
  "kernelspec": {
   "display_name": "Python 3 (ipykernel)",
   "language": "python",
   "name": "python3"
  },
  "language_info": {
   "codemirror_mode": {
    "name": "ipython",
    "version": 3
   },
   "file_extension": ".py",
   "mimetype": "text/x-python",
   "name": "python",
   "nbconvert_exporter": "python",
   "pygments_lexer": "ipython3",
   "version": "3.8.10"
  }
 },
 "nbformat": 4,
 "nbformat_minor": 5
}
