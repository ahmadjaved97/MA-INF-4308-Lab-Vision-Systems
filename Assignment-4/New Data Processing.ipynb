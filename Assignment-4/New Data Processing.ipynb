{
 "cells": [
  {
   "cell_type": "markdown",
   "id": "84768a63-5922-4c8c-8ebd-36098d7c76b3",
   "metadata": {},
   "source": [
    "### 1. Import the Required Libraries"
   ]
  },
  {
   "cell_type": "code",
   "execution_count": 2,
   "id": "ab6c550b-f85b-46f6-9811-0da914824b29",
   "metadata": {},
   "outputs": [],
   "source": [
    "import torch\n",
    "import torch.nn as nn\n",
    "import torch.nn.functional as F\n",
    "from torchvision import transforms\n",
    "import torch.optim as optim\n",
    "from torch.utils.data import Dataset, DataLoader, random_split\n",
    "from torch.optim.lr_scheduler import StepLR\n",
    "import numpy as np\n",
    "import matplotlib.pyplot as plt\n",
    "import os\n",
    "from PIL import Image\n",
    "import random\n",
    "from tqdm import tqdm\n",
    "from sklearn.metrics import confusion_matrix\n",
    "import seaborn as sns\n",
    "import wandb"
   ]
  },
  {
   "cell_type": "markdown",
   "id": "269a3086-92bb-4ca8-99ce-b72203577636",
   "metadata": {},
   "source": [
    "### 2. Set Device"
   ]
  },
  {
   "cell_type": "code",
   "execution_count": 3,
   "id": "8c7367ee-93e4-456c-b388-35a71ced9a20",
   "metadata": {},
   "outputs": [],
   "source": [
    "device = \"cpu\" #torch.device(\"cuda\" if torch.cuda.is_available() else \"cpu\")"
   ]
  },
  {
   "cell_type": "markdown",
   "id": "40a0456b-4f06-4600-b86f-cacd93517be6",
   "metadata": {},
   "source": [
    "### 3. Data Loading and Processing"
   ]
  },
  {
   "cell_type": "code",
   "execution_count": 4,
   "id": "97509466-74a9-4607-9935-ab02947df801",
   "metadata": {},
   "outputs": [],
   "source": [
    "class KTHProcessedDataset(Dataset):\n",
    "    def __init__(self, root_dir, sequence_length=15, transform=None):\n",
    "        \"\"\"\n",
    "        root_dir: path of the parent directory that contains processed frames/images.\n",
    "        sequence_length: the number of frames in each subsequence.\n",
    "        transforms: augmentations applied to the frames (can be none or more).\n",
    "        \"\"\"\n",
    "        self.root_dir = root_dir\n",
    "        self.sequence_length = sequence_length\n",
    "        self.transform = transform\n",
    "        self.data = []\n",
    "        self.class_mapping = {}\n",
    "\n",
    "        # Parse through categories\n",
    "        for label, category in enumerate(sorted(os.listdir(root_dir))):\n",
    "            category_path = os.path.join(root_dir, category)\n",
    "            # if not os.path.isdir(category_path):\n",
    "            #     continue\n",
    "            self.class_mapping[label] = category\n",
    "            for subfolder in os.listdir(category_path):\n",
    "                subfolder_path = os.path.join(category_path, subfolder)\n",
    "                if os.path.isdir(subfolder_path): # check (folder also contain some json)\n",
    "                    frames = sorted(os.listdir(subfolder_path))\n",
    "\n",
    "                    # Create subsequences from frames\n",
    "                    for start_idx in range(0, len(frames) - sequence_length + 1, sequence_length):  # (0, 450-15+1, 15)\n",
    "                        subsequence_frames = frames[start_idx:start_idx + sequence_length]          # (0, 0+15), then (15, 30) and so on.\n",
    "                        if len(subsequence_frames) == sequence_length:\n",
    "                            self.data.append((subfolder_path, subsequence_frames, label))\n",
    "\n",
    "    def __len__(self):\n",
    "        return len(self.data)\n",
    "\n",
    "    def __getitem__(self, idx):\n",
    "        subfolder_path, frames, label = self.data[idx]\n",
    "\n",
    "        sequence = []\n",
    "        for frame_file in frames:\n",
    "            frame_path = os.path.join(subfolder_path, frame_file)\n",
    "            try:\n",
    "                img = Image.open(frame_path).convert(\"L\")\n",
    "                if self.transform:\n",
    "                    img = self.transform(img)\n",
    "\n",
    "                img = img.view(-1)\n",
    "                sequence.append(img)\n",
    "\n",
    "            except Exception as e:\n",
    "                # Found some corrupted image in the folders\n",
    "                print(f\"Skipping image {frame_path} due to error: {e}\")\n",
    "                return self.__getitem__((idx + 1) % len(self))\n",
    "\n",
    "        # Stack frames into tensor\n",
    "        sequence = torch.stack(sequence, dim=0)\n",
    "        return sequence, label\n"
   ]
  },
  {
   "cell_type": "markdown",
   "id": "dccb351f-6218-4176-b208-2b2d3804bf76",
   "metadata": {},
   "source": [
    "- No image resizing is done because the processed frames are of size 64x64.\n",
    "- Images are converted to Grayscale (64x64=4096 pixels) since it will save some computation time (and the images are also grayscale so we don't lose any information). For RGB the number of pixels will be 3 x 4096."
   ]
  },
  {
   "cell_type": "markdown",
   "id": "112acb76-03eb-4036-abef-b28c34635746",
   "metadata": {},
   "source": [
    "#### Define augmentations"
   ]
  },
  {
   "cell_type": "code",
   "execution_count": 5,
   "id": "a7907a89-a285-45c3-8c39-79a2f195f9e2",
   "metadata": {},
   "outputs": [],
   "source": [
    "# Define augmentations\n",
    "transform = transforms.Compose([\n",
    "    \n",
    "    # RandomHorizontalFlip(p=0.5),\n",
    "    # RandomRotation(degrees=15),\n",
    "    transforms.RandomCrop(size=(64, 64), pad_if_needed=True),\n",
    "\n",
    "    transforms.RandomApply([transforms.ColorJitter(brightness=0.2, contrast=0.2)], p=0.3),\n",
    "    transforms.GaussianBlur(3, sigma=(0.1, 2.0)),\n",
    "    \n",
    "    transforms.ToTensor(),                             \n",
    "    transforms.Normalize(mean=[0.5], std=[0.5])\n",
    "])"
   ]
  },
  {
   "cell_type": "markdown",
   "id": "e082df04-48f1-4c9c-a050-b1c6ae1ed13e",
   "metadata": {},
   "source": [
    "Taking the sequence length because I observed that in some of the categories like jogging, the first 7-8 frames are empty and till the 40-45th frames we get a complete motion i.e. person comes in running in the frame and then goes out after that the frames are again empty till the person again comes from the opposite direction."
   ]
  },
  {
   "cell_type": "code",
   "execution_count": 6,
   "id": "a06956cc-a033-41d5-a60c-e8ef9a7d8503",
   "metadata": {},
   "outputs": [],
   "source": [
    "# Paths and hyperparameters\n",
    "root_dir = '/home/nfs/inf6/data/datasets/kth_actions/processed'\n",
    "sequence_length = 45\n",
    "batch_size = 16\n",
    "train_ratio = 0.8  # 80% for train 20% for val"
   ]
  },
  {
   "cell_type": "code",
   "execution_count": 7,
   "id": "f403502c-da2b-4d77-8aa2-8448fb18d04b",
   "metadata": {},
   "outputs": [
    {
     "name": "stdout",
     "output_type": "stream",
     "text": [
      "Dataset size: 6150\n",
      "Train set size: 4920\n",
      "Validation set size: 1230\n"
     ]
    }
   ],
   "source": [
    "# Load the whole dataset\n",
    "dataset = KTHProcessedDataset(root_dir=root_dir, sequence_length=sequence_length, transform=transform)\n",
    "\n",
    "# Calculate train and validation sizes\n",
    "dataset_size = len(dataset)\n",
    "train_size = int(train_ratio * dataset_size)\n",
    "val_size = dataset_size - train_size\n",
    "\n",
    "# Split dataset into train and val\n",
    "train_dataset, val_dataset = random_split(dataset, [train_size, val_size])\n",
    "\n",
    "# DataLoaders for train and val sets\n",
    "train_loader = DataLoader(train_dataset, batch_size=batch_size, shuffle=True, num_workers=4)\n",
    "val_loader = DataLoader(val_dataset, batch_size=batch_size, shuffle=False, num_workers=4)\n",
    "\n",
    "print(f\"Dataset size: {dataset_size}\")\n",
    "print(f\"Train set size: {train_size}\")\n",
    "print(f\"Validation set size: {val_size}\")"
   ]
  },
  {
   "cell_type": "code",
   "execution_count": 8,
   "id": "20475d61-56e4-4085-bffc-30115e923c3e",
   "metadata": {},
   "outputs": [
    {
     "name": "stdout",
     "output_type": "stream",
     "text": [
      "Dataset Classes:\n",
      "Class ID: 0, Class Name: boxing\n",
      "Class ID: 1, Class Name: handclapping\n",
      "Class ID: 2, Class Name: handwaving\n",
      "Class ID: 3, Class Name: jogging\n",
      "Class ID: 4, Class Name: running\n",
      "Class ID: 5, Class Name: walking\n"
     ]
    }
   ],
   "source": [
    "print(\"Dataset Classes:\")\n",
    "for class_id, class_name in dataset.class_mapping.items():\n",
    "    print(f\"Class ID: {class_id}, Class Name: {class_name}\")"
   ]
  },
  {
   "cell_type": "code",
   "execution_count": 9,
   "id": "922dbb65-fc42-457b-a1f3-69aa21a57fe2",
   "metadata": {},
   "outputs": [
    {
     "data": {
      "text/plain": [
       "{'boxing': 0,\n",
       " 'handclapping': 1,\n",
       " 'handwaving': 2,\n",
       " 'jogging': 3,\n",
       " 'running': 4,\n",
       " 'walking': 5}"
      ]
     },
     "execution_count": 9,
     "metadata": {},
     "output_type": "execute_result"
    }
   ],
   "source": [
    "# reverse mapping of the dataclasses\n",
    "reverse_mapping = {val:key for key,val in dataset.class_mapping.items()}\n",
    "reverse_mapping"
   ]
  },
  {
   "cell_type": "markdown",
   "id": "2ceb91eb-300d-46a3-b2c9-f3c241844998",
   "metadata": {},
   "source": [
    "#### Visualize dataset"
   ]
  },
  {
   "cell_type": "code",
   "execution_count": 10,
   "id": "54bab9fe-725e-4308-92f9-7f8ef7d1319e",
   "metadata": {},
   "outputs": [],
   "source": [
    "def visualize_sequences(dataset, category_label, num_sequences=3, sequence_length=15):\n",
    "    \"\"\"\n",
    "    Visualizes the first `num_sequences` sequences for a specific category label.\n",
    "    \n",
    "    Args:\n",
    "        dataset: Instance of KTHProcessedDataset.\n",
    "        category_label: Label of the category to visualize.\n",
    "        num_sequences: Number of sequences to visualize.\n",
    "        sequence_length: Length of each sequence.\n",
    "    \"\"\"\n",
    "    sequences_shown = 0\n",
    "    \n",
    "    plt.figure(figsize=(15, num_sequences * 3))\n",
    "    for i in range(len(dataset)):\n",
    "        sequence, label = dataset[i]\n",
    "        if label == category_label:\n",
    "            for frame_idx in range(sequence_length):\n",
    "                plt.subplot(num_sequences, sequence_length, sequences_shown * sequence_length + frame_idx + 1)\n",
    "                frame = sequence[frame_idx].view(64, 64).cpu().numpy()\n",
    "                plt.imshow(frame, cmap=\"gray\")\n",
    "                plt.axis(\"off\")\n",
    "            \n",
    "            sequences_shown += 1\n",
    "            if sequences_shown >= num_sequences:\n",
    "                break\n",
    "\n",
    "    plt.suptitle(f\"Sequences for category label: {category_label}\", fontsize=16)\n",
    "    plt.show()"
   ]
  },
  {
   "cell_type": "code",
   "execution_count": 11,
   "id": "ecd88238-39a0-4dea-9251-8c5943c8b3e0",
   "metadata": {},
   "outputs": [
    {
     "data": {
      "image/png": "[encoded data removed]",
      "text/plain": [
       "<Figure size 1500x600 with 30 Axes>"
      ]
     },
     "metadata": {},
     "output_type": "display_data"
    }
   ],
   "source": [
    "# Visualize sequences for category label 0 (e.g., walking)\n",
    "category_name = 'boxing'\n",
    "visualize_sequences(val_dataset, category_label=reverse_mapping[category_name], num_sequences=2, sequence_length=15)"
   ]
  },
  {
   "cell_type": "markdown",
   "id": "6061fd62-5584-4b64-9d15-2196fd8bd1d4",
   "metadata": {},
   "source": [
    "### Training and Validation Code\n",
    "\n",
    "This is the same code as used in the previous assignments with minor changes and integration of 'Weigths and Biases' for logging of metrics."
   ]
  },
  {
   "cell_type": "code",
   "execution_count": 12,
   "id": "3446e230-6fd4-460a-b113-8c200acb6c30",
   "metadata": {},
   "outputs": [],
   "source": [
    "def train_nn(model, train_loader, criterion, optimizer, device):\n",
    "    \"\"\"Train  model for one epoch\"\"\"\n",
    "    model.train()\n",
    "    running_loss = 0.0\n",
    "    correct_labels = 0\n",
    "    total_labels = 0\n",
    "\n",
    "    for inputs, labels in train_loader:\n",
    "        inputs, labels = inputs.to(device), labels.to(device)\n",
    "        \n",
    "        optimizer.zero_grad()\n",
    "        outputs = model(inputs)\n",
    "        \n",
    "        loss = criterion(outputs, labels)\n",
    "        loss.backward()\n",
    "        optimizer.step()\n",
    "\n",
    "        running_loss += loss.item()\n",
    "\n",
    "        # Compute accuracy\n",
    "        _, predicted_labels = torch.max(outputs, dim=1)\n",
    "        correct_labels += (predicted_labels == labels).sum().item()\n",
    "        total_labels += labels.size(0)\n",
    "\n",
    "    avg_loss = running_loss / len(train_loader)\n",
    "    accuracy = correct_labels / total_labels\n",
    "    return avg_loss, accuracy\n",
    "\n",
    "def evaluate_nn(model, eval_loader, criterion, device):\n",
    "    \"\"\"Evaluate the model after each epoch.\"\"\"\n",
    "    model.eval()\n",
    "    running_loss = 0.0\n",
    "    correct_labels = 0\n",
    "    total_labels = 0\n",
    "\n",
    "    with torch.no_grad():\n",
    "        for inputs, labels in eval_loader:\n",
    "            inputs, labels = inputs.to(device), labels.to(device)\n",
    "            outputs = model(inputs)\n",
    "            \n",
    "            loss = criterion(outputs, labels)\n",
    "            running_loss += loss.item()\n",
    "\n",
    "            # Compute accuracy\n",
    "            _, predicted_labels = torch.max(outputs, dim=1)\n",
    "            correct_labels += (predicted_labels == labels).sum().item()\n",
    "            total_labels += labels.size(0)\n",
    "\n",
    "    avg_loss = running_loss / len(eval_loader)\n",
    "    accuracy = correct_labels / total_labels\n",
    "    return avg_loss, accuracy\n",
    "\n",
    "def run_training(model, train_loader, eval_loader, criterion, device, num_epochs, learning_rate=0.001, step_size=5, gamma=0.5,\n",
    "                 project='lstm_training', name='test_run'):\n",
    "    \"\"\"Train and evaluate the model for a given number of epochs with W&B logging\"\"\"\n",
    "\n",
    "    # Initialize W&B logging\n",
    "    wandb.init(project=project, name=name, config={\n",
    "        \"learning_rate\": learning_rate,\n",
    "        \"num_epochs\": num_epochs,\n",
    "        \"step_size\": step_size,\n",
    "        \"gamma\": gamma,\n",
    "        \"optimizer\": \"Adam\",\n",
    "    },\n",
    "    )\n",
    "    config = wandb.config\n",
    "\n",
    "    optimizer = optim.Adam(model.parameters(), lr=learning_rate)  # Optimizer\n",
    "    scheduler = StepLR(optimizer, step_size=step_size, gamma=gamma)  # Learning rate scheduler\n",
    "    \n",
    "    train_losses = []\n",
    "    eval_losses = []\n",
    "    train_accuracies = []\n",
    "    eval_accuracies = []\n",
    "    learning_rates = []\n",
    "\n",
    "    for epoch in tqdm(range(num_epochs)):\n",
    "        # Train for one epoch\n",
    "        train_loss, train_accuracy = train_nn(model, train_loader, criterion, optimizer, device)\n",
    "        # Evaluate after each epoch\n",
    "        eval_loss, eval_accuracy = evaluate_nn(model, eval_loader, criterion, device)\n",
    "\n",
    "        current_lr = scheduler.get_last_lr()[0]\n",
    "\n",
    "\n",
    "        train_losses.append(train_loss)\n",
    "        eval_losses.append(eval_loss)\n",
    "        train_accuracies.append(train_accuracy)\n",
    "        eval_accuracies.append(eval_accuracy)\n",
    "        learning_rates.append(current_lr)\n",
    "\n",
    "        # Log metrics to W&B\n",
    "        wandb.log({\n",
    "            \"epoch\": epoch + 1,\n",
    "            \"train_loss\": train_loss,\n",
    "            \"train_accuracy\": train_accuracy,\n",
    "            \"eval_loss\": eval_loss,\n",
    "            \"eval_accuracy\": eval_accuracy,\n",
    "            \"learning_rate\": current_lr\n",
    "        })\n",
    "\n",
    "        # Print stats after each epoch\n",
    "        print(f\"Epoch {epoch+1}/{num_epochs}\")\n",
    "        print(f\"Train Loss: {train_loss:.4f}, Train Accuracy: {train_accuracy:.4f}\")\n",
    "        print(f\"Eval Loss: {eval_loss:.4f}, Eval Accuracy: {eval_accuracy:.4f}\")\n",
    "        print(f\"Learning Rate: {current_lr:.6f}\")\n",
    "        \n",
    "        # Step the LR scheduler\n",
    "        scheduler.step()\n",
    "\n",
    "    # End W&B run\n",
    "    wandb.finish()\n",
    "\n",
    "    return model, train_losses, train_accuracies, eval_losses, eval_accuracies, learning_rates"
   ]
  },
  {
   "cell_type": "markdown",
   "id": "a2223b29-b7ca-4d76-90fe-0b663a29d69e",
   "metadata": {},
   "source": [
    "### Result Visualization"
   ]
  },
  {
   "cell_type": "code",
   "execution_count": 13,
   "id": "9857624d-1055-4e70-8551-ba5e1882572d",
   "metadata": {},
   "outputs": [],
   "source": [
    "def plot_confusion_matrix(y_true, y_pred, label_names, model_name):\n",
    "    \"\"\"\n",
    "    Plots confusion matrix for a given model.\n",
    "\n",
    "    Args:\n",
    "        y_true (numpy.ndarray): True labels.\n",
    "        y_pred (numpy.ndarray): Predicted labels.\n",
    "        label_names (list): List of class names.\n",
    "        model_name (str): The name of the model to display in the plot title.\n",
    "    \"\"\"\n",
    "    cm = confusion_matrix(y_true, y_pred)\n",
    "    plt.figure(figsize=(6, 4))\n",
    "    sns.heatmap(cm, annot=True, fmt='d', cmap='Blues', \n",
    "                xticklabels=label_names, yticklabels=label_names, linewidths=1)\n",
    "    plt.xlabel('Predicted Label')\n",
    "    plt.ylabel('True Label')\n",
    "    plt.title(f'Confusion Matrix for {model_name}')\n",
    "    plt.xticks(rotation=45)\n",
    "    plt.yticks(rotation=0)\n",
    "    plt.tight_layout()\n",
    "    plt.show()"
   ]
  },
  {
   "cell_type": "code",
   "execution_count": 14,
   "id": "87015214-88f4-4f6c-a0d1-c1dde3740aae",
   "metadata": {},
   "outputs": [],
   "source": [
    "# Function to evaluate model and compute predictions\n",
    "def evaluate_model(model, dataloader, device=\"cuda\"):\n",
    "    model.eval()\n",
    "    all_preds = []\n",
    "    all_labels = []\n",
    "\n",
    "    with torch.no_grad():\n",
    "        for sequences, labels in dataloader:\n",
    "            sequences = sequences.to(device)\n",
    "            labels = labels.to(device)\n",
    "\n",
    "            outputs = model(sequences)\n",
    "            preds = torch.argmax(outputs, dim=1)\n",
    "\n",
    "            all_preds.extend(preds.cpu().numpy())\n",
    "            all_labels.extend(labels.cpu().numpy())\n",
    "\n",
    "    return np.array(all_labels), np.array(all_preds)"
   ]
  },
  {
   "cell_type": "markdown",
   "id": "4ed48dc4-d9a7-4868-988e-c45bf15b2f34",
   "metadata": {},
   "source": [
    "#### LSTM  and LSTM Cell from Scratch\n",
    "\n",
    "Inspired from \n",
    "1. https://github.com/hadi-gharibi/pytorch-lstm/blob/master/lstm.ipynb\n",
    "2. https://github.com/georgeyiasemis/Recurrent-Neural-Networks-from-scratch-using-PyTorch\n",
    "\n",
    "both sources have highly similar code"
   ]
  },
  {
   "cell_type": "code",
   "execution_count": 21,
   "id": "1ade1789-e080-463b-9d27-bf53f831bb6e",
   "metadata": {},
   "outputs": [],
   "source": [
    "### This works\n",
    "\n",
    "class LSTMCell(nn.Module):\n",
    "    \"\"\"\n",
    "    Custom LSTM Cell implementation from scratch\n",
    "    \n",
    "    Args:\n",
    "    - input_size: Number of input features\n",
    "    - hidden_size: Number of hidden units\n",
    "    \"\"\"\n",
    "    def __init__(self, input_size, hidden_size):\n",
    "        super(LSTMCell, self).__init__()\n",
    "        self.input_size = input_size\n",
    "        self.hidden_size = hidden_size\n",
    "        \n",
    "        # all gates weight combined into signle matrix\n",
    "        # ih -> input_hidden\n",
    "        # hh -> hidden_hidden\n",
    "        self.weight_ih = nn.Parameter(torch.empty(4 * hidden_size, input_size))  \n",
    "        self.weight_hh = nn.Parameter(torch.empty(4 * hidden_size, hidden_size))\n",
    "        \n",
    "        # Bias term\n",
    "        self.bias_ih = nn.Parameter(torch.empty(4 * hidden_size))\n",
    "        self.bias_hh = nn.Parameter(torch.empty(4 * hidden_size))\n",
    "        \n",
    "        # Initialize weights\n",
    "        std = 1.0 / np.sqrt(self.hidden_size)\n",
    "        nn.init.uniform_(self.weight_ih, -std, std)\n",
    "        nn.init.uniform_(self.weight_hh, -std, std)\n",
    "        nn.init.uniform_(self.bias_ih, -std, std)\n",
    "        nn.init.uniform_(self.bias_hh, -std, std)\n",
    "    \n",
    "    def forward(self, x, hidden_state=None):\n",
    "        \"\"\"\n",
    "        Forward pass for LSTM Cell\n",
    "        \n",
    "        Args:\n",
    "        - x: input tensor of shape (batch_size, input_size)\n",
    "        - hidden_state: tuple of (h, c) - previous hidden and cell states\n",
    "        \n",
    "        Returns:\n",
    "        - new_h: new hidden state\n",
    "        - new_c: new cell state\n",
    "        \"\"\"\n",
    "        # Initialize hidden state if not provided\n",
    "        if hidden_state is None:\n",
    "            batch_size = x.size(0)\n",
    "            h = x.new_zeros(batch_size, self.hidden_size)\n",
    "            c = x.new_zeros(batch_size, self.hidden_size)\n",
    "        else:\n",
    "            h, c = hidden_state\n",
    "        \n",
    "        # Compute gate inputs\n",
    "        gates = F.linear(x, self.weight_ih, self.bias_ih) + F.linear(h, self.weight_hh, self.bias_hh)\n",
    "        \n",
    "        # Split gates into 4 equal parts\n",
    "        ingate, forgetgate, cellgate, outgate = gates.chunk(4, 1)\n",
    "        \n",
    "        # Apply activation\n",
    "        ingate = torch.sigmoid(ingate)\n",
    "        forgetgate = torch.sigmoid(forgetgate)\n",
    "        cellgate = torch.tanh(cellgate)\n",
    "        outgate = torch.sigmoid(outgate)\n",
    "        \n",
    "        # new cell state\n",
    "        new_c = (forgetgate * c) + (ingate * cellgate)\n",
    "        \n",
    "        # new hidden state\n",
    "        new_h = outgate * torch.tanh(new_c)\n",
    "        \n",
    "        return new_h, new_c\n",
    "\n",
    "class LSTM(nn.Module):\n",
    "    def __init__(self, input_size, hidden_size, num_layers, num_classes, batch_first=True):\n",
    "        super(LSTM, self).__init__()\n",
    "        \n",
    "        self.hidden_size = hidden_size\n",
    "        self.num_layers = num_layers\n",
    "        self.batch_first = batch_first\n",
    "        \n",
    "        # Create LSTM cells for each layer\n",
    "        self.lstm_cells = nn.ModuleList()\n",
    "        for i in range(num_layers):\n",
    "            layer_input_size = input_size if i == 0 else hidden_size\n",
    "            self.lstm_cells.append(LSTMCell(layer_input_size, hidden_size))\n",
    "        \n",
    "        # Classification layer\n",
    "        self.classifier = nn.Linear(hidden_size, num_classes)\n",
    "    \n",
    "    def forward(self, x):\n",
    "        if not self.batch_first:\n",
    "            x = x.transpose(0, 1)\n",
    "        \n",
    "        batch_size, seq_len, _ = x.size()\n",
    "        \n",
    "        # Initialize hidden states\n",
    "        h_list = []\n",
    "        c_list = []\n",
    "        for _ in range(self.num_layers):\n",
    "            h_list.append(torch.zeros(batch_size, self.hidden_size, device=x.device))\n",
    "            c_list.append(torch.zeros(batch_size, self.hidden_size, device=x.device))\n",
    "\n",
    "\n",
    "        all_h_states = []\n",
    "\n",
    "        for t in range(seq_len):\n",
    "            # Current input at time  t\n",
    "            input_t = x[:, t, :]\n",
    "            \n",
    "            for layer in range(self.num_layers):\n",
    "                cell = self.lstm_cells[layer]\n",
    "                \n",
    "                # Use previous layer hidden state as input\n",
    "                h_prev = input_t if layer == 0 else h_list[layer-1]\n",
    "                \n",
    "                # Update hidden and cell states\n",
    "                h_list[layer], c_list[layer] = cell(h_prev, (h_list[layer], c_list[layer]))\n",
    "            \n",
    "            \n",
    "            all_h_states.append(h_list[-1])\n",
    "\n",
    "        # Stack the hidden states for all time steps\n",
    "        all_h_states = torch.stack(all_h_states, dim=1)  # Shape: [batch_size, seq_len, hidden_size]\n",
    "\n",
    "        \n",
    "        output = self.classifier(all_h_states)\n",
    "\n",
    "        return output\n"
   ]
  },
  {
   "cell_type": "code",
   "execution_count": 26,
   "id": "4d0e8c24-b323-4c61-8203-f364181c1e25",
   "metadata": {},
   "outputs": [],
   "source": [
    "class ActionClassificationModel(nn.Module):\n",
    "    def __init__(self, sequence_length, input_dim=64*64, num_classes=6, rnn_module='scratch_lstm'):\n",
    "        super(ActionClassificationModel, self).__init__()\n",
    "        self.sequence_length = sequence_length\n",
    "\n",
    "        # Encoder Block\n",
    "        self.encoder = nn.Sequential(\n",
    "            # Block 1\n",
    "            nn.Conv2d(1, 64, kernel_size=3, stride=1, padding=1),\n",
    "            nn.BatchNorm2d(64),\n",
    "            nn.ReLU(),\n",
    "            nn.Conv2d(64, 64, kernel_size=3, stride=1, padding=1),\n",
    "            nn.BatchNorm2d(64),\n",
    "            nn.ReLU(),\n",
    "            nn.MaxPool2d(kernel_size=2, stride=2),\n",
    "            nn.Dropout(0.3),\n",
    "\n",
    "            # Block 2\n",
    "            nn.Conv2d(64, 128, kernel_size=3, stride=1, padding=1),\n",
    "            nn.BatchNorm2d(128),\n",
    "            nn.ReLU(),\n",
    "            nn.Conv2d(128, 128, kernel_size=3, stride=1, padding=1),\n",
    "            nn.BatchNorm2d(128),\n",
    "            nn.ReLU(),\n",
    "            nn.MaxPool2d(kernel_size=2, stride=2),\n",
    "            nn.Dropout(0.3),\n",
    "\n",
    "            # Block 3\n",
    "            nn.Conv2d(128, 256, kernel_size=3, stride=1, padding=1),\n",
    "            nn.BatchNorm2d(256),\n",
    "            nn.ReLU(),\n",
    "            nn.Conv2d(256, 256, kernel_size=3, stride=1, padding=1),\n",
    "            nn.BatchNorm2d(256),\n",
    "            nn.ReLU(),\n",
    "            nn.MaxPool2d(kernel_size=2, stride=2),\n",
    "            nn.Dropout(0.4),\n",
    "        )\n",
    "\n",
    "        # RNN modules to be put here\n",
    "        if rnn_module == 'scratch_lstm':\n",
    "            # Custom LSTM Module\n",
    "            self.rnn = LSTM(\n",
    "                input_size=256 * 8 * 8,\n",
    "                hidden_size=256,         \n",
    "                num_layers=2,           \n",
    "                num_classes=256,    \n",
    "                batch_first=True\n",
    "            )\n",
    "        else:\n",
    "            print(\"Error\")\n",
    "\n",
    "\n",
    "        # Classifier\n",
    "        self.classifier = nn.Sequential(\n",
    "            nn.Conv1d(256, 128, kernel_size=1),\n",
    "            nn.ReLU(),\n",
    "            nn.AdaptiveAvgPool1d(1),\n",
    "            nn.Flatten(),\n",
    "            nn.Linear(128, num_classes)\n",
    "        )\n",
    "\n",
    "    def forward(self, x):\n",
    "        batch_size, seq_len, _ = x.size()\n",
    "        \n",
    "        # Reshape each frame\n",
    "        x = x.view(batch_size * seq_len, 1, 64, 64)\n",
    "        x = self.encoder(x)\n",
    "        x = x.view(batch_size, seq_len, -1)\n",
    "        \n",
    "        # Recurrent Module\n",
    "        x = self.rnn(x)  \n",
    "        \n",
    "        # print(\"Debug:\", x.shape)\n",
    "        \n",
    "        # Classifier\n",
    "        x = x.transpose(1, 2)\n",
    "        x = self.classifier(x)\n",
    "        \n",
    "        return x"
   ]
  },
  {
   "cell_type": "code",
   "execution_count": 27,
   "id": "2207e0bf-33e8-4f4f-a9a7-9726ab5c22a2",
   "metadata": {},
   "outputs": [],
   "source": [
    "# Hyper parameters for LSTM\n",
    "input_size = 64*64  # flattened size of frame\n",
    "hidden_size = 256  # Hidden size of the LSTM\n",
    "num_classes = len(os.listdir(\"/home/nfs/inf6/data/datasets/kth_actions/processed\"))  # Number of output classes\n",
    "num_layers = 2\n",
    "\n",
    "# Hyperparameters for training\n",
    "num_epochs = 30\n",
    "learning_rate = 0.001  # Initial learning rate\n",
    "step_size = 5          # To be used in LR Scheduler\n",
    "gamma = 0.5            # To be used in LR Scheduler\n",
    "name = f\"lstm_scratch_ep_{num_epochs}_lr_{learning_rate}\"\n",
    "project = 'assignment_4'\n",
    "\n",
    "#criterion\n",
    "criterion = nn.CrossEntropyLoss()"
   ]
  },
  {
   "cell_type": "code",
   "execution_count": 28,
   "id": "d0e30a0f-3e49-4835-84ab-a6f9b7d96d12",
   "metadata": {},
   "outputs": [
    {
     "data": {
      "text/plain": [
       "ActionClassificationModel(\n",
       "  (encoder): Sequential(\n",
       "    (0): Conv2d(1, 64, kernel_size=(3, 3), stride=(1, 1), padding=(1, 1))\n",
       "    (1): BatchNorm2d(64, eps=1e-05, momentum=0.1, affine=True, track_running_stats=True)\n",
       "    (2): ReLU()\n",
       "    (3): Conv2d(64, 64, kernel_size=(3, 3), stride=(1, 1), padding=(1, 1))\n",
       "    (4): BatchNorm2d(64, eps=1e-05, momentum=0.1, affine=True, track_running_stats=True)\n",
       "    (5): ReLU()\n",
       "    (6): MaxPool2d(kernel_size=2, stride=2, padding=0, dilation=1, ceil_mode=False)\n",
       "    (7): Dropout(p=0.3, inplace=False)\n",
       "    (8): Conv2d(64, 128, kernel_size=(3, 3), stride=(1, 1), padding=(1, 1))\n",
       "    (9): BatchNorm2d(128, eps=1e-05, momentum=0.1, affine=True, track_running_stats=True)\n",
       "    (10): ReLU()\n",
       "    (11): Conv2d(128, 128, kernel_size=(3, 3), stride=(1, 1), padding=(1, 1))\n",
       "    (12): BatchNorm2d(128, eps=1e-05, momentum=0.1, affine=True, track_running_stats=True)\n",
       "    (13): ReLU()\n",
       "    (14): MaxPool2d(kernel_size=2, stride=2, padding=0, dilation=1, ceil_mode=False)\n",
       "    (15): Dropout(p=0.3, inplace=False)\n",
       "    (16): Conv2d(128, 256, kernel_size=(3, 3), stride=(1, 1), padding=(1, 1))\n",
       "    (17): BatchNorm2d(256, eps=1e-05, momentum=0.1, affine=True, track_running_stats=True)\n",
       "    (18): ReLU()\n",
       "    (19): Conv2d(256, 256, kernel_size=(3, 3), stride=(1, 1), padding=(1, 1))\n",
       "    (20): BatchNorm2d(256, eps=1e-05, momentum=0.1, affine=True, track_running_stats=True)\n",
       "    (21): ReLU()\n",
       "    (22): MaxPool2d(kernel_size=2, stride=2, padding=0, dilation=1, ceil_mode=False)\n",
       "    (23): Dropout(p=0.4, inplace=False)\n",
       "  )\n",
       "  (rnn): LSTM(\n",
       "    (lstm_cells): ModuleList(\n",
       "      (0-1): 2 x LSTMCell()\n",
       "    )\n",
       "    (classifier): Linear(in_features=256, out_features=256, bias=True)\n",
       "  )\n",
       "  (classifier): Sequential(\n",
       "    (0): Conv1d(256, 128, kernel_size=(1,), stride=(1,))\n",
       "    (1): ReLU()\n",
       "    (2): AdaptiveAvgPool1d(output_size=1)\n",
       "    (3): Flatten(start_dim=1, end_dim=-1)\n",
       "    (4): Linear(in_features=128, out_features=6, bias=True)\n",
       "  )\n",
       ")"
      ]
     },
     "execution_count": 28,
     "metadata": {},
     "output_type": "execute_result"
    }
   ],
   "source": [
    "model = ActionClassificationModel(input_dim=input_size, \n",
    "                                           sequence_length=sequence_length, \n",
    "                                           num_classes=num_classes).to(device)\n",
    "model"
   ]
  },
  {
   "cell_type": "code",
   "execution_count": null,
   "id": "9b0f81aa-f9bd-4cd0-92e2-f12d6256c25b",
   "metadata": {},
   "outputs": [
    {
     "data": {
      "text/html": [
       "Finishing last run (ID:hetlayim) before initializing another..."
      ],
      "text/plain": [
       "<IPython.core.display.HTML object>"
      ]
     },
     "metadata": {},
     "output_type": "display_data"
    },
    {
     "data": {
      "text/html": [
       " View run <strong style=\"color:#cdcd00\">lstm_scratch_ep_30_lr_0.001</strong> at: <a href='https://wandb.ai/ahmadjaved97/assignment_4/runs/hetlayim' target=\"_blank\">https://wandb.ai/ahmadjaved97/assignment_4/runs/hetlayim</a><br/> View project at: <a href='https://wandb.ai/ahmadjaved97/assignment_4' target=\"_blank\">https://wandb.ai/ahmadjaved97/assignment_4</a><br/>Synced 5 W&B file(s), 0 media file(s), 0 artifact file(s) and 0 other file(s)"
      ],
      "text/plain": [
       "<IPython.core.display.HTML object>"
      ]
     },
     "metadata": {},
     "output_type": "display_data"
    },
    {
     "data": {
      "text/html": [
       "Find logs at: <code>./wandb/run-20241202_011402-hetlayim/logs</code>"
      ],
      "text/plain": [
       "<IPython.core.display.HTML object>"
      ]
     },
     "metadata": {},
     "output_type": "display_data"
    },
    {
     "data": {
      "text/html": [
       "Successfully finished last run (ID:hetlayim). Initializing new run:<br/>"
      ],
      "text/plain": [
       "<IPython.core.display.HTML object>"
      ]
     },
     "metadata": {},
     "output_type": "display_data"
    },
    {
     "data": {
      "text/html": [
       "Tracking run with wandb version 0.18.7"
      ],
      "text/plain": [
       "<IPython.core.display.HTML object>"
      ]
     },
     "metadata": {},
     "output_type": "display_data"
    },
    {
     "data": {
      "text/html": [
       "Run data is saved locally in <code>/home/user/javeda1/MA-INF-4308-Lab-Vision-Systems/Assignment-4/wandb/run-20241202_011515-rrywxh9b</code>"
      ],
      "text/plain": [
       "<IPython.core.display.HTML object>"
      ]
     },
     "metadata": {},
     "output_type": "display_data"
    },
    {
     "data": {
      "text/html": [
       "Syncing run <strong><a href='https://wandb.ai/ahmadjaved97/assignment_4/runs/rrywxh9b' target=\"_blank\">lstm_scratch_ep_30_lr_0.001</a></strong> to <a href='https://wandb.ai/ahmadjaved97/assignment_4' target=\"_blank\">Weights & Biases</a> (<a href='https://wandb.me/developer-guide' target=\"_blank\">docs</a>)<br/>"
      ],
      "text/plain": [
       "<IPython.core.display.HTML object>"
      ]
     },
     "metadata": {},
     "output_type": "display_data"
    },
    {
     "data": {
      "text/html": [
       " View project at <a href='https://wandb.ai/ahmadjaved97/assignment_4' target=\"_blank\">https://wandb.ai/ahmadjaved97/assignment_4</a>"
      ],
      "text/plain": [
       "<IPython.core.display.HTML object>"
      ]
     },
     "metadata": {},
     "output_type": "display_data"
    },
    {
     "data": {
      "text/html": [
       " View run at <a href='https://wandb.ai/ahmadjaved97/assignment_4/runs/rrywxh9b' target=\"_blank\">https://wandb.ai/ahmadjaved97/assignment_4/runs/rrywxh9b</a>"
      ],
      "text/plain": [
       "<IPython.core.display.HTML object>"
      ]
     },
     "metadata": {},
     "output_type": "display_data"
    },
    {
     "name": "stderr",
     "output_type": "stream",
     "text": [
      "  0%|                                                                | 0/30 [00:00<?, ?it/s]"
     ]
    }
   ],
   "source": [
    "# Run training\n",
    "model, train_losses, train_accuracies, eval_losses, eval_accuracies, learning_rates = run_training(\n",
    "    model, \n",
    "    train_loader, val_loader, \n",
    "    criterion,\n",
    "    device,\n",
    "    num_epochs=num_epochs, \n",
    "    learning_rate=learning_rate, \n",
    "    step_size=step_size, \n",
    "    gamma=gamma,\n",
    "    name=name, project=project\n",
    ")"
   ]
  },
  {
   "cell_type": "code",
   "execution_count": null,
   "id": "c369a34a-584e-43cd-9d6a-740b546dd4a0",
   "metadata": {},
   "outputs": [],
   "source": []
  }
 ],
 "metadata": {
  "kernelspec": {
   "display_name": "Python 3 (ipykernel)",
   "language": "python",
   "name": "python3"
  },
  "language_info": {
   "codemirror_mode": {
    "name": "ipython",
    "version": 3
   },
   "file_extension": ".py",
   "mimetype": "text/x-python",
   "name": "python",
   "nbconvert_exporter": "python",
   "pygments_lexer": "ipython3",
   "version": "3.8.10"
  }
 },
 "nbformat": 4,
 "nbformat_minor": 5
}
