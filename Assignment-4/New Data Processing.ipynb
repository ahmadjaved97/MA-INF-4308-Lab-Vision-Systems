{
 "cells": [
  {
   "cell_type": "markdown",
   "id": "84768a63-5922-4c8c-8ebd-36098d7c76b3",
   "metadata": {},
   "source": [
    "### 1. Import the Required Libraries"
   ]
  },
  {
   "cell_type": "code",
   "execution_count": 2,
   "id": "ab6c550b-f85b-46f6-9811-0da914824b29",
   "metadata": {},
   "outputs": [],
   "source": [
    "import torch\n",
    "import torch.nn as nn\n",
    "import torch.nn.functional as F\n",
    "from torchvision import transforms\n",
    "import torch.optim as optim\n",
    "from torch.utils.data import Dataset, DataLoader, random_split\n",
    "from torch.optim.lr_scheduler import StepLR\n",
    "import numpy as np\n",
    "import matplotlib.pyplot as plt\n",
    "import os\n",
    "from PIL import Image\n",
    "import random\n",
    "from tqdm import tqdm\n",
    "from sklearn.metrics import confusion_matrix\n",
    "import seaborn as sns\n",
    "import wandb"
   ]
  },
  {
   "cell_type": "markdown",
   "id": "269a3086-92bb-4ca8-99ce-b72203577636",
   "metadata": {},
   "source": [
    "### 2. Set Device"
   ]
  },
  {
   "cell_type": "code",
   "execution_count": 3,
   "id": "8c7367ee-93e4-456c-b388-35a71ced9a20",
   "metadata": {},
   "outputs": [],
   "source": [
    "device = torch.device(\"cuda\" if torch.cuda.is_available() else \"cpu\")"
   ]
  },
  {
   "cell_type": "markdown",
   "id": "40a0456b-4f06-4600-b86f-cacd93517be6",
   "metadata": {},
   "source": [
    "### 3. Data Loading and Processing"
   ]
  },
  {
   "cell_type": "code",
   "execution_count": 4,
   "id": "97509466-74a9-4607-9935-ab02947df801",
   "metadata": {},
   "outputs": [],
   "source": [
    "class KTHProcessedDataset(Dataset):\n",
    "    def __init__(self, root_dir, sequence_length=15, transform=None):\n",
    "        \"\"\"\n",
    "        root_dir: path of the parent directory that contains processed frames/images.\n",
    "        sequence_length: the number of frames in each subsequence.\n",
    "        transforms: augmentations applied to the frames (can be none or more).\n",
    "        \"\"\"\n",
    "        self.root_dir = root_dir\n",
    "        self.sequence_length = sequence_length\n",
    "        self.transform = transform\n",
    "        self.data = []\n",
    "        self.class_mapping = {}\n",
    "\n",
    "        # Parse through categories\n",
    "        for label, category in enumerate(sorted(os.listdir(root_dir))):\n",
    "            category_path = os.path.join(root_dir, category)\n",
    "            # if not os.path.isdir(category_path):\n",
    "            #     continue\n",
    "            self.class_mapping[label] = category\n",
    "            for subfolder in os.listdir(category_path):\n",
    "                subfolder_path = os.path.join(category_path, subfolder)\n",
    "                if os.path.isdir(subfolder_path): # check (folder also contain some json)\n",
    "                    frames = sorted(os.listdir(subfolder_path))\n",
    "\n",
    "                    # Create subsequences from frames\n",
    "                    for start_idx in range(0, len(frames) - sequence_length + 1, sequence_length):  # (0, 450-15+1, 15)\n",
    "                        subsequence_frames = frames[start_idx:start_idx + sequence_length]          # (0, 0+15), then (15, 30) and so on.\n",
    "                        if len(subsequence_frames) == sequence_length:\n",
    "                            self.data.append((subfolder_path, subsequence_frames, label))\n",
    "\n",
    "    def __len__(self):\n",
    "        return len(self.data)\n",
    "\n",
    "    def __getitem__(self, idx):\n",
    "        subfolder_path, frames, label = self.data[idx]\n",
    "\n",
    "        sequence = []\n",
    "        for frame_file in frames:\n",
    "            frame_path = os.path.join(subfolder_path, frame_file)\n",
    "            try:\n",
    "                img = Image.open(frame_path).convert(\"L\")\n",
    "                if self.transform:\n",
    "                    img = self.transform(img)\n",
    "\n",
    "                img = img.view(-1)\n",
    "                sequence.append(img)\n",
    "\n",
    "            except Exception as e:\n",
    "                # Found some corrupted image in the folders\n",
    "                print(f\"Skipping image {frame_path} due to error: {e}\")\n",
    "                return self.__getitem__((idx + 1) % len(self))\n",
    "\n",
    "        # Stack frames into tensor\n",
    "        sequence = torch.stack(sequence, dim=0)\n",
    "        return sequence, label\n"
   ]
  },
  {
   "cell_type": "markdown",
   "id": "dccb351f-6218-4176-b208-2b2d3804bf76",
   "metadata": {},
   "source": [
    "- No image resizing is done because the processed frames are of size 64x64.\n",
    "- Images are converted to Grayscale (64x64=4096 pixels) since it will save some computation time (and the images are also grayscale so we don't lose any information). For RGB the number of pixels will be 3 x 4096."
   ]
  },
  {
   "cell_type": "markdown",
   "id": "112acb76-03eb-4036-abef-b28c34635746",
   "metadata": {},
   "source": [
    "#### Define augmentations"
   ]
  },
  {
   "cell_type": "code",
   "execution_count": 5,
   "id": "a7907a89-a285-45c3-8c39-79a2f195f9e2",
   "metadata": {},
   "outputs": [],
   "source": [
    "# Define augmentations\n",
    "transform = transforms.Compose([\n",
    "    \n",
    "    # RandomHorizontalFlip(p=0.5),\n",
    "    # RandomRotation(degrees=15),\n",
    "    transforms.RandomCrop(size=(64, 64), pad_if_needed=True),\n",
    "\n",
    "    transforms.RandomApply([transforms.ColorJitter(brightness=0.2, contrast=0.2)], p=0.3),\n",
    "    transforms.GaussianBlur(3, sigma=(0.1, 2.0)),\n",
    "    \n",
    "    transforms.ToTensor(),                             \n",
    "    transforms.Normalize(mean=[0.5], std=[0.5])\n",
    "])"
   ]
  },
  {
   "cell_type": "markdown",
   "id": "e082df04-48f1-4c9c-a050-b1c6ae1ed13e",
   "metadata": {},
   "source": [
    "Taking the sequence length because I observed that in some of the categories like jogging, the first 7-8 frames are empty and till the 40-45th frames we get a complete motion i.e. person comes in running in the frame and then goes out after that the frames are again empty till the person again comes from the opposite direction."
   ]
  },
  {
   "cell_type": "code",
   "execution_count": 6,
   "id": "a06956cc-a033-41d5-a60c-e8ef9a7d8503",
   "metadata": {},
   "outputs": [],
   "source": [
    "# Paths and hyperparameters\n",
    "root_dir = '/home/nfs/inf6/data/datasets/kth_actions/processed'\n",
    "sequence_length = 45\n",
    "batch_size = 16\n",
    "train_ratio = 0.8  # 80% for train 20% for val"
   ]
  },
  {
   "cell_type": "code",
   "execution_count": 7,
   "id": "f403502c-da2b-4d77-8aa2-8448fb18d04b",
   "metadata": {},
   "outputs": [
    {
     "name": "stdout",
     "output_type": "stream",
     "text": [
      "Dataset size: 6150\n",
      "Train set size: 4920\n",
      "Validation set size: 1230\n"
     ]
    }
   ],
   "source": [
    "# Load the whole dataset\n",
    "dataset = KTHProcessedDataset(root_dir=root_dir, sequence_length=sequence_length, transform=transform)\n",
    "\n",
    "# Calculate train and validation sizes\n",
    "dataset_size = len(dataset)\n",
    "train_size = int(train_ratio * dataset_size)\n",
    "val_size = dataset_size - train_size\n",
    "\n",
    "# Split dataset into train and val\n",
    "train_dataset, val_dataset = random_split(dataset, [train_size, val_size])\n",
    "\n",
    "# DataLoaders for train and val sets\n",
    "train_loader = DataLoader(train_dataset, batch_size=batch_size, shuffle=True, num_workers=4)\n",
    "val_loader = DataLoader(val_dataset, batch_size=batch_size, shuffle=False, num_workers=4)\n",
    "\n",
    "print(f\"Dataset size: {dataset_size}\")\n",
    "print(f\"Train set size: {train_size}\")\n",
    "print(f\"Validation set size: {val_size}\")"
   ]
  },
  {
   "cell_type": "code",
   "execution_count": 8,
   "id": "20475d61-56e4-4085-bffc-30115e923c3e",
   "metadata": {},
   "outputs": [
    {
     "name": "stdout",
     "output_type": "stream",
     "text": [
      "Dataset Classes:\n",
      "Class ID: 0, Class Name: boxing\n",
      "Class ID: 1, Class Name: handclapping\n",
      "Class ID: 2, Class Name: handwaving\n",
      "Class ID: 3, Class Name: jogging\n",
      "Class ID: 4, Class Name: running\n",
      "Class ID: 5, Class Name: walking\n"
     ]
    }
   ],
   "source": [
    "print(\"Dataset Classes:\")\n",
    "for class_id, class_name in dataset.class_mapping.items():\n",
    "    print(f\"Class ID: {class_id}, Class Name: {class_name}\")"
   ]
  },
  {
   "cell_type": "code",
   "execution_count": 9,
   "id": "922dbb65-fc42-457b-a1f3-69aa21a57fe2",
   "metadata": {},
   "outputs": [
    {
     "data": {
      "text/plain": [
       "{'boxing': 0,\n",
       " 'handclapping': 1,\n",
       " 'handwaving': 2,\n",
       " 'jogging': 3,\n",
       " 'running': 4,\n",
       " 'walking': 5}"
      ]
     },
     "execution_count": 9,
     "metadata": {},
     "output_type": "execute_result"
    }
   ],
   "source": [
    "# reverse mapping of the dataclasses\n",
    "reverse_mapping = {val:key for key,val in dataset.class_mapping.items()}\n",
    "reverse_mapping"
   ]
  },
  {
   "cell_type": "markdown",
   "id": "2ceb91eb-300d-46a3-b2c9-f3c241844998",
   "metadata": {},
   "source": [
    "#### Visualize dataset"
   ]
  },
  {
   "cell_type": "code",
   "execution_count": 9,
   "id": "54bab9fe-725e-4308-92f9-7f8ef7d1319e",
   "metadata": {},
   "outputs": [],
   "source": [
    "def visualize_sequences(dataset, category_label, num_sequences=3, sequence_length=15):\n",
    "    \"\"\"\n",
    "    Visualizes the first `num_sequences` sequences for a specific category label.\n",
    "    \n",
    "    Args:\n",
    "        dataset: Instance of KTHProcessedDataset.\n",
    "        category_label: Label of the category to visualize.\n",
    "        num_sequences: Number of sequences to visualize.\n",
    "        sequence_length: Length of each sequence.\n",
    "    \"\"\"\n",
    "    sequences_shown = 0\n",
    "    \n",
    "    plt.figure(figsize=(15, num_sequences * 3))\n",
    "    for i in range(len(dataset)):\n",
    "        sequence, label = dataset[i]\n",
    "        if label == category_label:\n",
    "            for frame_idx in range(sequence_length):\n",
    "                plt.subplot(num_sequences, sequence_length, sequences_shown * sequence_length + frame_idx + 1)\n",
    "                frame = sequence[frame_idx].view(64, 64).cpu().numpy()\n",
    "                plt.imshow(frame, cmap=\"gray\")\n",
    "                plt.axis(\"off\")\n",
    "            \n",
    "            sequences_shown += 1\n",
    "            if sequences_shown >= num_sequences:\n",
    "                break\n",
    "\n",
    "    plt.suptitle(f\"Sequences for category label: {category_label}\", fontsize=16)\n",
    "    plt.show()"
   ]
  },
  {
   "cell_type": "code",
   "execution_count": 10,
   "id": "ecd88238-39a0-4dea-9251-8c5943c8b3e0",
   "metadata": {},
   "outputs": [
    {
     "data": {
      "image/png": "[encoded data removed]",
      "text/plain": [
       "<Figure size 1500x600 with 30 Axes>"
      ]
     },
     "metadata": {},
     "output_type": "display_data"
    }
   ],
   "source": [
    "# Visualize sequences for category label 0 (e.g., walking)\n",
    "category_name = 'boxing'\n",
    "visualize_sequences(val_dataset, category_label=reverse_mapping[category_name], num_sequences=2, sequence_length=15)"
   ]
  },
  {
   "cell_type": "markdown",
   "id": "6061fd62-5584-4b64-9d15-2196fd8bd1d4",
   "metadata": {},
   "source": [
    "### Training and Validation Code\n",
    "\n",
    "This is the same code as used in the previous assignments with minor changes and integration of 'Weigths and Biases' for logging of metrics."
   ]
  },
  {
   "cell_type": "code",
   "execution_count": 11,
   "id": "3446e230-6fd4-460a-b113-8c200acb6c30",
   "metadata": {},
   "outputs": [],
   "source": [
    "def train_nn(model, train_loader, criterion, optimizer, device):\n",
    "    \"\"\"Train  model for one epoch\"\"\"\n",
    "    model.train()\n",
    "    running_loss = 0.0\n",
    "    correct_labels = 0\n",
    "    total_labels = 0\n",
    "\n",
    "    for inputs, labels in train_loader:\n",
    "        inputs, labels = inputs.to(device), labels.to(device)\n",
    "        \n",
    "        optimizer.zero_grad()\n",
    "        outputs = model(inputs)\n",
    "        \n",
    "        loss = criterion(outputs, labels)\n",
    "        loss.backward()\n",
    "        optimizer.step()\n",
    "\n",
    "        running_loss += loss.item()\n",
    "\n",
    "        # Compute accuracy\n",
    "        _, predicted_labels = torch.max(outputs, dim=1)\n",
    "        correct_labels += (predicted_labels == labels).sum().item()\n",
    "        total_labels += labels.size(0)\n",
    "\n",
    "    avg_loss = running_loss / len(train_loader)\n",
    "    accuracy = correct_labels / total_labels\n",
    "    return avg_loss, accuracy\n",
    "\n",
    "def evaluate_nn(model, eval_loader, criterion, device):\n",
    "    \"\"\"Evaluate the model after each epoch.\"\"\"\n",
    "    model.eval()\n",
    "    running_loss = 0.0\n",
    "    correct_labels = 0\n",
    "    total_labels = 0\n",
    "\n",
    "    with torch.no_grad():\n",
    "        for inputs, labels in eval_loader:\n",
    "            inputs, labels = inputs.to(device), labels.to(device)\n",
    "            outputs = model(inputs)\n",
    "            \n",
    "            loss = criterion(outputs, labels)\n",
    "            running_loss += loss.item()\n",
    "\n",
    "            # Compute accuracy\n",
    "            _, predicted_labels = torch.max(outputs, dim=1)\n",
    "            correct_labels += (predicted_labels == labels).sum().item()\n",
    "            total_labels += labels.size(0)\n",
    "\n",
    "    avg_loss = running_loss / len(eval_loader)\n",
    "    accuracy = correct_labels / total_labels\n",
    "    return avg_loss, accuracy\n",
    "\n",
    "def run_training(model, train_loader, eval_loader, criterion, device, num_epochs, learning_rate=0.001, step_size=5, gamma=0.5,\n",
    "                 project='lstm_training', name='test_run'):\n",
    "    \"\"\"Train and evaluate the model for a given number of epochs with W&B logging\"\"\"\n",
    "\n",
    "    # Initialize W&B logging\n",
    "    wandb.init(project=project, name=name, config={\n",
    "        \"learning_rate\": learning_rate,\n",
    "        \"num_epochs\": num_epochs,\n",
    "        \"step_size\": step_size,\n",
    "        \"gamma\": gamma,\n",
    "        \"optimizer\": \"Adam\",\n",
    "    },\n",
    "    )\n",
    "    config = wandb.config\n",
    "\n",
    "    optimizer = optim.Adam(model.parameters(), lr=learning_rate)  # Optimizer\n",
    "    scheduler = StepLR(optimizer, step_size=step_size, gamma=gamma)  # Learning rate scheduler\n",
    "    \n",
    "    train_losses = []\n",
    "    eval_losses = []\n",
    "    train_accuracies = []\n",
    "    eval_accuracies = []\n",
    "    learning_rates = []\n",
    "\n",
    "    for epoch in tqdm(range(num_epochs)):\n",
    "        # Train for one epoch\n",
    "        train_loss, train_accuracy = train_nn(model, train_loader, criterion, optimizer, device)\n",
    "        # Evaluate after each epoch\n",
    "        eval_loss, eval_accuracy = evaluate_nn(model, eval_loader, criterion, device)\n",
    "\n",
    "        current_lr = scheduler.get_last_lr()[0]\n",
    "\n",
    "\n",
    "        train_losses.append(train_loss)\n",
    "        eval_losses.append(eval_loss)\n",
    "        train_accuracies.append(train_accuracy)\n",
    "        eval_accuracies.append(eval_accuracy)\n",
    "        learning_rates.append(current_lr)\n",
    "\n",
    "        # Log metrics to W&B\n",
    "        wandb.log({\n",
    "            \"epoch\": epoch + 1,\n",
    "            \"train_loss\": train_loss,\n",
    "            \"train_accuracy\": train_accuracy,\n",
    "            \"eval_loss\": eval_loss,\n",
    "            \"eval_accuracy\": eval_accuracy,\n",
    "            \"learning_rate\": current_lr\n",
    "        })\n",
    "\n",
    "        # Print stats after each epoch\n",
    "        print(f\"Epoch {epoch+1}/{num_epochs}\")\n",
    "        print(f\"Train Loss: {train_loss:.4f}, Train Accuracy: {train_accuracy:.4f}\")\n",
    "        print(f\"Eval Loss: {eval_loss:.4f}, Eval Accuracy: {eval_accuracy:.4f}\")\n",
    "        print(f\"Learning Rate: {current_lr:.6f}\")\n",
    "        \n",
    "        # Step the LR scheduler\n",
    "        scheduler.step()\n",
    "\n",
    "    # End W&B run\n",
    "    wandb.finish()\n",
    "\n",
    "    return model, train_losses, train_accuracies, eval_losses, eval_accuracies, learning_rates"
   ]
  },
  {
   "cell_type": "markdown",
   "id": "a2223b29-b7ca-4d76-90fe-0b663a29d69e",
   "metadata": {},
   "source": [
    "### Result Visualization"
   ]
  },
  {
   "cell_type": "code",
   "execution_count": 10,
   "id": "9857624d-1055-4e70-8551-ba5e1882572d",
   "metadata": {},
   "outputs": [],
   "source": [
    "def plot_confusion_matrix(y_true, y_pred, label_names, model_name):\n",
    "    \"\"\"\n",
    "    Plots confusion matrix for a given model.\n",
    "\n",
    "    Args:\n",
    "        y_true (numpy.ndarray): True labels.\n",
    "        y_pred (numpy.ndarray): Predicted labels.\n",
    "        label_names (list): List of class names.\n",
    "        model_name (str): The name of the model to display in the plot title.\n",
    "    \"\"\"\n",
    "    cm = confusion_matrix(y_true, y_pred)\n",
    "    plt.figure(figsize=(6, 4))\n",
    "    sns.heatmap(cm, annot=True, fmt='d', cmap='Blues', \n",
    "                xticklabels=label_names, yticklabels=label_names, linewidths=1)\n",
    "    plt.xlabel('Predicted Label')\n",
    "    plt.ylabel('True Label')\n",
    "    plt.title(f'Confusion Matrix for {model_name}')\n",
    "    plt.xticks(rotation=45)\n",
    "    plt.yticks(rotation=0)\n",
    "    plt.tight_layout()\n",
    "    plt.show()"
   ]
  },
  {
   "cell_type": "code",
   "execution_count": 11,
   "id": "87015214-88f4-4f6c-a0d1-c1dde3740aae",
   "metadata": {},
   "outputs": [],
   "source": [
    "# Function to evaluate model and compute predictions\n",
    "def evaluate_model(model, dataloader, device=\"cuda\"):\n",
    "    model.eval()\n",
    "    all_preds = []\n",
    "    all_labels = []\n",
    "\n",
    "    with torch.no_grad():\n",
    "        for sequences, labels in dataloader:\n",
    "            sequences = sequences.to(device)\n",
    "            labels = labels.to(device)\n",
    "\n",
    "            outputs = model(sequences)\n",
    "            preds = torch.argmax(outputs, dim=1)\n",
    "\n",
    "            all_preds.extend(preds.cpu().numpy())\n",
    "            all_labels.extend(labels.cpu().numpy())\n",
    "\n",
    "    return np.array(all_labels), np.array(all_preds)"
   ]
  },
  {
   "cell_type": "markdown",
   "id": "4ed48dc4-d9a7-4868-988e-c45bf15b2f34",
   "metadata": {},
   "source": [
    "#### LSTM  and LSTM Cell from Scratch\n",
    "\n",
    "Inspired from \n",
    "1. https://github.com/hadi-gharibi/pytorch-lstm/blob/master/lstm.ipynb\n",
    "2. https://github.com/georgeyiasemis/Recurrent-Neural-Networks-from-scratch-using-PyTorch\n",
    "\n",
    "both sources have highly similar code"
   ]
  },
  {
   "cell_type": "code",
   "execution_count": 15,
   "id": "1ade1789-e080-463b-9d27-bf53f831bb6e",
   "metadata": {},
   "outputs": [],
   "source": [
    "### This works\n",
    "\n",
    "class LSTMCell(nn.Module):\n",
    "    \"\"\"\n",
    "    Custom LSTM Cell implementation from scratch\n",
    "    \n",
    "    Args:\n",
    "    - input_size: Number of input features\n",
    "    - hidden_size: Number of hidden units\n",
    "    \"\"\"\n",
    "    def __init__(self, input_size, hidden_size):\n",
    "        super(LSTMCell, self).__init__()\n",
    "        self.input_size = input_size\n",
    "        self.hidden_size = hidden_size\n",
    "        \n",
    "        # all gates weight combined into signle matrix\n",
    "        # ih -> input_hidden\n",
    "        # hh -> hidden_hidden\n",
    "        self.weight_ih = nn.Parameter(torch.empty(4 * hidden_size, input_size))  \n",
    "        self.weight_hh = nn.Parameter(torch.empty(4 * hidden_size, hidden_size))\n",
    "        \n",
    "        # Bias term\n",
    "        self.bias_ih = nn.Parameter(torch.empty(4 * hidden_size))\n",
    "        self.bias_hh = nn.Parameter(torch.empty(4 * hidden_size))\n",
    "        \n",
    "        # Initialize weights\n",
    "        std = 1.0 / np.sqrt(self.hidden_size)\n",
    "        nn.init.uniform_(self.weight_ih, -std, std)\n",
    "        nn.init.uniform_(self.weight_hh, -std, std)\n",
    "        nn.init.uniform_(self.bias_ih, -std, std)\n",
    "        nn.init.uniform_(self.bias_hh, -std, std)\n",
    "    \n",
    "    def forward(self, x, hidden_state=None):\n",
    "        \"\"\"\n",
    "        Forward pass for LSTM Cell\n",
    "        \n",
    "        Args:\n",
    "        - x: input tensor of shape (batch_size, input_size)\n",
    "        - hidden_state: tuple of (h, c) - previous hidden and cell states\n",
    "        \n",
    "        Returns:\n",
    "        - new_h: new hidden state\n",
    "        - new_c: new cell state\n",
    "        \"\"\"\n",
    "        # Initialize hidden state if not provided\n",
    "        if hidden_state is None:\n",
    "            batch_size = x.size(0)\n",
    "            h = x.new_zeros(batch_size, self.hidden_size)\n",
    "            c = x.new_zeros(batch_size, self.hidden_size)\n",
    "        else:\n",
    "            h, c = hidden_state\n",
    "        \n",
    "        # Compute gate inputs\n",
    "        gates = F.linear(x, self.weight_ih, self.bias_ih) + F.linear(h, self.weight_hh, self.bias_hh)\n",
    "        \n",
    "        # Split gates into 4 equal parts\n",
    "        ingate, forgetgate, cellgate, outgate = gates.chunk(4, 1)\n",
    "        \n",
    "        # Apply activation\n",
    "        ingate = torch.sigmoid(ingate)\n",
    "        forgetgate = torch.sigmoid(forgetgate)\n",
    "        cellgate = torch.tanh(cellgate)\n",
    "        outgate = torch.sigmoid(outgate)\n",
    "        \n",
    "        # new cell state\n",
    "        new_c = (forgetgate * c) + (ingate * cellgate)\n",
    "        \n",
    "        # new hidden state\n",
    "        new_h = outgate * torch.tanh(new_c)\n",
    "        \n",
    "        return new_h, new_c\n",
    "\n",
    "class LSTM(nn.Module):\n",
    "    def __init__(self, input_size, hidden_size, num_layers, num_classes, batch_first=True):\n",
    "        super(LSTM, self).__init__()\n",
    "        \n",
    "        self.hidden_size = hidden_size\n",
    "        self.num_layers = num_layers\n",
    "        self.batch_first = batch_first\n",
    "        \n",
    "        # Create LSTM cells for each layer\n",
    "        self.lstm_cells = nn.ModuleList()\n",
    "        for i in range(num_layers):\n",
    "            layer_input_size = input_size if i == 0 else hidden_size\n",
    "            self.lstm_cells.append(LSTMCell(layer_input_size, hidden_size))\n",
    "        \n",
    "        # Classification layer\n",
    "        self.classifier = nn.Linear(hidden_size, num_classes)\n",
    "    \n",
    "    def forward(self, x):\n",
    "        if not self.batch_first:\n",
    "            x = x.transpose(0, 1)\n",
    "        \n",
    "        batch_size, seq_len, _ = x.size()\n",
    "        \n",
    "        # Initialize hidden states\n",
    "        h_list = []\n",
    "        c_list = []\n",
    "        for _ in range(self.num_layers):\n",
    "            h_list.append(torch.zeros(batch_size, self.hidden_size, device=x.device))\n",
    "            c_list.append(torch.zeros(batch_size, self.hidden_size, device=x.device))\n",
    "\n",
    "\n",
    "        all_h_states = []\n",
    "\n",
    "        for t in range(seq_len):\n",
    "            # Current input at time  t\n",
    "            input_t = x[:, t, :]\n",
    "            \n",
    "            for layer in range(self.num_layers):\n",
    "                cell = self.lstm_cells[layer]\n",
    "                \n",
    "                # Use previous layer hidden state as input\n",
    "                h_prev = input_t if layer == 0 else h_list[layer-1]\n",
    "                \n",
    "                # Update hidden and cell states\n",
    "                h_list[layer], c_list[layer] = cell(h_prev, (h_list[layer], c_list[layer]))\n",
    "            \n",
    "            \n",
    "            all_h_states.append(h_list[-1])\n",
    "\n",
    "        # Stack the hidden states for all time steps\n",
    "        all_h_states = torch.stack(all_h_states, dim=1)  # Shape: [batch_size, seq_len, hidden_size]\n",
    "\n",
    "        \n",
    "        output = self.classifier(all_h_states)\n",
    "\n",
    "        return output\n"
   ]
  },
  {
   "cell_type": "markdown",
   "id": "f8f50854-1687-4bab-9183-7907c7f34810",
   "metadata": {},
   "source": [
    "### Pytorch LSTM Model"
   ]
  },
  {
   "cell_type": "code",
   "execution_count": 16,
   "id": "3fa1f76d-9438-4600-add3-505005507996",
   "metadata": {},
   "outputs": [],
   "source": [
    "class CustomPLSTM(nn.Module):\n",
    "    def __init__(self, input_size, hidden_size, output_size, num_layers):\n",
    "        super(CustomPLSTM, self).__init__()\n",
    "        self.hidden_size = hidden_size\n",
    "        self.num_layers = num_layers\n",
    "        \n",
    "        # Create LSTM cells for each layer\n",
    "        self.lstm_cells = nn.ModuleList([\n",
    "            nn.LSTMCell(input_size if i == 0 else hidden_size, hidden_size) \n",
    "            for i in range(num_layers)\n",
    "        ])\n",
    "        \n",
    "        # Output layer\n",
    "        self.fc = nn.Linear(hidden_size, output_size)\n",
    "    \n",
    "    def forward(self, x):\n",
    "        \"\"\"\n",
    "        Args:\n",
    "            x: Input tensor of shape (batch_size, seq_len, input_size)\n",
    "        Returns:\n",
    "            output: Output tensor of shape (batch_size, seq_len, output_size)\n",
    "        \"\"\"\n",
    "        batch_size, seq_len, _ = x.size()\n",
    "        \n",
    "        # Initialize hidden and cell states for each layer\n",
    "        h_t = [torch.zeros(batch_size, self.hidden_size).to(x.device) for _ in range(self.num_layers)]\n",
    "        c_t = [torch.zeros(batch_size, self.hidden_size).to(x.device) for _ in range(self.num_layers)]\n",
    "        \n",
    "        # To store the output at each time step\n",
    "        outputs = []\n",
    "        \n",
    "        for t in range(seq_len):\n",
    "            # Extract the time step t input\n",
    "            x_t = x[:, t, :]\n",
    "            \n",
    "            # Pass through each layer\n",
    "            for layer in range(self.num_layers):\n",
    "                h_t[layer], c_t[layer] = self.lstm_cells[layer](\n",
    "                    x_t, (h_t[layer], c_t[layer])\n",
    "                )\n",
    "                # The input to the next layer is the output of the current layer\n",
    "                x_t = h_t[layer]\n",
    "            \n",
    "            # Pass the final layer's output through the fully connected layer\n",
    "            output_t = self.fc(h_t[-1])\n",
    "            outputs.append(output_t)\n",
    "        \n",
    "        # Stack the outputs to form the final output tensor\n",
    "        outputs = torch.stack(outputs, dim=1)\n",
    "        return outputs"
   ]
  },
  {
   "cell_type": "code",
   "execution_count": 17,
   "id": "7a9dcbaf-07fc-4cbe-83b2-a52d28b06e35",
   "metadata": {},
   "outputs": [],
   "source": [
    "class CustomGRU(nn.Module):\n",
    "    def __init__(self, input_size, hidden_size, output_size, num_layers):\n",
    "        super(CustomGRU, self).__init__()\n",
    "        self.hidden_size = hidden_size\n",
    "        self.num_layers = num_layers\n",
    "        \n",
    "        self.gru_cells = nn.ModuleList([\n",
    "            nn.GRUCell(input_size if i == 0 else hidden_size, hidden_size)\n",
    "            for i in range(num_layers)\n",
    "        ])\n",
    "        \n",
    "        self.fc = nn.Linear(hidden_size, output_size)\n",
    "    \n",
    "    def forward(self, x):\n",
    "        batch_size, seq_len, _ = x.size()\n",
    "        \n",
    "        # Initialize hidden states for each layer\n",
    "        h_t = [torch.zeros(batch_size, self.hidden_size).to(x.device) for _ in range(self.num_layers)]\n",
    "        \n",
    "        outputs = []\n",
    "        \n",
    "        for t in range(seq_len):\n",
    "            x_t = x[:, t, :]\n",
    "            \n",
    "            # Pass through each layer\n",
    "            for layer in range(self.num_layers):\n",
    "                h_t[layer] = self.gru_cells[layer](x_t, h_t[layer])\n",
    "                x_t = h_t[layer]\n",
    "            \n",
    "            output_t = self.fc(h_t[-1])\n",
    "            outputs.append(output_t)\n",
    "        \n",
    "        # Stack the outputs to form the final output tensor\n",
    "        outputs = torch.stack(outputs, dim=1)\n",
    "        return outputs"
   ]
  },
  {
   "cell_type": "code",
   "execution_count": 18,
   "id": "4d0e8c24-b323-4c61-8203-f364181c1e25",
   "metadata": {},
   "outputs": [],
   "source": [
    "class ActionClassificationModel(nn.Module):\n",
    "    def __init__(self, sequence_length, input_dim=64*64, num_classes=6, rnn_module='scratch_lstm'):\n",
    "        super(ActionClassificationModel, self).__init__()\n",
    "        self.sequence_length = sequence_length\n",
    "\n",
    "        # Encoder Block\n",
    "        self.encoder = nn.Sequential(\n",
    "            # Block 1\n",
    "            nn.Conv2d(1, 64, kernel_size=3, stride=1, padding=1),\n",
    "            nn.BatchNorm2d(64),\n",
    "            nn.ReLU(),\n",
    "            nn.Conv2d(64, 64, kernel_size=3, stride=1, padding=1),\n",
    "            nn.BatchNorm2d(64),\n",
    "            nn.ReLU(),\n",
    "            nn.MaxPool2d(kernel_size=2, stride=2),\n",
    "            nn.Dropout(0.3),\n",
    "\n",
    "            # Block 2\n",
    "            nn.Conv2d(64, 128, kernel_size=3, stride=1, padding=1),\n",
    "            nn.BatchNorm2d(128),\n",
    "            nn.ReLU(),\n",
    "            nn.Conv2d(128, 128, kernel_size=3, stride=1, padding=1),\n",
    "            nn.BatchNorm2d(128),\n",
    "            nn.ReLU(),\n",
    "            nn.MaxPool2d(kernel_size=2, stride=2),\n",
    "            nn.Dropout(0.3),\n",
    "\n",
    "            # Block 3\n",
    "            nn.Conv2d(128, 256, kernel_size=3, stride=1, padding=1),\n",
    "            nn.BatchNorm2d(256),\n",
    "            nn.ReLU(),\n",
    "            nn.Conv2d(256, 256, kernel_size=3, stride=1, padding=1),\n",
    "            nn.BatchNorm2d(256),\n",
    "            nn.ReLU(),\n",
    "            nn.MaxPool2d(kernel_size=2, stride=2),\n",
    "            nn.Dropout(0.4),\n",
    "        )\n",
    "\n",
    "        # RNN modules to be put here\n",
    "        if rnn_module == 'scratch_lstm':\n",
    "            # Custom LSTM Module\n",
    "            self.rnn = LSTM(\n",
    "                input_size=256 * 8 * 8,\n",
    "                hidden_size=256,         \n",
    "                num_layers=2,           \n",
    "                num_classes=256,    \n",
    "                batch_first=True\n",
    "            )\n",
    "        elif rnn_module == 'custom_lstm':\n",
    "            self.rnn = CustomPLSTM(\n",
    "            input_size=256 * 8 * 8,  # Flattened size from encoder\n",
    "            hidden_size=256,         # Hidden state size\n",
    "            output_size=256,         # Output size per time step\n",
    "            num_layers=2             # Number of LSTM layers\n",
    "            )\n",
    "\n",
    "        elif rnn_module == 'gru':\n",
    "            self.rnn = CustomGRU(\n",
    "            input_size=256 * 8 * 8,  # Flattened size from encoder\n",
    "            hidden_size=256,\n",
    "            output_size=256,\n",
    "            num_layers=2\n",
    "            )\n",
    "\n",
    "        else:\n",
    "            print(\"Error\")\n",
    "\n",
    "\n",
    "        # Classifier\n",
    "        self.classifier = nn.Sequential(\n",
    "            nn.Conv1d(256, 128, kernel_size=1),\n",
    "            nn.ReLU(),\n",
    "            nn.AdaptiveAvgPool1d(1),\n",
    "            nn.Flatten(),\n",
    "            nn.Linear(128, num_classes)\n",
    "        )\n",
    "\n",
    "    def forward(self, x):\n",
    "        batch_size, seq_len, _ = x.size()\n",
    "        \n",
    "        # Reshape each frame\n",
    "        x = x.view(batch_size * seq_len, 1, 64, 64)\n",
    "        x = self.encoder(x)\n",
    "        x = x.view(batch_size, seq_len, -1)\n",
    "        \n",
    "        # Recurrent Module\n",
    "        x = self.rnn(x)  \n",
    "        \n",
    "        # print(\"Debug:\", x.shape)\n",
    "        \n",
    "        # Classifier\n",
    "        x = x.transpose(1, 2)\n",
    "        x = self.classifier(x)\n",
    "        \n",
    "        return x"
   ]
  },
  {
   "cell_type": "markdown",
   "id": "c9741186-cde6-44e9-8ec1-c27f73e79fad",
   "metadata": {},
   "source": [
    "### LSTM from Scratch training"
   ]
  },
  {
   "cell_type": "code",
   "execution_count": 18,
   "id": "2207e0bf-33e8-4f4f-a9a7-9726ab5c22a2",
   "metadata": {},
   "outputs": [],
   "source": [
    "# Hyper parameters for LSTM\n",
    "input_size = 64*64  # flattened size of frame\n",
    "hidden_size = 256  # Hidden size of the LSTM\n",
    "num_classes = len(os.listdir(\"/home/nfs/inf6/data/datasets/kth_actions/processed\"))  # Number of output classes\n",
    "num_layers = 2\n",
    "\n",
    "# Hyperparameters for training\n",
    "num_epochs = 30\n",
    "learning_rate = 0.001  # Initial learning rate\n",
    "step_size = 5          # To be used in LR Scheduler\n",
    "gamma = 0.5            # To be used in LR Scheduler\n",
    "name = f\"lstm_scratch_ep_{num_epochs}_lr_{learning_rate}\"\n",
    "project = 'assignment_4'\n",
    "\n",
    "#criterion\n",
    "criterion = nn.CrossEntropyLoss()"
   ]
  },
  {
   "cell_type": "code",
   "execution_count": 19,
   "id": "d0e30a0f-3e49-4835-84ab-a6f9b7d96d12",
   "metadata": {},
   "outputs": [
    {
     "data": {
      "text/plain": [
       "ActionClassificationModel(\n",
       "  (encoder): Sequential(\n",
       "    (0): Conv2d(1, 64, kernel_size=(3, 3), stride=(1, 1), padding=(1, 1))\n",
       "    (1): BatchNorm2d(64, eps=1e-05, momentum=0.1, affine=True, track_running_stats=True)\n",
       "    (2): ReLU()\n",
       "    (3): Conv2d(64, 64, kernel_size=(3, 3), stride=(1, 1), padding=(1, 1))\n",
       "    (4): BatchNorm2d(64, eps=1e-05, momentum=0.1, affine=True, track_running_stats=True)\n",
       "    (5): ReLU()\n",
       "    (6): MaxPool2d(kernel_size=2, stride=2, padding=0, dilation=1, ceil_mode=False)\n",
       "    (7): Dropout(p=0.3, inplace=False)\n",
       "    (8): Conv2d(64, 128, kernel_size=(3, 3), stride=(1, 1), padding=(1, 1))\n",
       "    (9): BatchNorm2d(128, eps=1e-05, momentum=0.1, affine=True, track_running_stats=True)\n",
       "    (10): ReLU()\n",
       "    (11): Conv2d(128, 128, kernel_size=(3, 3), stride=(1, 1), padding=(1, 1))\n",
       "    (12): BatchNorm2d(128, eps=1e-05, momentum=0.1, affine=True, track_running_stats=True)\n",
       "    (13): ReLU()\n",
       "    (14): MaxPool2d(kernel_size=2, stride=2, padding=0, dilation=1, ceil_mode=False)\n",
       "    (15): Dropout(p=0.3, inplace=False)\n",
       "    (16): Conv2d(128, 256, kernel_size=(3, 3), stride=(1, 1), padding=(1, 1))\n",
       "    (17): BatchNorm2d(256, eps=1e-05, momentum=0.1, affine=True, track_running_stats=True)\n",
       "    (18): ReLU()\n",
       "    (19): Conv2d(256, 256, kernel_size=(3, 3), stride=(1, 1), padding=(1, 1))\n",
       "    (20): BatchNorm2d(256, eps=1e-05, momentum=0.1, affine=True, track_running_stats=True)\n",
       "    (21): ReLU()\n",
       "    (22): MaxPool2d(kernel_size=2, stride=2, padding=0, dilation=1, ceil_mode=False)\n",
       "    (23): Dropout(p=0.4, inplace=False)\n",
       "  )\n",
       "  (rnn): LSTM(\n",
       "    (lstm_cells): ModuleList(\n",
       "      (0-1): 2 x LSTMCell()\n",
       "    )\n",
       "    (classifier): Linear(in_features=256, out_features=256, bias=True)\n",
       "  )\n",
       "  (classifier): Sequential(\n",
       "    (0): Conv1d(256, 128, kernel_size=(1,), stride=(1,))\n",
       "    (1): ReLU()\n",
       "    (2): AdaptiveAvgPool1d(output_size=1)\n",
       "    (3): Flatten(start_dim=1, end_dim=-1)\n",
       "    (4): Linear(in_features=128, out_features=6, bias=True)\n",
       "  )\n",
       ")"
      ]
     },
     "execution_count": 19,
     "metadata": {},
     "output_type": "execute_result"
    }
   ],
   "source": [
    "model = ActionClassificationModel(input_dim=input_size, \n",
    "                                           sequence_length=sequence_length, \n",
    "                                           num_classes=num_classes).to(device)\n",
    "model"
   ]
  },
  {
   "cell_type": "code",
   "execution_count": 20,
   "id": "9b0f81aa-f9bd-4cd0-92e2-f12d6256c25b",
   "metadata": {},
   "outputs": [
    {
     "name": "stderr",
     "output_type": "stream",
     "text": [
      "\u001b[34m\u001b[1mwandb\u001b[0m: Using wandb-core as the SDK backend.  Please refer to https://wandb.me/wandb-core for more information.\n",
      "\u001b[34m\u001b[1mwandb\u001b[0m: Logging into wandb.ai. (Learn how to deploy a W&B server locally: https://wandb.me/wandb-server)\n",
      "\u001b[34m\u001b[1mwandb\u001b[0m: You can find your API key in your browser here: https://wandb.ai/authorize\n",
      "\u001b[34m\u001b[1mwandb\u001b[0m: Paste an API key from your profile and hit enter, or press ctrl+c to quit:"
     ]
    },
    {
     "name": "stdin",
     "output_type": "stream",
     "text": [
      "  ········\n"
     ]
    },
    {
     "name": "stderr",
     "output_type": "stream",
     "text": [
      "\u001b[34m\u001b[1mwandb\u001b[0m: Appending key for api.wandb.ai to your netrc file: /home/user/javeda1/.netrc\n"
     ]
    },
    {
     "data": {
      "text/html": [
       "Tracking run with wandb version 0.18.7"
      ],
      "text/plain": [
       "<IPython.core.display.HTML object>"
      ]
     },
     "metadata": {},
     "output_type": "display_data"
    },
    {
     "data": {
      "text/html": [
       "Run data is saved locally in <code>/home/user/javeda1/MA-INF-4308-Lab-Vision-Systems/Assignment-4/wandb/run-20241202_024851-vgpqs9np</code>"
      ],
      "text/plain": [
       "<IPython.core.display.HTML object>"
      ]
     },
     "metadata": {},
     "output_type": "display_data"
    },
    {
     "data": {
      "text/html": [
       "Syncing run <strong><a href='https://wandb.ai/ahmadjaved97/assignment_4/runs/vgpqs9np' target=\"_blank\">lstm_scratch_ep_30_lr_0.001</a></strong> to <a href='https://wandb.ai/ahmadjaved97/assignment_4' target=\"_blank\">Weights & Biases</a> (<a href='https://wandb.me/developer-guide' target=\"_blank\">docs</a>)<br/>"
      ],
      "text/plain": [
       "<IPython.core.display.HTML object>"
      ]
     },
     "metadata": {},
     "output_type": "display_data"
    },
    {
     "data": {
      "text/html": [
       " View project at <a href='https://wandb.ai/ahmadjaved97/assignment_4' target=\"_blank\">https://wandb.ai/ahmadjaved97/assignment_4</a>"
      ],
      "text/plain": [
       "<IPython.core.display.HTML object>"
      ]
     },
     "metadata": {},
     "output_type": "display_data"
    },
    {
     "data": {
      "text/html": [
       " View run at <a href='https://wandb.ai/ahmadjaved97/assignment_4/runs/vgpqs9np' target=\"_blank\">https://wandb.ai/ahmadjaved97/assignment_4/runs/vgpqs9np</a>"
      ],
      "text/plain": [
       "<IPython.core.display.HTML object>"
      ]
     },
     "metadata": {},
     "output_type": "display_data"
    },
    {
     "name": "stderr",
     "output_type": "stream",
     "text": [
      "  3%|█▊                                                     | 1/30 [02:03<59:49, 123.77s/it]"
     ]
    },
    {
     "name": "stdout",
     "output_type": "stream",
     "text": [
      "Epoch 1/30\n",
      "Train Loss: 1.1827, Train Accuracy: 0.3738\n",
      "Eval Loss: 1.0765, Eval Accuracy: 0.4569\n",
      "Learning Rate: 0.001000\n"
     ]
    },
    {
     "name": "stderr",
     "output_type": "stream",
     "text": [
      "  7%|███▋                                                   | 2/30 [03:49<52:54, 113.39s/it]"
     ]
    },
    {
     "name": "stdout",
     "output_type": "stream",
     "text": [
      "Epoch 2/30\n",
      "Train Loss: 1.0397, Train Accuracy: 0.4602\n",
      "Eval Loss: 0.9790, Eval Accuracy: 0.4780\n",
      "Learning Rate: 0.001000\n"
     ]
    },
    {
     "name": "stderr",
     "output_type": "stream",
     "text": [
      " 10%|█████▌                                                 | 3/30 [05:35<49:19, 109.61s/it]"
     ]
    },
    {
     "name": "stdout",
     "output_type": "stream",
     "text": [
      "Epoch 3/30\n",
      "Train Loss: 0.8865, Train Accuracy: 0.5612\n",
      "Eval Loss: 0.8290, Eval Accuracy: 0.6049\n",
      "Learning Rate: 0.001000\n"
     ]
    },
    {
     "name": "stderr",
     "output_type": "stream",
     "text": [
      " 13%|███████▎                                               | 4/30 [07:21<47:00, 108.47s/it]"
     ]
    },
    {
     "name": "stdout",
     "output_type": "stream",
     "text": [
      "Epoch 4/30\n",
      "Train Loss: 0.7690, Train Accuracy: 0.6240\n",
      "Eval Loss: 0.7335, Eval Accuracy: 0.6236\n",
      "Learning Rate: 0.001000\n"
     ]
    },
    {
     "name": "stderr",
     "output_type": "stream",
     "text": [
      " 17%|█████████▏                                             | 5/30 [09:06<44:39, 107.19s/it]"
     ]
    },
    {
     "name": "stdout",
     "output_type": "stream",
     "text": [
      "Epoch 5/30\n",
      "Train Loss: 0.6772, Train Accuracy: 0.7108\n",
      "Eval Loss: 0.6246, Eval Accuracy: 0.7033\n",
      "Learning Rate: 0.001000\n"
     ]
    },
    {
     "name": "stderr",
     "output_type": "stream",
     "text": [
      " 20%|███████████                                            | 6/30 [10:51<42:33, 106.39s/it]"
     ]
    },
    {
     "name": "stdout",
     "output_type": "stream",
     "text": [
      "Epoch 6/30\n",
      "Train Loss: 0.5160, Train Accuracy: 0.7703\n",
      "Eval Loss: 0.5887, Eval Accuracy: 0.7398\n",
      "Learning Rate: 0.000500\n"
     ]
    },
    {
     "name": "stderr",
     "output_type": "stream",
     "text": [
      " 23%|████████████▊                                          | 7/30 [12:35<40:26, 105.50s/it]"
     ]
    },
    {
     "name": "stdout",
     "output_type": "stream",
     "text": [
      "Epoch 7/30\n",
      "Train Loss: 0.4686, Train Accuracy: 0.7898\n",
      "Eval Loss: 0.5542, Eval Accuracy: 0.7715\n",
      "Learning Rate: 0.000500\n"
     ]
    },
    {
     "name": "stderr",
     "output_type": "stream",
     "text": [
      " 27%|██████████████▋                                        | 8/30 [14:18<38:27, 104.91s/it]"
     ]
    },
    {
     "name": "stdout",
     "output_type": "stream",
     "text": [
      "Epoch 8/30\n",
      "Train Loss: 0.4388, Train Accuracy: 0.8008\n",
      "Eval Loss: 0.5656, Eval Accuracy: 0.7618\n",
      "Learning Rate: 0.000500\n"
     ]
    },
    {
     "name": "stderr",
     "output_type": "stream",
     "text": [
      " 30%|████████████████▌                                      | 9/30 [16:04<36:45, 105.04s/it]"
     ]
    },
    {
     "name": "stdout",
     "output_type": "stream",
     "text": [
      "Epoch 9/30\n",
      "Train Loss: 0.4088, Train Accuracy: 0.8148\n",
      "Eval Loss: 0.4534, Eval Accuracy: 0.7943\n",
      "Learning Rate: 0.000500\n"
     ]
    },
    {
     "name": "stderr",
     "output_type": "stream",
     "text": [
      " 33%|██████████████████                                    | 10/30 [17:47<34:52, 104.63s/it]"
     ]
    },
    {
     "name": "stdout",
     "output_type": "stream",
     "text": [
      "Epoch 10/30\n",
      "Train Loss: 0.3863, Train Accuracy: 0.8236\n",
      "Eval Loss: 0.4777, Eval Accuracy: 0.7919\n",
      "Learning Rate: 0.000500\n"
     ]
    },
    {
     "name": "stderr",
     "output_type": "stream",
     "text": [
      " 37%|███████████████████▊                                  | 11/30 [19:31<33:02, 104.34s/it]"
     ]
    },
    {
     "name": "stdout",
     "output_type": "stream",
     "text": [
      "Epoch 11/30\n",
      "Train Loss: 0.3302, Train Accuracy: 0.8461\n",
      "Eval Loss: 0.4124, Eval Accuracy: 0.8236\n",
      "Learning Rate: 0.000250\n"
     ]
    },
    {
     "name": "stderr",
     "output_type": "stream",
     "text": [
      " 40%|█████████████████████▌                                | 12/30 [21:15<31:15, 104.20s/it]"
     ]
    },
    {
     "name": "stdout",
     "output_type": "stream",
     "text": [
      "Epoch 12/30\n",
      "Train Loss: 0.3175, Train Accuracy: 0.8522\n",
      "Eval Loss: 0.4052, Eval Accuracy: 0.8252\n",
      "Learning Rate: 0.000250\n"
     ]
    },
    {
     "name": "stderr",
     "output_type": "stream",
     "text": [
      " 43%|███████████████████████▍                              | 13/30 [22:58<29:26, 103.91s/it]"
     ]
    },
    {
     "name": "stdout",
     "output_type": "stream",
     "text": [
      "Epoch 13/30\n",
      "Train Loss: 0.3011, Train Accuracy: 0.8606\n",
      "Eval Loss: 0.4450, Eval Accuracy: 0.8244\n",
      "Learning Rate: 0.000250\n"
     ]
    },
    {
     "name": "stderr",
     "output_type": "stream",
     "text": [
      " 47%|█████████████████████████▏                            | 14/30 [24:42<27:40, 103.81s/it]"
     ]
    },
    {
     "name": "stdout",
     "output_type": "stream",
     "text": [
      "Epoch 14/30\n",
      "Train Loss: 0.2861, Train Accuracy: 0.8654\n",
      "Eval Loss: 0.4676, Eval Accuracy: 0.8106\n",
      "Learning Rate: 0.000250\n"
     ]
    },
    {
     "name": "stderr",
     "output_type": "stream",
     "text": [
      " 50%|███████████████████████████                           | 15/30 [26:26<25:57, 103.85s/it]"
     ]
    },
    {
     "name": "stdout",
     "output_type": "stream",
     "text": [
      "Epoch 15/30\n",
      "Train Loss: 0.2703, Train Accuracy: 0.8740\n",
      "Eval Loss: 0.4346, Eval Accuracy: 0.8268\n",
      "Learning Rate: 0.000250\n"
     ]
    },
    {
     "name": "stderr",
     "output_type": "stream",
     "text": [
      " 53%|████████████████████████████▊                         | 16/30 [28:09<24:11, 103.68s/it]"
     ]
    },
    {
     "name": "stdout",
     "output_type": "stream",
     "text": [
      "Epoch 16/30\n",
      "Train Loss: 0.2586, Train Accuracy: 0.8811\n",
      "Eval Loss: 0.4216, Eval Accuracy: 0.8398\n",
      "Learning Rate: 0.000125\n"
     ]
    },
    {
     "name": "stderr",
     "output_type": "stream",
     "text": [
      " 57%|██████████████████████████████▌                       | 17/30 [29:52<22:26, 103.55s/it]"
     ]
    },
    {
     "name": "stdout",
     "output_type": "stream",
     "text": [
      "Epoch 17/30\n",
      "Train Loss: 0.2425, Train Accuracy: 0.8874\n",
      "Eval Loss: 0.4147, Eval Accuracy: 0.8431\n",
      "Learning Rate: 0.000125\n"
     ]
    },
    {
     "name": "stderr",
     "output_type": "stream",
     "text": [
      " 60%|████████████████████████████████▍                     | 18/30 [31:36<20:43, 103.59s/it]"
     ]
    },
    {
     "name": "stdout",
     "output_type": "stream",
     "text": [
      "Epoch 18/30\n",
      "Train Loss: 0.2386, Train Accuracy: 0.8868\n",
      "Eval Loss: 0.4304, Eval Accuracy: 0.8382\n",
      "Learning Rate: 0.000125\n"
     ]
    },
    {
     "name": "stderr",
     "output_type": "stream",
     "text": [
      " 63%|██████████████████████████████████▏                   | 19/30 [33:20<19:00, 103.72s/it]"
     ]
    },
    {
     "name": "stdout",
     "output_type": "stream",
     "text": [
      "Epoch 19/30\n",
      "Train Loss: 0.2349, Train Accuracy: 0.8868\n",
      "Eval Loss: 0.4063, Eval Accuracy: 0.8480\n",
      "Learning Rate: 0.000125\n"
     ]
    },
    {
     "name": "stderr",
     "output_type": "stream",
     "text": [
      " 67%|████████████████████████████████████                  | 20/30 [35:04<17:18, 103.85s/it]"
     ]
    },
    {
     "name": "stdout",
     "output_type": "stream",
     "text": [
      "Epoch 20/30\n",
      "Train Loss: 0.2286, Train Accuracy: 0.8927\n",
      "Eval Loss: 0.4134, Eval Accuracy: 0.8463\n",
      "Learning Rate: 0.000125\n"
     ]
    },
    {
     "name": "stderr",
     "output_type": "stream",
     "text": [
      " 70%|█████████████████████████████████████▊                | 21/30 [36:49<15:36, 104.09s/it]"
     ]
    },
    {
     "name": "stdout",
     "output_type": "stream",
     "text": [
      "Epoch 21/30\n",
      "Train Loss: 0.2129, Train Accuracy: 0.8996\n",
      "Eval Loss: 0.4144, Eval Accuracy: 0.8496\n",
      "Learning Rate: 0.000063\n"
     ]
    },
    {
     "name": "stderr",
     "output_type": "stream",
     "text": [
      " 73%|███████████████████████████████████████▌              | 22/30 [38:33<13:52, 104.07s/it]"
     ]
    },
    {
     "name": "stdout",
     "output_type": "stream",
     "text": [
      "Epoch 22/30\n",
      "Train Loss: 0.2083, Train Accuracy: 0.9016\n",
      "Eval Loss: 0.4433, Eval Accuracy: 0.8455\n",
      "Learning Rate: 0.000063\n"
     ]
    },
    {
     "name": "stderr",
     "output_type": "stream",
     "text": [
      " 77%|█████████████████████████████████████████▍            | 23/30 [40:17<12:09, 104.18s/it]"
     ]
    },
    {
     "name": "stdout",
     "output_type": "stream",
     "text": [
      "Epoch 23/30\n",
      "Train Loss: 0.2033, Train Accuracy: 0.9055\n",
      "Eval Loss: 0.4439, Eval Accuracy: 0.8463\n",
      "Learning Rate: 0.000063\n"
     ]
    },
    {
     "name": "stderr",
     "output_type": "stream",
     "text": [
      " 80%|███████████████████████████████████████████▏          | 24/30 [42:01<10:24, 104.09s/it]"
     ]
    },
    {
     "name": "stdout",
     "output_type": "stream",
     "text": [
      "Epoch 24/30\n",
      "Train Loss: 0.2040, Train Accuracy: 0.9033\n",
      "Eval Loss: 0.4474, Eval Accuracy: 0.8463\n",
      "Learning Rate: 0.000063\n"
     ]
    },
    {
     "name": "stderr",
     "output_type": "stream",
     "text": [
      " 83%|█████████████████████████████████████████████         | 25/30 [43:45<08:40, 104.15s/it]"
     ]
    },
    {
     "name": "stdout",
     "output_type": "stream",
     "text": [
      "Epoch 25/30\n",
      "Train Loss: 0.1999, Train Accuracy: 0.9049\n",
      "Eval Loss: 0.4557, Eval Accuracy: 0.8439\n",
      "Learning Rate: 0.000063\n"
     ]
    },
    {
     "name": "stderr",
     "output_type": "stream",
     "text": [
      " 87%|██████████████████████████████████████████████▊       | 26/30 [45:30<06:57, 104.25s/it]"
     ]
    },
    {
     "name": "stdout",
     "output_type": "stream",
     "text": [
      "Epoch 26/30\n",
      "Train Loss: 0.1934, Train Accuracy: 0.9065\n",
      "Eval Loss: 0.4550, Eval Accuracy: 0.8488\n",
      "Learning Rate: 0.000031\n"
     ]
    },
    {
     "name": "stderr",
     "output_type": "stream",
     "text": [
      " 90%|████████████████████████████████████████████████▌     | 27/30 [47:13<05:11, 103.98s/it]"
     ]
    },
    {
     "name": "stdout",
     "output_type": "stream",
     "text": [
      "Epoch 27/30\n",
      "Train Loss: 0.1894, Train Accuracy: 0.9073\n",
      "Eval Loss: 0.4591, Eval Accuracy: 0.8488\n",
      "Learning Rate: 0.000031\n"
     ]
    },
    {
     "name": "stderr",
     "output_type": "stream",
     "text": [
      " 93%|██████████████████████████████████████████████████▍   | 28/30 [48:58<03:28, 104.10s/it]"
     ]
    },
    {
     "name": "stdout",
     "output_type": "stream",
     "text": [
      "Epoch 28/30\n",
      "Train Loss: 0.1907, Train Accuracy: 0.9096\n",
      "Eval Loss: 0.4639, Eval Accuracy: 0.8480\n",
      "Learning Rate: 0.000031\n"
     ]
    },
    {
     "name": "stderr",
     "output_type": "stream",
     "text": [
      " 97%|████████████████████████████████████████████████████▏ | 29/30 [50:41<01:43, 103.89s/it]"
     ]
    },
    {
     "name": "stdout",
     "output_type": "stream",
     "text": [
      "Epoch 29/30\n",
      "Train Loss: 0.1852, Train Accuracy: 0.9067\n",
      "Eval Loss: 0.4603, Eval Accuracy: 0.8488\n",
      "Learning Rate: 0.000031\n"
     ]
    },
    {
     "name": "stderr",
     "output_type": "stream",
     "text": [
      "100%|██████████████████████████████████████████████████████| 30/30 [52:25<00:00, 104.86s/it]"
     ]
    },
    {
     "name": "stdout",
     "output_type": "stream",
     "text": [
      "Epoch 30/30\n",
      "Train Loss: 0.1855, Train Accuracy: 0.9083\n",
      "Eval Loss: 0.4827, Eval Accuracy: 0.8463\n",
      "Learning Rate: 0.000031\n"
     ]
    },
    {
     "name": "stderr",
     "output_type": "stream",
     "text": [
      "\n"
     ]
    },
    {
     "data": {
      "text/html": [
       "\n",
       "    <style>\n",
       "        .wandb-row {\n",
       "            display: flex;\n",
       "            flex-direction: row;\n",
       "            flex-wrap: wrap;\n",
       "            justify-content: flex-start;\n",
       "            width: 100%;\n",
       "        }\n",
       "        .wandb-col {\n",
       "            display: flex;\n",
       "            flex-direction: column;\n",
       "            flex-basis: 100%;\n",
       "            flex: 1;\n",
       "            padding: 10px;\n",
       "        }\n",
       "    </style>\n",
       "<div class=\"wandb-row\"><div class=\"wandb-col\"><h3>Run history:</h3><br/><table class=\"wandb\"><tr><td>epoch</td><td>▁▁▁▂▂▂▂▃▃▃▃▄▄▄▄▅▅▅▅▆▆▆▆▇▇▇▇███</td></tr><tr><td>eval_accuracy</td><td>▁▁▄▄▅▆▇▆▇▇███▇████████████████</td></tr><tr><td>eval_loss</td><td>█▇▅▄▃▃▃▃▂▂▁▁▁▂▁▁▁▁▁▁▁▁▁▁▂▂▂▂▂▂</td></tr><tr><td>learning_rate</td><td>█████▄▄▄▄▄▃▃▃▃▃▂▂▂▂▂▁▁▁▁▁▁▁▁▁▁</td></tr><tr><td>train_accuracy</td><td>▁▂▃▄▅▆▆▇▇▇▇▇▇▇████████████████</td></tr><tr><td>train_loss</td><td>█▇▆▅▄▃▃▃▃▂▂▂▂▂▂▂▁▁▁▁▁▁▁▁▁▁▁▁▁▁</td></tr></table><br/></div><div class=\"wandb-col\"><h3>Run summary:</h3><br/><table class=\"wandb\"><tr><td>epoch</td><td>30</td></tr><tr><td>eval_accuracy</td><td>0.84634</td></tr><tr><td>eval_loss</td><td>0.48274</td></tr><tr><td>learning_rate</td><td>3e-05</td></tr><tr><td>train_accuracy</td><td>0.90833</td></tr><tr><td>train_loss</td><td>0.18546</td></tr></table><br/></div></div>"
      ],
      "text/plain": [
       "<IPython.core.display.HTML object>"
      ]
     },
     "metadata": {},
     "output_type": "display_data"
    },
    {
     "data": {
      "text/html": [
       " View run <strong style=\"color:#cdcd00\">lstm_scratch_ep_30_lr_0.001</strong> at: <a href='https://wandb.ai/ahmadjaved97/assignment_4/runs/vgpqs9np' target=\"_blank\">https://wandb.ai/ahmadjaved97/assignment_4/runs/vgpqs9np</a><br/> View project at: <a href='https://wandb.ai/ahmadjaved97/assignment_4' target=\"_blank\">https://wandb.ai/ahmadjaved97/assignment_4</a><br/>Synced 4 W&B file(s), 0 media file(s), 3 artifact file(s) and 0 other file(s)"
      ],
      "text/plain": [
       "<IPython.core.display.HTML object>"
      ]
     },
     "metadata": {},
     "output_type": "display_data"
    },
    {
     "data": {
      "text/html": [
       "Find logs at: <code>./wandb/run-20241202_024851-vgpqs9np/logs</code>"
      ],
      "text/plain": [
       "<IPython.core.display.HTML object>"
      ]
     },
     "metadata": {},
     "output_type": "display_data"
    }
   ],
   "source": [
    "# Run training\n",
    "model, train_losses, train_accuracies, eval_losses, eval_accuracies, learning_rates = run_training(\n",
    "    model, \n",
    "    train_loader, val_loader, \n",
    "    criterion,\n",
    "    device,\n",
    "    num_epochs=num_epochs, \n",
    "    learning_rate=learning_rate, \n",
    "    step_size=step_size, \n",
    "    gamma=gamma,\n",
    "    name=name, project=project\n",
    ")"
   ]
  },
  {
   "cell_type": "code",
   "execution_count": 21,
   "id": "623916e2-ad57-47ac-88a2-bed8af27ce9c",
   "metadata": {},
   "outputs": [],
   "source": [
    "save_path = \"./saved_models/lstm_scratch.pth\"\n",
    "torch.save(model, save_path)"
   ]
  },
  {
   "cell_type": "code",
   "execution_count": 19,
   "id": "62f98d89-5503-451f-8e89-0f45c1190abf",
   "metadata": {},
   "outputs": [],
   "source": [
    "def load_model(model_path):\n",
    "    model = torch.load(model_path)\n",
    "    return model"
   ]
  },
  {
   "cell_type": "code",
   "execution_count": 20,
   "id": "cabc89b1-16e4-4df2-bf82-f96003876f15",
   "metadata": {},
   "outputs": [
    {
     "name": "stderr",
     "output_type": "stream",
     "text": [
      "/tmp/ipykernel_1599014/2120265427.py:2: FutureWarning: You are using `torch.load` with `weights_only=False` (the current default value), which uses the default pickle module implicitly. It is possible to construct malicious pickle data which will execute arbitrary code during unpickling (See https://github.com/pytorch/pytorch/blob/main/SECURITY.md#untrusted-models for more details). In a future release, the default value for `weights_only` will be flipped to `True`. This limits the functions that could be executed during unpickling. Arbitrary objects will no longer be allowed to be loaded via this mode unless they are explicitly allowlisted by the user via `torch.serialization.add_safe_globals`. We recommend you start setting `weights_only=True` for any use case where you don't have full control of the loaded file. Please open an issue on GitHub for any issues related to this experimental feature.\n",
      "  model = torch.load(model_path)\n"
     ]
    },
    {
     "data": {
      "image/png": "[encoded data removed]",
      "text/plain": [
       "<Figure size 600x400 with 2 Axes>"
      ]
     },
     "metadata": {},
     "output_type": "display_data"
    }
   ],
   "source": [
    "model = load_model(\"./saved_models/lstm_scratch.pth\")\n",
    "# Use the function to get results\n",
    "y_true, y_pred = evaluate_model(model, val_loader)\n",
    "\n",
    "# Class label names\n",
    "label_names = ['boxing','handclapping', 'handwaving', 'jogging', 'running', 'walking']\n",
    "\n",
    "# Plot confusion matrix\n",
    "plot_confusion_matrix(y_true, y_pred, label_names, model_name=\"LSTM\")"
   ]
  },
  {
   "cell_type": "code",
   "execution_count": null,
   "id": "41c8e20d-fb50-416d-9b57-5f9f88f89c54",
   "metadata": {},
   "outputs": [],
   "source": []
  },
  {
   "cell_type": "markdown",
   "id": "cb95b02c-a0a7-4270-85d3-00eb601fafbc",
   "metadata": {},
   "source": [
    "#### Pytorch LSTM Training"
   ]
  },
  {
   "cell_type": "code",
   "execution_count": 22,
   "id": "c369a34a-584e-43cd-9d6a-740b546dd4a0",
   "metadata": {},
   "outputs": [],
   "source": [
    "# Hyper parameters for LSTM\n",
    "input_size = 64*64  # flattened size of frame\n",
    "hidden_size = 256  # Hidden size of the LSTM\n",
    "num_classes = len(os.listdir(\"/home/nfs/inf6/data/datasets/kth_actions/processed\"))  # Number of output classes\n",
    "num_layers = 2\n",
    "\n",
    "# Hyperparameters for training\n",
    "num_epochs = 30\n",
    "learning_rate = 0.001  # Initial learning rate\n",
    "step_size = 5          # To be used in LR Scheduler\n",
    "gamma = 0.5            # To be used in LR Scheduler\n",
    "name = f\"lstm_pytorch_ep_{num_epochs}_lr_{learning_rate}\"\n",
    "project = 'assignment_4'\n",
    "\n",
    "#criterion\n",
    "criterion = nn.CrossEntropyLoss()"
   ]
  },
  {
   "cell_type": "code",
   "execution_count": 23,
   "id": "4ac93ad0-2fdf-4aae-8728-9be9f2bfda69",
   "metadata": {},
   "outputs": [
    {
     "data": {
      "text/plain": [
       "ActionClassificationModel(\n",
       "  (encoder): Sequential(\n",
       "    (0): Conv2d(1, 64, kernel_size=(3, 3), stride=(1, 1), padding=(1, 1))\n",
       "    (1): BatchNorm2d(64, eps=1e-05, momentum=0.1, affine=True, track_running_stats=True)\n",
       "    (2): ReLU()\n",
       "    (3): Conv2d(64, 64, kernel_size=(3, 3), stride=(1, 1), padding=(1, 1))\n",
       "    (4): BatchNorm2d(64, eps=1e-05, momentum=0.1, affine=True, track_running_stats=True)\n",
       "    (5): ReLU()\n",
       "    (6): MaxPool2d(kernel_size=2, stride=2, padding=0, dilation=1, ceil_mode=False)\n",
       "    (7): Dropout(p=0.3, inplace=False)\n",
       "    (8): Conv2d(64, 128, kernel_size=(3, 3), stride=(1, 1), padding=(1, 1))\n",
       "    (9): BatchNorm2d(128, eps=1e-05, momentum=0.1, affine=True, track_running_stats=True)\n",
       "    (10): ReLU()\n",
       "    (11): Conv2d(128, 128, kernel_size=(3, 3), stride=(1, 1), padding=(1, 1))\n",
       "    (12): BatchNorm2d(128, eps=1e-05, momentum=0.1, affine=True, track_running_stats=True)\n",
       "    (13): ReLU()\n",
       "    (14): MaxPool2d(kernel_size=2, stride=2, padding=0, dilation=1, ceil_mode=False)\n",
       "    (15): Dropout(p=0.3, inplace=False)\n",
       "    (16): Conv2d(128, 256, kernel_size=(3, 3), stride=(1, 1), padding=(1, 1))\n",
       "    (17): BatchNorm2d(256, eps=1e-05, momentum=0.1, affine=True, track_running_stats=True)\n",
       "    (18): ReLU()\n",
       "    (19): Conv2d(256, 256, kernel_size=(3, 3), stride=(1, 1), padding=(1, 1))\n",
       "    (20): BatchNorm2d(256, eps=1e-05, momentum=0.1, affine=True, track_running_stats=True)\n",
       "    (21): ReLU()\n",
       "    (22): MaxPool2d(kernel_size=2, stride=2, padding=0, dilation=1, ceil_mode=False)\n",
       "    (23): Dropout(p=0.4, inplace=False)\n",
       "  )\n",
       "  (rnn): CustomPLSTM(\n",
       "    (lstm_cells): ModuleList(\n",
       "      (0): LSTMCell(16384, 256)\n",
       "      (1): LSTMCell(256, 256)\n",
       "    )\n",
       "    (fc): Linear(in_features=256, out_features=256, bias=True)\n",
       "  )\n",
       "  (classifier): Sequential(\n",
       "    (0): Conv1d(256, 128, kernel_size=(1,), stride=(1,))\n",
       "    (1): ReLU()\n",
       "    (2): AdaptiveAvgPool1d(output_size=1)\n",
       "    (3): Flatten(start_dim=1, end_dim=-1)\n",
       "    (4): Linear(in_features=128, out_features=6, bias=True)\n",
       "  )\n",
       ")"
      ]
     },
     "execution_count": 23,
     "metadata": {},
     "output_type": "execute_result"
    }
   ],
   "source": [
    "model = ActionClassificationModel(input_dim=input_size, \n",
    "                                           sequence_length=sequence_length, \n",
    "                                           num_classes=num_classes,rnn_module='custom_lstm').to(device)\n",
    "model"
   ]
  },
  {
   "cell_type": "code",
   "execution_count": 24,
   "id": "5daf6556-6bbb-457e-b116-a0aa4f277472",
   "metadata": {},
   "outputs": [
    {
     "name": "stderr",
     "output_type": "stream",
     "text": [
      "\u001b[34m\u001b[1mwandb\u001b[0m: Currently logged in as: \u001b[33mahmadjaved97\u001b[0m. Use \u001b[1m`wandb login --relogin`\u001b[0m to force relogin\n"
     ]
    },
    {
     "data": {
      "text/html": [
       "Tracking run with wandb version 0.18.7"
      ],
      "text/plain": [
       "<IPython.core.display.HTML object>"
      ]
     },
     "metadata": {},
     "output_type": "display_data"
    },
    {
     "data": {
      "text/html": [
       "Run data is saved locally in <code>/home/user/javeda1/MA-INF-4308-Lab-Vision-Systems/Assignment-4/wandb/run-20241202_034122-iyo0nbnl</code>"
      ],
      "text/plain": [
       "<IPython.core.display.HTML object>"
      ]
     },
     "metadata": {},
     "output_type": "display_data"
    },
    {
     "data": {
      "text/html": [
       "Syncing run <strong><a href='https://wandb.ai/ahmadjaved97/assignment_4/runs/iyo0nbnl' target=\"_blank\">lstm_pytorch_ep_30_lr_0.001</a></strong> to <a href='https://wandb.ai/ahmadjaved97/assignment_4' target=\"_blank\">Weights & Biases</a> (<a href='https://wandb.me/developer-guide' target=\"_blank\">docs</a>)<br/>"
      ],
      "text/plain": [
       "<IPython.core.display.HTML object>"
      ]
     },
     "metadata": {},
     "output_type": "display_data"
    },
    {
     "data": {
      "text/html": [
       " View project at <a href='https://wandb.ai/ahmadjaved97/assignment_4' target=\"_blank\">https://wandb.ai/ahmadjaved97/assignment_4</a>"
      ],
      "text/plain": [
       "<IPython.core.display.HTML object>"
      ]
     },
     "metadata": {},
     "output_type": "display_data"
    },
    {
     "data": {
      "text/html": [
       " View run at <a href='https://wandb.ai/ahmadjaved97/assignment_4/runs/iyo0nbnl' target=\"_blank\">https://wandb.ai/ahmadjaved97/assignment_4/runs/iyo0nbnl</a>"
      ],
      "text/plain": [
       "<IPython.core.display.HTML object>"
      ]
     },
     "metadata": {},
     "output_type": "display_data"
    },
    {
     "name": "stderr",
     "output_type": "stream",
     "text": [
      "  3%|█▊                                                     | 1/30 [01:44<50:18, 104.09s/it]"
     ]
    },
    {
     "name": "stdout",
     "output_type": "stream",
     "text": [
      "Epoch 1/30\n",
      "Train Loss: 1.1636, Train Accuracy: 0.3945\n",
      "Eval Loss: 1.0338, Eval Accuracy: 0.4699\n",
      "Learning Rate: 0.001000\n"
     ]
    },
    {
     "name": "stderr",
     "output_type": "stream",
     "text": [
      "  7%|███▋                                                   | 2/30 [03:27<48:31, 103.97s/it]"
     ]
    },
    {
     "name": "stdout",
     "output_type": "stream",
     "text": [
      "Epoch 2/30\n",
      "Train Loss: 0.9525, Train Accuracy: 0.5258\n",
      "Eval Loss: 0.8318, Eval Accuracy: 0.5764\n",
      "Learning Rate: 0.001000\n"
     ]
    },
    {
     "name": "stderr",
     "output_type": "stream",
     "text": [
      " 10%|█████▌                                                 | 3/30 [05:11<46:46, 103.96s/it]"
     ]
    },
    {
     "name": "stdout",
     "output_type": "stream",
     "text": [
      "Epoch 3/30\n",
      "Train Loss: 0.7729, Train Accuracy: 0.6315\n",
      "Eval Loss: 0.8423, Eval Accuracy: 0.6154\n",
      "Learning Rate: 0.001000\n"
     ]
    },
    {
     "name": "stderr",
     "output_type": "stream",
     "text": [
      " 13%|███████▎                                               | 4/30 [06:56<45:09, 104.21s/it]"
     ]
    },
    {
     "name": "stdout",
     "output_type": "stream",
     "text": [
      "Epoch 4/30\n",
      "Train Loss: 0.6677, Train Accuracy: 0.6715\n",
      "Eval Loss: 0.6348, Eval Accuracy: 0.6715\n",
      "Learning Rate: 0.001000\n"
     ]
    },
    {
     "name": "stderr",
     "output_type": "stream",
     "text": [
      " 17%|█████████▏                                             | 5/30 [08:39<43:16, 103.88s/it]"
     ]
    },
    {
     "name": "stdout",
     "output_type": "stream",
     "text": [
      "Epoch 5/30\n",
      "Train Loss: 0.6073, Train Accuracy: 0.7061\n",
      "Eval Loss: 0.5849, Eval Accuracy: 0.7260\n",
      "Learning Rate: 0.001000\n"
     ]
    },
    {
     "name": "stderr",
     "output_type": "stream",
     "text": [
      " 20%|███████████                                            | 6/30 [10:24<41:42, 104.29s/it]"
     ]
    },
    {
     "name": "stdout",
     "output_type": "stream",
     "text": [
      "Epoch 6/30\n",
      "Train Loss: 0.4645, Train Accuracy: 0.7896\n",
      "Eval Loss: 0.4895, Eval Accuracy: 0.7919\n",
      "Learning Rate: 0.000500\n"
     ]
    },
    {
     "name": "stderr",
     "output_type": "stream",
     "text": [
      " 23%|████████████▊                                          | 7/30 [12:10<40:07, 104.69s/it]"
     ]
    },
    {
     "name": "stdout",
     "output_type": "stream",
     "text": [
      "Epoch 7/30\n",
      "Train Loss: 0.4074, Train Accuracy: 0.8142\n",
      "Eval Loss: 0.4406, Eval Accuracy: 0.7984\n",
      "Learning Rate: 0.000500\n"
     ]
    },
    {
     "name": "stderr",
     "output_type": "stream",
     "text": [
      " 27%|██████████████▋                                        | 8/30 [13:53<38:15, 104.33s/it]"
     ]
    },
    {
     "name": "stdout",
     "output_type": "stream",
     "text": [
      "Epoch 8/30\n",
      "Train Loss: 0.3848, Train Accuracy: 0.8258\n",
      "Eval Loss: 0.4338, Eval Accuracy: 0.8138\n",
      "Learning Rate: 0.000500\n"
     ]
    },
    {
     "name": "stderr",
     "output_type": "stream",
     "text": [
      " 30%|████████████████▌                                      | 9/30 [15:39<36:35, 104.56s/it]"
     ]
    },
    {
     "name": "stdout",
     "output_type": "stream",
     "text": [
      "Epoch 9/30\n",
      "Train Loss: 0.3483, Train Accuracy: 0.8429\n",
      "Eval Loss: 0.4376, Eval Accuracy: 0.8114\n",
      "Learning Rate: 0.000500\n"
     ]
    },
    {
     "name": "stderr",
     "output_type": "stream",
     "text": [
      " 33%|██████████████████                                    | 10/30 [17:23<34:51, 104.59s/it]"
     ]
    },
    {
     "name": "stdout",
     "output_type": "stream",
     "text": [
      "Epoch 10/30\n",
      "Train Loss: 0.3399, Train Accuracy: 0.8435\n",
      "Eval Loss: 0.4154, Eval Accuracy: 0.8179\n",
      "Learning Rate: 0.000500\n"
     ]
    },
    {
     "name": "stderr",
     "output_type": "stream",
     "text": [
      " 37%|███████████████████▊                                  | 11/30 [19:06<32:58, 104.14s/it]"
     ]
    },
    {
     "name": "stdout",
     "output_type": "stream",
     "text": [
      "Epoch 11/30\n",
      "Train Loss: 0.2948, Train Accuracy: 0.8659\n",
      "Eval Loss: 0.4019, Eval Accuracy: 0.8268\n",
      "Learning Rate: 0.000250\n"
     ]
    },
    {
     "name": "stderr",
     "output_type": "stream",
     "text": [
      " 40%|█████████████████████▌                                | 12/30 [20:49<31:07, 103.75s/it]"
     ]
    },
    {
     "name": "stdout",
     "output_type": "stream",
     "text": [
      "Epoch 12/30\n",
      "Train Loss: 0.2807, Train Accuracy: 0.8703\n",
      "Eval Loss: 0.4316, Eval Accuracy: 0.8268\n",
      "Learning Rate: 0.000250\n"
     ]
    },
    {
     "name": "stderr",
     "output_type": "stream",
     "text": [
      " 43%|███████████████████████▍                              | 13/30 [22:34<29:29, 104.09s/it]"
     ]
    },
    {
     "name": "stdout",
     "output_type": "stream",
     "text": [
      "Epoch 13/30\n",
      "Train Loss: 0.2738, Train Accuracy: 0.8734\n",
      "Eval Loss: 0.4378, Eval Accuracy: 0.8228\n",
      "Learning Rate: 0.000250\n"
     ]
    },
    {
     "name": "stderr",
     "output_type": "stream",
     "text": [
      " 47%|█████████████████████████▏                            | 14/30 [24:17<27:41, 103.85s/it]"
     ]
    },
    {
     "name": "stdout",
     "output_type": "stream",
     "text": [
      "Epoch 14/30\n",
      "Train Loss: 0.2600, Train Accuracy: 0.8760\n",
      "Eval Loss: 0.4243, Eval Accuracy: 0.8358\n",
      "Learning Rate: 0.000250\n"
     ]
    },
    {
     "name": "stderr",
     "output_type": "stream",
     "text": [
      " 50%|███████████████████████████                           | 15/30 [26:02<25:59, 103.97s/it]"
     ]
    },
    {
     "name": "stdout",
     "output_type": "stream",
     "text": [
      "Epoch 15/30\n",
      "Train Loss: 0.2621, Train Accuracy: 0.8742\n",
      "Eval Loss: 0.4163, Eval Accuracy: 0.8341\n",
      "Learning Rate: 0.000250\n"
     ]
    },
    {
     "name": "stderr",
     "output_type": "stream",
     "text": [
      " 53%|████████████████████████████▊                         | 16/30 [27:45<24:11, 103.69s/it]"
     ]
    },
    {
     "name": "stdout",
     "output_type": "stream",
     "text": [
      "Epoch 16/30\n",
      "Train Loss: 0.2373, Train Accuracy: 0.8880\n",
      "Eval Loss: 0.4225, Eval Accuracy: 0.8374\n",
      "Learning Rate: 0.000125\n"
     ]
    },
    {
     "name": "stderr",
     "output_type": "stream",
     "text": [
      " 57%|██████████████████████████████▌                       | 17/30 [29:28<22:26, 103.60s/it]"
     ]
    },
    {
     "name": "stdout",
     "output_type": "stream",
     "text": [
      "Epoch 17/30\n",
      "Train Loss: 0.2218, Train Accuracy: 0.8965\n",
      "Eval Loss: 0.4301, Eval Accuracy: 0.8447\n",
      "Learning Rate: 0.000125\n"
     ]
    },
    {
     "name": "stderr",
     "output_type": "stream",
     "text": [
      " 60%|████████████████████████████████▍                     | 18/30 [31:12<20:44, 103.73s/it]"
     ]
    },
    {
     "name": "stdout",
     "output_type": "stream",
     "text": [
      "Epoch 18/30\n",
      "Train Loss: 0.2218, Train Accuracy: 0.8939\n",
      "Eval Loss: 0.4161, Eval Accuracy: 0.8415\n",
      "Learning Rate: 0.000125\n"
     ]
    },
    {
     "name": "stderr",
     "output_type": "stream",
     "text": [
      " 63%|██████████████████████████████████▏                   | 19/30 [32:56<19:01, 103.78s/it]"
     ]
    },
    {
     "name": "stdout",
     "output_type": "stream",
     "text": [
      "Epoch 19/30\n",
      "Train Loss: 0.2130, Train Accuracy: 0.8986\n",
      "Eval Loss: 0.4476, Eval Accuracy: 0.8358\n",
      "Learning Rate: 0.000125\n"
     ]
    },
    {
     "name": "stderr",
     "output_type": "stream",
     "text": [
      " 67%|████████████████████████████████████                  | 20/30 [34:39<17:15, 103.51s/it]"
     ]
    },
    {
     "name": "stdout",
     "output_type": "stream",
     "text": [
      "Epoch 20/30\n",
      "Train Loss: 0.2147, Train Accuracy: 0.8967\n",
      "Eval Loss: 0.4315, Eval Accuracy: 0.8447\n",
      "Learning Rate: 0.000125\n"
     ]
    },
    {
     "name": "stderr",
     "output_type": "stream",
     "text": [
      " 70%|█████████████████████████████████████▊                | 21/30 [36:22<15:31, 103.49s/it]"
     ]
    },
    {
     "name": "stdout",
     "output_type": "stream",
     "text": [
      "Epoch 21/30\n",
      "Train Loss: 0.1962, Train Accuracy: 0.9085\n",
      "Eval Loss: 0.4472, Eval Accuracy: 0.8463\n",
      "Learning Rate: 0.000063\n"
     ]
    },
    {
     "name": "stderr",
     "output_type": "stream",
     "text": [
      " 73%|███████████████████████████████████████▌              | 22/30 [38:06<13:48, 103.54s/it]"
     ]
    },
    {
     "name": "stdout",
     "output_type": "stream",
     "text": [
      "Epoch 22/30\n",
      "Train Loss: 0.1973, Train Accuracy: 0.9083\n",
      "Eval Loss: 0.4523, Eval Accuracy: 0.8431\n",
      "Learning Rate: 0.000063\n"
     ]
    },
    {
     "name": "stderr",
     "output_type": "stream",
     "text": [
      " 77%|█████████████████████████████████████████▍            | 23/30 [39:49<12:03, 103.37s/it]"
     ]
    },
    {
     "name": "stdout",
     "output_type": "stream",
     "text": [
      "Epoch 23/30\n",
      "Train Loss: 0.1913, Train Accuracy: 0.9087\n",
      "Eval Loss: 0.4638, Eval Accuracy: 0.8520\n",
      "Learning Rate: 0.000063\n"
     ]
    },
    {
     "name": "stderr",
     "output_type": "stream",
     "text": [
      " 80%|███████████████████████████████████████████▏          | 24/30 [41:32<10:20, 103.39s/it]"
     ]
    },
    {
     "name": "stdout",
     "output_type": "stream",
     "text": [
      "Epoch 24/30\n",
      "Train Loss: 0.1871, Train Accuracy: 0.9106\n",
      "Eval Loss: 0.4712, Eval Accuracy: 0.8472\n",
      "Learning Rate: 0.000063\n"
     ]
    },
    {
     "name": "stderr",
     "output_type": "stream",
     "text": [
      " 83%|█████████████████████████████████████████████         | 25/30 [43:17<08:39, 103.86s/it]"
     ]
    },
    {
     "name": "stdout",
     "output_type": "stream",
     "text": [
      "Epoch 25/30\n",
      "Train Loss: 0.1894, Train Accuracy: 0.9120\n",
      "Eval Loss: 0.4542, Eval Accuracy: 0.8504\n",
      "Learning Rate: 0.000063\n"
     ]
    },
    {
     "name": "stderr",
     "output_type": "stream",
     "text": [
      " 87%|██████████████████████████████████████████████▊       | 26/30 [45:01<06:55, 103.91s/it]"
     ]
    },
    {
     "name": "stdout",
     "output_type": "stream",
     "text": [
      "Epoch 26/30\n",
      "Train Loss: 0.1785, Train Accuracy: 0.9171\n",
      "Eval Loss: 0.4660, Eval Accuracy: 0.8545\n",
      "Learning Rate: 0.000031\n"
     ]
    },
    {
     "name": "stderr",
     "output_type": "stream",
     "text": [
      " 90%|████████████████████████████████████████████████▌     | 27/30 [46:45<05:11, 103.71s/it]"
     ]
    },
    {
     "name": "stdout",
     "output_type": "stream",
     "text": [
      "Epoch 27/30\n",
      "Train Loss: 0.1782, Train Accuracy: 0.9152\n",
      "Eval Loss: 0.4632, Eval Accuracy: 0.8545\n",
      "Learning Rate: 0.000031\n"
     ]
    },
    {
     "name": "stderr",
     "output_type": "stream",
     "text": [
      " 93%|██████████████████████████████████████████████████▍   | 28/30 [48:29<03:27, 103.91s/it]"
     ]
    },
    {
     "name": "stdout",
     "output_type": "stream",
     "text": [
      "Epoch 28/30\n",
      "Train Loss: 0.1750, Train Accuracy: 0.9181\n",
      "Eval Loss: 0.4688, Eval Accuracy: 0.8569\n",
      "Learning Rate: 0.000031\n"
     ]
    },
    {
     "name": "stderr",
     "output_type": "stream",
     "text": [
      " 97%|████████████████████████████████████████████████████▏ | 29/30 [50:12<01:43, 103.76s/it]"
     ]
    },
    {
     "name": "stdout",
     "output_type": "stream",
     "text": [
      "Epoch 29/30\n",
      "Train Loss: 0.1732, Train Accuracy: 0.9179\n",
      "Eval Loss: 0.4777, Eval Accuracy: 0.8593\n",
      "Learning Rate: 0.000031\n"
     ]
    },
    {
     "name": "stderr",
     "output_type": "stream",
     "text": [
      "100%|██████████████████████████████████████████████████████| 30/30 [51:56<00:00, 103.89s/it]"
     ]
    },
    {
     "name": "stdout",
     "output_type": "stream",
     "text": [
      "Epoch 30/30\n",
      "Train Loss: 0.1709, Train Accuracy: 0.9205\n",
      "Eval Loss: 0.4730, Eval Accuracy: 0.8569\n",
      "Learning Rate: 0.000031\n"
     ]
    },
    {
     "name": "stderr",
     "output_type": "stream",
     "text": [
      "\n"
     ]
    },
    {
     "data": {
      "text/html": [
       "\n",
       "    <style>\n",
       "        .wandb-row {\n",
       "            display: flex;\n",
       "            flex-direction: row;\n",
       "            flex-wrap: wrap;\n",
       "            justify-content: flex-start;\n",
       "            width: 100%;\n",
       "        }\n",
       "        .wandb-col {\n",
       "            display: flex;\n",
       "            flex-direction: column;\n",
       "            flex-basis: 100%;\n",
       "            flex: 1;\n",
       "            padding: 10px;\n",
       "        }\n",
       "    </style>\n",
       "<div class=\"wandb-row\"><div class=\"wandb-col\"><h3>Run history:</h3><br/><table class=\"wandb\"><tr><td>epoch</td><td>▁▁▁▂▂▂▂▃▃▃▃▄▄▄▄▅▅▅▅▆▆▆▆▇▇▇▇███</td></tr><tr><td>eval_accuracy</td><td>▁▃▄▅▆▇▇▇▇▇▇▇▇█████████████████</td></tr><tr><td>eval_loss</td><td>█▆▆▄▃▂▁▁▁▁▁▁▁▁▁▁▁▁▂▁▂▂▂▂▂▂▂▂▂▂</td></tr><tr><td>learning_rate</td><td>█████▄▄▄▄▄▃▃▃▃▃▂▂▂▂▂▁▁▁▁▁▁▁▁▁▁</td></tr><tr><td>train_accuracy</td><td>▁▃▄▅▅▆▇▇▇▇▇▇▇▇▇███████████████</td></tr><tr><td>train_loss</td><td>█▇▅▅▄▃▃▃▂▂▂▂▂▂▂▁▁▁▁▁▁▁▁▁▁▁▁▁▁▁</td></tr></table><br/></div><div class=\"wandb-col\"><h3>Run summary:</h3><br/><table class=\"wandb\"><tr><td>epoch</td><td>30</td></tr><tr><td>eval_accuracy</td><td>0.85691</td></tr><tr><td>eval_loss</td><td>0.473</td></tr><tr><td>learning_rate</td><td>3e-05</td></tr><tr><td>train_accuracy</td><td>0.92053</td></tr><tr><td>train_loss</td><td>0.1709</td></tr></table><br/></div></div>"
      ],
      "text/plain": [
       "<IPython.core.display.HTML object>"
      ]
     },
     "metadata": {},
     "output_type": "display_data"
    },
    {
     "data": {
      "text/html": [
       " View run <strong style=\"color:#cdcd00\">lstm_pytorch_ep_30_lr_0.001</strong> at: <a href='https://wandb.ai/ahmadjaved97/assignment_4/runs/iyo0nbnl' target=\"_blank\">https://wandb.ai/ahmadjaved97/assignment_4/runs/iyo0nbnl</a><br/> View project at: <a href='https://wandb.ai/ahmadjaved97/assignment_4' target=\"_blank\">https://wandb.ai/ahmadjaved97/assignment_4</a><br/>Synced 5 W&B file(s), 0 media file(s), 0 artifact file(s) and 0 other file(s)"
      ],
      "text/plain": [
       "<IPython.core.display.HTML object>"
      ]
     },
     "metadata": {},
     "output_type": "display_data"
    },
    {
     "data": {
      "text/html": [
       "Find logs at: <code>./wandb/run-20241202_034122-iyo0nbnl/logs</code>"
      ],
      "text/plain": [
       "<IPython.core.display.HTML object>"
      ]
     },
     "metadata": {},
     "output_type": "display_data"
    }
   ],
   "source": [
    "# Run training\n",
    "model, train_losses, train_accuracies, eval_losses, eval_accuracies, learning_rates = run_training(\n",
    "    model, \n",
    "    train_loader, val_loader, \n",
    "    criterion,\n",
    "    device,\n",
    "    num_epochs=num_epochs, \n",
    "    learning_rate=learning_rate, \n",
    "    step_size=step_size, \n",
    "    gamma=gamma,\n",
    "    name=name, project=project\n",
    ")"
   ]
  },
  {
   "cell_type": "code",
   "execution_count": 25,
   "id": "4b36b2c3-5aa6-4c90-bb8f-9fe23d9fcda1",
   "metadata": {},
   "outputs": [],
   "source": [
    "save_path = \"./saved_models/pytorch_lstm.pth\"\n",
    "torch.save(model, save_path)"
   ]
  },
  {
   "cell_type": "code",
   "execution_count": null,
   "id": "467a046e-857e-4fd0-892c-280398ed6258",
   "metadata": {},
   "outputs": [
    {
     "name": "stderr",
     "output_type": "stream",
     "text": [
      "/tmp/ipykernel_1599014/2120265427.py:2: FutureWarning: You are using `torch.load` with `weights_only=False` (the current default value), which uses the default pickle module implicitly. It is possible to construct malicious pickle data which will execute arbitrary code during unpickling (See https://github.com/pytorch/pytorch/blob/main/SECURITY.md#untrusted-models for more details). In a future release, the default value for `weights_only` will be flipped to `True`. This limits the functions that could be executed during unpickling. Arbitrary objects will no longer be allowed to be loaded via this mode unless they are explicitly allowlisted by the user via `torch.serialization.add_safe_globals`. We recommend you start setting `weights_only=True` for any use case where you don't have full control of the loaded file. Please open an issue on GitHub for any issues related to this experimental feature.\n",
      "  model = torch.load(model_path)\n"
     ]
    }
   ],
   "source": [
    "model = load_model(\"./saved_models/pytorch_lstm.pth\")\n",
    "# Use the function to get results\n",
    "y_true, y_pred = evaluate_model(model, val_loader)\n",
    "\n",
    "# Class label names\n",
    "label_names = ['boxing','handclapping', 'handwaving', 'jogging', 'running', 'walking']\n",
    "\n",
    "# Plot confusion matrix\n",
    "plot_confusion_matrix(y_true, y_pred, label_names, model_name=\"LSTM\")"
   ]
  },
  {
   "cell_type": "markdown",
   "id": "fa294a9d-4e29-4fed-ae08-e679aeed2a6f",
   "metadata": {},
   "source": [
    "### Pytorch GRU"
   ]
  },
  {
   "cell_type": "code",
   "execution_count": 27,
   "id": "2def6d3e-b6f3-4b39-b82c-863103c7648b",
   "metadata": {},
   "outputs": [],
   "source": [
    "# Hyper parameters for LSTM\n",
    "input_size = 64*64  # flattened size of frame\n",
    "hidden_size = 256  # Hidden size of the LSTM\n",
    "num_classes = len(os.listdir(\"/home/nfs/inf6/data/datasets/kth_actions/processed\"))  # Number of output classes\n",
    "num_layers = 2\n",
    "\n",
    "# Hyperparameters for training\n",
    "num_epochs = 30\n",
    "learning_rate = 0.001  # Initial learning rate\n",
    "step_size = 5          # To be used in LR Scheduler\n",
    "gamma = 0.5            # To be used in LR Scheduler\n",
    "name = f\"gru_pytorch_ep_{num_epochs}_lr_{learning_rate}\"\n",
    "project = 'assignment_4'\n",
    "\n",
    "#criterion\n",
    "criterion = nn.CrossEntropyLoss()"
   ]
  },
  {
   "cell_type": "code",
   "execution_count": 28,
   "id": "788ceb14-7740-4935-9e84-598cc8e19c79",
   "metadata": {},
   "outputs": [
    {
     "data": {
      "text/plain": [
       "ActionClassificationModel(\n",
       "  (encoder): Sequential(\n",
       "    (0): Conv2d(1, 64, kernel_size=(3, 3), stride=(1, 1), padding=(1, 1))\n",
       "    (1): BatchNorm2d(64, eps=1e-05, momentum=0.1, affine=True, track_running_stats=True)\n",
       "    (2): ReLU()\n",
       "    (3): Conv2d(64, 64, kernel_size=(3, 3), stride=(1, 1), padding=(1, 1))\n",
       "    (4): BatchNorm2d(64, eps=1e-05, momentum=0.1, affine=True, track_running_stats=True)\n",
       "    (5): ReLU()\n",
       "    (6): MaxPool2d(kernel_size=2, stride=2, padding=0, dilation=1, ceil_mode=False)\n",
       "    (7): Dropout(p=0.3, inplace=False)\n",
       "    (8): Conv2d(64, 128, kernel_size=(3, 3), stride=(1, 1), padding=(1, 1))\n",
       "    (9): BatchNorm2d(128, eps=1e-05, momentum=0.1, affine=True, track_running_stats=True)\n",
       "    (10): ReLU()\n",
       "    (11): Conv2d(128, 128, kernel_size=(3, 3), stride=(1, 1), padding=(1, 1))\n",
       "    (12): BatchNorm2d(128, eps=1e-05, momentum=0.1, affine=True, track_running_stats=True)\n",
       "    (13): ReLU()\n",
       "    (14): MaxPool2d(kernel_size=2, stride=2, padding=0, dilation=1, ceil_mode=False)\n",
       "    (15): Dropout(p=0.3, inplace=False)\n",
       "    (16): Conv2d(128, 256, kernel_size=(3, 3), stride=(1, 1), padding=(1, 1))\n",
       "    (17): BatchNorm2d(256, eps=1e-05, momentum=0.1, affine=True, track_running_stats=True)\n",
       "    (18): ReLU()\n",
       "    (19): Conv2d(256, 256, kernel_size=(3, 3), stride=(1, 1), padding=(1, 1))\n",
       "    (20): BatchNorm2d(256, eps=1e-05, momentum=0.1, affine=True, track_running_stats=True)\n",
       "    (21): ReLU()\n",
       "    (22): MaxPool2d(kernel_size=2, stride=2, padding=0, dilation=1, ceil_mode=False)\n",
       "    (23): Dropout(p=0.4, inplace=False)\n",
       "  )\n",
       "  (rnn): CustomGRU(\n",
       "    (gru_cells): ModuleList(\n",
       "      (0): GRUCell(16384, 256)\n",
       "      (1): GRUCell(256, 256)\n",
       "    )\n",
       "    (fc): Linear(in_features=256, out_features=256, bias=True)\n",
       "  )\n",
       "  (classifier): Sequential(\n",
       "    (0): Conv1d(256, 128, kernel_size=(1,), stride=(1,))\n",
       "    (1): ReLU()\n",
       "    (2): AdaptiveAvgPool1d(output_size=1)\n",
       "    (3): Flatten(start_dim=1, end_dim=-1)\n",
       "    (4): Linear(in_features=128, out_features=6, bias=True)\n",
       "  )\n",
       ")"
      ]
     },
     "execution_count": 28,
     "metadata": {},
     "output_type": "execute_result"
    }
   ],
   "source": [
    "model = ActionClassificationModel(input_dim=input_size, \n",
    "                                           sequence_length=sequence_length, \n",
    "                                           num_classes=num_classes,rnn_module='gru').to(device)\n",
    "model"
   ]
  },
  {
   "cell_type": "code",
   "execution_count": 29,
   "id": "e02f9129-4288-4884-9118-55e5e7c7a2fa",
   "metadata": {},
   "outputs": [
    {
     "data": {
      "text/html": [
       "Tracking run with wandb version 0.18.7"
      ],
      "text/plain": [
       "<IPython.core.display.HTML object>"
      ]
     },
     "metadata": {},
     "output_type": "display_data"
    },
    {
     "data": {
      "text/html": [
       "Run data is saved locally in <code>/home/user/javeda1/MA-INF-4308-Lab-Vision-Systems/Assignment-4/wandb/run-20241202_043340-l6ydysm8</code>"
      ],
      "text/plain": [
       "<IPython.core.display.HTML object>"
      ]
     },
     "metadata": {},
     "output_type": "display_data"
    },
    {
     "data": {
      "text/html": [
       "Syncing run <strong><a href='https://wandb.ai/ahmadjaved97/assignment_4/runs/l6ydysm8' target=\"_blank\">gru_pytorch_ep_30_lr_0.001</a></strong> to <a href='https://wandb.ai/ahmadjaved97/assignment_4' target=\"_blank\">Weights & Biases</a> (<a href='https://wandb.me/developer-guide' target=\"_blank\">docs</a>)<br/>"
      ],
      "text/plain": [
       "<IPython.core.display.HTML object>"
      ]
     },
     "metadata": {},
     "output_type": "display_data"
    },
    {
     "data": {
      "text/html": [
       " View project at <a href='https://wandb.ai/ahmadjaved97/assignment_4' target=\"_blank\">https://wandb.ai/ahmadjaved97/assignment_4</a>"
      ],
      "text/plain": [
       "<IPython.core.display.HTML object>"
      ]
     },
     "metadata": {},
     "output_type": "display_data"
    },
    {
     "data": {
      "text/html": [
       " View run at <a href='https://wandb.ai/ahmadjaved97/assignment_4/runs/l6ydysm8' target=\"_blank\">https://wandb.ai/ahmadjaved97/assignment_4/runs/l6ydysm8</a>"
      ],
      "text/plain": [
       "<IPython.core.display.HTML object>"
      ]
     },
     "metadata": {},
     "output_type": "display_data"
    },
    {
     "name": "stderr",
     "output_type": "stream",
     "text": [
      "  3%|█████▏                                                                                                                                                    | 1/30 [01:43<50:13, 103.92s/it]"
     ]
    },
    {
     "name": "stdout",
     "output_type": "stream",
     "text": [
      "Epoch 1/30\n",
      "Train Loss: 1.0768, Train Accuracy: 0.4535\n",
      "Eval Loss: 0.9280, Eval Accuracy: 0.5382\n",
      "Learning Rate: 0.001000\n"
     ]
    },
    {
     "name": "stderr",
     "output_type": "stream",
     "text": [
      "  7%|██████████▎                                                                                                                                               | 2/30 [03:26<48:12, 103.30s/it]"
     ]
    },
    {
     "name": "stdout",
     "output_type": "stream",
     "text": [
      "Epoch 2/30\n",
      "Train Loss: 0.8000, Train Accuracy: 0.6343\n",
      "Eval Loss: 0.7035, Eval Accuracy: 0.6764\n",
      "Learning Rate: 0.001000\n"
     ]
    },
    {
     "name": "stderr",
     "output_type": "stream",
     "text": [
      " 10%|███████████████▍                                                                                                                                          | 3/30 [05:11<46:43, 103.84s/it]"
     ]
    },
    {
     "name": "stdout",
     "output_type": "stream",
     "text": [
      "Epoch 3/30\n",
      "Train Loss: 0.6279, Train Accuracy: 0.7185\n",
      "Eval Loss: 0.6081, Eval Accuracy: 0.7350\n",
      "Learning Rate: 0.001000\n"
     ]
    },
    {
     "name": "stderr",
     "output_type": "stream",
     "text": [
      " 13%|████████████████████▌                                                                                                                                     | 4/30 [06:54<44:56, 103.73s/it]"
     ]
    },
    {
     "name": "stdout",
     "output_type": "stream",
     "text": [
      "Epoch 4/30\n",
      "Train Loss: 0.5486, Train Accuracy: 0.7530\n",
      "Eval Loss: 0.5906, Eval Accuracy: 0.7285\n",
      "Learning Rate: 0.001000\n"
     ]
    },
    {
     "name": "stderr",
     "output_type": "stream",
     "text": [
      " 17%|█████████████████████████▋                                                                                                                                | 5/30 [08:38<43:10, 103.64s/it]"
     ]
    },
    {
     "name": "stdout",
     "output_type": "stream",
     "text": [
      "Epoch 5/30\n",
      "Train Loss: 0.5144, Train Accuracy: 0.7657\n",
      "Eval Loss: 0.5631, Eval Accuracy: 0.7610\n",
      "Learning Rate: 0.001000\n"
     ]
    },
    {
     "name": "stderr",
     "output_type": "stream",
     "text": [
      " 20%|██████████████████████████████▊                                                                                                                           | 6/30 [10:21<41:25, 103.56s/it]"
     ]
    },
    {
     "name": "stdout",
     "output_type": "stream",
     "text": [
      "Epoch 6/30\n",
      "Train Loss: 0.4082, Train Accuracy: 0.8152\n",
      "Eval Loss: 0.4625, Eval Accuracy: 0.7984\n",
      "Learning Rate: 0.000500\n"
     ]
    },
    {
     "name": "stderr",
     "output_type": "stream",
     "text": [
      " 23%|███████████████████████████████████▉                                                                                                                      | 7/30 [12:05<39:43, 103.65s/it]"
     ]
    },
    {
     "name": "stdout",
     "output_type": "stream",
     "text": [
      "Epoch 7/30\n",
      "Train Loss: 0.3719, Train Accuracy: 0.8285\n",
      "Eval Loss: 0.4362, Eval Accuracy: 0.7967\n",
      "Learning Rate: 0.000500\n"
     ]
    },
    {
     "name": "stderr",
     "output_type": "stream",
     "text": [
      " 27%|█████████████████████████████████████████                                                                                                                 | 8/30 [13:48<37:57, 103.52s/it]"
     ]
    },
    {
     "name": "stdout",
     "output_type": "stream",
     "text": [
      "Epoch 8/30\n",
      "Train Loss: 0.3427, Train Accuracy: 0.8390\n",
      "Eval Loss: 0.4572, Eval Accuracy: 0.8081\n",
      "Learning Rate: 0.000500\n"
     ]
    },
    {
     "name": "stderr",
     "output_type": "stream",
     "text": [
      " 30%|██████████████████████████████████████████████▏                                                                                                           | 9/30 [15:32<36:15, 103.59s/it]"
     ]
    },
    {
     "name": "stdout",
     "output_type": "stream",
     "text": [
      "Epoch 9/30\n",
      "Train Loss: 0.3380, Train Accuracy: 0.8467\n",
      "Eval Loss: 0.4022, Eval Accuracy: 0.8228\n",
      "Learning Rate: 0.000500\n"
     ]
    },
    {
     "name": "stderr",
     "output_type": "stream",
     "text": [
      " 33%|███████████████████████████████████████████████████                                                                                                      | 10/30 [17:16<34:33, 103.70s/it]"
     ]
    },
    {
     "name": "stdout",
     "output_type": "stream",
     "text": [
      "Epoch 10/30\n",
      "Train Loss: 0.3218, Train Accuracy: 0.8490\n",
      "Eval Loss: 0.4395, Eval Accuracy: 0.8171\n",
      "Learning Rate: 0.000500\n"
     ]
    },
    {
     "name": "stderr",
     "output_type": "stream",
     "text": [
      " 37%|████████████████████████████████████████████████████████                                                                                                 | 11/30 [18:59<32:46, 103.51s/it]"
     ]
    },
    {
     "name": "stdout",
     "output_type": "stream",
     "text": [
      "Epoch 11/30\n",
      "Train Loss: 0.2834, Train Accuracy: 0.8667\n",
      "Eval Loss: 0.3798, Eval Accuracy: 0.8415\n",
      "Learning Rate: 0.000250\n"
     ]
    },
    {
     "name": "stderr",
     "output_type": "stream",
     "text": [
      " 40%|█████████████████████████████████████████████████████████████▏                                                                                           | 12/30 [20:42<30:59, 103.30s/it]"
     ]
    },
    {
     "name": "stdout",
     "output_type": "stream",
     "text": [
      "Epoch 12/30\n",
      "Train Loss: 0.2631, Train Accuracy: 0.8776\n",
      "Eval Loss: 0.3873, Eval Accuracy: 0.8447\n",
      "Learning Rate: 0.000250\n"
     ]
    },
    {
     "name": "stderr",
     "output_type": "stream",
     "text": [
      " 43%|██████████████████████████████████████████████████████████████████▎                                                                                      | 13/30 [22:28<29:29, 104.07s/it]"
     ]
    },
    {
     "name": "stdout",
     "output_type": "stream",
     "text": [
      "Epoch 13/30\n",
      "Train Loss: 0.2505, Train Accuracy: 0.8831\n",
      "Eval Loss: 0.3957, Eval Accuracy: 0.8488\n",
      "Learning Rate: 0.000250\n"
     ]
    },
    {
     "name": "stderr",
     "output_type": "stream",
     "text": [
      " 47%|███████████████████████████████████████████████████████████████████████▍                                                                                 | 14/30 [24:13<27:48, 104.31s/it]"
     ]
    },
    {
     "name": "stdout",
     "output_type": "stream",
     "text": [
      "Epoch 14/30\n",
      "Train Loss: 0.2475, Train Accuracy: 0.8837\n",
      "Eval Loss: 0.4340, Eval Accuracy: 0.8350\n",
      "Learning Rate: 0.000250\n"
     ]
    },
    {
     "name": "stderr",
     "output_type": "stream",
     "text": [
      " 50%|████████████████████████████████████████████████████████████████████████████▌                                                                            | 15/30 [25:56<26:01, 104.09s/it]"
     ]
    },
    {
     "name": "stdout",
     "output_type": "stream",
     "text": [
      "Epoch 15/30\n",
      "Train Loss: 0.2391, Train Accuracy: 0.8866\n",
      "Eval Loss: 0.4009, Eval Accuracy: 0.8407\n",
      "Learning Rate: 0.000250\n"
     ]
    },
    {
     "name": "stderr",
     "output_type": "stream",
     "text": [
      " 53%|█████████████████████████████████████████████████████████████████████████████████▌                                                                       | 16/30 [27:41<24:20, 104.31s/it]"
     ]
    },
    {
     "name": "stdout",
     "output_type": "stream",
     "text": [
      "Epoch 16/30\n",
      "Train Loss: 0.2116, Train Accuracy: 0.8988\n",
      "Eval Loss: 0.4392, Eval Accuracy: 0.8366\n",
      "Learning Rate: 0.000125\n"
     ]
    },
    {
     "name": "stderr",
     "output_type": "stream",
     "text": [
      " 57%|██████████████████████████████████████████████████████████████████████████████████████▋                                                                  | 17/30 [29:24<22:31, 103.96s/it]"
     ]
    },
    {
     "name": "stdout",
     "output_type": "stream",
     "text": [
      "Epoch 17/30\n",
      "Train Loss: 0.1994, Train Accuracy: 0.9039\n",
      "Eval Loss: 0.4613, Eval Accuracy: 0.8358\n",
      "Learning Rate: 0.000125\n"
     ]
    },
    {
     "name": "stderr",
     "output_type": "stream",
     "text": [
      " 60%|███████████████████████████████████████████████████████████████████████████████████████████▊                                                             | 18/30 [31:08<20:48, 104.03s/it]"
     ]
    },
    {
     "name": "stdout",
     "output_type": "stream",
     "text": [
      "Epoch 18/30\n",
      "Train Loss: 0.1964, Train Accuracy: 0.9075\n",
      "Eval Loss: 0.5002, Eval Accuracy: 0.8374\n",
      "Learning Rate: 0.000125\n"
     ]
    },
    {
     "name": "stderr",
     "output_type": "stream",
     "text": [
      " 63%|████████████████████████████████████████████████████████████████████████████████████████████████▉                                                        | 19/30 [32:52<19:03, 103.92s/it]"
     ]
    },
    {
     "name": "stdout",
     "output_type": "stream",
     "text": [
      "Epoch 19/30\n",
      "Train Loss: 0.1945, Train Accuracy: 0.9077\n",
      "Eval Loss: 0.4637, Eval Accuracy: 0.8488\n",
      "Learning Rate: 0.000125\n"
     ]
    },
    {
     "name": "stderr",
     "output_type": "stream",
     "text": [
      " 67%|██████████████████████████████████████████████████████████████████████████████████████████████████████                                                   | 20/30 [34:37<17:21, 104.12s/it]"
     ]
    },
    {
     "name": "stdout",
     "output_type": "stream",
     "text": [
      "Epoch 20/30\n",
      "Train Loss: 0.1885, Train Accuracy: 0.9073\n",
      "Eval Loss: 0.4529, Eval Accuracy: 0.8463\n",
      "Learning Rate: 0.000125\n"
     ]
    },
    {
     "name": "stderr",
     "output_type": "stream",
     "text": [
      " 70%|███████████████████████████████████████████████████████████████████████████████████████████████████████████                                              | 21/30 [36:20<15:35, 103.97s/it]"
     ]
    },
    {
     "name": "stdout",
     "output_type": "stream",
     "text": [
      "Epoch 21/30\n",
      "Train Loss: 0.1762, Train Accuracy: 0.9173\n",
      "Eval Loss: 0.4548, Eval Accuracy: 0.8520\n",
      "Learning Rate: 0.000063\n"
     ]
    },
    {
     "name": "stderr",
     "output_type": "stream",
     "text": [
      " 73%|████████████████████████████████████████████████████████████████████████████████████████████████████████████████▏                                        | 22/30 [38:03<13:49, 103.73s/it]"
     ]
    },
    {
     "name": "stdout",
     "output_type": "stream",
     "text": [
      "Epoch 22/30\n",
      "Train Loss: 0.1712, Train Accuracy: 0.9197\n",
      "Eval Loss: 0.4875, Eval Accuracy: 0.8463\n",
      "Learning Rate: 0.000063\n"
     ]
    },
    {
     "name": "stderr",
     "output_type": "stream",
     "text": [
      " 77%|█████████████████████████████████████████████████████████████████████████████████████████████████████████████████████▎                                   | 23/30 [39:48<12:07, 103.94s/it]"
     ]
    },
    {
     "name": "stdout",
     "output_type": "stream",
     "text": [
      "Epoch 23/30\n",
      "Train Loss: 0.1624, Train Accuracy: 0.9246\n",
      "Eval Loss: 0.4801, Eval Accuracy: 0.8512\n",
      "Learning Rate: 0.000063\n"
     ]
    },
    {
     "name": "stderr",
     "output_type": "stream",
     "text": [
      " 80%|██████████████████████████████████████████████████████████████████████████████████████████████████████████████████████████▍                              | 24/30 [41:35<10:28, 104.77s/it]"
     ]
    },
    {
     "name": "stdout",
     "output_type": "stream",
     "text": [
      "Epoch 24/30\n",
      "Train Loss: 0.1619, Train Accuracy: 0.9244\n",
      "Eval Loss: 0.5076, Eval Accuracy: 0.8472\n",
      "Learning Rate: 0.000063\n"
     ]
    },
    {
     "name": "stderr",
     "output_type": "stream",
     "text": [
      " 83%|███████████████████████████████████████████████████████████████████████████████████████████████████████████████████████████████▌                         | 25/30 [43:18<08:42, 104.50s/it]"
     ]
    },
    {
     "name": "stdout",
     "output_type": "stream",
     "text": [
      "Epoch 25/30\n",
      "Train Loss: 0.1565, Train Accuracy: 0.9270\n",
      "Eval Loss: 0.4919, Eval Accuracy: 0.8504\n",
      "Learning Rate: 0.000063\n"
     ]
    },
    {
     "name": "stderr",
     "output_type": "stream",
     "text": [
      " 87%|████████████████████████████████████████████████████████████████████████████████████████████████████████████████████████████████████▌                    | 26/30 [45:03<06:58, 104.51s/it]"
     ]
    },
    {
     "name": "stdout",
     "output_type": "stream",
     "text": [
      "Epoch 26/30\n",
      "Train Loss: 0.1525, Train Accuracy: 0.9301\n",
      "Eval Loss: 0.5413, Eval Accuracy: 0.8520\n",
      "Learning Rate: 0.000031\n"
     ]
    },
    {
     "name": "stderr",
     "output_type": "stream",
     "text": [
      " 90%|█████████████████████████████████████████████████████████████████████████████████████████████████████████████████████████████████████████▋               | 27/30 [46:46<05:11, 104.00s/it]"
     ]
    },
    {
     "name": "stdout",
     "output_type": "stream",
     "text": [
      "Epoch 27/30\n",
      "Train Loss: 0.1499, Train Accuracy: 0.9297\n",
      "Eval Loss: 0.4956, Eval Accuracy: 0.8561\n",
      "Learning Rate: 0.000031\n"
     ]
    },
    {
     "name": "stderr",
     "output_type": "stream",
     "text": [
      " 93%|██████████████████████████████████████████████████████████████████████████████████████████████████████████████████████████████████████████████▊          | 28/30 [48:29<03:27, 103.91s/it]"
     ]
    },
    {
     "name": "stdout",
     "output_type": "stream",
     "text": [
      "Epoch 28/30\n",
      "Train Loss: 0.1451, Train Accuracy: 0.9325\n",
      "Eval Loss: 0.5198, Eval Accuracy: 0.8488\n",
      "Learning Rate: 0.000031\n"
     ]
    },
    {
     "name": "stderr",
     "output_type": "stream",
     "text": [
      " 97%|███████████████████████████████████████████████████████████████████████████████████████████████████████████████████████████████████████████████████▉     | 29/30 [50:13<01:43, 103.72s/it]"
     ]
    },
    {
     "name": "stdout",
     "output_type": "stream",
     "text": [
      "Epoch 29/30\n",
      "Train Loss: 0.1422, Train Accuracy: 0.9370\n",
      "Eval Loss: 0.5283, Eval Accuracy: 0.8520\n",
      "Learning Rate: 0.000031\n"
     ]
    },
    {
     "name": "stderr",
     "output_type": "stream",
     "text": [
      "100%|█████████████████████████████████████████████████████████████████████████████████████████████████████████████████████████████████████████████████████████| 30/30 [51:57<00:00, 103.90s/it]"
     ]
    },
    {
     "name": "stdout",
     "output_type": "stream",
     "text": [
      "Epoch 30/30\n",
      "Train Loss: 0.1412, Train Accuracy: 0.9346\n",
      "Eval Loss: 0.5281, Eval Accuracy: 0.8561\n",
      "Learning Rate: 0.000031\n"
     ]
    },
    {
     "name": "stderr",
     "output_type": "stream",
     "text": [
      "\n"
     ]
    },
    {
     "data": {
      "text/html": [
       "\n",
       "    <style>\n",
       "        .wandb-row {\n",
       "            display: flex;\n",
       "            flex-direction: row;\n",
       "            flex-wrap: wrap;\n",
       "            justify-content: flex-start;\n",
       "            width: 100%;\n",
       "        }\n",
       "        .wandb-col {\n",
       "            display: flex;\n",
       "            flex-direction: column;\n",
       "            flex-basis: 100%;\n",
       "            flex: 1;\n",
       "            padding: 10px;\n",
       "        }\n",
       "    </style>\n",
       "<div class=\"wandb-row\"><div class=\"wandb-col\"><h3>Run history:</h3><br/><table class=\"wandb\"><tr><td>epoch</td><td>▁▁▁▂▂▂▂▃▃▃▃▄▄▄▄▅▅▅▅▆▆▆▆▇▇▇▇███</td></tr><tr><td>eval_accuracy</td><td>▁▄▅▅▆▇▇▇▇▇████████████████████</td></tr><tr><td>eval_loss</td><td>█▅▄▄▃▂▂▂▁▂▁▁▁▂▁▂▂▃▂▂▂▂▂▃▂▃▂▃▃▃</td></tr><tr><td>learning_rate</td><td>█████▄▄▄▄▄▃▃▃▃▃▂▂▂▂▂▁▁▁▁▁▁▁▁▁▁</td></tr><tr><td>train_accuracy</td><td>▁▄▅▅▆▆▆▇▇▇▇▇▇▇▇▇██████████████</td></tr><tr><td>train_loss</td><td>█▆▅▄▄▃▃▃▂▂▂▂▂▂▂▂▁▁▁▁▁▁▁▁▁▁▁▁▁▁</td></tr></table><br/></div><div class=\"wandb-col\"><h3>Run summary:</h3><br/><table class=\"wandb\"><tr><td>epoch</td><td>30</td></tr><tr><td>eval_accuracy</td><td>0.8561</td></tr><tr><td>eval_loss</td><td>0.52813</td></tr><tr><td>learning_rate</td><td>3e-05</td></tr><tr><td>train_accuracy</td><td>0.93455</td></tr><tr><td>train_loss</td><td>0.14123</td></tr></table><br/></div></div>"
      ],
      "text/plain": [
       "<IPython.core.display.HTML object>"
      ]
     },
     "metadata": {},
     "output_type": "display_data"
    },
    {
     "data": {
      "text/html": [
       " View run <strong style=\"color:#cdcd00\">gru_pytorch_ep_30_lr_0.001</strong> at: <a href='https://wandb.ai/ahmadjaved97/assignment_4/runs/l6ydysm8' target=\"_blank\">https://wandb.ai/ahmadjaved97/assignment_4/runs/l6ydysm8</a><br/> View project at: <a href='https://wandb.ai/ahmadjaved97/assignment_4' target=\"_blank\">https://wandb.ai/ahmadjaved97/assignment_4</a><br/>Synced 5 W&B file(s), 0 media file(s), 2 artifact file(s) and 0 other file(s)"
      ],
      "text/plain": [
       "<IPython.core.display.HTML object>"
      ]
     },
     "metadata": {},
     "output_type": "display_data"
    },
    {
     "data": {
      "text/html": [
       "Find logs at: <code>./wandb/run-20241202_043340-l6ydysm8/logs</code>"
      ],
      "text/plain": [
       "<IPython.core.display.HTML object>"
      ]
     },
     "metadata": {},
     "output_type": "display_data"
    }
   ],
   "source": [
    "# Run training\n",
    "model, train_losses, train_accuracies, eval_losses, eval_accuracies, learning_rates = run_training(\n",
    "    model, \n",
    "    train_loader, val_loader, \n",
    "    criterion,\n",
    "    device,\n",
    "    num_epochs=num_epochs, \n",
    "    learning_rate=learning_rate, \n",
    "    step_size=step_size, \n",
    "    gamma=gamma,\n",
    "    name=name, project=project\n",
    ")"
   ]
  },
  {
   "cell_type": "code",
   "execution_count": 30,
   "id": "c960e124-4a59-4611-9930-2b29c4818f17",
   "metadata": {},
   "outputs": [],
   "source": [
    "save_path = \"./saved_models/pytorch_gru.pth\"\n",
    "torch.save(model, save_path)"
   ]
  },
  {
   "cell_type": "code",
   "execution_count": null,
   "id": "caa4edb8-56f5-4038-8deb-d39054f1ec5c",
   "metadata": {},
   "outputs": [],
   "source": []
  }
 ],
 "metadata": {
  "kernelspec": {
   "display_name": "Python 3 (ipykernel)",
   "language": "python",
   "name": "python3"
  },
  "language_info": {
   "codemirror_mode": {
    "name": "ipython",
    "version": 3
   },
   "file_extension": ".py",
   "mimetype": "text/x-python",
   "name": "python",
   "nbconvert_exporter": "python",
   "pygments_lexer": "ipython3",
   "version": "3.12.7"
  }
 },
 "nbformat": 4,
 "nbformat_minor": 5
}
