{
 "cells": [
  {
   "cell_type": "code",
   "execution_count": 4,
   "id": "7ffb37fe-4303-4e11-b22f-9bf38d033d53",
   "metadata": {},
   "outputs": [],
   "source": [
    "import torch\n",
    "import torch.nn as nn\n",
    "import torch.nn.functional as F\n",
    "from torchvision import transforms\n",
    "import torch.optim as optim\n",
    "from torch.utils.data import Dataset, DataLoader, random_split\n",
    "from torch.optim.lr_scheduler import StepLR\n",
    "import numpy as np\n",
    "import matplotlib.pyplot as plt\n",
    "import os\n",
    "from PIL import Image\n",
    "import random\n",
    "from tqdm import tqdm\n",
    "from sklearn.metrics import confusion_matrix\n",
    "import seaborn as sns\n",
    "import wandb"
   ]
  },
  {
   "cell_type": "code",
   "execution_count": 5,
   "id": "1483ef28-ee54-4cd0-9c47-76f1d72d3c1b",
   "metadata": {},
   "outputs": [],
   "source": [
    "device = torch.device(\"cuda\" if torch.cuda.is_available() else \"cpu\")"
   ]
  },
  {
   "cell_type": "code",
   "execution_count": 6,
   "id": "88aebb2b-2905-4a12-9c4c-90354f3b2af0",
   "metadata": {},
   "outputs": [],
   "source": [
    "class KTHProcessedDataset(Dataset):\n",
    "    def __init__(self, root_dir, sequence_length, transform=None):\n",
    "        self.root_dir = root_dir\n",
    "        self.sequence_length = sequence_length\n",
    "        self.transform = transform\n",
    "        self.data = []\n",
    "        self.class_mapping = {}  # To store class ID to name mapping\n",
    "\n",
    "        # Traverse through action categories and their subfolders\n",
    "        for label, category in enumerate(sorted(os.listdir(root_dir))):\n",
    "            category_path = os.path.join(root_dir, category)\n",
    "            if not os.path.isdir(category_path):\n",
    "                continue\n",
    "            self.class_mapping[label] = category  # Map class ID to category name\n",
    "            for subfolder in os.listdir(category_path):\n",
    "                subfolder_path = os.path.join(category_path, subfolder)\n",
    "                if os.path.isdir(subfolder_path):\n",
    "                    frames = sorted(os.listdir(subfolder_path))  # Ensure frames are ordered\n",
    "\n",
    "                    # Check if there are enough frames\n",
    "                    if len(frames) >= sequence_length:\n",
    "                        self.data.append((subfolder_path, frames, label))\n",
    "\n",
    "    def __len__(self):\n",
    "        return len(self.data)\n",
    "\n",
    "    def __getitem__(self, idx):\n",
    "        subfolder_path, frames, label = self.data[idx]\n",
    "\n",
    "        # Select frames sequentially from the start, up to sequence_length\n",
    "        selected_frames = frames[:self.sequence_length]\n",
    "\n",
    "        sequence = []\n",
    "        for frame_file in selected_frames:\n",
    "            frame_path = os.path.join(subfolder_path, frame_file)\n",
    "            try:\n",
    "                # Try to open the image\n",
    "                img = Image.open(frame_path).convert(\"L\")  # Convert to grayscale\n",
    "                if self.transform:\n",
    "                    img = self.transform(img)\n",
    "\n",
    "                # Flatten the image to a 1D tensor\n",
    "                img = img.view(-1)  # Flattening the image to size 4096 (64x64)\n",
    "                sequence.append(img)\n",
    "\n",
    "            except (IOError, OSError) as e:\n",
    "                # Log the error and skip the corrupted frame\n",
    "                print(f\"Warning: Skipping corrupted image {frame_path} due to error: {e}\")\n",
    "                return self.__getitem__((idx + 1) % len(self))  # Skip to the next sample\n",
    "\n",
    "        # Stack frames into a tensor of shape [sequence_length, 4096]\n",
    "        sequence = torch.stack(sequence, dim=0)\n",
    "        return sequence, label\n"
   ]
  },
  {
   "cell_type": "code",
   "execution_count": 7,
   "id": "f9b716eb-0808-4b0a-84c2-adc5d1a440ca",
   "metadata": {},
   "outputs": [],
   "source": [
    "# Define augmentations and transformations\n",
    "transform = transforms.Compose([\n",
    "    # Spatial augmentations\n",
    "    # RandomHorizontalFlip(p=0.5),                # Flip frames horizontally with 50% probability\n",
    "    # RandomRotation(degrees=15),                # Random rotation within ±15 degrees\n",
    "    transforms.RandomCrop(size=(64, 64), pad_if_needed=True),  # Random crop to 64x64, pad if needed\n",
    "\n",
    "    transforms.RandomApply([transforms.ColorJitter(brightness=0.2, contrast=0.2)], p=0.3),  # Adjust brightness/contrast\n",
    "    transforms.GaussianBlur(3, sigma=(0.1, 2.0)),  # Random blur\n",
    "    \n",
    "    # Conversion and normalization\n",
    "    transforms.ToTensor(),                                # Convert PIL image to tensor\n",
    "    transforms.Normalize(mean=[0.5], std=[0.5])           # Normalize to [-1, 1]\n",
    "])"
   ]
  },
  {
   "cell_type": "code",
   "execution_count": 8,
   "id": "2733edb1-a06a-48f0-8923-a1c68fe0dcfd",
   "metadata": {},
   "outputs": [],
   "source": [
    "# Paths and hyperparameters\n",
    "root_dir = '/home/nfs/inf6/data/datasets/kth_actions/processed'\n",
    "sequence_length = 45\n",
    "batch_size = 16\n",
    "train_ratio = 0.8  # 80% for training, 20% for validation\n"
   ]
  },
  {
   "cell_type": "code",
   "execution_count": 9,
   "id": "da2a38eb-b667-47e7-8ddf-2987bdc17c9e",
   "metadata": {},
   "outputs": [
    {
     "name": "stdout",
     "output_type": "stream",
     "text": [
      "Dataset size: 599\n",
      "Train set size: 479\n",
      "Validation set size: 120\n"
     ]
    }
   ],
   "source": [
    "# Load the full dataset\n",
    "dataset = KTHProcessedDataset(root_dir=root_dir, sequence_length=sequence_length, transform=transform)\n",
    "\n",
    "# Calculate train and validation sizes\n",
    "dataset_size = len(dataset)\n",
    "train_size = int(train_ratio * dataset_size)\n",
    "val_size = dataset_size - train_size\n",
    "\n",
    "# Split the dataset\n",
    "train_dataset, val_dataset = random_split(dataset, [train_size, val_size])\n",
    "\n",
    "# Create DataLoaders for train and validation sets\n",
    "train_loader = DataLoader(train_dataset, batch_size=batch_size, shuffle=True, num_workers=4)\n",
    "val_loader = DataLoader(val_dataset, batch_size=batch_size, shuffle=False, num_workers=4)\n",
    "\n",
    "print(f\"Dataset size: {dataset_size}\")\n",
    "print(f\"Train set size: {train_size}\")\n",
    "print(f\"Validation set size: {val_size}\")"
   ]
  },
  {
   "cell_type": "code",
   "execution_count": 10,
   "id": "e6c6486b-c409-420f-a087-9e3b391dca8b",
   "metadata": {},
   "outputs": [
    {
     "name": "stdout",
     "output_type": "stream",
     "text": [
      "Dataset Classes:\n",
      "Class ID: 0, Class Name: boxing\n",
      "Class ID: 1, Class Name: handclapping\n",
      "Class ID: 2, Class Name: handwaving\n",
      "Class ID: 3, Class Name: jogging\n",
      "Class ID: 4, Class Name: running\n",
      "Class ID: 5, Class Name: walking\n"
     ]
    }
   ],
   "source": [
    "print(\"Dataset Classes:\")\n",
    "for class_id, class_name in dataset.class_mapping.items():\n",
    "    print(f\"Class ID: {class_id}, Class Name: {class_name}\")"
   ]
  },
  {
   "cell_type": "code",
   "execution_count": 11,
   "id": "26296a44-7a33-49ab-9b86-2fb40ae9d200",
   "metadata": {},
   "outputs": [],
   "source": [
    "def train_nn(model, train_loader, criterion, optimizer, device):\n",
    "    \"\"\"Train the LSTM model for one epoch\"\"\"\n",
    "    model.train()\n",
    "    running_loss = 0.0\n",
    "    correct_labels = 0\n",
    "    total_labels = 0\n",
    "\n",
    "    for inputs, labels in train_loader:\n",
    "        inputs, labels = inputs.to(device), labels.to(device)\n",
    "        \n",
    "        optimizer.zero_grad()\n",
    "        outputs = model(inputs)  # Get outputs for the full sequence\n",
    "        \n",
    "        # Only use the last time step's output for classification\n",
    "        loss = criterion(outputs, labels)  # Use the last timestep output\n",
    "        loss.backward()\n",
    "        optimizer.step()\n",
    "\n",
    "        running_loss += loss.item()\n",
    "\n",
    "        # Compute accuracy for the last time step\n",
    "        _, predicted_labels = torch.max(outputs, dim=1)\n",
    "        correct_labels += (predicted_labels == labels).sum().item()\n",
    "        total_labels += labels.size(0)\n",
    "\n",
    "    avg_loss = running_loss / len(train_loader)\n",
    "    accuracy = correct_labels / total_labels\n",
    "    return avg_loss, accuracy\n",
    "\n",
    "def evaluate_nn(model, eval_loader, criterion, device):\n",
    "    \"\"\"Evaluate the LSTM model\"\"\"\n",
    "    model.eval()\n",
    "    running_loss = 0.0\n",
    "    correct_labels = 0\n",
    "    total_labels = 0\n",
    "\n",
    "    with torch.no_grad():\n",
    "        for inputs, labels in eval_loader:\n",
    "            inputs, labels = inputs.to(device), labels.to(device)\n",
    "            outputs = model(inputs)  # Get outputs for the full sequence\n",
    "            \n",
    "            loss = criterion(outputs, labels)  # Use the last timestep output\n",
    "            running_loss += loss.item()\n",
    "\n",
    "            # Compute accuracy for the last time step\n",
    "            _, predicted_labels = torch.max(outputs, dim=1)\n",
    "            correct_labels += (predicted_labels == labels).sum().item()\n",
    "            total_labels += labels.size(0)\n",
    "\n",
    "    avg_loss = running_loss / len(eval_loader)\n",
    "    accuracy = correct_labels / total_labels\n",
    "    return avg_loss, accuracy\n",
    "\n",
    "def run_training(model, train_loader, eval_loader, criterion, device, num_epochs, learning_rate=0.001, step_size=5, gamma=0.5,\n",
    "                 project='lstm_training', name='test_run'):\n",
    "    \"\"\"Train and evaluate the LSTM model for a given number of epochs with W&B logging\"\"\"\n",
    "    # Initialize W&B logging\n",
    "    wandb.init(project=project, name=name, config={\n",
    "        \"learning_rate\": learning_rate,\n",
    "        \"num_epochs\": num_epochs,\n",
    "        \"step_size\": step_size,\n",
    "        \"gamma\": gamma,\n",
    "        \"optimizer\": \"Adam\",\n",
    "    },\n",
    "    )\n",
    "    config = wandb.config\n",
    "\n",
    "    optimizer = optim.Adam(model.parameters(), lr=learning_rate)  # Adam optimizer\n",
    "    scheduler = StepLR(optimizer, step_size=step_size, gamma=gamma)  # Learning rate scheduler\n",
    "    \n",
    "    train_losses = []\n",
    "    eval_losses = []\n",
    "    train_accuracies = []\n",
    "    eval_accuracies = []\n",
    "    learning_rates = []\n",
    "\n",
    "    for epoch in tqdm(range(num_epochs)):\n",
    "        # Train for one epoch\n",
    "        train_loss, train_accuracy = train_nn(model, train_loader, criterion, optimizer, device)\n",
    "        # Evaluate after each epoch\n",
    "        eval_loss, eval_accuracy = evaluate_nn(model, eval_loader, criterion, device)\n",
    "\n",
    "        # Get current learning rate\n",
    "        current_lr = scheduler.get_last_lr()[0]\n",
    "\n",
    "        # Record the metrics\n",
    "        train_losses.append(train_loss)\n",
    "        eval_losses.append(eval_loss)\n",
    "        train_accuracies.append(train_accuracy)\n",
    "        eval_accuracies.append(eval_accuracy)\n",
    "        learning_rates.append(current_lr)\n",
    "\n",
    "        # Log metrics to W&B\n",
    "        wandb.log({\n",
    "            \"epoch\": epoch + 1,\n",
    "            \"train_loss\": train_loss,\n",
    "            \"train_accuracy\": train_accuracy,\n",
    "            \"eval_loss\": eval_loss,\n",
    "            \"eval_accuracy\": eval_accuracy,\n",
    "            \"learning_rate\": current_lr\n",
    "        })\n",
    "\n",
    "        # Print epoch statistics\n",
    "        print(f\"Epoch {epoch+1}/{num_epochs}\")\n",
    "        print(f\"Train Loss: {train_loss:.4f}, Train Accuracy: {train_accuracy:.4f}\")\n",
    "        print(f\"Eval Loss: {eval_loss:.4f}, Eval Accuracy: {eval_accuracy:.4f}\")\n",
    "        print(f\"Learning Rate: {current_lr:.6f}\")\n",
    "        \n",
    "        # Step the learning rate scheduler\n",
    "        scheduler.step()\n",
    "\n",
    "    # Finish W&B run\n",
    "    wandb.finish()\n",
    "\n",
    "    return model, train_losses, train_accuracies, eval_losses, eval_accuracies, learning_rates"
   ]
  },
  {
   "cell_type": "code",
   "execution_count": 9,
   "id": "aceace2a-abf5-458b-8647-d54d58e4b007",
   "metadata": {},
   "outputs": [],
   "source": [
    "# Define the Model\n",
    "class ActionRecognitionModel(nn.Module):\n",
    "    def __init__(self, input_size, hidden_size, num_classes):\n",
    "        super(ActionRecognitionModel, self).__init__()\n",
    "        self.encoder = nn.Sequential(\n",
    "            nn.Linear(input_size, 512),\n",
    "            nn.ReLU(),\n",
    "            nn.Dropout(0.3),\n",
    "            nn.Linear(512, 256),\n",
    "            nn.ReLU(),\n",
    "            nn.Dropout(0.3)\n",
    "        )\n",
    "        self.rnn = nn.GRU(input_size=256, hidden_size=hidden_size, num_layers=1, batch_first=True)\n",
    "        self.classifier = nn.Sequential(\n",
    "            nn.Linear(hidden_size, 128),\n",
    "            nn.ReLU(),\n",
    "            nn.Linear(128, num_classes),\n",
    "            nn.Softmax(dim=-1)\n",
    "        )\n",
    "\n",
    "    def forward(self, x):\n",
    "        batch_size, seq_len, input_size = x.size()  # [batch_size, sequence_length, input_size]\n",
    "        x = x.view(-1, input_size)  # Flatten sequence into individual frames\n",
    "        x = self.encoder(x)         # Encode each frame\n",
    "        x = x.view(batch_size, seq_len, -1)  # Restore sequence structure\n",
    "        _, h_n = self.rnn(x)        # Pass sequence through GRU\n",
    "        x = self.classifier(h_n.squeeze(0))  # Classify using the last hidden state\n",
    "        return x"
   ]
  },
  {
   "cell_type": "code",
   "execution_count": 13,
   "id": "a783258c-dbca-4a37-8df4-8c26f6705271",
   "metadata": {},
   "outputs": [],
   "source": [
    "class ActionRecognitionModel(nn.Module):\n",
    "    def __init__(self, sequence_length, input_channels, num_classes):\n",
    "        \"\"\"\n",
    "        Args:\n",
    "            sequence_length (int): Number of frames in input sequence\n",
    "            input_channels (int): Number of input channels (1 for grayscale)\n",
    "            num_classes (int): Number of action classes\n",
    "        \"\"\"\n",
    "        super(ActionRecognitionModel, self).__init__()\n",
    "        \n",
    "        # Convolutional Encoder\n",
    "        self.conv_encoder = nn.Sequential(\n",
    "            # First conv block\n",
    "            nn.Conv3d(input_channels, 32, kernel_size=(3, 3, 3), stride=(1, 1, 1), padding=(1, 1, 1)),\n",
    "            nn.BatchNorm3d(32),\n",
    "            nn.ReLU(inplace=True),\n",
    "            nn.MaxPool3d(kernel_size=(1, 2, 2), stride=(1, 2, 2)),\n",
    "            \n",
    "            # Second conv block\n",
    "            nn.Conv3d(32, 64, kernel_size=(3, 3, 3), stride=(1, 1, 1), padding=(1, 1, 1)),\n",
    "            nn.BatchNorm3d(64),\n",
    "            nn.ReLU(inplace=True),\n",
    "            nn.MaxPool3d(kernel_size=(1, 2, 2), stride=(1, 2, 2)),\n",
    "            \n",
    "            # Third conv block\n",
    "            nn.Conv3d(64, 128, kernel_size=(3, 3, 3), stride=(1, 1, 1), padding=(1, 1, 1)),\n",
    "            nn.BatchNorm3d(128),\n",
    "            nn.ReLU(inplace=True),\n",
    "            nn.MaxPool3d(kernel_size=(1, 2, 2), stride=(1, 2, 2))\n",
    "        )\n",
    "        \n",
    "        # Recurrent Module (LSTM)\n",
    "        self.lstm = nn.LSTM(\n",
    "            input_size=128 * (64 // 8) * (64 // 8),  # Flattened feature map size\n",
    "            hidden_size=256,  # Hidden layer size\n",
    "            num_layers=2,     # Number of LSTM layers\n",
    "            batch_first=True,\n",
    "            dropout=0.3\n",
    "        )\n",
    "        \n",
    "        # Classifier\n",
    "        self.classifier = nn.Sequential(\n",
    "            nn.Linear(256, 128),\n",
    "            nn.ReLU(inplace=True),\n",
    "            nn.Dropout(0.5),\n",
    "            nn.Linear(128, num_classes)\n",
    "        )\n",
    "    \n",
    "    def forward(self, x):\n",
    "        # x shape: [batch_size, sequence_length, channels, height, width]\n",
    "        # Adjust input to match Conv3d expected shape\n",
    "        x = x.permute(0, 2, 1, 3, 4)  # [batch_size, channels, sequence_length, height, width]\n",
    "        \n",
    "        # Convolutional Encoder\n",
    "        conv_features = self.conv_encoder(x)\n",
    "        \n",
    "        # Prepare for LSTM: flatten spatial dimensions\n",
    "        batch_size, channels, seq_len, height, width = conv_features.shape\n",
    "        lstm_input = conv_features.view(batch_size, seq_len, -1)\n",
    "        \n",
    "        # Recurrent Module\n",
    "        lstm_out, _ = self.lstm(lstm_input)\n",
    "        \n",
    "        # Take the last time step\n",
    "        last_time_step = lstm_out[:, -1, :]\n",
    "        \n",
    "        # Classifier\n",
    "        output = self.classifier(last_time_step)\n",
    "        \n",
    "        return output"
   ]
  },
  {
   "cell_type": "code",
   "execution_count": 15,
   "id": "4ad0f8f6-5dfa-4239-bc6a-d32cf4723d99",
   "metadata": {},
   "outputs": [
    {
     "ename": "RuntimeError",
     "evalue": "CUDA error: device-side assert triggered\nCUDA kernel errors might be asynchronously reported at some other API call, so the stacktrace below might be incorrect.\nFor debugging consider passing CUDA_LAUNCH_BLOCKING=1\nCompile with `TORCH_USE_CUDA_DSA` to enable device-side assertions.\n",
     "output_type": "error",
     "traceback": [
      "\u001b[0;31m---------------------------------------------------------------------------\u001b[0m",
      "\u001b[0;31mRuntimeError\u001b[0m                              Traceback (most recent call last)",
      "Cell \u001b[0;32mIn[15], line 2\u001b[0m\n\u001b[1;32m      1\u001b[0m \u001b[38;5;66;03m# Initialize model, loss, and optimizer\u001b[39;00m\n\u001b[0;32m----> 2\u001b[0m model \u001b[38;5;241m=\u001b[39m \u001b[43mActionRecognitionModel\u001b[49m\u001b[43m(\u001b[49m\n\u001b[1;32m      3\u001b[0m \u001b[43m       \u001b[49m\u001b[43msequence_length\u001b[49m\u001b[38;5;241;43m=\u001b[39;49m\u001b[38;5;241;43m15\u001b[39;49m\u001b[43m,\u001b[49m\u001b[43m \u001b[49m\n\u001b[1;32m      4\u001b[0m \u001b[43m       \u001b[49m\u001b[43minput_channels\u001b[49m\u001b[38;5;241;43m=\u001b[39;49m\u001b[38;5;241;43m1\u001b[39;49m\u001b[43m,\u001b[49m\u001b[43m  \u001b[49m\u001b[38;5;66;43;03m# Grayscale\u001b[39;49;00m\n\u001b[1;32m      5\u001b[0m \u001b[43m       \u001b[49m\u001b[43mnum_classes\u001b[49m\u001b[38;5;241;43m=\u001b[39;49m\u001b[38;5;241;43m6\u001b[39;49m\n\u001b[1;32m      6\u001b[0m \u001b[43m   \u001b[49m\u001b[43m)\u001b[49m\u001b[38;5;241;43m.\u001b[39;49m\u001b[43mto\u001b[49m\u001b[43m(\u001b[49m\u001b[43mdevice\u001b[49m\u001b[43m)\u001b[49m\n\u001b[1;32m      8\u001b[0m model\n",
      "File \u001b[0;32m~/venv/lib/python3.8/site-packages/torch/nn/modules/module.py:1174\u001b[0m, in \u001b[0;36mModule.to\u001b[0;34m(self, *args, **kwargs)\u001b[0m\n\u001b[1;32m   1171\u001b[0m         \u001b[38;5;28;01melse\u001b[39;00m:\n\u001b[1;32m   1172\u001b[0m             \u001b[38;5;28;01mraise\u001b[39;00m\n\u001b[0;32m-> 1174\u001b[0m \u001b[38;5;28;01mreturn\u001b[39;00m \u001b[38;5;28;43mself\u001b[39;49m\u001b[38;5;241;43m.\u001b[39;49m\u001b[43m_apply\u001b[49m\u001b[43m(\u001b[49m\u001b[43mconvert\u001b[49m\u001b[43m)\u001b[49m\n",
      "File \u001b[0;32m~/venv/lib/python3.8/site-packages/torch/nn/modules/module.py:780\u001b[0m, in \u001b[0;36mModule._apply\u001b[0;34m(self, fn, recurse)\u001b[0m\n\u001b[1;32m    778\u001b[0m \u001b[38;5;28;01mif\u001b[39;00m recurse:\n\u001b[1;32m    779\u001b[0m     \u001b[38;5;28;01mfor\u001b[39;00m module \u001b[38;5;129;01min\u001b[39;00m \u001b[38;5;28mself\u001b[39m\u001b[38;5;241m.\u001b[39mchildren():\n\u001b[0;32m--> 780\u001b[0m         \u001b[43mmodule\u001b[49m\u001b[38;5;241;43m.\u001b[39;49m\u001b[43m_apply\u001b[49m\u001b[43m(\u001b[49m\u001b[43mfn\u001b[49m\u001b[43m)\u001b[49m\n\u001b[1;32m    782\u001b[0m \u001b[38;5;28;01mdef\u001b[39;00m \u001b[38;5;21mcompute_should_use_set_data\u001b[39m(tensor, tensor_applied):\n\u001b[1;32m    783\u001b[0m     \u001b[38;5;28;01mif\u001b[39;00m torch\u001b[38;5;241m.\u001b[39m_has_compatible_shallow_copy_type(tensor, tensor_applied):\n\u001b[1;32m    784\u001b[0m         \u001b[38;5;66;03m# If the new tensor has compatible tensor type as the existing tensor,\u001b[39;00m\n\u001b[1;32m    785\u001b[0m         \u001b[38;5;66;03m# the current behavior is to change the tensor in-place using `.data =`,\u001b[39;00m\n\u001b[0;32m   (...)\u001b[0m\n\u001b[1;32m    790\u001b[0m         \u001b[38;5;66;03m# global flag to let the user control whether they want the future\u001b[39;00m\n\u001b[1;32m    791\u001b[0m         \u001b[38;5;66;03m# behavior of overwriting the existing tensor or not.\u001b[39;00m\n",
      "File \u001b[0;32m~/venv/lib/python3.8/site-packages/torch/nn/modules/module.py:780\u001b[0m, in \u001b[0;36mModule._apply\u001b[0;34m(self, fn, recurse)\u001b[0m\n\u001b[1;32m    778\u001b[0m \u001b[38;5;28;01mif\u001b[39;00m recurse:\n\u001b[1;32m    779\u001b[0m     \u001b[38;5;28;01mfor\u001b[39;00m module \u001b[38;5;129;01min\u001b[39;00m \u001b[38;5;28mself\u001b[39m\u001b[38;5;241m.\u001b[39mchildren():\n\u001b[0;32m--> 780\u001b[0m         \u001b[43mmodule\u001b[49m\u001b[38;5;241;43m.\u001b[39;49m\u001b[43m_apply\u001b[49m\u001b[43m(\u001b[49m\u001b[43mfn\u001b[49m\u001b[43m)\u001b[49m\n\u001b[1;32m    782\u001b[0m \u001b[38;5;28;01mdef\u001b[39;00m \u001b[38;5;21mcompute_should_use_set_data\u001b[39m(tensor, tensor_applied):\n\u001b[1;32m    783\u001b[0m     \u001b[38;5;28;01mif\u001b[39;00m torch\u001b[38;5;241m.\u001b[39m_has_compatible_shallow_copy_type(tensor, tensor_applied):\n\u001b[1;32m    784\u001b[0m         \u001b[38;5;66;03m# If the new tensor has compatible tensor type as the existing tensor,\u001b[39;00m\n\u001b[1;32m    785\u001b[0m         \u001b[38;5;66;03m# the current behavior is to change the tensor in-place using `.data =`,\u001b[39;00m\n\u001b[0;32m   (...)\u001b[0m\n\u001b[1;32m    790\u001b[0m         \u001b[38;5;66;03m# global flag to let the user control whether they want the future\u001b[39;00m\n\u001b[1;32m    791\u001b[0m         \u001b[38;5;66;03m# behavior of overwriting the existing tensor or not.\u001b[39;00m\n",
      "File \u001b[0;32m~/venv/lib/python3.8/site-packages/torch/nn/modules/module.py:805\u001b[0m, in \u001b[0;36mModule._apply\u001b[0;34m(self, fn, recurse)\u001b[0m\n\u001b[1;32m    801\u001b[0m \u001b[38;5;66;03m# Tensors stored in modules are graph leaves, and we don't want to\u001b[39;00m\n\u001b[1;32m    802\u001b[0m \u001b[38;5;66;03m# track autograd history of `param_applied`, so we have to use\u001b[39;00m\n\u001b[1;32m    803\u001b[0m \u001b[38;5;66;03m# `with torch.no_grad():`\u001b[39;00m\n\u001b[1;32m    804\u001b[0m \u001b[38;5;28;01mwith\u001b[39;00m torch\u001b[38;5;241m.\u001b[39mno_grad():\n\u001b[0;32m--> 805\u001b[0m     param_applied \u001b[38;5;241m=\u001b[39m \u001b[43mfn\u001b[49m\u001b[43m(\u001b[49m\u001b[43mparam\u001b[49m\u001b[43m)\u001b[49m\n\u001b[1;32m    806\u001b[0m p_should_use_set_data \u001b[38;5;241m=\u001b[39m compute_should_use_set_data(param, param_applied)\n\u001b[1;32m    808\u001b[0m \u001b[38;5;66;03m# subclasses may have multiple child tensors so we need to use swap_tensors\u001b[39;00m\n",
      "File \u001b[0;32m~/venv/lib/python3.8/site-packages/torch/nn/modules/module.py:1160\u001b[0m, in \u001b[0;36mModule.to.<locals>.convert\u001b[0;34m(t)\u001b[0m\n\u001b[1;32m   1153\u001b[0m     \u001b[38;5;28;01mif\u001b[39;00m convert_to_format \u001b[38;5;129;01mis\u001b[39;00m \u001b[38;5;129;01mnot\u001b[39;00m \u001b[38;5;28;01mNone\u001b[39;00m \u001b[38;5;129;01mand\u001b[39;00m t\u001b[38;5;241m.\u001b[39mdim() \u001b[38;5;129;01min\u001b[39;00m (\u001b[38;5;241m4\u001b[39m, \u001b[38;5;241m5\u001b[39m):\n\u001b[1;32m   1154\u001b[0m         \u001b[38;5;28;01mreturn\u001b[39;00m t\u001b[38;5;241m.\u001b[39mto(\n\u001b[1;32m   1155\u001b[0m             device,\n\u001b[1;32m   1156\u001b[0m             dtype \u001b[38;5;28;01mif\u001b[39;00m t\u001b[38;5;241m.\u001b[39mis_floating_point() \u001b[38;5;129;01mor\u001b[39;00m t\u001b[38;5;241m.\u001b[39mis_complex() \u001b[38;5;28;01melse\u001b[39;00m \u001b[38;5;28;01mNone\u001b[39;00m,\n\u001b[1;32m   1157\u001b[0m             non_blocking,\n\u001b[1;32m   1158\u001b[0m             memory_format\u001b[38;5;241m=\u001b[39mconvert_to_format,\n\u001b[1;32m   1159\u001b[0m         )\n\u001b[0;32m-> 1160\u001b[0m     \u001b[38;5;28;01mreturn\u001b[39;00m \u001b[43mt\u001b[49m\u001b[38;5;241;43m.\u001b[39;49m\u001b[43mto\u001b[49m\u001b[43m(\u001b[49m\n\u001b[1;32m   1161\u001b[0m \u001b[43m        \u001b[49m\u001b[43mdevice\u001b[49m\u001b[43m,\u001b[49m\n\u001b[1;32m   1162\u001b[0m \u001b[43m        \u001b[49m\u001b[43mdtype\u001b[49m\u001b[43m \u001b[49m\u001b[38;5;28;43;01mif\u001b[39;49;00m\u001b[43m \u001b[49m\u001b[43mt\u001b[49m\u001b[38;5;241;43m.\u001b[39;49m\u001b[43mis_floating_point\u001b[49m\u001b[43m(\u001b[49m\u001b[43m)\u001b[49m\u001b[43m \u001b[49m\u001b[38;5;129;43;01mor\u001b[39;49;00m\u001b[43m \u001b[49m\u001b[43mt\u001b[49m\u001b[38;5;241;43m.\u001b[39;49m\u001b[43mis_complex\u001b[49m\u001b[43m(\u001b[49m\u001b[43m)\u001b[49m\u001b[43m \u001b[49m\u001b[38;5;28;43;01melse\u001b[39;49;00m\u001b[43m \u001b[49m\u001b[38;5;28;43;01mNone\u001b[39;49;00m\u001b[43m,\u001b[49m\n\u001b[1;32m   1163\u001b[0m \u001b[43m        \u001b[49m\u001b[43mnon_blocking\u001b[49m\u001b[43m,\u001b[49m\n\u001b[1;32m   1164\u001b[0m \u001b[43m    \u001b[49m\u001b[43m)\u001b[49m\n\u001b[1;32m   1165\u001b[0m \u001b[38;5;28;01mexcept\u001b[39;00m \u001b[38;5;167;01mNotImplementedError\u001b[39;00m \u001b[38;5;28;01mas\u001b[39;00m e:\n\u001b[1;32m   1166\u001b[0m     \u001b[38;5;28;01mif\u001b[39;00m \u001b[38;5;28mstr\u001b[39m(e) \u001b[38;5;241m==\u001b[39m \u001b[38;5;124m\"\u001b[39m\u001b[38;5;124mCannot copy out of meta tensor; no data!\u001b[39m\u001b[38;5;124m\"\u001b[39m:\n",
      "\u001b[0;31mRuntimeError\u001b[0m: CUDA error: device-side assert triggered\nCUDA kernel errors might be asynchronously reported at some other API call, so the stacktrace below might be incorrect.\nFor debugging consider passing CUDA_LAUNCH_BLOCKING=1\nCompile with `TORCH_USE_CUDA_DSA` to enable device-side assertions.\n"
     ]
    },
    {
     "name": "stdout",
     "output_type": "stream",
     "text": [
      "\u001b[1;34mwandb\u001b[0m: 🚀 View run \u001b[33mepoch_30_lr_1e-3\u001b[0m at: \u001b[34mhttps://wandb.ai/ahmadjaved97/gru/runs/y496qdrd\u001b[0m\n",
      "\u001b[1;34mwandb\u001b[0m: Find logs at: \u001b[1;35mwandb/run-20241129_150957-y496qdrd/logs\u001b[0m\n"
     ]
    }
   ],
   "source": [
    " # Initialize model, loss, and optimizer\n",
    "model = ActionRecognitionModel(\n",
    "        sequence_length=15, \n",
    "        input_channels=1,  # Grayscale\n",
    "        num_classes=6\n",
    "    ).to(device)\n",
    "\n",
    "model"
   ]
  },
  {
   "cell_type": "code",
   "execution_count": 14,
   "id": "9d479672-21de-48da-9f0f-c1c239fdd8cb",
   "metadata": {},
   "outputs": [],
   "source": [
    "# Define hyperparameters\n",
    "input_size = 64 * 64  # Grayscale image flattened\n",
    "hidden_size = 128\n",
    "num_classes = len(os.listdir('/home/nfs/inf6/data/datasets/kth_actions'))  # Based on your dataset structure\n",
    "sequence_length = 15\n",
    "batch_size = 16\n",
    "learning_rate = 0.001\n",
    "num_epochs = 25"
   ]
  },
  {
   "cell_type": "code",
   "execution_count": 11,
   "id": "5dce3977-542e-495d-b10b-f18a3543b617",
   "metadata": {},
   "outputs": [
    {
     "data": {
      "text/plain": [
       "ActionRecognitionModel(\n",
       "  (encoder): Sequential(\n",
       "    (0): Linear(in_features=4096, out_features=512, bias=True)\n",
       "    (1): ReLU()\n",
       "    (2): Dropout(p=0.3, inplace=False)\n",
       "    (3): Linear(in_features=512, out_features=256, bias=True)\n",
       "    (4): ReLU()\n",
       "    (5): Dropout(p=0.3, inplace=False)\n",
       "  )\n",
       "  (rnn): GRU(256, 128, batch_first=True)\n",
       "  (classifier): Sequential(\n",
       "    (0): Linear(in_features=128, out_features=128, bias=True)\n",
       "    (1): ReLU()\n",
       "    (2): Linear(in_features=128, out_features=4, bias=True)\n",
       "    (3): Softmax(dim=-1)\n",
       "  )\n",
       ")"
      ]
     },
     "execution_count": 11,
     "metadata": {},
     "output_type": "execute_result"
    }
   ],
   "source": [
    "model = ActionRecognitionModel(input_size=input_size, hidden_size=hidden_size, num_classes=num_classes).to(device)\n",
    "model"
   ]
  },
  {
   "cell_type": "code",
   "execution_count": null,
   "id": "06b83dd6-72ea-47c9-aa4a-49c77c8ebd4e",
   "metadata": {},
   "outputs": [],
   "source": []
  },
  {
   "cell_type": "code",
   "execution_count": 12,
   "id": "b85408e9-4c93-4e33-aa07-b7a5e12bfee0",
   "metadata": {},
   "outputs": [
    {
     "name": "stderr",
     "output_type": "stream",
     "text": [
      "\u001b[34m\u001b[1mwandb\u001b[0m: Using wandb-core as the SDK backend.  Please refer to https://wandb.me/wandb-core for more information.\n",
      "\u001b[34m\u001b[1mwandb\u001b[0m: Currently logged in as: \u001b[33mahmadjaved97\u001b[0m. Use \u001b[1m`wandb login --relogin`\u001b[0m to force relogin\n"
     ]
    },
    {
     "data": {
      "text/html": [
       "Tracking run with wandb version 0.18.7"
      ],
      "text/plain": [
       "<IPython.core.display.HTML object>"
      ]
     },
     "metadata": {},
     "output_type": "display_data"
    },
    {
     "data": {
      "text/html": [
       "Run data is saved locally in <code>/home/user/javeda1/MA-INF-4308-Lab-Vision-Systems/Assignment-4/wandb/run-20241129_150957-y496qdrd</code>"
      ],
      "text/plain": [
       "<IPython.core.display.HTML object>"
      ]
     },
     "metadata": {},
     "output_type": "display_data"
    },
    {
     "data": {
      "text/html": [
       "Syncing run <strong><a href='https://wandb.ai/ahmadjaved97/gru/runs/y496qdrd' target=\"_blank\">epoch_30_lr_1e-3</a></strong> to <a href='https://wandb.ai/ahmadjaved97/gru' target=\"_blank\">Weights & Biases</a> (<a href='https://wandb.me/developer-guide' target=\"_blank\">docs</a>)<br/>"
      ],
      "text/plain": [
       "<IPython.core.display.HTML object>"
      ]
     },
     "metadata": {},
     "output_type": "display_data"
    },
    {
     "data": {
      "text/html": [
       " View project at <a href='https://wandb.ai/ahmadjaved97/gru' target=\"_blank\">https://wandb.ai/ahmadjaved97/gru</a>"
      ],
      "text/plain": [
       "<IPython.core.display.HTML object>"
      ]
     },
     "metadata": {},
     "output_type": "display_data"
    },
    {
     "data": {
      "text/html": [
       " View run at <a href='https://wandb.ai/ahmadjaved97/gru/runs/y496qdrd' target=\"_blank\">https://wandb.ai/ahmadjaved97/gru/runs/y496qdrd</a>"
      ],
      "text/plain": [
       "<IPython.core.display.HTML object>"
      ]
     },
     "metadata": {},
     "output_type": "display_data"
    },
    {
     "name": "stderr",
     "output_type": "stream",
     "text": [
      "  0%|                                                                | 0/30 [00:00<?, ?it/s]../aten/src/ATen/native/cuda/Loss.cu:250: nll_loss_forward_reduce_cuda_kernel_2d: block: [0,0,0], thread: [2,0,0] Assertion `t >= 0 && t < n_classes` failed.\n",
      "../aten/src/ATen/native/cuda/Loss.cu:250: nll_loss_forward_reduce_cuda_kernel_2d: block: [0,0,0], thread: [3,0,0] Assertion `t >= 0 && t < n_classes` failed.\n",
      "../aten/src/ATen/native/cuda/Loss.cu:250: nll_loss_forward_reduce_cuda_kernel_2d: block: [0,0,0], thread: [4,0,0] Assertion `t >= 0 && t < n_classes` failed.\n",
      "../aten/src/ATen/native/cuda/Loss.cu:250: nll_loss_forward_reduce_cuda_kernel_2d: block: [0,0,0], thread: [5,0,0] Assertion `t >= 0 && t < n_classes` failed.\n",
      "../aten/src/ATen/native/cuda/Loss.cu:250: nll_loss_forward_reduce_cuda_kernel_2d: block: [0,0,0], thread: [9,0,0] Assertion `t >= 0 && t < n_classes` failed.\n",
      "../aten/src/ATen/native/cuda/Loss.cu:250: nll_loss_forward_reduce_cuda_kernel_2d: block: [0,0,0], thread: [12,0,0] Assertion `t >= 0 && t < n_classes` failed.\n",
      "../aten/src/ATen/native/cuda/Loss.cu:250: nll_loss_forward_reduce_cuda_kernel_2d: block: [0,0,0], thread: [14,0,0] Assertion `t >= 0 && t < n_classes` failed.\n",
      "../aten/src/ATen/native/cuda/Loss.cu:250: nll_loss_forward_reduce_cuda_kernel_2d: block: [0,0,0], thread: [15,0,0] Assertion `t >= 0 && t < n_classes` failed.\n",
      "../aten/src/ATen/native/cuda/Loss.cu:250: nll_loss_forward_reduce_cuda_kernel_2d: block: [0,0,0], thread: [17,0,0] Assertion `t >= 0 && t < n_classes` failed.\n",
      "../aten/src/ATen/native/cuda/Loss.cu:250: nll_loss_forward_reduce_cuda_kernel_2d: block: [0,0,0], thread: [18,0,0] Assertion `t >= 0 && t < n_classes` failed.\n",
      "../aten/src/ATen/native/cuda/Loss.cu:250: nll_loss_forward_reduce_cuda_kernel_2d: block: [0,0,0], thread: [19,0,0] Assertion `t >= 0 && t < n_classes` failed.\n",
      "../aten/src/ATen/native/cuda/Loss.cu:250: nll_loss_forward_reduce_cuda_kernel_2d: block: [0,0,0], thread: [23,0,0] Assertion `t >= 0 && t < n_classes` failed.\n",
      "../aten/src/ATen/native/cuda/Loss.cu:250: nll_loss_forward_reduce_cuda_kernel_2d: block: [0,0,0], thread: [24,0,0] Assertion `t >= 0 && t < n_classes` failed.\n",
      "../aten/src/ATen/native/cuda/Loss.cu:250: nll_loss_forward_reduce_cuda_kernel_2d: block: [0,0,0], thread: [27,0,0] Assertion `t >= 0 && t < n_classes` failed.\n",
      "../aten/src/ATen/native/cuda/Loss.cu:250: nll_loss_forward_reduce_cuda_kernel_2d: block: [0,0,0], thread: [28,0,0] Assertion `t >= 0 && t < n_classes` failed.\n",
      "../aten/src/ATen/native/cuda/Loss.cu:250: nll_loss_forward_reduce_cuda_kernel_2d: block: [0,0,0], thread: [29,0,0] Assertion `t >= 0 && t < n_classes` failed.\n",
      "  0%|                                                                | 0/30 [00:04<?, ?it/s]\n"
     ]
    },
    {
     "ename": "RuntimeError",
     "evalue": "CUDA error: CUBLAS_STATUS_ALLOC_FAILED when calling `cublasCreate(handle)`",
     "output_type": "error",
     "traceback": [
      "\u001b[0;31m---------------------------------------------------------------------------\u001b[0m",
      "\u001b[0;31mRuntimeError\u001b[0m                              Traceback (most recent call last)",
      "Cell \u001b[0;32mIn[12], line 11\u001b[0m\n\u001b[1;32m      8\u001b[0m gamma \u001b[38;5;241m=\u001b[39m \u001b[38;5;241m0.5\u001b[39m\n\u001b[1;32m     10\u001b[0m \u001b[38;5;66;03m# Run training\u001b[39;00m\n\u001b[0;32m---> 11\u001b[0m model, train_losses, train_accuracies, eval_losses, eval_accuracies, learning_rates \u001b[38;5;241m=\u001b[39m \u001b[43mrun_training\u001b[49m\u001b[43m(\u001b[49m\n\u001b[1;32m     12\u001b[0m \u001b[43m    \u001b[49m\u001b[43mmodel\u001b[49m\u001b[43m,\u001b[49m\u001b[43m \u001b[49m\u001b[43mtrain_loader\u001b[49m\u001b[43m,\u001b[49m\u001b[43m \u001b[49m\u001b[43mval_loader\u001b[49m\u001b[43m,\u001b[49m\u001b[43m \u001b[49m\u001b[43mcriterion\u001b[49m\u001b[43m,\u001b[49m\u001b[43m \u001b[49m\u001b[43mdevice\u001b[49m\u001b[43m,\u001b[49m\n\u001b[1;32m     13\u001b[0m \u001b[43m    \u001b[49m\u001b[43mnum_epochs\u001b[49m\u001b[43m,\u001b[49m\u001b[43m \u001b[49m\u001b[43mlearning_rate\u001b[49m\u001b[43m,\u001b[49m\u001b[43m \u001b[49m\u001b[43mstep_size\u001b[49m\u001b[43m,\u001b[49m\u001b[43m \u001b[49m\u001b[43mgamma\u001b[49m\u001b[43m,\u001b[49m\u001b[43m \u001b[49m\u001b[43mname\u001b[49m\u001b[38;5;241;43m=\u001b[39;49m\u001b[38;5;124;43m'\u001b[39;49m\u001b[38;5;124;43mepoch_30_lr_1e-3\u001b[39;49m\u001b[38;5;124;43m'\u001b[39;49m\u001b[43m,\u001b[49m\u001b[43m \u001b[49m\u001b[43mproject\u001b[49m\u001b[38;5;241;43m=\u001b[39;49m\u001b[38;5;124;43m'\u001b[39;49m\u001b[38;5;124;43mgru\u001b[39;49m\u001b[38;5;124;43m'\u001b[39;49m\n\u001b[1;32m     14\u001b[0m \u001b[43m)\u001b[49m\n",
      "Cell \u001b[0;32mIn[8], line 79\u001b[0m, in \u001b[0;36mrun_training\u001b[0;34m(model, train_loader, eval_loader, criterion, device, num_epochs, learning_rate, step_size, gamma, project, name)\u001b[0m\n\u001b[1;32m     75\u001b[0m learning_rates \u001b[38;5;241m=\u001b[39m []\n\u001b[1;32m     77\u001b[0m \u001b[38;5;28;01mfor\u001b[39;00m epoch \u001b[38;5;129;01min\u001b[39;00m tqdm(\u001b[38;5;28mrange\u001b[39m(num_epochs)):\n\u001b[1;32m     78\u001b[0m     \u001b[38;5;66;03m# Train for one epoch\u001b[39;00m\n\u001b[0;32m---> 79\u001b[0m     train_loss, train_accuracy \u001b[38;5;241m=\u001b[39m \u001b[43mtrain_nn\u001b[49m\u001b[43m(\u001b[49m\u001b[43mmodel\u001b[49m\u001b[43m,\u001b[49m\u001b[43m \u001b[49m\u001b[43mtrain_loader\u001b[49m\u001b[43m,\u001b[49m\u001b[43m \u001b[49m\u001b[43mcriterion\u001b[49m\u001b[43m,\u001b[49m\u001b[43m \u001b[49m\u001b[43moptimizer\u001b[49m\u001b[43m,\u001b[49m\u001b[43m \u001b[49m\u001b[43mdevice\u001b[49m\u001b[43m)\u001b[49m\n\u001b[1;32m     80\u001b[0m     \u001b[38;5;66;03m# Evaluate after each epoch\u001b[39;00m\n\u001b[1;32m     81\u001b[0m     eval_loss, eval_accuracy \u001b[38;5;241m=\u001b[39m evaluate_nn(model, eval_loader, criterion, device)\n",
      "Cell \u001b[0;32mIn[8], line 16\u001b[0m, in \u001b[0;36mtrain_nn\u001b[0;34m(model, train_loader, criterion, optimizer, device)\u001b[0m\n\u001b[1;32m     14\u001b[0m \u001b[38;5;66;03m# Only use the last time step's output for classification\u001b[39;00m\n\u001b[1;32m     15\u001b[0m loss \u001b[38;5;241m=\u001b[39m criterion(outputs, labels)  \u001b[38;5;66;03m# Use the last timestep output\u001b[39;00m\n\u001b[0;32m---> 16\u001b[0m \u001b[43mloss\u001b[49m\u001b[38;5;241;43m.\u001b[39;49m\u001b[43mbackward\u001b[49m\u001b[43m(\u001b[49m\u001b[43m)\u001b[49m\n\u001b[1;32m     17\u001b[0m optimizer\u001b[38;5;241m.\u001b[39mstep()\n\u001b[1;32m     19\u001b[0m running_loss \u001b[38;5;241m+\u001b[39m\u001b[38;5;241m=\u001b[39m loss\u001b[38;5;241m.\u001b[39mitem()\n",
      "File \u001b[0;32m~/venv/lib/python3.8/site-packages/torch/_tensor.py:521\u001b[0m, in \u001b[0;36mTensor.backward\u001b[0;34m(self, gradient, retain_graph, create_graph, inputs)\u001b[0m\n\u001b[1;32m    511\u001b[0m \u001b[38;5;28;01mif\u001b[39;00m has_torch_function_unary(\u001b[38;5;28mself\u001b[39m):\n\u001b[1;32m    512\u001b[0m     \u001b[38;5;28;01mreturn\u001b[39;00m handle_torch_function(\n\u001b[1;32m    513\u001b[0m         Tensor\u001b[38;5;241m.\u001b[39mbackward,\n\u001b[1;32m    514\u001b[0m         (\u001b[38;5;28mself\u001b[39m,),\n\u001b[0;32m   (...)\u001b[0m\n\u001b[1;32m    519\u001b[0m         inputs\u001b[38;5;241m=\u001b[39minputs,\n\u001b[1;32m    520\u001b[0m     )\n\u001b[0;32m--> 521\u001b[0m \u001b[43mtorch\u001b[49m\u001b[38;5;241;43m.\u001b[39;49m\u001b[43mautograd\u001b[49m\u001b[38;5;241;43m.\u001b[39;49m\u001b[43mbackward\u001b[49m\u001b[43m(\u001b[49m\n\u001b[1;32m    522\u001b[0m \u001b[43m    \u001b[49m\u001b[38;5;28;43mself\u001b[39;49m\u001b[43m,\u001b[49m\u001b[43m \u001b[49m\u001b[43mgradient\u001b[49m\u001b[43m,\u001b[49m\u001b[43m \u001b[49m\u001b[43mretain_graph\u001b[49m\u001b[43m,\u001b[49m\u001b[43m \u001b[49m\u001b[43mcreate_graph\u001b[49m\u001b[43m,\u001b[49m\u001b[43m \u001b[49m\u001b[43minputs\u001b[49m\u001b[38;5;241;43m=\u001b[39;49m\u001b[43minputs\u001b[49m\n\u001b[1;32m    523\u001b[0m \u001b[43m\u001b[49m\u001b[43m)\u001b[49m\n",
      "File \u001b[0;32m~/venv/lib/python3.8/site-packages/torch/autograd/__init__.py:289\u001b[0m, in \u001b[0;36mbackward\u001b[0;34m(tensors, grad_tensors, retain_graph, create_graph, grad_variables, inputs)\u001b[0m\n\u001b[1;32m    284\u001b[0m     retain_graph \u001b[38;5;241m=\u001b[39m create_graph\n\u001b[1;32m    286\u001b[0m \u001b[38;5;66;03m# The reason we repeat the same comment below is that\u001b[39;00m\n\u001b[1;32m    287\u001b[0m \u001b[38;5;66;03m# some Python versions print out the first line of a multi-line function\u001b[39;00m\n\u001b[1;32m    288\u001b[0m \u001b[38;5;66;03m# calls in the traceback and some print out the last line\u001b[39;00m\n\u001b[0;32m--> 289\u001b[0m \u001b[43m_engine_run_backward\u001b[49m\u001b[43m(\u001b[49m\n\u001b[1;32m    290\u001b[0m \u001b[43m    \u001b[49m\u001b[43mtensors\u001b[49m\u001b[43m,\u001b[49m\n\u001b[1;32m    291\u001b[0m \u001b[43m    \u001b[49m\u001b[43mgrad_tensors_\u001b[49m\u001b[43m,\u001b[49m\n\u001b[1;32m    292\u001b[0m \u001b[43m    \u001b[49m\u001b[43mretain_graph\u001b[49m\u001b[43m,\u001b[49m\n\u001b[1;32m    293\u001b[0m \u001b[43m    \u001b[49m\u001b[43mcreate_graph\u001b[49m\u001b[43m,\u001b[49m\n\u001b[1;32m    294\u001b[0m \u001b[43m    \u001b[49m\u001b[43minputs\u001b[49m\u001b[43m,\u001b[49m\n\u001b[1;32m    295\u001b[0m \u001b[43m    \u001b[49m\u001b[43mallow_unreachable\u001b[49m\u001b[38;5;241;43m=\u001b[39;49m\u001b[38;5;28;43;01mTrue\u001b[39;49;00m\u001b[43m,\u001b[49m\n\u001b[1;32m    296\u001b[0m \u001b[43m    \u001b[49m\u001b[43maccumulate_grad\u001b[49m\u001b[38;5;241;43m=\u001b[39;49m\u001b[38;5;28;43;01mTrue\u001b[39;49;00m\u001b[43m,\u001b[49m\n\u001b[1;32m    297\u001b[0m \u001b[43m\u001b[49m\u001b[43m)\u001b[49m\n",
      "File \u001b[0;32m~/venv/lib/python3.8/site-packages/torch/autograd/graph.py:769\u001b[0m, in \u001b[0;36m_engine_run_backward\u001b[0;34m(t_outputs, *args, **kwargs)\u001b[0m\n\u001b[1;32m    767\u001b[0m     unregister_hooks \u001b[38;5;241m=\u001b[39m _register_logging_hooks_on_whole_graph(t_outputs)\n\u001b[1;32m    768\u001b[0m \u001b[38;5;28;01mtry\u001b[39;00m:\n\u001b[0;32m--> 769\u001b[0m     \u001b[38;5;28;01mreturn\u001b[39;00m \u001b[43mVariable\u001b[49m\u001b[38;5;241;43m.\u001b[39;49m\u001b[43m_execution_engine\u001b[49m\u001b[38;5;241;43m.\u001b[39;49m\u001b[43mrun_backward\u001b[49m\u001b[43m(\u001b[49m\u001b[43m  \u001b[49m\u001b[38;5;66;43;03m# Calls into the C++ engine to run the backward pass\u001b[39;49;00m\n\u001b[1;32m    770\u001b[0m \u001b[43m        \u001b[49m\u001b[43mt_outputs\u001b[49m\u001b[43m,\u001b[49m\u001b[43m \u001b[49m\u001b[38;5;241;43m*\u001b[39;49m\u001b[43margs\u001b[49m\u001b[43m,\u001b[49m\u001b[43m \u001b[49m\u001b[38;5;241;43m*\u001b[39;49m\u001b[38;5;241;43m*\u001b[39;49m\u001b[43mkwargs\u001b[49m\n\u001b[1;32m    771\u001b[0m \u001b[43m    \u001b[49m\u001b[43m)\u001b[49m  \u001b[38;5;66;03m# Calls into the C++ engine to run the backward pass\u001b[39;00m\n\u001b[1;32m    772\u001b[0m \u001b[38;5;28;01mfinally\u001b[39;00m:\n\u001b[1;32m    773\u001b[0m     \u001b[38;5;28;01mif\u001b[39;00m attach_logging_hooks:\n",
      "\u001b[0;31mRuntimeError\u001b[0m: CUDA error: CUBLAS_STATUS_ALLOC_FAILED when calling `cublasCreate(handle)`"
     ]
    }
   ],
   "source": [
    "# Loss function\n",
    "criterion = nn.CrossEntropyLoss()\n",
    "\n",
    "# Hyperparameters\n",
    "num_epochs = 30\n",
    "learning_rate = 0.001\n",
    "step_size = 5\n",
    "gamma = 0.5\n",
    "\n",
    "# Run training\n",
    "model, train_losses, train_accuracies, eval_losses, eval_accuracies, learning_rates = run_training(\n",
    "    model, train_loader, val_loader, criterion, device,\n",
    "    num_epochs, learning_rate, step_size, gamma, name='epoch_30_lr_1e-3', project='gru'\n",
    ")"
   ]
  },
  {
   "cell_type": "code",
   "execution_count": 9,
   "id": "cb223f04-6a34-4c46-80b9-193a9d613f98",
   "metadata": {},
   "outputs": [],
   "source": [
    "class ActionRecognitionModel(nn.Module):\n",
    "    def __init__(self, input_dim, sequence_length, num_classes):\n",
    "        super(ActionRecognitionModel, self).__init__()\n",
    "        # Convolutional encoder\n",
    "        self.encoder = nn.Sequential(\n",
    "            nn.Conv2d(1, 32, kernel_size=3, stride=1, padding=1),  # Input: [B, 1, 64, 64]\n",
    "            nn.ReLU(),\n",
    "            nn.MaxPool2d(kernel_size=2, stride=2),  # Output: [B, 32, 32, 32]\n",
    "            nn.Conv2d(32, 64, kernel_size=3, stride=1, padding=1),  # Output: [B, 64, 32, 32]\n",
    "            nn.ReLU(),\n",
    "            nn.MaxPool2d(kernel_size=2, stride=2),  # Output: [B, 64, 16, 16]\n",
    "        )\n",
    "        \n",
    "        # Calculate flattened feature size from the encoder\n",
    "        self.feature_size = 64 * 16 * 16  # Channels x Height x Width\n",
    "        \n",
    "        # Recurrent module\n",
    "        self.recurrent = nn.LSTM(\n",
    "            input_size=self.feature_size,\n",
    "            hidden_size=256,\n",
    "            num_layers=2,\n",
    "            batch_first=True,\n",
    "            dropout=0.5,\n",
    "        )\n",
    "        \n",
    "        # Classifier\n",
    "        self.classifier = nn.Sequential(\n",
    "            nn.Conv1d(256, 128, kernel_size=1),  # Output: [B, 128, sequence_length]\n",
    "            nn.ReLU(),\n",
    "            nn.AdaptiveAvgPool1d(1),  # Output: [B, 128, 1]\n",
    "            nn.Flatten(),  # Output: [B, 128]\n",
    "            nn.Linear(128, num_classes),  # Output: [B, num_classes]\n",
    "        )\n",
    "\n",
    "    def forward(self, x):\n",
    "        batch_size, seq_len, _ = x.size()  # x: [B, seq_len, 4096]\n",
    "        \n",
    "        # Reshape for convolutional encoder\n",
    "        x = x.view(batch_size * seq_len, 1, 64, 64)  # Reshape to [B * seq_len, 1, 64, 64]\n",
    "        features = self.encoder(x)  # Output: [B * seq_len, 64, 16, 16]\n",
    "        features = features.view(batch_size, seq_len, -1)  # Output: [B, seq_len, 64 * 16 * 16]\n",
    "        \n",
    "        # Recurrent module\n",
    "        lstm_out, _ = self.recurrent(features)  # Output: [B, seq_len, 256]\n",
    "        lstm_out = lstm_out.permute(0, 2, 1)  # Permute to [B, 256, seq_len] for 1D Conv\n",
    "        \n",
    "        # Classifier\n",
    "        output = self.classifier(lstm_out)  # Output: [B, num_classes]\n",
    "        return output"
   ]
  },
  {
   "cell_type": "code",
   "execution_count": 10,
   "id": "3d5b129e-1b22-4aa1-af80-3c25ac421bfa",
   "metadata": {},
   "outputs": [],
   "source": [
    "num_classes=6"
   ]
  },
  {
   "cell_type": "code",
   "execution_count": 11,
   "id": "6be5f637-a940-4314-b1b8-e7ba259cb0b7",
   "metadata": {},
   "outputs": [],
   "source": [
    "model = ActionRecognitionModel(input_dim=4096, sequence_length=16, num_classes=num_classes).to(device)"
   ]
  },
  {
   "cell_type": "code",
   "execution_count": 12,
   "id": "c16b4ff6-dfeb-4cd6-bbe7-4f10da8cd566",
   "metadata": {},
   "outputs": [
    {
     "data": {
      "text/plain": [
       "ActionRecognitionModel(\n",
       "  (encoder): Sequential(\n",
       "    (0): Conv2d(1, 32, kernel_size=(3, 3), stride=(1, 1), padding=(1, 1))\n",
       "    (1): ReLU()\n",
       "    (2): MaxPool2d(kernel_size=2, stride=2, padding=0, dilation=1, ceil_mode=False)\n",
       "    (3): Conv2d(32, 64, kernel_size=(3, 3), stride=(1, 1), padding=(1, 1))\n",
       "    (4): ReLU()\n",
       "    (5): MaxPool2d(kernel_size=2, stride=2, padding=0, dilation=1, ceil_mode=False)\n",
       "  )\n",
       "  (recurrent): LSTM(16384, 256, num_layers=2, batch_first=True, dropout=0.5)\n",
       "  (classifier): Sequential(\n",
       "    (0): Conv1d(256, 128, kernel_size=(1,), stride=(1,))\n",
       "    (1): ReLU()\n",
       "    (2): AdaptiveAvgPool1d(output_size=1)\n",
       "    (3): Flatten(start_dim=1, end_dim=-1)\n",
       "    (4): Linear(in_features=128, out_features=6, bias=True)\n",
       "  )\n",
       ")"
      ]
     },
     "execution_count": 12,
     "metadata": {},
     "output_type": "execute_result"
    }
   ],
   "source": [
    "model"
   ]
  },
  {
   "cell_type": "code",
   "execution_count": 13,
   "id": "6c551979-de28-45fd-94a9-995a4124180e",
   "metadata": {},
   "outputs": [
    {
     "name": "stderr",
     "output_type": "stream",
     "text": [
      "\u001b[34m\u001b[1mwandb\u001b[0m: Using wandb-core as the SDK backend.  Please refer to https://wandb.me/wandb-core for more information.\n",
      "\u001b[34m\u001b[1mwandb\u001b[0m: Currently logged in as: \u001b[33mahmadjaved97\u001b[0m. Use \u001b[1m`wandb login --relogin`\u001b[0m to force relogin\n"
     ]
    },
    {
     "data": {
      "text/html": [
       "Tracking run with wandb version 0.18.7"
      ],
      "text/plain": [
       "<IPython.core.display.HTML object>"
      ]
     },
     "metadata": {},
     "output_type": "display_data"
    },
    {
     "data": {
      "text/html": [
       "Run data is saved locally in <code>/home/user/javeda1/MA-INF-4308-Lab-Vision-Systems/Assignment-4/wandb/run-20241129_153532-b86tfez6</code>"
      ],
      "text/plain": [
       "<IPython.core.display.HTML object>"
      ]
     },
     "metadata": {},
     "output_type": "display_data"
    },
    {
     "data": {
      "text/html": [
       "Syncing run <strong><a href='https://wandb.ai/ahmadjaved97/gru/runs/b86tfez6' target=\"_blank\">test_2</a></strong> to <a href='https://wandb.ai/ahmadjaved97/gru' target=\"_blank\">Weights & Biases</a> (<a href='https://wandb.me/developer-guide' target=\"_blank\">docs</a>)<br/>"
      ],
      "text/plain": [
       "<IPython.core.display.HTML object>"
      ]
     },
     "metadata": {},
     "output_type": "display_data"
    },
    {
     "data": {
      "text/html": [
       " View project at <a href='https://wandb.ai/ahmadjaved97/gru' target=\"_blank\">https://wandb.ai/ahmadjaved97/gru</a>"
      ],
      "text/plain": [
       "<IPython.core.display.HTML object>"
      ]
     },
     "metadata": {},
     "output_type": "display_data"
    },
    {
     "data": {
      "text/html": [
       " View run at <a href='https://wandb.ai/ahmadjaved97/gru/runs/b86tfez6' target=\"_blank\">https://wandb.ai/ahmadjaved97/gru/runs/b86tfez6</a>"
      ],
      "text/plain": [
       "<IPython.core.display.HTML object>"
      ]
     },
     "metadata": {},
     "output_type": "display_data"
    },
    {
     "name": "stderr",
     "output_type": "stream",
     "text": [
      "  1%|▌                                                      | 1/100 [00:11<18:28, 11.20s/it]"
     ]
    },
    {
     "name": "stdout",
     "output_type": "stream",
     "text": [
      "Epoch 1/100\n",
      "Train Loss: 1.7939, Train Accuracy: 0.1336\n",
      "Eval Loss: 1.7268, Eval Accuracy: 0.3333\n",
      "Learning Rate: 0.001000\n"
     ]
    },
    {
     "name": "stderr",
     "output_type": "stream",
     "text": [
      "  2%|█                                                      | 2/100 [00:22<17:59, 11.02s/it]"
     ]
    },
    {
     "name": "stdout",
     "output_type": "stream",
     "text": [
      "Epoch 2/100\n",
      "Train Loss: 1.4071, Train Accuracy: 0.3027\n",
      "Eval Loss: 1.2041, Eval Accuracy: 0.3167\n",
      "Learning Rate: 0.001000\n"
     ]
    },
    {
     "name": "stderr",
     "output_type": "stream",
     "text": [
      "  3%|█▋                                                     | 3/100 [00:33<17:45, 10.98s/it]"
     ]
    },
    {
     "name": "stdout",
     "output_type": "stream",
     "text": [
      "Epoch 3/100\n",
      "Train Loss: 1.2237, Train Accuracy: 0.3027\n",
      "Eval Loss: 1.2499, Eval Accuracy: 0.2833\n",
      "Learning Rate: 0.001000\n"
     ]
    },
    {
     "name": "stderr",
     "output_type": "stream",
     "text": [
      "  4%|██▏                                                    | 4/100 [00:43<17:30, 10.94s/it]"
     ]
    },
    {
     "name": "stdout",
     "output_type": "stream",
     "text": [
      "Epoch 4/100\n",
      "Train Loss: 1.2006, Train Accuracy: 0.3820\n",
      "Eval Loss: 1.1821, Eval Accuracy: 0.4417\n",
      "Learning Rate: 0.001000\n"
     ]
    },
    {
     "name": "stderr",
     "output_type": "stream",
     "text": [
      "  5%|██▊                                                    | 5/100 [00:54<17:16, 10.91s/it]"
     ]
    },
    {
     "name": "stdout",
     "output_type": "stream",
     "text": [
      "Epoch 5/100\n",
      "Train Loss: 1.1139, Train Accuracy: 0.3967\n",
      "Eval Loss: 1.0885, Eval Accuracy: 0.4333\n",
      "Learning Rate: 0.001000\n"
     ]
    },
    {
     "name": "stderr",
     "output_type": "stream",
     "text": [
      "  6%|███▎                                                   | 6/100 [01:05<17:02, 10.88s/it]"
     ]
    },
    {
     "name": "stdout",
     "output_type": "stream",
     "text": [
      "Epoch 6/100\n",
      "Train Loss: 1.0586, Train Accuracy: 0.4551\n",
      "Eval Loss: 1.0279, Eval Accuracy: 0.4750\n",
      "Learning Rate: 0.000500\n"
     ]
    },
    {
     "name": "stderr",
     "output_type": "stream",
     "text": [
      "  7%|███▊                                                   | 7/100 [01:16<16:50, 10.87s/it]"
     ]
    },
    {
     "name": "stdout",
     "output_type": "stream",
     "text": [
      "Epoch 7/100\n",
      "Train Loss: 0.9808, Train Accuracy: 0.4990\n",
      "Eval Loss: 0.9668, Eval Accuracy: 0.5417\n",
      "Learning Rate: 0.000500\n"
     ]
    },
    {
     "name": "stderr",
     "output_type": "stream",
     "text": [
      "  8%|████▍                                                  | 8/100 [01:27<16:41, 10.88s/it]"
     ]
    },
    {
     "name": "stdout",
     "output_type": "stream",
     "text": [
      "Epoch 8/100\n",
      "Train Loss: 0.9167, Train Accuracy: 0.5595\n",
      "Eval Loss: 0.9569, Eval Accuracy: 0.5417\n",
      "Learning Rate: 0.000500\n"
     ]
    },
    {
     "name": "stderr",
     "output_type": "stream",
     "text": [
      "  9%|████▉                                                  | 9/100 [01:38<16:27, 10.86s/it]"
     ]
    },
    {
     "name": "stdout",
     "output_type": "stream",
     "text": [
      "Epoch 9/100\n",
      "Train Loss: 0.8527, Train Accuracy: 0.5929\n",
      "Eval Loss: 0.9674, Eval Accuracy: 0.6250\n",
      "Learning Rate: 0.000500\n"
     ]
    },
    {
     "name": "stderr",
     "output_type": "stream",
     "text": [
      " 10%|█████▍                                                | 10/100 [01:48<16:15, 10.84s/it]"
     ]
    },
    {
     "name": "stdout",
     "output_type": "stream",
     "text": [
      "Epoch 10/100\n",
      "Train Loss: 0.7963, Train Accuracy: 0.6096\n",
      "Eval Loss: 1.0000, Eval Accuracy: 0.5667\n",
      "Learning Rate: 0.000500\n"
     ]
    },
    {
     "name": "stderr",
     "output_type": "stream",
     "text": [
      " 11%|█████▉                                                | 11/100 [01:59<16:04, 10.84s/it]"
     ]
    },
    {
     "name": "stdout",
     "output_type": "stream",
     "text": [
      "Epoch 11/100\n",
      "Train Loss: 0.7676, Train Accuracy: 0.6451\n",
      "Eval Loss: 0.9488, Eval Accuracy: 0.5500\n",
      "Learning Rate: 0.000250\n"
     ]
    },
    {
     "name": "stderr",
     "output_type": "stream",
     "text": [
      " 12%|██████▍                                               | 12/100 [02:10<15:54, 10.84s/it]"
     ]
    },
    {
     "name": "stdout",
     "output_type": "stream",
     "text": [
      "Epoch 12/100\n",
      "Train Loss: 0.7110, Train Accuracy: 0.6514\n",
      "Eval Loss: 0.9569, Eval Accuracy: 0.5917\n",
      "Learning Rate: 0.000250\n"
     ]
    },
    {
     "name": "stderr",
     "output_type": "stream",
     "text": [
      " 13%|███████                                               | 13/100 [02:21<15:40, 10.81s/it]"
     ]
    },
    {
     "name": "stdout",
     "output_type": "stream",
     "text": [
      "Epoch 13/100\n",
      "Train Loss: 0.6912, Train Accuracy: 0.6409\n",
      "Eval Loss: 0.9072, Eval Accuracy: 0.6083\n",
      "Learning Rate: 0.000250\n"
     ]
    },
    {
     "name": "stderr",
     "output_type": "stream",
     "text": [
      " 14%|███████▌                                              | 14/100 [02:32<15:31, 10.83s/it]"
     ]
    },
    {
     "name": "stdout",
     "output_type": "stream",
     "text": [
      "Epoch 14/100\n",
      "Train Loss: 0.6663, Train Accuracy: 0.6848\n",
      "Eval Loss: 0.9569, Eval Accuracy: 0.6083\n",
      "Learning Rate: 0.000250\n"
     ]
    },
    {
     "name": "stderr",
     "output_type": "stream",
     "text": [
      " 15%|████████                                              | 15/100 [02:43<15:26, 10.90s/it]"
     ]
    },
    {
     "name": "stdout",
     "output_type": "stream",
     "text": [
      "Epoch 15/100\n",
      "Train Loss: 0.6549, Train Accuracy: 0.6534\n",
      "Eval Loss: 1.0029, Eval Accuracy: 0.6083\n",
      "Learning Rate: 0.000250\n"
     ]
    },
    {
     "name": "stderr",
     "output_type": "stream",
     "text": [
      " 16%|████████▋                                             | 16/100 [02:54<15:12, 10.87s/it]"
     ]
    },
    {
     "name": "stdout",
     "output_type": "stream",
     "text": [
      "Epoch 16/100\n",
      "Train Loss: 0.6171, Train Accuracy: 0.7161\n",
      "Eval Loss: 1.0278, Eval Accuracy: 0.6083\n",
      "Learning Rate: 0.000125\n"
     ]
    },
    {
     "name": "stderr",
     "output_type": "stream",
     "text": [
      " 17%|█████████▏                                            | 17/100 [03:04<15:02, 10.87s/it]"
     ]
    },
    {
     "name": "stdout",
     "output_type": "stream",
     "text": [
      "Epoch 17/100\n",
      "Train Loss: 0.5878, Train Accuracy: 0.7307\n",
      "Eval Loss: 1.0297, Eval Accuracy: 0.6250\n",
      "Learning Rate: 0.000125\n"
     ]
    },
    {
     "name": "stderr",
     "output_type": "stream",
     "text": [
      " 18%|█████████▋                                            | 18/100 [03:15<14:53, 10.89s/it]"
     ]
    },
    {
     "name": "stdout",
     "output_type": "stream",
     "text": [
      "Epoch 18/100\n",
      "Train Loss: 0.5714, Train Accuracy: 0.7495\n",
      "Eval Loss: 1.0347, Eval Accuracy: 0.6333\n",
      "Learning Rate: 0.000125\n"
     ]
    },
    {
     "name": "stderr",
     "output_type": "stream",
     "text": [
      " 19%|██████████▎                                           | 19/100 [03:26<14:40, 10.87s/it]"
     ]
    },
    {
     "name": "stdout",
     "output_type": "stream",
     "text": [
      "Epoch 19/100\n",
      "Train Loss: 0.5661, Train Accuracy: 0.7578\n",
      "Eval Loss: 0.9421, Eval Accuracy: 0.6250\n",
      "Learning Rate: 0.000125\n"
     ]
    },
    {
     "name": "stderr",
     "output_type": "stream",
     "text": [
      " 20%|██████████▊                                           | 20/100 [03:37<14:26, 10.83s/it]"
     ]
    },
    {
     "name": "stdout",
     "output_type": "stream",
     "text": [
      "Epoch 20/100\n",
      "Train Loss: 0.5456, Train Accuracy: 0.7766\n",
      "Eval Loss: 0.9753, Eval Accuracy: 0.6417\n",
      "Learning Rate: 0.000125\n"
     ]
    },
    {
     "name": "stderr",
     "output_type": "stream",
     "text": [
      " 21%|███████████▎                                          | 21/100 [03:48<14:14, 10.82s/it]"
     ]
    },
    {
     "name": "stdout",
     "output_type": "stream",
     "text": [
      "Epoch 21/100\n",
      "Train Loss: 0.5287, Train Accuracy: 0.7557\n",
      "Eval Loss: 0.9458, Eval Accuracy: 0.6333\n",
      "Learning Rate: 0.000063\n"
     ]
    },
    {
     "name": "stderr",
     "output_type": "stream",
     "text": [
      " 22%|███████████▉                                          | 22/100 [03:59<14:03, 10.82s/it]"
     ]
    },
    {
     "name": "stdout",
     "output_type": "stream",
     "text": [
      "Epoch 22/100\n",
      "Train Loss: 0.5124, Train Accuracy: 0.7912\n",
      "Eval Loss: 0.9425, Eval Accuracy: 0.6667\n",
      "Learning Rate: 0.000063\n"
     ]
    },
    {
     "name": "stderr",
     "output_type": "stream",
     "text": [
      " 23%|████████████▍                                         | 23/100 [04:09<13:53, 10.82s/it]"
     ]
    },
    {
     "name": "stdout",
     "output_type": "stream",
     "text": [
      "Epoch 23/100\n",
      "Train Loss: 0.4986, Train Accuracy: 0.8079\n",
      "Eval Loss: 0.9637, Eval Accuracy: 0.6417\n",
      "Learning Rate: 0.000063\n"
     ]
    },
    {
     "name": "stderr",
     "output_type": "stream",
     "text": [
      " 24%|████████████▉                                         | 24/100 [04:20<13:39, 10.78s/it]"
     ]
    },
    {
     "name": "stdout",
     "output_type": "stream",
     "text": [
      "Epoch 24/100\n",
      "Train Loss: 0.4896, Train Accuracy: 0.8163\n",
      "Eval Loss: 0.9945, Eval Accuracy: 0.6333\n",
      "Learning Rate: 0.000063\n"
     ]
    },
    {
     "name": "stderr",
     "output_type": "stream",
     "text": [
      " 25%|█████████████▌                                        | 25/100 [04:31<13:28, 10.79s/it]"
     ]
    },
    {
     "name": "stdout",
     "output_type": "stream",
     "text": [
      "Epoch 25/100\n",
      "Train Loss: 0.4848, Train Accuracy: 0.8142\n",
      "Eval Loss: 0.9129, Eval Accuracy: 0.6417\n",
      "Learning Rate: 0.000063\n"
     ]
    },
    {
     "name": "stderr",
     "output_type": "stream",
     "text": [
      " 26%|██████████████                                        | 26/100 [04:42<13:16, 10.76s/it]"
     ]
    },
    {
     "name": "stdout",
     "output_type": "stream",
     "text": [
      "Epoch 26/100\n",
      "Train Loss: 0.4760, Train Accuracy: 0.8330\n",
      "Eval Loss: 0.9263, Eval Accuracy: 0.6417\n",
      "Learning Rate: 0.000031\n"
     ]
    },
    {
     "name": "stderr",
     "output_type": "stream",
     "text": [
      " 27%|██████████████▌                                       | 27/100 [04:52<13:03, 10.74s/it]"
     ]
    },
    {
     "name": "stdout",
     "output_type": "stream",
     "text": [
      "Epoch 27/100\n",
      "Train Loss: 0.4735, Train Accuracy: 0.8267\n",
      "Eval Loss: 0.9520, Eval Accuracy: 0.6417\n",
      "Learning Rate: 0.000031\n"
     ]
    },
    {
     "name": "stderr",
     "output_type": "stream",
     "text": [
      " 28%|███████████████                                       | 28/100 [05:03<12:56, 10.79s/it]"
     ]
    },
    {
     "name": "stdout",
     "output_type": "stream",
     "text": [
      "Epoch 28/100\n",
      "Train Loss: 0.4648, Train Accuracy: 0.8497\n",
      "Eval Loss: 0.9904, Eval Accuracy: 0.6333\n",
      "Learning Rate: 0.000031\n"
     ]
    },
    {
     "name": "stderr",
     "output_type": "stream",
     "text": [
      " 29%|███████████████▋                                      | 29/100 [05:14<12:48, 10.83s/it]"
     ]
    },
    {
     "name": "stdout",
     "output_type": "stream",
     "text": [
      "Epoch 29/100\n",
      "Train Loss: 0.4637, Train Accuracy: 0.8413\n",
      "Eval Loss: 0.9830, Eval Accuracy: 0.6333\n",
      "Learning Rate: 0.000031\n"
     ]
    },
    {
     "name": "stderr",
     "output_type": "stream",
     "text": [
      " 30%|████████████████▏                                     | 30/100 [05:25<12:38, 10.84s/it]"
     ]
    },
    {
     "name": "stdout",
     "output_type": "stream",
     "text": [
      "Epoch 30/100\n",
      "Train Loss: 0.4615, Train Accuracy: 0.8413\n",
      "Eval Loss: 0.9519, Eval Accuracy: 0.6417\n",
      "Learning Rate: 0.000031\n"
     ]
    },
    {
     "name": "stderr",
     "output_type": "stream",
     "text": [
      " 31%|████████████████▋                                     | 31/100 [05:36<12:27, 10.83s/it]"
     ]
    },
    {
     "name": "stdout",
     "output_type": "stream",
     "text": [
      "Epoch 31/100\n",
      "Train Loss: 0.4558, Train Accuracy: 0.8413\n",
      "Eval Loss: 0.9660, Eval Accuracy: 0.6500\n",
      "Learning Rate: 0.000016\n"
     ]
    },
    {
     "name": "stderr",
     "output_type": "stream",
     "text": [
      " 32%|█████████████████▎                                    | 32/100 [05:47<12:16, 10.83s/it]"
     ]
    },
    {
     "name": "stdout",
     "output_type": "stream",
     "text": [
      "Epoch 32/100\n",
      "Train Loss: 0.4500, Train Accuracy: 0.8476\n",
      "Eval Loss: 0.9663, Eval Accuracy: 0.6417\n",
      "Learning Rate: 0.000016\n"
     ]
    },
    {
     "name": "stderr",
     "output_type": "stream",
     "text": [
      " 33%|█████████████████▊                                    | 33/100 [05:58<12:08, 10.87s/it]"
     ]
    },
    {
     "name": "stdout",
     "output_type": "stream",
     "text": [
      "Epoch 33/100\n",
      "Train Loss: 0.4482, Train Accuracy: 0.8476\n",
      "Eval Loss: 0.9691, Eval Accuracy: 0.6500\n",
      "Learning Rate: 0.000016\n"
     ]
    },
    {
     "name": "stderr",
     "output_type": "stream",
     "text": [
      " 34%|██████████████████▎                                   | 34/100 [06:08<11:54, 10.83s/it]"
     ]
    },
    {
     "name": "stdout",
     "output_type": "stream",
     "text": [
      "Epoch 34/100\n",
      "Train Loss: 0.4455, Train Accuracy: 0.8518\n",
      "Eval Loss: 0.9687, Eval Accuracy: 0.6500\n",
      "Learning Rate: 0.000016\n"
     ]
    },
    {
     "name": "stderr",
     "output_type": "stream",
     "text": [
      " 35%|██████████████████▉                                   | 35/100 [06:19<11:47, 10.89s/it]"
     ]
    },
    {
     "name": "stdout",
     "output_type": "stream",
     "text": [
      "Epoch 35/100\n",
      "Train Loss: 0.4403, Train Accuracy: 0.8518\n",
      "Eval Loss: 0.9759, Eval Accuracy: 0.6500\n",
      "Learning Rate: 0.000016\n"
     ]
    },
    {
     "name": "stderr",
     "output_type": "stream",
     "text": [
      " 36%|███████████████████▍                                  | 36/100 [06:30<11:35, 10.87s/it]"
     ]
    },
    {
     "name": "stdout",
     "output_type": "stream",
     "text": [
      "Epoch 36/100\n",
      "Train Loss: 0.4388, Train Accuracy: 0.8476\n",
      "Eval Loss: 0.9682, Eval Accuracy: 0.6500\n",
      "Learning Rate: 0.000008\n"
     ]
    },
    {
     "name": "stderr",
     "output_type": "stream",
     "text": [
      " 37%|███████████████████▉                                  | 37/100 [06:41<11:24, 10.87s/it]"
     ]
    },
    {
     "name": "stdout",
     "output_type": "stream",
     "text": [
      "Epoch 37/100\n",
      "Train Loss: 0.4401, Train Accuracy: 0.8601\n",
      "Eval Loss: 0.9604, Eval Accuracy: 0.6500\n",
      "Learning Rate: 0.000008\n"
     ]
    },
    {
     "name": "stderr",
     "output_type": "stream",
     "text": [
      " 38%|████████████████████▌                                 | 38/100 [06:52<11:13, 10.86s/it]"
     ]
    },
    {
     "name": "stdout",
     "output_type": "stream",
     "text": [
      "Epoch 38/100\n",
      "Train Loss: 0.4397, Train Accuracy: 0.8580\n",
      "Eval Loss: 0.9831, Eval Accuracy: 0.6417\n",
      "Learning Rate: 0.000008\n"
     ]
    },
    {
     "name": "stderr",
     "output_type": "stream",
     "text": [
      " 39%|█████████████████████                                 | 39/100 [07:03<11:05, 10.91s/it]"
     ]
    },
    {
     "name": "stdout",
     "output_type": "stream",
     "text": [
      "Epoch 39/100\n",
      "Train Loss: 0.4390, Train Accuracy: 0.8455\n",
      "Eval Loss: 0.9663, Eval Accuracy: 0.6417\n",
      "Learning Rate: 0.000008\n"
     ]
    },
    {
     "name": "stderr",
     "output_type": "stream",
     "text": [
      " 40%|█████████████████████▌                                | 40/100 [07:14<10:52, 10.88s/it]"
     ]
    },
    {
     "name": "stdout",
     "output_type": "stream",
     "text": [
      "Epoch 40/100\n",
      "Train Loss: 0.4388, Train Accuracy: 0.8539\n",
      "Eval Loss: 0.9455, Eval Accuracy: 0.6500\n",
      "Learning Rate: 0.000008\n"
     ]
    },
    {
     "name": "stderr",
     "output_type": "stream",
     "text": [
      " 41%|██████████████████████▏                               | 41/100 [07:25<10:45, 10.93s/it]"
     ]
    },
    {
     "name": "stdout",
     "output_type": "stream",
     "text": [
      "Epoch 41/100\n",
      "Train Loss: 0.4320, Train Accuracy: 0.8706\n",
      "Eval Loss: 0.9553, Eval Accuracy: 0.6417\n",
      "Learning Rate: 0.000004\n"
     ]
    },
    {
     "name": "stderr",
     "output_type": "stream",
     "text": [
      " 42%|██████████████████████▋                               | 42/100 [07:36<10:35, 10.95s/it]"
     ]
    },
    {
     "name": "stdout",
     "output_type": "stream",
     "text": [
      "Epoch 42/100\n",
      "Train Loss: 0.4346, Train Accuracy: 0.8476\n",
      "Eval Loss: 0.9584, Eval Accuracy: 0.6417\n",
      "Learning Rate: 0.000004\n"
     ]
    },
    {
     "name": "stderr",
     "output_type": "stream",
     "text": [
      " 43%|███████████████████████▏                              | 43/100 [07:47<10:21, 10.91s/it]"
     ]
    },
    {
     "name": "stdout",
     "output_type": "stream",
     "text": [
      "Epoch 43/100\n",
      "Train Loss: 0.4348, Train Accuracy: 0.8601\n",
      "Eval Loss: 0.9804, Eval Accuracy: 0.6333\n",
      "Learning Rate: 0.000004\n"
     ]
    },
    {
     "name": "stderr",
     "output_type": "stream",
     "text": [
      " 44%|███████████████████████▊                              | 44/100 [07:57<10:10, 10.90s/it]"
     ]
    },
    {
     "name": "stdout",
     "output_type": "stream",
     "text": [
      "Epoch 44/100\n",
      "Train Loss: 0.4364, Train Accuracy: 0.8643\n",
      "Eval Loss: 0.9531, Eval Accuracy: 0.6333\n",
      "Learning Rate: 0.000004\n"
     ]
    },
    {
     "name": "stderr",
     "output_type": "stream",
     "text": [
      " 45%|████████████████████████▎                             | 45/100 [08:08<09:59, 10.90s/it]"
     ]
    },
    {
     "name": "stdout",
     "output_type": "stream",
     "text": [
      "Epoch 45/100\n",
      "Train Loss: 0.4299, Train Accuracy: 0.8539\n",
      "Eval Loss: 0.9641, Eval Accuracy: 0.6417\n",
      "Learning Rate: 0.000004\n"
     ]
    },
    {
     "name": "stderr",
     "output_type": "stream",
     "text": [
      " 46%|████████████████████████▊                             | 46/100 [08:19<09:49, 10.91s/it]"
     ]
    },
    {
     "name": "stdout",
     "output_type": "stream",
     "text": [
      "Epoch 46/100\n",
      "Train Loss: 0.4273, Train Accuracy: 0.8768\n",
      "Eval Loss: 0.9030, Eval Accuracy: 0.6667\n",
      "Learning Rate: 0.000002\n"
     ]
    },
    {
     "name": "stderr",
     "output_type": "stream",
     "text": [
      " 47%|█████████████████████████▍                            | 47/100 [08:31<09:51, 11.16s/it]"
     ]
    },
    {
     "name": "stdout",
     "output_type": "stream",
     "text": [
      "Epoch 47/100\n",
      "Train Loss: 0.4323, Train Accuracy: 0.8601\n",
      "Eval Loss: 0.9504, Eval Accuracy: 0.6417\n",
      "Learning Rate: 0.000002\n"
     ]
    },
    {
     "name": "stderr",
     "output_type": "stream",
     "text": [
      " 48%|█████████████████████████▉                            | 48/100 [08:42<09:33, 11.03s/it]"
     ]
    },
    {
     "name": "stdout",
     "output_type": "stream",
     "text": [
      "Epoch 48/100\n",
      "Train Loss: 0.4322, Train Accuracy: 0.8559\n",
      "Eval Loss: 0.9629, Eval Accuracy: 0.6417\n",
      "Learning Rate: 0.000002\n"
     ]
    },
    {
     "name": "stderr",
     "output_type": "stream",
     "text": [
      " 49%|██████████████████████████▍                           | 49/100 [08:53<09:20, 10.99s/it]"
     ]
    },
    {
     "name": "stdout",
     "output_type": "stream",
     "text": [
      "Epoch 49/100\n",
      "Train Loss: 0.4336, Train Accuracy: 0.8622\n",
      "Eval Loss: 1.0011, Eval Accuracy: 0.6417\n",
      "Learning Rate: 0.000002\n"
     ]
    },
    {
     "name": "stderr",
     "output_type": "stream",
     "text": [
      " 50%|███████████████████████████                           | 50/100 [09:04<09:15, 11.10s/it]"
     ]
    },
    {
     "name": "stdout",
     "output_type": "stream",
     "text": [
      "Epoch 50/100\n",
      "Train Loss: 0.4279, Train Accuracy: 0.8664\n",
      "Eval Loss: 0.9740, Eval Accuracy: 0.6500\n",
      "Learning Rate: 0.000002\n"
     ]
    },
    {
     "name": "stderr",
     "output_type": "stream",
     "text": [
      " 51%|███████████████████████████▌                          | 51/100 [09:15<08:59, 11.01s/it]"
     ]
    },
    {
     "name": "stdout",
     "output_type": "stream",
     "text": [
      "Epoch 51/100\n",
      "Train Loss: 0.4345, Train Accuracy: 0.8601\n",
      "Eval Loss: 0.9242, Eval Accuracy: 0.6500\n",
      "Learning Rate: 0.000001\n"
     ]
    },
    {
     "name": "stderr",
     "output_type": "stream",
     "text": [
      " 52%|████████████████████████████                          | 52/100 [09:26<08:46, 10.97s/it]"
     ]
    },
    {
     "name": "stdout",
     "output_type": "stream",
     "text": [
      "Epoch 52/100\n",
      "Train Loss: 0.4290, Train Accuracy: 0.8664\n",
      "Eval Loss: 0.9408, Eval Accuracy: 0.6333\n",
      "Learning Rate: 0.000001\n"
     ]
    },
    {
     "name": "stderr",
     "output_type": "stream",
     "text": [
      " 53%|████████████████████████████▌                         | 53/100 [09:36<08:33, 10.92s/it]"
     ]
    },
    {
     "name": "stdout",
     "output_type": "stream",
     "text": [
      "Epoch 53/100\n",
      "Train Loss: 0.4310, Train Accuracy: 0.8747\n",
      "Eval Loss: 0.9447, Eval Accuracy: 0.6417\n",
      "Learning Rate: 0.000001\n"
     ]
    },
    {
     "name": "stderr",
     "output_type": "stream",
     "text": [
      " 54%|█████████████████████████████▏                        | 54/100 [09:48<08:23, 10.95s/it]"
     ]
    },
    {
     "name": "stdout",
     "output_type": "stream",
     "text": [
      "Epoch 54/100\n",
      "Train Loss: 0.4288, Train Accuracy: 0.8727\n",
      "Eval Loss: 0.9514, Eval Accuracy: 0.6417\n",
      "Learning Rate: 0.000001\n"
     ]
    },
    {
     "name": "stderr",
     "output_type": "stream",
     "text": [
      " 55%|█████████████████████████████▋                        | 55/100 [09:59<08:15, 11.00s/it]"
     ]
    },
    {
     "name": "stdout",
     "output_type": "stream",
     "text": [
      "Epoch 55/100\n",
      "Train Loss: 0.4329, Train Accuracy: 0.8601\n",
      "Eval Loss: 0.9131, Eval Accuracy: 0.6417\n",
      "Learning Rate: 0.000001\n"
     ]
    },
    {
     "name": "stderr",
     "output_type": "stream",
     "text": [
      " 56%|██████████████████████████████▏                       | 56/100 [10:10<08:04, 11.00s/it]"
     ]
    },
    {
     "name": "stdout",
     "output_type": "stream",
     "text": [
      "Epoch 56/100\n",
      "Train Loss: 0.4300, Train Accuracy: 0.8685\n",
      "Eval Loss: 0.9367, Eval Accuracy: 0.6500\n",
      "Learning Rate: 0.000000\n"
     ]
    },
    {
     "name": "stderr",
     "output_type": "stream",
     "text": [
      " 57%|██████████████████████████████▊                       | 57/100 [10:21<07:53, 11.02s/it]"
     ]
    },
    {
     "name": "stdout",
     "output_type": "stream",
     "text": [
      "Epoch 57/100\n",
      "Train Loss: 0.4327, Train Accuracy: 0.8643\n",
      "Eval Loss: 0.9110, Eval Accuracy: 0.6583\n",
      "Learning Rate: 0.000000\n"
     ]
    },
    {
     "name": "stderr",
     "output_type": "stream",
     "text": [
      " 58%|███████████████████████████████▎                      | 58/100 [10:31<07:39, 10.94s/it]"
     ]
    },
    {
     "name": "stdout",
     "output_type": "stream",
     "text": [
      "Epoch 58/100\n",
      "Train Loss: 0.4295, Train Accuracy: 0.8664\n",
      "Eval Loss: 0.9507, Eval Accuracy: 0.6333\n",
      "Learning Rate: 0.000000\n"
     ]
    },
    {
     "name": "stderr",
     "output_type": "stream",
     "text": [
      " 59%|███████████████████████████████▊                      | 59/100 [10:42<07:28, 10.95s/it]"
     ]
    },
    {
     "name": "stdout",
     "output_type": "stream",
     "text": [
      "Epoch 59/100\n",
      "Train Loss: 0.4312, Train Accuracy: 0.8643\n",
      "Eval Loss: 0.9612, Eval Accuracy: 0.6500\n",
      "Learning Rate: 0.000000\n"
     ]
    },
    {
     "name": "stderr",
     "output_type": "stream",
     "text": [
      " 60%|████████████████████████████████▍                     | 60/100 [10:53<07:18, 10.95s/it]"
     ]
    },
    {
     "name": "stdout",
     "output_type": "stream",
     "text": [
      "Epoch 60/100\n",
      "Train Loss: 0.4274, Train Accuracy: 0.8476\n",
      "Eval Loss: 0.9096, Eval Accuracy: 0.6583\n",
      "Learning Rate: 0.000000\n"
     ]
    },
    {
     "name": "stderr",
     "output_type": "stream",
     "text": [
      " 61%|████████████████████████████████▉                     | 61/100 [11:04<07:06, 10.93s/it]"
     ]
    },
    {
     "name": "stdout",
     "output_type": "stream",
     "text": [
      "Epoch 61/100\n",
      "Train Loss: 0.4224, Train Accuracy: 0.8727\n",
      "Eval Loss: 0.9731, Eval Accuracy: 0.6417\n",
      "Learning Rate: 0.000000\n"
     ]
    },
    {
     "name": "stderr",
     "output_type": "stream",
     "text": [
      " 62%|█████████████████████████████████▍                    | 62/100 [11:15<06:54, 10.90s/it]"
     ]
    },
    {
     "name": "stdout",
     "output_type": "stream",
     "text": [
      "Epoch 62/100\n",
      "Train Loss: 0.4283, Train Accuracy: 0.8727\n",
      "Eval Loss: 0.9733, Eval Accuracy: 0.6500\n",
      "Learning Rate: 0.000000\n"
     ]
    },
    {
     "name": "stderr",
     "output_type": "stream",
     "text": [
      " 63%|██████████████████████████████████                    | 63/100 [11:26<06:43, 10.89s/it]"
     ]
    },
    {
     "name": "stdout",
     "output_type": "stream",
     "text": [
      "Epoch 63/100\n",
      "Train Loss: 0.4277, Train Accuracy: 0.8664\n",
      "Eval Loss: 0.9599, Eval Accuracy: 0.6417\n",
      "Learning Rate: 0.000000\n"
     ]
    },
    {
     "name": "stderr",
     "output_type": "stream",
     "text": [
      " 64%|██████████████████████████████████▌                   | 64/100 [11:37<06:33, 10.92s/it]"
     ]
    },
    {
     "name": "stdout",
     "output_type": "stream",
     "text": [
      "Epoch 64/100\n",
      "Train Loss: 0.4256, Train Accuracy: 0.8664\n",
      "Eval Loss: 0.9555, Eval Accuracy: 0.6417\n",
      "Learning Rate: 0.000000\n"
     ]
    },
    {
     "name": "stderr",
     "output_type": "stream",
     "text": [
      " 65%|███████████████████████████████████                   | 65/100 [11:48<06:21, 10.89s/it]"
     ]
    },
    {
     "name": "stdout",
     "output_type": "stream",
     "text": [
      "Epoch 65/100\n",
      "Train Loss: 0.4315, Train Accuracy: 0.8747\n",
      "Eval Loss: 0.9490, Eval Accuracy: 0.6417\n",
      "Learning Rate: 0.000000\n"
     ]
    },
    {
     "name": "stderr",
     "output_type": "stream",
     "text": [
      " 66%|███████████████████████████████████▋                  | 66/100 [11:59<06:09, 10.86s/it]"
     ]
    },
    {
     "name": "stdout",
     "output_type": "stream",
     "text": [
      "Epoch 66/100\n",
      "Train Loss: 0.4302, Train Accuracy: 0.8664\n",
      "Eval Loss: 0.9527, Eval Accuracy: 0.6333\n",
      "Learning Rate: 0.000000\n"
     ]
    },
    {
     "name": "stderr",
     "output_type": "stream",
     "text": [
      " 67%|████████████████████████████████████▏                 | 67/100 [12:09<05:58, 10.85s/it]"
     ]
    },
    {
     "name": "stdout",
     "output_type": "stream",
     "text": [
      "Epoch 67/100\n",
      "Train Loss: 0.4257, Train Accuracy: 0.8727\n",
      "Eval Loss: 0.9637, Eval Accuracy: 0.6417\n",
      "Learning Rate: 0.000000\n"
     ]
    },
    {
     "name": "stderr",
     "output_type": "stream",
     "text": [
      " 68%|████████████████████████████████████▋                 | 68/100 [12:20<05:47, 10.84s/it]"
     ]
    },
    {
     "name": "stdout",
     "output_type": "stream",
     "text": [
      "Epoch 68/100\n",
      "Train Loss: 0.4247, Train Accuracy: 0.8643\n",
      "Eval Loss: 0.9343, Eval Accuracy: 0.6500\n",
      "Learning Rate: 0.000000\n"
     ]
    },
    {
     "name": "stderr",
     "output_type": "stream",
     "text": [
      " 69%|█████████████████████████████████████▎                | 69/100 [12:31<05:36, 10.87s/it]"
     ]
    },
    {
     "name": "stdout",
     "output_type": "stream",
     "text": [
      "Epoch 69/100\n",
      "Train Loss: 0.4258, Train Accuracy: 0.8747\n",
      "Eval Loss: 0.9574, Eval Accuracy: 0.6500\n",
      "Learning Rate: 0.000000\n"
     ]
    },
    {
     "name": "stderr",
     "output_type": "stream",
     "text": [
      " 70%|█████████████████████████████████████▊                | 70/100 [12:42<05:26, 10.88s/it]"
     ]
    },
    {
     "name": "stdout",
     "output_type": "stream",
     "text": [
      "Epoch 70/100\n",
      "Train Loss: 0.4287, Train Accuracy: 0.8685\n",
      "Eval Loss: 0.9810, Eval Accuracy: 0.6500\n",
      "Learning Rate: 0.000000\n"
     ]
    },
    {
     "name": "stderr",
     "output_type": "stream",
     "text": [
      " 71%|██████████████████████████████████████▎               | 71/100 [12:53<05:16, 10.90s/it]"
     ]
    },
    {
     "name": "stdout",
     "output_type": "stream",
     "text": [
      "Epoch 71/100\n",
      "Train Loss: 0.4289, Train Accuracy: 0.8559\n",
      "Eval Loss: 0.9524, Eval Accuracy: 0.6500\n",
      "Learning Rate: 0.000000\n"
     ]
    },
    {
     "name": "stderr",
     "output_type": "stream",
     "text": [
      " 72%|██████████████████████████████████████▉               | 72/100 [13:04<05:04, 10.87s/it]"
     ]
    },
    {
     "name": "stdout",
     "output_type": "stream",
     "text": [
      "Epoch 72/100\n",
      "Train Loss: 0.4310, Train Accuracy: 0.8601\n",
      "Eval Loss: 0.9600, Eval Accuracy: 0.6500\n",
      "Learning Rate: 0.000000\n"
     ]
    },
    {
     "name": "stderr",
     "output_type": "stream",
     "text": [
      " 73%|███████████████████████████████████████▍              | 73/100 [13:15<04:54, 10.91s/it]"
     ]
    },
    {
     "name": "stdout",
     "output_type": "stream",
     "text": [
      "Epoch 73/100\n",
      "Train Loss: 0.4300, Train Accuracy: 0.8768\n",
      "Eval Loss: 0.9613, Eval Accuracy: 0.6417\n",
      "Learning Rate: 0.000000\n"
     ]
    },
    {
     "name": "stderr",
     "output_type": "stream",
     "text": [
      " 74%|███████████████████████████████████████▉              | 74/100 [13:26<04:43, 10.91s/it]"
     ]
    },
    {
     "name": "stdout",
     "output_type": "stream",
     "text": [
      "Epoch 74/100\n",
      "Train Loss: 0.4267, Train Accuracy: 0.8559\n",
      "Eval Loss: 0.9497, Eval Accuracy: 0.6417\n",
      "Learning Rate: 0.000000\n"
     ]
    },
    {
     "name": "stderr",
     "output_type": "stream",
     "text": [
      " 75%|████████████████████████████████████████▌             | 75/100 [13:36<04:31, 10.87s/it]"
     ]
    },
    {
     "name": "stdout",
     "output_type": "stream",
     "text": [
      "Epoch 75/100\n",
      "Train Loss: 0.4259, Train Accuracy: 0.8747\n",
      "Eval Loss: 0.9566, Eval Accuracy: 0.6500\n",
      "Learning Rate: 0.000000\n"
     ]
    },
    {
     "name": "stderr",
     "output_type": "stream",
     "text": [
      " 76%|█████████████████████████████████████████             | 76/100 [13:47<04:20, 10.85s/it]"
     ]
    },
    {
     "name": "stdout",
     "output_type": "stream",
     "text": [
      "Epoch 76/100\n",
      "Train Loss: 0.4261, Train Accuracy: 0.8643\n",
      "Eval Loss: 0.9446, Eval Accuracy: 0.6500\n",
      "Learning Rate: 0.000000\n"
     ]
    },
    {
     "name": "stderr",
     "output_type": "stream",
     "text": [
      " 77%|█████████████████████████████████████████▌            | 77/100 [13:58<04:09, 10.87s/it]"
     ]
    },
    {
     "name": "stdout",
     "output_type": "stream",
     "text": [
      "Epoch 77/100\n",
      "Train Loss: 0.4265, Train Accuracy: 0.8622\n",
      "Eval Loss: 0.9502, Eval Accuracy: 0.6500\n",
      "Learning Rate: 0.000000\n"
     ]
    },
    {
     "name": "stderr",
     "output_type": "stream",
     "text": [
      " 78%|██████████████████████████████████████████            | 78/100 [14:09<03:59, 10.90s/it]"
     ]
    },
    {
     "name": "stdout",
     "output_type": "stream",
     "text": [
      "Epoch 78/100\n",
      "Train Loss: 0.4304, Train Accuracy: 0.8643\n",
      "Eval Loss: 0.9263, Eval Accuracy: 0.6500\n",
      "Learning Rate: 0.000000\n"
     ]
    },
    {
     "name": "stderr",
     "output_type": "stream",
     "text": [
      " 79%|██████████████████████████████████████████▋           | 79/100 [14:20<03:49, 10.93s/it]"
     ]
    },
    {
     "name": "stdout",
     "output_type": "stream",
     "text": [
      "Epoch 79/100\n",
      "Train Loss: 0.4256, Train Accuracy: 0.8747\n",
      "Eval Loss: 0.9090, Eval Accuracy: 0.6500\n",
      "Learning Rate: 0.000000\n"
     ]
    },
    {
     "name": "stderr",
     "output_type": "stream",
     "text": [
      " 80%|███████████████████████████████████████████▏          | 80/100 [14:31<03:37, 10.90s/it]"
     ]
    },
    {
     "name": "stdout",
     "output_type": "stream",
     "text": [
      "Epoch 80/100\n",
      "Train Loss: 0.4340, Train Accuracy: 0.8622\n",
      "Eval Loss: 0.9671, Eval Accuracy: 0.6333\n",
      "Learning Rate: 0.000000\n"
     ]
    },
    {
     "name": "stderr",
     "output_type": "stream",
     "text": [
      " 81%|███████████████████████████████████████████▋          | 81/100 [14:42<03:27, 10.93s/it]"
     ]
    },
    {
     "name": "stdout",
     "output_type": "stream",
     "text": [
      "Epoch 81/100\n",
      "Train Loss: 0.4292, Train Accuracy: 0.8727\n",
      "Eval Loss: 0.9741, Eval Accuracy: 0.6417\n",
      "Learning Rate: 0.000000\n"
     ]
    },
    {
     "name": "stderr",
     "output_type": "stream",
     "text": [
      " 82%|████████████████████████████████████████████▎         | 82/100 [14:53<03:16, 10.94s/it]"
     ]
    },
    {
     "name": "stdout",
     "output_type": "stream",
     "text": [
      "Epoch 82/100\n",
      "Train Loss: 0.4317, Train Accuracy: 0.8518\n",
      "Eval Loss: 0.9532, Eval Accuracy: 0.6333\n",
      "Learning Rate: 0.000000\n"
     ]
    },
    {
     "name": "stderr",
     "output_type": "stream",
     "text": [
      " 83%|████████████████████████████████████████████▊         | 83/100 [15:04<03:05, 10.92s/it]"
     ]
    },
    {
     "name": "stdout",
     "output_type": "stream",
     "text": [
      "Epoch 83/100\n",
      "Train Loss: 0.4247, Train Accuracy: 0.8747\n",
      "Eval Loss: 0.9629, Eval Accuracy: 0.6417\n",
      "Learning Rate: 0.000000\n"
     ]
    },
    {
     "name": "stderr",
     "output_type": "stream",
     "text": [
      " 84%|█████████████████████████████████████████████▎        | 84/100 [15:15<02:54, 10.92s/it]"
     ]
    },
    {
     "name": "stdout",
     "output_type": "stream",
     "text": [
      "Epoch 84/100\n",
      "Train Loss: 0.4266, Train Accuracy: 0.8664\n",
      "Eval Loss: 0.9693, Eval Accuracy: 0.6333\n",
      "Learning Rate: 0.000000\n"
     ]
    },
    {
     "name": "stderr",
     "output_type": "stream",
     "text": [
      " 85%|█████████████████████████████████████████████▉        | 85/100 [15:26<02:43, 10.90s/it]"
     ]
    },
    {
     "name": "stdout",
     "output_type": "stream",
     "text": [
      "Epoch 85/100\n",
      "Train Loss: 0.4273, Train Accuracy: 0.8664\n",
      "Eval Loss: 0.9420, Eval Accuracy: 0.6500\n",
      "Learning Rate: 0.000000\n"
     ]
    },
    {
     "name": "stderr",
     "output_type": "stream",
     "text": [
      " 86%|██████████████████████████████████████████████▍       | 86/100 [15:37<02:32, 10.90s/it]"
     ]
    },
    {
     "name": "stdout",
     "output_type": "stream",
     "text": [
      "Epoch 86/100\n",
      "Train Loss: 0.4266, Train Accuracy: 0.8768\n",
      "Eval Loss: 0.9373, Eval Accuracy: 0.6417\n",
      "Learning Rate: 0.000000\n"
     ]
    },
    {
     "name": "stderr",
     "output_type": "stream",
     "text": [
      " 87%|██████████████████████████████████████████████▉       | 87/100 [15:47<02:21, 10.88s/it]"
     ]
    },
    {
     "name": "stdout",
     "output_type": "stream",
     "text": [
      "Epoch 87/100\n",
      "Train Loss: 0.4298, Train Accuracy: 0.8559\n",
      "Eval Loss: 0.9483, Eval Accuracy: 0.6417\n",
      "Learning Rate: 0.000000\n"
     ]
    },
    {
     "name": "stderr",
     "output_type": "stream",
     "text": [
      " 88%|███████████████████████████████████████████████▌      | 88/100 [15:58<02:10, 10.88s/it]"
     ]
    },
    {
     "name": "stdout",
     "output_type": "stream",
     "text": [
      "Epoch 88/100\n",
      "Train Loss: 0.4294, Train Accuracy: 0.8622\n",
      "Eval Loss: 0.9205, Eval Accuracy: 0.6583\n",
      "Learning Rate: 0.000000\n"
     ]
    },
    {
     "name": "stderr",
     "output_type": "stream",
     "text": [
      " 89%|████████████████████████████████████████████████      | 89/100 [16:09<01:59, 10.87s/it]"
     ]
    },
    {
     "name": "stdout",
     "output_type": "stream",
     "text": [
      "Epoch 89/100\n",
      "Train Loss: 0.4257, Train Accuracy: 0.8706\n",
      "Eval Loss: 0.9586, Eval Accuracy: 0.6500\n",
      "Learning Rate: 0.000000\n"
     ]
    },
    {
     "name": "stderr",
     "output_type": "stream",
     "text": [
      " 90%|████████████████████████████████████████████████▌     | 90/100 [16:20<01:48, 10.88s/it]"
     ]
    },
    {
     "name": "stdout",
     "output_type": "stream",
     "text": [
      "Epoch 90/100\n",
      "Train Loss: 0.4260, Train Accuracy: 0.8706\n",
      "Eval Loss: 0.9481, Eval Accuracy: 0.6333\n",
      "Learning Rate: 0.000000\n"
     ]
    },
    {
     "name": "stderr",
     "output_type": "stream",
     "text": [
      " 91%|█████████████████████████████████████████████████▏    | 91/100 [16:31<01:37, 10.86s/it]"
     ]
    },
    {
     "name": "stdout",
     "output_type": "stream",
     "text": [
      "Epoch 91/100\n",
      "Train Loss: 0.4263, Train Accuracy: 0.8706\n",
      "Eval Loss: 0.9186, Eval Accuracy: 0.6583\n",
      "Learning Rate: 0.000000\n"
     ]
    },
    {
     "name": "stderr",
     "output_type": "stream",
     "text": [
      " 92%|█████████████████████████████████████████████████▋    | 92/100 [16:42<01:27, 10.90s/it]"
     ]
    },
    {
     "name": "stdout",
     "output_type": "stream",
     "text": [
      "Epoch 92/100\n",
      "Train Loss: 0.4265, Train Accuracy: 0.8580\n",
      "Eval Loss: 0.9743, Eval Accuracy: 0.6500\n",
      "Learning Rate: 0.000000\n"
     ]
    },
    {
     "name": "stderr",
     "output_type": "stream",
     "text": [
      " 93%|██████████████████████████████████████████████████▏   | 93/100 [16:53<01:16, 10.94s/it]"
     ]
    },
    {
     "name": "stdout",
     "output_type": "stream",
     "text": [
      "Epoch 93/100\n",
      "Train Loss: 0.4294, Train Accuracy: 0.8643\n",
      "Eval Loss: 0.9526, Eval Accuracy: 0.6417\n",
      "Learning Rate: 0.000000\n"
     ]
    },
    {
     "name": "stderr",
     "output_type": "stream",
     "text": [
      " 94%|██████████████████████████████████████████████████▊   | 94/100 [17:04<01:05, 10.93s/it]"
     ]
    },
    {
     "name": "stdout",
     "output_type": "stream",
     "text": [
      "Epoch 94/100\n",
      "Train Loss: 0.4261, Train Accuracy: 0.8580\n",
      "Eval Loss: 0.9244, Eval Accuracy: 0.6250\n",
      "Learning Rate: 0.000000\n"
     ]
    },
    {
     "name": "stderr",
     "output_type": "stream",
     "text": [
      " 95%|███████████████████████████████████████████████████▎  | 95/100 [17:15<00:54, 10.97s/it]"
     ]
    },
    {
     "name": "stdout",
     "output_type": "stream",
     "text": [
      "Epoch 95/100\n",
      "Train Loss: 0.4296, Train Accuracy: 0.8685\n",
      "Eval Loss: 0.9499, Eval Accuracy: 0.6417\n",
      "Learning Rate: 0.000000\n"
     ]
    },
    {
     "name": "stderr",
     "output_type": "stream",
     "text": [
      " 96%|███████████████████████████████████████████████████▊  | 96/100 [17:26<00:44, 11.00s/it]"
     ]
    },
    {
     "name": "stdout",
     "output_type": "stream",
     "text": [
      "Epoch 96/100\n",
      "Train Loss: 0.4314, Train Accuracy: 0.8601\n",
      "Eval Loss: 0.9434, Eval Accuracy: 0.6333\n",
      "Learning Rate: 0.000000\n"
     ]
    },
    {
     "name": "stderr",
     "output_type": "stream",
     "text": [
      " 97%|████████████████████████████████████████████████████▍ | 97/100 [17:37<00:32, 10.96s/it]"
     ]
    },
    {
     "name": "stdout",
     "output_type": "stream",
     "text": [
      "Epoch 97/100\n",
      "Train Loss: 0.4310, Train Accuracy: 0.8601\n",
      "Eval Loss: 0.9302, Eval Accuracy: 0.6583\n",
      "Learning Rate: 0.000000\n"
     ]
    },
    {
     "name": "stderr",
     "output_type": "stream",
     "text": [
      " 98%|████████████████████████████████████████████████████▉ | 98/100 [17:47<00:21, 10.90s/it]"
     ]
    },
    {
     "name": "stdout",
     "output_type": "stream",
     "text": [
      "Epoch 98/100\n",
      "Train Loss: 0.4315, Train Accuracy: 0.8601\n",
      "Eval Loss: 0.9675, Eval Accuracy: 0.6417\n",
      "Learning Rate: 0.000000\n"
     ]
    },
    {
     "name": "stderr",
     "output_type": "stream",
     "text": [
      " 99%|█████████████████████████████████████████████████████▍| 99/100 [17:59<00:10, 10.97s/it]"
     ]
    },
    {
     "name": "stdout",
     "output_type": "stream",
     "text": [
      "Epoch 99/100\n",
      "Train Loss: 0.4287, Train Accuracy: 0.8622\n",
      "Eval Loss: 0.9101, Eval Accuracy: 0.6417\n",
      "Learning Rate: 0.000000\n"
     ]
    },
    {
     "name": "stderr",
     "output_type": "stream",
     "text": [
      "100%|█████████████████████████████████████████████████████| 100/100 [18:10<00:00, 10.90s/it]"
     ]
    },
    {
     "name": "stdout",
     "output_type": "stream",
     "text": [
      "Epoch 100/100\n",
      "Train Loss: 0.4270, Train Accuracy: 0.8727\n",
      "Eval Loss: 0.9676, Eval Accuracy: 0.6333\n",
      "Learning Rate: 0.000000\n"
     ]
    },
    {
     "name": "stderr",
     "output_type": "stream",
     "text": [
      "\n"
     ]
    },
    {
     "data": {
      "text/html": [
       "\n",
       "    <style>\n",
       "        .wandb-row {\n",
       "            display: flex;\n",
       "            flex-direction: row;\n",
       "            flex-wrap: wrap;\n",
       "            justify-content: flex-start;\n",
       "            width: 100%;\n",
       "        }\n",
       "        .wandb-col {\n",
       "            display: flex;\n",
       "            flex-direction: column;\n",
       "            flex-basis: 100%;\n",
       "            flex: 1;\n",
       "            padding: 10px;\n",
       "        }\n",
       "    </style>\n",
       "<div class=\"wandb-row\"><div class=\"wandb-col\"><h3>Run history:</h3><br/><table class=\"wandb\"><tr><td>epoch</td><td>▁▁▁▁▁▂▂▂▂▃▃▃▃▄▄▄▄▄▄▄▅▅▅▅▅▅▆▆▆▆▆▆▇▇▇▇████</td></tr><tr><td>eval_accuracy</td><td>▁▂▄▄▇▆▆▇▇▇▇▇▇▇▇▇█▇▇▇▇▇█▇█▇▇▇▇▇▇▇▇█▇█▇▇▇█</td></tr><tr><td>eval_loss</td><td>█▅▄▂▂▂▂▄▂▃▂▂▂▂▂▃▁▂▁▂▂▂▁▂▂▂▂▂▂▂▂▁▁▂▂▂▂▂▂▂</td></tr><tr><td>learning_rate</td><td>███▄▄▄▃▃▃▂▁▁▁▁▁▁▁▁▁▁▁▁▁▁▁▁▁▁▁▁▁▁▁▁▁▁▁▁▁▁</td></tr><tr><td>train_accuracy</td><td>▁▂▃▄▅▆▆▆▇▆▇▇█▇▇█████████████████████████</td></tr><tr><td>train_loss</td><td>█▅▂▂▂▁▁▁▁▁▁▁▁▁▁▁▁▁▁▁▁▁▁▁▁▁▁▁▁▁▁▁▁▁▁▁▁▁▁▁</td></tr></table><br/></div><div class=\"wandb-col\"><h3>Run summary:</h3><br/><table class=\"wandb\"><tr><td>epoch</td><td>100</td></tr><tr><td>eval_accuracy</td><td>0.63333</td></tr><tr><td>eval_loss</td><td>0.96763</td></tr><tr><td>learning_rate</td><td>0.0</td></tr><tr><td>train_accuracy</td><td>0.87265</td></tr><tr><td>train_loss</td><td>0.427</td></tr></table><br/></div></div>"
      ],
      "text/plain": [
       "<IPython.core.display.HTML object>"
      ]
     },
     "metadata": {},
     "output_type": "display_data"
    },
    {
     "data": {
      "text/html": [
       " View run <strong style=\"color:#cdcd00\">test_2</strong> at: <a href='https://wandb.ai/ahmadjaved97/gru/runs/b86tfez6' target=\"_blank\">https://wandb.ai/ahmadjaved97/gru/runs/b86tfez6</a><br/> View project at: <a href='https://wandb.ai/ahmadjaved97/gru' target=\"_blank\">https://wandb.ai/ahmadjaved97/gru</a><br/>Synced 5 W&B file(s), 0 media file(s), 0 artifact file(s) and 0 other file(s)"
      ],
      "text/plain": [
       "<IPython.core.display.HTML object>"
      ]
     },
     "metadata": {},
     "output_type": "display_data"
    },
    {
     "data": {
      "text/html": [
       "Find logs at: <code>./wandb/run-20241129_153532-b86tfez6/logs</code>"
      ],
      "text/plain": [
       "<IPython.core.display.HTML object>"
      ]
     },
     "metadata": {},
     "output_type": "display_data"
    }
   ],
   "source": [
    "# Loss function\n",
    "criterion = nn.CrossEntropyLoss()\n",
    "\n",
    "# Hyperparameters\n",
    "num_epochs = 100\n",
    "learning_rate = 0.001\n",
    "step_size = 5\n",
    "gamma = 0.5\n",
    "\n",
    "# Run training\n",
    "model, train_losses, train_accuracies, eval_losses, eval_accuracies, learning_rates = run_training(\n",
    "    model, train_loader, val_loader, criterion, device,\n",
    "    num_epochs, learning_rate, step_size, gamma, name='test_2', project='gru'\n",
    ")"
   ]
  },
  {
   "cell_type": "code",
   "execution_count": 14,
   "id": "a288d592-38ba-483b-b70c-922a24e8cb5a",
   "metadata": {},
   "outputs": [],
   "source": [
    "def plot_confusion_matrix(y_true, y_pred, label_names, model_name):\n",
    "    \"\"\"\n",
    "    Plots confusion matrix for a given model.\n",
    "\n",
    "    Args:\n",
    "        y_true (numpy.ndarray): True labels.\n",
    "        y_pred (numpy.ndarray): Predicted labels.\n",
    "        label_names (list): List of class names.\n",
    "        model_name (str): The name of the model to display in the plot title.\n",
    "    \"\"\"\n",
    "    cm = confusion_matrix(y_true, y_pred)\n",
    "    plt.figure(figsize=(6, 4))\n",
    "    sns.heatmap(cm, annot=True, fmt='d', cmap='Blues', \n",
    "                xticklabels=label_names, yticklabels=label_names, linewidths=1)\n",
    "    plt.xlabel('Predicted Label')\n",
    "    plt.ylabel('True Label')\n",
    "    plt.title(f'Confusion Matrix for {model_name}')\n",
    "    plt.xticks(rotation=45)\n",
    "    plt.yticks(rotation=0)\n",
    "    plt.tight_layout()\n",
    "    plt.show()"
   ]
  },
  {
   "cell_type": "code",
   "execution_count": 15,
   "id": "3b50a6c6-419b-4939-995a-475001606e3f",
   "metadata": {},
   "outputs": [
    {
     "data": {
      "image/png": "[encoded data removed]",
      "text/plain": [
       "<Figure size 600x400 with 2 Axes>"
      ]
     },
     "metadata": {},
     "output_type": "display_data"
    }
   ],
   "source": [
    "# Function to evaluate model and compute predictions\n",
    "def evaluate_model(model, dataloader, device=\"cuda\"):\n",
    "    model.eval()\n",
    "    all_preds = []\n",
    "    all_labels = []\n",
    "\n",
    "    with torch.no_grad():\n",
    "        for sequences, labels in dataloader:\n",
    "            # Reshape and move to device\n",
    "            sequences = sequences.to(device)\n",
    "            labels = labels.to(device)\n",
    "\n",
    "            # Get predictions\n",
    "            outputs = model(sequences)\n",
    "            preds = torch.argmax(outputs, dim=1)\n",
    "\n",
    "            # Store predictions and labels\n",
    "            all_preds.extend(preds.cpu().numpy())\n",
    "            all_labels.extend(labels.cpu().numpy())\n",
    "\n",
    "    return np.array(all_labels), np.array(all_preds)\n",
    "\n",
    "# Use the function to get results\n",
    "y_true, y_pred = evaluate_model(model, val_loader)\n",
    "\n",
    "# Class label names\n",
    "label_names = ['boxing','handclapping', 'handwaving', 'jogging', 'running', 'walking']\n",
    "\n",
    "# Plot confusion matrix\n",
    "plot_confusion_matrix(y_true, y_pred, label_names, model_name=\"ActionRecognitionModel\")"
   ]
  },
  {
   "cell_type": "code",
   "execution_count": null,
   "id": "27365d4d-4c83-4546-9e99-c0a2cbbd305a",
   "metadata": {},
   "outputs": [],
   "source": []
  },
  {
   "cell_type": "code",
   "execution_count": null,
   "id": "be270341-bad9-4480-9360-a9f2fa67a0f4",
   "metadata": {},
   "outputs": [],
   "source": []
  },
  {
   "cell_type": "code",
   "execution_count": 12,
   "id": "61a6e6c3-a895-49af-af14-d71bd07423dd",
   "metadata": {},
   "outputs": [],
   "source": [
    "class ComplexActionRecognitionModel(nn.Module):\n",
    "    def __init__(self, sequence_length, input_dim=64*64, num_classes=6):\n",
    "        super(ComplexActionRecognitionModel, self).__init__()\n",
    "        self.sequence_length = sequence_length\n",
    "\n",
    "        # Convolutional Encoder\n",
    "        self.encoder = nn.Sequential(\n",
    "            # Block 1\n",
    "            nn.Conv2d(1, 64, kernel_size=3, stride=1, padding=1),  # Output: (64, 64, 64)\n",
    "            nn.BatchNorm2d(64),\n",
    "            nn.ReLU(),\n",
    "            nn.Conv2d(64, 64, kernel_size=3, stride=1, padding=1),  # Output: (64, 64, 64)\n",
    "            nn.BatchNorm2d(64),\n",
    "            nn.ReLU(),\n",
    "            nn.MaxPool2d(kernel_size=2, stride=2),  # Output: (64, 32, 32)\n",
    "            nn.Dropout(0.2),\n",
    "\n",
    "            # Block 2\n",
    "            nn.Conv2d(64, 128, kernel_size=3, stride=1, padding=1),  # Output: (128, 32, 32)\n",
    "            nn.BatchNorm2d(128),\n",
    "            nn.ReLU(),\n",
    "            nn.Conv2d(128, 128, kernel_size=3, stride=1, padding=1),  # Output: (128, 32, 32)\n",
    "            nn.BatchNorm2d(128),\n",
    "            nn.ReLU(),\n",
    "            nn.MaxPool2d(kernel_size=2, stride=2),  # Output: (128, 16, 16)\n",
    "            nn.Dropout(0.3),\n",
    "\n",
    "            # Block 3\n",
    "            nn.Conv2d(128, 256, kernel_size=3, stride=1, padding=1),  # Output: (256, 16, 16)\n",
    "            nn.BatchNorm2d(256),\n",
    "            nn.ReLU(),\n",
    "            nn.Conv2d(256, 256, kernel_size=3, stride=1, padding=1),  # Output: (256, 16, 16)\n",
    "            nn.BatchNorm2d(256),\n",
    "            nn.ReLU(),\n",
    "            nn.MaxPool2d(kernel_size=2, stride=2),  # Output: (256, 8, 8)\n",
    "            nn.Dropout(0.4),\n",
    "\n",
    "            # # Block 4\n",
    "            # nn.Conv2d(256, 512, kernel_size=3, stride=1, padding=1),  # Output: (512, 8, 8)\n",
    "            # nn.BatchNorm2d(512),\n",
    "            # nn.ReLU(),\n",
    "            # nn.Conv2d(512, 512, kernel_size=3, stride=1, padding=1),  # Output: (512, 8, 8)\n",
    "            # nn.BatchNorm2d(512),\n",
    "            # nn.ReLU(),\n",
    "            # nn.MaxPool2d(kernel_size=2, stride=2)  # Output: (512, 4, 4)\n",
    "        )\n",
    "\n",
    "        # Recurrent Module\n",
    "        self.rnn = nn.LSTM(\n",
    "            input_size=256*8*8,  # Flattened size from encoder\n",
    "            hidden_size=256,  # Hidden state size\n",
    "            num_layers=2,\n",
    "            batch_first=True,  # Batch is the first dimension\n",
    "            dropout=0.3\n",
    "        )\n",
    "        \n",
    "        # Classifier\n",
    "        self.classifier = nn.Sequential(\n",
    "            nn.Conv1d(256, 128, kernel_size=1),  # Temporal conv\n",
    "            nn.ReLU(),\n",
    "            nn.AdaptiveAvgPool1d(1),  # Reduce sequence length to 1\n",
    "            nn.Flatten(),  # Flatten the output\n",
    "            nn.Linear(128, num_classes)  # Final classification layer\n",
    "        )\n",
    "\n",
    "    def forward(self, x):\n",
    "        # x: [batch_size, sequence_length, 64*64]\n",
    "        batch_size, seq_len, _ = x.size()\n",
    "        \n",
    "        # Reshape and encode each frame\n",
    "        x = x.view(batch_size * seq_len, 1, 64, 64)  # Reshape to (batch_size * sequence_length, 1, 64, 64)\n",
    "        x = self.encoder(x)  # Pass through convolutional encoder\n",
    "        x = x.view(batch_size, seq_len, -1)  # Reshape to (batch_size, sequence_length, 512*4*4)\n",
    "        \n",
    "        # Recurrent Module\n",
    "        x, _ = self.rnn(x)  # LSTM output shape: (batch_size, sequence_length, 256)\n",
    "        \n",
    "        # Classifier\n",
    "        x = x.transpose(1, 2)  # Change shape to (batch_size, 256, sequence_length) for Conv1d\n",
    "        x = self.classifier(x)  # Output shape: (batch_size, num_classes)\n",
    "        \n",
    "        return x"
   ]
  },
  {
   "cell_type": "code",
   "execution_count": 14,
   "id": "1d2ecc56-6e8e-4c61-aab6-cb4387d7aa27",
   "metadata": {},
   "outputs": [],
   "source": [
    "num_classes=6"
   ]
  },
  {
   "cell_type": "code",
   "execution_count": 15,
   "id": "5d446a7d-211f-4c3e-9fba-ffa18400d178",
   "metadata": {},
   "outputs": [
    {
     "data": {
      "text/plain": [
       "ComplexActionRecognitionModel(\n",
       "  (encoder): Sequential(\n",
       "    (0): Conv2d(1, 64, kernel_size=(3, 3), stride=(1, 1), padding=(1, 1))\n",
       "    (1): BatchNorm2d(64, eps=1e-05, momentum=0.1, affine=True, track_running_stats=True)\n",
       "    (2): ReLU()\n",
       "    (3): Conv2d(64, 64, kernel_size=(3, 3), stride=(1, 1), padding=(1, 1))\n",
       "    (4): BatchNorm2d(64, eps=1e-05, momentum=0.1, affine=True, track_running_stats=True)\n",
       "    (5): ReLU()\n",
       "    (6): MaxPool2d(kernel_size=2, stride=2, padding=0, dilation=1, ceil_mode=False)\n",
       "    (7): Dropout(p=0.2, inplace=False)\n",
       "    (8): Conv2d(64, 128, kernel_size=(3, 3), stride=(1, 1), padding=(1, 1))\n",
       "    (9): BatchNorm2d(128, eps=1e-05, momentum=0.1, affine=True, track_running_stats=True)\n",
       "    (10): ReLU()\n",
       "    (11): Conv2d(128, 128, kernel_size=(3, 3), stride=(1, 1), padding=(1, 1))\n",
       "    (12): BatchNorm2d(128, eps=1e-05, momentum=0.1, affine=True, track_running_stats=True)\n",
       "    (13): ReLU()\n",
       "    (14): MaxPool2d(kernel_size=2, stride=2, padding=0, dilation=1, ceil_mode=False)\n",
       "    (15): Dropout(p=0.3, inplace=False)\n",
       "    (16): Conv2d(128, 256, kernel_size=(3, 3), stride=(1, 1), padding=(1, 1))\n",
       "    (17): BatchNorm2d(256, eps=1e-05, momentum=0.1, affine=True, track_running_stats=True)\n",
       "    (18): ReLU()\n",
       "    (19): Conv2d(256, 256, kernel_size=(3, 3), stride=(1, 1), padding=(1, 1))\n",
       "    (20): BatchNorm2d(256, eps=1e-05, momentum=0.1, affine=True, track_running_stats=True)\n",
       "    (21): ReLU()\n",
       "    (22): MaxPool2d(kernel_size=2, stride=2, padding=0, dilation=1, ceil_mode=False)\n",
       "    (23): Dropout(p=0.4, inplace=False)\n",
       "  )\n",
       "  (rnn): LSTM(16384, 256, num_layers=2, batch_first=True, dropout=0.3)\n",
       "  (classifier): Sequential(\n",
       "    (0): Conv1d(256, 128, kernel_size=(1,), stride=(1,))\n",
       "    (1): ReLU()\n",
       "    (2): AdaptiveAvgPool1d(output_size=1)\n",
       "    (3): Flatten(start_dim=1, end_dim=-1)\n",
       "    (4): Linear(in_features=128, out_features=6, bias=True)\n",
       "  )\n",
       ")"
      ]
     },
     "execution_count": 15,
     "metadata": {},
     "output_type": "execute_result"
    }
   ],
   "source": [
    "model = ComplexActionRecognitionModel(input_dim=4096, sequence_length=16, num_classes=num_classes).to(device)\n",
    "model"
   ]
  },
  {
   "cell_type": "code",
   "execution_count": null,
   "id": "cb35b79b-84bb-4c3a-8448-47e944f8495c",
   "metadata": {},
   "outputs": [
    {
     "name": "stderr",
     "output_type": "stream",
     "text": [
      "\u001b[34m\u001b[1mwandb\u001b[0m: Using wandb-core as the SDK backend.  Please refer to https://wandb.me/wandb-core for more information.\n",
      "\u001b[34m\u001b[1mwandb\u001b[0m: Currently logged in as: \u001b[33mahmadjaved97\u001b[0m. Use \u001b[1m`wandb login --relogin`\u001b[0m to force relogin\n"
     ]
    },
    {
     "data": {
      "text/html": [
       "Tracking run with wandb version 0.18.7"
      ],
      "text/plain": [
       "<IPython.core.display.HTML object>"
      ]
     },
     "metadata": {},
     "output_type": "display_data"
    },
    {
     "data": {
      "text/html": [
       "Run data is saved locally in <code>/home/user/javeda1/MA-INF-4308-Lab-Vision-Systems/Assignment-4/wandb/run-20241129_155916-2qnhdnvz</code>"
      ],
      "text/plain": [
       "<IPython.core.display.HTML object>"
      ]
     },
     "metadata": {},
     "output_type": "display_data"
    },
    {
     "data": {
      "text/html": [
       "Syncing run <strong><a href='https://wandb.ai/ahmadjaved97/gru/runs/2qnhdnvz' target=\"_blank\">complex</a></strong> to <a href='https://wandb.ai/ahmadjaved97/gru' target=\"_blank\">Weights & Biases</a> (<a href='https://wandb.me/developer-guide' target=\"_blank\">docs</a>)<br/>"
      ],
      "text/plain": [
       "<IPython.core.display.HTML object>"
      ]
     },
     "metadata": {},
     "output_type": "display_data"
    },
    {
     "data": {
      "text/html": [
       " View project at <a href='https://wandb.ai/ahmadjaved97/gru' target=\"_blank\">https://wandb.ai/ahmadjaved97/gru</a>"
      ],
      "text/plain": [
       "<IPython.core.display.HTML object>"
      ]
     },
     "metadata": {},
     "output_type": "display_data"
    },
    {
     "data": {
      "text/html": [
       " View run at <a href='https://wandb.ai/ahmadjaved97/gru/runs/2qnhdnvz' target=\"_blank\">https://wandb.ai/ahmadjaved97/gru/runs/2qnhdnvz</a>"
      ],
      "text/plain": [
       "<IPython.core.display.HTML object>"
      ]
     },
     "metadata": {},
     "output_type": "display_data"
    },
    {
     "name": "stderr",
     "output_type": "stream",
     "text": [
      "  1%|▌                                                      | 1/100 [00:15<26:14, 15.91s/it]"
     ]
    },
    {
     "name": "stdout",
     "output_type": "stream",
     "text": [
      "Epoch 1/100\n",
      "Train Loss: 1.3602, Train Accuracy: 0.3278\n",
      "Eval Loss: 3.1104, Eval Accuracy: 0.1833\n",
      "Learning Rate: 0.001000\n"
     ]
    },
    {
     "name": "stderr",
     "output_type": "stream",
     "text": [
      "  2%|█                                                      | 2/100 [00:29<23:50, 14.60s/it]"
     ]
    },
    {
     "name": "stdout",
     "output_type": "stream",
     "text": [
      "Epoch 2/100\n",
      "Train Loss: 1.1000, Train Accuracy: 0.4405\n",
      "Eval Loss: 1.1039, Eval Accuracy: 0.3833\n",
      "Learning Rate: 0.001000\n"
     ]
    },
    {
     "name": "stderr",
     "output_type": "stream",
     "text": [
      "  3%|█▋                                                     | 3/100 [00:43<22:55, 14.18s/it]"
     ]
    },
    {
     "name": "stdout",
     "output_type": "stream",
     "text": [
      "Epoch 3/100\n",
      "Train Loss: 1.0029, Train Accuracy: 0.5031\n",
      "Eval Loss: 1.0166, Eval Accuracy: 0.4833\n",
      "Learning Rate: 0.001000\n"
     ]
    },
    {
     "name": "stderr",
     "output_type": "stream",
     "text": [
      "  4%|██▏                                                    | 4/100 [00:56<22:21, 13.97s/it]"
     ]
    },
    {
     "name": "stdout",
     "output_type": "stream",
     "text": [
      "Epoch 4/100\n",
      "Train Loss: 0.9933, Train Accuracy: 0.4823\n",
      "Eval Loss: 0.9917, Eval Accuracy: 0.4583\n",
      "Learning Rate: 0.001000\n"
     ]
    },
    {
     "name": "stderr",
     "output_type": "stream",
     "text": [
      "  5%|██▊                                                    | 5/100 [01:10<22:09, 13.99s/it]"
     ]
    },
    {
     "name": "stdout",
     "output_type": "stream",
     "text": [
      "Epoch 5/100\n",
      "Train Loss: 0.9286, Train Accuracy: 0.5365\n",
      "Eval Loss: 0.9712, Eval Accuracy: 0.4667\n",
      "Learning Rate: 0.001000\n"
     ]
    },
    {
     "name": "stderr",
     "output_type": "stream",
     "text": [
      "  6%|███▎                                                   | 6/100 [01:24<21:45, 13.89s/it]"
     ]
    },
    {
     "name": "stdout",
     "output_type": "stream",
     "text": [
      "Epoch 6/100\n",
      "Train Loss: 0.8468, Train Accuracy: 0.5950\n",
      "Eval Loss: 0.9157, Eval Accuracy: 0.5000\n",
      "Learning Rate: 0.000500\n"
     ]
    },
    {
     "name": "stderr",
     "output_type": "stream",
     "text": [
      "  7%|███▊                                                   | 7/100 [01:38<21:30, 13.88s/it]"
     ]
    },
    {
     "name": "stdout",
     "output_type": "stream",
     "text": [
      "Epoch 7/100\n",
      "Train Loss: 0.7641, Train Accuracy: 0.6367\n",
      "Eval Loss: 0.8873, Eval Accuracy: 0.5333\n",
      "Learning Rate: 0.000500\n"
     ]
    },
    {
     "name": "stderr",
     "output_type": "stream",
     "text": [
      "  8%|████▍                                                  | 8/100 [01:52<21:14, 13.85s/it]"
     ]
    },
    {
     "name": "stdout",
     "output_type": "stream",
     "text": [
      "Epoch 8/100\n",
      "Train Loss: 0.7411, Train Accuracy: 0.6430\n",
      "Eval Loss: 0.8969, Eval Accuracy: 0.5917\n",
      "Learning Rate: 0.000500\n"
     ]
    },
    {
     "name": "stderr",
     "output_type": "stream",
     "text": [
      "  9%|████▉                                                  | 9/100 [02:06<20:56, 13.81s/it]"
     ]
    },
    {
     "name": "stdout",
     "output_type": "stream",
     "text": [
      "Epoch 9/100\n",
      "Train Loss: 0.6968, Train Accuracy: 0.6367\n",
      "Eval Loss: 0.8215, Eval Accuracy: 0.5583\n",
      "Learning Rate: 0.000500\n"
     ]
    },
    {
     "name": "stderr",
     "output_type": "stream",
     "text": [
      " 10%|█████▍                                                | 10/100 [02:19<20:40, 13.78s/it]"
     ]
    },
    {
     "name": "stdout",
     "output_type": "stream",
     "text": [
      "Epoch 10/100\n",
      "Train Loss: 0.6133, Train Accuracy: 0.6952\n",
      "Eval Loss: 0.7681, Eval Accuracy: 0.5917\n",
      "Learning Rate: 0.000500\n"
     ]
    },
    {
     "name": "stderr",
     "output_type": "stream",
     "text": [
      " 11%|█████▉                                                | 11/100 [02:33<20:29, 13.82s/it]"
     ]
    },
    {
     "name": "stdout",
     "output_type": "stream",
     "text": [
      "Epoch 11/100\n",
      "Train Loss: 0.5714, Train Accuracy: 0.7203\n",
      "Eval Loss: 0.7256, Eval Accuracy: 0.6083\n",
      "Learning Rate: 0.000250\n"
     ]
    },
    {
     "name": "stderr",
     "output_type": "stream",
     "text": [
      " 12%|██████▍                                               | 12/100 [02:47<20:14, 13.80s/it]"
     ]
    },
    {
     "name": "stdout",
     "output_type": "stream",
     "text": [
      "Epoch 12/100\n",
      "Train Loss: 0.5283, Train Accuracy: 0.7349\n",
      "Eval Loss: 0.7961, Eval Accuracy: 0.5833\n",
      "Learning Rate: 0.000250\n"
     ]
    },
    {
     "name": "stderr",
     "output_type": "stream",
     "text": [
      " 13%|███████                                               | 13/100 [03:01<20:01, 13.81s/it]"
     ]
    },
    {
     "name": "stdout",
     "output_type": "stream",
     "text": [
      "Epoch 13/100\n",
      "Train Loss: 0.4966, Train Accuracy: 0.7328\n",
      "Eval Loss: 0.8251, Eval Accuracy: 0.6000\n",
      "Learning Rate: 0.000250\n"
     ]
    },
    {
     "name": "stderr",
     "output_type": "stream",
     "text": [
      " 14%|███████▌                                              | 14/100 [03:15<19:49, 13.83s/it]"
     ]
    },
    {
     "name": "stdout",
     "output_type": "stream",
     "text": [
      "Epoch 14/100\n",
      "Train Loss: 0.5157, Train Accuracy: 0.7328\n",
      "Eval Loss: 0.8179, Eval Accuracy: 0.6250\n",
      "Learning Rate: 0.000250\n"
     ]
    },
    {
     "name": "stderr",
     "output_type": "stream",
     "text": [
      " 15%|████████                                              | 15/100 [03:28<19:35, 13.83s/it]"
     ]
    },
    {
     "name": "stdout",
     "output_type": "stream",
     "text": [
      "Epoch 15/100\n",
      "Train Loss: 0.5520, Train Accuracy: 0.6868\n",
      "Eval Loss: 0.7218, Eval Accuracy: 0.5917\n",
      "Learning Rate: 0.000250\n"
     ]
    },
    {
     "name": "stderr",
     "output_type": "stream",
     "text": [
      " 16%|████████▋                                             | 16/100 [03:42<19:21, 13.83s/it]"
     ]
    },
    {
     "name": "stdout",
     "output_type": "stream",
     "text": [
      "Epoch 16/100\n",
      "Train Loss: 0.4511, Train Accuracy: 0.7537\n",
      "Eval Loss: 0.6907, Eval Accuracy: 0.6167\n",
      "Learning Rate: 0.000125\n"
     ]
    },
    {
     "name": "stderr",
     "output_type": "stream",
     "text": [
      " 17%|█████████▏                                            | 17/100 [03:56<19:11, 13.87s/it]"
     ]
    },
    {
     "name": "stdout",
     "output_type": "stream",
     "text": [
      "Epoch 17/100\n",
      "Train Loss: 0.4354, Train Accuracy: 0.7704\n",
      "Eval Loss: 0.7680, Eval Accuracy: 0.5500\n",
      "Learning Rate: 0.000125\n"
     ]
    },
    {
     "name": "stderr",
     "output_type": "stream",
     "text": [
      " 18%|█████████▋                                            | 18/100 [04:10<18:56, 13.86s/it]"
     ]
    },
    {
     "name": "stdout",
     "output_type": "stream",
     "text": [
      "Epoch 18/100\n",
      "Train Loss: 0.4307, Train Accuracy: 0.7766\n",
      "Eval Loss: 0.7544, Eval Accuracy: 0.5833\n",
      "Learning Rate: 0.000125\n"
     ]
    },
    {
     "name": "stderr",
     "output_type": "stream",
     "text": [
      " 19%|██████████▎                                           | 19/100 [04:24<18:41, 13.85s/it]"
     ]
    },
    {
     "name": "stdout",
     "output_type": "stream",
     "text": [
      "Epoch 19/100\n",
      "Train Loss: 0.4000, Train Accuracy: 0.7745\n",
      "Eval Loss: 0.7519, Eval Accuracy: 0.6250\n",
      "Learning Rate: 0.000125\n"
     ]
    },
    {
     "name": "stderr",
     "output_type": "stream",
     "text": [
      " 20%|██████████▊                                           | 20/100 [04:38<18:25, 13.82s/it]"
     ]
    },
    {
     "name": "stdout",
     "output_type": "stream",
     "text": [
      "Epoch 20/100\n",
      "Train Loss: 0.4013, Train Accuracy: 0.7850\n",
      "Eval Loss: 0.7693, Eval Accuracy: 0.6000\n",
      "Learning Rate: 0.000125\n"
     ]
    },
    {
     "name": "stderr",
     "output_type": "stream",
     "text": [
      " 21%|███████████▎                                          | 21/100 [04:51<18:10, 13.81s/it]"
     ]
    },
    {
     "name": "stdout",
     "output_type": "stream",
     "text": [
      "Epoch 21/100\n",
      "Train Loss: 0.3754, Train Accuracy: 0.8017\n",
      "Eval Loss: 0.7775, Eval Accuracy: 0.5917\n",
      "Learning Rate: 0.000063\n"
     ]
    },
    {
     "name": "stderr",
     "output_type": "stream",
     "text": [
      " 22%|███████████▉                                          | 22/100 [05:05<17:58, 13.83s/it]"
     ]
    },
    {
     "name": "stdout",
     "output_type": "stream",
     "text": [
      "Epoch 22/100\n",
      "Train Loss: 0.3555, Train Accuracy: 0.8121\n",
      "Eval Loss: 0.7785, Eval Accuracy: 0.5833\n",
      "Learning Rate: 0.000063\n"
     ]
    },
    {
     "name": "stderr",
     "output_type": "stream",
     "text": [
      " 23%|████████████▍                                         | 23/100 [05:19<17:46, 13.84s/it]"
     ]
    },
    {
     "name": "stdout",
     "output_type": "stream",
     "text": [
      "Epoch 23/100\n",
      "Train Loss: 0.3583, Train Accuracy: 0.8121\n",
      "Eval Loss: 0.7763, Eval Accuracy: 0.6083\n",
      "Learning Rate: 0.000063\n"
     ]
    },
    {
     "name": "stderr",
     "output_type": "stream",
     "text": [
      " 24%|████████████▉                                         | 24/100 [05:33<17:33, 13.86s/it]"
     ]
    },
    {
     "name": "stdout",
     "output_type": "stream",
     "text": [
      "Epoch 24/100\n",
      "Train Loss: 0.3582, Train Accuracy: 0.8163\n",
      "Eval Loss: 0.8424, Eval Accuracy: 0.6000\n",
      "Learning Rate: 0.000063\n"
     ]
    },
    {
     "name": "stderr",
     "output_type": "stream",
     "text": [
      " 25%|█████████████▌                                        | 25/100 [05:47<17:18, 13.84s/it]"
     ]
    },
    {
     "name": "stdout",
     "output_type": "stream",
     "text": [
      "Epoch 25/100\n",
      "Train Loss: 0.3448, Train Accuracy: 0.8184\n",
      "Eval Loss: 0.8082, Eval Accuracy: 0.5917\n",
      "Learning Rate: 0.000063\n"
     ]
    },
    {
     "name": "stderr",
     "output_type": "stream",
     "text": [
      " 26%|██████████████                                        | 26/100 [06:01<17:05, 13.86s/it]"
     ]
    },
    {
     "name": "stdout",
     "output_type": "stream",
     "text": [
      "Epoch 26/100\n",
      "Train Loss: 0.3346, Train Accuracy: 0.8163\n",
      "Eval Loss: 0.8228, Eval Accuracy: 0.5833\n",
      "Learning Rate: 0.000031\n"
     ]
    },
    {
     "name": "stderr",
     "output_type": "stream",
     "text": [
      " 27%|██████████████▌                                       | 27/100 [06:15<16:52, 13.87s/it]"
     ]
    },
    {
     "name": "stdout",
     "output_type": "stream",
     "text": [
      "Epoch 27/100\n",
      "Train Loss: 0.3427, Train Accuracy: 0.8184\n",
      "Eval Loss: 0.8180, Eval Accuracy: 0.6083\n",
      "Learning Rate: 0.000031\n"
     ]
    },
    {
     "name": "stderr",
     "output_type": "stream",
     "text": [
      " 28%|███████████████                                       | 28/100 [06:28<16:36, 13.84s/it]"
     ]
    },
    {
     "name": "stdout",
     "output_type": "stream",
     "text": [
      "Epoch 28/100\n",
      "Train Loss: 0.3404, Train Accuracy: 0.8184\n",
      "Eval Loss: 0.8255, Eval Accuracy: 0.6083\n",
      "Learning Rate: 0.000031\n"
     ]
    },
    {
     "name": "stderr",
     "output_type": "stream",
     "text": [
      " 29%|███████████████▋                                      | 29/100 [06:42<16:22, 13.84s/it]"
     ]
    },
    {
     "name": "stdout",
     "output_type": "stream",
     "text": [
      "Epoch 29/100\n",
      "Train Loss: 0.3474, Train Accuracy: 0.8205\n",
      "Eval Loss: 0.8077, Eval Accuracy: 0.6000\n",
      "Learning Rate: 0.000031\n"
     ]
    },
    {
     "name": "stderr",
     "output_type": "stream",
     "text": [
      " 30%|████████████████▏                                     | 30/100 [06:56<16:09, 13.85s/it]"
     ]
    },
    {
     "name": "stdout",
     "output_type": "stream",
     "text": [
      "Epoch 30/100\n",
      "Train Loss: 0.3381, Train Accuracy: 0.8225\n",
      "Eval Loss: 0.8238, Eval Accuracy: 0.6083\n",
      "Learning Rate: 0.000031\n"
     ]
    },
    {
     "name": "stderr",
     "output_type": "stream",
     "text": [
      " 31%|████████████████▋                                     | 31/100 [07:10<15:56, 13.87s/it]"
     ]
    },
    {
     "name": "stdout",
     "output_type": "stream",
     "text": [
      "Epoch 31/100\n",
      "Train Loss: 0.3233, Train Accuracy: 0.8225\n",
      "Eval Loss: 0.8185, Eval Accuracy: 0.5917\n",
      "Learning Rate: 0.000016\n"
     ]
    }
   ],
   "source": [
    "# Loss function\n",
    "criterion = nn.CrossEntropyLoss()\n",
    "\n",
    "# Hyperparameters\n",
    "num_epochs = 100\n",
    "learning_rate = 0.001\n",
    "step_size = 5\n",
    "gamma = 0.5\n",
    "\n",
    "\n",
    "# Run training\n",
    "model, train_losses, train_accuracies, eval_losses, eval_accuracies, learning_rates = run_training(\n",
    "    model, train_loader, val_loader, criterion, device,\n",
    "    num_epochs, learning_rate, step_size, gamma, name='complex', project='gru'\n",
    ")"
   ]
  },
  {
   "cell_type": "code",
   "execution_count": null,
   "id": "a58bef3d-f5d2-48ef-affd-2651dfa0f54d",
   "metadata": {},
   "outputs": [],
   "source": []
  },
  {
   "cell_type": "code",
   "execution_count": null,
   "id": "53e34359-a19b-4602-968f-b3a275912a81",
   "metadata": {},
   "outputs": [],
   "source": []
  }
 ],
 "metadata": {
  "kernelspec": {
   "display_name": "Python 3 (ipykernel)",
   "language": "python",
   "name": "python3"
  },
  "language_info": {
   "codemirror_mode": {
    "name": "ipython",
    "version": 3
   },
   "file_extension": ".py",
   "mimetype": "text/x-python",
   "name": "python",
   "nbconvert_exporter": "python",
   "pygments_lexer": "ipython3",
   "version": "3.8.10"
  }
 },
 "nbformat": 4,
 "nbformat_minor": 5
}
