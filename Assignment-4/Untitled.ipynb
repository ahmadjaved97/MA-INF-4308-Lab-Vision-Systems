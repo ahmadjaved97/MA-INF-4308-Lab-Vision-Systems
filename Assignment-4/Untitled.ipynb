{
 "cells": [
  {
   "cell_type": "code",
   "execution_count": 1,
   "id": "d8b89f35-cbd7-472e-a833-8077a9d59733",
   "metadata": {},
   "outputs": [],
   "source": [
    "import torch\n",
    "import torch.nn as nn\n",
    "import torch.nn.functional as F\n",
    "from torchvision import transforms\n",
    "import torch.optim as optim\n",
    "from torch.utils.data import Dataset, DataLoader, random_split\n",
    "from torch.optim.lr_scheduler import StepLR\n",
    "import numpy as np\n",
    "import matplotlib.pyplot as plt\n",
    "import os\n",
    "from PIL import Image\n",
    "import random\n",
    "from tqdm import tqdm"
   ]
  },
  {
   "cell_type": "code",
   "execution_count": 2,
   "id": "73002f52-ab93-48ce-ad36-2874fb78aa3d",
   "metadata": {},
   "outputs": [],
   "source": [
    "class KTHProcessedDataset(Dataset):\n",
    "    def __init__(self, root_dir, sequence_length, transform=None):\n",
    "        self.root_dir = root_dir\n",
    "        self.sequence_length = sequence_length\n",
    "        self.transform = transform\n",
    "        self.data = []\n",
    "        self.class_mapping = {}  # To store class ID to name mapping\n",
    "\n",
    "        # Traverse through action categories and their subfolders\n",
    "        for label, category in enumerate(sorted(os.listdir(root_dir))):\n",
    "            category_path = os.path.join(root_dir, category)\n",
    "            if not os.path.isdir(category_path):\n",
    "                continue\n",
    "            self.class_mapping[label] = category  # Map class ID to category name\n",
    "            for subfolder in os.listdir(category_path):\n",
    "                subfolder_path = os.path.join(category_path, subfolder)\n",
    "                if os.path.isdir(subfolder_path):\n",
    "                    frames = sorted(os.listdir(subfolder_path))  # Ensure frames are ordered\n",
    "\n",
    "                    # Check if there are enough frames\n",
    "                    if len(frames) >= sequence_length:\n",
    "                        self.data.append((subfolder_path, frames, label))\n",
    "\n",
    "    def __len__(self):\n",
    "        return len(self.data)\n",
    "\n",
    "    def __getitem__(self, idx):\n",
    "        subfolder_path, frames, label = self.data[idx]\n",
    "\n",
    "        # Select frames sequentially from the start, up to sequence_length\n",
    "        selected_frames = frames[:self.sequence_length]\n",
    "\n",
    "        sequence = []\n",
    "        for frame_file in selected_frames:\n",
    "            frame_path = os.path.join(subfolder_path, frame_file)\n",
    "            try:\n",
    "                # Try to open the image\n",
    "                img = Image.open(frame_path).convert(\"L\")  # Convert to grayscale\n",
    "                if self.transform:\n",
    "                    img = self.transform(img)\n",
    "\n",
    "                # Flatten the image to a 1D tensor\n",
    "                img = img.view(-1)  # Flattening the image to size 4096 (64x64)\n",
    "                sequence.append(img)\n",
    "\n",
    "            except (IOError, OSError) as e:\n",
    "                # Log the error and skip the corrupted frame\n",
    "                print(f\"Warning: Skipping corrupted image {frame_path} due to error: {e}\")\n",
    "                return self.__getitem__((idx + 1) % len(self))  # Skip to the next sample\n",
    "\n",
    "        # Stack frames into a tensor of shape [sequence_length, 4096]\n",
    "        sequence = torch.stack(sequence, dim=0)\n",
    "        return sequence, label\n"
   ]
  },
  {
   "cell_type": "code",
   "execution_count": 3,
   "id": "c83b48e2-f8eb-4e39-bbb9-adef35e45868",
   "metadata": {},
   "outputs": [],
   "source": [
    "# Define augmentations and transformations\n",
    "transform = transforms.Compose([\n",
    "    # Spatial augmentations\n",
    "    # RandomHorizontalFlip(p=0.5),                # Flip frames horizontally with 50% probability\n",
    "    # RandomRotation(degrees=15),                # Random rotation within ±15 degrees\n",
    "    transforms.RandomCrop(size=(64, 64), pad_if_needed=True),  # Random crop to 64x64, pad if needed\n",
    "\n",
    "    transforms.RandomApply([transforms.ColorJitter(brightness=0.2, contrast=0.2)], p=0.3),  # Adjust brightness/contrast\n",
    "    transforms.GaussianBlur(3, sigma=(0.1, 2.0)),  # Random blur\n",
    "    \n",
    "    # Conversion and normalization\n",
    "    transforms.ToTensor(),                                # Convert PIL image to tensor\n",
    "    transforms.Normalize(mean=[0.5], std=[0.5])           # Normalize to [-1, 1]\n",
    "])"
   ]
  },
  {
   "cell_type": "code",
   "execution_count": 4,
   "id": "0e642ab3-d261-4da0-87a0-c4d92c209099",
   "metadata": {},
   "outputs": [],
   "source": [
    "# Paths and hyperparameters\n",
    "root_dir = '/home/nfs/inf6/data/datasets/kth_actions/processed'\n",
    "sequence_length = 45\n",
    "batch_size = 8\n",
    "train_ratio = 0.8  # 80% for training, 20% for validation"
   ]
  },
  {
   "cell_type": "code",
   "execution_count": 5,
   "id": "6457eb55-19b4-4bef-80f7-1a921ce68a75",
   "metadata": {},
   "outputs": [
    {
     "name": "stdout",
     "output_type": "stream",
     "text": [
      "Dataset size: 599\n",
      "Train set size: 479\n",
      "Validation set size: 120\n"
     ]
    }
   ],
   "source": [
    "# Load the full dataset\n",
    "dataset = KTHProcessedDataset(root_dir=root_dir, sequence_length=sequence_length, transform=transform)\n",
    "\n",
    "# Calculate train and validation sizes\n",
    "dataset_size = len(dataset)\n",
    "train_size = int(train_ratio * dataset_size)\n",
    "val_size = dataset_size - train_size\n",
    "\n",
    "# Split the dataset\n",
    "train_dataset, val_dataset = random_split(dataset, [train_size, val_size])\n",
    "\n",
    "# Create DataLoaders for train and validation sets\n",
    "train_loader = DataLoader(train_dataset, batch_size=batch_size, shuffle=True, num_workers=4)\n",
    "val_loader = DataLoader(val_dataset, batch_size=batch_size, shuffle=False, num_workers=4)\n",
    "\n",
    "print(f\"Dataset size: {dataset_size}\")\n",
    "print(f\"Train set size: {train_size}\")\n",
    "print(f\"Validation set size: {val_size}\")"
   ]
  },
  {
   "cell_type": "code",
   "execution_count": 6,
   "id": "b6573956-ccc4-460a-8910-aa36006a5f84",
   "metadata": {},
   "outputs": [
    {
     "name": "stdout",
     "output_type": "stream",
     "text": [
      "Dataset Classes:\n",
      "Class ID: 0, Class Name: boxing\n",
      "Class ID: 1, Class Name: handclapping\n",
      "Class ID: 2, Class Name: handwaving\n",
      "Class ID: 3, Class Name: jogging\n",
      "Class ID: 4, Class Name: running\n",
      "Class ID: 5, Class Name: walking\n"
     ]
    }
   ],
   "source": [
    "print(\"Dataset Classes:\")\n",
    "for class_id, class_name in dataset.class_mapping.items():\n",
    "    print(f\"Class ID: {class_id}, Class Name: {class_name}\")"
   ]
  },
  {
   "cell_type": "code",
   "execution_count": 7,
   "id": "9e48a17f-deaa-47ea-a4c3-0d05223e35aa",
   "metadata": {},
   "outputs": [],
   "source": [
    "import wandb"
   ]
  },
  {
   "cell_type": "code",
   "execution_count": 8,
   "id": "a91db4e1-7265-4a4d-b112-d43c7533fca2",
   "metadata": {},
   "outputs": [],
   "source": [
    "def train_nn(model, train_loader, criterion, optimizer, device):\n",
    "    \"\"\"Train the LSTM model for one epoch\"\"\"\n",
    "    model.train()\n",
    "    running_loss = 0.0\n",
    "    correct_labels = 0\n",
    "    total_labels = 0\n",
    "\n",
    "    for inputs, labels in train_loader:\n",
    "        inputs = inputs.view(-1, 45, 1, height, width).to(\"cuda\")\n",
    "        inputs, labels = inputs.to(device), labels.to(device)\n",
    "        \n",
    "        optimizer.zero_grad()\n",
    "        outputs = model(inputs)  # Get outputs for the full sequence\n",
    "        \n",
    "        # Only use the last time step's output for classification\n",
    "        loss = criterion(outputs, labels)  # Use the last timestep output\n",
    "        loss.backward()\n",
    "        optimizer.step()\n",
    "\n",
    "        running_loss += loss.item()\n",
    "\n",
    "        # Compute accuracy for the last time step\n",
    "        _, predicted_labels = torch.max(outputs, dim=1)\n",
    "        correct_labels += (predicted_labels == labels).sum().item()\n",
    "        total_labels += labels.size(0)\n",
    "\n",
    "    avg_loss = running_loss / len(train_loader)\n",
    "    accuracy = correct_labels / total_labels\n",
    "    return avg_loss, accuracy\n",
    "\n",
    "def evaluate_nn(model, eval_loader, criterion, device):\n",
    "    \"\"\"Evaluate the LSTM model\"\"\"\n",
    "    model.eval()\n",
    "    running_loss = 0.0\n",
    "    correct_labels = 0\n",
    "    total_labels = 0\n",
    "\n",
    "    with torch.no_grad():\n",
    "        for inputs, labels in eval_loader:\n",
    "            inputs = inputs.view(-1, 45, 1, height, width).to(\"cuda\")\n",
    "            inputs, labels = inputs.to(device), labels.to(device)\n",
    "            outputs = model(inputs)  # Get outputs for the full sequence\n",
    "            \n",
    "            loss = criterion(outputs, labels)  # Use the last timestep output\n",
    "            running_loss += loss.item()\n",
    "\n",
    "            # Compute accuracy for the last time step\n",
    "            _, predicted_labels = torch.max(outputs, dim=1)\n",
    "            correct_labels += (predicted_labels == labels).sum().item()\n",
    "            total_labels += labels.size(0)\n",
    "\n",
    "    avg_loss = running_loss / len(eval_loader)\n",
    "    accuracy = correct_labels / total_labels\n",
    "    return avg_loss, accuracy\n",
    "\n",
    "def run_training(model, train_loader, eval_loader, criterion, device, num_epochs, learning_rate=0.001, step_size=5, gamma=0.5, project_name='lstm_training'):\n",
    "    \"\"\"Train and evaluate the LSTM model for a given number of epochs with W&B logging\"\"\"\n",
    "    # Initialize W&B logging\n",
    "    wandb.init(project=project_name, config={\n",
    "        \"learning_rate\": learning_rate,\n",
    "        \"num_epochs\": num_epochs,\n",
    "        \"step_size\": step_size,\n",
    "        \"gamma\": gamma,\n",
    "        \"optimizer\": \"Adam\",\n",
    "    },\n",
    "    )\n",
    "    config = wandb.config\n",
    "\n",
    "    optimizer = optim.Adam(model.parameters(), lr=learning_rate)  # Adam optimizer\n",
    "    scheduler = StepLR(optimizer, step_size=step_size, gamma=gamma)  # Learning rate scheduler\n",
    "    \n",
    "    train_losses = []\n",
    "    eval_losses = []\n",
    "    train_accuracies = []\n",
    "    eval_accuracies = []\n",
    "    learning_rates = []\n",
    "\n",
    "    for epoch in tqdm(range(num_epochs)):\n",
    "        # Train for one epoch\n",
    "        train_loss, train_accuracy = train_nn(model, train_loader, criterion, optimizer, device)\n",
    "        # Evaluate after each epoch\n",
    "        eval_loss, eval_accuracy = evaluate_nn(model, eval_loader, criterion, device)\n",
    "\n",
    "        # Get current learning rate\n",
    "        current_lr = scheduler.get_last_lr()[0]\n",
    "\n",
    "        # Record the metrics\n",
    "        train_losses.append(train_loss)\n",
    "        eval_losses.append(eval_loss)\n",
    "        train_accuracies.append(train_accuracy)\n",
    "        eval_accuracies.append(eval_accuracy)\n",
    "        learning_rates.append(current_lr)\n",
    "\n",
    "        # Log metrics to W&B\n",
    "        wandb.log({\n",
    "            \"epoch\": epoch + 1,\n",
    "            \"train_loss\": train_loss,\n",
    "            \"train_accuracy\": train_accuracy,\n",
    "            \"eval_loss\": eval_loss,\n",
    "            \"eval_accuracy\": eval_accuracy,\n",
    "            \"learning_rate\": current_lr\n",
    "        })\n",
    "\n",
    "        # Print epoch statistics\n",
    "        print(f\"Epoch {epoch+1}/{num_epochs}\")\n",
    "        print(f\"Train Loss: {train_loss:.4f}, Train Accuracy: {train_accuracy:.4f}\")\n",
    "        print(f\"Eval Loss: {eval_loss:.4f}, Eval Accuracy: {eval_accuracy:.4f}\")\n",
    "        print(f\"Learning Rate: {current_lr:.6f}\")\n",
    "        \n",
    "        # Step the learning rate scheduler\n",
    "        scheduler.step()\n",
    "\n",
    "    # Finish W&B run\n",
    "    wandb.finish()\n",
    "\n",
    "    return model, train_losses, train_accuracies, eval_losses, eval_accuracies, learning_rates"
   ]
  },
  {
   "cell_type": "markdown",
   "id": "7a028d23-bdf0-4a74-a051-c35c3e688bca",
   "metadata": {},
   "source": [
    "### ConvLSTM"
   ]
  },
  {
   "cell_type": "code",
   "execution_count": 9,
   "id": "00e9a97b-da4d-4811-b01a-bda18666ab01",
   "metadata": {},
   "outputs": [],
   "source": [
    "class ConvLSTMCell(nn.Module):\n",
    "    def __init__(self, input_channels, hidden_channels, kernel_size, bias=True):\n",
    "        super(ConvLSTMCell, self).__init__()\n",
    "        self.input_channels = input_channels\n",
    "        self.hidden_channels = hidden_channels\n",
    "        self.kernel_size = kernel_size\n",
    "        self.padding = kernel_size // 2\n",
    "        self.bias = bias\n",
    "\n",
    "        # Gates: i, f, o, g\n",
    "        self.conv = nn.Conv2d(\n",
    "            input_channels + hidden_channels, \n",
    "            4 * hidden_channels, \n",
    "            kernel_size, \n",
    "            padding=self.padding, \n",
    "            bias=self.bias\n",
    "        )\n",
    "\n",
    "    def forward(self, x, hidden):\n",
    "        h_prev, c_prev = hidden\n",
    "\n",
    "        # Concatenate along channel dimension\n",
    "        combined = torch.cat([x, h_prev], dim=1)\n",
    "        conv_output = self.conv(combined)\n",
    "\n",
    "        # Split into gates\n",
    "        i, f, o, g = torch.split(conv_output, self.hidden_channels, dim=1)\n",
    "        i = torch.sigmoid(i)\n",
    "        f = torch.sigmoid(f)\n",
    "        o = torch.sigmoid(o)\n",
    "        g = torch.tanh(g)\n",
    "\n",
    "        # Update cell state and hidden state\n",
    "        c_next = f * c_prev + i * g\n",
    "        h_next = o * torch.tanh(c_next)\n",
    "\n",
    "        return h_next, c_next\n",
    "\n",
    "    def init_hidden(self, batch_size, height, width):\n",
    "        h = torch.zeros(batch_size, self.hidden_channels, height, width, device=self.conv.weight.device)\n",
    "        c = torch.zeros(batch_size, self.hidden_channels, height, width, device=self.conv.weight.device)\n",
    "        return h, c"
   ]
  },
  {
   "cell_type": "code",
   "execution_count": 10,
   "id": "56be0abf-98ea-43e1-9b56-0c164fcbabf2",
   "metadata": {},
   "outputs": [],
   "source": [
    "class ConvLSTM(nn.Module):\n",
    "    def __init__(self, input_channels, hidden_channels, kernel_size, num_layers, num_classes, height, width, bias=True):\n",
    "        super(ConvLSTM, self).__init__()\n",
    "        self.num_layers = num_layers\n",
    "        self.hidden_channels = hidden_channels\n",
    "        self.height = height\n",
    "        self.width = width\n",
    "\n",
    "        # ConvLSTM layers\n",
    "        self.layers = nn.ModuleList([\n",
    "            ConvLSTMCell(\n",
    "                input_channels=input_channels if i == 0 else hidden_channels[i - 1],\n",
    "                hidden_channels=hidden_channels[i],\n",
    "                kernel_size=kernel_size,\n",
    "                bias=bias\n",
    "            ) for i in range(num_layers)\n",
    "        ])\n",
    "\n",
    "        # Fully connected layer for classification\n",
    "        self.fc = nn.Linear(hidden_channels[-1] * height * width, num_classes)\n",
    "\n",
    "    def forward(self, x):\n",
    "        \"\"\"\n",
    "        x: [batch_size, sequence_length, channels, height, width]\n",
    "        Returns logits for classification.\n",
    "        \"\"\"\n",
    "        # print(x.shape)\n",
    "        batch_size, seq_len, _, height, width = x.size()\n",
    "        assert height == self.height and width == self.width, \"Input size mismatch with initialized height and width.\"\n",
    "\n",
    "        # Initialize hidden states for all layers\n",
    "        hidden_states = [layer.init_hidden(batch_size, height, width) for layer in self.layers]\n",
    "\n",
    "        # Process sequence through ConvLSTM layers\n",
    "        for t in range(seq_len):\n",
    "            current_input = x[:, t]\n",
    "            for l, layer in enumerate(self.layers):\n",
    "                hidden_states[l] = layer(current_input, hidden_states[l])\n",
    "                current_input = hidden_states[l][0]  # Use the hidden state (h_t)\n",
    "\n",
    "        # Last layer's hidden state at the last time step\n",
    "        last_hidden_state = hidden_states[-1][0]  # Shape: [batch_size, hidden_channels[-1], height, width]\n",
    "\n",
    "        # Flatten and classify\n",
    "        last_hidden_state_flat = last_hidden_state.view(batch_size, -1)  # Flatten: [batch_size, hidden_channels[-1] * height * width]\n",
    "        logits = self.fc(last_hidden_state_flat)  # [batch_size, num_classes]\n",
    "        return logits"
   ]
  },
  {
   "cell_type": "code",
   "execution_count": 11,
   "id": "3df4aff1-b9f2-42a9-adb8-910c2bdac0a7",
   "metadata": {},
   "outputs": [],
   "source": [
    "# Initialize ConvLSTM\n",
    "input_channels = 1  # Grayscale images\n",
    "hidden_channels = [64, 128]  # Two layers with 64 and 128 hidden channels\n",
    "kernel_size = 3\n",
    "num_layers = len(hidden_channels)\n",
    "num_classes=6\n",
    "height=64\n",
    "width=64\n",
    "\n",
    "model = ConvLSTM(\n",
    "    input_channels=input_channels,\n",
    "    hidden_channels=hidden_channels,\n",
    "    kernel_size=kernel_size,\n",
    "    num_layers=num_layers,\n",
    "    num_classes=num_classes,\n",
    "    height=height,\n",
    "    width=width\n",
    ").to(\"cuda\")"
   ]
  },
  {
   "cell_type": "code",
   "execution_count": 12,
   "id": "3ac156e7-c2ed-4af5-9b62-87729e7adc81",
   "metadata": {},
   "outputs": [
    {
     "data": {
      "text/plain": [
       "ConvLSTM(\n",
       "  (layers): ModuleList(\n",
       "    (0): ConvLSTMCell(\n",
       "      (conv): Conv2d(65, 256, kernel_size=(3, 3), stride=(1, 1), padding=(1, 1))\n",
       "    )\n",
       "    (1): ConvLSTMCell(\n",
       "      (conv): Conv2d(192, 512, kernel_size=(3, 3), stride=(1, 1), padding=(1, 1))\n",
       "    )\n",
       "  )\n",
       "  (fc): Linear(in_features=524288, out_features=6, bias=True)\n",
       ")"
      ]
     },
     "execution_count": 12,
     "metadata": {},
     "output_type": "execute_result"
    }
   ],
   "source": [
    "model"
   ]
  },
  {
   "cell_type": "code",
   "execution_count": 13,
   "id": "f6d695b1-d066-4a76-9e5e-69d721121fd1",
   "metadata": {},
   "outputs": [],
   "source": [
    "criterion = nn.CrossEntropyLoss()\n",
    "optimizer = optim.Adam(model.parameters(), lr=1e-3)"
   ]
  },
  {
   "cell_type": "code",
   "execution_count": 14,
   "id": "fe64d2fc-3ce8-4668-acb3-e130df7a6fdf",
   "metadata": {},
   "outputs": [],
   "source": [
    "device = torch.device(\"cuda\" if torch.cuda.is_available() else \"cpu\")"
   ]
  },
  {
   "cell_type": "code",
   "execution_count": null,
   "id": "7df0d7fc-9dde-445c-a6d5-f40373677176",
   "metadata": {},
   "outputs": [
    {
     "name": "stderr",
     "output_type": "stream",
     "text": [
      "\u001b[34m\u001b[1mwandb\u001b[0m: Using wandb-core as the SDK backend.  Please refer to https://wandb.me/wandb-core for more information.\n",
      "\u001b[34m\u001b[1mwandb\u001b[0m: Currently logged in as: \u001b[33mahmadjaved97\u001b[0m. Use \u001b[1m`wandb login --relogin`\u001b[0m to force relogin\n"
     ]
    },
    {
     "data": {
      "text/html": [
       "Tracking run with wandb version 0.18.7"
      ],
      "text/plain": [
       "<IPython.core.display.HTML object>"
      ]
     },
     "metadata": {},
     "output_type": "display_data"
    },
    {
     "data": {
      "text/html": [
       "Run data is saved locally in <code>/home/user/javeda1/MA-INF-4308-Lab-Vision-Systems/Assignment-4/wandb/run-20241129_020119-03puf4lb</code>"
      ],
      "text/plain": [
       "<IPython.core.display.HTML object>"
      ]
     },
     "metadata": {},
     "output_type": "display_data"
    },
    {
     "data": {
      "text/html": [
       "Syncing run <strong><a href='https://wandb.ai/ahmadjaved97/convlstm_training/runs/03puf4lb' target=\"_blank\">devout-wind-6</a></strong> to <a href='https://wandb.ai/ahmadjaved97/convlstm_training' target=\"_blank\">Weights & Biases</a> (<a href='https://wandb.me/developer-guide' target=\"_blank\">docs</a>)<br/>"
      ],
      "text/plain": [
       "<IPython.core.display.HTML object>"
      ]
     },
     "metadata": {},
     "output_type": "display_data"
    },
    {
     "data": {
      "text/html": [
       " View project at <a href='https://wandb.ai/ahmadjaved97/convlstm_training' target=\"_blank\">https://wandb.ai/ahmadjaved97/convlstm_training</a>"
      ],
      "text/plain": [
       "<IPython.core.display.HTML object>"
      ]
     },
     "metadata": {},
     "output_type": "display_data"
    },
    {
     "data": {
      "text/html": [
       " View run at <a href='https://wandb.ai/ahmadjaved97/convlstm_training/runs/03puf4lb' target=\"_blank\">https://wandb.ai/ahmadjaved97/convlstm_training/runs/03puf4lb</a>"
      ],
      "text/plain": [
       "<IPython.core.display.HTML object>"
      ]
     },
     "metadata": {},
     "output_type": "display_data"
    },
    {
     "name": "stderr",
     "output_type": "stream",
     "text": [
      "  2%|█▍                                                      | 1/40 [00:43<28:29, 43.83s/it]"
     ]
    },
    {
     "name": "stdout",
     "output_type": "stream",
     "text": [
      "Epoch 1/40\n",
      "Train Loss: 1.9241, Train Accuracy: 0.2109\n",
      "Eval Loss: 1.5918, Eval Accuracy: 0.2917\n",
      "Learning Rate: 0.001000\n"
     ]
    },
    {
     "name": "stderr",
     "output_type": "stream",
     "text": [
      "  5%|██▊                                                     | 2/40 [01:27<27:46, 43.86s/it]"
     ]
    },
    {
     "name": "stdout",
     "output_type": "stream",
     "text": [
      "Epoch 2/40\n",
      "Train Loss: 1.6205, Train Accuracy: 0.3361\n",
      "Eval Loss: 1.5339, Eval Accuracy: 0.3500\n",
      "Learning Rate: 0.001000\n"
     ]
    }
   ],
   "source": [
    "# Hyperparameters\n",
    "num_epochs = 40\n",
    "learning_rate = 0.001\n",
    "step_size = 5\n",
    "gamma = 0.5\n",
    "\n",
    "# Run training\n",
    "model, train_losses, train_accuracies, eval_losses, eval_accuracies, learning_rates = run_training(\n",
    "    model, train_loader, val_loader, criterion, device,\n",
    "    num_epochs, learning_rate, step_size, gamma, 'convlstm_training'\n",
    ")"
   ]
  },
  {
   "cell_type": "code",
   "execution_count": 17,
   "id": "021a2f69-c51e-4fb1-89a5-0de81222f33a",
   "metadata": {},
   "outputs": [
    {
     "name": "stdout",
     "output_type": "stream",
     "text": [
      "Epoch [1/10], Loss: 1.6820\n",
      "Epoch [2/10], Loss: 1.4542\n",
      "Epoch [3/10], Loss: 1.2875\n",
      "Epoch [4/10], Loss: 1.0374\n",
      "Epoch [5/10], Loss: 0.7503\n"
     ]
    },
    {
     "ename": "KeyboardInterrupt",
     "evalue": "",
     "output_type": "error",
     "traceback": [
      "\u001b[0;31m---------------------------------------------------------------------------\u001b[0m",
      "\u001b[0;31mKeyboardInterrupt\u001b[0m                         Traceback (most recent call last)",
      "Cell \u001b[0;32mIn[17], line 18\u001b[0m\n\u001b[1;32m     16\u001b[0m outputs \u001b[38;5;241m=\u001b[39m model(sequences)  \u001b[38;5;66;03m# Logits\u001b[39;00m\n\u001b[1;32m     17\u001b[0m loss \u001b[38;5;241m=\u001b[39m criterion(outputs, labels)\n\u001b[0;32m---> 18\u001b[0m epoch_loss \u001b[38;5;241m+\u001b[39m\u001b[38;5;241m=\u001b[39m \u001b[43mloss\u001b[49m\u001b[38;5;241;43m.\u001b[39;49m\u001b[43mitem\u001b[49m\u001b[43m(\u001b[49m\u001b[43m)\u001b[49m\n\u001b[1;32m     20\u001b[0m \u001b[38;5;66;03m# Backward pass and update weights\u001b[39;00m\n\u001b[1;32m     21\u001b[0m loss\u001b[38;5;241m.\u001b[39mbackward()\n",
      "\u001b[0;31mKeyboardInterrupt\u001b[0m: "
     ]
    }
   ],
   "source": [
    "# Training Loop\n",
    "num_epochs = 10\n",
    "for epoch in range(num_epochs):\n",
    "    model.train()\n",
    "    epoch_loss = 0.0\n",
    "\n",
    "    for batch_idx, (sequences, labels) in enumerate(train_loader):\n",
    "        # Reshape input to [batch_size, sequence_length, channels, height, width]\n",
    "        sequences = sequences.view(-1, 45, 1, height, width).to(\"cuda\")\n",
    "        labels = labels.to(\"cuda\")\n",
    "\n",
    "        # Zero gradients\n",
    "        optimizer.zero_grad()\n",
    "\n",
    "        # Forward pass\n",
    "        outputs = model(sequences)  # Logits\n",
    "        loss = criterion(outputs, labels)\n",
    "        epoch_loss += loss.item()\n",
    "\n",
    "        # Backward pass and update weights\n",
    "        loss.backward()\n",
    "        optimizer.step()\n",
    "\n",
    "    print(f\"Epoch [{epoch + 1}/{num_epochs}], Loss: {epoch_loss / len(train_loader):.4f}\")"
   ]
  },
  {
   "cell_type": "code",
   "execution_count": null,
   "id": "e674b458-9626-45dd-95d2-aa3eb6e4bbad",
   "metadata": {},
   "outputs": [],
   "source": []
  }
 ],
 "metadata": {
  "kernelspec": {
   "display_name": "Python 3 (ipykernel)",
   "language": "python",
   "name": "python3"
  },
  "language_info": {
   "codemirror_mode": {
    "name": "ipython",
    "version": 3
   },
   "file_extension": ".py",
   "mimetype": "text/x-python",
   "name": "python",
   "nbconvert_exporter": "python",
   "pygments_lexer": "ipython3",
   "version": "3.8.10"
  }
 },
 "nbformat": 4,
 "nbformat_minor": 5
}
