{
 "cells": [
  {
   "cell_type": "markdown",
   "id": "608c5491-5102-405c-a24c-fbb3da132b1c",
   "metadata": {},
   "source": [
    "### Inspired from\n",
    "\n",
    "- https://pytorch.org/tutorials/beginner/dcgan_faces_tutorial.html\n",
    "- https://www.kaggle.com/code/ibtesama/gan-in-pytorch-with-fid"
   ]
  },
  {
   "cell_type": "markdown",
   "id": "04558a15-e247-40dc-a4f6-beaf13551345",
   "metadata": {},
   "source": [
    "### Training logs\n",
    "1. https://wandb.ai/ahmadjaved97/dcgan-t1?nw=nwuserahmadjaved97\n",
    "2. https://wandb.ai/ahmadjaved97/dcgan-t2?nw=nwuserahmadjaved97"
   ]
  },
  {
   "cell_type": "markdown",
   "id": "d8cd145f-645c-4f03-9c1c-d44baf312e96",
   "metadata": {},
   "source": [
    "### Import required libraries"
   ]
  },
  {
   "cell_type": "code",
   "execution_count": 1,
   "id": "ccf99f4e-ac8a-4990-9fe4-8eb8dc7a622f",
   "metadata": {},
   "outputs": [],
   "source": [
    "import torch\n",
    "import torch.nn as nn\n",
    "import torch.nn.functional as F\n",
    "from torchvision import transforms\n",
    "import torch.optim as optim\n",
    "from torch.utils.data import Dataset, DataLoader, random_split\n",
    "from torch.optim.lr_scheduler import StepLR\n",
    "from torchvision.utils import make_grid, save_image\n",
    "from torchmetrics.image.fid import FrechetInceptionDistance\n",
    "import numpy as np\n",
    "import matplotlib.pyplot as plt\n",
    "import os\n",
    "from PIL import Image\n",
    "import random\n",
    "from tqdm import tqdm\n",
    "from sklearn.metrics import confusion_matrix\n",
    "from sklearn.manifold import TSNE\n",
    "import seaborn as sns\n",
    "import wandb\n",
    "import imageio\n",
    "import datetime"
   ]
  },
  {
   "cell_type": "markdown",
   "id": "37b8b3ec-d6ed-4a04-a07e-c4f52984d332",
   "metadata": {},
   "source": [
    "### Set Device"
   ]
  },
  {
   "cell_type": "code",
   "execution_count": 2,
   "id": "d5aa7cdd-3563-4005-a170-9fe2711ce5f4",
   "metadata": {},
   "outputs": [
    {
     "name": "stdout",
     "output_type": "stream",
     "text": [
      "Device Used: cuda\n"
     ]
    }
   ],
   "source": [
    "device = torch.device(\"cuda\" if torch.cuda.is_available() else \"cpu\")\n",
    "print(f\"Device Used: {device}\")"
   ]
  },
  {
   "cell_type": "code",
   "execution_count": 3,
   "id": "6ad04623-3604-4a6a-89de-44b3fb0de9b7",
   "metadata": {},
   "outputs": [],
   "source": [
    "saved_model_folder = \"./saved_models\"\n",
    "os.makedirs(saved_model_folder, exist_ok=True)"
   ]
  },
  {
   "cell_type": "markdown",
   "id": "30a18496-a8da-4c2b-a8ac-a7a9fc24e0cf",
   "metadata": {},
   "source": [
    "### Data Loader Class\n",
    "This is same as the one used in **Assignment-5**"
   ]
  },
  {
   "cell_type": "code",
   "execution_count": 4,
   "id": "f9fb1aa6-9e24-4bc3-82cb-46acd36dcc9e",
   "metadata": {},
   "outputs": [],
   "source": [
    "class AFHQDataset(Dataset):\n",
    "    def __init__(self, root_dir, transform=None):\n",
    "        \"\"\"\n",
    "        root_dir: path of the parent directory that contains images.\n",
    "        transforms: augmentations applied to the images (can be none or more).\n",
    "        \"\"\"\n",
    "        self.root_dir = root_dir\n",
    "        self.transform = transform\n",
    "        self.image_paths = []\n",
    "        self.labels = []\n",
    "        self.class_mapping = {}\n",
    "        \n",
    "        extensions = (\".jpg\", \".jpeg\", \".png\")\n",
    "        # go through all sub-directories\n",
    "        for label, category in enumerate(sorted(os.listdir(root_dir))):\n",
    "            full_path = os.path.join(root_dir, category)\n",
    "            if os.path.exists(full_path):\n",
    "                self.class_mapping[label] = category\n",
    "                for img_name in os.listdir(full_path):\n",
    "                    if img_name.endswith(extensions):\n",
    "                        self.image_paths.append(os.path.join(full_path, img_name))\n",
    "                        self.labels.append(label)\n",
    "\n",
    "    def __len__(self):\n",
    "        return len(self.image_paths)\n",
    "\n",
    "    def __getitem__(self, idx):\n",
    "        img_path = self.image_paths[idx]\n",
    "        image = Image.open(img_path).convert('RGB')\n",
    "        label = self.labels[idx]\n",
    "        \n",
    "        if self.transform:\n",
    "            image = self.transform(image)\n",
    "        \n",
    "        return image, label"
   ]
  },
  {
   "cell_type": "code",
   "execution_count": 5,
   "id": "9035e1cc-6ac7-4849-860f-6d666b5ea92c",
   "metadata": {},
   "outputs": [],
   "source": [
    "# Dataset Hyperparameters\n",
    "img_size = 64\n",
    "batch_size = 64\n",
    "\n",
    "# dataset paths\n",
    "train_dir = '/home/user/javeda1/stargan-v2/data/afhq/train'\n",
    "val_dir = '/home/user/javeda1/stargan-v2/data/afhq/val'"
   ]
  },
  {
   "cell_type": "code",
   "execution_count": 6,
   "id": "78aef0ab-4809-4841-8dd4-6cec1b2179e4",
   "metadata": {},
   "outputs": [],
   "source": [
    "transform = transforms.Compose([\n",
    "    transforms.Resize((img_size, img_size)),\n",
    "    transforms.ToTensor(),\n",
    "    transforms.Normalize((0.5, 0.5, 0.5), (0.5, 0.5, 0.5))\n",
    "])"
   ]
  },
  {
   "cell_type": "code",
   "execution_count": 7,
   "id": "82fce038-4622-4fed-8cab-e50e77949700",
   "metadata": {},
   "outputs": [
    {
     "name": "stdout",
     "output_type": "stream",
     "text": [
      "Train dataset size: 14630\n",
      "Validation dataset size: 1500\n"
     ]
    }
   ],
   "source": [
    "# Load the train and val dataset\n",
    "train_dataset = AFHQDataset(root_dir=train_dir, transform=transform)\n",
    "val_dataset = AFHQDataset(root_dir=val_dir, transform=transform)\n",
    "\n",
    "# DataLoaders for train and val sets\n",
    "train_loader = DataLoader(train_dataset, batch_size=batch_size, shuffle=True, num_workers=4)\n",
    "val_loader = DataLoader(val_dataset, batch_size=batch_size, shuffle=False, num_workers=4)\n",
    "\n",
    "train_size = len(train_loader.dataset)\n",
    "val_size = len(val_loader.dataset)\n",
    "\n",
    "print(f\"Train dataset size: {train_size}\")\n",
    "print(f\"Validation dataset size: {val_size}\")"
   ]
  },
  {
   "cell_type": "code",
   "execution_count": 8,
   "id": "4ae82ffc-f342-4b4f-9e76-2b49d420ccd2",
   "metadata": {},
   "outputs": [],
   "source": [
    "# Same as the one used in assignment-5\n",
    "def compute_fid_score_gan(generator, data_loader, device, latent_dim=256, max_samples=1000):\n",
    "    \"\"\"\n",
    "    Computes the Fréchet Inception Distance (FID) between real and generated images.\n",
    "    \"\"\"\n",
    "    fid = FrechetInceptionDistance(feature=2048).to(device)\n",
    "    generator.eval()\n",
    "    \n",
    "    total_samples = 0\n",
    "    with torch.no_grad():\n",
    "        for real_images, _ in data_loader:\n",
    "            batch_size = real_images.size(0)\n",
    "            real_images = real_images.to(device)\n",
    "            \n",
    "            # Generate fake images\n",
    "            noise = torch.randn(batch_size, latent_dim, device=device)\n",
    "            fake_images = generator(noise)\n",
    "            \n",
    "            # Convert images to uint8 and scale to [0, 255]\n",
    "            real_images = (real_images * 0.5 + 0.5).clamp(0, 1)\n",
    "            fake_images = (fake_images * 0.5 + 0.5).clamp(0, 1)\n",
    "            real_images = (real_images * 255).byte()\n",
    "            fake_images = (fake_images * 255).byte()\n",
    "            \n",
    "            fid.update(real_images, real=True)\n",
    "            fid.update(fake_images, real=False)\n",
    "            \n",
    "            total_samples += batch_size\n",
    "            if total_samples >= max_samples:\n",
    "                break\n",
    "    \n",
    "    return fid.compute().item()"
   ]
  },
  {
   "cell_type": "code",
   "execution_count": 9,
   "id": "844c2eac-77d8-4efb-928a-54f07770029f",
   "metadata": {},
   "outputs": [],
   "source": [
    "def train_dcgan(generator, discriminator, dataloader, latent_dim, epochs, device,\n",
    "                train_disc=1, lr_g=0.0002, lr_d=0.0008, beta1=0.5, step_size=10, gamma=0.5,\n",
    "                label_smoothing=False, project=\"DCGAN-AFHQ2\", name=\"run1\",\n",
    "               output_folder=\"generated_images\"):\n",
    "    \n",
    "    #optimizers\n",
    "    optimizer_g = optim.Adam(generator.parameters(), lr=lr_g, betas=(beta1, 0.999))\n",
    "    optimizer_d = optim.Adam(discriminator.parameters(), lr=lr_d, betas=(beta1, 0.999))\n",
    "\n",
    "    # Learning rate schedulers\n",
    "    scheduler_g = optim.lr_scheduler.StepLR(optimizer_g, step_size=step_size, gamma=gamma)\n",
    "    scheduler_d = optim.lr_scheduler.StepLR(optimizer_d, step_size=step_size, gamma=gamma)\n",
    "\n",
    "    # Loss function\n",
    "    criterion = nn.BCELoss()\n",
    "\n",
    "    # Fixed noise for evaluation\n",
    "    fixed_noise = torch.randn(64, latent_dim, device=device)\n",
    "\n",
    "    # Labels for real and fake data\n",
    "    if label_smoothing:\n",
    "        real_label = 0.9  # Label smoothing for real images\n",
    "    else:\n",
    "        real_label = 1.0\n",
    "\n",
    "    fake_label = 0.0\n",
    "\n",
    "    # Initialize WandB\n",
    "    run_timestamp = datetime.datetime.now().strftime(\"%Y%m%d_%H%M%S\")\n",
    "    unique_name = f\"{name}_{run_timestamp}\"\n",
    "\n",
    "    wandb.init(project=project, name=name, id=unique_name, config={\n",
    "        \"latent_dim\": latent_dim,\n",
    "        \"epochs\": epochs,\n",
    "        \"lr_g\": lr_g,\n",
    "        \"lr_d\": lr_d,\n",
    "        \"beta1\": beta1,\n",
    "        \"step_size\": step_size,\n",
    "        \"gamma\": gamma\n",
    "    })\n",
    "\n",
    "    # Output directory for generated images\n",
    "    output_dir = output_folder\n",
    "    os.makedirs(output_dir, exist_ok=True)\n",
    "\n",
    "    # Training loop\n",
    "    for epoch in range(epochs):\n",
    "        g_loss_total = 0.0\n",
    "        d_loss_total = 0.0\n",
    "\n",
    "        for i, (real_images, _) in enumerate(tqdm(dataloader, desc=f\"Epoch {epoch+1}/{epochs}\")):\n",
    "            batch_size = real_images.size(0)\n",
    "\n",
    "            real_images = real_images.to(device)\n",
    "\n",
    "            # Train Discriminator\n",
    "            if i % train_disc == 0:  # Train the discriminator less frequently\n",
    "                discriminator.zero_grad()\n",
    "\n",
    "                # Real images\n",
    "                labels_real = torch.full((batch_size,), real_label, device=device)\n",
    "                output_real = discriminator(real_images).view(-1)\n",
    "                loss_real = criterion(output_real, labels_real)\n",
    "\n",
    "                # Fake images\n",
    "                noise = torch.randn(batch_size, latent_dim, device=device)\n",
    "                fake_images = generator(noise)\n",
    "                labels_fake = torch.full((batch_size,), fake_label, device=device)\n",
    "                output_fake = discriminator(fake_images.detach()).view(-1)\n",
    "                loss_fake = criterion(output_fake, labels_fake)\n",
    "\n",
    "                # Combine losses and backpropagate\n",
    "                d_loss = loss_real + loss_fake\n",
    "                d_loss.backward()\n",
    "                optimizer_d.step()\n",
    "\n",
    "                d_loss_total += d_loss.item()\n",
    "\n",
    "            # Train Generator\n",
    "            generator.zero_grad()\n",
    "            noise = torch.randn(batch_size, latent_dim, device=device)\n",
    "            fake_images = generator(noise)\n",
    "            output = discriminator(fake_images).view(-1)\n",
    "            g_loss = criterion(output, labels_real)\n",
    "            g_loss.backward()\n",
    "            optimizer_g.step()\n",
    "\n",
    "            g_loss_total += g_loss.item()\n",
    "\n",
    "        # Step LR\n",
    "        scheduler_g.step()\n",
    "        scheduler_d.step()\n",
    "\n",
    "        # Log learning rates\n",
    "        # wandb.log({\"Learning Rate Generator\": scheduler_g.get_last_lr()[0],\n",
    "        #            \"Learning Rate Discriminator\": scheduler_d.get_last_lr()[0]})\n",
    "\n",
    "        # Log losses and generate sample images\n",
    "        avg_g_loss = g_loss_total / len(dataloader)\n",
    "        avg_d_loss = d_loss_total / len(dataloader)\n",
    "\n",
    "        # Compute FID\n",
    "        fid_score = compute_fid_score_gan(generator, dataloader, device, latent_dim)\n",
    "\n",
    "        # Log metrics\n",
    "        # wandb.log({\"Generator Loss\": avg_g_loss, \"Discriminator Loss\": avg_d_loss, \"FID Score\": fid_score})\n",
    "\n",
    "        # Genreate fake image as grids\n",
    "        with torch.no_grad():\n",
    "            sample_images = generator(fixed_noise).detach().cpu()\n",
    "            sample_grid = make_grid(sample_images, nrow=8, normalize=True, scale_each=True)\n",
    "\n",
    "            real_images_grid = make_grid(real_images[:64], nrow=8, normalize=True, scale_each=True)\n",
    "\n",
    "            # Save generated grid to disk\n",
    "            save_image(sample_grid, os.path.join(output_dir, f\"epoch_{epoch+1:03d}_generated.png\"))\n",
    "\n",
    "        wandb.log({\n",
    "            \"Generated Images Grid\": wandb.Image(sample_grid, caption=\"Generated Images\"),\n",
    "            \"Real Images Grid\": wandb.Image(real_images_grid, caption=\"Real Images\"),\n",
    "            \"Learning Rate Generator\": scheduler_g.get_last_lr()[0],\n",
    "            \"Learning Rate Discriminator\": scheduler_d.get_last_lr()[0],\n",
    "            \"Generator Loss\": avg_g_loss, \"Discriminator Loss\": avg_d_loss, \"FID Score\": fid_score\n",
    "        })\n",
    "\n",
    "    # Finish the WandB run\n",
    "    wandb.finish()\n",
    "    return"
   ]
  },
  {
   "cell_type": "markdown",
   "id": "c5c14098-231d-4324-9db7-d7d8c9a410d8",
   "metadata": {},
   "source": [
    "### Define Model"
   ]
  },
  {
   "cell_type": "code",
   "execution_count": 10,
   "id": "77f8a361-2532-4d1e-9f37-3c5b61bdaee8",
   "metadata": {},
   "outputs": [],
   "source": [
    "# Taken from: https://pytorch.org/tutorials/beginner/dcgan_faces_tutorial.html\n",
    "# Define weights initialization function\n",
    "def weights_init(m):\n",
    "    classname = m.__class__.__name__\n",
    "    if classname.find('Conv') != -1:\n",
    "        nn.init.normal_(m.weight.data, 0.0, 0.02)\n",
    "    elif classname.find('BatchNorm') != -1:\n",
    "        nn.init.normal_(m.weight.data, 1.0, 0.02)\n",
    "        nn.init.constant_(m.bias.data, 0)"
   ]
  },
  {
   "cell_type": "code",
   "execution_count": 11,
   "id": "24c9365d-46f0-4bd3-9470-f8d6d5841adb",
   "metadata": {},
   "outputs": [],
   "source": [
    "class Generator(nn.Module):\n",
    "    def __init__(self, latent_dim=256, num_channels=3):\n",
    "        super(Generator, self).__init__()\n",
    "        \n",
    "        \n",
    "        self.fc = nn.Linear(latent_dim, 512 * 4 * 4)\n",
    "        self.bn1 = nn.BatchNorm2d(512)\n",
    "        self.relu1 = nn.ReLU(True)\n",
    "        \n",
    "        # Second block\n",
    "        self.upsample2 = nn.Upsample(scale_factor=2)\n",
    "        self.conv2 = nn.Conv2d(512, 256, 3, 1, 1, bias=False)\n",
    "        self.bn2 = nn.BatchNorm2d(256)\n",
    "        self.relu2 = nn.ReLU(True)\n",
    "        \n",
    "        # Third block\n",
    "        self.upsample3 = nn.Upsample(scale_factor=2)\n",
    "        self.conv3 = nn.Conv2d(256, 128, 3, 1, 1, bias=False)\n",
    "        self.bn3 = nn.BatchNorm2d(128)\n",
    "        self.relu3 = nn.ReLU(True)\n",
    "        \n",
    "        # Fourth block\n",
    "        self.upsample4 = nn.Upsample(scale_factor=2)\n",
    "        self.conv4 = nn.Conv2d(128, 64, 3, 1, 1, bias=False)\n",
    "        self.bn4 = nn.BatchNorm2d(64)\n",
    "        self.relu4 = nn.ReLU(True)\n",
    "        \n",
    "        # Fifth block\n",
    "        self.upsample5 = nn.Upsample(scale_factor=2)\n",
    "        self.conv5 = nn.Conv2d(64, num_channels, 3, 1, 1, bias=False)\n",
    "        self.tanh = nn.Tanh()\n",
    "\n",
    "    def forward(self, x):\n",
    "        x = self.fc(x.view(-1, x.size(1)))\n",
    "        x = x.view(-1, 512, 4, 4)\n",
    "        x = self.bn1(x)\n",
    "        x = self.relu1(x)\n",
    "        \n",
    "        # Second block\n",
    "        x = self.upsample2(x)\n",
    "        x = self.conv2(x)\n",
    "        x = self.bn2(x)\n",
    "        x = self.relu2(x)\n",
    "        \n",
    "        # Third block\n",
    "        x = self.upsample3(x)\n",
    "        x = self.conv3(x)\n",
    "        x = self.bn3(x)\n",
    "        x = self.relu3(x)\n",
    "        \n",
    "        # Fourth block\n",
    "        x = self.upsample4(x)\n",
    "        x = self.conv4(x)\n",
    "        x = self.bn4(x)\n",
    "        x = self.relu4(x)\n",
    "        \n",
    "        # Fifth block\n",
    "        x = self.upsample5(x)\n",
    "        x = self.conv5(x)\n",
    "        x = self.tanh(x)\n",
    "        \n",
    "        return x\n",
    "\n",
    "class Discriminator(nn.Module):\n",
    "    def __init__(self, num_channels=3):\n",
    "        super(Discriminator, self).__init__()\n",
    "        \n",
    "        # First convolution block\n",
    "        self.conv1 = nn.Conv2d(num_channels, 64, 4, 2, 1, bias=False)\n",
    "        self.lrelu1 = nn.LeakyReLU(0.2, inplace=True)\n",
    "        \n",
    "        # Second convolution block\n",
    "        self.conv2 = nn.Conv2d(64, 128, 4, 2, 1, bias=False)\n",
    "        self.bn2 = nn.BatchNorm2d(128)\n",
    "        self.lrelu2 = nn.LeakyReLU(0.2, inplace=True)\n",
    "        \n",
    "        # Third convolution block\n",
    "        self.conv3 = nn.Conv2d(128, 256, 4, 2, 1, bias=False)\n",
    "        self.bn3 = nn.BatchNorm2d(256)\n",
    "        self.lrelu3 = nn.LeakyReLU(0.2, inplace=True)\n",
    "        \n",
    "        # Fourth convolution block\n",
    "        self.conv4 = nn.Conv2d(256, 512, 4, 2, 1, bias=False)\n",
    "        self.bn4 = nn.BatchNorm2d(512)\n",
    "        self.lrelu4 = nn.LeakyReLU(0.2, inplace=True)\n",
    "        \n",
    "        # Final convolution\n",
    "        self.conv5 = nn.Conv2d(512, 1, 4, 1, 0, bias=False)\n",
    "        self.sigmoid = nn.Sigmoid()\n",
    "\n",
    "    def forward(self, x):\n",
    "        x = self.conv1(x)\n",
    "        x = self.lrelu1(x)\n",
    "        \n",
    "        x = self.conv2(x)\n",
    "        x = self.bn2(x)\n",
    "        x = self.lrelu2(x)\n",
    "        \n",
    "        x = self.conv3(x)\n",
    "        x = self.bn3(x)\n",
    "        x = self.lrelu3(x)\n",
    "        \n",
    "        x = self.conv4(x)\n",
    "        x = self.bn4(x)\n",
    "        x = self.lrelu4(x)\n",
    "        \n",
    "        x = self.conv5(x)\n",
    "        x = self.sigmoid(x)\n",
    "        \n",
    "        return x.view(-1)"
   ]
  },
  {
   "cell_type": "markdown",
   "id": "4d72af40-315b-44ea-b5ae-4761fbfe175d",
   "metadata": {},
   "source": [
    "### Model Training"
   ]
  },
  {
   "cell_type": "code",
   "execution_count": null,
   "id": "8d331083-ff20-4802-ac5c-5c294fd33a7e",
   "metadata": {},
   "outputs": [
    {
     "name": "stderr",
     "output_type": "stream",
     "text": [
      "\u001b[34m\u001b[1mwandb\u001b[0m: Using wandb-core as the SDK backend.  Please refer to https://wandb.me/wandb-core for more information.\n",
      "\u001b[34m\u001b[1mwandb\u001b[0m: Currently logged in as: \u001b[33mahmadjaved97\u001b[0m. Use \u001b[1m`wandb login --relogin`\u001b[0m to force relogin\n"
     ]
    },
    {
     "data": {
      "text/html": [
       "Tracking run with wandb version 0.19.1"
      ],
      "text/plain": [
       "<IPython.core.display.HTML object>"
      ]
     },
     "metadata": {},
     "output_type": "display_data"
    },
    {
     "data": {
      "text/html": [
       "Run data is saved locally in <code>/home/user/javeda1/MA-INF-4308-Lab-Vision-Systems/Assignment-6/wandb/run-20250120_154654-run_ld_100_ep_25_td_1_20250120_154651</code>"
      ],
      "text/plain": [
       "<IPython.core.display.HTML object>"
      ]
     },
     "metadata": {},
     "output_type": "display_data"
    },
    {
     "data": {
      "text/html": [
       "Syncing run <strong><a href='https://wandb.ai/ahmadjaved97/dcgan-t1/runs/run_ld_100_ep_25_td_1_20250120_154651' target=\"_blank\">run_ld_100_ep_25_td_1</a></strong> to <a href='https://wandb.ai/ahmadjaved97/dcgan-t1' target=\"_blank\">Weights & Biases</a> (<a href='https://wandb.me/developer-guide' target=\"_blank\">docs</a>)<br>"
      ],
      "text/plain": [
       "<IPython.core.display.HTML object>"
      ]
     },
     "metadata": {},
     "output_type": "display_data"
    },
    {
     "data": {
      "text/html": [
       " View project at <a href='https://wandb.ai/ahmadjaved97/dcgan-t1' target=\"_blank\">https://wandb.ai/ahmadjaved97/dcgan-t1</a>"
      ],
      "text/plain": [
       "<IPython.core.display.HTML object>"
      ]
     },
     "metadata": {},
     "output_type": "display_data"
    },
    {
     "data": {
      "text/html": [
       " View run at <a href='https://wandb.ai/ahmadjaved97/dcgan-t1/runs/run_ld_100_ep_25_td_1_20250120_154651' target=\"_blank\">https://wandb.ai/ahmadjaved97/dcgan-t1/runs/run_ld_100_ep_25_td_1_20250120_154651</a>"
      ],
      "text/plain": [
       "<IPython.core.display.HTML object>"
      ]
     },
     "metadata": {},
     "output_type": "display_data"
    },
    {
     "name": "stderr",
     "output_type": "stream",
     "text": [
      "Epoch 1/25: 100%|█████████████████████████████████████████| 229/229 [00:39<00:00,  5.81it/s]\n",
      "Epoch 2/25: 100%|█████████████████████████████████████████| 229/229 [00:09<00:00, 22.99it/s]\n",
      "Epoch 3/25: 100%|█████████████████████████████████████████| 229/229 [00:10<00:00, 21.55it/s]\n",
      "Epoch 4/25: 100%|█████████████████████████████████████████| 229/229 [00:10<00:00, 21.32it/s]\n",
      "Epoch 5/25: 100%|█████████████████████████████████████████| 229/229 [00:18<00:00, 12.16it/s]\n",
      "Epoch 6/25: 100%|█████████████████████████████████████████| 229/229 [00:20<00:00, 10.92it/s]\n",
      "Epoch 7/25: 100%|█████████████████████████████████████████| 229/229 [00:18<00:00, 12.14it/s]\n",
      "Epoch 8/25: 100%|█████████████████████████████████████████| 229/229 [00:19<00:00, 11.86it/s]\n",
      "Epoch 9/25: 100%|█████████████████████████████████████████| 229/229 [00:18<00:00, 12.11it/s]\n"
     ]
    }
   ],
   "source": [
    "# Train the model\n",
    "latent_dim = 100\n",
    "epochs = 25\n",
    "lr_g=0.0002\n",
    "lr_d=0.0004\n",
    "train_disc=1\n",
    "label_smoothing=True\n",
    "generator = Generator(latent_dim=latent_dim).to(device)\n",
    "generator.apply(weights_init)\n",
    "discriminator = Discriminator().to(device)\n",
    "discriminator.apply(weights_init)\n",
    "name=f\"run_ld_{latent_dim}_ep_{epochs}_td_{train_disc}\"\n",
    "train_dcgan(generator, discriminator, train_loader, latent_dim, epochs, device, lr_g=lr_g, lr_d=lr_d, project='dcgan-t1', name=name, label_smoothing=label_smoothing)"
   ]
  },
  {
   "cell_type": "code",
   "execution_count": 14,
   "id": "331d274f-f407-4f58-b10d-44ef7177ada6",
   "metadata": {},
   "outputs": [
    {
     "data": {
      "text/html": [
       "Tracking run with wandb version 0.19.1"
      ],
      "text/plain": [
       "<IPython.core.display.HTML object>"
      ]
     },
     "metadata": {},
     "output_type": "display_data"
    },
    {
     "data": {
      "text/html": [
       "Run data is saved locally in <code>/home/user/javeda1/MA-INF-4308-Lab-Vision-Systems/Assignment-6/wandb/run-20250120_160050-run_ld_128_ep_25_td_1_20250120_160050</code>"
      ],
      "text/plain": [
       "<IPython.core.display.HTML object>"
      ]
     },
     "metadata": {},
     "output_type": "display_data"
    },
    {
     "data": {
      "text/html": [
       "Syncing run <strong><a href='https://wandb.ai/ahmadjaved97/dcgan-t1/runs/run_ld_128_ep_25_td_1_20250120_160050' target=\"_blank\">run_ld_128_ep_25_td_1</a></strong> to <a href='https://wandb.ai/ahmadjaved97/dcgan-t1' target=\"_blank\">Weights & Biases</a> (<a href='https://wandb.me/developer-guide' target=\"_blank\">docs</a>)<br>"
      ],
      "text/plain": [
       "<IPython.core.display.HTML object>"
      ]
     },
     "metadata": {},
     "output_type": "display_data"
    },
    {
     "data": {
      "text/html": [
       " View project at <a href='https://wandb.ai/ahmadjaved97/dcgan-t1' target=\"_blank\">https://wandb.ai/ahmadjaved97/dcgan-t1</a>"
      ],
      "text/plain": [
       "<IPython.core.display.HTML object>"
      ]
     },
     "metadata": {},
     "output_type": "display_data"
    },
    {
     "data": {
      "text/html": [
       " View run at <a href='https://wandb.ai/ahmadjaved97/dcgan-t1/runs/run_ld_128_ep_25_td_1_20250120_160050' target=\"_blank\">https://wandb.ai/ahmadjaved97/dcgan-t1/runs/run_ld_128_ep_25_td_1_20250120_160050</a>"
      ],
      "text/plain": [
       "<IPython.core.display.HTML object>"
      ]
     },
     "metadata": {},
     "output_type": "display_data"
    },
    {
     "name": "stderr",
     "output_type": "stream",
     "text": [
      "Epoch 1/25: 100%|█████████████████████████████████████████| 229/229 [00:13<00:00, 16.78it/s]\n",
      "Epoch 2/25: 100%|█████████████████████████████████████████| 229/229 [00:10<00:00, 22.83it/s]\n",
      "Epoch 3/25: 100%|█████████████████████████████████████████| 229/229 [00:17<00:00, 13.43it/s]\n",
      "Epoch 4/25: 100%|█████████████████████████████████████████| 229/229 [00:25<00:00,  9.02it/s]\n",
      "Epoch 5/25: 100%|█████████████████████████████████████████| 229/229 [00:18<00:00, 12.18it/s]\n",
      "Epoch 6/25: 100%|█████████████████████████████████████████| 229/229 [00:18<00:00, 12.57it/s]\n",
      "Epoch 7/25: 100%|█████████████████████████████████████████| 229/229 [00:17<00:00, 13.34it/s]\n",
      "Epoch 8/25: 100%|█████████████████████████████████████████| 229/229 [00:17<00:00, 12.73it/s]\n",
      "Epoch 9/25: 100%|█████████████████████████████████████████| 229/229 [00:17<00:00, 12.86it/s]\n",
      "Epoch 10/25: 100%|████████████████████████████████████████| 229/229 [00:19<00:00, 11.65it/s]\n",
      "Epoch 11/25: 100%|████████████████████████████████████████| 229/229 [00:18<00:00, 12.06it/s]\n",
      "Epoch 12/25: 100%|████████████████████████████████████████| 229/229 [00:16<00:00, 13.50it/s]\n",
      "Epoch 13/25: 100%|████████████████████████████████████████| 229/229 [00:19<00:00, 11.92it/s]\n",
      "Epoch 14/25: 100%|████████████████████████████████████████| 229/229 [00:21<00:00, 10.81it/s]\n",
      "Epoch 15/25: 100%|████████████████████████████████████████| 229/229 [00:18<00:00, 12.35it/s]\n",
      "Epoch 16/25: 100%|████████████████████████████████████████| 229/229 [00:17<00:00, 12.90it/s]\n",
      "Epoch 17/25: 100%|████████████████████████████████████████| 229/229 [00:19<00:00, 11.67it/s]\n",
      "Epoch 18/25: 100%|████████████████████████████████████████| 229/229 [00:10<00:00, 21.24it/s]\n",
      "Epoch 19/25: 100%|████████████████████████████████████████| 229/229 [00:09<00:00, 23.70it/s]\n",
      "Epoch 20/25: 100%|████████████████████████████████████████| 229/229 [00:09<00:00, 23.09it/s]\n",
      "Epoch 21/25: 100%|████████████████████████████████████████| 229/229 [00:10<00:00, 22.37it/s]\n",
      "Epoch 22/25: 100%|████████████████████████████████████████| 229/229 [00:10<00:00, 21.93it/s]\n",
      "Epoch 23/25: 100%|████████████████████████████████████████| 229/229 [00:09<00:00, 23.55it/s]\n",
      "Epoch 24/25: 100%|████████████████████████████████████████| 229/229 [00:10<00:00, 22.10it/s]\n",
      "Epoch 25/25: 100%|████████████████████████████████████████| 229/229 [00:09<00:00, 23.38it/s]\n"
     ]
    },
    {
     "data": {
      "text/html": [],
      "text/plain": [
       "<IPython.core.display.HTML object>"
      ]
     },
     "metadata": {},
     "output_type": "display_data"
    },
    {
     "data": {
      "text/html": [
       "<br>    <style><br>        .wandb-row {<br>            display: flex;<br>            flex-direction: row;<br>            flex-wrap: wrap;<br>            justify-content: flex-start;<br>            width: 100%;<br>        }<br>        .wandb-col {<br>            display: flex;<br>            flex-direction: column;<br>            flex-basis: 100%;<br>            flex: 1;<br>            padding: 10px;<br>        }<br>    </style><br><div class=\"wandb-row\"><div class=\"wandb-col\"><h3>Run history:</h3><br/><table class=\"wandb\"><tr><td>Discriminator Loss</td><td>█▆▃▄▄▄▄▃▃▃▂▂▂▂▂▃▂▂▂▂▁▁▁▁▁</td></tr><tr><td>FID Score</td><td>██▇▇▇▆▆▆▅▅▄▄▄▃▃▃▂▂▂▂▁▁▁▂▁</td></tr><tr><td>Generator Loss</td><td>█▂▅▂▃▂▂▁▂▂▂▂▂▂▃▂▂▃▃▃▃▃▃▄▄</td></tr><tr><td>Learning Rate Discriminator</td><td>█████████▃▃▃▃▃▃▃▃▃▃▁▁▁▁▁▁</td></tr><tr><td>Learning Rate Generator</td><td>█████████▃▃▃▃▃▃▃▃▃▃▁▁▁▁▁▁</td></tr></table><br/></div><div class=\"wandb-col\"><h3>Run summary:</h3><br/><table class=\"wandb\"><tr><td>Discriminator Loss</td><td>0.39326</td></tr><tr><td>FID Score</td><td>120.48156</td></tr><tr><td>Generator Loss</td><td>4.13669</td></tr><tr><td>Learning Rate Discriminator</td><td>0.0001</td></tr><tr><td>Learning Rate Generator</td><td>5e-05</td></tr></table><br/></div></div>"
      ],
      "text/plain": [
       "<IPython.core.display.HTML object>"
      ]
     },
     "metadata": {},
     "output_type": "display_data"
    },
    {
     "data": {
      "text/html": [
       " View run <strong style=\"color:#cdcd00\">run_ld_128_ep_25_td_1</strong> at: <a href='https://wandb.ai/ahmadjaved97/dcgan-t1/runs/run_ld_128_ep_25_td_1_20250120_160050' target=\"_blank\">https://wandb.ai/ahmadjaved97/dcgan-t1/runs/run_ld_128_ep_25_td_1_20250120_160050</a><br> View project at: <a href='https://wandb.ai/ahmadjaved97/dcgan-t1' target=\"_blank\">https://wandb.ai/ahmadjaved97/dcgan-t1</a><br>Synced 5 W&B file(s), 0 media file(s), 0 artifact file(s) and 50 other file(s)"
      ],
      "text/plain": [
       "<IPython.core.display.HTML object>"
      ]
     },
     "metadata": {},
     "output_type": "display_data"
    },
    {
     "data": {
      "text/html": [
       "Find logs at: <code>./wandb/run-20250120_160050-run_ld_128_ep_25_td_1_20250120_160050/logs</code>"
      ],
      "text/plain": [
       "<IPython.core.display.HTML object>"
      ]
     },
     "metadata": {},
     "output_type": "display_data"
    }
   ],
   "source": [
    "# Train the model\n",
    "latent_dim = 128\n",
    "epochs = 25\n",
    "lr_g=0.0002\n",
    "lr_d=0.0004\n",
    "train_disc=1\n",
    "generator = Generator(latent_dim=latent_dim).to(device)\n",
    "generator.apply(weights_init)\n",
    "discriminator = Discriminator().to(device)\n",
    "discriminator.apply(weights_init)\n",
    "name=f\"run_ld_{latent_dim}_ep_{epochs}_td_{train_disc}\"\n",
    "label_smoothing=True\n",
    "train_dcgan(generator, discriminator, train_loader, latent_dim, epochs, device, lr_g=lr_g, lr_d=lr_d, project='dcgan-t1', name=name, label_smoothing=label_smoothing)"
   ]
  },
  {
   "cell_type": "code",
   "execution_count": 16,
   "id": "690aa179-4192-4386-972a-c88adde2f228",
   "metadata": {},
   "outputs": [
    {
     "data": {
      "text/html": [
       "Tracking run with wandb version 0.19.1"
      ],
      "text/plain": [
       "<IPython.core.display.HTML object>"
      ]
     },
     "metadata": {},
     "output_type": "display_data"
    },
    {
     "data": {
      "text/html": [
       "Run data is saved locally in <code>/home/user/javeda1/MA-INF-4308-Lab-Vision-Systems/Assignment-6/wandb/run-20250120_161725-run_ld_200_ep_25_td_1_20250120_161725</code>"
      ],
      "text/plain": [
       "<IPython.core.display.HTML object>"
      ]
     },
     "metadata": {},
     "output_type": "display_data"
    },
    {
     "data": {
      "text/html": [
       "Syncing run <strong><a href='https://wandb.ai/ahmadjaved97/dcgan-t1/runs/run_ld_200_ep_25_td_1_20250120_161725' target=\"_blank\">run_ld_200_ep_25_td_1</a></strong> to <a href='https://wandb.ai/ahmadjaved97/dcgan-t1' target=\"_blank\">Weights & Biases</a> (<a href='https://wandb.me/developer-guide' target=\"_blank\">docs</a>)<br>"
      ],
      "text/plain": [
       "<IPython.core.display.HTML object>"
      ]
     },
     "metadata": {},
     "output_type": "display_data"
    },
    {
     "data": {
      "text/html": [
       " View project at <a href='https://wandb.ai/ahmadjaved97/dcgan-t1' target=\"_blank\">https://wandb.ai/ahmadjaved97/dcgan-t1</a>"
      ],
      "text/plain": [
       "<IPython.core.display.HTML object>"
      ]
     },
     "metadata": {},
     "output_type": "display_data"
    },
    {
     "data": {
      "text/html": [
       " View run at <a href='https://wandb.ai/ahmadjaved97/dcgan-t1/runs/run_ld_200_ep_25_td_1_20250120_161725' target=\"_blank\">https://wandb.ai/ahmadjaved97/dcgan-t1/runs/run_ld_200_ep_25_td_1_20250120_161725</a>"
      ],
      "text/plain": [
       "<IPython.core.display.HTML object>"
      ]
     },
     "metadata": {},
     "output_type": "display_data"
    },
    {
     "name": "stderr",
     "output_type": "stream",
     "text": [
      "Epoch 1/25: 100%|█████████████████████████████████████████| 229/229 [00:40<00:00,  5.69it/s]\n",
      "Epoch 2/25: 100%|█████████████████████████████████████████| 229/229 [00:18<00:00, 12.18it/s]\n",
      "Epoch 3/25: 100%|█████████████████████████████████████████| 229/229 [00:17<00:00, 13.16it/s]\n",
      "Epoch 4/25: 100%|█████████████████████████████████████████| 229/229 [00:18<00:00, 12.07it/s]\n",
      "Epoch 5/25: 100%|█████████████████████████████████████████| 229/229 [00:18<00:00, 12.71it/s]\n",
      "Epoch 6/25: 100%|█████████████████████████████████████████| 229/229 [00:21<00:00, 10.47it/s]\n",
      "Epoch 7/25: 100%|█████████████████████████████████████████| 229/229 [00:10<00:00, 22.69it/s]\n",
      "Epoch 8/25: 100%|█████████████████████████████████████████| 229/229 [00:09<00:00, 24.06it/s]\n",
      "Epoch 9/25: 100%|█████████████████████████████████████████| 229/229 [00:09<00:00, 23.58it/s]\n",
      "Epoch 10/25: 100%|████████████████████████████████████████| 229/229 [00:09<00:00, 23.92it/s]\n",
      "Epoch 11/25: 100%|████████████████████████████████████████| 229/229 [00:09<00:00, 23.11it/s]\n",
      "Epoch 12/25: 100%|████████████████████████████████████████| 229/229 [00:09<00:00, 22.93it/s]\n",
      "Epoch 13/25: 100%|████████████████████████████████████████| 229/229 [00:09<00:00, 23.64it/s]\n",
      "Epoch 14/25: 100%|████████████████████████████████████████| 229/229 [00:10<00:00, 22.22it/s]\n",
      "Epoch 15/25: 100%|████████████████████████████████████████| 229/229 [00:11<00:00, 20.71it/s]\n",
      "Epoch 16/25: 100%|████████████████████████████████████████| 229/229 [00:14<00:00, 16.32it/s]\n",
      "Epoch 17/25: 100%|████████████████████████████████████████| 229/229 [00:09<00:00, 23.04it/s]\n",
      "Epoch 18/25: 100%|████████████████████████████████████████| 229/229 [00:09<00:00, 23.48it/s]\n",
      "Epoch 19/25: 100%|████████████████████████████████████████| 229/229 [00:09<00:00, 23.72it/s]\n",
      "Epoch 20/25: 100%|████████████████████████████████████████| 229/229 [00:09<00:00, 23.43it/s]\n",
      "Epoch 21/25: 100%|████████████████████████████████████████| 229/229 [00:09<00:00, 24.33it/s]\n",
      "Epoch 22/25: 100%|████████████████████████████████████████| 229/229 [00:09<00:00, 23.90it/s]\n",
      "Epoch 23/25: 100%|████████████████████████████████████████| 229/229 [00:10<00:00, 21.95it/s]\n",
      "Epoch 24/25: 100%|████████████████████████████████████████| 229/229 [00:10<00:00, 21.91it/s]\n",
      "Epoch 25/25: 100%|████████████████████████████████████████| 229/229 [00:10<00:00, 22.39it/s]\n"
     ]
    },
    {
     "data": {
      "text/html": [],
      "text/plain": [
       "<IPython.core.display.HTML object>"
      ]
     },
     "metadata": {},
     "output_type": "display_data"
    },
    {
     "data": {
      "text/html": [
       "<br>    <style><br>        .wandb-row {<br>            display: flex;<br>            flex-direction: row;<br>            flex-wrap: wrap;<br>            justify-content: flex-start;<br>            width: 100%;<br>        }<br>        .wandb-col {<br>            display: flex;<br>            flex-direction: column;<br>            flex-basis: 100%;<br>            flex: 1;<br>            padding: 10px;<br>        }<br>    </style><br><div class=\"wandb-row\"><div class=\"wandb-col\"><h3>Run history:</h3><br/><table class=\"wandb\"><tr><td>Discriminator Loss</td><td>█▅▅▄▅▄▄▃▄▃▁▁▂▁▂▁▂▁▃▁▁▁▁▁▁</td></tr><tr><td>FID Score</td><td>█▇▆▇▆▆▆▅▄▅▄▃▃▃▃▃▃▂▂▂▁▁▁▁▁</td></tr><tr><td>Generator Loss</td><td>█▂▃▂▁▁▂▂▁▃▁▂▄▃▄▄▄▄▄▄▄▄▅▅▆</td></tr><tr><td>Learning Rate Discriminator</td><td>█████████▃▃▃▃▃▃▃▃▃▃▁▁▁▁▁▁</td></tr><tr><td>Learning Rate Generator</td><td>█████████▃▃▃▃▃▃▃▃▃▃▁▁▁▁▁▁</td></tr></table><br/></div><div class=\"wandb-col\"><h3>Run summary:</h3><br/><table class=\"wandb\"><tr><td>Discriminator Loss</td><td>0.05287</td></tr><tr><td>FID Score</td><td>116.18854</td></tr><tr><td>Generator Loss</td><td>6.10066</td></tr><tr><td>Learning Rate Discriminator</td><td>0.0001</td></tr><tr><td>Learning Rate Generator</td><td>5e-05</td></tr></table><br/></div></div>"
      ],
      "text/plain": [
       "<IPython.core.display.HTML object>"
      ]
     },
     "metadata": {},
     "output_type": "display_data"
    },
    {
     "data": {
      "text/html": [
       " View run <strong style=\"color:#cdcd00\">run_ld_200_ep_25_td_1</strong> at: <a href='https://wandb.ai/ahmadjaved97/dcgan-t1/runs/run_ld_200_ep_25_td_1_20250120_161725' target=\"_blank\">https://wandb.ai/ahmadjaved97/dcgan-t1/runs/run_ld_200_ep_25_td_1_20250120_161725</a><br> View project at: <a href='https://wandb.ai/ahmadjaved97/dcgan-t1' target=\"_blank\">https://wandb.ai/ahmadjaved97/dcgan-t1</a><br>Synced 5 W&B file(s), 0 media file(s), 0 artifact file(s) and 50 other file(s)"
      ],
      "text/plain": [
       "<IPython.core.display.HTML object>"
      ]
     },
     "metadata": {},
     "output_type": "display_data"
    },
    {
     "data": {
      "text/html": [
       "Find logs at: <code>./wandb/run-20250120_161725-run_ld_200_ep_25_td_1_20250120_161725/logs</code>"
      ],
      "text/plain": [
       "<IPython.core.display.HTML object>"
      ]
     },
     "metadata": {},
     "output_type": "display_data"
    }
   ],
   "source": [
    "# Train the model\n",
    "latent_dim = 200\n",
    "epochs = 25\n",
    "lr_g=0.0002\n",
    "lr_d=0.0004\n",
    "train_disc=1\n",
    "generator = Generator(latent_dim=latent_dim).to(device)\n",
    "generator.apply(weights_init)\n",
    "discriminator = Discriminator().to(device)\n",
    "discriminator.apply(weights_init)\n",
    "name=f\"run_ld_{latent_dim}_ep_{epochs}_td_{train_disc}\"\n",
    "output_folder=name\n",
    "label_smoothing=True\n",
    "train_dcgan(generator, discriminator, train_loader, latent_dim, epochs, device, lr_g=lr_g, lr_d=lr_d, project='dcgan-t1', name=name,\n",
    "           output_folder=name, label_smoothing=label_smoothing)"
   ]
  },
  {
   "cell_type": "code",
   "execution_count": 17,
   "id": "4d6d162a-f2fd-4d38-a2dd-227beb2af767",
   "metadata": {},
   "outputs": [
    {
     "data": {
      "text/html": [
       "Tracking run with wandb version 0.19.1"
      ],
      "text/plain": [
       "<IPython.core.display.HTML object>"
      ]
     },
     "metadata": {},
     "output_type": "display_data"
    },
    {
     "data": {
      "text/html": [
       "Run data is saved locally in <code>/home/user/javeda1/MA-INF-4308-Lab-Vision-Systems/Assignment-6/wandb/run-20250120_162756-run_ld_256_ep_25_td_1_20250120_162756</code>"
      ],
      "text/plain": [
       "<IPython.core.display.HTML object>"
      ]
     },
     "metadata": {},
     "output_type": "display_data"
    },
    {
     "data": {
      "text/html": [
       "Syncing run <strong><a href='https://wandb.ai/ahmadjaved97/dcgan-t1/runs/run_ld_256_ep_25_td_1_20250120_162756' target=\"_blank\">run_ld_256_ep_25_td_1</a></strong> to <a href='https://wandb.ai/ahmadjaved97/dcgan-t1' target=\"_blank\">Weights & Biases</a> (<a href='https://wandb.me/developer-guide' target=\"_blank\">docs</a>)<br>"
      ],
      "text/plain": [
       "<IPython.core.display.HTML object>"
      ]
     },
     "metadata": {},
     "output_type": "display_data"
    },
    {
     "data": {
      "text/html": [
       " View project at <a href='https://wandb.ai/ahmadjaved97/dcgan-t1' target=\"_blank\">https://wandb.ai/ahmadjaved97/dcgan-t1</a>"
      ],
      "text/plain": [
       "<IPython.core.display.HTML object>"
      ]
     },
     "metadata": {},
     "output_type": "display_data"
    },
    {
     "data": {
      "text/html": [
       " View run at <a href='https://wandb.ai/ahmadjaved97/dcgan-t1/runs/run_ld_256_ep_25_td_1_20250120_162756' target=\"_blank\">https://wandb.ai/ahmadjaved97/dcgan-t1/runs/run_ld_256_ep_25_td_1_20250120_162756</a>"
      ],
      "text/plain": [
       "<IPython.core.display.HTML object>"
      ]
     },
     "metadata": {},
     "output_type": "display_data"
    },
    {
     "name": "stderr",
     "output_type": "stream",
     "text": [
      "Epoch 1/25: 100%|█████████████████████████████████████████| 229/229 [00:13<00:00, 17.57it/s]\n",
      "Epoch 2/25: 100%|█████████████████████████████████████████| 229/229 [00:10<00:00, 21.89it/s]\n",
      "Epoch 3/25: 100%|█████████████████████████████████████████| 229/229 [00:09<00:00, 23.37it/s]\n",
      "Epoch 4/25: 100%|█████████████████████████████████████████| 229/229 [00:11<00:00, 20.70it/s]\n",
      "Epoch 5/25: 100%|█████████████████████████████████████████| 229/229 [00:10<00:00, 21.48it/s]\n",
      "Epoch 6/25: 100%|█████████████████████████████████████████| 229/229 [00:09<00:00, 23.78it/s]\n",
      "Epoch 7/25: 100%|█████████████████████████████████████████| 229/229 [00:09<00:00, 23.47it/s]\n",
      "Epoch 8/25: 100%|█████████████████████████████████████████| 229/229 [00:09<00:00, 23.38it/s]\n",
      "Epoch 9/25: 100%|█████████████████████████████████████████| 229/229 [00:09<00:00, 24.63it/s]\n",
      "Epoch 10/25: 100%|████████████████████████████████████████| 229/229 [00:09<00:00, 25.07it/s]\n",
      "Epoch 11/25: 100%|████████████████████████████████████████| 229/229 [00:09<00:00, 23.47it/s]\n",
      "Epoch 12/25: 100%|████████████████████████████████████████| 229/229 [00:09<00:00, 23.52it/s]\n",
      "Epoch 13/25: 100%|████████████████████████████████████████| 229/229 [00:09<00:00, 23.46it/s]\n",
      "Epoch 14/25: 100%|████████████████████████████████████████| 229/229 [00:09<00:00, 23.62it/s]\n",
      "Epoch 15/25: 100%|████████████████████████████████████████| 229/229 [00:10<00:00, 22.09it/s]\n",
      "Epoch 16/25: 100%|████████████████████████████████████████| 229/229 [00:09<00:00, 23.17it/s]\n",
      "Epoch 17/25: 100%|████████████████████████████████████████| 229/229 [00:10<00:00, 22.20it/s]\n",
      "Epoch 18/25: 100%|████████████████████████████████████████| 229/229 [00:11<00:00, 20.37it/s]\n",
      "Epoch 19/25: 100%|████████████████████████████████████████| 229/229 [00:20<00:00, 11.33it/s]\n",
      "Epoch 20/25: 100%|████████████████████████████████████████| 229/229 [00:14<00:00, 15.98it/s]\n",
      "Epoch 21/25: 100%|████████████████████████████████████████| 229/229 [00:18<00:00, 12.11it/s]\n",
      "Epoch 22/25: 100%|████████████████████████████████████████| 229/229 [00:19<00:00, 11.57it/s]\n",
      "Epoch 23/25: 100%|████████████████████████████████████████| 229/229 [00:12<00:00, 17.82it/s]\n",
      "Epoch 24/25: 100%|████████████████████████████████████████| 229/229 [00:18<00:00, 12.16it/s]\n",
      "Epoch 25/25: 100%|████████████████████████████████████████| 229/229 [00:18<00:00, 12.18it/s]\n"
     ]
    },
    {
     "data": {
      "text/html": [],
      "text/plain": [
       "<IPython.core.display.HTML object>"
      ]
     },
     "metadata": {},
     "output_type": "display_data"
    },
    {
     "data": {
      "text/html": [
       "<br>    <style><br>        .wandb-row {<br>            display: flex;<br>            flex-direction: row;<br>            flex-wrap: wrap;<br>            justify-content: flex-start;<br>            width: 100%;<br>        }<br>        .wandb-col {<br>            display: flex;<br>            flex-direction: column;<br>            flex-basis: 100%;<br>            flex: 1;<br>            padding: 10px;<br>        }<br>    </style><br><div class=\"wandb-row\"><div class=\"wandb-col\"><h3>Run history:</h3><br/><table class=\"wandb\"><tr><td>Discriminator Loss</td><td>█▂▁▁▁▁▁▁▁▁▁▁▁▁▁▁▁▁▁▁▁▁▁▁▁</td></tr><tr><td>FID Score</td><td>▁█▇▆▆▃▃▃▃▃▃▃▃▃▃▃▃▃▃▃▃▃▃▃▃</td></tr><tr><td>Generator Loss</td><td>▁▅▅▅▅▆███████████████████</td></tr><tr><td>Learning Rate Discriminator</td><td>█████████▃▃▃▃▃▃▃▃▃▃▁▁▁▁▁▁</td></tr><tr><td>Learning Rate Generator</td><td>█████████▃▃▃▃▃▃▃▃▃▃▁▁▁▁▁▁</td></tr></table><br/></div><div class=\"wandb-col\"><h3>Run summary:</h3><br/><table class=\"wandb\"><tr><td>Discriminator Loss</td><td>0.0</td></tr><tr><td>FID Score</td><td>331.23126</td></tr><tr><td>Generator Loss</td><td>21.93337</td></tr><tr><td>Learning Rate Discriminator</td><td>0.0001</td></tr><tr><td>Learning Rate Generator</td><td>5e-05</td></tr></table><br/></div></div>"
      ],
      "text/plain": [
       "<IPython.core.display.HTML object>"
      ]
     },
     "metadata": {},
     "output_type": "display_data"
    },
    {
     "data": {
      "text/html": [
       " View run <strong style=\"color:#cdcd00\">run_ld_256_ep_25_td_1</strong> at: <a href='https://wandb.ai/ahmadjaved97/dcgan-t1/runs/run_ld_256_ep_25_td_1_20250120_162756' target=\"_blank\">https://wandb.ai/ahmadjaved97/dcgan-t1/runs/run_ld_256_ep_25_td_1_20250120_162756</a><br> View project at: <a href='https://wandb.ai/ahmadjaved97/dcgan-t1' target=\"_blank\">https://wandb.ai/ahmadjaved97/dcgan-t1</a><br>Synced 5 W&B file(s), 0 media file(s), 0 artifact file(s) and 50 other file(s)"
      ],
      "text/plain": [
       "<IPython.core.display.HTML object>"
      ]
     },
     "metadata": {},
     "output_type": "display_data"
    },
    {
     "data": {
      "text/html": [
       "Find logs at: <code>./wandb/run-20250120_162756-run_ld_256_ep_25_td_1_20250120_162756/logs</code>"
      ],
      "text/plain": [
       "<IPython.core.display.HTML object>"
      ]
     },
     "metadata": {},
     "output_type": "display_data"
    }
   ],
   "source": [
    "# Train the model\n",
    "latent_dim = 256\n",
    "epochs = 25\n",
    "lr_g=0.0002\n",
    "lr_d=0.0004\n",
    "train_disc=1\n",
    "generator = Generator(latent_dim=latent_dim).to(device)\n",
    "generator.apply(weights_init)\n",
    "discriminator = Discriminator().to(device)\n",
    "discriminator.apply(weights_init)\n",
    "name=f\"run_ld_{latent_dim}_ep_{epochs}_td_{train_disc}\"\n",
    "output_folder=name\n",
    "label_smoothing=True\n",
    "train_dcgan(generator, discriminator, train_loader, latent_dim, epochs, device, lr_g=lr_g, lr_d=lr_d, project='dcgan-t1', name=name,\n",
    "           output_folder=name)"
   ]
  },
  {
   "cell_type": "markdown",
   "id": "9a39a3b1-8bec-48c6-8c43-4e42de444433",
   "metadata": {},
   "source": [
    "#### Here the discriminator is trained less frequently than the generator"
   ]
  },
  {
   "cell_type": "code",
   "execution_count": 12,
   "id": "b399d4b3-5782-440b-9a01-0f0cfe589135",
   "metadata": {},
   "outputs": [
    {
     "name": "stderr",
     "output_type": "stream",
     "text": [
      "\u001b[34m\u001b[1mwandb\u001b[0m: Using wandb-core as the SDK backend.  Please refer to https://wandb.me/wandb-core for more information.\n",
      "\u001b[34m\u001b[1mwandb\u001b[0m: Currently logged in as: \u001b[33mahmadjaved97\u001b[0m. Use \u001b[1m`wandb login --relogin`\u001b[0m to force relogin\n"
     ]
    },
    {
     "data": {
      "text/html": [
       "Tracking run with wandb version 0.19.1"
      ],
      "text/plain": [
       "<IPython.core.display.HTML object>"
      ]
     },
     "metadata": {},
     "output_type": "display_data"
    },
    {
     "data": {
      "text/html": [
       "Run data is saved locally in <code>/home/user/javeda1/MA-INF-4308-Lab-Vision-Systems/Assignment-6/wandb/run-20250120_164319-run_ld_200_ep_25_td_2_20250120_164317</code>"
      ],
      "text/plain": [
       "<IPython.core.display.HTML object>"
      ]
     },
     "metadata": {},
     "output_type": "display_data"
    },
    {
     "data": {
      "text/html": [
       "Syncing run <strong><a href='https://wandb.ai/ahmadjaved97/dcgan-t2/runs/run_ld_200_ep_25_td_2_20250120_164317' target=\"_blank\">run_ld_200_ep_25_td_2</a></strong> to <a href='https://wandb.ai/ahmadjaved97/dcgan-t2' target=\"_blank\">Weights & Biases</a> (<a href='https://wandb.me/developer-guide' target=\"_blank\">docs</a>)<br>"
      ],
      "text/plain": [
       "<IPython.core.display.HTML object>"
      ]
     },
     "metadata": {},
     "output_type": "display_data"
    },
    {
     "data": {
      "text/html": [
       " View project at <a href='https://wandb.ai/ahmadjaved97/dcgan-t2' target=\"_blank\">https://wandb.ai/ahmadjaved97/dcgan-t2</a>"
      ],
      "text/plain": [
       "<IPython.core.display.HTML object>"
      ]
     },
     "metadata": {},
     "output_type": "display_data"
    },
    {
     "data": {
      "text/html": [
       " View run at <a href='https://wandb.ai/ahmadjaved97/dcgan-t2/runs/run_ld_200_ep_25_td_2_20250120_164317' target=\"_blank\">https://wandb.ai/ahmadjaved97/dcgan-t2/runs/run_ld_200_ep_25_td_2_20250120_164317</a>"
      ],
      "text/plain": [
       "<IPython.core.display.HTML object>"
      ]
     },
     "metadata": {},
     "output_type": "display_data"
    },
    {
     "name": "stderr",
     "output_type": "stream",
     "text": [
      "Epoch 1/25: 100%|█████████████████████████████████████████| 229/229 [00:18<00:00, 12.13it/s]\n",
      "Epoch 2/25: 100%|█████████████████████████████████████████| 229/229 [00:16<00:00, 13.59it/s]\n",
      "Epoch 3/25: 100%|█████████████████████████████████████████| 229/229 [00:19<00:00, 11.69it/s]\n",
      "Epoch 4/25: 100%|█████████████████████████████████████████| 229/229 [00:19<00:00, 11.87it/s]\n",
      "Epoch 5/25: 100%|█████████████████████████████████████████| 229/229 [00:17<00:00, 13.37it/s]\n",
      "Epoch 6/25: 100%|█████████████████████████████████████████| 229/229 [00:20<00:00, 11.07it/s]\n",
      "Epoch 7/25: 100%|█████████████████████████████████████████| 229/229 [00:18<00:00, 12.11it/s]\n",
      "Epoch 8/25: 100%|█████████████████████████████████████████| 229/229 [00:19<00:00, 11.73it/s]\n",
      "Epoch 9/25: 100%|█████████████████████████████████████████| 229/229 [00:20<00:00, 11.32it/s]\n",
      "Epoch 10/25: 100%|████████████████████████████████████████| 229/229 [00:18<00:00, 12.68it/s]\n",
      "Epoch 11/25: 100%|████████████████████████████████████████| 229/229 [00:18<00:00, 12.53it/s]\n",
      "Epoch 12/25: 100%|████████████████████████████████████████| 229/229 [00:17<00:00, 13.28it/s]\n",
      "Epoch 13/25: 100%|████████████████████████████████████████| 229/229 [00:20<00:00, 11.10it/s]\n",
      "Epoch 14/25: 100%|████████████████████████████████████████| 229/229 [00:17<00:00, 13.45it/s]\n",
      "Epoch 15/25: 100%|████████████████████████████████████████| 229/229 [00:09<00:00, 23.12it/s]\n",
      "Epoch 16/25: 100%|████████████████████████████████████████| 229/229 [00:19<00:00, 11.46it/s]\n",
      "Epoch 17/25: 100%|████████████████████████████████████████| 229/229 [00:09<00:00, 23.09it/s]\n",
      "Epoch 18/25: 100%|████████████████████████████████████████| 229/229 [00:12<00:00, 18.77it/s]\n",
      "Epoch 19/25: 100%|████████████████████████████████████████| 229/229 [00:14<00:00, 15.72it/s]\n",
      "Epoch 20/25: 100%|████████████████████████████████████████| 229/229 [00:18<00:00, 12.53it/s]\n",
      "Epoch 21/25: 100%|████████████████████████████████████████| 229/229 [00:11<00:00, 19.46it/s]\n",
      "Epoch 22/25: 100%|████████████████████████████████████████| 229/229 [00:09<00:00, 23.57it/s]\n",
      "Epoch 23/25: 100%|████████████████████████████████████████| 229/229 [00:09<00:00, 23.01it/s]\n",
      "Epoch 24/25: 100%|████████████████████████████████████████| 229/229 [00:09<00:00, 22.91it/s]\n",
      "Epoch 25/25: 100%|████████████████████████████████████████| 229/229 [00:10<00:00, 22.57it/s]\n"
     ]
    },
    {
     "data": {
      "text/html": [],
      "text/plain": [
       "<IPython.core.display.HTML object>"
      ]
     },
     "metadata": {},
     "output_type": "display_data"
    },
    {
     "data": {
      "text/html": [
       "<br>    <style><br>        .wandb-row {<br>            display: flex;<br>            flex-direction: row;<br>            flex-wrap: wrap;<br>            justify-content: flex-start;<br>            width: 100%;<br>        }<br>        .wandb-col {<br>            display: flex;<br>            flex-direction: column;<br>            flex-basis: 100%;<br>            flex: 1;<br>            padding: 10px;<br>        }<br>    </style><br><div class=\"wandb-row\"><div class=\"wandb-col\"><h3>Run history:</h3><br/><table class=\"wandb\"><tr><td>Discriminator Loss</td><td>█▄▅▄▄▄▃▃▄▃▂▂▃▂▂▂▂▂▂▂▁▁▁▁▁</td></tr><tr><td>FID Score</td><td>▇█▇▇▇▆▆▆▅▅▅▄▄▅▄▃▂▃▂▂▁▁▁▂▁</td></tr><tr><td>Generator Loss</td><td>█▄▃▃▃▂▃▃▁▂▁▂▂▃▃▄▄▄▄▄▃▄▅▅▅</td></tr><tr><td>Learning Rate Discriminator</td><td>█████████▃▃▃▃▃▃▃▃▃▃▁▁▁▁▁▁</td></tr><tr><td>Learning Rate Generator</td><td>█████████▃▃▃▃▃▃▃▃▃▃▁▁▁▁▁▁</td></tr></table><br/></div><div class=\"wandb-col\"><h3>Run summary:</h3><br/><table class=\"wandb\"><tr><td>Discriminator Loss</td><td>0.39584</td></tr><tr><td>FID Score</td><td>131.54034</td></tr><tr><td>Generator Loss</td><td>4.15331</td></tr><tr><td>Learning Rate Discriminator</td><td>0.0001</td></tr><tr><td>Learning Rate Generator</td><td>5e-05</td></tr></table><br/></div></div>"
      ],
      "text/plain": [
       "<IPython.core.display.HTML object>"
      ]
     },
     "metadata": {},
     "output_type": "display_data"
    },
    {
     "data": {
      "text/html": [
       " View run <strong style=\"color:#cdcd00\">run_ld_200_ep_25_td_2</strong> at: <a href='https://wandb.ai/ahmadjaved97/dcgan-t2/runs/run_ld_200_ep_25_td_2_20250120_164317' target=\"_blank\">https://wandb.ai/ahmadjaved97/dcgan-t2/runs/run_ld_200_ep_25_td_2_20250120_164317</a><br> View project at: <a href='https://wandb.ai/ahmadjaved97/dcgan-t2' target=\"_blank\">https://wandb.ai/ahmadjaved97/dcgan-t2</a><br>Synced 5 W&B file(s), 0 media file(s), 0 artifact file(s) and 50 other file(s)"
      ],
      "text/plain": [
       "<IPython.core.display.HTML object>"
      ]
     },
     "metadata": {},
     "output_type": "display_data"
    },
    {
     "data": {
      "text/html": [
       "Find logs at: <code>./wandb/run-20250120_164319-run_ld_200_ep_25_td_2_20250120_164317/logs</code>"
      ],
      "text/plain": [
       "<IPython.core.display.HTML object>"
      ]
     },
     "metadata": {},
     "output_type": "display_data"
    }
   ],
   "source": [
    "# Train the model\n",
    "latent_dim = 200\n",
    "epochs = 25\n",
    "lr_g=0.0002\n",
    "lr_d=0.0004\n",
    "train_disc=2\n",
    "generator = Generator(latent_dim=latent_dim).to(device)\n",
    "generator.apply(weights_init)\n",
    "discriminator = Discriminator().to(device)\n",
    "discriminator.apply(weights_init)\n",
    "name=f\"run_ld_{latent_dim}_ep_{epochs}_td_{train_disc}\"\n",
    "output_folder=name\n",
    "label_smoothing=True\n",
    "train_dcgan(generator, discriminator, train_loader, latent_dim, epochs, device, lr_g=lr_g, lr_d=lr_d, project='dcgan-t2', name=name,\n",
    "           output_folder=name, label_smoothing=label_smoothing)"
   ]
  },
  {
   "cell_type": "code",
   "execution_count": 13,
   "id": "01a83ad9-3919-4971-a1ed-df22e4fef211",
   "metadata": {},
   "outputs": [
    {
     "data": {
      "text/html": [
       "Tracking run with wandb version 0.19.1"
      ],
      "text/plain": [
       "<IPython.core.display.HTML object>"
      ]
     },
     "metadata": {},
     "output_type": "display_data"
    },
    {
     "data": {
      "text/html": [
       "Run data is saved locally in <code>/home/user/javeda1/MA-INF-4308-Lab-Vision-Systems/Assignment-6/wandb/run-20250120_171128-run_ld_200_ep_35_td_2_20250120_171128</code>"
      ],
      "text/plain": [
       "<IPython.core.display.HTML object>"
      ]
     },
     "metadata": {},
     "output_type": "display_data"
    },
    {
     "data": {
      "text/html": [
       "Syncing run <strong><a href='https://wandb.ai/ahmadjaved97/dcgan-t2/runs/run_ld_200_ep_35_td_2_20250120_171128' target=\"_blank\">run_ld_200_ep_35_td_2</a></strong> to <a href='https://wandb.ai/ahmadjaved97/dcgan-t2' target=\"_blank\">Weights & Biases</a> (<a href='https://wandb.me/developer-guide' target=\"_blank\">docs</a>)<br>"
      ],
      "text/plain": [
       "<IPython.core.display.HTML object>"
      ]
     },
     "metadata": {},
     "output_type": "display_data"
    },
    {
     "data": {
      "text/html": [
       " View project at <a href='https://wandb.ai/ahmadjaved97/dcgan-t2' target=\"_blank\">https://wandb.ai/ahmadjaved97/dcgan-t2</a>"
      ],
      "text/plain": [
       "<IPython.core.display.HTML object>"
      ]
     },
     "metadata": {},
     "output_type": "display_data"
    },
    {
     "data": {
      "text/html": [
       " View run at <a href='https://wandb.ai/ahmadjaved97/dcgan-t2/runs/run_ld_200_ep_35_td_2_20250120_171128' target=\"_blank\">https://wandb.ai/ahmadjaved97/dcgan-t2/runs/run_ld_200_ep_35_td_2_20250120_171128</a>"
      ],
      "text/plain": [
       "<IPython.core.display.HTML object>"
      ]
     },
     "metadata": {},
     "output_type": "display_data"
    },
    {
     "name": "stderr",
     "output_type": "stream",
     "text": [
      "Epoch 1/35: 100%|█████████████████████████████████████████| 229/229 [00:33<00:00,  6.83it/s]\n",
      "Epoch 2/35: 100%|█████████████████████████████████████████| 229/229 [00:10<00:00, 21.76it/s]\n",
      "Epoch 3/35: 100%|█████████████████████████████████████████| 229/229 [00:10<00:00, 22.38it/s]\n",
      "Epoch 4/35: 100%|█████████████████████████████████████████| 229/229 [00:10<00:00, 21.81it/s]\n",
      "Epoch 5/35: 100%|█████████████████████████████████████████| 229/229 [00:10<00:00, 22.19it/s]\n",
      "Epoch 6/35: 100%|█████████████████████████████████████████| 229/229 [00:13<00:00, 16.68it/s]\n",
      "Epoch 7/35: 100%|█████████████████████████████████████████| 229/229 [00:11<00:00, 20.12it/s]\n",
      "Epoch 8/35: 100%|█████████████████████████████████████████| 229/229 [00:18<00:00, 12.61it/s]\n",
      "Epoch 9/35: 100%|█████████████████████████████████████████| 229/229 [00:18<00:00, 12.41it/s]\n",
      "Epoch 10/35: 100%|████████████████████████████████████████| 229/229 [00:17<00:00, 13.47it/s]\n",
      "Epoch 11/35: 100%|████████████████████████████████████████| 229/229 [00:18<00:00, 12.56it/s]\n",
      "Epoch 12/35: 100%|████████████████████████████████████████| 229/229 [00:18<00:00, 12.60it/s]\n",
      "Epoch 13/35: 100%|████████████████████████████████████████| 229/229 [00:18<00:00, 12.48it/s]\n",
      "Epoch 14/35: 100%|████████████████████████████████████████| 229/229 [00:17<00:00, 13.26it/s]\n",
      "Epoch 15/35: 100%|████████████████████████████████████████| 229/229 [00:19<00:00, 11.63it/s]\n",
      "Epoch 16/35: 100%|████████████████████████████████████████| 229/229 [00:17<00:00, 13.43it/s]\n",
      "Epoch 17/35: 100%|████████████████████████████████████████| 229/229 [00:17<00:00, 12.80it/s]\n",
      "Epoch 18/35: 100%|████████████████████████████████████████| 229/229 [00:17<00:00, 12.91it/s]\n",
      "Epoch 19/35: 100%|████████████████████████████████████████| 229/229 [00:17<00:00, 12.92it/s]\n",
      "Epoch 20/35: 100%|████████████████████████████████████████| 229/229 [00:18<00:00, 12.30it/s]\n",
      "Epoch 21/35: 100%|████████████████████████████████████████| 229/229 [00:18<00:00, 12.51it/s]\n",
      "Epoch 22/35: 100%|████████████████████████████████████████| 229/229 [00:21<00:00, 10.75it/s]\n",
      "Epoch 23/35: 100%|████████████████████████████████████████| 229/229 [00:10<00:00, 22.51it/s]\n",
      "Epoch 24/35: 100%|████████████████████████████████████████| 229/229 [00:09<00:00, 23.38it/s]\n",
      "Epoch 25/35: 100%|████████████████████████████████████████| 229/229 [00:10<00:00, 22.48it/s]\n",
      "Epoch 26/35: 100%|████████████████████████████████████████| 229/229 [00:16<00:00, 14.09it/s]\n",
      "Epoch 27/35: 100%|████████████████████████████████████████| 229/229 [00:10<00:00, 22.41it/s]\n",
      "Epoch 28/35: 100%|████████████████████████████████████████| 229/229 [00:10<00:00, 22.67it/s]\n",
      "Epoch 29/35: 100%|████████████████████████████████████████| 229/229 [00:09<00:00, 23.69it/s]\n",
      "Epoch 30/35: 100%|████████████████████████████████████████| 229/229 [00:10<00:00, 22.69it/s]\n",
      "Epoch 31/35: 100%|████████████████████████████████████████| 229/229 [00:11<00:00, 20.13it/s]\n",
      "Epoch 32/35: 100%|████████████████████████████████████████| 229/229 [00:10<00:00, 21.55it/s]\n",
      "Epoch 33/35: 100%|████████████████████████████████████████| 229/229 [00:10<00:00, 22.65it/s]\n",
      "Epoch 34/35: 100%|████████████████████████████████████████| 229/229 [00:10<00:00, 22.59it/s]\n",
      "Epoch 35/35: 100%|████████████████████████████████████████| 229/229 [00:09<00:00, 23.24it/s]\n"
     ]
    },
    {
     "data": {
      "text/html": [],
      "text/plain": [
       "<IPython.core.display.HTML object>"
      ]
     },
     "metadata": {},
     "output_type": "display_data"
    },
    {
     "data": {
      "text/html": [
       "<br>    <style><br>        .wandb-row {<br>            display: flex;<br>            flex-direction: row;<br>            flex-wrap: wrap;<br>            justify-content: flex-start;<br>            width: 100%;<br>        }<br>        .wandb-col {<br>            display: flex;<br>            flex-direction: column;<br>            flex-basis: 100%;<br>            flex: 1;<br>            padding: 10px;<br>        }<br>    </style><br><div class=\"wandb-row\"><div class=\"wandb-col\"><h3>Run history:</h3><br/><table class=\"wandb\"><tr><td>Discriminator Loss</td><td>█▅▄▃▄▃▄▃▃▃▂▂▂▂▂▂▂▂▃▂▁▁▁▁▁▁▁▁▁▁▁▁▁▁▁</td></tr><tr><td>FID Score</td><td>███▇▇▆▆▆▆▅▄▄▄▅▃▃▃▃▃▃▂▂▂▂▂▁▂▁▁▁▁▁▁▁▁</td></tr><tr><td>Generator Loss</td><td>▅▃▄▄▂▂▁▂▂▂▂▃▃▃▄▄▄▅▃▄▄▄▄▅▅▆▆▆▆▆▇▇███</td></tr><tr><td>Learning Rate Discriminator</td><td>█████████▄▄▄▄▄▄▄▄▄▄▂▂▂▂▂▂▂▂▂▂▁▁▁▁▁▁</td></tr><tr><td>Learning Rate Generator</td><td>█████████▄▄▄▄▄▄▄▄▄▄▂▂▂▂▂▂▂▂▂▂▁▁▁▁▁▁</td></tr></table><br/></div><div class=\"wandb-col\"><h3>Run summary:</h3><br/><table class=\"wandb\"><tr><td>Discriminator Loss</td><td>0.36023</td></tr><tr><td>FID Score</td><td>114.40671</td></tr><tr><td>Generator Loss</td><td>4.60616</td></tr><tr><td>Learning Rate Discriminator</td><td>5e-05</td></tr><tr><td>Learning Rate Generator</td><td>3e-05</td></tr></table><br/></div></div>"
      ],
      "text/plain": [
       "<IPython.core.display.HTML object>"
      ]
     },
     "metadata": {},
     "output_type": "display_data"
    },
    {
     "data": {
      "text/html": [
       " View run <strong style=\"color:#cdcd00\">run_ld_200_ep_35_td_2</strong> at: <a href='https://wandb.ai/ahmadjaved97/dcgan-t2/runs/run_ld_200_ep_35_td_2_20250120_171128' target=\"_blank\">https://wandb.ai/ahmadjaved97/dcgan-t2/runs/run_ld_200_ep_35_td_2_20250120_171128</a><br> View project at: <a href='https://wandb.ai/ahmadjaved97/dcgan-t2' target=\"_blank\">https://wandb.ai/ahmadjaved97/dcgan-t2</a><br>Synced 5 W&B file(s), 0 media file(s), 0 artifact file(s) and 70 other file(s)"
      ],
      "text/plain": [
       "<IPython.core.display.HTML object>"
      ]
     },
     "metadata": {},
     "output_type": "display_data"
    },
    {
     "data": {
      "text/html": [
       "Find logs at: <code>./wandb/run-20250120_171128-run_ld_200_ep_35_td_2_20250120_171128/logs</code>"
      ],
      "text/plain": [
       "<IPython.core.display.HTML object>"
      ]
     },
     "metadata": {},
     "output_type": "display_data"
    }
   ],
   "source": [
    "# Train the model\n",
    "latent_dim = 200\n",
    "epochs = 35\n",
    "lr_g=0.0002\n",
    "lr_d=0.0004\n",
    "train_disc=2\n",
    "generator = Generator(latent_dim=latent_dim).to(device)\n",
    "generator.apply(weights_init)\n",
    "discriminator = Discriminator().to(device)\n",
    "discriminator.apply(weights_init)\n",
    "name=f\"run_ld_{latent_dim}_ep_{epochs}_td_{train_disc}\"\n",
    "output_folder=name\n",
    "label_smoothing=True\n",
    "train_dcgan(generator, discriminator, train_loader, latent_dim, epochs, device, lr_g=lr_g, lr_d=lr_d, project='dcgan-t2', name=name,\n",
    "           output_folder=name, label_smoothing=label_smoothing)"
   ]
  },
  {
   "cell_type": "code",
   "execution_count": 14,
   "id": "d03eb3af-e5ce-4f0c-b856-d06cb8a9f5b2",
   "metadata": {},
   "outputs": [
    {
     "data": {
      "text/html": [
       "Tracking run with wandb version 0.19.1"
      ],
      "text/plain": [
       "<IPython.core.display.HTML object>"
      ]
     },
     "metadata": {},
     "output_type": "display_data"
    },
    {
     "data": {
      "text/html": [
       "Run data is saved locally in <code>/home/user/javeda1/MA-INF-4308-Lab-Vision-Systems/Assignment-6/wandb/run-20250120_184345-run_ld_200_ep_40_td_3_20250120_184345</code>"
      ],
      "text/plain": [
       "<IPython.core.display.HTML object>"
      ]
     },
     "metadata": {},
     "output_type": "display_data"
    },
    {
     "data": {
      "text/html": [
       "Syncing run <strong><a href='https://wandb.ai/ahmadjaved97/dcgan-t2/runs/run_ld_200_ep_40_td_3_20250120_184345' target=\"_blank\">run_ld_200_ep_40_td_3</a></strong> to <a href='https://wandb.ai/ahmadjaved97/dcgan-t2' target=\"_blank\">Weights & Biases</a> (<a href='https://wandb.me/developer-guide' target=\"_blank\">docs</a>)<br>"
      ],
      "text/plain": [
       "<IPython.core.display.HTML object>"
      ]
     },
     "metadata": {},
     "output_type": "display_data"
    },
    {
     "data": {
      "text/html": [
       " View project at <a href='https://wandb.ai/ahmadjaved97/dcgan-t2' target=\"_blank\">https://wandb.ai/ahmadjaved97/dcgan-t2</a>"
      ],
      "text/plain": [
       "<IPython.core.display.HTML object>"
      ]
     },
     "metadata": {},
     "output_type": "display_data"
    },
    {
     "data": {
      "text/html": [
       " View run at <a href='https://wandb.ai/ahmadjaved97/dcgan-t2/runs/run_ld_200_ep_40_td_3_20250120_184345' target=\"_blank\">https://wandb.ai/ahmadjaved97/dcgan-t2/runs/run_ld_200_ep_40_td_3_20250120_184345</a>"
      ],
      "text/plain": [
       "<IPython.core.display.HTML object>"
      ]
     },
     "metadata": {},
     "output_type": "display_data"
    },
    {
     "name": "stderr",
     "output_type": "stream",
     "text": [
      "Epoch 1/40: 100%|█████████████████████████████████████████| 229/229 [01:28<00:00,  2.59it/s]\n",
      "Epoch 2/40: 100%|█████████████████████████████████████████| 229/229 [00:09<00:00, 25.00it/s]\n",
      "Epoch 3/40: 100%|█████████████████████████████████████████| 229/229 [00:08<00:00, 25.80it/s]\n",
      "Epoch 4/40: 100%|█████████████████████████████████████████| 229/229 [00:09<00:00, 24.47it/s]\n",
      "Epoch 5/40: 100%|█████████████████████████████████████████| 229/229 [00:09<00:00, 24.77it/s]\n",
      "Epoch 6/40: 100%|█████████████████████████████████████████| 229/229 [00:09<00:00, 25.32it/s]\n",
      "Epoch 7/40: 100%|█████████████████████████████████████████| 229/229 [00:09<00:00, 25.12it/s]\n",
      "Epoch 8/40: 100%|█████████████████████████████████████████| 229/229 [00:08<00:00, 25.73it/s]\n",
      "Epoch 9/40: 100%|█████████████████████████████████████████| 229/229 [00:08<00:00, 25.94it/s]\n",
      "Epoch 10/40: 100%|████████████████████████████████████████| 229/229 [00:09<00:00, 24.76it/s]\n",
      "Epoch 11/40: 100%|████████████████████████████████████████| 229/229 [00:09<00:00, 25.06it/s]\n",
      "Epoch 12/40: 100%|████████████████████████████████████████| 229/229 [00:09<00:00, 24.44it/s]\n",
      "Epoch 13/40: 100%|████████████████████████████████████████| 229/229 [00:09<00:00, 25.26it/s]\n",
      "Epoch 14/40: 100%|████████████████████████████████████████| 229/229 [00:09<00:00, 25.27it/s]\n",
      "Epoch 15/40: 100%|████████████████████████████████████████| 229/229 [00:09<00:00, 24.81it/s]\n",
      "Epoch 16/40: 100%|████████████████████████████████████████| 229/229 [00:09<00:00, 25.12it/s]\n",
      "Epoch 17/40: 100%|████████████████████████████████████████| 229/229 [00:08<00:00, 25.93it/s]\n",
      "Epoch 18/40: 100%|████████████████████████████████████████| 229/229 [00:09<00:00, 24.86it/s]\n",
      "Epoch 19/40: 100%|████████████████████████████████████████| 229/229 [00:09<00:00, 25.11it/s]\n",
      "Epoch 20/40: 100%|████████████████████████████████████████| 229/229 [00:09<00:00, 24.90it/s]\n",
      "Epoch 21/40: 100%|████████████████████████████████████████| 229/229 [00:09<00:00, 25.24it/s]\n",
      "Epoch 22/40: 100%|████████████████████████████████████████| 229/229 [00:08<00:00, 25.95it/s]\n",
      "Epoch 23/40: 100%|████████████████████████████████████████| 229/229 [00:09<00:00, 25.04it/s]\n",
      "Epoch 24/40: 100%|████████████████████████████████████████| 229/229 [00:09<00:00, 25.39it/s]\n",
      "Epoch 25/40: 100%|████████████████████████████████████████| 229/229 [00:09<00:00, 24.88it/s]\n",
      "Epoch 26/40: 100%|████████████████████████████████████████| 229/229 [00:09<00:00, 24.66it/s]\n",
      "Epoch 27/40: 100%|████████████████████████████████████████| 229/229 [00:09<00:00, 24.92it/s]\n",
      "Epoch 28/40: 100%|████████████████████████████████████████| 229/229 [00:09<00:00, 25.12it/s]\n",
      "Epoch 29/40: 100%|████████████████████████████████████████| 229/229 [00:08<00:00, 26.11it/s]\n",
      "Epoch 30/40: 100%|████████████████████████████████████████| 229/229 [00:09<00:00, 24.85it/s]\n",
      "Epoch 31/40: 100%|████████████████████████████████████████| 229/229 [00:09<00:00, 25.15it/s]\n",
      "Epoch 32/40: 100%|████████████████████████████████████████| 229/229 [00:10<00:00, 21.99it/s]\n",
      "Epoch 33/40: 100%|████████████████████████████████████████| 229/229 [00:09<00:00, 23.21it/s]\n",
      "Epoch 34/40: 100%|████████████████████████████████████████| 229/229 [00:09<00:00, 25.25it/s]\n",
      "Epoch 35/40: 100%|████████████████████████████████████████| 229/229 [00:08<00:00, 25.91it/s]\n",
      "Epoch 36/40: 100%|████████████████████████████████████████| 229/229 [00:09<00:00, 25.07it/s]\n",
      "Epoch 37/40: 100%|████████████████████████████████████████| 229/229 [00:09<00:00, 24.60it/s]\n",
      "Epoch 38/40: 100%|████████████████████████████████████████| 229/229 [00:09<00:00, 25.03it/s]\n",
      "Epoch 39/40: 100%|████████████████████████████████████████| 229/229 [00:09<00:00, 24.59it/s]\n",
      "Epoch 40/40: 100%|████████████████████████████████████████| 229/229 [00:09<00:00, 24.78it/s]\n"
     ]
    },
    {
     "data": {
      "text/html": [],
      "text/plain": [
       "<IPython.core.display.HTML object>"
      ]
     },
     "metadata": {},
     "output_type": "display_data"
    },
    {
     "data": {
      "text/html": [
       "<br>    <style><br>        .wandb-row {<br>            display: flex;<br>            flex-direction: row;<br>            flex-wrap: wrap;<br>            justify-content: flex-start;<br>            width: 100%;<br>        }<br>        .wandb-col {<br>            display: flex;<br>            flex-direction: column;<br>            flex-basis: 100%;<br>            flex: 1;<br>            padding: 10px;<br>        }<br>    </style><br><div class=\"wandb-row\"><div class=\"wandb-col\"><h3>Run history:</h3><br/><table class=\"wandb\"><tr><td>Discriminator Loss</td><td>█▄▄▄▄▄▃▃▄▃▂▂▂▂▂▂▂▂▂▂▁▁▁▁▁▁▁▁▁▁▁▁▁▁▁▁▁▁▁▁</td></tr><tr><td>FID Score</td><td>█▇█▇▆▆▇▇▆▅▄▄▄▄▄▃▅▃▃▂▂▂▂▂▂▂▁▂▂▁▁▂▁▁▁▁▁▁▁▁</td></tr><tr><td>Generator Loss</td><td>▅▄▃▃▃▃▂▂▁▂▁▂▂▃▃▄▄▄▄▄▄▅▅▅▅▆▆▆▆▆▆▇▇▇██████</td></tr><tr><td>Learning Rate Discriminator</td><td>█████████▄▄▄▄▄▄▄▄▄▄▂▂▂▂▂▂▂▂▂▂▁▁▁▁▁▁▁▁▁▁▁</td></tr><tr><td>Learning Rate Generator</td><td>█████████▄▄▄▄▄▄▄▄▄▄▂▂▂▂▂▂▂▂▂▂▁▁▁▁▁▁▁▁▁▁▁</td></tr></table><br/></div><div class=\"wandb-col\"><h3>Run summary:</h3><br/><table class=\"wandb\"><tr><td>Discriminator Loss</td><td>0.36391</td></tr><tr><td>FID Score</td><td>126.20745</td></tr><tr><td>Generator Loss</td><td>4.75845</td></tr><tr><td>Learning Rate Discriminator</td><td>3e-05</td></tr><tr><td>Learning Rate Generator</td><td>1e-05</td></tr></table><br/></div></div>"
      ],
      "text/plain": [
       "<IPython.core.display.HTML object>"
      ]
     },
     "metadata": {},
     "output_type": "display_data"
    },
    {
     "data": {
      "text/html": [
       " View run <strong style=\"color:#cdcd00\">run_ld_200_ep_40_td_3</strong> at: <a href='https://wandb.ai/ahmadjaved97/dcgan-t2/runs/run_ld_200_ep_40_td_3_20250120_184345' target=\"_blank\">https://wandb.ai/ahmadjaved97/dcgan-t2/runs/run_ld_200_ep_40_td_3_20250120_184345</a><br> View project at: <a href='https://wandb.ai/ahmadjaved97/dcgan-t2' target=\"_blank\">https://wandb.ai/ahmadjaved97/dcgan-t2</a><br>Synced 5 W&B file(s), 0 media file(s), 0 artifact file(s) and 80 other file(s)"
      ],
      "text/plain": [
       "<IPython.core.display.HTML object>"
      ]
     },
     "metadata": {},
     "output_type": "display_data"
    },
    {
     "data": {
      "text/html": [
       "Find logs at: <code>./wandb/run-20250120_184345-run_ld_200_ep_40_td_3_20250120_184345/logs</code>"
      ],
      "text/plain": [
       "<IPython.core.display.HTML object>"
      ]
     },
     "metadata": {},
     "output_type": "display_data"
    }
   ],
   "source": [
    "# Train the model\n",
    "latent_dim = 200\n",
    "epochs = 40\n",
    "lr_g=0.0002\n",
    "lr_d=0.0004\n",
    "train_disc=3\n",
    "generator = Generator(latent_dim=latent_dim).to(device)\n",
    "generator.apply(weights_init)\n",
    "discriminator = Discriminator().to(device)\n",
    "discriminator.apply(weights_init)\n",
    "name=f\"run_ld_{latent_dim}_ep_{epochs}_td_{train_disc}\"\n",
    "output_folder=name\n",
    "label_smoothing=True\n",
    "train_dcgan(generator, discriminator, train_loader, latent_dim, epochs, device, lr_g=lr_g, lr_d=lr_d, project='dcgan-t2', name=name,\n",
    "           output_folder=name, label_smoothing=label_smoothing)"
   ]
  },
  {
   "cell_type": "code",
   "execution_count": 15,
   "id": "5371cb33-e942-4a53-9333-cbee012e8e58",
   "metadata": {},
   "outputs": [
    {
     "data": {
      "text/html": [
       "Tracking run with wandb version 0.19.1"
      ],
      "text/plain": [
       "<IPython.core.display.HTML object>"
      ]
     },
     "metadata": {},
     "output_type": "display_data"
    },
    {
     "data": {
      "text/html": [
       "Run data is saved locally in <code>/home/user/javeda1/MA-INF-4308-Lab-Vision-Systems/Assignment-6/wandb/run-20250120_191402-run_ld_200_ep_40_td_3_no_ls_20250120_191402</code>"
      ],
      "text/plain": [
       "<IPython.core.display.HTML object>"
      ]
     },
     "metadata": {},
     "output_type": "display_data"
    },
    {
     "data": {
      "text/html": [
       "Syncing run <strong><a href='https://wandb.ai/ahmadjaved97/dcgan-t2/runs/run_ld_200_ep_40_td_3_no_ls_20250120_191402' target=\"_blank\">run_ld_200_ep_40_td_3_no_ls</a></strong> to <a href='https://wandb.ai/ahmadjaved97/dcgan-t2' target=\"_blank\">Weights & Biases</a> (<a href='https://wandb.me/developer-guide' target=\"_blank\">docs</a>)<br>"
      ],
      "text/plain": [
       "<IPython.core.display.HTML object>"
      ]
     },
     "metadata": {},
     "output_type": "display_data"
    },
    {
     "data": {
      "text/html": [
       " View project at <a href='https://wandb.ai/ahmadjaved97/dcgan-t2' target=\"_blank\">https://wandb.ai/ahmadjaved97/dcgan-t2</a>"
      ],
      "text/plain": [
       "<IPython.core.display.HTML object>"
      ]
     },
     "metadata": {},
     "output_type": "display_data"
    },
    {
     "data": {
      "text/html": [
       " View run at <a href='https://wandb.ai/ahmadjaved97/dcgan-t2/runs/run_ld_200_ep_40_td_3_no_ls_20250120_191402' target=\"_blank\">https://wandb.ai/ahmadjaved97/dcgan-t2/runs/run_ld_200_ep_40_td_3_no_ls_20250120_191402</a>"
      ],
      "text/plain": [
       "<IPython.core.display.HTML object>"
      ]
     },
     "metadata": {},
     "output_type": "display_data"
    },
    {
     "name": "stderr",
     "output_type": "stream",
     "text": [
      "Epoch 1/40: 100%|█████████████████████████████████████████| 229/229 [00:57<00:00,  3.95it/s]\n",
      "Epoch 2/40: 100%|█████████████████████████████████████████| 229/229 [00:09<00:00, 24.20it/s]\n",
      "Epoch 3/40: 100%|█████████████████████████████████████████| 229/229 [00:09<00:00, 24.72it/s]\n",
      "Epoch 4/40: 100%|█████████████████████████████████████████| 229/229 [00:09<00:00, 24.68it/s]\n",
      "Epoch 5/40: 100%|█████████████████████████████████████████| 229/229 [00:09<00:00, 23.16it/s]\n",
      "Epoch 6/40: 100%|█████████████████████████████████████████| 229/229 [00:09<00:00, 24.88it/s]\n",
      "Epoch 7/40: 100%|█████████████████████████████████████████| 229/229 [00:09<00:00, 24.24it/s]\n",
      "Epoch 8/40: 100%|█████████████████████████████████████████| 229/229 [00:09<00:00, 24.13it/s]\n",
      "Epoch 9/40: 100%|█████████████████████████████████████████| 229/229 [00:09<00:00, 23.39it/s]\n",
      "Epoch 10/40: 100%|████████████████████████████████████████| 229/229 [00:09<00:00, 25.37it/s]\n",
      "Epoch 11/40: 100%|████████████████████████████████████████| 229/229 [00:08<00:00, 25.50it/s]\n",
      "Epoch 12/40: 100%|████████████████████████████████████████| 229/229 [00:09<00:00, 25.28it/s]\n",
      "Epoch 13/40: 100%|████████████████████████████████████████| 229/229 [00:09<00:00, 25.27it/s]\n",
      "Epoch 14/40: 100%|████████████████████████████████████████| 229/229 [00:08<00:00, 25.97it/s]\n",
      "Epoch 15/40: 100%|████████████████████████████████████████| 229/229 [00:09<00:00, 23.97it/s]\n",
      "Epoch 16/40: 100%|████████████████████████████████████████| 229/229 [00:09<00:00, 25.14it/s]\n",
      "Epoch 17/40: 100%|████████████████████████████████████████| 229/229 [00:09<00:00, 24.92it/s]\n",
      "Epoch 18/40: 100%|████████████████████████████████████████| 229/229 [00:08<00:00, 25.49it/s]\n",
      "Epoch 19/40: 100%|████████████████████████████████████████| 229/229 [00:09<00:00, 24.76it/s]\n",
      "Epoch 20/40: 100%|████████████████████████████████████████| 229/229 [00:09<00:00, 24.93it/s]\n",
      "Epoch 21/40: 100%|████████████████████████████████████████| 229/229 [00:09<00:00, 25.14it/s]\n",
      "Epoch 22/40: 100%|████████████████████████████████████████| 229/229 [00:09<00:00, 24.55it/s]\n",
      "Epoch 23/40: 100%|████████████████████████████████████████| 229/229 [00:09<00:00, 25.25it/s]\n",
      "Epoch 24/40: 100%|████████████████████████████████████████| 229/229 [00:09<00:00, 24.56it/s]\n",
      "Epoch 25/40: 100%|████████████████████████████████████████| 229/229 [00:09<00:00, 25.13it/s]\n",
      "Epoch 26/40: 100%|████████████████████████████████████████| 229/229 [00:09<00:00, 24.96it/s]\n",
      "Epoch 27/40: 100%|████████████████████████████████████████| 229/229 [00:09<00:00, 24.72it/s]\n",
      "Epoch 28/40: 100%|████████████████████████████████████████| 229/229 [00:09<00:00, 25.14it/s]\n",
      "Epoch 29/40: 100%|████████████████████████████████████████| 229/229 [00:09<00:00, 24.91it/s]\n",
      "Epoch 30/40: 100%|████████████████████████████████████████| 229/229 [00:09<00:00, 24.46it/s]\n",
      "Epoch 31/40: 100%|████████████████████████████████████████| 229/229 [00:09<00:00, 24.62it/s]\n",
      "Epoch 32/40: 100%|████████████████████████████████████████| 229/229 [00:08<00:00, 25.76it/s]\n",
      "Epoch 33/40: 100%|████████████████████████████████████████| 229/229 [00:09<00:00, 25.23it/s]\n",
      "Epoch 34/40: 100%|████████████████████████████████████████| 229/229 [00:09<00:00, 24.79it/s]\n",
      "Epoch 35/40: 100%|████████████████████████████████████████| 229/229 [00:09<00:00, 25.40it/s]\n",
      "Epoch 36/40: 100%|████████████████████████████████████████| 229/229 [00:09<00:00, 23.67it/s]\n",
      "Epoch 37/40: 100%|████████████████████████████████████████| 229/229 [00:10<00:00, 20.84it/s]\n",
      "Epoch 38/40: 100%|████████████████████████████████████████| 229/229 [00:11<00:00, 20.62it/s]\n",
      "Epoch 39/40: 100%|████████████████████████████████████████| 229/229 [00:11<00:00, 20.77it/s]\n",
      "Epoch 40/40: 100%|████████████████████████████████████████| 229/229 [00:11<00:00, 20.62it/s]\n"
     ]
    },
    {
     "data": {
      "text/html": [],
      "text/plain": [
       "<IPython.core.display.HTML object>"
      ]
     },
     "metadata": {},
     "output_type": "display_data"
    },
    {
     "data": {
      "text/html": [
       "<br>    <style><br>        .wandb-row {<br>            display: flex;<br>            flex-direction: row;<br>            flex-wrap: wrap;<br>            justify-content: flex-start;<br>            width: 100%;<br>        }<br>        .wandb-col {<br>            display: flex;<br>            flex-direction: column;<br>            flex-basis: 100%;<br>            flex: 1;<br>            padding: 10px;<br>        }<br>    </style><br><div class=\"wandb-row\"><div class=\"wandb-col\"><h3>Run history:</h3><br/><table class=\"wandb\"><tr><td>Discriminator Loss</td><td>█▄▄▅▅▄▃▄▃▄▂▂▂▃▂▂▂▂▃▁▁▁▁▁▁▁▁▃▁▁▁▁▁▁▁▁▁▁▁▁</td></tr><tr><td>FID Score</td><td>▇█▆▇▆▆▅▆▅▄▄▄▄▃▃▃▃▃▂▂▂▂▂▁▂▂▁▁▂▁▁▁▁▁▁▁▁▁▁▁</td></tr><tr><td>Generator Loss</td><td>▅▃▃▂▁▁▁▁▂▁▁▂▃▂▂▃▃▄▃▄▃▄▄▄▅▅▆▅▅▆▅▆▆▆▆▇▇▇██</td></tr><tr><td>Learning Rate Discriminator</td><td>█████████▄▄▄▄▄▄▄▄▄▄▂▂▂▂▂▂▂▂▂▂▁▁▁▁▁▁▁▁▁▁▁</td></tr><tr><td>Learning Rate Generator</td><td>█████████▄▄▄▄▄▄▄▄▄▄▂▂▂▂▂▂▂▂▂▂▁▁▁▁▁▁▁▁▁▁▁</td></tr></table><br/></div><div class=\"wandb-col\"><h3>Run summary:</h3><br/><table class=\"wandb\"><tr><td>Discriminator Loss</td><td>0.02002</td></tr><tr><td>FID Score</td><td>126.90077</td></tr><tr><td>Generator Loss</td><td>7.44185</td></tr><tr><td>Learning Rate Discriminator</td><td>3e-05</td></tr><tr><td>Learning Rate Generator</td><td>1e-05</td></tr></table><br/></div></div>"
      ],
      "text/plain": [
       "<IPython.core.display.HTML object>"
      ]
     },
     "metadata": {},
     "output_type": "display_data"
    },
    {
     "data": {
      "text/html": [
       " View run <strong style=\"color:#cdcd00\">run_ld_200_ep_40_td_3_no_ls</strong> at: <a href='https://wandb.ai/ahmadjaved97/dcgan-t2/runs/run_ld_200_ep_40_td_3_no_ls_20250120_191402' target=\"_blank\">https://wandb.ai/ahmadjaved97/dcgan-t2/runs/run_ld_200_ep_40_td_3_no_ls_20250120_191402</a><br> View project at: <a href='https://wandb.ai/ahmadjaved97/dcgan-t2' target=\"_blank\">https://wandb.ai/ahmadjaved97/dcgan-t2</a><br>Synced 5 W&B file(s), 0 media file(s), 0 artifact file(s) and 80 other file(s)"
      ],
      "text/plain": [
       "<IPython.core.display.HTML object>"
      ]
     },
     "metadata": {},
     "output_type": "display_data"
    },
    {
     "data": {
      "text/html": [
       "Find logs at: <code>./wandb/run-20250120_191402-run_ld_200_ep_40_td_3_no_ls_20250120_191402/logs</code>"
      ],
      "text/plain": [
       "<IPython.core.display.HTML object>"
      ]
     },
     "metadata": {},
     "output_type": "display_data"
    }
   ],
   "source": [
    "# Train the model\n",
    "latent_dim = 200\n",
    "epochs = 40\n",
    "lr_g=0.0002\n",
    "lr_d=0.0004\n",
    "train_disc=3\n",
    "generator = Generator(latent_dim=latent_dim).to(device)\n",
    "generator.apply(weights_init)\n",
    "discriminator = Discriminator().to(device)\n",
    "discriminator.apply(weights_init)\n",
    "name=f\"run_ld_{latent_dim}_ep_{epochs}_td_{train_disc}_no_ls\"\n",
    "output_folder=name\n",
    "label_smoothing=False\n",
    "train_dcgan(generator, discriminator, train_loader, latent_dim, epochs, device, lr_g=lr_g, lr_d=lr_d, project='dcgan-t2', name=name,\n",
    "           output_folder=name, label_smoothing=label_smoothing)"
   ]
  },
  {
   "cell_type": "code",
   "execution_count": null,
   "id": "69ea6814-7aaf-44db-8439-08f33a7363df",
   "metadata": {},
   "outputs": [],
   "source": []
  }
 ],
 "metadata": {
  "kernelspec": {
   "display_name": "Python 3 (ipykernel)",
   "language": "python",
   "name": "python3"
  },
  "language_info": {
   "codemirror_mode": {
    "name": "ipython",
    "version": 3
   },
   "file_extension": ".py",
   "mimetype": "text/x-python",
   "name": "python",
   "nbconvert_exporter": "python",
   "pygments_lexer": "ipython3",
   "version": "3.12.7"
  }
 },
 "nbformat": 4,
 "nbformat_minor": 5
}
